{
 "cells": [
  {
   "cell_type": "markdown",
   "metadata": {},
   "source": [
    "# Multi-Scenario MORDM Holistic Approach\n",
    "This Jupyter Notebook uses the model developed by [Ciullo et al. (2019)](https://scholar.google.com/citations?hl=en&user=fDZCVVYAAAAJ&view_op=list_works&sortby=pubdate#d=gs_md_cita-d&u=%2Fcitations%3Fview_op%3Dview_citation%26hl%3Den%26user%3DfDZCVVYAAAAJ%26sortby%3Dpubdate%26citation_for_view%3DfDZCVVYAAAAJ%3AqjMakFHDy7sC%26tzom%3D-120) and the [ema_workbench by Jan Kwakkel](https://github.com/quaquel/EMAworkbench) to evaluate possible strategies for the Gelderland province to increase its resilience to flood risk. It is specifically aimed towards finding optimal strategies from a holistic point of view, namely decreasing damages and casualties all along the Ijssel River. By conducting this analysis, the province of Gelderland, as well as other actors, are provided with optimal policies which serve a common goal. "
   ]
  },
  {
   "cell_type": "markdown",
   "metadata": {},
   "source": [
    "## Imports"
   ]
  },
  {
   "cell_type": "code",
   "execution_count": 1,
   "metadata": {},
   "outputs": [
    {
     "name": "stderr",
     "output_type": "stream",
     "text": [
      "E:\\Anaconda\\lib\\site-packages\\statsmodels\\tools\\_testing.py:19: FutureWarning: pandas.util.testing is deprecated. Use the functions in the public API at pandas.testing instead.\n",
      "  import pandas.util.testing as tm\n"
     ]
    },
    {
     "data": {
      "text/plain": [
       "<Logger EMA (DEBUG)>"
      ]
     },
     "execution_count": 1,
     "metadata": {},
     "output_type": "execute_result"
    }
   ],
   "source": [
    "# Standard Imports\n",
    "import pandas as pd\n",
    "import numpy as np\n",
    "import seaborn as sns\n",
    "import matplotlib.pyplot as plt\n",
    "import copy\n",
    "import networkx as nx\n",
    "import scipy as sp\n",
    "import plotly.express as px\n",
    "\n",
    "\n",
    "# Workbench Imports\n",
    "from ema_workbench import (Model, MultiprocessingEvaluator, ScalarOutcome, RealParameter, IntegerParameter, CategoricalParameter, optimize, Scenario, Constant, ema_logging,perform_experiments, SequentialEvaluator, Policy)\n",
    "from ema_workbench.em_framework.optimization import EpsilonProgress, HyperVolume\n",
    "from ema_workbench.util import ema_logging, save_results, load_results\n",
    "from ema_workbench.em_framework.samplers import sample_levers, sample_uncertainties\n",
    "from ema_workbench.em_framework.evaluators import LHS, SOBOL, MORRIS, SequentialEvaluator, BaseEvaluator\n",
    "from ema_workbench.analysis import parcoords, prim\n",
    "\n",
    "\n",
    "ema_logging.log_to_stderr(ema_logging.INFO)\n"
   ]
  },
  {
   "cell_type": "markdown",
   "metadata": {},
   "source": [
    "## General Model Setup\n",
    "Here, we specify the numbers for the experiment and optimization runs to perform."
   ]
  },
  {
   "cell_type": "code",
   "execution_count": 2,
   "metadata": {},
   "outputs": [],
   "source": [
    "# Number of nfes for the Model\n",
    "n_nfe = 20000\n",
    "\n",
    "#Number of scenarios for the deep uncertainty evaluation of promising scenarios\n",
    "n_scenarios = 1000\n",
    "\n",
    "#Path to the reference scenarios to use for MORDM\n",
    "path_noaction = \"../results/10000Scenarios_NoAction_PF1.tar.gz\""
   ]
  },
  {
   "cell_type": "markdown",
   "metadata": {},
   "source": [
    "## Model Specification"
   ]
  },
  {
   "cell_type": "code",
   "execution_count": 3,
   "metadata": {},
   "outputs": [],
   "source": [
    "# Model Imports\n",
    "from dike_model_function import DikeNetwork\n",
    "from problem_formulation import get_model_for_problem_formulation\n",
    "\n",
    "dike_model, planning_steps = get_model_for_problem_formulation(2)\n",
    "uncertainties = copy.deepcopy(dike_model.uncertainties)\n",
    "levers = copy.deepcopy(dike_model.levers)"
   ]
  },
  {
   "cell_type": "markdown",
   "metadata": {},
   "source": [
    "## Specify reference scenario\n",
    "Firstly, we load the results from the open exploration with no action taken to select a reference scenario that shows the most expected number of deaths. This, so-to-say worst-case scenario is then used to find the optimal policies using the MORDM approach.  "
   ]
  },
  {
   "cell_type": "code",
   "execution_count": 4,
   "metadata": {},
   "outputs": [
    {
     "name": "stderr",
     "output_type": "stream",
     "text": [
      "[MainProcess/INFO] results loaded succesfully from C:\\Users\\Samuel\\Desktop\\Studies\\EPA\\EPA1361 - Model Based Decision Making\\model-based-decision-making\\results\\10000Scenarios_NoAction_PF1.tar.gz\n"
     ]
    }
   ],
   "source": [
    "experiments, outcomes = load_results(path_noaction)"
   ]
  },
  {
   "cell_type": "code",
   "execution_count": 5,
   "metadata": {},
   "outputs": [],
   "source": [
    "outcomes_df = pd.DataFrame(outcomes)\n",
    "\n",
    "#Get index of worst scenario\n",
    "index_wc = outcomes_df.sort_values(\"Expected Number of Deaths\").tail(1).index\n",
    "experiment_wc = experiments.iloc[index_wc]\n",
    "reference_scenarios = [Scenario(f\"{index}\", **row) for index, row in experiment_wc.iloc[0:,0:19].iterrows()]"
   ]
  },
  {
   "cell_type": "markdown",
   "metadata": {},
   "source": [
    "## Run Optimization on Worst Case Reference Scenario"
   ]
  },
  {
   "cell_type": "code",
   "execution_count": 6,
   "metadata": {},
   "outputs": [
    {
     "name": "stderr",
     "output_type": "stream",
     "text": [
      "[MainProcess/INFO] pool started\n",
      "[MainProcess/INFO] generation 0: 0/20000 nfe\n",
      "[MainProcess/INFO] generation 5: 497/20000 nfe\n",
      "[MainProcess/INFO] generation 10: 993/20000 nfe\n",
      "[MainProcess/INFO] generation 15: 1491/20000 nfe\n",
      "[MainProcess/INFO] generation 20: 1990/20000 nfe\n",
      "[MainProcess/INFO] generation 25: 2490/20000 nfe\n",
      "[MainProcess/INFO] generation 30: 2989/20000 nfe\n",
      "[MainProcess/INFO] generation 35: 3484/20000 nfe\n",
      "[MainProcess/INFO] generation 40: 3982/20000 nfe\n",
      "[MainProcess/INFO] generation 45: 4480/20000 nfe\n",
      "[MainProcess/INFO] generation 50: 4980/20000 nfe\n",
      "[MainProcess/INFO] generation 55: 5479/20000 nfe\n",
      "[MainProcess/INFO] generation 60: 5978/20000 nfe\n",
      "[MainProcess/INFO] generation 65: 6478/20000 nfe\n",
      "[MainProcess/INFO] generation 70: 6975/20000 nfe\n",
      "[MainProcess/INFO] generation 75: 7473/20000 nfe\n",
      "[MainProcess/INFO] generation 80: 7971/20000 nfe\n",
      "[MainProcess/INFO] generation 85: 8467/20000 nfe\n",
      "[MainProcess/INFO] generation 90: 8964/20000 nfe\n",
      "[MainProcess/INFO] generation 95: 9461/20000 nfe\n",
      "[MainProcess/INFO] generation 100: 9957/20000 nfe\n",
      "[MainProcess/INFO] generation 105: 19799/20000 nfe\n",
      "[MainProcess/INFO] optimization completed, found 601 solutions\n",
      "[MainProcess/INFO] terminating pool\n"
     ]
    }
   ],
   "source": [
    "ema_logging.log_to_stderr(ema_logging.INFO)\n",
    "\n",
    "convergence_metrics = [EpsilonProgress()]\n",
    "\n",
    "with MultiprocessingEvaluator(dike_model) as evaluator:\n",
    "    results_epsilon_0_1 = evaluator.optimize(nfe=n_nfe, epsilons=[0.1,]*len(dike_model.outcomes), \n",
    "    reference = reference_scenarios[0], convergence= convergence_metrics, searchover=\"levers\")"
   ]
  },
  {
   "cell_type": "code",
   "execution_count": 7,
   "metadata": {},
   "outputs": [],
   "source": [
    "results, convergence = results_epsilon_0_1"
   ]
  },
  {
   "cell_type": "code",
   "execution_count": 8,
   "metadata": {},
   "outputs": [
    {
     "name": "stderr",
     "output_type": "stream",
     "text": [
      "[MainProcess/INFO] results saved successfully to C:\\Users\\Samuel\\Desktop\\Studies\\EPA\\EPA1361 - Model Based Decision Making\\model-based-decision-making\\results\\20000nfe_BaseCaseMORDM_Holistic.tar.gz\n"
     ]
    }
   ],
   "source": [
    "# Save Results\n",
    "save_results(results_epsilon_0_1, \"../results/\"+str(n_nfe)+\"nfe_BaseCaseMORDM_Holistic.tar.gz\")"
   ]
  },
  {
   "cell_type": "code",
   "execution_count": 6,
   "metadata": {},
   "outputs": [
    {
     "name": "stderr",
     "output_type": "stream",
     "text": [
      "[MainProcess/INFO] results loaded succesfully from /Users/ricoherzog/OneDrive/Uni/2019-2020 WiSe Den Haag/Q4/EPA1361 Model Based Decision Making/05_Project/model-based-decision-making/results/5000nfe_BaseCaseMORDM.tar.gz\n"
     ]
    }
   ],
   "source": [
    "# Load Results\n",
    "results_epsilon_0_1 = load_results(\"../results/\"+str(n_nfe)+\"nfe_BaseCaseMORDM_Holistic.tar.gz\")"
   ]
  },
  {
   "cell_type": "code",
   "execution_count": 33,
   "metadata": {},
   "outputs": [
    {
     "name": "stderr",
     "output_type": "stream",
     "text": [
      "[MainProcess/INFO] results loaded succesfully from C:\\Users\\Samuel\\Desktop\\Studies\\EPA\\EPA1361 - Model Based Decision Making\\model-based-decision-making\\results\\20000nfe_BaseCaseMORDM_Holistic.tar.gz\n"
     ]
    }
   ],
   "source": [
    "# Load Results\n",
    "results_epsilon_0_1 = load_results(\"../results/\"+str(n_nfe)+\"nfe_BaseCaseMORDM_Holistic.tar.gz\")"
   ]
  },
  {
   "cell_type": "code",
   "execution_count": 38,
   "metadata": {},
   "outputs": [
    {
     "data": {
      "text/html": [
       "<div>\n",
       "<style scoped>\n",
       "    .dataframe tbody tr th:only-of-type {\n",
       "        vertical-align: middle;\n",
       "    }\n",
       "\n",
       "    .dataframe tbody tr th {\n",
       "        vertical-align: top;\n",
       "    }\n",
       "\n",
       "    .dataframe thead th {\n",
       "        text-align: right;\n",
       "    }\n",
       "</style>\n",
       "<table border=\"1\" class=\"dataframe\">\n",
       "  <thead>\n",
       "    <tr style=\"text-align: right;\">\n",
       "      <th></th>\n",
       "      <th>Expected Annual Damage</th>\n",
       "      <th>Dike Investment Costs</th>\n",
       "      <th>RfR Investment Costs</th>\n",
       "      <th>Evacuation Costs</th>\n",
       "      <th>Expected Number of Deaths</th>\n",
       "    </tr>\n",
       "  </thead>\n",
       "  <tbody>\n",
       "    <tr>\n",
       "      <th>0</th>\n",
       "      <td>3.241714e+05</td>\n",
       "      <td>5.960381e+08</td>\n",
       "      <td>146000000.0</td>\n",
       "      <td>0.000000</td>\n",
       "      <td>0.000194</td>\n",
       "    </tr>\n",
       "    <tr>\n",
       "      <th>1</th>\n",
       "      <td>0.000000e+00</td>\n",
       "      <td>4.921108e+08</td>\n",
       "      <td>176700000.0</td>\n",
       "      <td>0.000000</td>\n",
       "      <td>0.000000</td>\n",
       "    </tr>\n",
       "    <tr>\n",
       "      <th>2</th>\n",
       "      <td>4.440652e+06</td>\n",
       "      <td>6.128632e+08</td>\n",
       "      <td>0.0</td>\n",
       "      <td>192.935824</td>\n",
       "      <td>0.000936</td>\n",
       "    </tr>\n",
       "    <tr>\n",
       "      <th>3</th>\n",
       "      <td>2.082337e+06</td>\n",
       "      <td>3.774044e+08</td>\n",
       "      <td>297900000.0</td>\n",
       "      <td>55.507126</td>\n",
       "      <td>0.000900</td>\n",
       "    </tr>\n",
       "    <tr>\n",
       "      <th>4</th>\n",
       "      <td>8.890527e+06</td>\n",
       "      <td>3.465869e+08</td>\n",
       "      <td>213300000.0</td>\n",
       "      <td>0.000000</td>\n",
       "      <td>0.006615</td>\n",
       "    </tr>\n",
       "    <tr>\n",
       "      <th>...</th>\n",
       "      <td>...</td>\n",
       "      <td>...</td>\n",
       "      <td>...</td>\n",
       "      <td>...</td>\n",
       "      <td>...</td>\n",
       "    </tr>\n",
       "    <tr>\n",
       "      <th>596</th>\n",
       "      <td>4.882412e+07</td>\n",
       "      <td>2.522258e+08</td>\n",
       "      <td>146000000.0</td>\n",
       "      <td>2638.856632</td>\n",
       "      <td>0.007059</td>\n",
       "    </tr>\n",
       "    <tr>\n",
       "      <th>597</th>\n",
       "      <td>1.047279e+09</td>\n",
       "      <td>1.477884e+08</td>\n",
       "      <td>84600000.0</td>\n",
       "      <td>28791.432094</td>\n",
       "      <td>0.332219</td>\n",
       "    </tr>\n",
       "    <tr>\n",
       "      <th>598</th>\n",
       "      <td>9.439675e+08</td>\n",
       "      <td>9.096742e+07</td>\n",
       "      <td>230600000.0</td>\n",
       "      <td>0.000000</td>\n",
       "      <td>0.853233</td>\n",
       "    </tr>\n",
       "    <tr>\n",
       "      <th>599</th>\n",
       "      <td>1.903722e+08</td>\n",
       "      <td>1.479054e+08</td>\n",
       "      <td>333100000.0</td>\n",
       "      <td>0.000000</td>\n",
       "      <td>0.214746</td>\n",
       "    </tr>\n",
       "    <tr>\n",
       "      <th>600</th>\n",
       "      <td>3.938801e+07</td>\n",
       "      <td>1.850690e+08</td>\n",
       "      <td>515700000.0</td>\n",
       "      <td>0.000000</td>\n",
       "      <td>0.032670</td>\n",
       "    </tr>\n",
       "  </tbody>\n",
       "</table>\n",
       "<p>601 rows × 5 columns</p>\n",
       "</div>"
      ],
      "text/plain": [
       "     Expected Annual Damage  Dike Investment Costs  RfR Investment Costs  \\\n",
       "0              3.241714e+05           5.960381e+08           146000000.0   \n",
       "1              0.000000e+00           4.921108e+08           176700000.0   \n",
       "2              4.440652e+06           6.128632e+08                   0.0   \n",
       "3              2.082337e+06           3.774044e+08           297900000.0   \n",
       "4              8.890527e+06           3.465869e+08           213300000.0   \n",
       "..                      ...                    ...                   ...   \n",
       "596            4.882412e+07           2.522258e+08           146000000.0   \n",
       "597            1.047279e+09           1.477884e+08            84600000.0   \n",
       "598            9.439675e+08           9.096742e+07           230600000.0   \n",
       "599            1.903722e+08           1.479054e+08           333100000.0   \n",
       "600            3.938801e+07           1.850690e+08           515700000.0   \n",
       "\n",
       "     Evacuation Costs  Expected Number of Deaths  \n",
       "0            0.000000                   0.000194  \n",
       "1            0.000000                   0.000000  \n",
       "2          192.935824                   0.000936  \n",
       "3           55.507126                   0.000900  \n",
       "4            0.000000                   0.006615  \n",
       "..                ...                        ...  \n",
       "596       2638.856632                   0.007059  \n",
       "597      28791.432094                   0.332219  \n",
       "598          0.000000                   0.853233  \n",
       "599          0.000000                   0.214746  \n",
       "600          0.000000                   0.032670  \n",
       "\n",
       "[601 rows x 5 columns]"
      ]
     },
     "execution_count": 38,
     "metadata": {},
     "output_type": "execute_result"
    }
   ],
   "source": [
    "results_epsilon_0_1[0].iloc[:,31::]"
   ]
  },
  {
   "cell_type": "markdown",
   "metadata": {},
   "source": [
    "### Check for Convergence\n",
    "The optimization algorithm is now checked for convergence based on the Epsilon progress "
   ]
  },
  {
   "cell_type": "code",
   "execution_count": 9,
   "metadata": {},
   "outputs": [
    {
     "data": {
      "image/png": "[encoded data removed]",
      "text/plain": [
       "<Figure size 432x288 with 1 Axes>"
      ]
     },
     "metadata": {
      "needs_background": "light"
     },
     "output_type": "display_data"
    }
   ],
   "source": [
    "results, convergence = results_epsilon_0_1\n",
    "convergence = pd.DataFrame(convergence)\n",
    "plt.plot(convergence.nfe, convergence.epsilon_progress)\n",
    "plt.ylabel('$\\epsilon$ progress')\n",
    "plt.xlabel('nfe')\n",
    "plt.show()"
   ]
  },
  {
   "cell_type": "markdown",
   "metadata": {},
   "source": [
    "## Show tradeoffs in the resulting optimal policies\n",
    "The algorithm found 440 solutions. "
   ]
  },
  {
   "cell_type": "code",
   "execution_count": 40,
   "metadata": {},
   "outputs": [
    {
     "data": {
      "application/vnd.plotly.v1+json": {
       "config": {
        "plotlyServerURL": "https://plot.ly"
       },
       "data": [
        {
         "dimensions": [
          {
           "label": "Expected Annual Damage",
           "values": [
            324171.41573116364,
            0,
            4440652.24848666,
            2082337.485968688,
            8890526.828364216,
            904481.3057849888,
            12931199.720537258,
            11936447.201374246,
            2001049.852144581,
            39716626.30893026,
            36626820.79776388,
            1200134.2890301824,
            13256305.207452098,
            152995302.08547232,
            38497198.440396056,
            12534127.244360665,
            8023862.422555095,
            45994585.4768512,
            377767981.19925153,
            5880792.5220203325,
            2574810.7667418905,
            350608716.30157787,
            12931199.720537258,
            2668352.834807205,
            95785772.87809366,
            713689.517146502,
            29875054.499807816,
            14156136.507372314,
            103294573.10309124,
            24803273.15054666,
            7012182.812121246,
            2728502474.566328,
            414126007.2061719,
            3949022.120113028,
            977901445.9305172,
            122351491.82069406,
            27309365.232901245,
            7028475.614655096,
            124789966.59861252,
            2671561072.574527,
            421390044.187877,
            0,
            205675708.61540803,
            507406717.8503543,
            362442567.3833517,
            119693351.33913074,
            3325945106.139164,
            987382207.7683313,
            4901530.75431392,
            5559021.8047801135,
            1239166557.651912,
            512188414.7734438,
            465226815.18130964,
            317962752.2267391,
            2963020.72009481,
            37811540.94416249,
            72121111.59837748,
            2900385980.774719,
            205225846.79943025,
            2785893756.2468853,
            1790412569.1038246,
            1162927940.2740483,
            224874196.21919623,
            367941583.6446725,
            2826189567.317557,
            1869980172.470913,
            278145566.08565295,
            548766360.7815568,
            428554496.7249652,
            210586521.802758,
            1118732689.0599294,
            233022932.6743416,
            2898918087.6026435,
            0,
            950278020.2754768,
            12539586.112492096,
            182063419.61167717,
            561787950.4932791,
            1913046607.6495247,
            30922836.26461707,
            3344176743.6646924,
            3017684046.80255,
            924980589.6866727,
            1925926554.6076,
            6186172.620705677,
            2928596733.1363,
            2434507250.9705505,
            1850529490.5681047,
            975567032.1363323,
            1136617498.6888185,
            816546887.5004383,
            3162646659.630741,
            155205802.55053037,
            1749831453.7816114,
            11626484.304945907,
            114892326.10515478,
            951342644.0567086,
            198043644.38272685,
            1230691412.6769679,
            2745004081.401832,
            943388221.9445908,
            121351464.34290177,
            137564525.69452477,
            3480819244.881922,
            31021295.79272418,
            2859471683.437775,
            1994230262.1736085,
            1034893084.7148926,
            803881769.1261266,
            2973999447.210985,
            3497007550.3606315,
            1167077889.2129352,
            3399272850.704542,
            2895986181.7339053,
            1387946315.9740586,
            91587907.43934187,
            1661225179.3277144,
            2994499524.8873005,
            1317714312.3030546,
            466780273.4005046,
            219744566.43841383,
            622546092.6103567,
            3596612817.7919087,
            3539949144.031625,
            1836344241.4219449,
            1151646018.92586,
            151924439.90668812,
            3397062880.207665,
            383434376.8872048,
            3466692995.205311,
            179398643.07022312,
            968462724.7628863,
            2566137124.7692,
            362664474.5643833,
            3530822786.8075523,
            3101762082.313149,
            3212193979.8670363,
            3377343427.8182306,
            2123088583.1539586,
            3278107672.2559447,
            152683535.76247746,
            1169624045.9206452,
            2570995053.4610405,
            215750750.27420345,
            732301020.152516,
            2301890234.103971,
            235244307.36632407,
            2451265459.1676,
            3437091600.665278,
            676942556.624005,
            3101762082.313149,
            644555898.181602,
            2643121601.120125,
            1463924695.8157706,
            2701192350.668552,
            3084256289.575793,
            4628894793.008843,
            4726305124.679875,
            3268174053.560461,
            1819270513.0029106,
            3180350774.1038394,
            925374140.9002812,
            131928350.10434052,
            4092943617.296668,
            8747072.435603825,
            653690260.9126307,
            2510492235.9431987,
            2498040551.502902,
            2469253342.197884,
            228892339.1403709,
            2414248099.783328,
            1838375637.929089,
            3232251555.253384,
            610033648.6217327,
            4845192122.985373,
            4845192122.985373,
            2854684073.9528265,
            2218766165.030604,
            2454541734.558289,
            178477008.2958535,
            4177738253.573837,
            5038735330.107094,
            869933957.3507168,
            3119487812.2073827,
            3266697640.8586235,
            1800298167.0085022,
            2453173899.233405,
            2435781063.3653736,
            3451215194.181009,
            3208372422.2294016,
            1575806033.5685315,
            4093673214.537694,
            2551827396.044697,
            2028367841.3267863,
            4726331892.465437,
            928525415.7364094,
            3249604838.244253,
            908881213.9336537,
            2674955139.836214,
            4483596552.12836,
            2363875921.7406225,
            4855671716.060611,
            4767910282.667093,
            3574785850.2972813,
            3541469999.7626905,
            3437091600.665278,
            3349247668.327249,
            2570560195.9369273,
            0,
            1773113754.7924852,
            2803052709.3279986,
            3710685879.8581033,
            706015216.5711215,
            2658660832.78079,
            1090785415.3465102,
            778567485.9422532,
            1704719284.4348063,
            2544712186.791409,
            3454996213.552643,
            2687406824.2765107,
            3574785850.2972813,
            690241192.5829778,
            3454996213.552643,
            2592294970.198347,
            2458921762.1812353,
            1080928269.2684646,
            2074616973.38578,
            194466766.9303409,
            4726331892.465437,
            2511946578.0473323,
            2271440351.85609,
            5038735330.107094,
            3508134427.322587,
            5167523932.308254,
            935747250.7530416,
            4258562379.070128,
            2024443398.859098,
            2592294970.198347,
            2532183668.764764,
            110171762.749663,
            3514090018.991466,
            2271440351.85609,
            1786969012.632367,
            4118057678.9188337,
            2435781063.3653736,
            3574785850.2972813,
            2469015730.194997,
            1925428623.019896,
            3397871261.963969,
            1048560820.242089,
            1035596566.8602567,
            188495840.61284798,
            4845192122.985373,
            3808743188.319753,
            3646937105.5860953,
            3466692995.205311,
            720144458.1261129,
            2532183668.764764,
            2804378020.9690113,
            2225186873.4103165,
            4092943617.296668,
            3042612716.770261,
            3483869939.2169514,
            3440266039.451021,
            2278279908.7783904,
            4855671716.060611,
            610033648.6217327,
            2627463432.6356997,
            2153182154.532165,
            2571198718.420336,
            5038735330.107094,
            569557114.464653,
            702062357.3258277,
            2793015158.5741496,
            1755050010.8917475,
            796887156.1861137,
            1020334805.621585,
            949694129.6044221,
            4128596203.296308,
            3596612817.7919087,
            5144590004.246551,
            4767910282.667093,
            1186406647.6252654,
            2373747166.3087893,
            56323377.62723667,
            0,
            796887156.1861137,
            2545033867.387466,
            49658255.15505397,
            2705922727.5997076,
            3358295730.7716866,
            1179080256.7458124,
            3380489.0032159095,
            376632340.00605637,
            941000837.9438744,
            1028810622.08694,
            1823568773.8113706,
            382730710.6674735,
            1695892363.453186,
            3021499470.2658143,
            5038735330.107094,
            5167523932.308254,
            152407171.94254646,
            2910275790.4355364,
            1620808256.6640556,
            973260211.8483461,
            1148546753.0472062,
            2747478859.8413444,
            160173727.89519727,
            398874543.15124017,
            984090155.2367301,
            281044796.3735195,
            840994931.7340636,
            2998704449.2146645,
            921018374.424462,
            426948627.05852985,
            333330229.7705171,
            2757499150.966228,
            3017090062.934914,
            230263669.09147,
            698648815.1731125,
            959064324.6632028,
            166149449.90579724,
            1948440757.2379427,
            8747072.435603825,
            963765319.4897476,
            198529069.68643716,
            70773835.39635941,
            3441141467.439869,
            169506244.0236248,
            900960061.3175927,
            418597684.45389694,
            2666456387.9034953,
            233755504.92523757,
            93284870.00315285,
            668695092.7610111,
            259774595.6439969,
            4020479.09026688,
            2772156433.129845,
            3710685879.8581033,
            324171.41573116364,
            2091946689.1934843,
            3037692431.0119514,
            1023279415.9272614,
            291744051.37391543,
            523741870.7201597,
            1800298167.0085022,
            917188965.6521508,
            1869980172.470913,
            1260513348.2103474,
            6032683.18838298,
            585848555.9429209,
            1192184466.578902,
            2585919211.571053,
            877497008.4447142,
            1356129741.6147218,
            999962325.4749905,
            441825272.26109886,
            839614674.2905147,
            1005824109.2201766,
            1111451032.6040967,
            2661188807.4732194,
            447973190.03472686,
            1103462395.6781738,
            1111089601.357901,
            1189397235.5548465,
            948772071.7441982,
            183870619.6394444,
            986907178.3940506,
            208388771.9327601,
            79509068.76540275,
            12607088.857034173,
            187661925.15208843,
            162743245.79800934,
            979660988.5043957,
            209861186.83383197,
            24359463.61195624,
            187500391.16692588,
            12931199.720537258,
            2034588.0185437668,
            66647034.31085348,
            194831611.31946895,
            0,
            2610005.334287087,
            2421873314.5466857,
            2793015158.5741496,
            2628335251.0811357,
            2950675918.888593,
            4495294124.2266245,
            2559588969.511516,
            2908689904.975215,
            5167523932.308254,
            1311828696.1032922,
            6561107.620145427,
            2606147488.670109,
            2906379262.9726853,
            13405354.58024199,
            1081737937.3002882,
            267867393.87275928,
            756500045.9673611,
            41632272.90816678,
            6536594.093992002,
            772170288.4451329,
            1819484922.4141085,
            2024170401.7012625,
            658586449.4589406,
            208725165.04288524,
            2529444766.2706947,
            639441399.441742,
            1106809854.2000492,
            400782659.82471335,
            1803261988.5232296,
            491864064.81776935,
            49207447.10319926,
            331136303.91351986,
            1363426593.7361324,
            26485443.00338177,
            304646290.47172254,
            86836135.88787054,
            1172321288.8191404,
            460434140.93333405,
            631436233.1518893,
            1087348744.610222,
            1302516543.6830845,
            651501218.9065771,
            100006374.21073434,
            156484770.2486714,
            1046337257.5949504,
            3473160666.344812,
            1015792249.1689893,
            1082916904.9226966,
            1851041442.2011175,
            552968793.7808546,
            877299143.6947185,
            726187624.646962,
            2757005554.8745394,
            287604624.0932431,
            1823568773.8113706,
            2963020.72009481,
            2552336680.891965,
            15076233.6347315,
            3454996213.552643,
            966509418.9176109,
            921611525.5763396,
            29160752.547936864,
            1946776441.179264,
            3539949144.031625,
            192840551.1410239,
            62520360.6354537,
            1131434457.4583402,
            1034730276.6428967,
            921417405.9000232,
            552596728.4393189,
            1000445833.1939594,
            50455661.79299165,
            989120822.4483413,
            433723314.6301607,
            1118688699.7086208,
            1009402158.4499928,
            652958445.5234661,
            1150741147.2282162,
            131154096.96176721,
            94673088.05188784,
            44319536.131848,
            220285635.00868043,
            838514389.5910766,
            571140306.6770293,
            3085714670.611684,
            1126306504.2478604,
            997545381.9642912,
            153096217.81611866,
            998054867.0851127,
            380893580.99332535,
            423879002.7157815,
            6048032.131615252,
            13645730.807052258,
            23167418.7560723,
            0,
            2658660832.78079,
            4176661441.781229,
            3410782.426398384,
            3413308731.7382503,
            2511946578.0473323,
            1528854229.7417912,
            1599896503.785861,
            2202193416.607521,
            22576527.89571238,
            4205743057.8816657,
            1815904787.500916,
            3430459461.962244,
            4258562379.070128,
            3483869939.2169514,
            972427653.3628318,
            15539767.918855907,
            3535741758.046213,
            3451215194.181009,
            1431255701.5830636,
            773900296.2736652,
            2662219289.660395,
            3214353944.1354594,
            1993412831.339933,
            2868052666.5120964,
            103203357.44668835,
            790803138.885626,
            3541693261.128121,
            761946312.1916207,
            1824297324.4103804,
            1088584120.6214411,
            2603318347.243646,
            1136951880.1562753,
            1063939023.7811197,
            231306393.82126144,
            219903501.20507416,
            232033396.0477116,
            3458904129.275856,
            3158741235.4379396,
            2683017354.9017673,
            15025041.25625164,
            805685353.0315242,
            1461325802.5970368,
            1815904787.500916,
            894993004.4008064,
            2788765471.869241,
            3267727826.6859217,
            473183430.4240935,
            107426017.99638604,
            136151729.86397603,
            8155795.363471614,
            667075910.914937,
            1934031245.063555,
            546560550.7366824,
            3097457151.116259,
            320351330.85127985,
            2827921133.250025,
            907787290.9406196,
            1263581068.8351192,
            19444133.95125693,
            360398828.35580415,
            1869252288.328672,
            2736158.3810447184,
            34355147.15385675,
            2834302077.008627,
            1106809854.2000492,
            2810916555.5587363,
            363976504.04551816,
            424993055.48247135,
            3266697640.8586235,
            38497198.440396056,
            373476831.7561535,
            2982864357.911023,
            201747012.69832292,
            149616988.3804779,
            22025033.478047766,
            3007119971.3645864,
            191159461.60608992,
            500271707.96985215,
            436505962.14101845,
            1250867702.4974942,
            72683987.41785392,
            59374937.07926247,
            1087198904.5442998,
            974476747.5864855,
            409699296.9093503,
            639053960.8828328,
            717338.4194965527,
            10155157.467192948,
            994554210.0370574,
            8909774.173209457,
            192033611.8734693,
            171969566.05357194,
            915671160.1656929,
            10155157.467192948,
            134275865.78782293,
            246955947.37527987,
            1003620395.5974971,
            1233834072.871048,
            1059970155.7667867,
            197650183.70800552,
            909808651.4181104,
            283556353.4465167,
            895628831.6965189,
            1800810623.9985003,
            973119131.9849092,
            645033952.3698463,
            228457542.30462176,
            1163814453.1732852,
            1109303684.697299,
            974581281.6865324,
            913839972.6322516,
            942719792.4629494,
            1314749423.0199435,
            196292708.1287404,
            1315703346.6383994,
            35657712.62212331,
            405633023.41654193,
            972558660.177114,
            48824124.30315279,
            1047278937.5390989,
            943967474.7118804,
            190372198.39983773,
            39388005.54765722
           ]
          },
          {
           "label": "Dike Investment Costs",
           "values": [
            596038075.573737,
            492110756.37559336,
            612863150.9904143,
            377404409.9872017,
            346586927.69741434,
            375803204.5266529,
            350426669.2054602,
            360532483.1613537,
            376634407.55802166,
            334258342.53376096,
            243240243.11900157,
            398487580.15937495,
            271616559.16106087,
            210704901.10481477,
            275295541.55805105,
            384185338.6564938,
            490725012.5318999,
            234437831.19859144,
            214098437.48124188,
            557955184.3532819,
            444798966.8686453,
            243181605.49393877,
            378771011.0242623,
            309272434.23261034,
            372196115.04843,
            303259407.67236584,
            239312170.3416088,
            487481741.40645134,
            328760399.0461912,
            207993894.3531984,
            509450247.632879,
            175795630.77007726,
            176779556.32708693,
            513914418.54091394,
            179482768.1627048,
            217925770.28599668,
            266413501.61867127,
            360972042.1822511,
            305138734.40570825,
            177328250.3683789,
            219447468.73270133,
            318272383.8151728,
            107568855.99274053,
            212777792.9641592,
            184738827.85082453,
            335373854.5461397,
            126926697.52505778,
            134424883.05937096,
            444958064.2029757,
            262692472.926778,
            157315015.70541772,
            167281184.7192781,
            119949429.64422897,
            145717369.92359483,
            449015224.43309915,
            165633949.53832957,
            164301870.11078078,
            125177071.38480784,
            117859249.45358407,
            139752269.42907962,
            110417403.04551706,
            169375200.28222793,
            207896208.58022633,
            180303674.86089832,
            162091792.07082862,
            70638278.87976344,
            128510663.98867312,
            161931278.70074025,
            176313675.84399474,
            195169000.10652307,
            112450698.15539384,
            103764701.46848272,
            150116072.42620042,
            432208087.6564359,
            104431282.26592895,
            617878380.3719685,
            102085072.36566988,
            152481292.3426653,
            68588238.28569964,
            176572078.66264078,
            113183843.60575864,
            127311685.94274776,
            195480767.56245896,
            66526510.21335208,
            569957960.5981302,
            94452566.68108755,
            43605838.21022567,
            94404771.69852576,
            104988933.06230672,
            115811933.26037182,
            136972639.4110257,
            85366479.69085631,
            141759078.88612318,
            98810948.26734796,
            211666947.81339425,
            147711724.13962102,
            152454248.5468879,
            103764701.46848272,
            127695524.25910386,
            103303249.1000752,
            160560976.64253038,
            305485969.3236819,
            141339909.330599,
            75638526.60088281,
            153948347.19735548,
            132493592.08365837,
            88681575.57329373,
            122011947.12341121,
            128853690.08673604,
            116085960.85456105,
            57688654.23414315,
            41553641.95784432,
            73520427.60599552,
            111339597.88213448,
            99931179.95165087,
            138771469.0603013,
            30518832.761027627,
            75530159.85232347,
            118975899.77115951,
            129131933.75285035,
            119813208.69347218,
            135502284.66990685,
            73255514.43083505,
            83943645.29440226,
            48022427.33922428,
            126879001.20620644,
            167442357.26896358,
            92272738.82580002,
            200980391.97810724,
            14092235.304915495,
            118513686.09421209,
            55626382.50323384,
            58261762.51262028,
            89433583.83624218,
            6320800.309666242,
            72810338.4154039,
            53839304.59796696,
            39642595.51689799,
            61821704.53631321,
            87905803.64971545,
            153928226.12571186,
            55304952.4121666,
            6320800.309666242,
            108795771.775376,
            31530112.67088316,
            82670621.08681746,
            92013880.50074324,
            88382162.53833595,
            14092235.304915495,
            51188461.88447814,
            88782655.41589376,
            103585957.67743476,
            6320800.309666242,
            111233925.37385792,
            6320800.309666242,
            64679809.60307171,
            51271823.36810584,
            15063068.18035096,
            63819984.89492965,
            89394201.38414001,
            81934101.17127429,
            45290333.42457701,
            167486961.20825827,
            39261100.63171234,
            356302365.90630585,
            155493507.03797844,
            61779165.37512829,
            119671218.69933668,
            17803345.000196747,
            96156496.60633814,
            30518832.761027627,
            92329259.02350274,
            6320800.309666242,
            67976476.6481509,
            12857587.774250695,
            11068771.68625446,
            30518832.761027627,
            29499898.41832553,
            76760014.34701413,
            104799039.72664195,
            30518832.761027627,
            6320800.309666242,
            127388860.185002,
            66059851.00265191,
            59655349.33957395,
            55304952.4121666,
            34856787.23891449,
            6320800.309666242,
            48313797.04323805,
            75190599.94520733,
            40542362.04798879,
            8453407.696608048,
            6320800.309666242,
            39261100.63171234,
            22374727.640758883,
            77330591.15773259,
            80372986.61971462,
            68924944.84007743,
            0,
            27631367.84684247,
            16347288.792964686,
            26620087.93698693,
            30518832.761027627,
            16563094.679399515,
            81934101.17127427,
            16347288.792964686,
            24198032.45136138,
            8453407.696608048,
            248853463.9657871,
            24198032.45136138,
            72810338.41540392,
            43368267.57817625,
            76532108.13372111,
            39260967.31655713,
            120123470.00804932,
            68763954.71279168,
            43368267.57817625,
            17701182.393370774,
            27167070.070984066,
            21069784.9353956,
            16563094.679399515,
            64835987.44502628,
            15063068.18035096,
            31376262.39639436,
            92088168.72158682,
            136568757.78469703,
            38101456.43528009,
            91078171.62858877,
            12586457.998778107,
            52644535.20891549,
            24198032.45136138,
            14261651.781499248,
            32724179.85197268,
            6320800.309666242,
            66351729.81739489,
            32651440.14796943,
            26403379.54230644,
            12586457.998778107,
            11068771.68625446,
            92619540.91676804,
            65579576.13416252,
            31530112.67088316,
            30518832.761027627,
            15063068.18035096,
            17767801.395336673,
            0,
            16373078.86359202,
            80171903.14467402,
            39642595.51689799,
            37719598.02837785,
            82543738.60265699,
            82961897.00337529,
            0,
            16925244.491970196,
            61855040.89497691,
            6320800.309666242,
            41965833.84669805,
            0,
            55149093.42862698,
            12857587.774250695,
            32651440.14796943,
            92874488.03221528,
            30528580.36230105,
            30518832.761027627,
            22928006.72310114,
            0,
            54840970.3272158,
            94600095.93021724,
            30518832.761027627,
            0,
            12857587.774250695,
            54840970.3272158,
            35119197.44027519,
            30518832.761027627,
            26403379.54230644,
            31398797.71871161,
            30518832.761027627,
            34202711.6112394,
            57354573.83472725,
            63819984.89492965,
            0,
            24198032.45136138,
            24198032.45136138,
            65579576.13416252,
            383565059.29831713,
            342523233.94663274,
            47079149.51257324,
            6320800.309666242,
            319749012.0546047,
            148009622.98440212,
            89878364.62043948,
            135078896.18336928,
            326306707.123363,
            84757371.3189225,
            175825542.93454367,
            154688334.55050263,
            59655349.33957395,
            155639161.9187682,
            79901106.85662371,
            148654450.52507314,
            40100282.26652469,
            11068771.68625446,
            213162833.92783263,
            109105152.35221308,
            98694056.59301902,
            47344274.91176162,
            108681365.00404076,
            113017332.28579524,
            162642999.045946,
            172230601.0118311,
            61881638.71326314,
            127507365.9290212,
            56502980.92639092,
            87981335.73038813,
            92920641.18342496,
            181302038.9220332,
            123117711.5839374,
            158612413.31851682,
            113622253.7971738,
            126438823.73535052,
            94210008.59684937,
            133423718.36911212,
            173135346.31932214,
            116613349.65922353,
            361200276.3164604,
            138204869.77244204,
            293673509.96430624,
            181139784.85872063,
            73699080.35414863,
            216756430.43534315,
            96721794.10284512,
            158281925.36025554,
            167512164.90262386,
            183727547.940969,
            211299024.63146183,
            150491151.48033863,
            221102194.9019881,
            516024598.6050655,
            40542362.04798879,
            40545321.24432606,
            580926199.281271,
            74942945.80234572,
            61799791.70597779,
            41553641.95784432,
            143075243.1381609,
            181753799.25117725,
            62235116.98738888,
            77720855.64246537,
            67603330.86959697,
            129529133.46640415,
            381833332.5672268,
            119917192.40175436,
            131059530.90268052,
            14261651.781499248,
            86370107.67400531,
            110466986.78701667,
            30518832.761027627,
            103841409.94280452,
            124072981.45637757,
            161072425.24025944,
            53848132.57995895,
            185105230.9886844,
            135325726.25987548,
            144472238.02564117,
            116287185.47939628,
            109794585.40509623,
            64648501.49407049,
            249418507.83915156,
            139706857.78541058,
            209662228.1614461,
            326856097.19397616,
            207734196.91015664,
            155571847.9354316,
            264543270.01745805,
            182177821.16429865,
            155703735.0082062,
            208434714.674612,
            208345293.43024883,
            237147716.72402132,
            444873179.4706324,
            176383939.21072817,
            250876536.23251095,
            250593881.55370048,
            215656741.4535561,
            62332119.5628021,
            24198032.45136138,
            94628862.91105583,
            90808900.6494509,
            6320800.309666242,
            6320800.309666242,
            92448482.98241132,
            12857587.774250695,
            93900935.64819968,
            430818718.8703537,
            14261651.781499248,
            101519117.19067268,
            439261859.9446563,
            151500539.51751602,
            85073585.94225481,
            104649311.57117328,
            190747104.98302868,
            166793593.7347618,
            91132212.71473584,
            69643919.67047566,
            114407869.25312324,
            124630655.53902169,
            130919551.3781668,
            81824535.36833069,
            112249783.00570484,
            121387267.28318632,
            95014558.50507057,
            71834615.46061754,
            167596828.44153148,
            229058281.64988565,
            144888296.4273433,
            30518832.761027627,
            213287795.02691117,
            117932568.39102983,
            157777042.83325702,
            105160095.21791802,
            88149503.08932526,
            118262772.7980032,
            147174706.06305853,
            115991553.96708734,
            142243970.63310438,
            245707896.42023396,
            173761600.45868096,
            95979971.31068248,
            112016685.49699208,
            144292567.07268956,
            121819773.15896767,
            95317937.48339257,
            133100406.3038272,
            88392030.34061909,
            198696197.31307068,
            110301488.9330672,
            177351238.0224661,
            45491033.0236271,
            512227684.426294,
            7332080.219521779,
            223878518.10422155,
            16373078.86359202,
            98401533.47821298,
            165437101.81586206,
            187128810.60830858,
            79429517.78002818,
            64086725.15802531,
            295248504.6060353,
            260832920.83899567,
            118420234.18131508,
            172276112.73239195,
            79763656.88293718,
            113435840.26394606,
            38101456.43528009,
            222555041.00882512,
            154987063.87623852,
            119284954.87100184,
            34221561.73832255,
            150366766.5375215,
            159629085.60739353,
            122938036.9856282,
            258670885.2453189,
            199493639.21347833,
            194676403.07807255,
            200771707.37696272,
            150463743.16423944,
            164456049.22232363,
            30518832.761027627,
            134021580.08825578,
            34221561.73832255,
            197993470.33402568,
            123107540.08608907,
            161310778.0284691,
            160818797.48703685,
            260342029.89665857,
            282415985.9321514,
            415950303.45097184,
            434372051.4289746,
            82073613.40965964,
            7332080.219521779,
            484334263.16912425,
            90397489.68172042,
            43535380.79911551,
            71156787.75469251,
            106554156.8862718,
            59507757.09570752,
            455728024.1753351,
            30518832.761027627,
            87461332.25801656,
            32651440.14796943,
            30518832.761027627,
            6320800.309666242,
            47746086.5116763,
            155175780.34796754,
            126677531.4579267,
            50736146.06646574,
            108172237.50986314,
            156036158.07525885,
            81108171.62045583,
            77062120.82469302,
            96406252.8062563,
            149394966.25438863,
            302899826.00341934,
            212237306.196292,
            42674969.43493059,
            92299210.6783499,
            75029612.40190354,
            96016760.1775462,
            7332080.219521779,
            44256385.4929623,
            127025853.34386525,
            182928075.9334362,
            106039630.12292132,
            275307866.90511936,
            40542362.04798879,
            81445318.37235664,
            160620102.33315578,
            321248830.20081484,
            84343655.09090799,
            114180848.91846795,
            106399284.50075041,
            155065884.07187417,
            67180047.91085424,
            40542362.04798879,
            172909699.05467632,
            232205695.12639207,
            153162136.6080771,
            352889739.74899656,
            103209734.75180002,
            76760483.97072226,
            169633844.11336392,
            57283197.43034519,
            132574226.09544492,
            112062354.30017471,
            86777206.54722857,
            125173945.9042056,
            225058689.2827708,
            196151344.97000745,
            183989982.44001877,
            212430842.9459652,
            226345827.44754872,
            150777960.44115573,
            117442217.75865528,
            138161467.03885186,
            167225081.11225668,
            120651790.23157746,
            63276702.55292826,
            348818074.5029244,
            87580135.33853345,
            95585855.19097304,
            191668399.412802,
            185239656.51684976,
            239720427.01818785,
            66950071.05174501,
            143264380.213554,
            162197173.25032648,
            150986238.5037891,
            128703702.50987533,
            214439677.00617668,
            184115012.27195013,
            129694747.98629785,
            155159254.60693407,
            118999487.31779262,
            156461594.81672245,
            305960608.76215583,
            224449721.61533943,
            52767439.51947523,
            249029002.4345696,
            179513988.98055106,
            201249828.64142308,
            209025994.8873029,
            293338372.3463379,
            268130909.32251623,
            152940438.0997722,
            41847942.60784305,
            93565259.89756954,
            176184104.21770892,
            197963817.49636903,
            97967038.90461014,
            185810687.38302457,
            111799099.56170411,
            72819095.44734606,
            182259538.1665732,
            106587465.48809367,
            177309366.50964242,
            144393716.7352443,
            76641096.69370905,
            70299745.46843308,
            147025503.33413282,
            92988385.48667371,
            121363597.67443743,
            143744455.6804146,
            112707487.06777184,
            415426066.3752448,
            138448002.26071444,
            83513780.76613931,
            252225799.8052905,
            147788409.66266274,
            90967423.8903648,
            147905433.51712376,
            185069026.79071572
           ]
          },
          {
           "label": "RfR Investment Costs",
           "values": [
            146000000,
            176700000,
            0,
            297900000,
            213300000,
            382500000,
            199900000,
            146000000,
            334500000,
            30700000,
            151900000,
            297900000,
            261300000,
            61400000,
            84600000,
            92100000,
            0,
            363800000,
            0,
            61400000,
            182600000,
            0,
            30700000,
            297900000,
            0,
            540300000,
            309900000,
            0,
            0,
            644500000,
            30700000,
            0,
            61400000,
            115300000,
            0,
            30700000,
            61400000,
            261300000,
            0,
            30700000,
            0,
            419100000,
            636900000,
            0,
            30700000,
            0,
            0,
            357700000,
            146000000,
            503700000,
            84600000,
            61400000,
            589200000,
            569600000,
            176700000,
            485000000,
            236500000,
            30700000,
            739400000,
            30700000,
            61400000,
            84600000,
            84600000,
            230600000,
            0,
            205800000,
            575500000,
            146000000,
            151900000,
            115300000,
            267200000,
            793300000,
            0,
            382500000,
            236500000,
            0,
            1041800000,
            169200000,
            673500000,
            739400000,
            30700000,
            0,
            0,
            115300000,
            30700000,
            0,
            369700000,
            30700000,
            115300000,
            30700000,
            61400000,
            151900000,
            702800000,
            151900000,
            569600000,
            454300000,
            0,
            824000000,
            30700000,
            151900000,
            236500000,
            0,
            874300000,
            30700000,
            1213300000,
            30700000,
            84600000,
            357700000,
            309900000,
            30700000,
            84600000,
            302400000,
            30700000,
            61400000,
            84600000,
            606200000,
            727400000,
            61400000,
            115300000,
            169200000,
            793300000,
            115300000,
            30700000,
            0,
            267200000,
            146000000,
            793300000,
            30700000,
            146000000,
            236500000,
            1297900000,
            678000000,
            217800000,
            854700000,
            205800000,
            30700000,
            151900000,
            151900000,
            431100000,
            92100000,
            958900000,
            302400000,
            575500000,
            1382500000,
            771800000,
            84600000,
            606200000,
            84600000,
            267200000,
            856400000,
            30700000,
            485000000,
            290400000,
            61400000,
            302400000,
            115300000,
            0,
            438700000,
            151900000,
            92100000,
            0,
            708700000,
            739400000,
            121200000,
            146000000,
            267200000,
            169200000,
            0,
            394500000,
            660100000,
            423600000,
            146000000,
            552300000,
            1328600000,
            61400000,
            61400000,
            236500000,
            708700000,
            115300000,
            1554000000,
            61400000,
            30700000,
            302400000,
            92100000,
            61400000,
            267200000,
            369700000,
            957200000,
            30700000,
            92100000,
            556800000,
            248500000,
            618200000,
            146000000,
            182600000,
            762600000,
            61400000,
            877900000,
            520200000,
            182600000,
            1163000000,
            151900000,
            0,
            84600000,
            0,
            267200000,
            400400000,
            619900000,
            684900000,
            321100000,
            84600000,
            30700000,
            1193700000,
            84600000,
            236500000,
            485000000,
            333100000,
            793300000,
            146000000,
            169200000,
            84600000,
            1419100000,
            146000000,
            199900000,
            61400000,
            297900000,
            236500000,
            1638600000,
            182600000,
            146000000,
            678000000,
            30700000,
            286800000,
            0,
            1018700000,
            0,
            678000000,
            199900000,
            1047700000,
            1037400000,
            0,
            678000000,
            454300000,
            92100000,
            1041800000,
            84600000,
            650600000,
            115300000,
            84600000,
            423600000,
            417700000,
            1469400000,
            61400000,
            213300000,
            182600000,
            236500000,
            1027900000,
            914500000,
            0,
            989600000,
            121200000,
            213300000,
            115300000,
            213300000,
            515700000,
            151900000,
            1110800000,
            0,
            943300000,
            363800000,
            30700000,
            1145100000,
            771800000,
            357700000,
            606200000,
            1725500000,
            1348200000,
            905000000,
            0,
            30700000,
            121200000,
            0,
            793300000,
            146000000,
            0,
            388400000,
            1080100000,
            666200000,
            30700000,
            30700000,
            61400000,
            30700000,
            176700000,
            618200000,
            176700000,
            30700000,
            236500000,
            151900000,
            146000000,
            0,
            30700000,
            0,
            61400000,
            30700000,
            115300000,
            351800000,
            84600000,
            0,
            744700000,
            199900000,
            485000000,
            382500000,
            606200000,
            92100000,
            454300000,
            169200000,
            538900000,
            30700000,
            30700000,
            515700000,
            431100000,
            146000000,
            290400000,
            0,
            146000000,
            388400000,
            0,
            642800000,
            30700000,
            30700000,
            363800000,
            182600000,
            30700000,
            151900000,
            121200000,
            84600000,
            0,
            84600000,
            146000000,
            30700000,
            146000000,
            61400000,
            182600000,
            423600000,
            756700000,
            30700000,
            267200000,
            454300000,
            205800000,
            0,
            92100000,
            230600000,
            115300000,
            454300000,
            581600000,
            115300000,
            618200000,
            503700000,
            267200000,
            182600000,
            363800000,
            0,
            456000000,
            205800000,
            115300000,
            84600000,
            230600000,
            0,
            151900000,
            84600000,
            30700000,
            479100000,
            273100000,
            0,
            0,
            856400000,
            267200000,
            230600000,
            333100000,
            182600000,
            770100000,
            0,
            554000000,
            1669300000,
            205800000,
            357700000,
            30700000,
            0,
            303800000,
            538900000,
            61400000,
            0,
            146000000,
            176700000,
            333100000,
            30700000,
            0,
            115300000,
            721500000,
            333100000,
            351800000,
            806100000,
            448400000,
            521600000,
            30700000,
            169200000,
            411600000,
            84600000,
            382500000,
            492600000,
            544800000,
            205800000,
            151900000,
            485000000,
            569600000,
            321100000,
            636900000,
            702800000,
            799400000,
            213300000,
            485000000,
            315200000,
            267200000,
            30700000,
            92100000,
            30700000,
            473000000,
            236500000,
            0,
            388400000,
            297900000,
            115300000,
            363800000,
            454300000,
            0,
            121200000,
            30700000,
            236500000,
            146000000,
            485000000,
            581600000,
            146000000,
            363800000,
            30700000,
            363800000,
            115300000,
            0,
            0,
            30700000,
            115300000,
            0,
            708700000,
            315200000,
            485000000,
            61400000,
            146000000,
            485000000,
            199900000,
            115300000,
            146000000,
            146000000,
            0,
            236500000,
            236500000,
            61400000,
            30700000,
            30700000,
            115300000,
            205800000,
            454300000,
            267200000,
            30700000,
            236500000,
            182600000,
            388400000,
            61400000,
            0,
            230600000,
            84600000,
            217800000,
            151900000,
            30700000,
            146000000,
            297900000,
            115300000,
            115300000,
            30700000,
            151900000,
            84600000,
            279200000,
            0,
            115300000,
            997200000,
            987900000,
            0,
            30700000,
            115300000,
            30700000,
            115300000,
            61400000,
            84600000,
            0,
            30700000,
            0,
            0,
            508200000,
            146000000,
            411600000,
            589200000,
            199900000,
            121200000,
            199900000,
            729100000,
            0,
            121200000,
            61400000,
            61400000,
            30700000,
            739400000,
            84600000,
            84600000,
            61400000,
            115300000,
            61400000,
            61400000,
            30700000,
            333100000,
            267200000,
            363800000,
            115300000,
            115300000,
            182600000,
            302400000,
            61400000,
            575500000,
            30700000,
            550900000,
            0,
            0,
            538900000,
            182600000,
            0,
            236500000,
            30700000,
            176700000,
            479100000,
            61400000,
            0,
            672100000,
            0,
            230600000,
            454300000,
            236500000,
            92100000,
            544800000,
            151900000,
            182600000,
            84600000,
            92100000,
            648900000,
            61400000,
            267200000,
            454300000,
            61400000,
            419100000,
            279200000,
            454300000,
            297900000,
            394500000,
            151900000,
            0,
            230600000,
            0,
            333100000,
            485000000,
            146000000,
            0,
            182600000,
            333100000,
            61400000,
            236500000,
            236500000,
            0,
            333100000,
            290400000,
            84600000,
            236500000,
            351800000,
            84600000,
            333100000,
            0,
            521600000,
            115300000,
            0,
            267200000,
            485000000,
            146000000,
            84600000,
            230600000,
            333100000,
            515700000
           ]
          },
          {
           "label": "Evacuation Costs",
           "values": [
            0,
            0,
            192.93582391438446,
            55.507126011524846,
            0,
            47.43170706288025,
            0,
            0,
            119.01847160742659,
            0,
            0,
            67.05174033588975,
            87.80982517178968,
            8624.58148118819,
            0,
            147.73115001274078,
            413.7149749300119,
            0,
            0,
            131.74806218083768,
            150.5712249094124,
            0,
            686.8659535805348,
            0,
            0,
            38.1248589715414,
            431.5474714071637,
            0,
            5052.852064567749,
            506.25342609022863,
            0,
            36951.37919553158,
            25085.28750856737,
            0,
            0,
            7040.089372622311,
            1624.5611348416985,
            76.72930023878502,
            0,
            25940.963320103067,
            15663.768928499423,
            0,
            11544.95643234661,
            0,
            0,
            4451.531839858798,
            32853.05572655062,
            14232.847296615138,
            0,
            267.6691433570764,
            27253.13582642584,
            0,
            13026.93222491496,
            0,
            177.37007030046504,
            436.6998200672895,
            3539.948070141144,
            46323.81864054329,
            11436.389032081854,
            39670.035849590495,
            0,
            20115.847901766698,
            0,
            0,
            32333.012449350088,
            30577.18525351444,
            0,
            13501.115780198186,
            17092.778171852256,
            9066.43868176769,
            0,
            13394.330215594671,
            43759.199809355676,
            0,
            50155.639911577586,
            0,
            11391.208193965034,
            0,
            30864.820971969613,
            481.4857007898272,
            34364.654854188564,
            23725.243809511216,
            0,
            33171.900262557465,
            263.7289927342722,
            0,
            55180.098776307444,
            0,
            54939.90461470552,
            29146.47251459353,
            41866.47096959665,
            29251.725312286362,
            4027.526926077588,
            29469.725957222145,
            574.7798301980092,
            2128.481059130917,
            43096.0471961725,
            12038.32916155087,
            66213.21913258369,
            17986.263177449946,
            5424.995307696419,
            3882.1391956814036,
            3118.6245374074597,
            63607.887470222464,
            741.046232258203,
            44424.990344103855,
            33328.21004423668,
            15492.771173284289,
            37414.371530759316,
            22812.144067217072,
            70285.93429432639,
            66391.37993577325,
            74369.92344115612,
            21175.73988990307,
            31061.84481462063,
            4120.4606812889615,
            97229.43323725744,
            41583.270874344715,
            34838.884181032285,
            26050.301822771802,
            0,
            37987.52742816071,
            68769.11682995614,
            0,
            30359.014327267923,
            19677.452746340063,
            0,
            74269.21215389196,
            0,
            117000.09852836776,
            5380.999404872612,
            53839.14177681842,
            76074.05617837897,
            10165.818022974634,
            118355.99867097425,
            103949.87685982598,
            0,
            0,
            24525.289120784,
            31630.8951216572,
            0,
            53415.253988709635,
            135363.53309749428,
            6070.760008717082,
            20036.50281528708,
            40410.69209684915,
            5826.861259248225,
            0,
            116132.87037311382,
            19188.869787257165,
            62614.51406144813,
            17735.14516053672,
            66617.77102827994,
            38231.68513626156,
            138495.08143629626,
            0,
            105139.67862842024,
            112536.8521114006,
            32051.03020132036,
            0,
            101666.62786745957,
            52001.95796982524,
            0,
            87538.26444850111,
            465.6256262027795,
            24335.60867967769,
            0,
            103935.57551207104,
            0,
            15247.868563590933,
            128117.36738136671,
            51721.94810772353,
            107252.76670957213,
            17165.30397467115,
            0,
            146658.18623611063,
            121557.70889022126,
            121675.68424478453,
            0,
            5001.241185008521,
            0,
            0,
            48743.13849380144,
            47461.97318647039,
            0,
            29600.861987842534,
            0,
            0,
            77772.07872222194,
            0,
            0,
            0,
            134706.71905336806,
            35660.51554884123,
            67787.05855539339,
            42532.24228109877,
            0,
            0,
            0,
            63210.738129796526,
            125272.75076435605,
            71268.35182177411,
            147708.48801836598,
            0,
            0,
            0,
            99643.11204276887,
            0,
            0,
            0,
            0,
            43281.08241095541,
            39646.60159746252,
            101287.30824103668,
            16645.829501659453,
            20450.056465867445,
            0,
            65486.6678150189,
            145187.45393792837,
            0,
            172653.96834637673,
            31982.703440070094,
            0,
            66048.11196470191,
            70562.19957476135,
            16295.328194835205,
            73962.29362135465,
            0,
            139810.80827049882,
            0,
            59679.28963416247,
            76303.86883220139,
            0,
            0,
            0,
            56548.302092858976,
            55046.71710519336,
            136224.23092719767,
            108370.50094616233,
            0,
            80915.90900956305,
            99076.94568171503,
            110247.93315652949,
            0,
            129320.25887198119,
            71752.29853355918,
            104806.1300950404,
            0,
            0,
            28274.258274858632,
            49094.19761721447,
            10774.213062021425,
            118048.72945141484,
            44638.107412572186,
            67904.75925386531,
            145355.41652465455,
            19730.177142041397,
            0,
            140216.44342294015,
            94534.17706986367,
            0,
            24969.04868798174,
            70733.49168012866,
            37804.37603647759,
            0,
            0,
            0,
            131143.31469268733,
            25495.370956042032,
            65764.57742419104,
            157376.7294664154,
            0,
            39798.68445354262,
            95967.6794685123,
            0,
            46078.2638741863,
            28371.507383104614,
            41048.99563347433,
            125222.34193490812,
            41423.2797846324,
            0,
            0,
            52646.119093749636,
            0,
            0,
            0,
            37089.51164115375,
            108941.41883785557,
            1295.0682586412902,
            34266.091998762146,
            35093.321112707185,
            67182.07707571951,
            104.0230751794089,
            0,
            8903.929894470799,
            28664.410848314077,
            30077.05692544422,
            11019.531548058547,
            0,
            38723.20889647235,
            126676.34474095935,
            163247.29549428812,
            8594.921942460709,
            46767.695686092295,
            43220.377840830144,
            55826.17627781424,
            53483.764337519235,
            0,
            0,
            19646.928212350424,
            26321.568903800355,
            16570.41423075304,
            22605.518859528565,
            51150.549695239766,
            51442.629121923885,
            0,
            0,
            30576.3288971817,
            40747.285609856815,
            10036.840701301384,
            19421.980736112262,
            42721.94917305405,
            3425.873482553988,
            0,
            0,
            6144.8720974446815,
            3270.077790994072,
            0,
            0,
            0,
            0,
            9956.215254825154,
            31843.7756254284,
            0,
            0,
            0,
            8131.208266436177,
            134.0672435815593,
            0,
            89267.23247259553,
            18.559401271060885,
            56005.96381270685,
            0,
            57203.6223158482,
            0,
            0,
            61051.777849925245,
            0,
            50762.905206029835,
            67440.04674677875,
            259.0418376049733,
            17076.170359942043,
            26034.573225391126,
            135821.83155417163,
            51873.04436711152,
            36443.687722221,
            0,
            0,
            14613.774681453218,
            9193.920611640333,
            31011.26120698172,
            31375.32637446868,
            0,
            24941.057989714125,
            0,
            12512.679997736197,
            0,
            0,
            0,
            4525.446172297232,
            0,
            542.977581830164,
            5446.3295578578145,
            3507.072308158723,
            42614.53914523837,
            0,
            565.3765480695487,
            0,
            0,
            99.26509430399919,
            0,
            4475.2347257330875,
            0,
            0,
            91204.31266688724,
            57806.41398573919,
            64655.065468211506,
            0,
            127644.73920894747,
            135523.9248356956,
            0,
            131401.70565354632,
            0,
            0,
            0,
            122080.94086681814,
            271.87996473481576,
            18899.28369527921,
            14609.292746847052,
            0,
            1656.56855364767,
            0,
            0,
            32800.46341943851,
            112426.67722141654,
            0,
            5723.495893438998,
            95115.96670341432,
            17715.30759802536,
            10080.953191010407,
            0,
            60012.05890458831,
            24454.465653771305,
            0,
            0,
            35723.46361674581,
            0,
            0,
            0,
            28528.97205481681,
            21321.075181835968,
            28958.68326378183,
            20586.043290107893,
            0,
            0,
            2280.108494016767,
            0,
            56583.12907381745,
            35504.213113321865,
            12691.709957576306,
            16417.880472391822,
            51038.94006756334,
            0,
            0,
            43978.224310664045,
            30063.51689185789,
            5127.109839259624,
            49932.61403638201,
            0,
            134715.15434341066,
            0,
            116864.9013704916,
            45595.09715255503,
            52100.767432984365,
            357.78355070546854,
            32536.190883933457,
            40043.44293853077,
            2693.1668714343564,
            3028.249586863023,
            31728.670489518936,
            0,
            41478.93575893936,
            0,
            26840.100013183066,
            0,
            10945.453162512535,
            19485.51375429846,
            31531.337546540664,
            34638.695979331445,
            19140.012858670787,
            23553.0682602959,
            6063.8363782343295,
            0,
            1997.1215443856931,
            3482.591266497549,
            18811.93719026116,
            0,
            104979.64479266555,
            10793.175275166905,
            45456.7379707168,
            0,
            0,
            0,
            0,
            322.4036989323599,
            0,
            0,
            0,
            0,
            0,
            216.0832700777164,
            0,
            78422.98563458449,
            22054.38883407775,
            0,
            39097.55419731669,
            0,
            121718.77509172248,
            60545.31152733659,
            102687.47970303887,
            0,
            145887.82659026532,
            0,
            0,
            35486.064781416135,
            0,
            30243.19732842622,
            0,
            97938.8970167628,
            74407.30213379436,
            55281.70773061582,
            21843.08979896741,
            0,
            0,
            0,
            20825.85523835284,
            62035.785047851336,
            49211.884258764025,
            109749.3547748534,
            0,
            46784.635581004004,
            9006.254963185482,
            9825.645523420351,
            0,
            77571.0723113511,
            60255.52361092544,
            16280.50728813797,
            816.5511097320787,
            45517.440873098014,
            29621.04961817024,
            0,
            0,
            0,
            0,
            10288.761925417062,
            0,
            2656.365570145845,
            0,
            40001.99040791065,
            0,
            15084.290125689837,
            27488.61527689802,
            14271.526700688277,
            20001.618631131718,
            0,
            64131.686091261865,
            0,
            9577.93204105752,
            18443.90420248674,
            144.86753634098773,
            1575.122345619534,
            41479.814613633585,
            0,
            33173.15764152523,
            21224.940297100737,
            20948.646710897432,
            67201.72168601785,
            2392.7098944493177,
            0,
            50327.60743680499,
            0,
            0,
            626.5621854680588,
            51597.21177229122,
            10723.06367182622,
            24793.4763121276,
            0,
            22971.53266305921,
            2037.2498161942385,
            0,
            63803.85778820643,
            13089.7723680235,
            23132.53243348981,
            27701.7118771958,
            18.551898898261573,
            550.1045124021006,
            27263.24874678121,
            0,
            0,
            4338.102764718285,
            0,
            266.7173393464729,
            4244.228671686198,
            8546.980710016509,
            0,
            67262.96912713912,
            30108.235048041493,
            2761.396755250591,
            50203.67888180816,
            12956.529428594153,
            50606.37847841316,
            60913.91859477678,
            0,
            0,
            0,
            12151.843743574518,
            16857.82414764767,
            55196.36757945837,
            0,
            0,
            52808.465783804815,
            9185.568647027614,
            34864.068469550046,
            0,
            0,
            44526.354719506395,
            2638.856632199414,
            28791.432093688214,
            0,
            0,
            0
           ]
          },
          {
           "label": "Expected Number of Deaths",
           "values": [
            0.00019448061710126312,
            0,
            0.0009355996066461053,
            0.0008998073098711631,
            0.006615164057523556,
            0.00010270173838512475,
            0.012598344329890643,
            0.008599996485864141,
            0.0001668475952709229,
            0.028927785812024136,
            0.0362471666688678,
            0.0001972340315719296,
            0.00309171372600499,
            0.01557584651063905,
            0.0371599731416367,
            0.003421113722866393,
            0.0011433836646583956,
            0.0501170842770667,
            0.3394639498716125,
            0.0006064115661751108,
            0.00023858203322260098,
            0.3059126064809071,
            0.0015118013195868768,
            0.0025675434596281192,
            0.10251073995838912,
            8.195332118884685e-05,
            0.013941971087019537,
            0.02487254239961342,
            0.01578682348303362,
            0.003337544734902804,
            0.007542512816559974,
            0.2187753863968382,
            0.04402368713235588,
            0.007072397280101501,
            0.8541159260487735,
            0.013011439742423877,
            0.002811390276796935,
            0.0007905363369751829,
            0.11686769016080638,
            0.2657462755081192,
            0.06547422962042812,
            0,
            0.020756943349463385,
            0.4471677777909687,
            0.3292242143979389,
            0.012413756600239285,
            0.8719340727264107,
            0.07643800510745191,
            0.005642761723056103,
            0.000756635000473359,
            0.11740627864981905,
            0.4272411574139338,
            0.15091134668293946,
            0.2776083345774526,
            0.00032548830898165284,
            0.01080624168064298,
            0.0066207199801151225,
            0.24103580034796454,
            0.021027442527445882,
            0.2230482234105033,
            1.354317298692621,
            0.11924001342742074,
            0.2395390708206743,
            0.3233791527106259,
            0.3014448925626496,
            0.5162287898641509,
            0.3560304653808928,
            0.30630383839766845,
            0.057113270134812315,
            0.025713525866246457,
            0.7652989869228063,
            0.03213135953708726,
            0.25134659106365104,
            0,
            0.09390268323298634,
            0.015049481024461641,
            0.019148336419705952,
            0.5431625498029995,
            0.19054694172390585,
            0.002847205731690765,
            0.827504170948678,
            0.8141192241901151,
            0.8157179668092449,
            0.5102332113151162,
            0.0009121771970580061,
            1.9998931760810252,
            0.25533404508473423,
            1.4081300157239114,
            0.10503062020720996,
            0.3347255482269563,
            0.07937213400970164,
            0.7753102441815867,
            0.07176827825494722,
            0.4736891306019543,
            0.0013824576085885336,
            0.05715182443609779,
            0.12365823934405197,
            0.023774795872215825,
            0.12257490285746972,
            0.6553330345913316,
            0.2188420030084852,
            0.015455957383715269,
            0.048996501818154466,
            0.3713072360527864,
            0.015281475176908818,
            0.23186707653276226,
            0.5902468493393972,
            0.09160608776519703,
            0.09943435229238602,
            0.8001224217358752,
            1.4762540769854269,
            0.11928511682299647,
            0.2818176591709017,
            0.7572620246286095,
            0.15286194964333874,
            0.008905975078651167,
            0.28516075862364104,
            0.303831044815838,
            0.11484658782166154,
            0.0571948857520387,
            0.3138894651889259,
            0.07028039820664314,
            0.4089204323141869,
            2.4708895609093404,
            0.4930054072187121,
            0.11696143318231099,
            0.1784389461583086,
            0.28143086645310256,
            0.2920675670753226,
            0.5968503859504717,
            0.06223766676276316,
            0.09911596565614103,
            0.22002345783479135,
            0.11017737641751048,
            0.6152508104727011,
            0.5337827654168091,
            2.196639330361688,
            2.498790051647408,
            0.519807069259459,
            0.8908149090543801,
            0.1952880064300601,
            0.1504622806466594,
            0.4106452365189229,
            0.08936015443157587,
            0.22566560720502746,
            0.8097368545973271,
            0.08228726208705718,
            2.2893114877921725,
            0.5902390646651285,
            0.20242225057661792,
            1.2810786370003422,
            0.20448886937634456,
            1.2892488026698492,
            0.5706353318705865,
            0.4420709048328637,
            3.5269487742767334,
            0.7175776341175301,
            0.7100839510869126,
            0.8270482454844937,
            1.3369215719907055,
            0.5334977443368095,
            0.09144430491910983,
            0.2159727766073618,
            0.5169473506668423,
            0.0010156971101500985,
            0.05924313619550416,
            3.3944112618617988,
            0.5080105654494455,
            3.3198781628200607,
            0.024412841319794182,
            0.3956819762367017,
            0.2019677491369745,
            0.3866431511627129,
            0.18051244907549152,
            4.8305810841407455,
            0.5796697300968893,
            0.3889853145059564,
            0.3596579518348669,
            2.282423045368674,
            0.056990768733445316,
            4.0074458998155205,
            5.003073638153328,
            0.10571605564114314,
            0.3185441794777673,
            2.242249050183581,
            0.4665475239260574,
            1.7675597208919192,
            3.3001075433307494,
            0.28722011587602764,
            2.357533193384631,
            1.7763709674335717,
            4.382689144642831,
            0.4070014641503271,
            0.5793634116030204,
            1.704225690009614,
            0.12093683495746993,
            2.2940586573694604,
            0.7660797705828445,
            3.667900904984936,
            1.598928879117477,
            0.3886356758352884,
            1.745367278431461,
            0.5618179727378793,
            4.194427036733507,
            3.6377077252259418,
            3.934927097767524,
            0.5194687331005826,
            3.4140354503974413,
            0,
            2.158783686085387,
            3.5622458135791586,
            1.041283382517031,
            0.0832041537359837,
            0.3278223509614789,
            0.11053369398841953,
            0.275550399088867,
            2.0475224820886604,
            1.2260969355553706,
            0.4746401354690502,
            3.6755750638504328,
            0.5033312444080209,
            0.08480559975441722,
            3.9553344622420847,
            1.2517270167964276,
            0.2397530045466268,
            0.10784190715949338,
            0.21199532599711474,
            0.17234767563639766,
            0.5680752300032046,
            2.3913400274196217,
            1.1149154194180713,
            1.8011065097351984,
            2.5192171660652405,
            5.163342748453582,
            0.7976975991292107,
            1.338754975754335,
            1.0073506028494321,
            0.4172423389321426,
            0.5079115712178067,
            0.12893855518917915,
            0.2936344406661321,
            0.4645480914241964,
            0.2600836171134146,
            3.809387290743768,
            0.3960129051996899,
            1.5099937332240627,
            0.4978874971360338,
            1.4183167751848125,
            3.9132632347448735,
            0.3304636546706285,
            0.13606179238820118,
            0.021087948194089018,
            0.7245871626211116,
            1.2115490574942387,
            0.4489139763731216,
            0.4774803087603773,
            0.2188975845578634,
            3.386077141452045,
            0.4508111201504181,
            0.465791698446985,
            3.4463156711122807,
            0.8261998755627079,
            1.4430510299692756,
            1.0473573049355476,
            3.164162883652794,
            4.848242440087391,
            0.5014234696541432,
            0.417071463911782,
            0.5285223662909226,
            1.2296390903216308,
            0.6003688365783992,
            0.4643726974981185,
            0.06932115446391518,
            0.4743145497733534,
            2.45198310753344,
            0.07866550806645775,
            0.3301534039937909,
            0.157838469812836,
            0.7041722415746993,
            0.9814090375540484,
            5.117658318929204,
            4.681816439482328,
            0.18706802126780664,
            2.1963131027806955,
            0.06220263378350094,
            0,
            0.0983318850830722,
            0.5099584992979384,
            0.01610759825459835,
            0.2146554506010621,
            0.9102120665460248,
            0.1381199804533202,
            0.0013915380515386892,
            0.3241550261360249,
            0.0907993522537932,
            0.3108602372126613,
            0.4769466464880742,
            0.121235721042981,
            1.2298397474753169,
            0.3528865219650393,
            0.7504610457229992,
            0.6196011298144297,
            0.015553642118497519,
            0.2425320827410673,
            0.6488915368699499,
            0.097865518774413,
            0.1484429163015367,
            3.727139858052857,
            0.14187293272076784,
            0.05365893043672558,
            0.3241731482617867,
            0.0311255816167781,
            0.26390859768002306,
            0.24206467066470214,
            0.09139994265410548,
            0.3963388991040386,
            0.2939499995201551,
            0.274570389737399,
            0.3405385083449392,
            0.029617882846016005,
            0.2088170170437163,
            0.09097089650132606,
            0.09528082778214644,
            1.4560114902636057,
            0.008464142584584155,
            0.22237998104064266,
            0.04979197925903377,
            0.11986896100759226,
            2.4622238670449987,
            0.14523084396233213,
            0.7586899088253292,
            0.124429852305794,
            0.2099213948317799,
            0.18938240493610053,
            0.10798582529509436,
            0.6156169886346532,
            0.03585625240353598,
            0.001094716838771683,
            3.0997697911999653,
            0.34709446083901035,
            2.333767405215157e-05,
            0.9885158110762368,
            2.0500465422699965,
            0.10473440146895438,
            0.28332172013937024,
            0.44888923849039136,
            0.1555158413086858,
            0.7592245467962596,
            0.2150953291100629,
            0.12713710182019738,
            0.000869711282211681,
            0.2082865934499151,
            0.09821583698955176,
            0.41375102399632013,
            0.08976401531885847,
            0.12260378922748255,
            0.9134704292372906,
            0.4075118208029654,
            0.2952745028239664,
            0.2544974284017578,
            0.3331366759967507,
            0.21227758255407947,
            0.386706796233966,
            0.09174762024009077,
            0.9439995458434268,
            0.3024756325332759,
            0.8464669601880014,
            0.21675134753998115,
            0.8033421265266065,
            0.12738082023054967,
            0.0881930224237025,
            0.0018000799103807114,
            0.05946202787840324,
            0.018820087225373656,
            0.14505400979710306,
            0.1924830633693844,
            0.012877817414345195,
            0.16895658329817742,
            0.012598344329890643,
            0.0003399168282603326,
            0.05202117704428184,
            0.025510434731368308,
            0,
            0.0018520401427597679,
            0.273000993118702,
            1.1383549194560478,
            1.2583685892874221,
            2.053457712151034,
            0.5289829879337561,
            0.4117915691134284,
            2.005540893363073,
            0.7745014122680374,
            0.9182272116543676,
            0.00820651264185222,
            3.4855890949155133,
            0.396126827908716,
            0.00868420338583184,
            0.08769462687179325,
            0.0401441370422373,
            0.6599885054094827,
            0.005646907548523662,
            0.004317565379052984,
            0.6727773377059983,
            0.1443944160977004,
            0.3225684237199737,
            0.5817747689687681,
            0.07821300281368973,
            0.2989140055574051,
            0.18888189963407465,
            0.2673560924581761,
            0.5510456358527677,
            0.15831618098568095,
            0.049321903330089005,
            0.06591383609022393,
            0.29176246652251936,
            0.5466610166663806,
            0.01669309808045364,
            0.26494344071774123,
            0.06610698230310624,
            0.4735071643754858,
            0.06380963630811222,
            0.0799918215795961,
            0.08781630484767568,
            1.233202585428046,
            0.5475907480189617,
            0.04763992859928532,
            0.16161991616310736,
            0.10291359275260968,
            1.0444529448175142,
            0.10274331024920054,
            0.10788839053406417,
            0.2044667930368848,
            0.4948615828711127,
            0.904819188106063,
            0.0874387940734354,
            0.2797433420826665,
            0.09025399559180823,
            0.19872776937003095,
            0.002712402574847107,
            0.4071477061772196,
            0.012142542275211785,
            0.5933001693363129,
            0.12576883436960667,
            0.09281521989372132,
            0.002891020943608396,
            0.5632175640439406,
            0.8895202419273623,
            0.05418840163890637,
            0.0073238600921890235,
            0.3679681421184621,
            0.8613846316222291,
            0.12232427468298256,
            0.5326451201702209,
            0.3292889638211369,
            0.042909140104759116,
            0.09998070711548013,
            0.055710620882688286,
            0.33565098939866955,
            0.09515304254184083,
            0.20629880985881235,
            0.4436382343056519,
            0.018781934775538776,
            0.07325629238256418,
            0.0058503730903447845,
            0.05996867879922185,
            0.4097537964633749,
            0.4821020265544456,
            0.5291856449220773,
            0.2859835755710852,
            0.12406881267982213,
            0.1147474047826826,
            0.8167576980050656,
            0.3366606835590882,
            0.3545286786456328,
            0.0006991662989570513,
            0.01148101781859548,
            0.030471476835382837,
            0,
            2.7318529246789907,
            4.5486905768185695,
            0.0005083398339547161,
            3.9805371090436568,
            0.35870100411294337,
            0.3865999091832029,
            1.2722407684205594,
            0.6964948860190995,
            0.0338127152848727,
            0.4878109972728876,
            0.16011850688498244,
            0.5306449079384522,
            3.7187638215398207,
            0.4810170099897584,
            0.7987743874384909,
            0.01013583853178068,
            1.1522784403136783,
            2.393500965633565,
            0.19278424218994528,
            1.105427182833667,
            0.40445487184103457,
            0.2636210385234374,
            0.2458817326651216,
            0.7027480653572397,
            0.08683210770819721,
            1.2916616035405697,
            2.471087818068447,
            0.2493472827801266,
            0.17418020418242092,
            0.17152102440862652,
            0.521768952001583,
            0.9736203546858286,
            0.15827022154723802,
            0.05417121558565706,
            0.03727824296762253,
            0.18908734789446405,
            0.2875739794478045,
            0.2575777634478505,
            0.6322767868090715,
            0.0016855225140058347,
            0.07918806774012269,
            0.21153234949970545,
            1.3343208907081872,
            1.0373844645415504,
            3.4646876174975936,
            2.2417642938806925,
            0.1397634990069218,
            0.0933127441884789,
            0.06491817963765167,
            0.007095007093872891,
            0.06908286008700827,
            1.4339325771665887,
            0.1727990698231526,
            0.767433607819047,
            0.04903523671696355,
            0.6816337941909534,
            0.7892302681168035,
            0.15066961261040324,
            0.024137421279149158,
            0.11724374349414644,
            0.5212529710362317,
            0.00032311302127756807,
            0.004822649905314547,
            0.2280299294638907,
            0.7426558123838225,
            0.2833335062687076,
            0.040728209534871114,
            0.05664229268965595,
            0.2690698860220295,
            0.004459196776996403,
            0.3310771148019281,
            0.24322840138886576,
            0.19817879051672996,
            0.16794807631905107,
            0.006451292119313142,
            0.2434470055198775,
            0.019529044635088456,
            0.05134971954692317,
            0.3584626181294082,
            0.14515075902317154,
            0.02142842269358404,
            0.04405611843132659,
            0.10921232397228484,
            0.07761309723149468,
            0.04235891036029875,
            0.08114253547136277,
            0.00024828286355335963,
            0.0011126349885119213,
            0.2975849221031497,
            0.015615910642211113,
            0.1719985916956176,
            0.01618624541938165,
            0.7820446426633375,
            0.003337904965535764,
            0.01939024966925914,
            0.05518026700668646,
            0.8532787606947093,
            0.1422760885843576,
            0.3364288863595223,
            0.05489814642445035,
            0.09245219149350642,
            0.030259909943007507,
            0.09322430007962228,
            0.1571767434455022,
            0.8360776642997779,
            0.6248352547109446,
            0.2032434635329358,
            0.2863705239009784,
            0.11180133606256948,
            0.10413902798813468,
            0.7900965512446496,
            0.8656100346323519,
            0.20212045756265268,
            0.025499019394739204,
            0.11255916047051806,
            0.052419807671184364,
            0.3564817750419339,
            0.11981893871970035,
            0.007059040032953962,
            0.3322186725922164,
            0.8532325279309416,
            0.21474609470116288,
            0.03267019209998851
           ]
          },
          {
           "label": "index",
           "values": [
            0,
            1,
            2,
            3,
            4,
            5,
            6,
            7,
            8,
            9,
            10,
            11,
            12,
            13,
            14,
            15,
            16,
            17,
            18,
            19,
            20,
            21,
            22,
            23,
            24,
            25,
            26,
            27,
            28,
            29,
            30,
            31,
            32,
            33,
            34,
            35,
            36,
            37,
            38,
            39,
            40,
            41,
            42,
            43,
            44,
            45,
            46,
            47,
            48,
            49,
            50,
            51,
            52,
            53,
            54,
            55,
            56,
            57,
            58,
            59,
            60,
            61,
            62,
            63,
            64,
            65,
            66,
            67,
            68,
            69,
            70,
            71,
            72,
            73,
            74,
            75,
            76,
            77,
            78,
            79,
            80,
            81,
            82,
            83,
            84,
            85,
            86,
            87,
            88,
            89,
            90,
            91,
            92,
            93,
            94,
            95,
            96,
            97,
            98,
            99,
            100,
            101,
            102,
            103,
            104,
            105,
            106,
            107,
            108,
            109,
            110,
            111,
            112,
            113,
            114,
            115,
            116,
            117,
            118,
            119,
            120,
            121,
            122,
            123,
            124,
            125,
            126,
            127,
            128,
            129,
            130,
            131,
            132,
            133,
            134,
            135,
            136,
            137,
            138,
            139,
            140,
            141,
            142,
            143,
            144,
            145,
            146,
            147,
            148,
            149,
            150,
            151,
            152,
            153,
            154,
            155,
            156,
            157,
            158,
            159,
            160,
            161,
            162,
            163,
            164,
            165,
            166,
            167,
            168,
            169,
            170,
            171,
            172,
            173,
            174,
            175,
            176,
            177,
            178,
            179,
            180,
            181,
            182,
            183,
            184,
            185,
            186,
            187,
            188,
            189,
            190,
            191,
            192,
            193,
            194,
            195,
            196,
            197,
            198,
            199,
            200,
            201,
            202,
            203,
            204,
            205,
            206,
            207,
            208,
            209,
            210,
            211,
            212,
            213,
            214,
            215,
            216,
            217,
            218,
            219,
            220,
            221,
            222,
            223,
            224,
            225,
            226,
            227,
            228,
            229,
            230,
            231,
            232,
            233,
            234,
            235,
            236,
            237,
            238,
            239,
            240,
            241,
            242,
            243,
            244,
            245,
            246,
            247,
            248,
            249,
            250,
            251,
            252,
            253,
            254,
            255,
            256,
            257,
            258,
            259,
            260,
            261,
            262,
            263,
            264,
            265,
            266,
            267,
            268,
            269,
            270,
            271,
            272,
            273,
            274,
            275,
            276,
            277,
            278,
            279,
            280,
            281,
            282,
            283,
            284,
            285,
            286,
            287,
            288,
            289,
            290,
            291,
            292,
            293,
            294,
            295,
            296,
            297,
            298,
            299,
            300,
            301,
            302,
            303,
            304,
            305,
            306,
            307,
            308,
            309,
            310,
            311,
            312,
            313,
            314,
            315,
            316,
            317,
            318,
            319,
            320,
            321,
            322,
            323,
            324,
            325,
            326,
            327,
            328,
            329,
            330,
            331,
            332,
            333,
            334,
            335,
            336,
            337,
            338,
            339,
            340,
            341,
            342,
            343,
            344,
            345,
            346,
            347,
            348,
            349,
            350,
            351,
            352,
            353,
            354,
            355,
            356,
            357,
            358,
            359,
            360,
            361,
            362,
            363,
            364,
            365,
            366,
            367,
            368,
            369,
            370,
            371,
            372,
            373,
            374,
            375,
            376,
            377,
            378,
            379,
            380,
            381,
            382,
            383,
            384,
            385,
            386,
            387,
            388,
            389,
            390,
            391,
            392,
            393,
            394,
            395,
            396,
            397,
            398,
            399,
            400,
            401,
            402,
            403,
            404,
            405,
            406,
            407,
            408,
            409,
            410,
            411,
            412,
            413,
            414,
            415,
            416,
            417,
            418,
            419,
            420,
            421,
            422,
            423,
            424,
            425,
            426,
            427,
            428,
            429,
            430,
            431,
            432,
            433,
            434,
            435,
            436,
            437,
            438,
            439,
            440,
            441,
            442,
            443,
            444,
            445,
            446,
            447,
            448,
            449,
            450,
            451,
            452,
            453,
            454,
            455,
            456,
            457,
            458,
            459,
            460,
            461,
            462,
            463,
            464,
            465,
            466,
            467,
            468,
            469,
            470,
            471,
            472,
            473,
            474,
            475,
            476,
            477,
            478,
            479,
            480,
            481,
            482,
            483,
            484,
            485,
            486,
            487,
            488,
            489,
            490,
            491,
            492,
            493,
            494,
            495,
            496,
            497,
            498,
            499,
            500,
            501,
            502,
            503,
            504,
            505,
            506,
            507,
            508,
            509,
            510,
            511,
            512,
            513,
            514,
            515,
            516,
            517,
            518,
            519,
            520,
            521,
            522,
            523,
            524,
            525,
            526,
            527,
            528,
            529,
            530,
            531,
            532,
            533,
            534,
            535,
            536,
            537,
            538,
            539,
            540,
            541,
            542,
            543,
            544,
            545,
            546,
            547,
            548,
            549,
            550,
            551,
            552,
            553,
            554,
            555,
            556,
            557,
            558,
            559,
            560,
            561,
            562,
            563,
            564,
            565,
            566,
            567,
            568,
            569,
            570,
            571,
            572,
            573,
            574,
            575,
            576,
            577,
            578,
            579,
            580,
            581,
            582,
            583,
            584,
            585,
            586,
            587,
            588,
            589,
            590,
            591,
            592,
            593,
            594,
            595,
            596,
            597,
            598,
            599,
            600
           ]
          }
         ],
         "domain": {
          "x": [
           0,
           1
          ],
          "y": [
           0,
           1
          ]
         },
         "line": {
          "color": [
           0,
           1,
           2,
           3,
           4,
           5,
           6,
           7,
           8,
           9,
           10,
           11,
           12,
           13,
           14,
           15,
           16,
           17,
           18,
           19,
           20,
           21,
           22,
           23,
           24,
           25,
           26,
           27,
           28,
           29,
           30,
           31,
           32,
           33,
           34,
           35,
           36,
           37,
           38,
           39,
           40,
           41,
           42,
           43,
           44,
           45,
           46,
           47,
           48,
           49,
           50,
           51,
           52,
           53,
           54,
           55,
           56,
           57,
           58,
           59,
           60,
           61,
           62,
           63,
           64,
           65,
           66,
           67,
           68,
           69,
           70,
           71,
           72,
           73,
           74,
           75,
           76,
           77,
           78,
           79,
           80,
           81,
           82,
           83,
           84,
           85,
           86,
           87,
           88,
           89,
           90,
           91,
           92,
           93,
           94,
           95,
           96,
           97,
           98,
           99,
           100,
           101,
           102,
           103,
           104,
           105,
           106,
           107,
           108,
           109,
           110,
           111,
           112,
           113,
           114,
           115,
           116,
           117,
           118,
           119,
           120,
           121,
           122,
           123,
           124,
           125,
           126,
           127,
           128,
           129,
           130,
           131,
           132,
           133,
           134,
           135,
           136,
           137,
           138,
           139,
           140,
           141,
           142,
           143,
           144,
           145,
           146,
           147,
           148,
           149,
           150,
           151,
           152,
           153,
           154,
           155,
           156,
           157,
           158,
           159,
           160,
           161,
           162,
           163,
           164,
           165,
           166,
           167,
           168,
           169,
           170,
           171,
           172,
           173,
           174,
           175,
           176,
           177,
           178,
           179,
           180,
           181,
           182,
           183,
           184,
           185,
           186,
           187,
           188,
           189,
           190,
           191,
           192,
           193,
           194,
           195,
           196,
           197,
           198,
           199,
           200,
           201,
           202,
           203,
           204,
           205,
           206,
           207,
           208,
           209,
           210,
           211,
           212,
           213,
           214,
           215,
           216,
           217,
           218,
           219,
           220,
           221,
           222,
           223,
           224,
           225,
           226,
           227,
           228,
           229,
           230,
           231,
           232,
           233,
           234,
           235,
           236,
           237,
           238,
           239,
           240,
           241,
           242,
           243,
           244,
           245,
           246,
           247,
           248,
           249,
           250,
           251,
           252,
           253,
           254,
           255,
           256,
           257,
           258,
           259,
           260,
           261,
           262,
           263,
           264,
           265,
           266,
           267,
           268,
           269,
           270,
           271,
           272,
           273,
           274,
           275,
           276,
           277,
           278,
           279,
           280,
           281,
           282,
           283,
           284,
           285,
           286,
           287,
           288,
           289,
           290,
           291,
           292,
           293,
           294,
           295,
           296,
           297,
           298,
           299,
           300,
           301,
           302,
           303,
           304,
           305,
           306,
           307,
           308,
           309,
           310,
           311,
           312,
           313,
           314,
           315,
           316,
           317,
           318,
           319,
           320,
           321,
           322,
           323,
           324,
           325,
           326,
           327,
           328,
           329,
           330,
           331,
           332,
           333,
           334,
           335,
           336,
           337,
           338,
           339,
           340,
           341,
           342,
           343,
           344,
           345,
           346,
           347,
           348,
           349,
           350,
           351,
           352,
           353,
           354,
           355,
           356,
           357,
           358,
           359,
           360,
           361,
           362,
           363,
           364,
           365,
           366,
           367,
           368,
           369,
           370,
           371,
           372,
           373,
           374,
           375,
           376,
           377,
           378,
           379,
           380,
           381,
           382,
           383,
           384,
           385,
           386,
           387,
           388,
           389,
           390,
           391,
           392,
           393,
           394,
           395,
           396,
           397,
           398,
           399,
           400,
           401,
           402,
           403,
           404,
           405,
           406,
           407,
           408,
           409,
           410,
           411,
           412,
           413,
           414,
           415,
           416,
           417,
           418,
           419,
           420,
           421,
           422,
           423,
           424,
           425,
           426,
           427,
           428,
           429,
           430,
           431,
           432,
           433,
           434,
           435,
           436,
           437,
           438,
           439,
           440,
           441,
           442,
           443,
           444,
           445,
           446,
           447,
           448,
           449,
           450,
           451,
           452,
           453,
           454,
           455,
           456,
           457,
           458,
           459,
           460,
           461,
           462,
           463,
           464,
           465,
           466,
           467,
           468,
           469,
           470,
           471,
           472,
           473,
           474,
           475,
           476,
           477,
           478,
           479,
           480,
           481,
           482,
           483,
           484,
           485,
           486,
           487,
           488,
           489,
           490,
           491,
           492,
           493,
           494,
           495,
           496,
           497,
           498,
           499,
           500,
           501,
           502,
           503,
           504,
           505,
           506,
           507,
           508,
           509,
           510,
           511,
           512,
           513,
           514,
           515,
           516,
           517,
           518,
           519,
           520,
           521,
           522,
           523,
           524,
           525,
           526,
           527,
           528,
           529,
           530,
           531,
           532,
           533,
           534,
           535,
           536,
           537,
           538,
           539,
           540,
           541,
           542,
           543,
           544,
           545,
           546,
           547,
           548,
           549,
           550,
           551,
           552,
           553,
           554,
           555,
           556,
           557,
           558,
           559,
           560,
           561,
           562,
           563,
           564,
           565,
           566,
           567,
           568,
           569,
           570,
           571,
           572,
           573,
           574,
           575,
           576,
           577,
           578,
           579,
           580,
           581,
           582,
           583,
           584,
           585,
           586,
           587,
           588,
           589,
           590,
           591,
           592,
           593,
           594,
           595,
           596,
           597,
           598,
           599,
           600
          ],
          "coloraxis": "coloraxis"
         },
         "name": "",
         "type": "parcoords"
        }
       ],
       "layout": {
        "coloraxis": {
         "colorbar": {
          "title": {
           "text": "index"
          }
         },
         "colorscale": [
          [
           0,
           "#0d0887"
          ],
          [
           0.1111111111111111,
           "#46039f"
          ],
          [
           0.2222222222222222,
           "#7201a8"
          ],
          [
           0.3333333333333333,
           "#9c179e"
          ],
          [
           0.4444444444444444,
           "#bd3786"
          ],
          [
           0.5555555555555556,
           "#d8576b"
          ],
          [
           0.6666666666666666,
           "#ed7953"
          ],
          [
           0.7777777777777778,
           "#fb9f3a"
          ],
          [
           0.8888888888888888,
           "#fdca26"
          ],
          [
           1,
           "#f0f921"
          ]
         ]
        },
        "legend": {
         "tracegroupgap": 0
        },
        "margin": {
         "t": 60
        },
        "showlegend": false,
        "template": {
         "data": {
          "bar": [
           {
            "error_x": {
             "color": "#2a3f5f"
            },
            "error_y": {
             "color": "#2a3f5f"
            },
            "marker": {
             "line": {
              "color": "#E5ECF6",
              "width": 0.5
             }
            },
            "type": "bar"
           }
          ],
          "barpolar": [
           {
            "marker": {
             "line": {
              "color": "#E5ECF6",
              "width": 0.5
             }
            },
            "type": "barpolar"
           }
          ],
          "carpet": [
           {
            "aaxis": {
             "endlinecolor": "#2a3f5f",
             "gridcolor": "white",
             "linecolor": "white",
             "minorgridcolor": "white",
             "startlinecolor": "#2a3f5f"
            },
            "baxis": {
             "endlinecolor": "#2a3f5f",
             "gridcolor": "white",
             "linecolor": "white",
             "minorgridcolor": "white",
             "startlinecolor": "#2a3f5f"
            },
            "type": "carpet"
           }
          ],
          "choropleth": [
           {
            "colorbar": {
             "outlinewidth": 0,
             "ticks": ""
            },
            "type": "choropleth"
           }
          ],
          "contour": [
           {
            "colorbar": {
             "outlinewidth": 0,
             "ticks": ""
            },
            "colorscale": [
             [
              0,
              "#0d0887"
             ],
             [
              0.1111111111111111,
              "#46039f"
             ],
             [
              0.2222222222222222,
              "#7201a8"
             ],
             [
              0.3333333333333333,
              "#9c179e"
             ],
             [
              0.4444444444444444,
              "#bd3786"
             ],
             [
              0.5555555555555556,
              "#d8576b"
             ],
             [
              0.6666666666666666,
              "#ed7953"
             ],
             [
              0.7777777777777778,
              "#fb9f3a"
             ],
             [
              0.8888888888888888,
              "#fdca26"
             ],
             [
              1,
              "#f0f921"
             ]
            ],
            "type": "contour"
           }
          ],
          "contourcarpet": [
           {
            "colorbar": {
             "outlinewidth": 0,
             "ticks": ""
            },
            "type": "contourcarpet"
           }
          ],
          "heatmap": [
           {
            "colorbar": {
             "outlinewidth": 0,
             "ticks": ""
            },
            "colorscale": [
             [
              0,
              "#0d0887"
             ],
             [
              0.1111111111111111,
              "#46039f"
             ],
             [
              0.2222222222222222,
              "#7201a8"
             ],
             [
              0.3333333333333333,
              "#9c179e"
             ],
             [
              0.4444444444444444,
              "#bd3786"
             ],
             [
              0.5555555555555556,
              "#d8576b"
             ],
             [
              0.6666666666666666,
              "#ed7953"
             ],
             [
              0.7777777777777778,
              "#fb9f3a"
             ],
             [
              0.8888888888888888,
              "#fdca26"
             ],
             [
              1,
              "#f0f921"
             ]
            ],
            "type": "heatmap"
           }
          ],
          "heatmapgl": [
           {
            "colorbar": {
             "outlinewidth": 0,
             "ticks": ""
            },
            "colorscale": [
             [
              0,
              "#0d0887"
             ],
             [
              0.1111111111111111,
              "#46039f"
             ],
             [
              0.2222222222222222,
              "#7201a8"
             ],
             [
              0.3333333333333333,
              "#9c179e"
             ],
             [
              0.4444444444444444,
              "#bd3786"
             ],
             [
              0.5555555555555556,
              "#d8576b"
             ],
             [
              0.6666666666666666,
              "#ed7953"
             ],
             [
              0.7777777777777778,
              "#fb9f3a"
             ],
             [
              0.8888888888888888,
              "#fdca26"
             ],
             [
              1,
              "#f0f921"
             ]
            ],
            "type": "heatmapgl"
           }
          ],
          "histogram": [
           {
            "marker": {
             "colorbar": {
              "outlinewidth": 0,
              "ticks": ""
             }
            },
            "type": "histogram"
           }
          ],
          "histogram2d": [
           {
            "colorbar": {
             "outlinewidth": 0,
             "ticks": ""
            },
            "colorscale": [
             [
              0,
              "#0d0887"
             ],
             [
              0.1111111111111111,
              "#46039f"
             ],
             [
              0.2222222222222222,
              "#7201a8"
             ],
             [
              0.3333333333333333,
              "#9c179e"
             ],
             [
              0.4444444444444444,
              "#bd3786"
             ],
             [
              0.5555555555555556,
              "#d8576b"
             ],
             [
              0.6666666666666666,
              "#ed7953"
             ],
             [
              0.7777777777777778,
              "#fb9f3a"
             ],
             [
              0.8888888888888888,
              "#fdca26"
             ],
             [
              1,
              "#f0f921"
             ]
            ],
            "type": "histogram2d"
           }
          ],
          "histogram2dcontour": [
           {
            "colorbar": {
             "outlinewidth": 0,
             "ticks": ""
            },
            "colorscale": [
             [
              0,
              "#0d0887"
             ],
             [
              0.1111111111111111,
              "#46039f"
             ],
             [
              0.2222222222222222,
              "#7201a8"
             ],
             [
              0.3333333333333333,
              "#9c179e"
             ],
             [
              0.4444444444444444,
              "#bd3786"
             ],
             [
              0.5555555555555556,
              "#d8576b"
             ],
             [
              0.6666666666666666,
              "#ed7953"
             ],
             [
              0.7777777777777778,
              "#fb9f3a"
             ],
             [
              0.8888888888888888,
              "#fdca26"
             ],
             [
              1,
              "#f0f921"
             ]
            ],
            "type": "histogram2dcontour"
           }
          ],
          "mesh3d": [
           {
            "colorbar": {
             "outlinewidth": 0,
             "ticks": ""
            },
            "type": "mesh3d"
           }
          ],
          "parcoords": [
           {
            "line": {
             "colorbar": {
              "outlinewidth": 0,
              "ticks": ""
             }
            },
            "type": "parcoords"
           }
          ],
          "pie": [
           {
            "automargin": true,
            "type": "pie"
           }
          ],
          "scatter": [
           {
            "marker": {
             "colorbar": {
              "outlinewidth": 0,
              "ticks": ""
             }
            },
            "type": "scatter"
           }
          ],
          "scatter3d": [
           {
            "line": {
             "colorbar": {
              "outlinewidth": 0,
              "ticks": ""
             }
            },
            "marker": {
             "colorbar": {
              "outlinewidth": 0,
              "ticks": ""
             }
            },
            "type": "scatter3d"
           }
          ],
          "scattercarpet": [
           {
            "marker": {
             "colorbar": {
              "outlinewidth": 0,
              "ticks": ""
             }
            },
            "type": "scattercarpet"
           }
          ],
          "scattergeo": [
           {
            "marker": {
             "colorbar": {
              "outlinewidth": 0,
              "ticks": ""
             }
            },
            "type": "scattergeo"
           }
          ],
          "scattergl": [
           {
            "marker": {
             "colorbar": {
              "outlinewidth": 0,
              "ticks": ""
             }
            },
            "type": "scattergl"
           }
          ],
          "scattermapbox": [
           {
            "marker": {
             "colorbar": {
              "outlinewidth": 0,
              "ticks": ""
             }
            },
            "type": "scattermapbox"
           }
          ],
          "scatterpolar": [
           {
            "marker": {
             "colorbar": {
              "outlinewidth": 0,
              "ticks": ""
             }
            },
            "type": "scatterpolar"
           }
          ],
          "scatterpolargl": [
           {
            "marker": {
             "colorbar": {
              "outlinewidth": 0,
              "ticks": ""
             }
            },
            "type": "scatterpolargl"
           }
          ],
          "scatterternary": [
           {
            "marker": {
             "colorbar": {
              "outlinewidth": 0,
              "ticks": ""
             }
            },
            "type": "scatterternary"
           }
          ],
          "surface": [
           {
            "colorbar": {
             "outlinewidth": 0,
             "ticks": ""
            },
            "colorscale": [
             [
              0,
              "#0d0887"
             ],
             [
              0.1111111111111111,
              "#46039f"
             ],
             [
              0.2222222222222222,
              "#7201a8"
             ],
             [
              0.3333333333333333,
              "#9c179e"
             ],
             [
              0.4444444444444444,
              "#bd3786"
             ],
             [
              0.5555555555555556,
              "#d8576b"
             ],
             [
              0.6666666666666666,
              "#ed7953"
             ],
             [
              0.7777777777777778,
              "#fb9f3a"
             ],
             [
              0.8888888888888888,
              "#fdca26"
             ],
             [
              1,
              "#f0f921"
             ]
            ],
            "type": "surface"
           }
          ],
          "table": [
           {
            "cells": {
             "fill": {
              "color": "#EBF0F8"
             },
             "line": {
              "color": "white"
             }
            },
            "header": {
             "fill": {
              "color": "#C8D4E3"
             },
             "line": {
              "color": "white"
             }
            },
            "type": "table"
           }
          ]
         },
         "layout": {
          "annotationdefaults": {
           "arrowcolor": "#2a3f5f",
           "arrowhead": 0,
           "arrowwidth": 1
          },
          "coloraxis": {
           "colorbar": {
            "outlinewidth": 0,
            "ticks": ""
           }
          },
          "colorscale": {
           "diverging": [
            [
             0,
             "#8e0152"
            ],
            [
             0.1,
             "#c51b7d"
            ],
            [
             0.2,
             "#de77ae"
            ],
            [
             0.3,
             "#f1b6da"
            ],
            [
             0.4,
             "#fde0ef"
            ],
            [
             0.5,
             "#f7f7f7"
            ],
            [
             0.6,
             "#e6f5d0"
            ],
            [
             0.7,
             "#b8e186"
            ],
            [
             0.8,
             "#7fbc41"
            ],
            [
             0.9,
             "#4d9221"
            ],
            [
             1,
             "#276419"
            ]
           ],
           "sequential": [
            [
             0,
             "#0d0887"
            ],
            [
             0.1111111111111111,
             "#46039f"
            ],
            [
             0.2222222222222222,
             "#7201a8"
            ],
            [
             0.3333333333333333,
             "#9c179e"
            ],
            [
             0.4444444444444444,
             "#bd3786"
            ],
            [
             0.5555555555555556,
             "#d8576b"
            ],
            [
             0.6666666666666666,
             "#ed7953"
            ],
            [
             0.7777777777777778,
             "#fb9f3a"
            ],
            [
             0.8888888888888888,
             "#fdca26"
            ],
            [
             1,
             "#f0f921"
            ]
           ],
           "sequentialminus": [
            [
             0,
             "#0d0887"
            ],
            [
             0.1111111111111111,
             "#46039f"
            ],
            [
             0.2222222222222222,
             "#7201a8"
            ],
            [
             0.3333333333333333,
             "#9c179e"
            ],
            [
             0.4444444444444444,
             "#bd3786"
            ],
            [
             0.5555555555555556,
             "#d8576b"
            ],
            [
             0.6666666666666666,
             "#ed7953"
            ],
            [
             0.7777777777777778,
             "#fb9f3a"
            ],
            [
             0.8888888888888888,
             "#fdca26"
            ],
            [
             1,
             "#f0f921"
            ]
           ]
          },
          "colorway": [
           "#636efa",
           "#EF553B",
           "#00cc96",
           "#ab63fa",
           "#FFA15A",
           "#19d3f3",
           "#FF6692",
           "#B6E880",
           "#FF97FF",
           "#FECB52"
          ],
          "font": {
           "color": "#2a3f5f"
          },
          "geo": {
           "bgcolor": "white",
           "lakecolor": "white",
           "landcolor": "#E5ECF6",
           "showlakes": true,
           "showland": true,
           "subunitcolor": "white"
          },
          "hoverlabel": {
           "align": "left"
          },
          "hovermode": "closest",
          "mapbox": {
           "style": "light"
          },
          "paper_bgcolor": "white",
          "plot_bgcolor": "#E5ECF6",
          "polar": {
           "angularaxis": {
            "gridcolor": "white",
            "linecolor": "white",
            "ticks": ""
           },
           "bgcolor": "#E5ECF6",
           "radialaxis": {
            "gridcolor": "white",
            "linecolor": "white",
            "ticks": ""
           }
          },
          "scene": {
           "xaxis": {
            "backgroundcolor": "#E5ECF6",
            "gridcolor": "white",
            "gridwidth": 2,
            "linecolor": "white",
            "showbackground": true,
            "ticks": "",
            "zerolinecolor": "white"
           },
           "yaxis": {
            "backgroundcolor": "#E5ECF6",
            "gridcolor": "white",
            "gridwidth": 2,
            "linecolor": "white",
            "showbackground": true,
            "ticks": "",
            "zerolinecolor": "white"
           },
           "zaxis": {
            "backgroundcolor": "#E5ECF6",
            "gridcolor": "white",
            "gridwidth": 2,
            "linecolor": "white",
            "showbackground": true,
            "ticks": "",
            "zerolinecolor": "white"
           }
          },
          "shapedefaults": {
           "line": {
            "color": "#2a3f5f"
           }
          },
          "ternary": {
           "aaxis": {
            "gridcolor": "white",
            "linecolor": "white",
            "ticks": ""
           },
           "baxis": {
            "gridcolor": "white",
            "linecolor": "white",
            "ticks": ""
           },
           "bgcolor": "#E5ECF6",
           "caxis": {
            "gridcolor": "white",
            "linecolor": "white",
            "ticks": ""
           }
          },
          "title": {
           "x": 0.05
          },
          "xaxis": {
           "automargin": true,
           "gridcolor": "white",
           "linecolor": "white",
           "ticks": "",
           "title": {
            "standoff": 15
           },
           "zerolinecolor": "white",
           "zerolinewidth": 2
          },
          "yaxis": {
           "automargin": true,
           "gridcolor": "white",
           "linecolor": "white",
           "ticks": "",
           "title": {
            "standoff": 15
           },
           "zerolinecolor": "white",
           "zerolinewidth": 2
          }
         }
        }
       }
      },
      "text/html": [
       "<div>\n",
       "        \n",
       "        \n",
       "            <div id=\"ca87bc49-e438-4681-925f-3658ef7b66bd\" class=\"plotly-graph-div\" style=\"height:525px; width:100%;\"></div>\n",
       "            <script type=\"text/javascript\">\n",
       "                require([\"plotly\"], function(Plotly) {\n",
       "                    window.PLOTLYENV=window.PLOTLYENV || {};\n",
       "                    \n",
       "                if (document.getElementById(\"ca87bc49-e438-4681-925f-3658ef7b66bd\")) {\n",
       "                    Plotly.newPlot(\n",
       "                        'ca87bc49-e438-4681-925f-3658ef7b66bd',\n",
       "                        [{\"dimensions\": [{\"label\": \"Expected Annual Damage\", \"values\": [324171.41573116364, 0.0, 4440652.24848666, 2082337.485968688, 8890526.828364216, 904481.3057849888, 12931199.720537258, 11936447.201374246, 2001049.852144581, 39716626.30893026, 36626820.79776388, 1200134.2890301824, 13256305.207452098, 152995302.08547232, 38497198.440396056, 12534127.244360665, 8023862.422555095, 45994585.4768512, 377767981.19925153, 5880792.5220203325, 2574810.7667418905, 350608716.30157787, 12931199.720537258, 2668352.834807205, 95785772.87809366, 713689.517146502, 29875054.499807816, 14156136.507372314, 103294573.10309124, 24803273.15054666, 7012182.812121246, 2728502474.566328, 414126007.2061719, 3949022.120113028, 977901445.9305172, 122351491.82069406, 27309365.232901245, 7028475.614655096, 124789966.59861252, 2671561072.574527, 421390044.187877, 0.0, 205675708.61540803, 507406717.8503543, 362442567.3833517, 119693351.33913074, 3325945106.139164, 987382207.7683313, 4901530.75431392, 5559021.8047801135, 1239166557.651912, 512188414.7734438, 465226815.18130964, 317962752.2267391, 2963020.72009481, 37811540.94416249, 72121111.59837748, 2900385980.774719, 205225846.79943025, 2785893756.2468853, 1790412569.1038246, 1162927940.2740483, 224874196.21919623, 367941583.6446725, 2826189567.317557, 1869980172.470913, 278145566.08565295, 548766360.7815568, 428554496.7249652, 210586521.802758, 1118732689.0599294, 233022932.6743416, 2898918087.6026435, 0.0, 950278020.2754768, 12539586.112492096, 182063419.61167717, 561787950.4932791, 1913046607.6495247, 30922836.26461707, 3344176743.6646924, 3017684046.80255, 924980589.6866727, 1925926554.6076, 6186172.620705677, 2928596733.1363, 2434507250.9705505, 1850529490.5681047, 975567032.1363323, 1136617498.6888185, 816546887.5004383, 3162646659.630741, 155205802.55053037, 1749831453.7816114, 11626484.304945907, 114892326.10515478, 951342644.0567086, 198043644.38272685, 1230691412.6769679, 2745004081.401832, 943388221.9445908, 121351464.34290177, 137564525.69452477, 3480819244.881922, 31021295.79272418, 2859471683.437775, 1994230262.1736085, 1034893084.7148926, 803881769.1261266, 2973999447.210985, 3497007550.3606315, 1167077889.2129352, 3399272850.704542, 2895986181.7339053, 1387946315.9740586, 91587907.43934187, 1661225179.3277144, 2994499524.8873005, 1317714312.3030546, 466780273.4005046, 219744566.43841383, 622546092.6103567, 3596612817.7919087, 3539949144.031625, 1836344241.4219449, 1151646018.92586, 151924439.90668812, 3397062880.207665, 383434376.8872048, 3466692995.205311, 179398643.07022312, 968462724.7628863, 2566137124.7692, 362664474.5643833, 3530822786.8075523, 3101762082.313149, 3212193979.8670363, 3377343427.8182306, 2123088583.1539586, 3278107672.2559447, 152683535.76247746, 1169624045.9206452, 2570995053.4610405, 215750750.27420345, 732301020.152516, 2301890234.103971, 235244307.36632407, 2451265459.1676, 3437091600.665278, 676942556.624005, 3101762082.313149, 644555898.181602, 2643121601.120125, 1463924695.8157706, 2701192350.668552, 3084256289.575793, 4628894793.008843, 4726305124.679875, 3268174053.560461, 1819270513.0029106, 3180350774.1038394, 925374140.9002812, 131928350.10434052, 4092943617.296668, 8747072.435603825, 653690260.9126307, 2510492235.9431987, 2498040551.502902, 2469253342.197884, 228892339.1403709, 2414248099.783328, 1838375637.929089, 3232251555.253384, 610033648.6217327, 4845192122.985373, 4845192122.985373, 2854684073.9528265, 2218766165.030604, 2454541734.558289, 178477008.2958535, 4177738253.573837, 5038735330.107094, 869933957.3507168, 3119487812.2073827, 3266697640.8586235, 1800298167.0085022, 2453173899.233405, 2435781063.3653736, 3451215194.181009, 3208372422.2294016, 1575806033.5685315, 4093673214.537694, 2551827396.044697, 2028367841.3267863, 4726331892.465437, 928525415.7364094, 3249604838.244253, 908881213.9336537, 2674955139.836214, 4483596552.12836, 2363875921.7406225, 4855671716.060611, 4767910282.667093, 3574785850.2972813, 3541469999.7626905, 3437091600.665278, 3349247668.327249, 2570560195.9369273, 0.0, 1773113754.7924852, 2803052709.3279986, 3710685879.8581033, 706015216.5711215, 2658660832.78079, 1090785415.3465102, 778567485.9422532, 1704719284.4348063, 2544712186.791409, 3454996213.552643, 2687406824.2765107, 3574785850.2972813, 690241192.5829778, 3454996213.552643, 2592294970.198347, 2458921762.1812353, 1080928269.2684646, 2074616973.38578, 194466766.9303409, 4726331892.465437, 2511946578.0473323, 2271440351.85609, 5038735330.107094, 3508134427.322587, 5167523932.308254, 935747250.7530416, 4258562379.070128, 2024443398.859098, 2592294970.198347, 2532183668.764764, 110171762.749663, 3514090018.991466, 2271440351.85609, 1786969012.632367, 4118057678.9188337, 2435781063.3653736, 3574785850.2972813, 2469015730.194997, 1925428623.019896, 3397871261.963969, 1048560820.242089, 1035596566.8602567, 188495840.61284798, 4845192122.985373, 3808743188.319753, 3646937105.5860953, 3466692995.205311, 720144458.1261129, 2532183668.764764, 2804378020.9690113, 2225186873.4103165, 4092943617.296668, 3042612716.770261, 3483869939.2169514, 3440266039.451021, 2278279908.7783904, 4855671716.060611, 610033648.6217327, 2627463432.6356997, 2153182154.532165, 2571198718.420336, 5038735330.107094, 569557114.464653, 702062357.3258277, 2793015158.5741496, 1755050010.8917475, 796887156.1861137, 1020334805.621585, 949694129.6044221, 4128596203.296308, 3596612817.7919087, 5144590004.246551, 4767910282.667093, 1186406647.6252654, 2373747166.3087893, 56323377.62723667, 0.0, 796887156.1861137, 2545033867.387466, 49658255.15505397, 2705922727.5997076, 3358295730.7716866, 1179080256.7458124, 3380489.0032159095, 376632340.00605637, 941000837.9438744, 1028810622.08694, 1823568773.8113706, 382730710.6674735, 1695892363.453186, 3021499470.2658143, 5038735330.107094, 5167523932.308254, 152407171.94254646, 2910275790.4355364, 1620808256.6640556, 973260211.8483461, 1148546753.0472062, 2747478859.8413444, 160173727.89519727, 398874543.15124017, 984090155.2367301, 281044796.3735195, 840994931.7340636, 2998704449.2146645, 921018374.424462, 426948627.05852985, 333330229.7705171, 2757499150.966228, 3017090062.934914, 230263669.09147, 698648815.1731125, 959064324.6632028, 166149449.90579724, 1948440757.2379427, 8747072.435603825, 963765319.4897476, 198529069.68643716, 70773835.39635941, 3441141467.439869, 169506244.0236248, 900960061.3175927, 418597684.45389694, 2666456387.9034953, 233755504.92523757, 93284870.00315285, 668695092.7610111, 259774595.6439969, 4020479.09026688, 2772156433.129845, 3710685879.8581033, 324171.41573116364, 2091946689.1934843, 3037692431.0119514, 1023279415.9272614, 291744051.37391543, 523741870.7201597, 1800298167.0085022, 917188965.6521508, 1869980172.470913, 1260513348.2103474, 6032683.18838298, 585848555.9429209, 1192184466.578902, 2585919211.571053, 877497008.4447142, 1356129741.6147218, 999962325.4749905, 441825272.26109886, 839614674.2905147, 1005824109.2201766, 1111451032.6040967, 2661188807.4732194, 447973190.03472686, 1103462395.6781738, 1111089601.357901, 1189397235.5548465, 948772071.7441982, 183870619.6394444, 986907178.3940506, 208388771.9327601, 79509068.76540275, 12607088.857034173, 187661925.15208843, 162743245.79800934, 979660988.5043957, 209861186.83383197, 24359463.61195624, 187500391.16692588, 12931199.720537258, 2034588.0185437668, 66647034.31085348, 194831611.31946895, 0.0, 2610005.334287087, 2421873314.5466857, 2793015158.5741496, 2628335251.0811357, 2950675918.888593, 4495294124.2266245, 2559588969.511516, 2908689904.975215, 5167523932.308254, 1311828696.1032922, 6561107.620145427, 2606147488.670109, 2906379262.9726853, 13405354.58024199, 1081737937.3002882, 267867393.87275928, 756500045.9673611, 41632272.90816678, 6536594.093992002, 772170288.4451329, 1819484922.4141085, 2024170401.7012625, 658586449.4589406, 208725165.04288524, 2529444766.2706947, 639441399.441742, 1106809854.2000492, 400782659.82471335, 1803261988.5232296, 491864064.81776935, 49207447.10319926, 331136303.91351986, 1363426593.7361324, 26485443.00338177, 304646290.47172254, 86836135.88787054, 1172321288.8191404, 460434140.93333405, 631436233.1518893, 1087348744.610222, 1302516543.6830845, 651501218.9065771, 100006374.21073434, 156484770.2486714, 1046337257.5949504, 3473160666.344812, 1015792249.1689893, 1082916904.9226966, 1851041442.2011175, 552968793.7808546, 877299143.6947185, 726187624.646962, 2757005554.8745394, 287604624.0932431, 1823568773.8113706, 2963020.72009481, 2552336680.891965, 15076233.6347315, 3454996213.552643, 966509418.9176109, 921611525.5763396, 29160752.547936864, 1946776441.179264, 3539949144.031625, 192840551.1410239, 62520360.6354537, 1131434457.4583402, 1034730276.6428967, 921417405.9000232, 552596728.4393189, 1000445833.1939594, 50455661.79299165, 989120822.4483413, 433723314.6301607, 1118688699.7086208, 1009402158.4499928, 652958445.5234661, 1150741147.2282162, 131154096.96176721, 94673088.05188784, 44319536.131848, 220285635.00868043, 838514389.5910766, 571140306.6770293, 3085714670.611684, 1126306504.2478604, 997545381.9642912, 153096217.81611866, 998054867.0851127, 380893580.99332535, 423879002.7157815, 6048032.131615252, 13645730.807052258, 23167418.7560723, 0.0, 2658660832.78079, 4176661441.781229, 3410782.426398384, 3413308731.7382503, 2511946578.0473323, 1528854229.7417912, 1599896503.785861, 2202193416.607521, 22576527.89571238, 4205743057.8816657, 1815904787.500916, 3430459461.962244, 4258562379.070128, 3483869939.2169514, 972427653.3628318, 15539767.918855907, 3535741758.046213, 3451215194.181009, 1431255701.5830636, 773900296.2736652, 2662219289.660395, 3214353944.1354594, 1993412831.339933, 2868052666.5120964, 103203357.44668835, 790803138.885626, 3541693261.128121, 761946312.1916207, 1824297324.4103804, 1088584120.6214411, 2603318347.243646, 1136951880.1562753, 1063939023.7811197, 231306393.82126144, 219903501.20507416, 232033396.0477116, 3458904129.275856, 3158741235.4379396, 2683017354.9017673, 15025041.25625164, 805685353.0315242, 1461325802.5970368, 1815904787.500916, 894993004.4008064, 2788765471.869241, 3267727826.6859217, 473183430.4240935, 107426017.99638604, 136151729.86397603, 8155795.363471614, 667075910.914937, 1934031245.063555, 546560550.7366824, 3097457151.116259, 320351330.85127985, 2827921133.250025, 907787290.9406196, 1263581068.8351192, 19444133.95125693, 360398828.35580415, 1869252288.328672, 2736158.3810447184, 34355147.15385675, 2834302077.008627, 1106809854.2000492, 2810916555.5587363, 363976504.04551816, 424993055.48247135, 3266697640.8586235, 38497198.440396056, 373476831.7561535, 2982864357.911023, 201747012.69832292, 149616988.3804779, 22025033.478047766, 3007119971.3645864, 191159461.60608992, 500271707.96985215, 436505962.14101845, 1250867702.4974942, 72683987.41785392, 59374937.07926247, 1087198904.5442998, 974476747.5864855, 409699296.9093503, 639053960.8828328, 717338.4194965527, 10155157.467192948, 994554210.0370574, 8909774.173209457, 192033611.8734693, 171969566.05357194, 915671160.1656929, 10155157.467192948, 134275865.78782293, 246955947.37527987, 1003620395.5974971, 1233834072.871048, 1059970155.7667867, 197650183.70800552, 909808651.4181104, 283556353.4465167, 895628831.6965189, 1800810623.9985003, 973119131.9849092, 645033952.3698463, 228457542.30462176, 1163814453.1732852, 1109303684.697299, 974581281.6865324, 913839972.6322516, 942719792.4629494, 1314749423.0199435, 196292708.1287404, 1315703346.6383994, 35657712.62212331, 405633023.41654193, 972558660.177114, 48824124.30315279, 1047278937.5390989, 943967474.7118804, 190372198.39983773, 39388005.54765722]}, {\"label\": \"Dike Investment Costs\", \"values\": [596038075.573737, 492110756.37559336, 612863150.9904143, 377404409.9872017, 346586927.69741434, 375803204.5266529, 350426669.2054602, 360532483.1613537, 376634407.55802166, 334258342.53376096, 243240243.11900157, 398487580.15937495, 271616559.16106087, 210704901.10481477, 275295541.55805105, 384185338.6564938, 490725012.5318999, 234437831.19859144, 214098437.48124188, 557955184.3532819, 444798966.8686453, 243181605.49393877, 378771011.0242623, 309272434.23261034, 372196115.04843, 303259407.67236584, 239312170.3416088, 487481741.40645134, 328760399.0461912, 207993894.3531984, 509450247.632879, 175795630.77007726, 176779556.32708693, 513914418.54091394, 179482768.1627048, 217925770.28599668, 266413501.61867127, 360972042.1822511, 305138734.40570825, 177328250.3683789, 219447468.73270133, 318272383.8151728, 107568855.99274053, 212777792.9641592, 184738827.85082453, 335373854.5461397, 126926697.52505778, 134424883.05937096, 444958064.2029757, 262692472.926778, 157315015.70541772, 167281184.7192781, 119949429.64422897, 145717369.92359483, 449015224.43309915, 165633949.53832957, 164301870.11078078, 125177071.38480784, 117859249.45358407, 139752269.42907962, 110417403.04551706, 169375200.28222793, 207896208.58022633, 180303674.86089832, 162091792.07082862, 70638278.87976344, 128510663.98867312, 161931278.70074025, 176313675.84399474, 195169000.10652307, 112450698.15539384, 103764701.46848272, 150116072.42620042, 432208087.6564359, 104431282.26592895, 617878380.3719685, 102085072.36566988, 152481292.3426653, 68588238.28569964, 176572078.66264078, 113183843.60575864, 127311685.94274776, 195480767.56245896, 66526510.21335208, 569957960.5981302, 94452566.68108755, 43605838.21022567, 94404771.69852576, 104988933.06230672, 115811933.26037182, 136972639.4110257, 85366479.69085631, 141759078.88612318, 98810948.26734796, 211666947.81339425, 147711724.13962102, 152454248.5468879, 103764701.46848272, 127695524.25910386, 103303249.1000752, 160560976.64253038, 305485969.3236819, 141339909.330599, 75638526.60088281, 153948347.19735548, 132493592.08365837, 88681575.57329373, 122011947.12341121, 128853690.08673604, 116085960.85456105, 57688654.23414315, 41553641.95784432, 73520427.60599552, 111339597.88213448, 99931179.95165087, 138771469.0603013, 30518832.761027627, 75530159.85232347, 118975899.77115951, 129131933.75285035, 119813208.69347218, 135502284.66990685, 73255514.43083505, 83943645.29440226, 48022427.33922428, 126879001.20620644, 167442357.26896358, 92272738.82580002, 200980391.97810724, 14092235.304915495, 118513686.09421209, 55626382.50323384, 58261762.51262028, 89433583.83624218, 6320800.309666242, 72810338.4154039, 53839304.59796696, 39642595.51689799, 61821704.53631321, 87905803.64971545, 153928226.12571186, 55304952.4121666, 6320800.309666242, 108795771.775376, 31530112.67088316, 82670621.08681746, 92013880.50074324, 88382162.53833595, 14092235.304915495, 51188461.88447814, 88782655.41589376, 103585957.67743476, 6320800.309666242, 111233925.37385792, 6320800.309666242, 64679809.60307171, 51271823.36810584, 15063068.18035096, 63819984.89492965, 89394201.38414001, 81934101.17127429, 45290333.42457701, 167486961.20825827, 39261100.63171234, 356302365.90630585, 155493507.03797844, 61779165.37512829, 119671218.69933668, 17803345.000196747, 96156496.60633814, 30518832.761027627, 92329259.02350274, 6320800.309666242, 67976476.6481509, 12857587.774250695, 11068771.68625446, 30518832.761027627, 29499898.41832553, 76760014.34701413, 104799039.72664195, 30518832.761027627, 6320800.309666242, 127388860.185002, 66059851.00265191, 59655349.33957395, 55304952.4121666, 34856787.23891449, 6320800.309666242, 48313797.04323805, 75190599.94520733, 40542362.04798879, 8453407.696608048, 6320800.309666242, 39261100.63171234, 22374727.640758883, 77330591.15773259, 80372986.61971462, 68924944.84007743, 0.0, 27631367.84684247, 16347288.792964686, 26620087.93698693, 30518832.761027627, 16563094.679399515, 81934101.17127427, 16347288.792964686, 24198032.45136138, 8453407.696608048, 248853463.9657871, 24198032.45136138, 72810338.41540392, 43368267.57817625, 76532108.13372111, 39260967.31655713, 120123470.00804932, 68763954.71279168, 43368267.57817625, 17701182.393370774, 27167070.070984066, 21069784.9353956, 16563094.679399515, 64835987.44502628, 15063068.18035096, 31376262.39639436, 92088168.72158682, 136568757.78469703, 38101456.43528009, 91078171.62858877, 12586457.998778107, 52644535.20891549, 24198032.45136138, 14261651.781499248, 32724179.85197268, 6320800.309666242, 66351729.81739489, 32651440.14796943, 26403379.54230644, 12586457.998778107, 11068771.68625446, 92619540.91676804, 65579576.13416252, 31530112.67088316, 30518832.761027627, 15063068.18035096, 17767801.395336673, 0.0, 16373078.86359202, 80171903.14467402, 39642595.51689799, 37719598.02837785, 82543738.60265699, 82961897.00337529, 0.0, 16925244.491970196, 61855040.89497691, 6320800.309666242, 41965833.84669805, 0.0, 55149093.42862698, 12857587.774250695, 32651440.14796943, 92874488.03221528, 30528580.36230105, 30518832.761027627, 22928006.72310114, 0.0, 54840970.3272158, 94600095.93021724, 30518832.761027627, 0.0, 12857587.774250695, 54840970.3272158, 35119197.44027519, 30518832.761027627, 26403379.54230644, 31398797.71871161, 30518832.761027627, 34202711.6112394, 57354573.83472725, 63819984.89492965, 0.0, 24198032.45136138, 24198032.45136138, 65579576.13416252, 383565059.29831713, 342523233.94663274, 47079149.51257324, 6320800.309666242, 319749012.0546047, 148009622.98440212, 89878364.62043948, 135078896.18336928, 326306707.123363, 84757371.3189225, 175825542.93454367, 154688334.55050263, 59655349.33957395, 155639161.9187682, 79901106.85662371, 148654450.52507314, 40100282.26652469, 11068771.68625446, 213162833.92783263, 109105152.35221308, 98694056.59301902, 47344274.91176162, 108681365.00404076, 113017332.28579524, 162642999.045946, 172230601.0118311, 61881638.71326314, 127507365.9290212, 56502980.92639092, 87981335.73038813, 92920641.18342496, 181302038.9220332, 123117711.5839374, 158612413.31851682, 113622253.7971738, 126438823.73535052, 94210008.59684937, 133423718.36911212, 173135346.31932214, 116613349.65922353, 361200276.3164604, 138204869.77244204, 293673509.96430624, 181139784.85872063, 73699080.35414863, 216756430.43534315, 96721794.10284512, 158281925.36025554, 167512164.90262386, 183727547.940969, 211299024.63146183, 150491151.48033863, 221102194.9019881, 516024598.6050655, 40542362.04798879, 40545321.24432606, 580926199.281271, 74942945.80234572, 61799791.70597779, 41553641.95784432, 143075243.1381609, 181753799.25117725, 62235116.98738888, 77720855.64246537, 67603330.86959697, 129529133.46640415, 381833332.5672268, 119917192.40175436, 131059530.90268052, 14261651.781499248, 86370107.67400531, 110466986.78701667, 30518832.761027627, 103841409.94280452, 124072981.45637757, 161072425.24025944, 53848132.57995895, 185105230.9886844, 135325726.25987548, 144472238.02564117, 116287185.47939628, 109794585.40509623, 64648501.49407049, 249418507.83915156, 139706857.78541058, 209662228.1614461, 326856097.19397616, 207734196.91015664, 155571847.9354316, 264543270.01745805, 182177821.16429865, 155703735.0082062, 208434714.674612, 208345293.43024883, 237147716.72402132, 444873179.4706324, 176383939.21072817, 250876536.23251095, 250593881.55370048, 215656741.4535561, 62332119.5628021, 24198032.45136138, 94628862.91105583, 90808900.6494509, 6320800.309666242, 6320800.309666242, 92448482.98241132, 12857587.774250695, 93900935.64819968, 430818718.8703537, 14261651.781499248, 101519117.19067268, 439261859.9446563, 151500539.51751602, 85073585.94225481, 104649311.57117328, 190747104.98302868, 166793593.7347618, 91132212.71473584, 69643919.67047566, 114407869.25312324, 124630655.53902169, 130919551.3781668, 81824535.36833069, 112249783.00570484, 121387267.28318632, 95014558.50507057, 71834615.46061754, 167596828.44153148, 229058281.64988565, 144888296.4273433, 30518832.761027627, 213287795.02691117, 117932568.39102983, 157777042.83325702, 105160095.21791802, 88149503.08932526, 118262772.7980032, 147174706.06305853, 115991553.96708734, 142243970.63310438, 245707896.42023396, 173761600.45868096, 95979971.31068248, 112016685.49699208, 144292567.07268956, 121819773.15896767, 95317937.48339257, 133100406.3038272, 88392030.34061909, 198696197.31307068, 110301488.9330672, 177351238.0224661, 45491033.0236271, 512227684.426294, 7332080.219521779, 223878518.10422155, 16373078.86359202, 98401533.47821298, 165437101.81586206, 187128810.60830858, 79429517.78002818, 64086725.15802531, 295248504.6060353, 260832920.83899567, 118420234.18131508, 172276112.73239195, 79763656.88293718, 113435840.26394606, 38101456.43528009, 222555041.00882512, 154987063.87623852, 119284954.87100184, 34221561.73832255, 150366766.5375215, 159629085.60739353, 122938036.9856282, 258670885.2453189, 199493639.21347833, 194676403.07807255, 200771707.37696272, 150463743.16423944, 164456049.22232363, 30518832.761027627, 134021580.08825578, 34221561.73832255, 197993470.33402568, 123107540.08608907, 161310778.0284691, 160818797.48703685, 260342029.89665857, 282415985.9321514, 415950303.45097184, 434372051.4289746, 82073613.40965964, 7332080.219521779, 484334263.16912425, 90397489.68172042, 43535380.79911551, 71156787.75469251, 106554156.8862718, 59507757.09570752, 455728024.1753351, 30518832.761027627, 87461332.25801656, 32651440.14796943, 30518832.761027627, 6320800.309666242, 47746086.5116763, 155175780.34796754, 126677531.4579267, 50736146.06646574, 108172237.50986314, 156036158.07525885, 81108171.62045583, 77062120.82469302, 96406252.8062563, 149394966.25438863, 302899826.00341934, 212237306.196292, 42674969.43493059, 92299210.6783499, 75029612.40190354, 96016760.1775462, 7332080.219521779, 44256385.4929623, 127025853.34386525, 182928075.9334362, 106039630.12292132, 275307866.90511936, 40542362.04798879, 81445318.37235664, 160620102.33315578, 321248830.20081484, 84343655.09090799, 114180848.91846795, 106399284.50075041, 155065884.07187417, 67180047.91085424, 40542362.04798879, 172909699.05467632, 232205695.12639207, 153162136.6080771, 352889739.74899656, 103209734.75180002, 76760483.97072226, 169633844.11336392, 57283197.43034519, 132574226.09544492, 112062354.30017471, 86777206.54722857, 125173945.9042056, 225058689.2827708, 196151344.97000745, 183989982.44001877, 212430842.9459652, 226345827.44754872, 150777960.44115573, 117442217.75865528, 138161467.03885186, 167225081.11225668, 120651790.23157746, 63276702.55292826, 348818074.5029244, 87580135.33853345, 95585855.19097304, 191668399.412802, 185239656.51684976, 239720427.01818785, 66950071.05174501, 143264380.213554, 162197173.25032648, 150986238.5037891, 128703702.50987533, 214439677.00617668, 184115012.27195013, 129694747.98629785, 155159254.60693407, 118999487.31779262, 156461594.81672245, 305960608.76215583, 224449721.61533943, 52767439.51947523, 249029002.4345696, 179513988.98055106, 201249828.64142308, 209025994.8873029, 293338372.3463379, 268130909.32251623, 152940438.0997722, 41847942.60784305, 93565259.89756954, 176184104.21770892, 197963817.49636903, 97967038.90461014, 185810687.38302457, 111799099.56170411, 72819095.44734606, 182259538.1665732, 106587465.48809367, 177309366.50964242, 144393716.7352443, 76641096.69370905, 70299745.46843308, 147025503.33413282, 92988385.48667371, 121363597.67443743, 143744455.6804146, 112707487.06777184, 415426066.3752448, 138448002.26071444, 83513780.76613931, 252225799.8052905, 147788409.66266274, 90967423.8903648, 147905433.51712376, 185069026.79071572]}, {\"label\": \"RfR Investment Costs\", \"values\": [146000000.0, 176700000.0, 0.0, 297900000.0, 213300000.0, 382500000.0, 199900000.0, 146000000.0, 334500000.0, 30700000.0, 151900000.0, 297900000.0, 261300000.0, 61400000.0, 84600000.0, 92100000.0, 0.0, 363800000.0, 0.0, 61400000.0, 182600000.0, 0.0, 30700000.0, 297900000.0, 0.0, 540300000.0, 309900000.0, 0.0, 0.0, 644500000.0, 30700000.0, 0.0, 61400000.0, 115300000.0, 0.0, 30700000.0, 61400000.0, 261300000.0, 0.0, 30700000.0, 0.0, 419100000.0, 636900000.0, 0.0, 30700000.0, 0.0, 0.0, 357700000.0, 146000000.0, 503700000.0, 84600000.0, 61400000.0, 589200000.0, 569600000.0, 176700000.0, 485000000.0, 236500000.0, 30700000.0, 739400000.0, 30700000.0, 61400000.0, 84600000.0, 84600000.0, 230600000.0, 0.0, 205800000.0, 575500000.0, 146000000.0, 151900000.0, 115300000.0, 267200000.0, 793300000.0, 0.0, 382500000.0, 236500000.0, 0.0, 1041800000.0, 169200000.0, 673500000.0, 739400000.0, 30700000.0, 0.0, 0.0, 115300000.0, 30700000.0, 0.0, 369700000.0, 30700000.0, 115300000.0, 30700000.0, 61400000.0, 151900000.0, 702800000.0, 151900000.0, 569600000.0, 454300000.0, 0.0, 824000000.0, 30700000.0, 151900000.0, 236500000.0, 0.0, 874300000.0, 30700000.0, 1213300000.0, 30700000.0, 84600000.0, 357700000.0, 309900000.0, 30700000.0, 84600000.0, 302400000.0, 30700000.0, 61400000.0, 84600000.0, 606200000.0, 727400000.0, 61400000.0, 115300000.0, 169200000.0, 793300000.0, 115300000.0, 30700000.0, 0.0, 267200000.0, 146000000.0, 793300000.0, 30700000.0, 146000000.0, 236500000.0, 1297900000.0, 678000000.0, 217800000.0, 854700000.0, 205800000.0, 30700000.0, 151900000.0, 151900000.0, 431100000.0, 92100000.0, 958900000.0, 302400000.0, 575500000.0, 1382500000.0, 771800000.0, 84600000.0, 606200000.0, 84600000.0, 267200000.0, 856400000.0, 30700000.0, 485000000.0, 290400000.0, 61400000.0, 302400000.0, 115300000.0, 0.0, 438700000.0, 151900000.0, 92100000.0, 0.0, 708700000.0, 739400000.0, 121200000.0, 146000000.0, 267200000.0, 169200000.0, 0.0, 394500000.0, 660100000.0, 423600000.0, 146000000.0, 552300000.0, 1328600000.0, 61400000.0, 61400000.0, 236500000.0, 708700000.0, 115300000.0, 1554000000.0, 61400000.0, 30700000.0, 302400000.0, 92100000.0, 61400000.0, 267200000.0, 369700000.0, 957200000.0, 30700000.0, 92100000.0, 556800000.0, 248500000.0, 618200000.0, 146000000.0, 182600000.0, 762600000.0, 61400000.0, 877900000.0, 520200000.0, 182600000.0, 1163000000.0, 151900000.0, 0.0, 84600000.0, 0.0, 267200000.0, 400400000.0, 619900000.0, 684900000.0, 321100000.0, 84600000.0, 30700000.0, 1193700000.0, 84600000.0, 236500000.0, 485000000.0, 333100000.0, 793300000.0, 146000000.0, 169200000.0, 84600000.0, 1419100000.0, 146000000.0, 199900000.0, 61400000.0, 297900000.0, 236500000.0, 1638600000.0, 182600000.0, 146000000.0, 678000000.0, 30700000.0, 286800000.0, 0.0, 1018700000.0, 0.0, 678000000.0, 199900000.0, 1047700000.0, 1037400000.0, 0.0, 678000000.0, 454300000.0, 92100000.0, 1041800000.0, 84600000.0, 650600000.0, 115300000.0, 84600000.0, 423600000.0, 417700000.0, 1469400000.0, 61400000.0, 213300000.0, 182600000.0, 236500000.0, 1027900000.0, 914500000.0, 0.0, 989600000.0, 121200000.0, 213300000.0, 115300000.0, 213300000.0, 515700000.0, 151900000.0, 1110800000.0, 0.0, 943300000.0, 363800000.0, 30700000.0, 1145100000.0, 771800000.0, 357700000.0, 606200000.0, 1725500000.0, 1348200000.0, 905000000.0, 0.0, 30700000.0, 121200000.0, 0.0, 793300000.0, 146000000.0, 0.0, 388400000.0, 1080100000.0, 666200000.0, 30700000.0, 30700000.0, 61400000.0, 30700000.0, 176700000.0, 618200000.0, 176700000.0, 30700000.0, 236500000.0, 151900000.0, 146000000.0, 0.0, 30700000.0, 0.0, 61400000.0, 30700000.0, 115300000.0, 351800000.0, 84600000.0, 0.0, 744700000.0, 199900000.0, 485000000.0, 382500000.0, 606200000.0, 92100000.0, 454300000.0, 169200000.0, 538900000.0, 30700000.0, 30700000.0, 515700000.0, 431100000.0, 146000000.0, 290400000.0, 0.0, 146000000.0, 388400000.0, 0.0, 642800000.0, 30700000.0, 30700000.0, 363800000.0, 182600000.0, 30700000.0, 151900000.0, 121200000.0, 84600000.0, 0.0, 84600000.0, 146000000.0, 30700000.0, 146000000.0, 61400000.0, 182600000.0, 423600000.0, 756700000.0, 30700000.0, 267200000.0, 454300000.0, 205800000.0, 0.0, 92100000.0, 230600000.0, 115300000.0, 454300000.0, 581600000.0, 115300000.0, 618200000.0, 503700000.0, 267200000.0, 182600000.0, 363800000.0, 0.0, 456000000.0, 205800000.0, 115300000.0, 84600000.0, 230600000.0, 0.0, 151900000.0, 84600000.0, 30700000.0, 479100000.0, 273100000.0, 0.0, 0.0, 856400000.0, 267200000.0, 230600000.0, 333100000.0, 182600000.0, 770100000.0, 0.0, 554000000.0, 1669300000.0, 205800000.0, 357700000.0, 30700000.0, 0.0, 303800000.0, 538900000.0, 61400000.0, 0.0, 146000000.0, 176700000.0, 333100000.0, 30700000.0, 0.0, 115300000.0, 721500000.0, 333100000.0, 351800000.0, 806100000.0, 448400000.0, 521600000.0, 30700000.0, 169200000.0, 411600000.0, 84600000.0, 382500000.0, 492600000.0, 544800000.0, 205800000.0, 151900000.0, 485000000.0, 569600000.0, 321100000.0, 636900000.0, 702800000.0, 799400000.0, 213300000.0, 485000000.0, 315200000.0, 267200000.0, 30700000.0, 92100000.0, 30700000.0, 473000000.0, 236500000.0, 0.0, 388400000.0, 297900000.0, 115300000.0, 363800000.0, 454300000.0, 0.0, 121200000.0, 30700000.0, 236500000.0, 146000000.0, 485000000.0, 581600000.0, 146000000.0, 363800000.0, 30700000.0, 363800000.0, 115300000.0, 0.0, 0.0, 30700000.0, 115300000.0, 0.0, 708700000.0, 315200000.0, 485000000.0, 61400000.0, 146000000.0, 485000000.0, 199900000.0, 115300000.0, 146000000.0, 146000000.0, 0.0, 236500000.0, 236500000.0, 61400000.0, 30700000.0, 30700000.0, 115300000.0, 205800000.0, 454300000.0, 267200000.0, 30700000.0, 236500000.0, 182600000.0, 388400000.0, 61400000.0, 0.0, 230600000.0, 84600000.0, 217800000.0, 151900000.0, 30700000.0, 146000000.0, 297900000.0, 115300000.0, 115300000.0, 30700000.0, 151900000.0, 84600000.0, 279200000.0, 0.0, 115300000.0, 997200000.0, 987900000.0, 0.0, 30700000.0, 115300000.0, 30700000.0, 115300000.0, 61400000.0, 84600000.0, 0.0, 30700000.0, 0.0, 0.0, 508200000.0, 146000000.0, 411600000.0, 589200000.0, 199900000.0, 121200000.0, 199900000.0, 729100000.0, 0.0, 121200000.0, 61400000.0, 61400000.0, 30700000.0, 739400000.0, 84600000.0, 84600000.0, 61400000.0, 115300000.0, 61400000.0, 61400000.0, 30700000.0, 333100000.0, 267200000.0, 363800000.0, 115300000.0, 115300000.0, 182600000.0, 302400000.0, 61400000.0, 575500000.0, 30700000.0, 550900000.0, 0.0, 0.0, 538900000.0, 182600000.0, 0.0, 236500000.0, 30700000.0, 176700000.0, 479100000.0, 61400000.0, 0.0, 672100000.0, 0.0, 230600000.0, 454300000.0, 236500000.0, 92100000.0, 544800000.0, 151900000.0, 182600000.0, 84600000.0, 92100000.0, 648900000.0, 61400000.0, 267200000.0, 454300000.0, 61400000.0, 419100000.0, 279200000.0, 454300000.0, 297900000.0, 394500000.0, 151900000.0, 0.0, 230600000.0, 0.0, 333100000.0, 485000000.0, 146000000.0, 0.0, 182600000.0, 333100000.0, 61400000.0, 236500000.0, 236500000.0, 0.0, 333100000.0, 290400000.0, 84600000.0, 236500000.0, 351800000.0, 84600000.0, 333100000.0, 0.0, 521600000.0, 115300000.0, 0.0, 267200000.0, 485000000.0, 146000000.0, 84600000.0, 230600000.0, 333100000.0, 515700000.0]}, {\"label\": \"Evacuation Costs\", \"values\": [0.0, 0.0, 192.93582391438446, 55.507126011524846, 0.0, 47.43170706288025, 0.0, 0.0, 119.01847160742659, 0.0, 0.0, 67.05174033588975, 87.80982517178968, 8624.58148118819, 0.0, 147.73115001274078, 413.7149749300119, 0.0, 0.0, 131.74806218083768, 150.5712249094124, 0.0, 686.8659535805348, 0.0, 0.0, 38.1248589715414, 431.5474714071637, 0.0, 5052.852064567749, 506.25342609022863, 0.0, 36951.37919553158, 25085.28750856737, 0.0, 0.0, 7040.089372622311, 1624.5611348416985, 76.72930023878502, 0.0, 25940.963320103067, 15663.768928499423, 0.0, 11544.95643234661, 0.0, 0.0, 4451.531839858798, 32853.05572655062, 14232.847296615138, 0.0, 267.6691433570764, 27253.13582642584, 0.0, 13026.93222491496, 0.0, 177.37007030046504, 436.6998200672895, 3539.948070141144, 46323.81864054329, 11436.389032081854, 39670.035849590495, 0.0, 20115.847901766698, 0.0, 0.0, 32333.012449350088, 30577.18525351444, 0.0, 13501.115780198186, 17092.778171852256, 9066.43868176769, 0.0, 13394.330215594671, 43759.199809355676, 0.0, 50155.639911577586, 0.0, 11391.208193965034, 0.0, 30864.820971969613, 481.4857007898272, 34364.654854188564, 23725.243809511216, 0.0, 33171.900262557465, 263.7289927342722, 0.0, 55180.098776307444, 0.0, 54939.90461470552, 29146.47251459353, 41866.47096959665, 29251.725312286362, 4027.526926077588, 29469.725957222145, 574.7798301980092, 2128.481059130917, 43096.0471961725, 12038.32916155087, 66213.21913258369, 17986.263177449946, 5424.995307696419, 3882.1391956814036, 3118.6245374074597, 63607.887470222464, 741.046232258203, 44424.990344103855, 33328.21004423668, 15492.771173284289, 37414.371530759316, 22812.144067217072, 70285.93429432639, 66391.37993577325, 74369.92344115612, 21175.73988990307, 31061.84481462063, 4120.4606812889615, 97229.43323725744, 41583.270874344715, 34838.884181032285, 26050.301822771802, 0.0, 37987.52742816071, 68769.11682995614, 0.0, 30359.014327267923, 19677.452746340063, 0.0, 74269.21215389196, 0.0, 117000.09852836776, 5380.999404872612, 53839.14177681842, 76074.05617837897, 10165.818022974634, 118355.99867097425, 103949.87685982598, 0.0, 0.0, 24525.289120784, 31630.8951216572, 0.0, 53415.253988709635, 135363.53309749428, 6070.760008717082, 20036.50281528708, 40410.69209684915, 5826.861259248225, 0.0, 116132.87037311382, 19188.869787257165, 62614.51406144813, 17735.14516053672, 66617.77102827994, 38231.68513626156, 138495.08143629626, 0.0, 105139.67862842024, 112536.8521114006, 32051.03020132036, 0.0, 101666.62786745957, 52001.95796982524, 0.0, 87538.26444850111, 465.6256262027795, 24335.60867967769, 0.0, 103935.57551207104, 0.0, 15247.868563590933, 128117.36738136671, 51721.94810772353, 107252.76670957213, 17165.30397467115, 0.0, 146658.18623611063, 121557.70889022126, 121675.68424478453, 0.0, 5001.241185008521, 0.0, 0.0, 48743.13849380144, 47461.97318647039, 0.0, 29600.861987842534, 0.0, 0.0, 77772.07872222194, 0.0, 0.0, 0.0, 134706.71905336806, 35660.51554884123, 67787.05855539339, 42532.24228109877, 0.0, 0.0, 0.0, 63210.738129796526, 125272.75076435605, 71268.35182177411, 147708.48801836598, 0.0, 0.0, 0.0, 99643.11204276887, 0.0, 0.0, 0.0, 0.0, 43281.08241095541, 39646.60159746252, 101287.30824103668, 16645.829501659453, 20450.056465867445, 0.0, 65486.6678150189, 145187.45393792837, 0.0, 172653.96834637673, 31982.703440070094, 0.0, 66048.11196470191, 70562.19957476135, 16295.328194835205, 73962.29362135465, 0.0, 139810.80827049882, 0.0, 59679.28963416247, 76303.86883220139, 0.0, 0.0, 0.0, 56548.302092858976, 55046.71710519336, 136224.23092719767, 108370.50094616233, 0.0, 80915.90900956305, 99076.94568171503, 110247.93315652949, 0.0, 129320.25887198119, 71752.29853355918, 104806.1300950404, 0.0, 0.0, 28274.258274858632, 49094.19761721447, 10774.213062021425, 118048.72945141484, 44638.107412572186, 67904.75925386531, 145355.41652465455, 19730.177142041397, 0.0, 140216.44342294015, 94534.17706986367, 0.0, 24969.04868798174, 70733.49168012866, 37804.37603647759, 0.0, 0.0, 0.0, 131143.31469268733, 25495.370956042032, 65764.57742419104, 157376.7294664154, 0.0, 39798.68445354262, 95967.6794685123, 0.0, 46078.2638741863, 28371.507383104614, 41048.99563347433, 125222.34193490812, 41423.2797846324, 0.0, 0.0, 52646.119093749636, 0.0, 0.0, 0.0, 37089.51164115375, 108941.41883785557, 1295.0682586412902, 34266.091998762146, 35093.321112707185, 67182.07707571951, 104.0230751794089, 0.0, 8903.929894470799, 28664.410848314077, 30077.05692544422, 11019.531548058547, 0.0, 38723.20889647235, 126676.34474095935, 163247.29549428812, 8594.921942460709, 46767.695686092295, 43220.377840830144, 55826.17627781424, 53483.764337519235, 0.0, 0.0, 19646.928212350424, 26321.568903800355, 16570.41423075304, 22605.518859528565, 51150.549695239766, 51442.629121923885, 0.0, 0.0, 30576.3288971817, 40747.285609856815, 10036.840701301384, 19421.980736112262, 42721.94917305405, 3425.873482553988, 0.0, 0.0, 6144.8720974446815, 3270.077790994072, 0.0, 0.0, 0.0, 0.0, 9956.215254825154, 31843.7756254284, 0.0, 0.0, 0.0, 8131.208266436177, 134.0672435815593, 0.0, 89267.23247259553, 18.559401271060885, 56005.96381270685, 0.0, 57203.6223158482, 0.0, 0.0, 61051.777849925245, 0.0, 50762.905206029835, 67440.04674677875, 259.0418376049733, 17076.170359942043, 26034.573225391126, 135821.83155417163, 51873.04436711152, 36443.687722221, 0.0, 0.0, 14613.774681453218, 9193.920611640333, 31011.26120698172, 31375.32637446868, 0.0, 24941.057989714125, 0.0, 12512.679997736197, 0.0, 0.0, 0.0, 4525.446172297232, 0.0, 542.977581830164, 5446.3295578578145, 3507.072308158723, 42614.53914523837, 0.0, 565.3765480695487, 0.0, 0.0, 99.26509430399919, 0.0, 4475.2347257330875, 0.0, 0.0, 91204.31266688724, 57806.41398573919, 64655.065468211506, 0.0, 127644.73920894747, 135523.9248356956, 0.0, 131401.70565354632, 0.0, 0.0, 0.0, 122080.94086681814, 271.87996473481576, 18899.28369527921, 14609.292746847052, 0.0, 1656.56855364767, 0.0, 0.0, 32800.46341943851, 112426.67722141654, 0.0, 5723.495893438998, 95115.96670341432, 17715.30759802536, 10080.953191010407, 0.0, 60012.05890458831, 24454.465653771305, 0.0, 0.0, 35723.46361674581, 0.0, 0.0, 0.0, 28528.97205481681, 21321.075181835968, 28958.68326378183, 20586.043290107893, 0.0, 0.0, 2280.108494016767, 0.0, 56583.12907381745, 35504.213113321865, 12691.709957576306, 16417.880472391822, 51038.94006756334, 0.0, 0.0, 43978.224310664045, 30063.51689185789, 5127.109839259624, 49932.61403638201, 0.0, 134715.15434341066, 0.0, 116864.9013704916, 45595.09715255503, 52100.767432984365, 357.78355070546854, 32536.190883933457, 40043.44293853077, 2693.1668714343564, 3028.249586863023, 31728.670489518936, 0.0, 41478.93575893936, 0.0, 26840.100013183066, 0.0, 10945.453162512535, 19485.51375429846, 31531.337546540664, 34638.695979331445, 19140.012858670787, 23553.0682602959, 6063.8363782343295, 0.0, 1997.1215443856931, 3482.591266497549, 18811.93719026116, 0.0, 104979.64479266555, 10793.175275166905, 45456.7379707168, 0.0, 0.0, 0.0, 0.0, 322.4036989323599, 0.0, 0.0, 0.0, 0.0, 0.0, 216.0832700777164, 0.0, 78422.98563458449, 22054.38883407775, 0.0, 39097.55419731669, 0.0, 121718.77509172248, 60545.31152733659, 102687.47970303887, 0.0, 145887.82659026532, 0.0, 0.0, 35486.064781416135, 0.0, 30243.19732842622, 0.0, 97938.8970167628, 74407.30213379436, 55281.70773061582, 21843.08979896741, 0.0, 0.0, 0.0, 20825.85523835284, 62035.785047851336, 49211.884258764025, 109749.3547748534, 0.0, 46784.635581004004, 9006.254963185482, 9825.645523420351, 0.0, 77571.0723113511, 60255.52361092544, 16280.50728813797, 816.5511097320787, 45517.440873098014, 29621.04961817024, 0.0, 0.0, 0.0, 0.0, 10288.761925417062, 0.0, 2656.365570145845, 0.0, 40001.99040791065, 0.0, 15084.290125689837, 27488.61527689802, 14271.526700688277, 20001.618631131718, 0.0, 64131.686091261865, 0.0, 9577.93204105752, 18443.90420248674, 144.86753634098773, 1575.122345619534, 41479.814613633585, 0.0, 33173.15764152523, 21224.940297100737, 20948.646710897432, 67201.72168601785, 2392.7098944493177, 0.0, 50327.60743680499, 0.0, 0.0, 626.5621854680588, 51597.21177229122, 10723.06367182622, 24793.4763121276, 0.0, 22971.53266305921, 2037.2498161942385, 0.0, 63803.85778820643, 13089.7723680235, 23132.53243348981, 27701.7118771958, 18.551898898261573, 550.1045124021006, 27263.24874678121, 0.0, 0.0, 4338.102764718285, 0.0, 266.7173393464729, 4244.228671686198, 8546.980710016509, 0.0, 67262.96912713912, 30108.235048041493, 2761.396755250591, 50203.67888180816, 12956.529428594153, 50606.37847841316, 60913.91859477678, 0.0, 0.0, 0.0, 12151.843743574518, 16857.82414764767, 55196.36757945837, 0.0, 0.0, 52808.465783804815, 9185.568647027614, 34864.068469550046, 0.0, 0.0, 44526.354719506395, 2638.856632199414, 28791.432093688214, 0.0, 0.0, 0.0]}, {\"label\": \"Expected Number of Deaths\", \"values\": [0.00019448061710126312, 0.0, 0.0009355996066461053, 0.0008998073098711631, 0.006615164057523556, 0.00010270173838512475, 0.012598344329890643, 0.008599996485864141, 0.0001668475952709229, 0.028927785812024136, 0.0362471666688678, 0.0001972340315719296, 0.00309171372600499, 0.01557584651063905, 0.0371599731416367, 0.003421113722866393, 0.0011433836646583956, 0.0501170842770667, 0.3394639498716125, 0.0006064115661751108, 0.00023858203322260098, 0.3059126064809071, 0.0015118013195868768, 0.0025675434596281192, 0.10251073995838912, 8.195332118884685e-05, 0.013941971087019537, 0.02487254239961342, 0.01578682348303362, 0.003337544734902804, 0.007542512816559974, 0.2187753863968382, 0.04402368713235588, 0.007072397280101501, 0.8541159260487735, 0.013011439742423877, 0.002811390276796935, 0.0007905363369751829, 0.11686769016080638, 0.2657462755081192, 0.06547422962042812, 0.0, 0.020756943349463385, 0.4471677777909687, 0.3292242143979389, 0.012413756600239285, 0.8719340727264107, 0.07643800510745191, 0.005642761723056103, 0.000756635000473359, 0.11740627864981905, 0.4272411574139338, 0.15091134668293946, 0.2776083345774526, 0.00032548830898165284, 0.01080624168064298, 0.0066207199801151225, 0.24103580034796454, 0.021027442527445882, 0.2230482234105033, 1.354317298692621, 0.11924001342742074, 0.2395390708206743, 0.3233791527106259, 0.3014448925626496, 0.5162287898641509, 0.3560304653808928, 0.30630383839766845, 0.057113270134812315, 0.025713525866246457, 0.7652989869228063, 0.03213135953708726, 0.25134659106365104, 0.0, 0.09390268323298634, 0.015049481024461641, 0.019148336419705952, 0.5431625498029995, 0.19054694172390585, 0.002847205731690765, 0.827504170948678, 0.8141192241901151, 0.8157179668092449, 0.5102332113151162, 0.0009121771970580061, 1.9998931760810252, 0.25533404508473423, 1.4081300157239114, 0.10503062020720996, 0.3347255482269563, 0.07937213400970164, 0.7753102441815867, 0.07176827825494722, 0.4736891306019543, 0.0013824576085885336, 0.05715182443609779, 0.12365823934405197, 0.023774795872215825, 0.12257490285746972, 0.6553330345913316, 0.2188420030084852, 0.015455957383715269, 0.048996501818154466, 0.3713072360527864, 0.015281475176908818, 0.23186707653276226, 0.5902468493393972, 0.09160608776519703, 0.09943435229238602, 0.8001224217358752, 1.4762540769854269, 0.11928511682299647, 0.2818176591709017, 0.7572620246286095, 0.15286194964333874, 0.008905975078651167, 0.28516075862364104, 0.303831044815838, 0.11484658782166154, 0.0571948857520387, 0.3138894651889259, 0.07028039820664314, 0.4089204323141869, 2.4708895609093404, 0.4930054072187121, 0.11696143318231099, 0.1784389461583086, 0.28143086645310256, 0.2920675670753226, 0.5968503859504717, 0.06223766676276316, 0.09911596565614103, 0.22002345783479135, 0.11017737641751048, 0.6152508104727011, 0.5337827654168091, 2.196639330361688, 2.498790051647408, 0.519807069259459, 0.8908149090543801, 0.1952880064300601, 0.1504622806466594, 0.4106452365189229, 0.08936015443157587, 0.22566560720502746, 0.8097368545973271, 0.08228726208705718, 2.2893114877921725, 0.5902390646651285, 0.20242225057661792, 1.2810786370003422, 0.20448886937634456, 1.2892488026698492, 0.5706353318705865, 0.4420709048328637, 3.5269487742767334, 0.7175776341175301, 0.7100839510869126, 0.8270482454844937, 1.3369215719907055, 0.5334977443368095, 0.09144430491910983, 0.2159727766073618, 0.5169473506668423, 0.0010156971101500985, 0.05924313619550416, 3.3944112618617988, 0.5080105654494455, 3.3198781628200607, 0.024412841319794182, 0.3956819762367017, 0.2019677491369745, 0.3866431511627129, 0.18051244907549152, 4.8305810841407455, 0.5796697300968893, 0.3889853145059564, 0.3596579518348669, 2.282423045368674, 0.056990768733445316, 4.0074458998155205, 5.003073638153328, 0.10571605564114314, 0.3185441794777673, 2.242249050183581, 0.4665475239260574, 1.7675597208919192, 3.3001075433307494, 0.28722011587602764, 2.357533193384631, 1.7763709674335717, 4.382689144642831, 0.4070014641503271, 0.5793634116030204, 1.704225690009614, 0.12093683495746993, 2.2940586573694604, 0.7660797705828445, 3.667900904984936, 1.598928879117477, 0.3886356758352884, 1.745367278431461, 0.5618179727378793, 4.194427036733507, 3.6377077252259418, 3.934927097767524, 0.5194687331005826, 3.4140354503974413, 0.0, 2.158783686085387, 3.5622458135791586, 1.041283382517031, 0.0832041537359837, 0.3278223509614789, 0.11053369398841953, 0.275550399088867, 2.0475224820886604, 1.2260969355553706, 0.4746401354690502, 3.6755750638504328, 0.5033312444080209, 0.08480559975441722, 3.9553344622420847, 1.2517270167964276, 0.2397530045466268, 0.10784190715949338, 0.21199532599711474, 0.17234767563639766, 0.5680752300032046, 2.3913400274196217, 1.1149154194180713, 1.8011065097351984, 2.5192171660652405, 5.163342748453582, 0.7976975991292107, 1.338754975754335, 1.0073506028494321, 0.4172423389321426, 0.5079115712178067, 0.12893855518917915, 0.2936344406661321, 0.4645480914241964, 0.2600836171134146, 3.809387290743768, 0.3960129051996899, 1.5099937332240627, 0.4978874971360338, 1.4183167751848125, 3.9132632347448735, 0.3304636546706285, 0.13606179238820118, 0.021087948194089018, 0.7245871626211116, 1.2115490574942387, 0.4489139763731216, 0.4774803087603773, 0.2188975845578634, 3.386077141452045, 0.4508111201504181, 0.465791698446985, 3.4463156711122807, 0.8261998755627079, 1.4430510299692756, 1.0473573049355476, 3.164162883652794, 4.848242440087391, 0.5014234696541432, 0.417071463911782, 0.5285223662909226, 1.2296390903216308, 0.6003688365783992, 0.4643726974981185, 0.06932115446391518, 0.4743145497733534, 2.45198310753344, 0.07866550806645775, 0.3301534039937909, 0.157838469812836, 0.7041722415746993, 0.9814090375540484, 5.117658318929204, 4.681816439482328, 0.18706802126780664, 2.1963131027806955, 0.06220263378350094, 0.0, 0.0983318850830722, 0.5099584992979384, 0.01610759825459835, 0.2146554506010621, 0.9102120665460248, 0.1381199804533202, 0.0013915380515386892, 0.3241550261360249, 0.0907993522537932, 0.3108602372126613, 0.4769466464880742, 0.121235721042981, 1.2298397474753169, 0.3528865219650393, 0.7504610457229992, 0.6196011298144297, 0.015553642118497519, 0.2425320827410673, 0.6488915368699499, 0.097865518774413, 0.1484429163015367, 3.727139858052857, 0.14187293272076784, 0.05365893043672558, 0.3241731482617867, 0.0311255816167781, 0.26390859768002306, 0.24206467066470214, 0.09139994265410548, 0.3963388991040386, 0.2939499995201551, 0.274570389737399, 0.3405385083449392, 0.029617882846016005, 0.2088170170437163, 0.09097089650132606, 0.09528082778214644, 1.4560114902636057, 0.008464142584584155, 0.22237998104064266, 0.04979197925903377, 0.11986896100759226, 2.4622238670449987, 0.14523084396233213, 0.7586899088253292, 0.124429852305794, 0.2099213948317799, 0.18938240493610053, 0.10798582529509436, 0.6156169886346532, 0.03585625240353598, 0.001094716838771683, 3.0997697911999653, 0.34709446083901035, 2.333767405215157e-05, 0.9885158110762368, 2.0500465422699965, 0.10473440146895438, 0.28332172013937024, 0.44888923849039136, 0.1555158413086858, 0.7592245467962596, 0.2150953291100629, 0.12713710182019738, 0.000869711282211681, 0.2082865934499151, 0.09821583698955176, 0.41375102399632013, 0.08976401531885847, 0.12260378922748255, 0.9134704292372906, 0.4075118208029654, 0.2952745028239664, 0.2544974284017578, 0.3331366759967507, 0.21227758255407947, 0.386706796233966, 0.09174762024009077, 0.9439995458434268, 0.3024756325332759, 0.8464669601880014, 0.21675134753998115, 0.8033421265266065, 0.12738082023054967, 0.0881930224237025, 0.0018000799103807114, 0.05946202787840324, 0.018820087225373656, 0.14505400979710306, 0.1924830633693844, 0.012877817414345195, 0.16895658329817742, 0.012598344329890643, 0.0003399168282603326, 0.05202117704428184, 0.025510434731368308, 0.0, 0.0018520401427597679, 0.273000993118702, 1.1383549194560478, 1.2583685892874221, 2.053457712151034, 0.5289829879337561, 0.4117915691134284, 2.005540893363073, 0.7745014122680374, 0.9182272116543676, 0.00820651264185222, 3.4855890949155133, 0.396126827908716, 0.00868420338583184, 0.08769462687179325, 0.0401441370422373, 0.6599885054094827, 0.005646907548523662, 0.004317565379052984, 0.6727773377059983, 0.1443944160977004, 0.3225684237199737, 0.5817747689687681, 0.07821300281368973, 0.2989140055574051, 0.18888189963407465, 0.2673560924581761, 0.5510456358527677, 0.15831618098568095, 0.049321903330089005, 0.06591383609022393, 0.29176246652251936, 0.5466610166663806, 0.01669309808045364, 0.26494344071774123, 0.06610698230310624, 0.4735071643754858, 0.06380963630811222, 0.0799918215795961, 0.08781630484767568, 1.233202585428046, 0.5475907480189617, 0.04763992859928532, 0.16161991616310736, 0.10291359275260968, 1.0444529448175142, 0.10274331024920054, 0.10788839053406417, 0.2044667930368848, 0.4948615828711127, 0.904819188106063, 0.0874387940734354, 0.2797433420826665, 0.09025399559180823, 0.19872776937003095, 0.002712402574847107, 0.4071477061772196, 0.012142542275211785, 0.5933001693363129, 0.12576883436960667, 0.09281521989372132, 0.002891020943608396, 0.5632175640439406, 0.8895202419273623, 0.05418840163890637, 0.0073238600921890235, 0.3679681421184621, 0.8613846316222291, 0.12232427468298256, 0.5326451201702209, 0.3292889638211369, 0.042909140104759116, 0.09998070711548013, 0.055710620882688286, 0.33565098939866955, 0.09515304254184083, 0.20629880985881235, 0.4436382343056519, 0.018781934775538776, 0.07325629238256418, 0.0058503730903447845, 0.05996867879922185, 0.4097537964633749, 0.4821020265544456, 0.5291856449220773, 0.2859835755710852, 0.12406881267982213, 0.1147474047826826, 0.8167576980050656, 0.3366606835590882, 0.3545286786456328, 0.0006991662989570513, 0.01148101781859548, 0.030471476835382837, 0.0, 2.7318529246789907, 4.5486905768185695, 0.0005083398339547161, 3.9805371090436568, 0.35870100411294337, 0.3865999091832029, 1.2722407684205594, 0.6964948860190995, 0.0338127152848727, 0.4878109972728876, 0.16011850688498244, 0.5306449079384522, 3.7187638215398207, 0.4810170099897584, 0.7987743874384909, 0.01013583853178068, 1.1522784403136783, 2.393500965633565, 0.19278424218994528, 1.105427182833667, 0.40445487184103457, 0.2636210385234374, 0.2458817326651216, 0.7027480653572397, 0.08683210770819721, 1.2916616035405697, 2.471087818068447, 0.2493472827801266, 0.17418020418242092, 0.17152102440862652, 0.521768952001583, 0.9736203546858286, 0.15827022154723802, 0.05417121558565706, 0.03727824296762253, 0.18908734789446405, 0.2875739794478045, 0.2575777634478505, 0.6322767868090715, 0.0016855225140058347, 0.07918806774012269, 0.21153234949970545, 1.3343208907081872, 1.0373844645415504, 3.4646876174975936, 2.2417642938806925, 0.1397634990069218, 0.0933127441884789, 0.06491817963765167, 0.007095007093872891, 0.06908286008700827, 1.4339325771665887, 0.1727990698231526, 0.767433607819047, 0.04903523671696355, 0.6816337941909534, 0.7892302681168035, 0.15066961261040324, 0.024137421279149158, 0.11724374349414644, 0.5212529710362317, 0.00032311302127756807, 0.004822649905314547, 0.2280299294638907, 0.7426558123838225, 0.2833335062687076, 0.040728209534871114, 0.05664229268965595, 0.2690698860220295, 0.004459196776996403, 0.3310771148019281, 0.24322840138886576, 0.19817879051672996, 0.16794807631905107, 0.006451292119313142, 0.2434470055198775, 0.019529044635088456, 0.05134971954692317, 0.3584626181294082, 0.14515075902317154, 0.02142842269358404, 0.04405611843132659, 0.10921232397228484, 0.07761309723149468, 0.04235891036029875, 0.08114253547136277, 0.00024828286355335963, 0.0011126349885119213, 0.2975849221031497, 0.015615910642211113, 0.1719985916956176, 0.01618624541938165, 0.7820446426633375, 0.003337904965535764, 0.01939024966925914, 0.05518026700668646, 0.8532787606947093, 0.1422760885843576, 0.3364288863595223, 0.05489814642445035, 0.09245219149350642, 0.030259909943007507, 0.09322430007962228, 0.1571767434455022, 0.8360776642997779, 0.6248352547109446, 0.2032434635329358, 0.2863705239009784, 0.11180133606256948, 0.10413902798813468, 0.7900965512446496, 0.8656100346323519, 0.20212045756265268, 0.025499019394739204, 0.11255916047051806, 0.052419807671184364, 0.3564817750419339, 0.11981893871970035, 0.007059040032953962, 0.3322186725922164, 0.8532325279309416, 0.21474609470116288, 0.03267019209998851]}, {\"label\": \"index\", \"values\": [0, 1, 2, 3, 4, 5, 6, 7, 8, 9, 10, 11, 12, 13, 14, 15, 16, 17, 18, 19, 20, 21, 22, 23, 24, 25, 26, 27, 28, 29, 30, 31, 32, 33, 34, 35, 36, 37, 38, 39, 40, 41, 42, 43, 44, 45, 46, 47, 48, 49, 50, 51, 52, 53, 54, 55, 56, 57, 58, 59, 60, 61, 62, 63, 64, 65, 66, 67, 68, 69, 70, 71, 72, 73, 74, 75, 76, 77, 78, 79, 80, 81, 82, 83, 84, 85, 86, 87, 88, 89, 90, 91, 92, 93, 94, 95, 96, 97, 98, 99, 100, 101, 102, 103, 104, 105, 106, 107, 108, 109, 110, 111, 112, 113, 114, 115, 116, 117, 118, 119, 120, 121, 122, 123, 124, 125, 126, 127, 128, 129, 130, 131, 132, 133, 134, 135, 136, 137, 138, 139, 140, 141, 142, 143, 144, 145, 146, 147, 148, 149, 150, 151, 152, 153, 154, 155, 156, 157, 158, 159, 160, 161, 162, 163, 164, 165, 166, 167, 168, 169, 170, 171, 172, 173, 174, 175, 176, 177, 178, 179, 180, 181, 182, 183, 184, 185, 186, 187, 188, 189, 190, 191, 192, 193, 194, 195, 196, 197, 198, 199, 200, 201, 202, 203, 204, 205, 206, 207, 208, 209, 210, 211, 212, 213, 214, 215, 216, 217, 218, 219, 220, 221, 222, 223, 224, 225, 226, 227, 228, 229, 230, 231, 232, 233, 234, 235, 236, 237, 238, 239, 240, 241, 242, 243, 244, 245, 246, 247, 248, 249, 250, 251, 252, 253, 254, 255, 256, 257, 258, 259, 260, 261, 262, 263, 264, 265, 266, 267, 268, 269, 270, 271, 272, 273, 274, 275, 276, 277, 278, 279, 280, 281, 282, 283, 284, 285, 286, 287, 288, 289, 290, 291, 292, 293, 294, 295, 296, 297, 298, 299, 300, 301, 302, 303, 304, 305, 306, 307, 308, 309, 310, 311, 312, 313, 314, 315, 316, 317, 318, 319, 320, 321, 322, 323, 324, 325, 326, 327, 328, 329, 330, 331, 332, 333, 334, 335, 336, 337, 338, 339, 340, 341, 342, 343, 344, 345, 346, 347, 348, 349, 350, 351, 352, 353, 354, 355, 356, 357, 358, 359, 360, 361, 362, 363, 364, 365, 366, 367, 368, 369, 370, 371, 372, 373, 374, 375, 376, 377, 378, 379, 380, 381, 382, 383, 384, 385, 386, 387, 388, 389, 390, 391, 392, 393, 394, 395, 396, 397, 398, 399, 400, 401, 402, 403, 404, 405, 406, 407, 408, 409, 410, 411, 412, 413, 414, 415, 416, 417, 418, 419, 420, 421, 422, 423, 424, 425, 426, 427, 428, 429, 430, 431, 432, 433, 434, 435, 436, 437, 438, 439, 440, 441, 442, 443, 444, 445, 446, 447, 448, 449, 450, 451, 452, 453, 454, 455, 456, 457, 458, 459, 460, 461, 462, 463, 464, 465, 466, 467, 468, 469, 470, 471, 472, 473, 474, 475, 476, 477, 478, 479, 480, 481, 482, 483, 484, 485, 486, 487, 488, 489, 490, 491, 492, 493, 494, 495, 496, 497, 498, 499, 500, 501, 502, 503, 504, 505, 506, 507, 508, 509, 510, 511, 512, 513, 514, 515, 516, 517, 518, 519, 520, 521, 522, 523, 524, 525, 526, 527, 528, 529, 530, 531, 532, 533, 534, 535, 536, 537, 538, 539, 540, 541, 542, 543, 544, 545, 546, 547, 548, 549, 550, 551, 552, 553, 554, 555, 556, 557, 558, 559, 560, 561, 562, 563, 564, 565, 566, 567, 568, 569, 570, 571, 572, 573, 574, 575, 576, 577, 578, 579, 580, 581, 582, 583, 584, 585, 586, 587, 588, 589, 590, 591, 592, 593, 594, 595, 596, 597, 598, 599, 600]}], \"domain\": {\"x\": [0.0, 1.0], \"y\": [0.0, 1.0]}, \"line\": {\"color\": [0, 1, 2, 3, 4, 5, 6, 7, 8, 9, 10, 11, 12, 13, 14, 15, 16, 17, 18, 19, 20, 21, 22, 23, 24, 25, 26, 27, 28, 29, 30, 31, 32, 33, 34, 35, 36, 37, 38, 39, 40, 41, 42, 43, 44, 45, 46, 47, 48, 49, 50, 51, 52, 53, 54, 55, 56, 57, 58, 59, 60, 61, 62, 63, 64, 65, 66, 67, 68, 69, 70, 71, 72, 73, 74, 75, 76, 77, 78, 79, 80, 81, 82, 83, 84, 85, 86, 87, 88, 89, 90, 91, 92, 93, 94, 95, 96, 97, 98, 99, 100, 101, 102, 103, 104, 105, 106, 107, 108, 109, 110, 111, 112, 113, 114, 115, 116, 117, 118, 119, 120, 121, 122, 123, 124, 125, 126, 127, 128, 129, 130, 131, 132, 133, 134, 135, 136, 137, 138, 139, 140, 141, 142, 143, 144, 145, 146, 147, 148, 149, 150, 151, 152, 153, 154, 155, 156, 157, 158, 159, 160, 161, 162, 163, 164, 165, 166, 167, 168, 169, 170, 171, 172, 173, 174, 175, 176, 177, 178, 179, 180, 181, 182, 183, 184, 185, 186, 187, 188, 189, 190, 191, 192, 193, 194, 195, 196, 197, 198, 199, 200, 201, 202, 203, 204, 205, 206, 207, 208, 209, 210, 211, 212, 213, 214, 215, 216, 217, 218, 219, 220, 221, 222, 223, 224, 225, 226, 227, 228, 229, 230, 231, 232, 233, 234, 235, 236, 237, 238, 239, 240, 241, 242, 243, 244, 245, 246, 247, 248, 249, 250, 251, 252, 253, 254, 255, 256, 257, 258, 259, 260, 261, 262, 263, 264, 265, 266, 267, 268, 269, 270, 271, 272, 273, 274, 275, 276, 277, 278, 279, 280, 281, 282, 283, 284, 285, 286, 287, 288, 289, 290, 291, 292, 293, 294, 295, 296, 297, 298, 299, 300, 301, 302, 303, 304, 305, 306, 307, 308, 309, 310, 311, 312, 313, 314, 315, 316, 317, 318, 319, 320, 321, 322, 323, 324, 325, 326, 327, 328, 329, 330, 331, 332, 333, 334, 335, 336, 337, 338, 339, 340, 341, 342, 343, 344, 345, 346, 347, 348, 349, 350, 351, 352, 353, 354, 355, 356, 357, 358, 359, 360, 361, 362, 363, 364, 365, 366, 367, 368, 369, 370, 371, 372, 373, 374, 375, 376, 377, 378, 379, 380, 381, 382, 383, 384, 385, 386, 387, 388, 389, 390, 391, 392, 393, 394, 395, 396, 397, 398, 399, 400, 401, 402, 403, 404, 405, 406, 407, 408, 409, 410, 411, 412, 413, 414, 415, 416, 417, 418, 419, 420, 421, 422, 423, 424, 425, 426, 427, 428, 429, 430, 431, 432, 433, 434, 435, 436, 437, 438, 439, 440, 441, 442, 443, 444, 445, 446, 447, 448, 449, 450, 451, 452, 453, 454, 455, 456, 457, 458, 459, 460, 461, 462, 463, 464, 465, 466, 467, 468, 469, 470, 471, 472, 473, 474, 475, 476, 477, 478, 479, 480, 481, 482, 483, 484, 485, 486, 487, 488, 489, 490, 491, 492, 493, 494, 495, 496, 497, 498, 499, 500, 501, 502, 503, 504, 505, 506, 507, 508, 509, 510, 511, 512, 513, 514, 515, 516, 517, 518, 519, 520, 521, 522, 523, 524, 525, 526, 527, 528, 529, 530, 531, 532, 533, 534, 535, 536, 537, 538, 539, 540, 541, 542, 543, 544, 545, 546, 547, 548, 549, 550, 551, 552, 553, 554, 555, 556, 557, 558, 559, 560, 561, 562, 563, 564, 565, 566, 567, 568, 569, 570, 571, 572, 573, 574, 575, 576, 577, 578, 579, 580, 581, 582, 583, 584, 585, 586, 587, 588, 589, 590, 591, 592, 593, 594, 595, 596, 597, 598, 599, 600], \"coloraxis\": \"coloraxis\"}, \"name\": \"\", \"type\": \"parcoords\"}],\n",
       "                        {\"coloraxis\": {\"colorbar\": {\"title\": {\"text\": \"index\"}}, \"colorscale\": [[0.0, \"#0d0887\"], [0.1111111111111111, \"#46039f\"], [0.2222222222222222, \"#7201a8\"], [0.3333333333333333, \"#9c179e\"], [0.4444444444444444, \"#bd3786\"], [0.5555555555555556, \"#d8576b\"], [0.6666666666666666, \"#ed7953\"], [0.7777777777777778, \"#fb9f3a\"], [0.8888888888888888, \"#fdca26\"], [1.0, \"#f0f921\"]]}, \"legend\": {\"tracegroupgap\": 0}, \"margin\": {\"t\": 60}, \"showlegend\": false, \"template\": {\"data\": {\"bar\": [{\"error_x\": {\"color\": \"#2a3f5f\"}, \"error_y\": {\"color\": \"#2a3f5f\"}, \"marker\": {\"line\": {\"color\": \"#E5ECF6\", \"width\": 0.5}}, \"type\": \"bar\"}], \"barpolar\": [{\"marker\": {\"line\": {\"color\": \"#E5ECF6\", \"width\": 0.5}}, \"type\": \"barpolar\"}], \"carpet\": [{\"aaxis\": {\"endlinecolor\": \"#2a3f5f\", \"gridcolor\": \"white\", \"linecolor\": \"white\", \"minorgridcolor\": \"white\", \"startlinecolor\": \"#2a3f5f\"}, \"baxis\": {\"endlinecolor\": \"#2a3f5f\", \"gridcolor\": \"white\", \"linecolor\": \"white\", \"minorgridcolor\": \"white\", \"startlinecolor\": \"#2a3f5f\"}, \"type\": \"carpet\"}], \"choropleth\": [{\"colorbar\": {\"outlinewidth\": 0, \"ticks\": \"\"}, \"type\": \"choropleth\"}], \"contour\": [{\"colorbar\": {\"outlinewidth\": 0, \"ticks\": \"\"}, \"colorscale\": [[0.0, \"#0d0887\"], [0.1111111111111111, \"#46039f\"], [0.2222222222222222, \"#7201a8\"], [0.3333333333333333, \"#9c179e\"], [0.4444444444444444, \"#bd3786\"], [0.5555555555555556, \"#d8576b\"], [0.6666666666666666, \"#ed7953\"], [0.7777777777777778, \"#fb9f3a\"], [0.8888888888888888, \"#fdca26\"], [1.0, \"#f0f921\"]], \"type\": \"contour\"}], \"contourcarpet\": [{\"colorbar\": {\"outlinewidth\": 0, \"ticks\": \"\"}, \"type\": \"contourcarpet\"}], \"heatmap\": [{\"colorbar\": {\"outlinewidth\": 0, \"ticks\": \"\"}, \"colorscale\": [[0.0, \"#0d0887\"], [0.1111111111111111, \"#46039f\"], [0.2222222222222222, \"#7201a8\"], [0.3333333333333333, \"#9c179e\"], [0.4444444444444444, \"#bd3786\"], [0.5555555555555556, \"#d8576b\"], [0.6666666666666666, \"#ed7953\"], [0.7777777777777778, \"#fb9f3a\"], [0.8888888888888888, \"#fdca26\"], [1.0, \"#f0f921\"]], \"type\": \"heatmap\"}], \"heatmapgl\": [{\"colorbar\": {\"outlinewidth\": 0, \"ticks\": \"\"}, \"colorscale\": [[0.0, \"#0d0887\"], [0.1111111111111111, \"#46039f\"], [0.2222222222222222, \"#7201a8\"], [0.3333333333333333, \"#9c179e\"], [0.4444444444444444, \"#bd3786\"], [0.5555555555555556, \"#d8576b\"], [0.6666666666666666, \"#ed7953\"], [0.7777777777777778, \"#fb9f3a\"], [0.8888888888888888, \"#fdca26\"], [1.0, \"#f0f921\"]], \"type\": \"heatmapgl\"}], \"histogram\": [{\"marker\": {\"colorbar\": {\"outlinewidth\": 0, \"ticks\": \"\"}}, \"type\": \"histogram\"}], \"histogram2d\": [{\"colorbar\": {\"outlinewidth\": 0, \"ticks\": \"\"}, \"colorscale\": [[0.0, \"#0d0887\"], [0.1111111111111111, \"#46039f\"], [0.2222222222222222, \"#7201a8\"], [0.3333333333333333, \"#9c179e\"], [0.4444444444444444, \"#bd3786\"], [0.5555555555555556, \"#d8576b\"], [0.6666666666666666, \"#ed7953\"], [0.7777777777777778, \"#fb9f3a\"], [0.8888888888888888, \"#fdca26\"], [1.0, \"#f0f921\"]], \"type\": \"histogram2d\"}], \"histogram2dcontour\": [{\"colorbar\": {\"outlinewidth\": 0, \"ticks\": \"\"}, \"colorscale\": [[0.0, \"#0d0887\"], [0.1111111111111111, \"#46039f\"], [0.2222222222222222, \"#7201a8\"], [0.3333333333333333, \"#9c179e\"], [0.4444444444444444, \"#bd3786\"], [0.5555555555555556, \"#d8576b\"], [0.6666666666666666, \"#ed7953\"], [0.7777777777777778, \"#fb9f3a\"], [0.8888888888888888, \"#fdca26\"], [1.0, \"#f0f921\"]], \"type\": \"histogram2dcontour\"}], \"mesh3d\": [{\"colorbar\": {\"outlinewidth\": 0, \"ticks\": \"\"}, \"type\": \"mesh3d\"}], \"parcoords\": [{\"line\": {\"colorbar\": {\"outlinewidth\": 0, \"ticks\": \"\"}}, \"type\": \"parcoords\"}], \"pie\": [{\"automargin\": true, \"type\": \"pie\"}], \"scatter\": [{\"marker\": {\"colorbar\": {\"outlinewidth\": 0, \"ticks\": \"\"}}, \"type\": \"scatter\"}], \"scatter3d\": [{\"line\": {\"colorbar\": {\"outlinewidth\": 0, \"ticks\": \"\"}}, \"marker\": {\"colorbar\": {\"outlinewidth\": 0, \"ticks\": \"\"}}, \"type\": \"scatter3d\"}], \"scattercarpet\": [{\"marker\": {\"colorbar\": {\"outlinewidth\": 0, \"ticks\": \"\"}}, \"type\": \"scattercarpet\"}], \"scattergeo\": [{\"marker\": {\"colorbar\": {\"outlinewidth\": 0, \"ticks\": \"\"}}, \"type\": \"scattergeo\"}], \"scattergl\": [{\"marker\": {\"colorbar\": {\"outlinewidth\": 0, \"ticks\": \"\"}}, \"type\": \"scattergl\"}], \"scattermapbox\": [{\"marker\": {\"colorbar\": {\"outlinewidth\": 0, \"ticks\": \"\"}}, \"type\": \"scattermapbox\"}], \"scatterpolar\": [{\"marker\": {\"colorbar\": {\"outlinewidth\": 0, \"ticks\": \"\"}}, \"type\": \"scatterpolar\"}], \"scatterpolargl\": [{\"marker\": {\"colorbar\": {\"outlinewidth\": 0, \"ticks\": \"\"}}, \"type\": \"scatterpolargl\"}], \"scatterternary\": [{\"marker\": {\"colorbar\": {\"outlinewidth\": 0, \"ticks\": \"\"}}, \"type\": \"scatterternary\"}], \"surface\": [{\"colorbar\": {\"outlinewidth\": 0, \"ticks\": \"\"}, \"colorscale\": [[0.0, \"#0d0887\"], [0.1111111111111111, \"#46039f\"], [0.2222222222222222, \"#7201a8\"], [0.3333333333333333, \"#9c179e\"], [0.4444444444444444, \"#bd3786\"], [0.5555555555555556, \"#d8576b\"], [0.6666666666666666, \"#ed7953\"], [0.7777777777777778, \"#fb9f3a\"], [0.8888888888888888, \"#fdca26\"], [1.0, \"#f0f921\"]], \"type\": \"surface\"}], \"table\": [{\"cells\": {\"fill\": {\"color\": \"#EBF0F8\"}, \"line\": {\"color\": \"white\"}}, \"header\": {\"fill\": {\"color\": \"#C8D4E3\"}, \"line\": {\"color\": \"white\"}}, \"type\": \"table\"}]}, \"layout\": {\"annotationdefaults\": {\"arrowcolor\": \"#2a3f5f\", \"arrowhead\": 0, \"arrowwidth\": 1}, \"coloraxis\": {\"colorbar\": {\"outlinewidth\": 0, \"ticks\": \"\"}}, \"colorscale\": {\"diverging\": [[0, \"#8e0152\"], [0.1, \"#c51b7d\"], [0.2, \"#de77ae\"], [0.3, \"#f1b6da\"], [0.4, \"#fde0ef\"], [0.5, \"#f7f7f7\"], [0.6, \"#e6f5d0\"], [0.7, \"#b8e186\"], [0.8, \"#7fbc41\"], [0.9, \"#4d9221\"], [1, \"#276419\"]], \"sequential\": [[0.0, \"#0d0887\"], [0.1111111111111111, \"#46039f\"], [0.2222222222222222, \"#7201a8\"], [0.3333333333333333, \"#9c179e\"], [0.4444444444444444, \"#bd3786\"], [0.5555555555555556, \"#d8576b\"], [0.6666666666666666, \"#ed7953\"], [0.7777777777777778, \"#fb9f3a\"], [0.8888888888888888, \"#fdca26\"], [1.0, \"#f0f921\"]], \"sequentialminus\": [[0.0, \"#0d0887\"], [0.1111111111111111, \"#46039f\"], [0.2222222222222222, \"#7201a8\"], [0.3333333333333333, \"#9c179e\"], [0.4444444444444444, \"#bd3786\"], [0.5555555555555556, \"#d8576b\"], [0.6666666666666666, \"#ed7953\"], [0.7777777777777778, \"#fb9f3a\"], [0.8888888888888888, \"#fdca26\"], [1.0, \"#f0f921\"]]}, \"colorway\": [\"#636efa\", \"#EF553B\", \"#00cc96\", \"#ab63fa\", \"#FFA15A\", \"#19d3f3\", \"#FF6692\", \"#B6E880\", \"#FF97FF\", \"#FECB52\"], \"font\": {\"color\": \"#2a3f5f\"}, \"geo\": {\"bgcolor\": \"white\", \"lakecolor\": \"white\", \"landcolor\": \"#E5ECF6\", \"showlakes\": true, \"showland\": true, \"subunitcolor\": \"white\"}, \"hoverlabel\": {\"align\": \"left\"}, \"hovermode\": \"closest\", \"mapbox\": {\"style\": \"light\"}, \"paper_bgcolor\": \"white\", \"plot_bgcolor\": \"#E5ECF6\", \"polar\": {\"angularaxis\": {\"gridcolor\": \"white\", \"linecolor\": \"white\", \"ticks\": \"\"}, \"bgcolor\": \"#E5ECF6\", \"radialaxis\": {\"gridcolor\": \"white\", \"linecolor\": \"white\", \"ticks\": \"\"}}, \"scene\": {\"xaxis\": {\"backgroundcolor\": \"#E5ECF6\", \"gridcolor\": \"white\", \"gridwidth\": 2, \"linecolor\": \"white\", \"showbackground\": true, \"ticks\": \"\", \"zerolinecolor\": \"white\"}, \"yaxis\": {\"backgroundcolor\": \"#E5ECF6\", \"gridcolor\": \"white\", \"gridwidth\": 2, \"linecolor\": \"white\", \"showbackground\": true, \"ticks\": \"\", \"zerolinecolor\": \"white\"}, \"zaxis\": {\"backgroundcolor\": \"#E5ECF6\", \"gridcolor\": \"white\", \"gridwidth\": 2, \"linecolor\": \"white\", \"showbackground\": true, \"ticks\": \"\", \"zerolinecolor\": \"white\"}}, \"shapedefaults\": {\"line\": {\"color\": \"#2a3f5f\"}}, \"ternary\": {\"aaxis\": {\"gridcolor\": \"white\", \"linecolor\": \"white\", \"ticks\": \"\"}, \"baxis\": {\"gridcolor\": \"white\", \"linecolor\": \"white\", \"ticks\": \"\"}, \"bgcolor\": \"#E5ECF6\", \"caxis\": {\"gridcolor\": \"white\", \"linecolor\": \"white\", \"ticks\": \"\"}}, \"title\": {\"x\": 0.05}, \"xaxis\": {\"automargin\": true, \"gridcolor\": \"white\", \"linecolor\": \"white\", \"ticks\": \"\", \"title\": {\"standoff\": 15}, \"zerolinecolor\": \"white\", \"zerolinewidth\": 2}, \"yaxis\": {\"automargin\": true, \"gridcolor\": \"white\", \"linecolor\": \"white\", \"ticks\": \"\", \"title\": {\"standoff\": 15}, \"zerolinecolor\": \"white\", \"zerolinewidth\": 2}}}},\n",
       "                        {\"responsive\": true}\n",
       "                    ).then(function(){\n",
       "                            \n",
       "var gd = document.getElementById('ca87bc49-e438-4681-925f-3658ef7b66bd');\n",
       "var x = new MutationObserver(function (mutations, observer) {{\n",
       "        var display = window.getComputedStyle(gd).display;\n",
       "        if (!display || display === 'none') {{\n",
       "            console.log([gd, 'removed!']);\n",
       "            Plotly.purge(gd);\n",
       "            observer.disconnect();\n",
       "        }}\n",
       "}});\n",
       "\n",
       "// Listen for the removal of the full notebook cells\n",
       "var notebookContainer = gd.closest('#notebook-container');\n",
       "if (notebookContainer) {{\n",
       "    x.observe(notebookContainer, {childList: true});\n",
       "}}\n",
       "\n",
       "// Listen for the clearing of the current output cell\n",
       "var outputEl = gd.closest('.output');\n",
       "if (outputEl) {{\n",
       "    x.observe(outputEl, {childList: true});\n",
       "}}\n",
       "\n",
       "                        })\n",
       "                };\n",
       "                });\n",
       "            </script>\n",
       "        </div>"
      ]
     },
     "metadata": {},
     "output_type": "display_data"
    }
   ],
   "source": [
    "fig = px.parallel_coordinates(results_epsilon_0_1[0].iloc[:, 31::], color=results_epsilon_0_1[0].index)\n",
    "fig.update_layout(showlegend=False)\n",
    "fig.show()"
   ]
  },
  {
   "cell_type": "markdown",
   "metadata": {},
   "source": [
    "## Re-Evaluate under deep uncertainty\n",
    "For evaluating the promising policies under deep uncertainty, we set a hard limit on one expected casualties below 0.001 and expected damages below €100.000. "
   ]
  },
  {
   "cell_type": "code",
   "execution_count": 11,
   "metadata": {},
   "outputs": [],
   "source": [
    "results_subset = results[\n",
    "    (results[\"Expected Number of Deaths\"] < 0.001) &\n",
    "    (results[\"Expected Annual Damage\"] < 100000) ]"
   ]
  },
  {
   "cell_type": "markdown",
   "metadata": {},
   "source": [
    "We further use the remaining policies to test them under deep uncertainty by running the policies for 1000 scenarios each. "
   ]
  },
  {
   "cell_type": "code",
   "execution_count": 12,
   "metadata": {},
   "outputs": [],
   "source": [
    "policies = results_subset.iloc[:,0:31]\n",
    "policies_to_evaluate = []\n",
    "\n",
    "for i, policy in policies.iterrows():\n",
    "    policies_to_evaluate.append(Policy(str(i), **policy.to_dict()))"
   ]
  },
  {
   "cell_type": "code",
   "execution_count": 13,
   "metadata": {},
   "outputs": [
    {
     "name": "stderr",
     "output_type": "stream",
     "text": [
      "[MainProcess/INFO] pool started\n",
      "[MainProcess/INFO] performing 1000 scenarios * 7 policies * 1 model(s) = 7000 experiments\n",
      "[MainProcess/INFO] 700 cases completed\n",
      "[MainProcess/INFO] 1400 cases completed\n",
      "[MainProcess/INFO] 2100 cases completed\n",
      "[MainProcess/INFO] 2800 cases completed\n",
      "[MainProcess/INFO] 3500 cases completed\n",
      "[MainProcess/INFO] 4200 cases completed\n",
      "[MainProcess/INFO] 4900 cases completed\n",
      "[MainProcess/INFO] 5600 cases completed\n",
      "[MainProcess/INFO] 6300 cases completed\n",
      "[MainProcess/INFO] 7000 cases completed\n",
      "[MainProcess/INFO] experiments finished\n",
      "[MainProcess/INFO] terminating pool\n"
     ]
    }
   ],
   "source": [
    "ema_logging.log_to_stderr(ema_logging.INFO)\n",
    "\n",
    "with MultiprocessingEvaluator(dike_model) as evaluator:\n",
    "    results = evaluator.perform_experiments(n_scenarios, policies_to_evaluate)"
   ]
  },
  {
   "cell_type": "code",
   "execution_count": 14,
   "metadata": {},
   "outputs": [
    {
     "name": "stderr",
     "output_type": "stream",
     "text": [
      "[MainProcess/INFO] results saved successfully to C:\\Users\\Samuel\\Desktop\\Studies\\EPA\\EPA1361 - Model Based Decision Making\\model-based-decision-making\\results\\DeepUncertaintyPolicies_Holistic_10000scenarios.tar.gz\n"
     ]
    }
   ],
   "source": [
    "#Save results\n",
    "save_results(results, \"../results/DeepUncertaintyPolicies_Holistic_10000scenarios.tar.gz\")"
   ]
  },
  {
   "cell_type": "markdown",
   "metadata": {},
   "source": [
    "### Signal-to-noise Ratio\n",
    "To find the most robust policy, we rate the different policies by calculating the signal-to-noise ratio. "
   ]
  },
  {
   "cell_type": "code",
   "execution_count": 15,
   "metadata": {},
   "outputs": [],
   "source": [
    "def s_to_n(data, direction):\n",
    "    mean = np.mean(data)\n",
    "    std = np.std(data)\n",
    "    \n",
    "    if direction==ScalarOutcome.MAXIMIZE:\n",
    "        return mean/std\n",
    "    else:\n",
    "        return mean*std"
   ]
  },
  {
   "cell_type": "code",
   "execution_count": 16,
   "metadata": {},
   "outputs": [
    {
     "data": {
      "text/html": [
       "<div>\n",
       "<style scoped>\n",
       "    .dataframe tbody tr th:only-of-type {\n",
       "        vertical-align: middle;\n",
       "    }\n",
       "\n",
       "    .dataframe tbody tr th {\n",
       "        vertical-align: top;\n",
       "    }\n",
       "\n",
       "    .dataframe thead th {\n",
       "        text-align: right;\n",
       "    }\n",
       "</style>\n",
       "<table border=\"1\" class=\"dataframe\">\n",
       "  <thead>\n",
       "    <tr style=\"text-align: right;\">\n",
       "      <th></th>\n",
       "      <th>Expected Annual Damage</th>\n",
       "      <th>Dike Investment Costs</th>\n",
       "      <th>RfR Investment Costs</th>\n",
       "      <th>Evacuation Costs</th>\n",
       "      <th>Expected Number of Deaths</th>\n",
       "    </tr>\n",
       "  </thead>\n",
       "  <tbody>\n",
       "    <tr>\n",
       "      <th>1</th>\n",
       "      <td>2.265990e+15</td>\n",
       "      <td>58.664174</td>\n",
       "      <td>0.0</td>\n",
       "      <td>6.454714e+05</td>\n",
       "      <td>0.000014</td>\n",
       "    </tr>\n",
       "    <tr>\n",
       "      <th>208</th>\n",
       "      <td>1.135511e+15</td>\n",
       "      <td>14.832822</td>\n",
       "      <td>0.0</td>\n",
       "      <td>2.387721e+05</td>\n",
       "      <td>0.000011</td>\n",
       "    </tr>\n",
       "    <tr>\n",
       "      <th>285</th>\n",
       "      <td>2.527610e+16</td>\n",
       "      <td>0.000000</td>\n",
       "      <td>0.0</td>\n",
       "      <td>3.499639e+06</td>\n",
       "      <td>0.000146</td>\n",
       "    </tr>\n",
       "    <tr>\n",
       "      <th>382</th>\n",
       "      <td>2.618146e+16</td>\n",
       "      <td>0.000000</td>\n",
       "      <td>0.0</td>\n",
       "      <td>1.012667e+06</td>\n",
       "      <td>0.001395</td>\n",
       "    </tr>\n",
       "    <tr>\n",
       "      <th>41</th>\n",
       "      <td>2.554325e+16</td>\n",
       "      <td>18.970512</td>\n",
       "      <td>0.0</td>\n",
       "      <td>2.422971e+06</td>\n",
       "      <td>0.000232</td>\n",
       "    </tr>\n",
       "    <tr>\n",
       "      <th>477</th>\n",
       "      <td>8.058506e+13</td>\n",
       "      <td>51.781184</td>\n",
       "      <td>0.0</td>\n",
       "      <td>1.362841e+05</td>\n",
       "      <td>0.000001</td>\n",
       "    </tr>\n",
       "    <tr>\n",
       "      <th>73</th>\n",
       "      <td>4.152542e+15</td>\n",
       "      <td>25.761610</td>\n",
       "      <td>0.0</td>\n",
       "      <td>4.484635e+05</td>\n",
       "      <td>0.000038</td>\n",
       "    </tr>\n",
       "  </tbody>\n",
       "</table>\n",
       "</div>"
      ],
      "text/plain": [
       "     Expected Annual Damage  Dike Investment Costs  RfR Investment Costs  \\\n",
       "1              2.265990e+15              58.664174                   0.0   \n",
       "208            1.135511e+15              14.832822                   0.0   \n",
       "285            2.527610e+16               0.000000                   0.0   \n",
       "382            2.618146e+16               0.000000                   0.0   \n",
       "41             2.554325e+16              18.970512                   0.0   \n",
       "477            8.058506e+13              51.781184                   0.0   \n",
       "73             4.152542e+15              25.761610                   0.0   \n",
       "\n",
       "     Evacuation Costs  Expected Number of Deaths  \n",
       "1        6.454714e+05                   0.000014  \n",
       "208      2.387721e+05                   0.000011  \n",
       "285      3.499639e+06                   0.000146  \n",
       "382      1.012667e+06                   0.001395  \n",
       "41       2.422971e+06                   0.000232  \n",
       "477      1.362841e+05                   0.000001  \n",
       "73       4.484635e+05                   0.000038  "
      ]
     },
     "execution_count": 16,
     "metadata": {},
     "output_type": "execute_result"
    }
   ],
   "source": [
    "experiments, outcomes = results\n",
    "\n",
    "overall_scores = {}\n",
    "for policy in np.unique(experiments['policy']):\n",
    "    scores = {}\n",
    "    \n",
    "    logical = experiments['policy']==policy\n",
    "    \n",
    "    for outcome in dike_model.outcomes:\n",
    "        value  = outcomes[outcome.name][logical]\n",
    "        sn_ratio = s_to_n(value, outcome.kind)\n",
    "        scores[outcome.name] = sn_ratio\n",
    "    overall_scores[policy] = scores\n",
    "scores = pd.DataFrame.from_dict(overall_scores).T\n",
    "scores"
   ]
  },
  {
   "cell_type": "code",
   "execution_count": 32,
   "metadata": {},
   "outputs": [
    {
     "data": {
      "application/vnd.plotly.v1+json": {
       "config": {
        "plotlyServerURL": "https://plot.ly"
       },
       "data": [
        {
         "dimensions": [
          {
           "label": "Expected Annual Damage",
           "values": [
            2265989623657653,
            1135510880133854,
            25276099598174070,
            26181457361849160,
            25543252102815770,
            80585062545667.7,
            4152541735557929
           ]
          },
          {
           "label": "Dike Investment Costs",
           "values": [
            58.664173647832065,
            14.832822320806208,
            0,
            0,
            18.970512379120155,
            51.78118365156347,
            25.761609533812756
           ]
          },
          {
           "label": "RfR Investment Costs",
           "values": [
            0,
            0,
            0,
            0,
            0,
            0,
            0
           ]
          },
          {
           "label": "Evacuation Costs",
           "values": [
            645471.4428665065,
            238772.05514075683,
            3499638.5413428354,
            1012666.7349838376,
            2422971.0051826765,
            136284.09128937463,
            448463.4618568969
           ]
          },
          {
           "label": "Expected Number of Deaths",
           "values": [
            1.3777241672396424e-05,
            1.1027020399595653e-05,
            0.0001464845011863254,
            0.0013952462841020663,
            0.00023208250260952092,
            1.3460351187989884e-06,
            3.7505939354104254e-05
           ]
          }
         ],
         "domain": {
          "x": [
           0,
           1
          ],
          "y": [
           0,
           1
          ]
         },
         "name": "",
         "type": "parcoords"
        }
       ],
       "layout": {
        "legend": {
         "tracegroupgap": 0
        },
        "margin": {
         "t": 60
        },
        "template": {
         "data": {
          "bar": [
           {
            "error_x": {
             "color": "#2a3f5f"
            },
            "error_y": {
             "color": "#2a3f5f"
            },
            "marker": {
             "line": {
              "color": "#E5ECF6",
              "width": 0.5
             }
            },
            "type": "bar"
           }
          ],
          "barpolar": [
           {
            "marker": {
             "line": {
              "color": "#E5ECF6",
              "width": 0.5
             }
            },
            "type": "barpolar"
           }
          ],
          "carpet": [
           {
            "aaxis": {
             "endlinecolor": "#2a3f5f",
             "gridcolor": "white",
             "linecolor": "white",
             "minorgridcolor": "white",
             "startlinecolor": "#2a3f5f"
            },
            "baxis": {
             "endlinecolor": "#2a3f5f",
             "gridcolor": "white",
             "linecolor": "white",
             "minorgridcolor": "white",
             "startlinecolor": "#2a3f5f"
            },
            "type": "carpet"
           }
          ],
          "choropleth": [
           {
            "colorbar": {
             "outlinewidth": 0,
             "ticks": ""
            },
            "type": "choropleth"
           }
          ],
          "contour": [
           {
            "colorbar": {
             "outlinewidth": 0,
             "ticks": ""
            },
            "colorscale": [
             [
              0,
              "#0d0887"
             ],
             [
              0.1111111111111111,
              "#46039f"
             ],
             [
              0.2222222222222222,
              "#7201a8"
             ],
             [
              0.3333333333333333,
              "#9c179e"
             ],
             [
              0.4444444444444444,
              "#bd3786"
             ],
             [
              0.5555555555555556,
              "#d8576b"
             ],
             [
              0.6666666666666666,
              "#ed7953"
             ],
             [
              0.7777777777777778,
              "#fb9f3a"
             ],
             [
              0.8888888888888888,
              "#fdca26"
             ],
             [
              1,
              "#f0f921"
             ]
            ],
            "type": "contour"
           }
          ],
          "contourcarpet": [
           {
            "colorbar": {
             "outlinewidth": 0,
             "ticks": ""
            },
            "type": "contourcarpet"
           }
          ],
          "heatmap": [
           {
            "colorbar": {
             "outlinewidth": 0,
             "ticks": ""
            },
            "colorscale": [
             [
              0,
              "#0d0887"
             ],
             [
              0.1111111111111111,
              "#46039f"
             ],
             [
              0.2222222222222222,
              "#7201a8"
             ],
             [
              0.3333333333333333,
              "#9c179e"
             ],
             [
              0.4444444444444444,
              "#bd3786"
             ],
             [
              0.5555555555555556,
              "#d8576b"
             ],
             [
              0.6666666666666666,
              "#ed7953"
             ],
             [
              0.7777777777777778,
              "#fb9f3a"
             ],
             [
              0.8888888888888888,
              "#fdca26"
             ],
             [
              1,
              "#f0f921"
             ]
            ],
            "type": "heatmap"
           }
          ],
          "heatmapgl": [
           {
            "colorbar": {
             "outlinewidth": 0,
             "ticks": ""
            },
            "colorscale": [
             [
              0,
              "#0d0887"
             ],
             [
              0.1111111111111111,
              "#46039f"
             ],
             [
              0.2222222222222222,
              "#7201a8"
             ],
             [
              0.3333333333333333,
              "#9c179e"
             ],
             [
              0.4444444444444444,
              "#bd3786"
             ],
             [
              0.5555555555555556,
              "#d8576b"
             ],
             [
              0.6666666666666666,
              "#ed7953"
             ],
             [
              0.7777777777777778,
              "#fb9f3a"
             ],
             [
              0.8888888888888888,
              "#fdca26"
             ],
             [
              1,
              "#f0f921"
             ]
            ],
            "type": "heatmapgl"
           }
          ],
          "histogram": [
           {
            "marker": {
             "colorbar": {
              "outlinewidth": 0,
              "ticks": ""
             }
            },
            "type": "histogram"
           }
          ],
          "histogram2d": [
           {
            "colorbar": {
             "outlinewidth": 0,
             "ticks": ""
            },
            "colorscale": [
             [
              0,
              "#0d0887"
             ],
             [
              0.1111111111111111,
              "#46039f"
             ],
             [
              0.2222222222222222,
              "#7201a8"
             ],
             [
              0.3333333333333333,
              "#9c179e"
             ],
             [
              0.4444444444444444,
              "#bd3786"
             ],
             [
              0.5555555555555556,
              "#d8576b"
             ],
             [
              0.6666666666666666,
              "#ed7953"
             ],
             [
              0.7777777777777778,
              "#fb9f3a"
             ],
             [
              0.8888888888888888,
              "#fdca26"
             ],
             [
              1,
              "#f0f921"
             ]
            ],
            "type": "histogram2d"
           }
          ],
          "histogram2dcontour": [
           {
            "colorbar": {
             "outlinewidth": 0,
             "ticks": ""
            },
            "colorscale": [
             [
              0,
              "#0d0887"
             ],
             [
              0.1111111111111111,
              "#46039f"
             ],
             [
              0.2222222222222222,
              "#7201a8"
             ],
             [
              0.3333333333333333,
              "#9c179e"
             ],
             [
              0.4444444444444444,
              "#bd3786"
             ],
             [
              0.5555555555555556,
              "#d8576b"
             ],
             [
              0.6666666666666666,
              "#ed7953"
             ],
             [
              0.7777777777777778,
              "#fb9f3a"
             ],
             [
              0.8888888888888888,
              "#fdca26"
             ],
             [
              1,
              "#f0f921"
             ]
            ],
            "type": "histogram2dcontour"
           }
          ],
          "mesh3d": [
           {
            "colorbar": {
             "outlinewidth": 0,
             "ticks": ""
            },
            "type": "mesh3d"
           }
          ],
          "parcoords": [
           {
            "line": {
             "colorbar": {
              "outlinewidth": 0,
              "ticks": ""
             }
            },
            "type": "parcoords"
           }
          ],
          "pie": [
           {
            "automargin": true,
            "type": "pie"
           }
          ],
          "scatter": [
           {
            "marker": {
             "colorbar": {
              "outlinewidth": 0,
              "ticks": ""
             }
            },
            "type": "scatter"
           }
          ],
          "scatter3d": [
           {
            "line": {
             "colorbar": {
              "outlinewidth": 0,
              "ticks": ""
             }
            },
            "marker": {
             "colorbar": {
              "outlinewidth": 0,
              "ticks": ""
             }
            },
            "type": "scatter3d"
           }
          ],
          "scattercarpet": [
           {
            "marker": {
             "colorbar": {
              "outlinewidth": 0,
              "ticks": ""
             }
            },
            "type": "scattercarpet"
           }
          ],
          "scattergeo": [
           {
            "marker": {
             "colorbar": {
              "outlinewidth": 0,
              "ticks": ""
             }
            },
            "type": "scattergeo"
           }
          ],
          "scattergl": [
           {
            "marker": {
             "colorbar": {
              "outlinewidth": 0,
              "ticks": ""
             }
            },
            "type": "scattergl"
           }
          ],
          "scattermapbox": [
           {
            "marker": {
             "colorbar": {
              "outlinewidth": 0,
              "ticks": ""
             }
            },
            "type": "scattermapbox"
           }
          ],
          "scatterpolar": [
           {
            "marker": {
             "colorbar": {
              "outlinewidth": 0,
              "ticks": ""
             }
            },
            "type": "scatterpolar"
           }
          ],
          "scatterpolargl": [
           {
            "marker": {
             "colorbar": {
              "outlinewidth": 0,
              "ticks": ""
             }
            },
            "type": "scatterpolargl"
           }
          ],
          "scatterternary": [
           {
            "marker": {
             "colorbar": {
              "outlinewidth": 0,
              "ticks": ""
             }
            },
            "type": "scatterternary"
           }
          ],
          "surface": [
           {
            "colorbar": {
             "outlinewidth": 0,
             "ticks": ""
            },
            "colorscale": [
             [
              0,
              "#0d0887"
             ],
             [
              0.1111111111111111,
              "#46039f"
             ],
             [
              0.2222222222222222,
              "#7201a8"
             ],
             [
              0.3333333333333333,
              "#9c179e"
             ],
             [
              0.4444444444444444,
              "#bd3786"
             ],
             [
              0.5555555555555556,
              "#d8576b"
             ],
             [
              0.6666666666666666,
              "#ed7953"
             ],
             [
              0.7777777777777778,
              "#fb9f3a"
             ],
             [
              0.8888888888888888,
              "#fdca26"
             ],
             [
              1,
              "#f0f921"
             ]
            ],
            "type": "surface"
           }
          ],
          "table": [
           {
            "cells": {
             "fill": {
              "color": "#EBF0F8"
             },
             "line": {
              "color": "white"
             }
            },
            "header": {
             "fill": {
              "color": "#C8D4E3"
             },
             "line": {
              "color": "white"
             }
            },
            "type": "table"
           }
          ]
         },
         "layout": {
          "annotationdefaults": {
           "arrowcolor": "#2a3f5f",
           "arrowhead": 0,
           "arrowwidth": 1
          },
          "coloraxis": {
           "colorbar": {
            "outlinewidth": 0,
            "ticks": ""
           }
          },
          "colorscale": {
           "diverging": [
            [
             0,
             "#8e0152"
            ],
            [
             0.1,
             "#c51b7d"
            ],
            [
             0.2,
             "#de77ae"
            ],
            [
             0.3,
             "#f1b6da"
            ],
            [
             0.4,
             "#fde0ef"
            ],
            [
             0.5,
             "#f7f7f7"
            ],
            [
             0.6,
             "#e6f5d0"
            ],
            [
             0.7,
             "#b8e186"
            ],
            [
             0.8,
             "#7fbc41"
            ],
            [
             0.9,
             "#4d9221"
            ],
            [
             1,
             "#276419"
            ]
           ],
           "sequential": [
            [
             0,
             "#0d0887"
            ],
            [
             0.1111111111111111,
             "#46039f"
            ],
            [
             0.2222222222222222,
             "#7201a8"
            ],
            [
             0.3333333333333333,
             "#9c179e"
            ],
            [
             0.4444444444444444,
             "#bd3786"
            ],
            [
             0.5555555555555556,
             "#d8576b"
            ],
            [
             0.6666666666666666,
             "#ed7953"
            ],
            [
             0.7777777777777778,
             "#fb9f3a"
            ],
            [
             0.8888888888888888,
             "#fdca26"
            ],
            [
             1,
             "#f0f921"
            ]
           ],
           "sequentialminus": [
            [
             0,
             "#0d0887"
            ],
            [
             0.1111111111111111,
             "#46039f"
            ],
            [
             0.2222222222222222,
             "#7201a8"
            ],
            [
             0.3333333333333333,
             "#9c179e"
            ],
            [
             0.4444444444444444,
             "#bd3786"
            ],
            [
             0.5555555555555556,
             "#d8576b"
            ],
            [
             0.6666666666666666,
             "#ed7953"
            ],
            [
             0.7777777777777778,
             "#fb9f3a"
            ],
            [
             0.8888888888888888,
             "#fdca26"
            ],
            [
             1,
             "#f0f921"
            ]
           ]
          },
          "colorway": [
           "#636efa",
           "#EF553B",
           "#00cc96",
           "#ab63fa",
           "#FFA15A",
           "#19d3f3",
           "#FF6692",
           "#B6E880",
           "#FF97FF",
           "#FECB52"
          ],
          "font": {
           "color": "#2a3f5f"
          },
          "geo": {
           "bgcolor": "white",
           "lakecolor": "white",
           "landcolor": "#E5ECF6",
           "showlakes": true,
           "showland": true,
           "subunitcolor": "white"
          },
          "hoverlabel": {
           "align": "left"
          },
          "hovermode": "closest",
          "mapbox": {
           "style": "light"
          },
          "paper_bgcolor": "white",
          "plot_bgcolor": "#E5ECF6",
          "polar": {
           "angularaxis": {
            "gridcolor": "white",
            "linecolor": "white",
            "ticks": ""
           },
           "bgcolor": "#E5ECF6",
           "radialaxis": {
            "gridcolor": "white",
            "linecolor": "white",
            "ticks": ""
           }
          },
          "scene": {
           "xaxis": {
            "backgroundcolor": "#E5ECF6",
            "gridcolor": "white",
            "gridwidth": 2,
            "linecolor": "white",
            "showbackground": true,
            "ticks": "",
            "zerolinecolor": "white"
           },
           "yaxis": {
            "backgroundcolor": "#E5ECF6",
            "gridcolor": "white",
            "gridwidth": 2,
            "linecolor": "white",
            "showbackground": true,
            "ticks": "",
            "zerolinecolor": "white"
           },
           "zaxis": {
            "backgroundcolor": "#E5ECF6",
            "gridcolor": "white",
            "gridwidth": 2,
            "linecolor": "white",
            "showbackground": true,
            "ticks": "",
            "zerolinecolor": "white"
           }
          },
          "shapedefaults": {
           "line": {
            "color": "#2a3f5f"
           }
          },
          "ternary": {
           "aaxis": {
            "gridcolor": "white",
            "linecolor": "white",
            "ticks": ""
           },
           "baxis": {
            "gridcolor": "white",
            "linecolor": "white",
            "ticks": ""
           },
           "bgcolor": "#E5ECF6",
           "caxis": {
            "gridcolor": "white",
            "linecolor": "white",
            "ticks": ""
           }
          },
          "title": {
           "x": 0.05
          },
          "xaxis": {
           "automargin": true,
           "gridcolor": "white",
           "linecolor": "white",
           "ticks": "",
           "title": {
            "standoff": 15
           },
           "zerolinecolor": "white",
           "zerolinewidth": 2
          },
          "yaxis": {
           "automargin": true,
           "gridcolor": "white",
           "linecolor": "white",
           "ticks": "",
           "title": {
            "standoff": 15
           },
           "zerolinecolor": "white",
           "zerolinewidth": 2
          }
         }
        }
       }
      },
      "text/html": [
       "<div>\n",
       "        \n",
       "        \n",
       "            <div id=\"059ee03e-1f02-4808-a752-a5ab80bc09ad\" class=\"plotly-graph-div\" style=\"height:525px; width:100%;\"></div>\n",
       "            <script type=\"text/javascript\">\n",
       "                require([\"plotly\"], function(Plotly) {\n",
       "                    window.PLOTLYENV=window.PLOTLYENV || {};\n",
       "                    \n",
       "                if (document.getElementById(\"059ee03e-1f02-4808-a752-a5ab80bc09ad\")) {\n",
       "                    Plotly.newPlot(\n",
       "                        '059ee03e-1f02-4808-a752-a5ab80bc09ad',\n",
       "                        [{\"dimensions\": [{\"label\": \"Expected Annual Damage\", \"values\": [2265989623657653.0, 1135510880133854.0, 2.527609959817407e+16, 2.618145736184916e+16, 2.554325210281577e+16, 80585062545667.7, 4152541735557929.0]}, {\"label\": \"Dike Investment Costs\", \"values\": [58.664173647832065, 14.832822320806208, 0.0, 0.0, 18.970512379120155, 51.78118365156347, 25.761609533812756]}, {\"label\": \"RfR Investment Costs\", \"values\": [0.0, 0.0, 0.0, 0.0, 0.0, 0.0, 0.0]}, {\"label\": \"Evacuation Costs\", \"values\": [645471.4428665065, 238772.05514075683, 3499638.5413428354, 1012666.7349838376, 2422971.0051826765, 136284.09128937463, 448463.4618568969]}, {\"label\": \"Expected Number of Deaths\", \"values\": [1.3777241672396424e-05, 1.1027020399595653e-05, 0.0001464845011863254, 0.0013952462841020663, 0.00023208250260952092, 1.3460351187989884e-06, 3.7505939354104254e-05]}], \"domain\": {\"x\": [0.0, 1.0], \"y\": [0.0, 1.0]}, \"name\": \"\", \"type\": \"parcoords\"}],\n",
       "                        {\"legend\": {\"tracegroupgap\": 0}, \"margin\": {\"t\": 60}, \"template\": {\"data\": {\"bar\": [{\"error_x\": {\"color\": \"#2a3f5f\"}, \"error_y\": {\"color\": \"#2a3f5f\"}, \"marker\": {\"line\": {\"color\": \"#E5ECF6\", \"width\": 0.5}}, \"type\": \"bar\"}], \"barpolar\": [{\"marker\": {\"line\": {\"color\": \"#E5ECF6\", \"width\": 0.5}}, \"type\": \"barpolar\"}], \"carpet\": [{\"aaxis\": {\"endlinecolor\": \"#2a3f5f\", \"gridcolor\": \"white\", \"linecolor\": \"white\", \"minorgridcolor\": \"white\", \"startlinecolor\": \"#2a3f5f\"}, \"baxis\": {\"endlinecolor\": \"#2a3f5f\", \"gridcolor\": \"white\", \"linecolor\": \"white\", \"minorgridcolor\": \"white\", \"startlinecolor\": \"#2a3f5f\"}, \"type\": \"carpet\"}], \"choropleth\": [{\"colorbar\": {\"outlinewidth\": 0, \"ticks\": \"\"}, \"type\": \"choropleth\"}], \"contour\": [{\"colorbar\": {\"outlinewidth\": 0, \"ticks\": \"\"}, \"colorscale\": [[0.0, \"#0d0887\"], [0.1111111111111111, \"#46039f\"], [0.2222222222222222, \"#7201a8\"], [0.3333333333333333, \"#9c179e\"], [0.4444444444444444, \"#bd3786\"], [0.5555555555555556, \"#d8576b\"], [0.6666666666666666, \"#ed7953\"], [0.7777777777777778, \"#fb9f3a\"], [0.8888888888888888, \"#fdca26\"], [1.0, \"#f0f921\"]], \"type\": \"contour\"}], \"contourcarpet\": [{\"colorbar\": {\"outlinewidth\": 0, \"ticks\": \"\"}, \"type\": \"contourcarpet\"}], \"heatmap\": [{\"colorbar\": {\"outlinewidth\": 0, \"ticks\": \"\"}, \"colorscale\": [[0.0, \"#0d0887\"], [0.1111111111111111, \"#46039f\"], [0.2222222222222222, \"#7201a8\"], [0.3333333333333333, \"#9c179e\"], [0.4444444444444444, \"#bd3786\"], [0.5555555555555556, \"#d8576b\"], [0.6666666666666666, \"#ed7953\"], [0.7777777777777778, \"#fb9f3a\"], [0.8888888888888888, \"#fdca26\"], [1.0, \"#f0f921\"]], \"type\": \"heatmap\"}], \"heatmapgl\": [{\"colorbar\": {\"outlinewidth\": 0, \"ticks\": \"\"}, \"colorscale\": [[0.0, \"#0d0887\"], [0.1111111111111111, \"#46039f\"], [0.2222222222222222, \"#7201a8\"], [0.3333333333333333, \"#9c179e\"], [0.4444444444444444, \"#bd3786\"], [0.5555555555555556, \"#d8576b\"], [0.6666666666666666, \"#ed7953\"], [0.7777777777777778, \"#fb9f3a\"], [0.8888888888888888, \"#fdca26\"], [1.0, \"#f0f921\"]], \"type\": \"heatmapgl\"}], \"histogram\": [{\"marker\": {\"colorbar\": {\"outlinewidth\": 0, \"ticks\": \"\"}}, \"type\": \"histogram\"}], \"histogram2d\": [{\"colorbar\": {\"outlinewidth\": 0, \"ticks\": \"\"}, \"colorscale\": [[0.0, \"#0d0887\"], [0.1111111111111111, \"#46039f\"], [0.2222222222222222, \"#7201a8\"], [0.3333333333333333, \"#9c179e\"], [0.4444444444444444, \"#bd3786\"], [0.5555555555555556, \"#d8576b\"], [0.6666666666666666, \"#ed7953\"], [0.7777777777777778, \"#fb9f3a\"], [0.8888888888888888, \"#fdca26\"], [1.0, \"#f0f921\"]], \"type\": \"histogram2d\"}], \"histogram2dcontour\": [{\"colorbar\": {\"outlinewidth\": 0, \"ticks\": \"\"}, \"colorscale\": [[0.0, \"#0d0887\"], [0.1111111111111111, \"#46039f\"], [0.2222222222222222, \"#7201a8\"], [0.3333333333333333, \"#9c179e\"], [0.4444444444444444, \"#bd3786\"], [0.5555555555555556, \"#d8576b\"], [0.6666666666666666, \"#ed7953\"], [0.7777777777777778, \"#fb9f3a\"], [0.8888888888888888, \"#fdca26\"], [1.0, \"#f0f921\"]], \"type\": \"histogram2dcontour\"}], \"mesh3d\": [{\"colorbar\": {\"outlinewidth\": 0, \"ticks\": \"\"}, \"type\": \"mesh3d\"}], \"parcoords\": [{\"line\": {\"colorbar\": {\"outlinewidth\": 0, \"ticks\": \"\"}}, \"type\": \"parcoords\"}], \"pie\": [{\"automargin\": true, \"type\": \"pie\"}], \"scatter\": [{\"marker\": {\"colorbar\": {\"outlinewidth\": 0, \"ticks\": \"\"}}, \"type\": \"scatter\"}], \"scatter3d\": [{\"line\": {\"colorbar\": {\"outlinewidth\": 0, \"ticks\": \"\"}}, \"marker\": {\"colorbar\": {\"outlinewidth\": 0, \"ticks\": \"\"}}, \"type\": \"scatter3d\"}], \"scattercarpet\": [{\"marker\": {\"colorbar\": {\"outlinewidth\": 0, \"ticks\": \"\"}}, \"type\": \"scattercarpet\"}], \"scattergeo\": [{\"marker\": {\"colorbar\": {\"outlinewidth\": 0, \"ticks\": \"\"}}, \"type\": \"scattergeo\"}], \"scattergl\": [{\"marker\": {\"colorbar\": {\"outlinewidth\": 0, \"ticks\": \"\"}}, \"type\": \"scattergl\"}], \"scattermapbox\": [{\"marker\": {\"colorbar\": {\"outlinewidth\": 0, \"ticks\": \"\"}}, \"type\": \"scattermapbox\"}], \"scatterpolar\": [{\"marker\": {\"colorbar\": {\"outlinewidth\": 0, \"ticks\": \"\"}}, \"type\": \"scatterpolar\"}], \"scatterpolargl\": [{\"marker\": {\"colorbar\": {\"outlinewidth\": 0, \"ticks\": \"\"}}, \"type\": \"scatterpolargl\"}], \"scatterternary\": [{\"marker\": {\"colorbar\": {\"outlinewidth\": 0, \"ticks\": \"\"}}, \"type\": \"scatterternary\"}], \"surface\": [{\"colorbar\": {\"outlinewidth\": 0, \"ticks\": \"\"}, \"colorscale\": [[0.0, \"#0d0887\"], [0.1111111111111111, \"#46039f\"], [0.2222222222222222, \"#7201a8\"], [0.3333333333333333, \"#9c179e\"], [0.4444444444444444, \"#bd3786\"], [0.5555555555555556, \"#d8576b\"], [0.6666666666666666, \"#ed7953\"], [0.7777777777777778, \"#fb9f3a\"], [0.8888888888888888, \"#fdca26\"], [1.0, \"#f0f921\"]], \"type\": \"surface\"}], \"table\": [{\"cells\": {\"fill\": {\"color\": \"#EBF0F8\"}, \"line\": {\"color\": \"white\"}}, \"header\": {\"fill\": {\"color\": \"#C8D4E3\"}, \"line\": {\"color\": \"white\"}}, \"type\": \"table\"}]}, \"layout\": {\"annotationdefaults\": {\"arrowcolor\": \"#2a3f5f\", \"arrowhead\": 0, \"arrowwidth\": 1}, \"coloraxis\": {\"colorbar\": {\"outlinewidth\": 0, \"ticks\": \"\"}}, \"colorscale\": {\"diverging\": [[0, \"#8e0152\"], [0.1, \"#c51b7d\"], [0.2, \"#de77ae\"], [0.3, \"#f1b6da\"], [0.4, \"#fde0ef\"], [0.5, \"#f7f7f7\"], [0.6, \"#e6f5d0\"], [0.7, \"#b8e186\"], [0.8, \"#7fbc41\"], [0.9, \"#4d9221\"], [1, \"#276419\"]], \"sequential\": [[0.0, \"#0d0887\"], [0.1111111111111111, \"#46039f\"], [0.2222222222222222, \"#7201a8\"], [0.3333333333333333, \"#9c179e\"], [0.4444444444444444, \"#bd3786\"], [0.5555555555555556, \"#d8576b\"], [0.6666666666666666, \"#ed7953\"], [0.7777777777777778, \"#fb9f3a\"], [0.8888888888888888, \"#fdca26\"], [1.0, \"#f0f921\"]], \"sequentialminus\": [[0.0, \"#0d0887\"], [0.1111111111111111, \"#46039f\"], [0.2222222222222222, \"#7201a8\"], [0.3333333333333333, \"#9c179e\"], [0.4444444444444444, \"#bd3786\"], [0.5555555555555556, \"#d8576b\"], [0.6666666666666666, \"#ed7953\"], [0.7777777777777778, \"#fb9f3a\"], [0.8888888888888888, \"#fdca26\"], [1.0, \"#f0f921\"]]}, \"colorway\": [\"#636efa\", \"#EF553B\", \"#00cc96\", \"#ab63fa\", \"#FFA15A\", \"#19d3f3\", \"#FF6692\", \"#B6E880\", \"#FF97FF\", \"#FECB52\"], \"font\": {\"color\": \"#2a3f5f\"}, \"geo\": {\"bgcolor\": \"white\", \"lakecolor\": \"white\", \"landcolor\": \"#E5ECF6\", \"showlakes\": true, \"showland\": true, \"subunitcolor\": \"white\"}, \"hoverlabel\": {\"align\": \"left\"}, \"hovermode\": \"closest\", \"mapbox\": {\"style\": \"light\"}, \"paper_bgcolor\": \"white\", \"plot_bgcolor\": \"#E5ECF6\", \"polar\": {\"angularaxis\": {\"gridcolor\": \"white\", \"linecolor\": \"white\", \"ticks\": \"\"}, \"bgcolor\": \"#E5ECF6\", \"radialaxis\": {\"gridcolor\": \"white\", \"linecolor\": \"white\", \"ticks\": \"\"}}, \"scene\": {\"xaxis\": {\"backgroundcolor\": \"#E5ECF6\", \"gridcolor\": \"white\", \"gridwidth\": 2, \"linecolor\": \"white\", \"showbackground\": true, \"ticks\": \"\", \"zerolinecolor\": \"white\"}, \"yaxis\": {\"backgroundcolor\": \"#E5ECF6\", \"gridcolor\": \"white\", \"gridwidth\": 2, \"linecolor\": \"white\", \"showbackground\": true, \"ticks\": \"\", \"zerolinecolor\": \"white\"}, \"zaxis\": {\"backgroundcolor\": \"#E5ECF6\", \"gridcolor\": \"white\", \"gridwidth\": 2, \"linecolor\": \"white\", \"showbackground\": true, \"ticks\": \"\", \"zerolinecolor\": \"white\"}}, \"shapedefaults\": {\"line\": {\"color\": \"#2a3f5f\"}}, \"ternary\": {\"aaxis\": {\"gridcolor\": \"white\", \"linecolor\": \"white\", \"ticks\": \"\"}, \"baxis\": {\"gridcolor\": \"white\", \"linecolor\": \"white\", \"ticks\": \"\"}, \"bgcolor\": \"#E5ECF6\", \"caxis\": {\"gridcolor\": \"white\", \"linecolor\": \"white\", \"ticks\": \"\"}}, \"title\": {\"x\": 0.05}, \"xaxis\": {\"automargin\": true, \"gridcolor\": \"white\", \"linecolor\": \"white\", \"ticks\": \"\", \"title\": {\"standoff\": 15}, \"zerolinecolor\": \"white\", \"zerolinewidth\": 2}, \"yaxis\": {\"automargin\": true, \"gridcolor\": \"white\", \"linecolor\": \"white\", \"ticks\": \"\", \"title\": {\"standoff\": 15}, \"zerolinecolor\": \"white\", \"zerolinewidth\": 2}}}},\n",
       "                        {\"responsive\": true}\n",
       "                    ).then(function(){\n",
       "                            \n",
       "var gd = document.getElementById('059ee03e-1f02-4808-a752-a5ab80bc09ad');\n",
       "var x = new MutationObserver(function (mutations, observer) {{\n",
       "        var display = window.getComputedStyle(gd).display;\n",
       "        if (!display || display === 'none') {{\n",
       "            console.log([gd, 'removed!']);\n",
       "            Plotly.purge(gd);\n",
       "            observer.disconnect();\n",
       "        }}\n",
       "}});\n",
       "\n",
       "// Listen for the removal of the full notebook cells\n",
       "var notebookContainer = gd.closest('#notebook-container');\n",
       "if (notebookContainer) {{\n",
       "    x.observe(notebookContainer, {childList: true});\n",
       "}}\n",
       "\n",
       "// Listen for the clearing of the current output cell\n",
       "var outputEl = gd.closest('.output');\n",
       "if (outputEl) {{\n",
       "    x.observe(outputEl, {childList: true});\n",
       "}}\n",
       "\n",
       "                        })\n",
       "                };\n",
       "                });\n",
       "            </script>\n",
       "        </div>"
      ]
     },
     "metadata": {},
     "output_type": "display_data"
    }
   ],
   "source": [
    "fig = px.parallel_coordinates(scores, labels= {\"Annual Damage\": 'Expected Annual Damage', \"D Investment Costs\": 'Dike Investment Costs', \"R Investment Costs\": 'RfR Investment Costs', \"Evac Costs\": 'Evacuation Costs', \"Expected Deaths\": 'Expected Number of Deaths'})\n",
    "fig.show()"
   ]
  },
  {
   "cell_type": "markdown",
   "metadata": {},
   "source": [
    "### Maximum Regret\n",
    "Another robustness criterion is the maximum regret measure. We again calculate this measure for every policy selected"
   ]
  },
  {
   "cell_type": "code",
   "execution_count": 18,
   "metadata": {},
   "outputs": [],
   "source": [
    "def calculate_regret(data, best):\n",
    "    return np.abs(best-data)\n",
    "\n",
    "\n",
    "overall_regret = {}\n",
    "max_regret = {}\n",
    "for outcome in dike_model.outcomes:\n",
    "    policy_column = experiments['policy']\n",
    "    \n",
    "    # create a DataFrame with all the relevent information\n",
    "    # i.e., policy, scenario_id, and scores\n",
    "    data = pd.DataFrame({outcome.name: outcomes[outcome.name], \n",
    "                         \"policy\":experiments['policy'],\n",
    "                         \"scenario\":experiments['scenario']})\n",
    "    \n",
    "    data = data.pivot(index='scenario', columns='policy')\n",
    "    \n",
    "    data.columns = data.columns.get_level_values(1)\n",
    "    \n",
    "    outcome_regret = (data.max(axis=1)[:, np.newaxis] - data).abs()\n",
    "    \n",
    "    overall_regret[outcome.name] = outcome_regret\n",
    "    max_regret[outcome.name] = outcome_regret.max()"
   ]
  },
  {
   "cell_type": "code",
   "execution_count": 19,
   "metadata": {},
   "outputs": [
    {
     "data": {
      "image/png": "[encoded data removed]",
      "text/plain": [
       "<Figure size 432x288 with 2 Axes>"
      ]
     },
     "metadata": {
      "needs_background": "light"
     },
     "output_type": "display_data"
    }
   ],
   "source": [
    "max_regret = pd.DataFrame(max_regret)\n",
    "sns.heatmap(max_regret/max_regret.max(), cmap='viridis', annot=True)\n",
    "plt.show()"
   ]
  },
  {
   "cell_type": "code",
   "execution_count": 30,
   "metadata": {},
   "outputs": [
    {
     "data": {
      "application/vnd.plotly.v1+json": {
       "config": {
        "plotlyServerURL": "https://plot.ly"
       },
       "data": [
        {
         "dimensions": [
          {
           "label": "Expected Annual Damage",
           "values": [
            3003809522.112326,
            3019275663.679761,
            209415181.92349494,
            71489548.91362879,
            144856319.32179648,
            3035093501.475112,
            2812169424.5561132
           ]
          },
          {
           "label": "Dike Investment Costs",
           "values": [
            0,
            243257292.40980625,
            149587522.42896062,
            241516874.8218929,
            173838372.56042057,
            57738704.946618736,
            59902668.71915752
           ]
          },
          {
           "label": "RfR Investment Costs",
           "values": [
            508200000,
            0,
            296500000,
            130900000,
            265800000,
            454300000,
            302400000
           ]
          },
          {
           "label": "Evacuation Costs",
           "values": [
            26072.711991778593,
            26190.426949313853,
            8195.015247064777,
            13638.95502873152,
            6063.064992092426,
            26241.46948339166,
            24966.6512872785
           ]
          },
          {
           "label": "Expected Number of Deaths",
           "values": [
            0.5210503473058196,
            0.5225741218044064,
            0.3487586732754561,
            0.002224383679759005,
            0.3053963602441429,
            0.5231325155717498,
            0.5099656511662787
           ]
          }
         ],
         "domain": {
          "x": [
           0,
           1
          ],
          "y": [
           0,
           1
          ]
         },
         "name": "",
         "type": "parcoords"
        }
       ],
       "layout": {
        "legend": {
         "tracegroupgap": 0
        },
        "margin": {
         "t": 60
        },
        "template": {
         "data": {
          "bar": [
           {
            "error_x": {
             "color": "#2a3f5f"
            },
            "error_y": {
             "color": "#2a3f5f"
            },
            "marker": {
             "line": {
              "color": "#E5ECF6",
              "width": 0.5
             }
            },
            "type": "bar"
           }
          ],
          "barpolar": [
           {
            "marker": {
             "line": {
              "color": "#E5ECF6",
              "width": 0.5
             }
            },
            "type": "barpolar"
           }
          ],
          "carpet": [
           {
            "aaxis": {
             "endlinecolor": "#2a3f5f",
             "gridcolor": "white",
             "linecolor": "white",
             "minorgridcolor": "white",
             "startlinecolor": "#2a3f5f"
            },
            "baxis": {
             "endlinecolor": "#2a3f5f",
             "gridcolor": "white",
             "linecolor": "white",
             "minorgridcolor": "white",
             "startlinecolor": "#2a3f5f"
            },
            "type": "carpet"
           }
          ],
          "choropleth": [
           {
            "colorbar": {
             "outlinewidth": 0,
             "ticks": ""
            },
            "type": "choropleth"
           }
          ],
          "contour": [
           {
            "colorbar": {
             "outlinewidth": 0,
             "ticks": ""
            },
            "colorscale": [
             [
              0,
              "#0d0887"
             ],
             [
              0.1111111111111111,
              "#46039f"
             ],
             [
              0.2222222222222222,
              "#7201a8"
             ],
             [
              0.3333333333333333,
              "#9c179e"
             ],
             [
              0.4444444444444444,
              "#bd3786"
             ],
             [
              0.5555555555555556,
              "#d8576b"
             ],
             [
              0.6666666666666666,
              "#ed7953"
             ],
             [
              0.7777777777777778,
              "#fb9f3a"
             ],
             [
              0.8888888888888888,
              "#fdca26"
             ],
             [
              1,
              "#f0f921"
             ]
            ],
            "type": "contour"
           }
          ],
          "contourcarpet": [
           {
            "colorbar": {
             "outlinewidth": 0,
             "ticks": ""
            },
            "type": "contourcarpet"
           }
          ],
          "heatmap": [
           {
            "colorbar": {
             "outlinewidth": 0,
             "ticks": ""
            },
            "colorscale": [
             [
              0,
              "#0d0887"
             ],
             [
              0.1111111111111111,
              "#46039f"
             ],
             [
              0.2222222222222222,
              "#7201a8"
             ],
             [
              0.3333333333333333,
              "#9c179e"
             ],
             [
              0.4444444444444444,
              "#bd3786"
             ],
             [
              0.5555555555555556,
              "#d8576b"
             ],
             [
              0.6666666666666666,
              "#ed7953"
             ],
             [
              0.7777777777777778,
              "#fb9f3a"
             ],
             [
              0.8888888888888888,
              "#fdca26"
             ],
             [
              1,
              "#f0f921"
             ]
            ],
            "type": "heatmap"
           }
          ],
          "heatmapgl": [
           {
            "colorbar": {
             "outlinewidth": 0,
             "ticks": ""
            },
            "colorscale": [
             [
              0,
              "#0d0887"
             ],
             [
              0.1111111111111111,
              "#46039f"
             ],
             [
              0.2222222222222222,
              "#7201a8"
             ],
             [
              0.3333333333333333,
              "#9c179e"
             ],
             [
              0.4444444444444444,
              "#bd3786"
             ],
             [
              0.5555555555555556,
              "#d8576b"
             ],
             [
              0.6666666666666666,
              "#ed7953"
             ],
             [
              0.7777777777777778,
              "#fb9f3a"
             ],
             [
              0.8888888888888888,
              "#fdca26"
             ],
             [
              1,
              "#f0f921"
             ]
            ],
            "type": "heatmapgl"
           }
          ],
          "histogram": [
           {
            "marker": {
             "colorbar": {
              "outlinewidth": 0,
              "ticks": ""
             }
            },
            "type": "histogram"
           }
          ],
          "histogram2d": [
           {
            "colorbar": {
             "outlinewidth": 0,
             "ticks": ""
            },
            "colorscale": [
             [
              0,
              "#0d0887"
             ],
             [
              0.1111111111111111,
              "#46039f"
             ],
             [
              0.2222222222222222,
              "#7201a8"
             ],
             [
              0.3333333333333333,
              "#9c179e"
             ],
             [
              0.4444444444444444,
              "#bd3786"
             ],
             [
              0.5555555555555556,
              "#d8576b"
             ],
             [
              0.6666666666666666,
              "#ed7953"
             ],
             [
              0.7777777777777778,
              "#fb9f3a"
             ],
             [
              0.8888888888888888,
              "#fdca26"
             ],
             [
              1,
              "#f0f921"
             ]
            ],
            "type": "histogram2d"
           }
          ],
          "histogram2dcontour": [
           {
            "colorbar": {
             "outlinewidth": 0,
             "ticks": ""
            },
            "colorscale": [
             [
              0,
              "#0d0887"
             ],
             [
              0.1111111111111111,
              "#46039f"
             ],
             [
              0.2222222222222222,
              "#7201a8"
             ],
             [
              0.3333333333333333,
              "#9c179e"
             ],
             [
              0.4444444444444444,
              "#bd3786"
             ],
             [
              0.5555555555555556,
              "#d8576b"
             ],
             [
              0.6666666666666666,
              "#ed7953"
             ],
             [
              0.7777777777777778,
              "#fb9f3a"
             ],
             [
              0.8888888888888888,
              "#fdca26"
             ],
             [
              1,
              "#f0f921"
             ]
            ],
            "type": "histogram2dcontour"
           }
          ],
          "mesh3d": [
           {
            "colorbar": {
             "outlinewidth": 0,
             "ticks": ""
            },
            "type": "mesh3d"
           }
          ],
          "parcoords": [
           {
            "line": {
             "colorbar": {
              "outlinewidth": 0,
              "ticks": ""
             }
            },
            "type": "parcoords"
           }
          ],
          "pie": [
           {
            "automargin": true,
            "type": "pie"
           }
          ],
          "scatter": [
           {
            "marker": {
             "colorbar": {
              "outlinewidth": 0,
              "ticks": ""
             }
            },
            "type": "scatter"
           }
          ],
          "scatter3d": [
           {
            "line": {
             "colorbar": {
              "outlinewidth": 0,
              "ticks": ""
             }
            },
            "marker": {
             "colorbar": {
              "outlinewidth": 0,
              "ticks": ""
             }
            },
            "type": "scatter3d"
           }
          ],
          "scattercarpet": [
           {
            "marker": {
             "colorbar": {
              "outlinewidth": 0,
              "ticks": ""
             }
            },
            "type": "scattercarpet"
           }
          ],
          "scattergeo": [
           {
            "marker": {
             "colorbar": {
              "outlinewidth": 0,
              "ticks": ""
             }
            },
            "type": "scattergeo"
           }
          ],
          "scattergl": [
           {
            "marker": {
             "colorbar": {
              "outlinewidth": 0,
              "ticks": ""
             }
            },
            "type": "scattergl"
           }
          ],
          "scattermapbox": [
           {
            "marker": {
             "colorbar": {
              "outlinewidth": 0,
              "ticks": ""
             }
            },
            "type": "scattermapbox"
           }
          ],
          "scatterpolar": [
           {
            "marker": {
             "colorbar": {
              "outlinewidth": 0,
              "ticks": ""
             }
            },
            "type": "scatterpolar"
           }
          ],
          "scatterpolargl": [
           {
            "marker": {
             "colorbar": {
              "outlinewidth": 0,
              "ticks": ""
             }
            },
            "type": "scatterpolargl"
           }
          ],
          "scatterternary": [
           {
            "marker": {
             "colorbar": {
              "outlinewidth": 0,
              "ticks": ""
             }
            },
            "type": "scatterternary"
           }
          ],
          "surface": [
           {
            "colorbar": {
             "outlinewidth": 0,
             "ticks": ""
            },
            "colorscale": [
             [
              0,
              "#0d0887"
             ],
             [
              0.1111111111111111,
              "#46039f"
             ],
             [
              0.2222222222222222,
              "#7201a8"
             ],
             [
              0.3333333333333333,
              "#9c179e"
             ],
             [
              0.4444444444444444,
              "#bd3786"
             ],
             [
              0.5555555555555556,
              "#d8576b"
             ],
             [
              0.6666666666666666,
              "#ed7953"
             ],
             [
              0.7777777777777778,
              "#fb9f3a"
             ],
             [
              0.8888888888888888,
              "#fdca26"
             ],
             [
              1,
              "#f0f921"
             ]
            ],
            "type": "surface"
           }
          ],
          "table": [
           {
            "cells": {
             "fill": {
              "color": "#EBF0F8"
             },
             "line": {
              "color": "white"
             }
            },
            "header": {
             "fill": {
              "color": "#C8D4E3"
             },
             "line": {
              "color": "white"
             }
            },
            "type": "table"
           }
          ]
         },
         "layout": {
          "annotationdefaults": {
           "arrowcolor": "#2a3f5f",
           "arrowhead": 0,
           "arrowwidth": 1
          },
          "coloraxis": {
           "colorbar": {
            "outlinewidth": 0,
            "ticks": ""
           }
          },
          "colorscale": {
           "diverging": [
            [
             0,
             "#8e0152"
            ],
            [
             0.1,
             "#c51b7d"
            ],
            [
             0.2,
             "#de77ae"
            ],
            [
             0.3,
             "#f1b6da"
            ],
            [
             0.4,
             "#fde0ef"
            ],
            [
             0.5,
             "#f7f7f7"
            ],
            [
             0.6,
             "#e6f5d0"
            ],
            [
             0.7,
             "#b8e186"
            ],
            [
             0.8,
             "#7fbc41"
            ],
            [
             0.9,
             "#4d9221"
            ],
            [
             1,
             "#276419"
            ]
           ],
           "sequential": [
            [
             0,
             "#0d0887"
            ],
            [
             0.1111111111111111,
             "#46039f"
            ],
            [
             0.2222222222222222,
             "#7201a8"
            ],
            [
             0.3333333333333333,
             "#9c179e"
            ],
            [
             0.4444444444444444,
             "#bd3786"
            ],
            [
             0.5555555555555556,
             "#d8576b"
            ],
            [
             0.6666666666666666,
             "#ed7953"
            ],
            [
             0.7777777777777778,
             "#fb9f3a"
            ],
            [
             0.8888888888888888,
             "#fdca26"
            ],
            [
             1,
             "#f0f921"
            ]
           ],
           "sequentialminus": [
            [
             0,
             "#0d0887"
            ],
            [
             0.1111111111111111,
             "#46039f"
            ],
            [
             0.2222222222222222,
             "#7201a8"
            ],
            [
             0.3333333333333333,
             "#9c179e"
            ],
            [
             0.4444444444444444,
             "#bd3786"
            ],
            [
             0.5555555555555556,
             "#d8576b"
            ],
            [
             0.6666666666666666,
             "#ed7953"
            ],
            [
             0.7777777777777778,
             "#fb9f3a"
            ],
            [
             0.8888888888888888,
             "#fdca26"
            ],
            [
             1,
             "#f0f921"
            ]
           ]
          },
          "colorway": [
           "#636efa",
           "#EF553B",
           "#00cc96",
           "#ab63fa",
           "#FFA15A",
           "#19d3f3",
           "#FF6692",
           "#B6E880",
           "#FF97FF",
           "#FECB52"
          ],
          "font": {
           "color": "#2a3f5f"
          },
          "geo": {
           "bgcolor": "white",
           "lakecolor": "white",
           "landcolor": "#E5ECF6",
           "showlakes": true,
           "showland": true,
           "subunitcolor": "white"
          },
          "hoverlabel": {
           "align": "left"
          },
          "hovermode": "closest",
          "mapbox": {
           "style": "light"
          },
          "paper_bgcolor": "white",
          "plot_bgcolor": "#E5ECF6",
          "polar": {
           "angularaxis": {
            "gridcolor": "white",
            "linecolor": "white",
            "ticks": ""
           },
           "bgcolor": "#E5ECF6",
           "radialaxis": {
            "gridcolor": "white",
            "linecolor": "white",
            "ticks": ""
           }
          },
          "scene": {
           "xaxis": {
            "backgroundcolor": "#E5ECF6",
            "gridcolor": "white",
            "gridwidth": 2,
            "linecolor": "white",
            "showbackground": true,
            "ticks": "",
            "zerolinecolor": "white"
           },
           "yaxis": {
            "backgroundcolor": "#E5ECF6",
            "gridcolor": "white",
            "gridwidth": 2,
            "linecolor": "white",
            "showbackground": true,
            "ticks": "",
            "zerolinecolor": "white"
           },
           "zaxis": {
            "backgroundcolor": "#E5ECF6",
            "gridcolor": "white",
            "gridwidth": 2,
            "linecolor": "white",
            "showbackground": true,
            "ticks": "",
            "zerolinecolor": "white"
           }
          },
          "shapedefaults": {
           "line": {
            "color": "#2a3f5f"
           }
          },
          "ternary": {
           "aaxis": {
            "gridcolor": "white",
            "linecolor": "white",
            "ticks": ""
           },
           "baxis": {
            "gridcolor": "white",
            "linecolor": "white",
            "ticks": ""
           },
           "bgcolor": "#E5ECF6",
           "caxis": {
            "gridcolor": "white",
            "linecolor": "white",
            "ticks": ""
           }
          },
          "title": {
           "x": 0.05
          },
          "xaxis": {
           "automargin": true,
           "gridcolor": "white",
           "linecolor": "white",
           "ticks": "",
           "title": {
            "standoff": 15
           },
           "zerolinecolor": "white",
           "zerolinewidth": 2
          },
          "yaxis": {
           "automargin": true,
           "gridcolor": "white",
           "linecolor": "white",
           "ticks": "",
           "title": {
            "standoff": 15
           },
           "zerolinecolor": "white",
           "zerolinewidth": 2
          }
         }
        }
       }
      },
      "text/html": [
       "<div>\n",
       "        \n",
       "        \n",
       "            <div id=\"5c318e99-e8f3-40b0-800d-2c2ab9c3db76\" class=\"plotly-graph-div\" style=\"height:525px; width:100%;\"></div>\n",
       "            <script type=\"text/javascript\">\n",
       "                require([\"plotly\"], function(Plotly) {\n",
       "                    window.PLOTLYENV=window.PLOTLYENV || {};\n",
       "                    \n",
       "                if (document.getElementById(\"5c318e99-e8f3-40b0-800d-2c2ab9c3db76\")) {\n",
       "                    Plotly.newPlot(\n",
       "                        '5c318e99-e8f3-40b0-800d-2c2ab9c3db76',\n",
       "                        [{\"dimensions\": [{\"label\": \"Expected Annual Damage\", \"values\": [3003809522.112326, 3019275663.679761, 209415181.92349494, 71489548.91362879, 144856319.32179648, 3035093501.475112, 2812169424.5561132]}, {\"label\": \"Dike Investment Costs\", \"values\": [0.0, 243257292.40980625, 149587522.42896062, 241516874.8218929, 173838372.56042057, 57738704.946618736, 59902668.71915752]}, {\"label\": \"RfR Investment Costs\", \"values\": [508200000.0, 0.0, 296500000.0, 130900000.0, 265800000.0, 454300000.0, 302400000.0]}, {\"label\": \"Evacuation Costs\", \"values\": [26072.711991778593, 26190.426949313853, 8195.015247064777, 13638.95502873152, 6063.064992092426, 26241.46948339166, 24966.6512872785]}, {\"label\": \"Expected Number of Deaths\", \"values\": [0.5210503473058196, 0.5225741218044064, 0.3487586732754561, 0.002224383679759005, 0.3053963602441429, 0.5231325155717498, 0.5099656511662787]}], \"domain\": {\"x\": [0.0, 1.0], \"y\": [0.0, 1.0]}, \"name\": \"\", \"type\": \"parcoords\"}],\n",
       "                        {\"legend\": {\"tracegroupgap\": 0}, \"margin\": {\"t\": 60}, \"template\": {\"data\": {\"bar\": [{\"error_x\": {\"color\": \"#2a3f5f\"}, \"error_y\": {\"color\": \"#2a3f5f\"}, \"marker\": {\"line\": {\"color\": \"#E5ECF6\", \"width\": 0.5}}, \"type\": \"bar\"}], \"barpolar\": [{\"marker\": {\"line\": {\"color\": \"#E5ECF6\", \"width\": 0.5}}, \"type\": \"barpolar\"}], \"carpet\": [{\"aaxis\": {\"endlinecolor\": \"#2a3f5f\", \"gridcolor\": \"white\", \"linecolor\": \"white\", \"minorgridcolor\": \"white\", \"startlinecolor\": \"#2a3f5f\"}, \"baxis\": {\"endlinecolor\": \"#2a3f5f\", \"gridcolor\": \"white\", \"linecolor\": \"white\", \"minorgridcolor\": \"white\", \"startlinecolor\": \"#2a3f5f\"}, \"type\": \"carpet\"}], \"choropleth\": [{\"colorbar\": {\"outlinewidth\": 0, \"ticks\": \"\"}, \"type\": \"choropleth\"}], \"contour\": [{\"colorbar\": {\"outlinewidth\": 0, \"ticks\": \"\"}, \"colorscale\": [[0.0, \"#0d0887\"], [0.1111111111111111, \"#46039f\"], [0.2222222222222222, \"#7201a8\"], [0.3333333333333333, \"#9c179e\"], [0.4444444444444444, \"#bd3786\"], [0.5555555555555556, \"#d8576b\"], [0.6666666666666666, \"#ed7953\"], [0.7777777777777778, \"#fb9f3a\"], [0.8888888888888888, \"#fdca26\"], [1.0, \"#f0f921\"]], \"type\": \"contour\"}], \"contourcarpet\": [{\"colorbar\": {\"outlinewidth\": 0, \"ticks\": \"\"}, \"type\": \"contourcarpet\"}], \"heatmap\": [{\"colorbar\": {\"outlinewidth\": 0, \"ticks\": \"\"}, \"colorscale\": [[0.0, \"#0d0887\"], [0.1111111111111111, \"#46039f\"], [0.2222222222222222, \"#7201a8\"], [0.3333333333333333, \"#9c179e\"], [0.4444444444444444, \"#bd3786\"], [0.5555555555555556, \"#d8576b\"], [0.6666666666666666, \"#ed7953\"], [0.7777777777777778, \"#fb9f3a\"], [0.8888888888888888, \"#fdca26\"], [1.0, \"#f0f921\"]], \"type\": \"heatmap\"}], \"heatmapgl\": [{\"colorbar\": {\"outlinewidth\": 0, \"ticks\": \"\"}, \"colorscale\": [[0.0, \"#0d0887\"], [0.1111111111111111, \"#46039f\"], [0.2222222222222222, \"#7201a8\"], [0.3333333333333333, \"#9c179e\"], [0.4444444444444444, \"#bd3786\"], [0.5555555555555556, \"#d8576b\"], [0.6666666666666666, \"#ed7953\"], [0.7777777777777778, \"#fb9f3a\"], [0.8888888888888888, \"#fdca26\"], [1.0, \"#f0f921\"]], \"type\": \"heatmapgl\"}], \"histogram\": [{\"marker\": {\"colorbar\": {\"outlinewidth\": 0, \"ticks\": \"\"}}, \"type\": \"histogram\"}], \"histogram2d\": [{\"colorbar\": {\"outlinewidth\": 0, \"ticks\": \"\"}, \"colorscale\": [[0.0, \"#0d0887\"], [0.1111111111111111, \"#46039f\"], [0.2222222222222222, \"#7201a8\"], [0.3333333333333333, \"#9c179e\"], [0.4444444444444444, \"#bd3786\"], [0.5555555555555556, \"#d8576b\"], [0.6666666666666666, \"#ed7953\"], [0.7777777777777778, \"#fb9f3a\"], [0.8888888888888888, \"#fdca26\"], [1.0, \"#f0f921\"]], \"type\": \"histogram2d\"}], \"histogram2dcontour\": [{\"colorbar\": {\"outlinewidth\": 0, \"ticks\": \"\"}, \"colorscale\": [[0.0, \"#0d0887\"], [0.1111111111111111, \"#46039f\"], [0.2222222222222222, \"#7201a8\"], [0.3333333333333333, \"#9c179e\"], [0.4444444444444444, \"#bd3786\"], [0.5555555555555556, \"#d8576b\"], [0.6666666666666666, \"#ed7953\"], [0.7777777777777778, \"#fb9f3a\"], [0.8888888888888888, \"#fdca26\"], [1.0, \"#f0f921\"]], \"type\": \"histogram2dcontour\"}], \"mesh3d\": [{\"colorbar\": {\"outlinewidth\": 0, \"ticks\": \"\"}, \"type\": \"mesh3d\"}], \"parcoords\": [{\"line\": {\"colorbar\": {\"outlinewidth\": 0, \"ticks\": \"\"}}, \"type\": \"parcoords\"}], \"pie\": [{\"automargin\": true, \"type\": \"pie\"}], \"scatter\": [{\"marker\": {\"colorbar\": {\"outlinewidth\": 0, \"ticks\": \"\"}}, \"type\": \"scatter\"}], \"scatter3d\": [{\"line\": {\"colorbar\": {\"outlinewidth\": 0, \"ticks\": \"\"}}, \"marker\": {\"colorbar\": {\"outlinewidth\": 0, \"ticks\": \"\"}}, \"type\": \"scatter3d\"}], \"scattercarpet\": [{\"marker\": {\"colorbar\": {\"outlinewidth\": 0, \"ticks\": \"\"}}, \"type\": \"scattercarpet\"}], \"scattergeo\": [{\"marker\": {\"colorbar\": {\"outlinewidth\": 0, \"ticks\": \"\"}}, \"type\": \"scattergeo\"}], \"scattergl\": [{\"marker\": {\"colorbar\": {\"outlinewidth\": 0, \"ticks\": \"\"}}, \"type\": \"scattergl\"}], \"scattermapbox\": [{\"marker\": {\"colorbar\": {\"outlinewidth\": 0, \"ticks\": \"\"}}, \"type\": \"scattermapbox\"}], \"scatterpolar\": [{\"marker\": {\"colorbar\": {\"outlinewidth\": 0, \"ticks\": \"\"}}, \"type\": \"scatterpolar\"}], \"scatterpolargl\": [{\"marker\": {\"colorbar\": {\"outlinewidth\": 0, \"ticks\": \"\"}}, \"type\": \"scatterpolargl\"}], \"scatterternary\": [{\"marker\": {\"colorbar\": {\"outlinewidth\": 0, \"ticks\": \"\"}}, \"type\": \"scatterternary\"}], \"surface\": [{\"colorbar\": {\"outlinewidth\": 0, \"ticks\": \"\"}, \"colorscale\": [[0.0, \"#0d0887\"], [0.1111111111111111, \"#46039f\"], [0.2222222222222222, \"#7201a8\"], [0.3333333333333333, \"#9c179e\"], [0.4444444444444444, \"#bd3786\"], [0.5555555555555556, \"#d8576b\"], [0.6666666666666666, \"#ed7953\"], [0.7777777777777778, \"#fb9f3a\"], [0.8888888888888888, \"#fdca26\"], [1.0, \"#f0f921\"]], \"type\": \"surface\"}], \"table\": [{\"cells\": {\"fill\": {\"color\": \"#EBF0F8\"}, \"line\": {\"color\": \"white\"}}, \"header\": {\"fill\": {\"color\": \"#C8D4E3\"}, \"line\": {\"color\": \"white\"}}, \"type\": \"table\"}]}, \"layout\": {\"annotationdefaults\": {\"arrowcolor\": \"#2a3f5f\", \"arrowhead\": 0, \"arrowwidth\": 1}, \"coloraxis\": {\"colorbar\": {\"outlinewidth\": 0, \"ticks\": \"\"}}, \"colorscale\": {\"diverging\": [[0, \"#8e0152\"], [0.1, \"#c51b7d\"], [0.2, \"#de77ae\"], [0.3, \"#f1b6da\"], [0.4, \"#fde0ef\"], [0.5, \"#f7f7f7\"], [0.6, \"#e6f5d0\"], [0.7, \"#b8e186\"], [0.8, \"#7fbc41\"], [0.9, \"#4d9221\"], [1, \"#276419\"]], \"sequential\": [[0.0, \"#0d0887\"], [0.1111111111111111, \"#46039f\"], [0.2222222222222222, \"#7201a8\"], [0.3333333333333333, \"#9c179e\"], [0.4444444444444444, \"#bd3786\"], [0.5555555555555556, \"#d8576b\"], [0.6666666666666666, \"#ed7953\"], [0.7777777777777778, \"#fb9f3a\"], [0.8888888888888888, \"#fdca26\"], [1.0, \"#f0f921\"]], \"sequentialminus\": [[0.0, \"#0d0887\"], [0.1111111111111111, \"#46039f\"], [0.2222222222222222, \"#7201a8\"], [0.3333333333333333, \"#9c179e\"], [0.4444444444444444, \"#bd3786\"], [0.5555555555555556, \"#d8576b\"], [0.6666666666666666, \"#ed7953\"], [0.7777777777777778, \"#fb9f3a\"], [0.8888888888888888, \"#fdca26\"], [1.0, \"#f0f921\"]]}, \"colorway\": [\"#636efa\", \"#EF553B\", \"#00cc96\", \"#ab63fa\", \"#FFA15A\", \"#19d3f3\", \"#FF6692\", \"#B6E880\", \"#FF97FF\", \"#FECB52\"], \"font\": {\"color\": \"#2a3f5f\"}, \"geo\": {\"bgcolor\": \"white\", \"lakecolor\": \"white\", \"landcolor\": \"#E5ECF6\", \"showlakes\": true, \"showland\": true, \"subunitcolor\": \"white\"}, \"hoverlabel\": {\"align\": \"left\"}, \"hovermode\": \"closest\", \"mapbox\": {\"style\": \"light\"}, \"paper_bgcolor\": \"white\", \"plot_bgcolor\": \"#E5ECF6\", \"polar\": {\"angularaxis\": {\"gridcolor\": \"white\", \"linecolor\": \"white\", \"ticks\": \"\"}, \"bgcolor\": \"#E5ECF6\", \"radialaxis\": {\"gridcolor\": \"white\", \"linecolor\": \"white\", \"ticks\": \"\"}}, \"scene\": {\"xaxis\": {\"backgroundcolor\": \"#E5ECF6\", \"gridcolor\": \"white\", \"gridwidth\": 2, \"linecolor\": \"white\", \"showbackground\": true, \"ticks\": \"\", \"zerolinecolor\": \"white\"}, \"yaxis\": {\"backgroundcolor\": \"#E5ECF6\", \"gridcolor\": \"white\", \"gridwidth\": 2, \"linecolor\": \"white\", \"showbackground\": true, \"ticks\": \"\", \"zerolinecolor\": \"white\"}, \"zaxis\": {\"backgroundcolor\": \"#E5ECF6\", \"gridcolor\": \"white\", \"gridwidth\": 2, \"linecolor\": \"white\", \"showbackground\": true, \"ticks\": \"\", \"zerolinecolor\": \"white\"}}, \"shapedefaults\": {\"line\": {\"color\": \"#2a3f5f\"}}, \"ternary\": {\"aaxis\": {\"gridcolor\": \"white\", \"linecolor\": \"white\", \"ticks\": \"\"}, \"baxis\": {\"gridcolor\": \"white\", \"linecolor\": \"white\", \"ticks\": \"\"}, \"bgcolor\": \"#E5ECF6\", \"caxis\": {\"gridcolor\": \"white\", \"linecolor\": \"white\", \"ticks\": \"\"}}, \"title\": {\"x\": 0.05}, \"xaxis\": {\"automargin\": true, \"gridcolor\": \"white\", \"linecolor\": \"white\", \"ticks\": \"\", \"title\": {\"standoff\": 15}, \"zerolinecolor\": \"white\", \"zerolinewidth\": 2}, \"yaxis\": {\"automargin\": true, \"gridcolor\": \"white\", \"linecolor\": \"white\", \"ticks\": \"\", \"title\": {\"standoff\": 15}, \"zerolinecolor\": \"white\", \"zerolinewidth\": 2}}}},\n",
       "                        {\"responsive\": true}\n",
       "                    ).then(function(){\n",
       "                            \n",
       "var gd = document.getElementById('5c318e99-e8f3-40b0-800d-2c2ab9c3db76');\n",
       "var x = new MutationObserver(function (mutations, observer) {{\n",
       "        var display = window.getComputedStyle(gd).display;\n",
       "        if (!display || display === 'none') {{\n",
       "            console.log([gd, 'removed!']);\n",
       "            Plotly.purge(gd);\n",
       "            observer.disconnect();\n",
       "        }}\n",
       "}});\n",
       "\n",
       "// Listen for the removal of the full notebook cells\n",
       "var notebookContainer = gd.closest('#notebook-container');\n",
       "if (notebookContainer) {{\n",
       "    x.observe(notebookContainer, {childList: true});\n",
       "}}\n",
       "\n",
       "// Listen for the clearing of the current output cell\n",
       "var outputEl = gd.closest('.output');\n",
       "if (outputEl) {{\n",
       "    x.observe(outputEl, {childList: true});\n",
       "}}\n",
       "\n",
       "                        })\n",
       "                };\n",
       "                });\n",
       "            </script>\n",
       "        </div>"
      ]
     },
     "metadata": {},
     "output_type": "display_data"
    }
   ],
   "source": [
    "fig = px.parallel_coordinates(max_regret, labels = {\"Annual Damage\": 'Expected Annual Damage', \"D Investment Costs\": 'Dike Investment Costs', \"R Investment Costs\": 'RfR Investment Costs', \"Evac Costs\": 'Evacuation Costs', \"Expected Deaths\": 'Expected Number of Deaths'})\n",
    "fig.show()"
   ]
  },
  {
   "cell_type": "code",
   "execution_count": 31,
   "metadata": {},
   "outputs": [
    {
     "data": {
      "text/html": [
       "<div>\n",
       "<style scoped>\n",
       "    .dataframe tbody tr th:only-of-type {\n",
       "        vertical-align: middle;\n",
       "    }\n",
       "\n",
       "    .dataframe tbody tr th {\n",
       "        vertical-align: top;\n",
       "    }\n",
       "\n",
       "    .dataframe thead th {\n",
       "        text-align: right;\n",
       "    }\n",
       "</style>\n",
       "<table border=\"1\" class=\"dataframe\">\n",
       "  <thead>\n",
       "    <tr style=\"text-align: right;\">\n",
       "      <th></th>\n",
       "      <th>Expected Annual Damage</th>\n",
       "      <th>Dike Investment Costs</th>\n",
       "      <th>RfR Investment Costs</th>\n",
       "      <th>Evacuation Costs</th>\n",
       "      <th>Expected Number of Deaths</th>\n",
       "    </tr>\n",
       "    <tr>\n",
       "      <th>policy</th>\n",
       "      <th></th>\n",
       "      <th></th>\n",
       "      <th></th>\n",
       "      <th></th>\n",
       "      <th></th>\n",
       "    </tr>\n",
       "  </thead>\n",
       "  <tbody>\n",
       "    <tr>\n",
       "      <th>1</th>\n",
       "      <td>3.003810e+09</td>\n",
       "      <td>0.000000e+00</td>\n",
       "      <td>508200000.0</td>\n",
       "      <td>26072.711992</td>\n",
       "      <td>0.521050</td>\n",
       "    </tr>\n",
       "    <tr>\n",
       "      <th>208</th>\n",
       "      <td>3.019276e+09</td>\n",
       "      <td>2.432573e+08</td>\n",
       "      <td>0.0</td>\n",
       "      <td>26190.426949</td>\n",
       "      <td>0.522574</td>\n",
       "    </tr>\n",
       "    <tr>\n",
       "      <th>285</th>\n",
       "      <td>2.094152e+08</td>\n",
       "      <td>1.495875e+08</td>\n",
       "      <td>296500000.0</td>\n",
       "      <td>8195.015247</td>\n",
       "      <td>0.348759</td>\n",
       "    </tr>\n",
       "    <tr>\n",
       "      <th>382</th>\n",
       "      <td>7.148955e+07</td>\n",
       "      <td>2.415169e+08</td>\n",
       "      <td>130900000.0</td>\n",
       "      <td>13638.955029</td>\n",
       "      <td>0.002224</td>\n",
       "    </tr>\n",
       "    <tr>\n",
       "      <th>41</th>\n",
       "      <td>1.448563e+08</td>\n",
       "      <td>1.738384e+08</td>\n",
       "      <td>265800000.0</td>\n",
       "      <td>6063.064992</td>\n",
       "      <td>0.305396</td>\n",
       "    </tr>\n",
       "    <tr>\n",
       "      <th>477</th>\n",
       "      <td>3.035094e+09</td>\n",
       "      <td>5.773870e+07</td>\n",
       "      <td>454300000.0</td>\n",
       "      <td>26241.469483</td>\n",
       "      <td>0.523133</td>\n",
       "    </tr>\n",
       "    <tr>\n",
       "      <th>73</th>\n",
       "      <td>2.812169e+09</td>\n",
       "      <td>5.990267e+07</td>\n",
       "      <td>302400000.0</td>\n",
       "      <td>24966.651287</td>\n",
       "      <td>0.509966</td>\n",
       "    </tr>\n",
       "  </tbody>\n",
       "</table>\n",
       "</div>"
      ],
      "text/plain": [
       "        Expected Annual Damage  Dike Investment Costs  RfR Investment Costs  \\\n",
       "policy                                                                        \n",
       "1                 3.003810e+09           0.000000e+00           508200000.0   \n",
       "208               3.019276e+09           2.432573e+08                   0.0   \n",
       "285               2.094152e+08           1.495875e+08           296500000.0   \n",
       "382               7.148955e+07           2.415169e+08           130900000.0   \n",
       "41                1.448563e+08           1.738384e+08           265800000.0   \n",
       "477               3.035094e+09           5.773870e+07           454300000.0   \n",
       "73                2.812169e+09           5.990267e+07           302400000.0   \n",
       "\n",
       "        Evacuation Costs  Expected Number of Deaths  \n",
       "policy                                               \n",
       "1           26072.711992                   0.521050  \n",
       "208         26190.426949                   0.522574  \n",
       "285          8195.015247                   0.348759  \n",
       "382         13638.955029                   0.002224  \n",
       "41           6063.064992                   0.305396  \n",
       "477         26241.469483                   0.523133  \n",
       "73          24966.651287                   0.509966  "
      ]
     },
     "execution_count": 31,
     "metadata": {},
     "output_type": "execute_result"
    }
   ],
   "source": [
    "max_regret"
   ]
  },
  {
   "cell_type": "code",
   "execution_count": 27,
   "metadata": {},
   "outputs": [
    {
     "data": {
      "text/plain": [
       "dict_keys(['Expected Annual Damage', 'Dike Investment Costs', 'RfR Investment Costs', 'Evacuation Costs', 'Expected Number of Deaths', 'selection'])"
      ]
     },
     "execution_count": 27,
     "metadata": {},
     "output_type": "execute_result"
    }
   ],
   "source": [
    "outcomes.keys()"
   ]
  },
  {
   "cell_type": "code",
   "execution_count": null,
   "metadata": {},
   "outputs": [],
   "source": []
  },
  {
   "cell_type": "markdown",
   "metadata": {},
   "source": [
    "## Scenario Discovery\n",
    "We perform Scenario Discovery using the PRIM-algorithm to discover such scenarios in which the robust policies fail. We focus on such scenarios where death and damages occur."
   ]
  },
  {
   "cell_type": "code",
   "execution_count": 23,
   "metadata": {},
   "outputs": [
    {
     "name": "stderr",
     "output_type": "stream",
     "text": [
      "[MainProcess/INFO] 7000 points remaining, containing 1910 cases of interest\n",
      "[MainProcess/INFO] mean: 1.0, mass: 0.057, coverage: 0.2089005235602094, density: 1.0 restricted_dimensions: 5\n"
     ]
    }
   ],
   "source": [
    "x = experiments.iloc[:,0:19]\n",
    "\n",
    "outcomes[\"selection\"] = outcomes[\"Expected Annual Damage\"] + outcomes[\"Expected Number of Deaths\"]\n",
    "\n",
    "y =  outcomes[\"selection\"] > 0 \n",
    "prim_alg = prim.Prim(x,y, threshold=0.5)\n",
    "box = prim_alg.find_box()"
   ]
  },
  {
   "cell_type": "code",
   "execution_count": 24,
   "metadata": {},
   "outputs": [
    {
     "data": {
      "text/html": [
       "\n",
       "<div id=\"altair-viz-05df78e8a4774f33ae0b6009bc303875\"></div>\n",
       "<script type=\"text/javascript\">\n",
       "  (function(spec, embedOpt){\n",
       "    let outputDiv = document.currentScript.previousElementSibling;\n",
       "    if (outputDiv.id !== \"altair-viz-05df78e8a4774f33ae0b6009bc303875\") {\n",
       "      outputDiv = document.getElementById(\"altair-viz-05df78e8a4774f33ae0b6009bc303875\");\n",
       "    }\n",
       "    const paths = {\n",
       "      \"vega\": \"https://cdn.jsdelivr.net/npm//vega@5?noext\",\n",
       "      \"vega-lib\": \"https://cdn.jsdelivr.net/npm//vega-lib?noext\",\n",
       "      \"vega-lite\": \"https://cdn.jsdelivr.net/npm//vega-lite@4.8.1?noext\",\n",
       "      \"vega-embed\": \"https://cdn.jsdelivr.net/npm//vega-embed@6?noext\",\n",
       "    };\n",
       "\n",
       "    function loadScript(lib) {\n",
       "      return new Promise(function(resolve, reject) {\n",
       "        var s = document.createElement('script');\n",
       "        s.src = paths[lib];\n",
       "        s.async = true;\n",
       "        s.onload = () => resolve(paths[lib]);\n",
       "        s.onerror = () => reject(`Error loading script: ${paths[lib]}`);\n",
       "        document.getElementsByTagName(\"head\")[0].appendChild(s);\n",
       "      });\n",
       "    }\n",
       "\n",
       "    function showError(err) {\n",
       "      outputDiv.innerHTML = `<div class=\"error\" style=\"color:red;\">${err}</div>`;\n",
       "      throw err;\n",
       "    }\n",
       "\n",
       "    function displayChart(vegaEmbed) {\n",
       "      vegaEmbed(outputDiv, spec, embedOpt)\n",
       "        .catch(err => showError(`Javascript Error: ${err.message}<br>This usually means there's a typo in your chart specification. See the javascript console for the full traceback.`));\n",
       "    }\n",
       "\n",
       "    if(typeof define === \"function\" && define.amd) {\n",
       "      requirejs.config({paths});\n",
       "      require([\"vega-embed\"], displayChart, err => showError(`Error loading script: ${err.message}`));\n",
       "    } else if (typeof vegaEmbed === \"function\") {\n",
       "      displayChart(vegaEmbed);\n",
       "    } else {\n",
       "      loadScript(\"vega\")\n",
       "        .then(() => loadScript(\"vega-lite\"))\n",
       "        .then(() => loadScript(\"vega-embed\"))\n",
       "        .catch(showError)\n",
       "        .then(() => displayChart(vegaEmbed));\n",
       "    }\n",
       "  })({\"config\": {\"view\": {\"continuousWidth\": 400, \"continuousHeight\": 300}}, \"vconcat\": [{\"data\": {\"name\": \"data-c3393c52ccaa91e5c0eab466ec341c87\"}, \"mark\": {\"type\": \"circle\", \"size\": 75}, \"encoding\": {\"color\": {\"type\": \"ordinal\", \"field\": \"res_dim\", \"scale\": {\"range\": [\"#eff9b6\", \"#d0edb3\", \"#97d6b9\", \"#5dc0c0\", \"#31a5c2\", \"#1f80b8\", \"#2354a3\", \"#21318d\"]}}, \"opacity\": {\"condition\": {\"value\": 1, \"selection\": \"selector001\"}, \"value\": 0.4}, \"tooltip\": [{\"type\": \"ordinal\", \"field\": \"id\"}, {\"type\": \"quantitative\", \"field\": \"coverage\", \"format\": \".2\"}, {\"type\": \"quantitative\", \"field\": \"density\", \"format\": \".2\"}, {\"type\": \"ordinal\", \"field\": \"res_dim\"}], \"x\": {\"type\": \"quantitative\", \"field\": \"coverage\"}, \"y\": {\"type\": \"quantitative\", \"field\": \"density\"}}, \"height\": 400, \"selection\": {\"selector001\": {\"type\": \"single\", \"fields\": [\"id\"]}}, \"width\": 400}, {\"layer\": [{\"data\": {\"name\": \"data-42c783750f8ed788f08184eedd266e38\"}, \"mark\": \"rule\", \"encoding\": {\"x\": {\"type\": \"quantitative\", \"axis\": {\"grid\": false, \"labels\": false, \"title\": \"box limits\"}, \"field\": \"x_lower\", \"scale\": {\"domain\": [0, 1], \"padding\": 0.1}}, \"x2\": {\"field\": \"x_upper\"}, \"y\": {\"type\": \"nominal\", \"field\": \"name\", \"scale\": {\"padding\": 1.0}}}, \"transform\": [{\"calculate\": \"(datum.x1-datum.minimum)/(datum.maximum-datum.minimum)\", \"as\": \"x_lower\"}, {\"calculate\": \"(datum.x2-datum.minimum)/(datum.maximum-datum.minimum)\", \"as\": \"x_upper\"}, {\"filter\": {\"selection\": \"selector001\"}}], \"width\": 400}, {\"data\": {\"name\": \"data-42c783750f8ed788f08184eedd266e38\"}, \"mark\": {\"type\": \"text\", \"align\": \"left\", \"baseline\": \"top\", \"dy\": 5}, \"encoding\": {\"text\": {\"type\": \"ordinal\", \"field\": \"text\"}, \"x\": {\"type\": \"quantitative\", \"axis\": {\"grid\": false, \"labels\": false, \"title\": \"box limits\"}, \"field\": \"x_lower\", \"scale\": {\"domain\": [0, 1], \"padding\": 0.1}}, \"x2\": {\"field\": \"x_upper\"}, \"y\": {\"type\": \"nominal\", \"field\": \"name\", \"scale\": {\"padding\": 1.0}}}, \"transform\": [{\"calculate\": \"(datum.x1-datum.minimum)/(datum.maximum-datum.minimum)\", \"as\": \"x_lower\"}, {\"calculate\": \"(datum.x2-datum.minimum)/(datum.maximum-datum.minimum)\", \"as\": \"x_upper\"}, {\"filter\": {\"selection\": \"selector001\"}}, {\"calculate\": \"datum.qp_lower>0?format(datum.x1, \\\".2\\\")+\\\" (\\\"+format(datum.qp_lower, \\\".1~g\\\")+\\\")\\\" :format(datum.x1, \\\".2\\\")\", \"as\": \"text\"}], \"width\": 400}, {\"data\": {\"name\": \"data-42c783750f8ed788f08184eedd266e38\"}, \"mark\": {\"type\": \"text\", \"align\": \"right\", \"baseline\": \"top\", \"dy\": 5}, \"encoding\": {\"text\": {\"type\": \"ordinal\", \"field\": \"text\"}, \"x\": {\"type\": \"quantitative\", \"field\": \"x_upper\"}, \"x2\": {\"field\": \"x_upper\"}, \"y\": {\"type\": \"nominal\", \"field\": \"name\", \"scale\": {\"padding\": 1.0}}}, \"transform\": [{\"calculate\": \"(datum.x1-datum.minimum)/(datum.maximum-datum.minimum)\", \"as\": \"x_lower\"}, {\"calculate\": \"(datum.x2-datum.minimum)/(datum.maximum-datum.minimum)\", \"as\": \"x_upper\"}, {\"filter\": {\"selection\": \"selector001\"}}, {\"calculate\": \"datum.qp_upper>0?format(datum.x2, \\\".2\\\")+\\\" (\\\"+format(datum.qp_upper, \\\".1\\\")+\\\")\\\" :format(datum.x2, \\\".2\\\")\", \"as\": \"text\"}], \"width\": 400}, {\"data\": {\"name\": \"data-bb8d07f6df3d47a6a475317795287b23\"}, \"mark\": {\"type\": \"rect\", \"opacity\": 0.05}, \"encoding\": {\"x\": {\"type\": \"quantitative\", \"field\": \"start\"}, \"x2\": {\"field\": \"end\"}}}, {\"data\": {\"name\": \"data-d751713988987e9331980363e24189ce\"}, \"mark\": \"point\", \"encoding\": {\"x\": {\"type\": \"quantitative\", \"field\": \"x\"}, \"y\": {\"type\": \"nominal\", \"field\": \"name\"}}, \"transform\": [{\"filter\": {\"selection\": \"selector001\"}}], \"width\": 400}, {\"data\": {\"name\": \"data-d751713988987e9331980363e24189ce\"}, \"mark\": {\"type\": \"text\", \"align\": \"center\", \"baseline\": \"top\", \"dy\": 5}, \"encoding\": {\"text\": {\"type\": \"nominal\", \"field\": \"item\"}, \"x\": {\"type\": \"quantitative\", \"field\": \"x\"}, \"y\": {\"type\": \"nominal\", \"field\": \"name\"}}, \"transform\": [{\"filter\": {\"selection\": \"selector001\"}}], \"width\": 400}]}], \"$schema\": \"https://vega.github.io/schema/vega-lite/v4.8.1.json\", \"datasets\": {\"data-c3393c52ccaa91e5c0eab466ec341c87\": [{\"coverage\": 1.0, \"density\": 0.27285714285714285, \"id\": 0, \"mass\": 1.0, \"mean\": 0.27285714285714285, \"res_dim\": 0}, {\"coverage\": 0.9806282722513089, \"density\": 0.2816541353383459, \"id\": 1, \"mass\": 0.95, \"mean\": 0.2816541353383459, \"res_dim\": 1}, {\"coverage\": 0.9492146596858638, \"density\": 0.28713968957871394, \"id\": 2, \"mass\": 0.902, \"mean\": 0.28713968957871394, \"res_dim\": 1}, {\"coverage\": 0.9183246073298429, \"density\": 0.29272363150867825, \"id\": 3, \"mass\": 0.856, \"mean\": 0.29272363150867825, \"res_dim\": 1}, {\"coverage\": 0.9, \"density\": 0.30205587770163417, \"id\": 4, \"mass\": 0.813, \"mean\": 0.30205587770163417, \"res_dim\": 1}, {\"coverage\": 0.8759162303664921, \"density\": 0.30958549222797926, \"id\": 5, \"mass\": 0.772, \"mean\": 0.30958549222797926, \"res_dim\": 1}, {\"coverage\": 0.8403141361256544, \"density\": 0.312804521535763, \"id\": 6, \"mass\": 0.733, \"mean\": 0.312804521535763, \"res_dim\": 2}, {\"coverage\": 0.806282722513089, \"density\": 0.3160919540229885, \"id\": 7, \"mass\": 0.696, \"mean\": 0.3160919540229885, \"res_dim\": 2}, {\"coverage\": 0.7910994764397906, \"density\": 0.32656148692457315, \"id\": 8, \"mass\": 0.661, \"mean\": 0.32656148692457315, \"res_dim\": 2}, {\"coverage\": 0.7602094240837697, \"density\": 0.3308270676691729, \"id\": 9, \"mass\": 0.627, \"mean\": 0.3308270676691729, \"res_dim\": 3}, {\"coverage\": 0.7303664921465969, \"density\": 0.3349339735894358, \"id\": 10, \"mass\": 0.595, \"mean\": 0.3349339735894358, \"res_dim\": 3}, {\"coverage\": 0.7036649214659686, \"density\": 0.3398230088495575, \"id\": 11, \"mass\": 0.565, \"mean\": 0.3398230088495575, \"res_dim\": 3}, {\"coverage\": 0.6801047120418848, \"density\": 0.34621535181236673, \"id\": 12, \"mass\": 0.536, \"mean\": 0.34621535181236673, \"res_dim\": 3}, {\"coverage\": 0.6649214659685864, \"density\": 0.3564412012349144, \"id\": 13, \"mass\": 0.509, \"mean\": 0.3564412012349144, \"res_dim\": 3}, {\"coverage\": 0.6486910994764398, \"density\": 0.36645962732919257, \"id\": 14, \"mass\": 0.483, \"mean\": 0.36645962732919257, \"res_dim\": 3}, {\"coverage\": 0.6272251308900524, \"density\": 0.3736743605739239, \"id\": 15, \"mass\": 0.458, \"mean\": 0.3736743605739239, \"res_dim\": 4}, {\"coverage\": 0.6057591623036649, \"density\": 0.37996715927750413, \"id\": 16, \"mass\": 0.435, \"mean\": 0.37996715927750413, \"res_dim\": 4}, {\"coverage\": 0.5890052356020943, \"density\": 0.38913870632998965, \"id\": 17, \"mass\": 0.413, \"mean\": 0.38913870632998965, \"res_dim\": 4}, {\"coverage\": 0.5738219895287958, \"density\": 0.39941690962099125, \"id\": 18, \"mass\": 0.392, \"mean\": 0.39941690962099125, \"res_dim\": 4}, {\"coverage\": 0.5685863874345549, \"density\": 0.41705069124423966, \"id\": 19, \"mass\": 0.372, \"mean\": 0.41705069124423966, \"res_dim\": 4}, {\"coverage\": 0.5518324607329843, \"density\": 0.4265479562929988, \"id\": 20, \"mass\": 0.353, \"mean\": 0.4265479562929988, \"res_dim\": 4}, {\"coverage\": 0.5424083769633508, \"density\": 0.4417910447761194, \"id\": 21, \"mass\": 0.335, \"mean\": 0.4417910447761194, \"res_dim\": 4}, {\"coverage\": 0.5261780104712042, \"density\": 0.45148247978436656, \"id\": 22, \"mass\": 0.318, \"mean\": 0.45148247978436656, \"res_dim\": 4}, {\"coverage\": 0.5078534031413613, \"density\": 0.4588457899716178, \"id\": 23, \"mass\": 0.302, \"mean\": 0.4588457899716178, \"res_dim\": 4}, {\"coverage\": 0.4952879581151832, \"density\": 0.4725274725274725, \"id\": 24, \"mass\": 0.286, \"mean\": 0.4725274725274725, \"res_dim\": 4}, {\"coverage\": 0.48219895287958114, \"density\": 0.48550342646283606, \"id\": 25, \"mass\": 0.271, \"mean\": 0.48550342646283606, \"res_dim\": 4}, {\"coverage\": 0.4743455497382199, \"density\": 0.5036131183991106, \"id\": 26, \"mass\": 0.257, \"mean\": 0.5036131183991106, \"res_dim\": 4}, {\"coverage\": 0.4649214659685864, \"density\": 0.5199063231850117, \"id\": 27, \"mass\": 0.244, \"mean\": 0.5199063231850117, \"res_dim\": 4}, {\"coverage\": 0.4549738219895288, \"density\": 0.5374149659863946, \"id\": 28, \"mass\": 0.231, \"mean\": 0.5374149659863946, \"res_dim\": 4}, {\"coverage\": 0.44345549738219897, \"density\": 0.5525114155251142, \"id\": 29, \"mass\": 0.219, \"mean\": 0.5525114155251142, \"res_dim\": 4}, {\"coverage\": 0.43089005235602096, \"density\": 0.5652472527472527, \"id\": 30, \"mass\": 0.208, \"mean\": 0.5652472527472527, \"res_dim\": 4}, {\"coverage\": 0.4225130890052356, \"density\": 0.5852066715010877, \"id\": 31, \"mass\": 0.197, \"mean\": 0.5852066715010877, \"res_dim\": 4}, {\"coverage\": 0.41465968586387436, \"density\": 0.6050420168067226, \"id\": 32, \"mass\": 0.187, \"mean\": 0.6050420168067226, \"res_dim\": 4}, {\"coverage\": 0.40523560209424087, \"density\": 0.6246973365617433, \"id\": 33, \"mass\": 0.177, \"mean\": 0.6246973365617433, \"res_dim\": 4}, {\"coverage\": 0.39528795811518325, \"density\": 0.6420068027210885, \"id\": 34, \"mass\": 0.168, \"mean\": 0.6420068027210885, \"res_dim\": 4}, {\"coverage\": 0.387434554973822, \"density\": 0.6648697214734951, \"id\": 35, \"mass\": 0.159, \"mean\": 0.6648697214734951, \"res_dim\": 4}, {\"coverage\": 0.38272251308900523, \"density\": 0.6915799432355724, \"id\": 36, \"mass\": 0.151, \"mean\": 0.6915799432355724, \"res_dim\": 4}, {\"coverage\": 0.374869109947644, \"density\": 0.7152847152847153, \"id\": 37, \"mass\": 0.143, \"mean\": 0.7152847152847153, \"res_dim\": 4}, {\"coverage\": 0.36544502617801045, \"density\": 0.7386243386243386, \"id\": 38, \"mass\": 0.135, \"mean\": 0.7386243386243386, \"res_dim\": 4}, {\"coverage\": 0.35287958115183243, \"density\": 0.7522321428571429, \"id\": 39, \"mass\": 0.128, \"mean\": 0.7522321428571429, \"res_dim\": 4}, {\"coverage\": 0.3471204188481675, \"density\": 0.7827626918536009, \"id\": 40, \"mass\": 0.121, \"mean\": 0.7827626918536009, \"res_dim\": 4}, {\"coverage\": 0.33717277486910996, \"density\": 0.8070175438596491, \"id\": 41, \"mass\": 0.114, \"mean\": 0.8070175438596491, \"res_dim\": 4}, {\"coverage\": 0.3287958115183246, \"density\": 0.8306878306878307, \"id\": 42, \"mass\": 0.108, \"mean\": 0.8306878306878307, \"res_dim\": 4}, {\"coverage\": 0.3183246073298429, \"density\": 0.8515406162464986, \"id\": 43, \"mass\": 0.102, \"mean\": 0.8515406162464986, \"res_dim\": 4}, {\"coverage\": 0.3089005235602094, \"density\": 0.8779761904761905, \"id\": 44, \"mass\": 0.096, \"mean\": 0.8779761904761905, \"res_dim\": 4}, {\"coverage\": 0.29895287958115185, \"density\": 0.8963893249607535, \"id\": 45, \"mass\": 0.091, \"mean\": 0.8963893249607535, \"res_dim\": 4}, {\"coverage\": 0.2869109947643979, \"density\": 0.9102990033222591, \"id\": 46, \"mass\": 0.086, \"mean\": 0.9102990033222591, \"res_dim\": 4}, {\"coverage\": 0.27277486910994764, \"density\": 0.9188712522045855, \"id\": 47, \"mass\": 0.081, \"mean\": 0.9188712522045855, \"res_dim\": 4}, {\"coverage\": 0.26335078534031414, \"density\": 0.9454887218045113, \"id\": 48, \"mass\": 0.076, \"mean\": 0.9454887218045113, \"res_dim\": 4}, {\"coverage\": 0.25078534031413613, \"density\": 0.9503968253968254, \"id\": 49, \"mass\": 0.072, \"mean\": 0.9503968253968254, \"res_dim\": 4}, {\"coverage\": 0.24031413612565444, \"density\": 0.9642857142857143, \"id\": 50, \"mass\": 0.068, \"mean\": 0.9642857142857143, \"res_dim\": 4}, {\"coverage\": 0.2319371727748691, \"density\": 0.9888392857142857, \"id\": 51, \"mass\": 0.064, \"mean\": 0.9888392857142857, \"res_dim\": 4}, {\"coverage\": 0.218848167539267, \"density\": 0.9952380952380953, \"id\": 52, \"mass\": 0.06, \"mean\": 0.9952380952380953, \"res_dim\": 5}, {\"coverage\": 0.2089005235602094, \"density\": 1.0, \"id\": 53, \"mass\": 0.057, \"mean\": 1.0, \"res_dim\": 5}], \"data-42c783750f8ed788f08184eedd266e38\": [{\"x1\": 7.50873949866474e-05, \"x2\": 0.9502301508184108, \"name\": \"A.4_pfail\", \"id\": 1, \"minimum\": 7.50873949866474e-05, \"maximum\": 0.9993759026572816, \"qp_lower\": -1.0, \"qp_upper\": 0.055513157590845685}, {\"x1\": 7.50873949866474e-05, \"x2\": 0.9019324081022329, \"name\": \"A.4_pfail\", \"id\": 2, \"minimum\": 7.50873949866474e-05, \"maximum\": 0.9993759026572816, \"qp_lower\": -1.0, \"qp_upper\": 0.005825966842953129}, {\"x1\": 7.50873949866474e-05, \"x2\": 0.8558495974705429, \"name\": \"A.4_pfail\", \"id\": 3, \"minimum\": 7.50873949866474e-05, \"maximum\": 0.9993759026572816, \"qp_lower\": -1.0, \"qp_upper\": 0.0003187208364326727}, {\"x1\": 7.50873949866474e-05, \"x2\": 0.8132752921129511, \"name\": \"A.4_pfail\", \"id\": 4, \"minimum\": 7.50873949866474e-05, \"maximum\": 0.9993759026572816, \"qp_lower\": -1.0, \"qp_upper\": 5.283237896448085e-07}, {\"x1\": 7.50873949866474e-05, \"x2\": 0.7717911282257754, \"name\": \"A.4_pfail\", \"id\": 5, \"minimum\": 7.50873949866474e-05, \"maximum\": 0.9993759026572816, \"qp_lower\": -1.0, \"qp_upper\": 1.187162325668883e-09}, {\"x1\": 46.24379329893319, \"x2\": 349.79382526109896, \"name\": \"A.2_Bmax\", \"id\": 6, \"minimum\": 30.038808285763523, \"maximum\": 349.79382526109896, \"qp_lower\": 0.31379879566288305, \"qp_upper\": -1.0}, {\"x1\": 7.50873949866474e-05, \"x2\": 0.7717911282257754, \"name\": \"A.4_pfail\", \"id\": 6, \"minimum\": 7.50873949866474e-05, \"maximum\": 0.9993759026572816, \"qp_lower\": -1.0, \"qp_upper\": 4.531193481598426e-09}, {\"x1\": 46.24379329893319, \"x2\": 349.79382526109896, \"name\": \"A.2_Bmax\", \"id\": 7, \"minimum\": 30.038808285763523, \"maximum\": 349.79382526109896, \"qp_lower\": 0.3278115635094073, \"qp_upper\": -1.0}, {\"x1\": 7.50873949866474e-05, \"x2\": 0.7319892627904234, \"name\": \"A.4_pfail\", \"id\": 7, \"minimum\": 7.50873949866474e-05, \"maximum\": 0.9993759026572816, \"qp_lower\": -1.0, \"qp_upper\": 5.306157796849234e-10}, {\"x1\": 46.24379329893319, \"x2\": 349.79382526109896, \"name\": \"A.2_Bmax\", \"id\": 8, \"minimum\": 30.038808285763523, \"maximum\": 349.79382526109896, \"qp_lower\": 0.37144749002807625, \"qp_upper\": -1.0}, {\"x1\": 7.50873949866474e-05, \"x2\": 0.6936288736169558, \"name\": \"A.4_pfail\", \"id\": 8, \"minimum\": 7.50873949866474e-05, \"maximum\": 0.9993759026572816, \"qp_lower\": -1.0, \"qp_upper\": 3.450689917467618e-14}, {\"x1\": 46.24379329893319, \"x2\": 349.79382526109896, \"name\": \"A.2_Bmax\", \"id\": 9, \"minimum\": 30.038808285763523, \"maximum\": 349.79382526109896, \"qp_lower\": 0.3194224140213787, \"qp_upper\": -1.0}, {\"x1\": 7.50873949866474e-05, \"x2\": 0.6936288736169558, \"name\": \"A.4_pfail\", \"id\": 9, \"minimum\": 7.50873949866474e-05, \"maximum\": 0.9993759026572816, \"qp_lower\": -1.0, \"qp_upper\": 7.855076498464796e-14}, {\"x1\": 0.00036674283971097456, \"x2\": 0.9497596468948203, \"name\": \"A.5_pfail\", \"id\": 9, \"minimum\": 0.00036674283971097456, \"maximum\": 0.9994796278706629, \"qp_lower\": -1.0, \"qp_upper\": 0.27836006062951923}, {\"x1\": 46.24379329893319, \"x2\": 349.79382526109896, \"name\": \"A.2_Bmax\", \"id\": 10, \"minimum\": 30.038808285763523, \"maximum\": 349.79382526109896, \"qp_lower\": 0.3243662024120948, \"qp_upper\": -1.0}, {\"x1\": 7.50873949866474e-05, \"x2\": 0.65926593882517, \"name\": \"A.4_pfail\", \"id\": 10, \"minimum\": 7.50873949866474e-05, \"maximum\": 0.9993759026572816, \"qp_lower\": -1.0, \"qp_upper\": 4.233694615268744e-15}, {\"x1\": 0.00036674283971097456, \"x2\": 0.9497596468948203, \"name\": \"A.5_pfail\", \"id\": 10, \"minimum\": 0.00036674283971097456, \"maximum\": 0.9994796278706629, \"qp_lower\": -1.0, \"qp_upper\": 0.2572798744929076}, {\"x1\": 46.24379329893319, \"x2\": 349.79382526109896, \"name\": \"A.2_Bmax\", \"id\": 11, \"minimum\": 30.038808285763523, \"maximum\": 349.79382526109896, \"qp_lower\": 0.30581894902188556, \"qp_upper\": -1.0}, {\"x1\": 7.50873949866474e-05, \"x2\": 0.6271093361857583, \"name\": \"A.4_pfail\", \"id\": 11, \"minimum\": 7.50873949866474e-05, \"maximum\": 0.9993759026572816, \"qp_lower\": -1.0, \"qp_upper\": 9.150259038212278e-17}, {\"x1\": 0.00036674283971097456, \"x2\": 0.9497596468948203, \"name\": \"A.5_pfail\", \"id\": 11, \"minimum\": 0.00036674283971097456, \"maximum\": 0.9994796278706629, \"qp_lower\": -1.0, \"qp_upper\": 0.2870010750131696}, {\"x1\": 46.24379329893319, \"x2\": 349.79382526109896, \"name\": \"A.2_Bmax\", \"id\": 12, \"minimum\": 30.038808285763523, \"maximum\": 349.79382526109896, \"qp_lower\": 0.31917777801086494, \"qp_upper\": -1.0}, {\"x1\": 7.50873949866474e-05, \"x2\": 0.5971728025992191, \"name\": \"A.4_pfail\", \"id\": 12, \"minimum\": 7.50873949866474e-05, \"maximum\": 0.9993759026572816, \"qp_lower\": -1.0, \"qp_upper\": 4.514888764628973e-19}, {\"x1\": 0.00036674283971097456, \"x2\": 0.9497596468948203, \"name\": \"A.5_pfail\", \"id\": 12, \"minimum\": 0.00036674283971097456, \"maximum\": 0.9994796278706629, \"qp_lower\": -1.0, \"qp_upper\": 0.27208804561420463}, {\"x1\": 46.24379329893319, \"x2\": 349.79382526109896, \"name\": \"A.2_Bmax\", \"id\": 13, \"minimum\": 30.038808285763523, \"maximum\": 349.79382526109896, \"qp_lower\": 0.26973830413989003, \"qp_upper\": -1.0}, {\"x1\": 7.50873949866474e-05, \"x2\": 0.5669398762832978, \"name\": \"A.4_pfail\", \"id\": 13, \"minimum\": 7.50873949866474e-05, \"maximum\": 0.9993759026572816, \"qp_lower\": -1.0, \"qp_upper\": 1.6642273565962763e-23}, {\"x1\": 0.00036674283971097456, \"x2\": 0.9497596468948203, \"name\": \"A.5_pfail\", \"id\": 13, \"minimum\": 0.00036674283971097456, \"maximum\": 0.9994796278706629, \"qp_lower\": -1.0, \"qp_upper\": 0.27150360586327305}, {\"x1\": 46.24379329893319, \"x2\": 349.79382526109896, \"name\": \"A.2_Bmax\", \"id\": 14, \"minimum\": 30.038808285763523, \"maximum\": 349.79382526109896, \"qp_lower\": 0.25248686971914835, \"qp_upper\": -1.0}, {\"x1\": 7.50873949866474e-05, \"x2\": 0.5334043901539013, \"name\": \"A.4_pfail\", \"id\": 14, \"minimum\": 7.50873949866474e-05, \"maximum\": 0.9993759026572816, \"qp_lower\": -1.0, \"qp_upper\": 5.659008977862732e-28}, {\"x1\": 0.00036674283971097456, \"x2\": 0.9497596468948203, \"name\": \"A.5_pfail\", \"id\": 14, \"minimum\": 0.00036674283971097456, \"maximum\": 0.9994796278706629, \"qp_lower\": -1.0, \"qp_upper\": 0.3028285213780986}, {\"x1\": 46.24379329893319, \"x2\": 349.79382526109896, \"name\": \"A.2_Bmax\", \"id\": 15, \"minimum\": 30.038808285763523, \"maximum\": 349.79382526109896, \"qp_lower\": 0.23557087226146647, \"qp_upper\": -1.0}, {\"x1\": 49.176707034448214, \"x2\": 349.6970013345793, \"name\": \"A.4_Bmax\", \"id\": 15, \"minimum\": 30.03854746821771, \"maximum\": 349.6970013345793, \"qp_lower\": 0.20327120540594448, \"qp_upper\": -1.0}, {\"x1\": 7.50873949866474e-05, \"x2\": 0.5334043901539013, \"name\": \"A.4_pfail\", \"id\": 15, \"minimum\": 7.50873949866474e-05, \"maximum\": 0.9993759026572816, \"qp_lower\": -1.0, \"qp_upper\": 2.73122314142872e-30}, {\"x1\": 0.00036674283971097456, \"x2\": 0.9497596468948203, \"name\": \"A.5_pfail\", \"id\": 15, \"minimum\": 0.00036674283971097456, \"maximum\": 0.9994796278706629, \"qp_lower\": -1.0, \"qp_upper\": 0.28367035377404465}, {\"x1\": 46.24379329893319, \"x2\": 349.79382526109896, \"name\": \"A.2_Bmax\", \"id\": 16, \"minimum\": 30.038808285763523, \"maximum\": 349.79382526109896, \"qp_lower\": 0.25597748738454473, \"qp_upper\": -1.0}, {\"x1\": 60.94801239729805, \"x2\": 349.6970013345793, \"name\": \"A.4_Bmax\", \"id\": 16, \"minimum\": 30.03854746821771, \"maximum\": 349.6970013345793, \"qp_lower\": 0.06350982619388978, \"qp_upper\": -1.0}, {\"x1\": 7.50873949866474e-05, \"x2\": 0.5334043901539013, \"name\": \"A.4_pfail\", \"id\": 16, \"minimum\": 7.50873949866474e-05, \"maximum\": 0.9993759026572816, \"qp_lower\": -1.0, \"qp_upper\": 1.5741185416560496e-31}, {\"x1\": 0.00036674283971097456, \"x2\": 0.9497596468948203, \"name\": \"A.5_pfail\", \"id\": 16, \"minimum\": 0.00036674283971097456, \"maximum\": 0.9994796278706629, \"qp_lower\": -1.0, \"qp_upper\": 0.2664188271571634}, {\"x1\": 46.24379329893319, \"x2\": 349.79382526109896, \"name\": \"A.2_Bmax\", \"id\": 17, \"minimum\": 30.038808285763523, \"maximum\": 349.79382526109896, \"qp_lower\": 0.3010743294711415, \"qp_upper\": -1.0}, {\"x1\": 60.94801239729805, \"x2\": 349.6970013345793, \"name\": \"A.4_Bmax\", \"id\": 17, \"minimum\": 30.03854746821771, \"maximum\": 349.6970013345793, \"qp_lower\": 0.04695485247742849, \"qp_upper\": -1.0}, {\"x1\": 7.50873949866474e-05, \"x2\": 0.5039348117514524, \"name\": \"A.4_pfail\", \"id\": 17, \"minimum\": 7.50873949866474e-05, \"maximum\": 0.9993759026572816, \"qp_lower\": -1.0, \"qp_upper\": 2.1417429254493897e-35}, {\"x1\": 0.00036674283971097456, \"x2\": 0.9497596468948203, \"name\": \"A.5_pfail\", \"id\": 17, \"minimum\": 0.00036674283971097456, \"maximum\": 0.9994796278706629, \"qp_lower\": -1.0, \"qp_upper\": 0.30804853722350783}, {\"x1\": 46.24379329893319, \"x2\": 349.79382526109896, \"name\": \"A.2_Bmax\", \"id\": 18, \"minimum\": 30.038808285763523, \"maximum\": 349.79382526109896, \"qp_lower\": 0.28022434310384453, \"qp_upper\": -1.0}, {\"x1\": 60.94801239729805, \"x2\": 349.6970013345793, \"name\": \"A.4_Bmax\", \"id\": 18, \"minimum\": 30.03854746821771, \"maximum\": 349.6970013345793, \"qp_lower\": 0.042783793746285, \"qp_upper\": -1.0}, {\"x1\": 7.50873949866474e-05, \"x2\": 0.48123612814124983, \"name\": \"A.4_pfail\", \"id\": 18, \"minimum\": 7.50873949866474e-05, \"maximum\": 0.9993759026572816, \"qp_lower\": -1.0, \"qp_upper\": 6.721861687228539e-40}, {\"x1\": 0.00036674283971097456, \"x2\": 0.9497596468948203, \"name\": \"A.5_pfail\", \"id\": 18, \"minimum\": 0.00036674283971097456, \"maximum\": 0.9994796278706629, \"qp_lower\": -1.0, \"qp_upper\": 0.3183274957724772}, {\"x1\": 46.24379329893319, \"x2\": 349.79382526109896, \"name\": \"A.2_Bmax\", \"id\": 19, \"minimum\": 30.038808285763523, \"maximum\": 349.79382526109896, \"qp_lower\": 0.32212203624218283, \"qp_upper\": -1.0}, {\"x1\": 60.94801239729805, \"x2\": 349.6970013345793, \"name\": \"A.4_Bmax\", \"id\": 19, \"minimum\": 30.03854746821771, \"maximum\": 349.6970013345793, \"qp_lower\": 0.05723084809196504, \"qp_upper\": -1.0}, {\"x1\": 7.50873949866474e-05, \"x2\": 0.4513037074276028, \"name\": \"A.4_pfail\", \"id\": 19, \"minimum\": 7.50873949866474e-05, \"maximum\": 0.9993759026572816, \"qp_lower\": -1.0, \"qp_upper\": 3.2152623829129535e-49}, {\"x1\": 0.00036674283971097456, \"x2\": 0.9497596468948203, \"name\": \"A.5_pfail\", \"id\": 19, \"minimum\": 0.00036674283971097456, \"maximum\": 0.9994796278706629, \"qp_lower\": -1.0, \"qp_upper\": 0.3559433304455509}, {\"x1\": 46.24379329893319, \"x2\": 349.79382526109896, \"name\": \"A.2_Bmax\", \"id\": 20, \"minimum\": 30.038808285763523, \"maximum\": 349.79382526109896, \"qp_lower\": 0.3444821830718957, \"qp_upper\": -1.0}, {\"x1\": 60.94801239729805, \"x2\": 349.6970013345793, \"name\": \"A.4_Bmax\", \"id\": 20, \"minimum\": 30.03854746821771, \"maximum\": 349.6970013345793, \"qp_lower\": 0.05573277181955082, \"qp_upper\": -1.0}, {\"x1\": 7.50873949866474e-05, \"x2\": 0.42863947314882933, \"name\": \"A.4_pfail\", \"id\": 20, \"minimum\": 7.50873949866474e-05, \"maximum\": 0.9993759026572816, \"qp_lower\": -1.0, \"qp_upper\": 3.9766222815694855e-53}, {\"x1\": 0.00036674283971097456, \"x2\": 0.9497596468948203, \"name\": \"A.5_pfail\", \"id\": 20, \"minimum\": 0.00036674283971097456, \"maximum\": 0.9994796278706629, \"qp_lower\": -1.0, \"qp_upper\": 0.37582703849587057}, {\"x1\": 46.24379329893319, \"x2\": 349.79382526109896, \"name\": \"A.2_Bmax\", \"id\": 21, \"minimum\": 30.038808285763523, \"maximum\": 349.79382526109896, \"qp_lower\": 0.4084900663863879, \"qp_upper\": -1.0}, {\"x1\": 60.94801239729805, \"x2\": 349.6970013345793, \"name\": \"A.4_Bmax\", \"id\": 21, \"minimum\": 30.03854746821771, \"maximum\": 349.6970013345793, \"qp_lower\": 0.04939457578892827, \"qp_upper\": -1.0}, {\"x1\": 7.50873949866474e-05, \"x2\": 0.4060974360276636, \"name\": \"A.4_pfail\", \"id\": 21, \"minimum\": 7.50873949866474e-05, \"maximum\": 0.9993759026572816, \"qp_lower\": -1.0, \"qp_upper\": 6.269135760027246e-61}, {\"x1\": 0.00036674283971097456, \"x2\": 0.9497596468948203, \"name\": \"A.5_pfail\", \"id\": 21, \"minimum\": 0.00036674283971097456, \"maximum\": 0.9994796278706629, \"qp_lower\": -1.0, \"qp_upper\": 0.43478294667739714}, {\"x1\": 46.24379329893319, \"x2\": 349.79382526109896, \"name\": \"A.2_Bmax\", \"id\": 22, \"minimum\": 30.038808285763523, \"maximum\": 349.79382526109896, \"qp_lower\": 0.3959915527990668, \"qp_upper\": -1.0}, {\"x1\": 60.94801239729805, \"x2\": 349.6970013345793, \"name\": \"A.4_Bmax\", \"id\": 22, \"minimum\": 30.03854746821771, \"maximum\": 349.6970013345793, \"qp_lower\": 0.11882905857287357, \"qp_upper\": -1.0}, {\"x1\": 7.50873949866474e-05, \"x2\": 0.382121971975824, \"name\": \"A.4_pfail\", \"id\": 22, \"minimum\": 7.50873949866474e-05, \"maximum\": 0.9993759026572816, \"qp_lower\": -1.0, \"qp_upper\": 1.0763099489163291e-64}, {\"x1\": 0.00036674283971097456, \"x2\": 0.9497596468948203, \"name\": \"A.5_pfail\", \"id\": 22, \"minimum\": 0.00036674283971097456, \"maximum\": 0.9994796278706629, \"qp_lower\": -1.0, \"qp_upper\": 0.4141855859549324}, {\"x1\": 46.24379329893319, \"x2\": 349.79382526109896, \"name\": \"A.2_Bmax\", \"id\": 23, \"minimum\": 30.038808285763523, \"maximum\": 349.79382526109896, \"qp_lower\": 0.3837746370240392, \"qp_upper\": -1.0}, {\"x1\": 60.94801239729805, \"x2\": 349.6970013345793, \"name\": \"A.4_Bmax\", \"id\": 23, \"minimum\": 30.03854746821771, \"maximum\": 349.6970013345793, \"qp_lower\": 0.15476901621068598, \"qp_upper\": -1.0}, {\"x1\": 7.50873949866474e-05, \"x2\": 0.36318431680664365, \"name\": \"A.4_pfail\", \"id\": 23, \"minimum\": 7.50873949866474e-05, \"maximum\": 0.9993759026572816, \"qp_lower\": -1.0, \"qp_upper\": 1.1998070754444382e-66}, {\"x1\": 0.00036674283971097456, \"x2\": 0.9497596468948203, \"name\": \"A.5_pfail\", \"id\": 23, \"minimum\": 0.00036674283971097456, \"maximum\": 0.9994796278706629, \"qp_lower\": -1.0, \"qp_upper\": 0.44919975466988277}, {\"x1\": 46.24379329893319, \"x2\": 349.79382526109896, \"name\": \"A.2_Bmax\", \"id\": 24, \"minimum\": 30.038808285763523, \"maximum\": 349.79382526109896, \"qp_lower\": 0.40853307118127075, \"qp_upper\": -1.0}, {\"x1\": 60.94801239729805, \"x2\": 349.6970013345793, \"name\": \"A.4_Bmax\", \"id\": 24, \"minimum\": 30.03854746821771, \"maximum\": 349.6970013345793, \"qp_lower\": 0.1502690407255927, \"qp_upper\": -1.0}, {\"x1\": 7.50873949866474e-05, \"x2\": 0.34315463670928925, \"name\": \"A.4_pfail\", \"id\": 24, \"minimum\": 7.50873949866474e-05, \"maximum\": 0.9993759026572816, \"qp_lower\": -1.0, \"qp_upper\": 7.580502119588112e-73}, {\"x1\": 0.00036674283971097456, \"x2\": 0.9497596468948203, \"name\": \"A.5_pfail\", \"id\": 24, \"minimum\": 0.00036674283971097456, \"maximum\": 0.9994796278706629, \"qp_lower\": -1.0, \"qp_upper\": 0.5238048760152847}, {\"x1\": 46.24379329893319, \"x2\": 349.79382526109896, \"name\": \"A.2_Bmax\", \"id\": 25, \"minimum\": 30.038808285763523, \"maximum\": 349.79382526109896, \"qp_lower\": 0.3977597069098679, \"qp_upper\": -1.0}, {\"x1\": 60.94801239729805, \"x2\": 349.6970013345793, \"name\": \"A.4_Bmax\", \"id\": 25, \"minimum\": 30.03854746821771, \"maximum\": 349.6970013345793, \"qp_lower\": 0.15885957175342655, \"qp_upper\": -1.0}, {\"x1\": 7.50873949866474e-05, \"x2\": 0.3268815477453648, \"name\": \"A.4_pfail\", \"id\": 25, \"minimum\": 7.50873949866474e-05, \"maximum\": 0.9993759026572816, \"qp_lower\": -1.0, \"qp_upper\": 4.194039034198464e-78}, {\"x1\": 0.00036674283971097456, \"x2\": 0.9497596468948203, \"name\": \"A.5_pfail\", \"id\": 25, \"minimum\": 0.00036674283971097456, \"maximum\": 0.9994796278706629, \"qp_lower\": -1.0, \"qp_upper\": 0.509458156260486}, {\"x1\": 46.24379329893319, \"x2\": 349.79382526109896, \"name\": \"A.2_Bmax\", \"id\": 26, \"minimum\": 30.038808285763523, \"maximum\": 349.79382526109896, \"qp_lower\": 0.37140534504751793, \"qp_upper\": -1.0}, {\"x1\": 60.94801239729805, \"x2\": 349.6970013345793, \"name\": \"A.4_Bmax\", \"id\": 26, \"minimum\": 30.03854746821771, \"maximum\": 349.6970013345793, \"qp_lower\": 0.2239041203920364, \"qp_upper\": -1.0}, {\"x1\": 7.50873949866474e-05, \"x2\": 0.30982189425530837, \"name\": \"A.4_pfail\", \"id\": 26, \"minimum\": 7.50873949866474e-05, \"maximum\": 0.9993759026572816, \"qp_lower\": -1.0, \"qp_upper\": 4.2771411278242e-87}, {\"x1\": 0.00036674283971097456, \"x2\": 0.9497596468948203, \"name\": \"A.5_pfail\", \"id\": 26, \"minimum\": 0.00036674283971097456, \"maximum\": 0.9994796278706629, \"qp_lower\": -1.0, \"qp_upper\": 0.47603307129603945}, {\"x1\": 46.24379329893319, \"x2\": 349.79382526109896, \"name\": \"A.2_Bmax\", \"id\": 27, \"minimum\": 30.038808285763523, \"maximum\": 349.79382526109896, \"qp_lower\": 0.3467797533776449, \"qp_upper\": -1.0}, {\"x1\": 60.94801239729805, \"x2\": 349.6970013345793, \"name\": \"A.4_Bmax\", \"id\": 27, \"minimum\": 30.03854746821771, \"maximum\": 349.6970013345793, \"qp_lower\": 0.27058990231219543, \"qp_upper\": -1.0}, {\"x1\": 7.50873949866474e-05, \"x2\": 0.2918934776102412, \"name\": \"A.4_pfail\", \"id\": 27, \"minimum\": 7.50873949866474e-05, \"maximum\": 0.9993759026572816, \"qp_lower\": -1.0, \"qp_upper\": 1.1644357938332224e-94}, {\"x1\": 0.00036674283971097456, \"x2\": 0.9497596468948203, \"name\": \"A.5_pfail\", \"id\": 27, \"minimum\": 0.00036674283971097456, \"maximum\": 0.9994796278706629, \"qp_lower\": -1.0, \"qp_upper\": 0.4924123336113737}, {\"x1\": 46.24379329893319, \"x2\": 349.79382526109896, \"name\": \"A.2_Bmax\", \"id\": 28, \"minimum\": 30.038808285763523, \"maximum\": 349.79382526109896, \"qp_lower\": 0.31972449936879255, \"qp_upper\": -1.0}, {\"x1\": 60.94801239729805, \"x2\": 349.6970013345793, \"name\": \"A.4_Bmax\", \"id\": 28, \"minimum\": 30.03854746821771, \"maximum\": 349.6970013345793, \"qp_lower\": 0.2713752102574376, \"qp_upper\": -1.0}, {\"x1\": 7.50873949866474e-05, \"x2\": 0.27530351863492775, \"name\": \"A.4_pfail\", \"id\": 28, \"minimum\": 7.50873949866474e-05, \"maximum\": 0.9993759026572816, \"qp_lower\": -1.0, \"qp_upper\": 1.2470664742039035e-102}, {\"x1\": 0.00036674283971097456, \"x2\": 0.9497596468948203, \"name\": \"A.5_pfail\", \"id\": 28, \"minimum\": 0.00036674283971097456, \"maximum\": 0.9994796278706629, \"qp_lower\": -1.0, \"qp_upper\": 0.5119890137342207}, {\"x1\": 46.24379329893319, \"x2\": 349.79382526109896, \"name\": \"A.2_Bmax\", \"id\": 29, \"minimum\": 30.038808285763523, \"maximum\": 349.79382526109896, \"qp_lower\": 0.36305881601161133, \"qp_upper\": -1.0}, {\"x1\": 60.94801239729805, \"x2\": 349.6970013345793, \"name\": \"A.4_Bmax\", \"id\": 29, \"minimum\": 30.03854746821771, \"maximum\": 349.6970013345793, \"qp_lower\": 0.39649850584912655, \"qp_upper\": -1.0}, {\"x1\": 7.50873949866474e-05, \"x2\": 0.2579895733070268, \"name\": \"A.4_pfail\", \"id\": 29, \"minimum\": 7.50873949866474e-05, \"maximum\": 0.9993759026572816, \"qp_lower\": -1.0, \"qp_upper\": 1.301086510316489e-108}, {\"x1\": 0.00036674283971097456, \"x2\": 0.9497596468948203, \"name\": \"A.5_pfail\", \"id\": 29, \"minimum\": 0.00036674283971097456, \"maximum\": 0.9994796278706629, \"qp_lower\": -1.0, \"qp_upper\": 0.5414098777255191}, {\"x1\": 46.24379329893319, \"x2\": 349.79382526109896, \"name\": \"A.2_Bmax\", \"id\": 30, \"minimum\": 30.038808285763523, \"maximum\": 349.79382526109896, \"qp_lower\": 0.343018924957873, \"qp_upper\": -1.0}, {\"x1\": 60.94801239729805, \"x2\": 349.6970013345793, \"name\": \"A.4_Bmax\", \"id\": 30, \"minimum\": 30.03854746821771, \"maximum\": 349.6970013345793, \"qp_lower\": 0.4246494081425647, \"qp_upper\": -1.0}, {\"x1\": 7.50873949866474e-05, \"x2\": 0.24276936752303063, \"name\": \"A.4_pfail\", \"id\": 30, \"minimum\": 7.50873949866474e-05, \"maximum\": 0.9993759026572816, \"qp_lower\": -1.0, \"qp_upper\": 1.0840180654435172e-112}, {\"x1\": 0.00036674283971097456, \"x2\": 0.9497596468948203, \"name\": \"A.5_pfail\", \"id\": 30, \"minimum\": 0.00036674283971097456, \"maximum\": 0.9994796278706629, \"qp_lower\": -1.0, \"qp_upper\": 0.7104923605455544}, {\"x1\": 46.24379329893319, \"x2\": 349.79382526109896, \"name\": \"A.2_Bmax\", \"id\": 31, \"minimum\": 30.038808285763523, \"maximum\": 349.79382526109896, \"qp_lower\": 0.390651314248246, \"qp_upper\": -1.0}, {\"x1\": 60.94801239729805, \"x2\": 349.6970013345793, \"name\": \"A.4_Bmax\", \"id\": 31, \"minimum\": 30.03854746821771, \"maximum\": 349.6970013345793, \"qp_lower\": 0.3840223809416543, \"qp_upper\": -1.0}, {\"x1\": 7.50873949866474e-05, \"x2\": 0.2311340078949794, \"name\": \"A.4_pfail\", \"id\": 31, \"minimum\": 7.50873949866474e-05, \"maximum\": 0.9993759026572816, \"qp_lower\": -1.0, \"qp_upper\": 1.2335554014041066e-121}, {\"x1\": 0.00036674283971097456, \"x2\": 0.9497596468948203, \"name\": \"A.5_pfail\", \"id\": 31, \"minimum\": 0.00036674283971097456, \"maximum\": 0.9994796278706629, \"qp_lower\": -1.0, \"qp_upper\": 0.6939363510032532}, {\"x1\": 46.24379329893319, \"x2\": 349.79382526109896, \"name\": \"A.2_Bmax\", \"id\": 32, \"minimum\": 30.038808285763523, \"maximum\": 349.79382526109896, \"qp_lower\": 0.3619554826808201, \"qp_upper\": -1.0}, {\"x1\": 60.94801239729805, \"x2\": 349.6970013345793, \"name\": \"A.4_Bmax\", \"id\": 32, \"minimum\": 30.03854746821771, \"maximum\": 349.6970013345793, \"qp_lower\": 0.4063363462307233, \"qp_upper\": -1.0}, {\"x1\": 7.50873949866474e-05, \"x2\": 0.21961676762840632, \"name\": \"A.4_pfail\", \"id\": 32, \"minimum\": 7.50873949866474e-05, \"maximum\": 0.9993759026572816, \"qp_lower\": -1.0, \"qp_upper\": 1.9127285480359773e-130}, {\"x1\": 0.00036674283971097456, \"x2\": 0.9497596468948203, \"name\": \"A.5_pfail\", \"id\": 32, \"minimum\": 0.00036674283971097456, \"maximum\": 0.9994796278706629, \"qp_lower\": -1.0, \"qp_upper\": 0.6759124994812207}, {\"x1\": 46.24379329893319, \"x2\": 349.79382526109896, \"name\": \"A.2_Bmax\", \"id\": 33, \"minimum\": 30.038808285763523, \"maximum\": 349.79382526109896, \"qp_lower\": 0.33219201736673465, \"qp_upper\": -1.0}, {\"x1\": 60.94801239729805, \"x2\": 349.6970013345793, \"name\": \"A.4_Bmax\", \"id\": 33, \"minimum\": 30.03854746821771, \"maximum\": 349.6970013345793, \"qp_lower\": 0.3661995774640335, \"qp_upper\": -1.0}, {\"x1\": 7.50873949866474e-05, \"x2\": 0.20896837172957772, \"name\": \"A.4_pfail\", \"id\": 33, \"minimum\": 7.50873949866474e-05, \"maximum\": 0.9993759026572816, \"qp_lower\": -1.0, \"qp_upper\": 2.084179514905657e-138}, {\"x1\": 0.00036674283971097456, \"x2\": 0.9497596468948203, \"name\": \"A.5_pfail\", \"id\": 33, \"minimum\": 0.00036674283971097456, \"maximum\": 0.9994796278706629, \"qp_lower\": -1.0, \"qp_upper\": 0.6567198026526078}, {\"x1\": 46.24379329893319, \"x2\": 349.79382526109896, \"name\": \"A.2_Bmax\", \"id\": 34, \"minimum\": 30.038808285763523, \"maximum\": 349.79382526109896, \"qp_lower\": 0.35584723373165156, \"qp_upper\": -1.0}, {\"x1\": 60.94801239729805, \"x2\": 349.6970013345793, \"name\": \"A.4_Bmax\", \"id\": 34, \"minimum\": 30.03854746821771, \"maximum\": 349.6970013345793, \"qp_lower\": 0.32956818489130535, \"qp_upper\": -1.0}, {\"x1\": 7.50873949866474e-05, \"x2\": 0.19774416761980454, \"name\": \"A.4_pfail\", \"id\": 34, \"minimum\": 7.50873949866474e-05, \"maximum\": 0.9993759026572816, \"qp_lower\": -1.0, \"qp_upper\": 1.4535094846238724e-144}, {\"x1\": 0.00036674283971097456, \"x2\": 0.9497596468948203, \"name\": \"A.5_pfail\", \"id\": 34, \"minimum\": 0.00036674283971097456, \"maximum\": 0.9994796278706629, \"qp_lower\": -1.0, \"qp_upper\": 0.6921580419857568}, {\"x1\": 46.24379329893319, \"x2\": 349.79382526109896, \"name\": \"A.2_Bmax\", \"id\": 35, \"minimum\": 30.038808285763523, \"maximum\": 349.79382526109896, \"qp_lower\": 0.3224034716553766, \"qp_upper\": -1.0}, {\"x1\": 60.94801239729805, \"x2\": 349.6970013345793, \"name\": \"A.4_Bmax\", \"id\": 35, \"minimum\": 30.03854746821771, \"maximum\": 349.6970013345793, \"qp_lower\": 0.356367268514148, \"qp_upper\": -1.0}, {\"x1\": 7.50873949866474e-05, \"x2\": 0.18778098300215912, \"name\": \"A.4_pfail\", \"id\": 35, \"minimum\": 7.50873949866474e-05, \"maximum\": 0.9993759026572816, \"qp_lower\": -1.0, \"qp_upper\": 2.9307500637454648e-154}, {\"x1\": 0.00036674283971097456, \"x2\": 0.9497596468948203, \"name\": \"A.5_pfail\", \"id\": 35, \"minimum\": 0.00036674283971097456, \"maximum\": 0.9994796278706629, \"qp_lower\": -1.0, \"qp_upper\": 0.7684167139482856}, {\"x1\": 46.24379329893319, \"x2\": 349.79382526109896, \"name\": \"A.2_Bmax\", \"id\": 36, \"minimum\": 30.038808285763523, \"maximum\": 349.79382526109896, \"qp_lower\": 0.28268670798929035, \"qp_upper\": -1.0}, {\"x1\": 60.94801239729805, \"x2\": 349.6970013345793, \"name\": \"A.4_Bmax\", \"id\": 36, \"minimum\": 30.03854746821771, \"maximum\": 349.6970013345793, \"qp_lower\": 0.30116378495000956, \"qp_upper\": -1.0}, {\"x1\": 7.50873949866474e-05, \"x2\": 0.17862647794556782, \"name\": \"A.4_pfail\", \"id\": 36, \"minimum\": 7.50873949866474e-05, \"maximum\": 0.9993759026572816, \"qp_lower\": -1.0, \"qp_upper\": 3.4098243678281015e-167}, {\"x1\": 0.00036674283971097456, \"x2\": 0.9497596468948203, \"name\": \"A.5_pfail\", \"id\": 36, \"minimum\": 0.00036674283971097456, \"maximum\": 0.9994796278706629, \"qp_lower\": -1.0, \"qp_upper\": 0.7533573284187003}, {\"x1\": 46.24379329893319, \"x2\": 349.79382526109896, \"name\": \"A.2_Bmax\", \"id\": 37, \"minimum\": 30.038808285763523, \"maximum\": 349.79382526109896, \"qp_lower\": 0.23027805101332735, \"qp_upper\": -1.0}, {\"x1\": 60.94801239729805, \"x2\": 349.6970013345793, \"name\": \"A.4_Bmax\", \"id\": 37, \"minimum\": 30.03854746821771, \"maximum\": 349.6970013345793, \"qp_lower\": 0.31985876817961906, \"qp_upper\": -1.0}, {\"x1\": 7.50873949866474e-05, \"x2\": 0.1698204443684426, \"name\": \"A.4_pfail\", \"id\": 37, \"minimum\": 7.50873949866474e-05, \"maximum\": 0.9993759026572816, \"qp_lower\": -1.0, \"qp_upper\": 2.289299870092618e-177}, {\"x1\": 0.00036674283971097456, \"x2\": 0.9497596468948203, \"name\": \"A.5_pfail\", \"id\": 37, \"minimum\": 0.00036674283971097456, \"maximum\": 0.9994796278706629, \"qp_lower\": -1.0, \"qp_upper\": 0.7227826732659055}, {\"x1\": 46.24379329893319, \"x2\": 349.79382526109896, \"name\": \"A.2_Bmax\", \"id\": 38, \"minimum\": 30.038808285763523, \"maximum\": 349.79382526109896, \"qp_lower\": 0.2979737087849742, \"qp_upper\": -1.0}, {\"x1\": 60.94801239729805, \"x2\": 349.6970013345793, \"name\": \"A.4_Bmax\", \"id\": 38, \"minimum\": 30.03854746821771, \"maximum\": 349.6970013345793, \"qp_lower\": 0.4472265112307586, \"qp_upper\": -1.0}, {\"x1\": 7.50873949866474e-05, \"x2\": 0.15886730665523477, \"name\": \"A.4_pfail\", \"id\": 38, \"minimum\": 7.50873949866474e-05, \"maximum\": 0.9993759026572816, \"qp_lower\": -1.0, \"qp_upper\": 1.6924734142726047e-185}, {\"x1\": 0.00036674283971097456, \"x2\": 0.9497596468948203, \"name\": \"A.5_pfail\", \"id\": 38, \"minimum\": 0.00036674283971097456, \"maximum\": 0.9994796278706629, \"qp_lower\": -1.0, \"qp_upper\": 0.7245387596798643}, {\"x1\": 46.24379329893319, \"x2\": 349.79382526109896, \"name\": \"A.2_Bmax\", \"id\": 39, \"minimum\": 30.038808285763523, \"maximum\": 349.79382526109896, \"qp_lower\": 0.2598380010976493, \"qp_upper\": -1.0}, {\"x1\": 60.94801239729805, \"x2\": 349.6970013345793, \"name\": \"A.4_Bmax\", \"id\": 39, \"minimum\": 30.03854746821771, \"maximum\": 349.6970013345793, \"qp_lower\": 0.5143902705976842, \"qp_upper\": -1.0}, {\"x1\": 7.50873949866474e-05, \"x2\": 0.14829752916326472, \"name\": \"A.4_pfail\", \"id\": 39, \"minimum\": 7.50873949866474e-05, \"maximum\": 0.9993759026572816, \"qp_lower\": -1.0, \"qp_upper\": 1.3018244456768248e-186}, {\"x1\": 0.00036674283971097456, \"x2\": 0.9497596468948203, \"name\": \"A.5_pfail\", \"id\": 39, \"minimum\": 0.00036674283971097456, \"maximum\": 0.9994796278706629, \"qp_lower\": -1.0, \"qp_upper\": 0.7947043171885982}, {\"x1\": 46.24379329893319, \"x2\": 349.79382526109896, \"name\": \"A.2_Bmax\", \"id\": 40, \"minimum\": 30.038808285763523, \"maximum\": 349.79382526109896, \"qp_lower\": 0.21989028323948298, \"qp_upper\": -1.0}, {\"x1\": 60.94801239729805, \"x2\": 349.6970013345793, \"name\": \"A.4_Bmax\", \"id\": 40, \"minimum\": 30.03854746821771, \"maximum\": 349.6970013345793, \"qp_lower\": 0.5711916868684654, \"qp_upper\": -1.0}, {\"x1\": 7.50873949866474e-05, \"x2\": 0.14013304753795924, \"name\": \"A.4_pfail\", \"id\": 40, \"minimum\": 7.50873949866474e-05, \"maximum\": 0.9993759026572816, \"qp_lower\": -1.0, \"qp_upper\": 2.0834973175367102e-200}, {\"x1\": 0.00036674283971097456, \"x2\": 0.9497596468948203, \"name\": \"A.5_pfail\", \"id\": 40, \"minimum\": 0.00036674283971097456, \"maximum\": 0.9994796278706629, \"qp_lower\": -1.0, \"qp_upper\": 0.7831627639394855}, {\"x1\": 46.24379329893319, \"x2\": 349.79382526109896, \"name\": \"A.2_Bmax\", \"id\": 41, \"minimum\": 30.038808285763523, \"maximum\": 349.79382526109896, \"qp_lower\": 0.18490844666045397, \"qp_upper\": -1.0}, {\"x1\": 60.94801239729805, \"x2\": 349.6970013345793, \"name\": \"A.4_Bmax\", \"id\": 41, \"minimum\": 30.03854746821771, \"maximum\": 349.6970013345793, \"qp_lower\": 0.5368985209403057, \"qp_upper\": -1.0}, {\"x1\": 7.50873949866474e-05, \"x2\": 0.13157730023801734, \"name\": \"A.4_pfail\", \"id\": 41, \"minimum\": 7.50873949866474e-05, \"maximum\": 0.9993759026572816, \"qp_lower\": -1.0, \"qp_upper\": 3.7426413560581345e-208}, {\"x1\": 0.00036674283971097456, \"x2\": 0.9497596468948203, \"name\": \"A.5_pfail\", \"id\": 41, \"minimum\": 0.00036674283971097456, \"maximum\": 0.9994796278706629, \"qp_lower\": -1.0, \"qp_upper\": 0.739345078297786}, {\"x1\": 46.24379329893319, \"x2\": 349.79382526109896, \"name\": \"A.2_Bmax\", \"id\": 42, \"minimum\": 30.038808285763523, \"maximum\": 349.79382526109896, \"qp_lower\": 0.36055412841515627, \"qp_upper\": -1.0}, {\"x1\": 60.94801239729805, \"x2\": 349.6970013345793, \"name\": \"A.4_Bmax\", \"id\": 42, \"minimum\": 30.03854746821771, \"maximum\": 349.6970013345793, \"qp_lower\": 0.49803848795606065, \"qp_upper\": -1.0}, {\"x1\": 7.50873949866474e-05, \"x2\": 0.12413627641903269, \"name\": \"A.4_pfail\", \"id\": 42, \"minimum\": 7.50873949866474e-05, \"maximum\": 0.9993759026572816, \"qp_lower\": -1.0, \"qp_upper\": 2.8759831402859405e-216}, {\"x1\": 0.00036674283971097456, \"x2\": 0.9497596468948203, \"name\": \"A.5_pfail\", \"id\": 42, \"minimum\": 0.00036674283971097456, \"maximum\": 0.9994796278706629, \"qp_lower\": -1.0, \"qp_upper\": 0.7309412479538719}, {\"x1\": 46.24379329893319, \"x2\": 349.79382526109896, \"name\": \"A.2_Bmax\", \"id\": 43, \"minimum\": 30.038808285763523, \"maximum\": 349.79382526109896, \"qp_lower\": 0.33398284451242133, \"qp_upper\": -1.0}, {\"x1\": 60.94801239729805, \"x2\": 349.6970013345793, \"name\": \"A.4_Bmax\", \"id\": 43, \"minimum\": 30.03854746821771, \"maximum\": 349.6970013345793, \"qp_lower\": 0.6135795273119273, \"qp_upper\": -1.0}, {\"x1\": 7.50873949866474e-05, \"x2\": 0.11693649520908955, \"name\": \"A.4_pfail\", \"id\": 43, \"minimum\": 7.50873949866474e-05, \"maximum\": 0.9993759026572816, \"qp_lower\": -1.0, \"qp_upper\": 3.7111818384208377e-221}, {\"x1\": 0.00036674283971097456, \"x2\": 0.9497596468948203, \"name\": \"A.5_pfail\", \"id\": 43, \"minimum\": 0.00036674283971097456, \"maximum\": 0.9994796278706629, \"qp_lower\": -1.0, \"qp_upper\": 0.7237088426530829}, {\"x1\": 46.24379329893319, \"x2\": 349.79382526109896, \"name\": \"A.2_Bmax\", \"id\": 44, \"minimum\": 30.038808285763523, \"maximum\": 349.79382526109896, \"qp_lower\": 0.29539884435532765, \"qp_upper\": -1.0}, {\"x1\": 60.94801239729805, \"x2\": 349.6970013345793, \"name\": \"A.4_Bmax\", \"id\": 44, \"minimum\": 30.03854746821771, \"maximum\": 349.6970013345793, \"qp_lower\": 0.5789451316531754, \"qp_upper\": -1.0}, {\"x1\": 7.50873949866474e-05, \"x2\": 0.11121487543446021, \"name\": \"A.4_pfail\", \"id\": 44, \"minimum\": 7.50873949866474e-05, \"maximum\": 0.9993759026572816, \"qp_lower\": -1.0, \"qp_upper\": 9.333730514156201e-230}, {\"x1\": 0.00036674283971097456, \"x2\": 0.9497596468948203, \"name\": \"A.5_pfail\", \"id\": 44, \"minimum\": 0.00036674283971097456, \"maximum\": 0.9994796278706629, \"qp_lower\": -1.0, \"qp_upper\": 0.712259111188217}, {\"x1\": 46.24379329893319, \"x2\": 349.79382526109896, \"name\": \"A.2_Bmax\", \"id\": 45, \"minimum\": 30.038808285763523, \"maximum\": 349.79382526109896, \"qp_lower\": 0.26276353131110086, \"qp_upper\": -1.0}, {\"x1\": 60.94801239729805, \"x2\": 349.6970013345793, \"name\": \"A.4_Bmax\", \"id\": 45, \"minimum\": 30.03854746821771, \"maximum\": 349.6970013345793, \"qp_lower\": 0.549801893395586, \"qp_upper\": -1.0}, {\"x1\": 7.50873949866474e-05, \"x2\": 0.10590851280884221, \"name\": \"A.4_pfail\", \"id\": 45, \"minimum\": 7.50873949866474e-05, \"maximum\": 0.9993759026572816, \"qp_lower\": -1.0, \"qp_upper\": 4.0068300072903335e-233}, {\"x1\": 0.00036674283971097456, \"x2\": 0.9497596468948203, \"name\": \"A.5_pfail\", \"id\": 45, \"minimum\": 0.00036674283971097456, \"maximum\": 0.9994796278706629, \"qp_lower\": -1.0, \"qp_upper\": 0.7043944833466721}, {\"x1\": 46.24379329893319, \"x2\": 349.79382526109896, \"name\": \"A.2_Bmax\", \"id\": 46, \"minimum\": 30.038808285763523, \"maximum\": 349.79382526109896, \"qp_lower\": 0.2332252375726159, \"qp_upper\": -1.0}, {\"x1\": 73.01064122931636, \"x2\": 349.6970013345793, \"name\": \"A.4_Bmax\", \"id\": 46, \"minimum\": 30.03854746821771, \"maximum\": 349.6970013345793, \"qp_lower\": 0.15516448155072823, \"qp_upper\": -1.0}, {\"x1\": 7.50873949866474e-05, \"x2\": 0.10590851280884221, \"name\": \"A.4_pfail\", \"id\": 46, \"minimum\": 7.50873949866474e-05, \"maximum\": 0.9993759026572816, \"qp_lower\": -1.0, \"qp_upper\": 1.922405903285339e-231}, {\"x1\": 0.00036674283971097456, \"x2\": 0.9497596468948203, \"name\": \"A.5_pfail\", \"id\": 46, \"minimum\": 0.00036674283971097456, \"maximum\": 0.9994796278706629, \"qp_lower\": -1.0, \"qp_upper\": 0.6992574113088696}, {\"x1\": 46.24379329893319, \"x2\": 349.79382526109896, \"name\": \"A.2_Bmax\", \"id\": 47, \"minimum\": 30.038808285763523, \"maximum\": 349.79382526109896, \"qp_lower\": 0.21083956821192149, \"qp_upper\": -1.0}, {\"x1\": 73.01064122931636, \"x2\": 349.6970013345793, \"name\": \"A.4_Bmax\", \"id\": 47, \"minimum\": 30.03854746821771, \"maximum\": 349.6970013345793, \"qp_lower\": 0.12328625178319816, \"qp_upper\": -1.0}, {\"x1\": 7.50873949866474e-05, \"x2\": 0.10101523329741198, \"name\": \"A.4_pfail\", \"id\": 47, \"minimum\": 7.50873949866474e-05, \"maximum\": 0.9993759026572816, \"qp_lower\": -1.0, \"qp_upper\": 4.860648078505361e-225}, {\"x1\": 0.00036674283971097456, \"x2\": 0.9497596468948203, \"name\": \"A.5_pfail\", \"id\": 47, \"minimum\": 0.00036674283971097456, \"maximum\": 0.9994796278706629, \"qp_lower\": -1.0, \"qp_upper\": 0.697924209011248}, {\"x1\": 46.24379329893319, \"x2\": 349.79382526109896, \"name\": \"A.2_Bmax\", \"id\": 48, \"minimum\": 30.038808285763523, \"maximum\": 349.79382526109896, \"qp_lower\": 0.42946021515047345, \"qp_upper\": -1.0}, {\"x1\": 73.01064122931636, \"x2\": 349.6970013345793, \"name\": \"A.4_Bmax\", \"id\": 48, \"minimum\": 30.03854746821771, \"maximum\": 349.6970013345793, \"qp_lower\": 0.04062843319102903, \"qp_upper\": -1.0}, {\"x1\": 7.50873949866474e-05, \"x2\": 0.09307399123733323, \"name\": \"A.4_pfail\", \"id\": 48, \"minimum\": 7.50873949866474e-05, \"maximum\": 0.9993759026572816, \"qp_lower\": -1.0, \"qp_upper\": 4.647217094160593e-233}, {\"x1\": 0.00036674283971097456, \"x2\": 0.9497596468948203, \"name\": \"A.5_pfail\", \"id\": 48, \"minimum\": 0.00036674283971097456, \"maximum\": 0.9994796278706629, \"qp_lower\": -1.0, \"qp_upper\": 0.6822680771022608}, {\"x1\": 46.24379329893319, \"x2\": 349.79382526109896, \"name\": \"A.2_Bmax\", \"id\": 49, \"minimum\": 30.038808285763523, \"maximum\": 349.79382526109896, \"qp_lower\": 0.34864246165386314, \"qp_upper\": -1.0}, {\"x1\": 73.01064122931636, \"x2\": 349.6970013345793, \"name\": \"A.4_Bmax\", \"id\": 49, \"minimum\": 30.03854746821771, \"maximum\": 349.6970013345793, \"qp_lower\": 0.08279606189989633, \"qp_upper\": -1.0}, {\"x1\": 7.50873949866474e-05, \"x2\": 0.0875852512387997, \"name\": \"A.4_pfail\", \"id\": 49, \"minimum\": 7.50873949866474e-05, \"maximum\": 0.9993759026572816, \"qp_lower\": -1.0, \"qp_upper\": 3.876249955139277e-226}, {\"x1\": 0.00036674283971097456, \"x2\": 0.9497596468948203, \"name\": \"A.5_pfail\", \"id\": 49, \"minimum\": 0.00036674283971097456, \"maximum\": 0.9994796278706629, \"qp_lower\": -1.0, \"qp_upper\": 0.6094910445360315}, {\"x1\": 46.24379329893319, \"x2\": 349.79382526109896, \"name\": \"A.2_Bmax\", \"id\": 50, \"minimum\": 30.038808285763523, \"maximum\": 349.79382526109896, \"qp_lower\": 0.39938161042354225, \"qp_upper\": -1.0}, {\"x1\": 73.01064122931636, \"x2\": 349.6970013345793, \"name\": \"A.4_Bmax\", \"id\": 50, \"minimum\": 30.03854746821771, \"maximum\": 349.6970013345793, \"qp_lower\": 0.10653447901594856, \"qp_upper\": -1.0}, {\"x1\": 7.50873949866474e-05, \"x2\": 0.08299621720562127, \"name\": \"A.4_pfail\", \"id\": 50, \"minimum\": 7.50873949866474e-05, \"maximum\": 0.9993759026572816, \"qp_lower\": -1.0, \"qp_upper\": 4.0511554100593355e-224}, {\"x1\": 0.00036674283971097456, \"x2\": 0.9497596468948203, \"name\": \"A.5_pfail\", \"id\": 50, \"minimum\": 0.00036674283971097456, \"maximum\": 0.9994796278706629, \"qp_lower\": -1.0, \"qp_upper\": 0.6764537422732064}, {\"x1\": 46.24379329893319, \"x2\": 349.79382526109896, \"name\": \"A.2_Bmax\", \"id\": 51, \"minimum\": 30.038808285763523, \"maximum\": 349.79382526109896, \"qp_lower\": 0.6159624967490489, \"qp_upper\": -1.0}, {\"x1\": 73.01064122931636, \"x2\": 349.6970013345793, \"name\": \"A.4_Bmax\", \"id\": 51, \"minimum\": 30.03854746821771, \"maximum\": 349.6970013345793, \"qp_lower\": 0.17864008925439248, \"qp_upper\": -1.0}, {\"x1\": 7.50873949866474e-05, \"x2\": 0.07715213033880128, \"name\": \"A.4_pfail\", \"id\": 51, \"minimum\": 7.50873949866474e-05, \"maximum\": 0.9993759026572816, \"qp_lower\": -1.0, \"qp_upper\": 2.7350927999590523e-233}, {\"x1\": 0.00036674283971097456, \"x2\": 0.9497596468948203, \"name\": \"A.5_pfail\", \"id\": 51, \"minimum\": 0.00036674283971097456, \"maximum\": 0.9994796278706629, \"qp_lower\": -1.0, \"qp_upper\": 0.6795770194595998}, {\"x1\": 0.09676771551028916, \"x2\": 0.9999930738604058, \"name\": \"A.1_pfail\", \"id\": 52, \"minimum\": 0.0005482223451544388, \"maximum\": 0.9999930738604058, \"qp_lower\": 0.1520382868082641, \"qp_upper\": -1.0}, {\"x1\": 46.24379329893319, \"x2\": 349.79382526109896, \"name\": \"A.2_Bmax\", \"id\": 52, \"minimum\": 30.038808285763523, \"maximum\": 349.79382526109896, \"qp_lower\": 0.67667693010055, \"qp_upper\": -1.0}, {\"x1\": 73.01064122931636, \"x2\": 349.6970013345793, \"name\": \"A.4_Bmax\", \"id\": 52, \"minimum\": 30.03854746821771, \"maximum\": 349.6970013345793, \"qp_lower\": 0.09509423472877235, \"qp_upper\": -1.0}, {\"x1\": 7.50873949866474e-05, \"x2\": 0.07715213033880128, \"name\": \"A.4_pfail\", \"id\": 52, \"minimum\": 7.50873949866474e-05, \"maximum\": 0.9993759026572816, \"qp_lower\": -1.0, \"qp_upper\": 9.031378697557045e-263}, {\"x1\": 0.00036674283971097456, \"x2\": 0.9497596468948203, \"name\": \"A.5_pfail\", \"id\": 52, \"minimum\": 0.00036674283971097456, \"maximum\": 0.9994796278706629, \"qp_lower\": -1.0, \"qp_upper\": 0.7183244793043442}, {\"x1\": 0.09676771551028916, \"x2\": 0.9999930738604058, \"name\": \"A.1_pfail\", \"id\": 53, \"minimum\": 0.0005482223451544388, \"maximum\": 0.9999930738604058, \"qp_lower\": 0.06001428626591488, \"qp_upper\": -1.0}, {\"x1\": 46.24379329893319, \"x2\": 349.79382526109896, \"name\": \"A.2_Bmax\", \"id\": 53, \"minimum\": 30.038808285763523, \"maximum\": 349.79382526109896, \"qp_lower\": 1.0, \"qp_upper\": -1.0}, {\"x1\": 73.01064122931636, \"x2\": 349.6970013345793, \"name\": \"A.4_Bmax\", \"id\": 53, \"minimum\": 30.03854746821771, \"maximum\": 349.6970013345793, \"qp_lower\": 0.026369151386587585, \"qp_upper\": -1.0}, {\"x1\": 7.50873949866474e-05, \"x2\": 0.07715213033880128, \"name\": \"A.4_pfail\", \"id\": 53, \"minimum\": 7.50873949866474e-05, \"maximum\": 0.9993759026572816, \"qp_lower\": -1.0, \"qp_upper\": 5.988164778897757e-292}, {\"x1\": 0.06607877565446499, \"x2\": 0.9497596468948203, \"name\": \"A.5_pfail\", \"id\": 53, \"minimum\": 0.00036674283971097456, \"maximum\": 0.9994796278706629, \"qp_lower\": 0.14889138146795816, \"qp_upper\": 1.0}], \"data-bb8d07f6df3d47a6a475317795287b23\": [{\"start\": 0, \"end\": 1}], \"data-d751713988987e9331980363e24189ce\": []}}, {\"mode\": \"vega-lite\"});\n",
       "</script>"
      ],
      "text/plain": [
       "alt.VConcatChart(...)"
      ]
     },
     "execution_count": 24,
     "metadata": {},
     "output_type": "execute_result"
    }
   ],
   "source": [
    "box.inspect_tradeoff()\n"
   ]
  },
  {
   "cell_type": "markdown",
   "metadata": {},
   "source": [
    "We select box 29, as it shows a good mixture between coverage and density"
   ]
  },
  {
   "cell_type": "code",
   "execution_count": 25,
   "metadata": {},
   "outputs": [
    {
     "name": "stdout",
     "output_type": "stream",
     "text": [
      "coverage    0.218848\n",
      "density     0.995238\n",
      "id                52\n",
      "mass            0.06\n",
      "mean        0.995238\n",
      "res_dim            5\n",
      "Name: 52, dtype: object\n",
      "\n",
      "              box 52                                            \n",
      "                 min         max                       qp values\n",
      "A.4_pfail   0.000075    0.077152  [-1.0, 9.031378697557045e-263]\n",
      "A.5_pfail   0.000367    0.949760      [-1.0, 0.7183244793043442]\n",
      "A.4_Bmax   73.010641  349.697001     [0.09509423472877235, -1.0]\n",
      "A.1_pfail   0.096768    0.999993      [0.1520382868082641, -1.0]\n",
      "A.2_Bmax   46.243793  349.793825        [0.67667693010055, -1.0]\n",
      "\n"
     ]
    }
   ],
   "source": [
    "box.inspect(52)\n"
   ]
  },
  {
   "cell_type": "code",
   "execution_count": 26,
   "metadata": {},
   "outputs": [
    {
     "name": "stderr",
     "output_type": "stream",
     "text": [
      "[MainProcess/INFO] results saved successfully to C:\\Users\\Samuel\\Desktop\\Studies\\EPA\\EPA1361 - Model Based Decision Making\\model-based-decision-making\\results\\mordm_holistic_52.tar.gz\n"
     ]
    }
   ],
   "source": [
    "box.select(52)\n",
    "scens_in_box = experiments.iloc[box.yi]\n",
    "outcomes_in_box = {k:v[box.yi] for k,v in outcomes.items()}\n",
    "#Save results\n",
    "save_results((scens_in_box, outcomes_in_box), '../results/mordm_holistic_52.tar.gz')"
   ]
  },
  {
   "cell_type": "markdown",
   "metadata": {},
   "source": [
    "# Multi-Scenario MORDM\n",
    "Based on the results of scenario discovery, we now continue to select three of such scenarios based on the worst outcomes in terms of casualties, damages and total costs. We will take each of these scenarios as a reference scenario to run an optimization algorithm for the levers to choose. "
   ]
  },
  {
   "cell_type": "code",
   "execution_count": null,
   "metadata": {},
   "outputs": [],
   "source": []
  }
 ],
 "metadata": {
  "kernelspec": {
   "display_name": "Python 3",
   "language": "python",
   "name": "python3"
  },
  "language_info": {
   "codemirror_mode": {
    "name": "ipython",
    "version": 3
   },
   "file_extension": ".py",
   "mimetype": "text/x-python",
   "name": "python",
   "nbconvert_exporter": "python",
   "pygments_lexer": "ipython3",
   "version": "3.7.4"
  }
 },
 "nbformat": 4,
 "nbformat_minor": 4
}
