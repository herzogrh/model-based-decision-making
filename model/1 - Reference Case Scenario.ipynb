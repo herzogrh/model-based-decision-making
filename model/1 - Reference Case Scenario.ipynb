{
 "cells": [
  {
   "cell_type": "markdown",
   "metadata": {},
   "source": [
    "# Open Exploration"
   ]
  },
  {
   "cell_type": "markdown",
   "metadata": {},
   "source": [
    "## Imports"
   ]
  },
  {
   "cell_type": "code",
   "execution_count": 1,
   "metadata": {},
   "outputs": [
    {
     "output_type": "execute_result",
     "data": {
      "text/plain": "<Logger EMA (DEBUG)>"
     },
     "metadata": {},
     "execution_count": 1
    }
   ],
   "source": [
    "# Standard Imports\n",
    "import pandas as pd\n",
    "import numpy as np\n",
    "import seaborn as sns\n",
    "import matplotlib.pyplot as plt\n",
    "import copy\n",
    "import networkx as nx\n",
    "import scipy as sp\n",
    "\n",
    "# Workbench Imports\n",
    "from ema_workbench import (Model, Policy, MultiprocessingEvaluator, ScalarOutcome, RealParameter, IntegerParameter, CategoricalParameter, optimize, Scenario, Constant, ema_logging,perform_experiments, SequentialEvaluator)\n",
    "from ema_workbench.em_framework.optimization import EpsilonProgress, HyperVolume\n",
    "from ema_workbench.util import ema_logging, save_results, load_results\n",
    "from ema_workbench.em_framework.samplers import sample_levers, sample_uncertainties\n",
    "from ema_workbench.em_framework.evaluators import LHS, SOBOL, MORRIS, SequentialEvaluator, BaseEvaluator\n",
    "\n",
    "\n",
    "ema_logging.log_to_stderr(ema_logging.INFO)\n"
   ]
  },
  {
   "cell_type": "markdown",
   "metadata": {},
   "source": [
    "## Model Specification"
   ]
  },
  {
   "cell_type": "code",
   "execution_count": 11,
   "metadata": {},
   "outputs": [],
   "source": [
    "# Model Imports\n",
    "from dike_model_function import DikeNetwork\n",
    "from problem_formulation import get_model_for_problem_formulation\n",
    "\n",
    "dike_model, planning_steps = get_model_for_problem_formulation(1)"
   ]
  },
  {
   "cell_type": "markdown",
   "metadata": {},
   "source": [
    "We specify a reference policy, where no measures are implemented to assess the impacts of such inaction. "
   ]
  },
  {
   "cell_type": "code",
   "execution_count": 12,
   "metadata": {},
   "outputs": [],
   "source": [
    "policy_noaction = Policy(\"NoAction\",  \n",
    "                    **{'0_RfR 0': 0, '0_RfR 1' : 0, '0_RfR 2' : 0,\n",
    "                    '1_RfR 0': 0, '1_RfR 1' : 0, '1_RfR 2' : 0,\n",
    "                    '2_RfR 0': 0, '2_RfR 1' : 0, '2_RfR 2' : 0,\n",
    "                    '3_RfR 0': 0, '3_RfR 1' : 0, '3_RfR 2' : 0,\n",
    "                    '4_RfR 0': 0, '4_RfR 1' : 0, '4_RfR 2' : 0,\n",
    "                    'A.1_DikeIncrease 0' : 0, 'A.1_DikeIncrease 1' : 0, 'A.1_DikeIncrease 2' : 0,\n",
    "                    'A.2_DikeIncrease 0' : 0, 'A.2_DikeIncrease 1' : 0, 'A.2_DikeIncrease 2' : 0,\n",
    "                    'A.3_DikeIncrease 0' : 0, 'A.3_DikeIncrease 1' : 0, 'A.3_DikeIncrease 2' : 0,\n",
    "                    'A.4_DikeIncrease 0' : 0, 'A.4_DikeIncrease 1' : 0, 'A.4_DikeIncrease 2' : 0,\n",
    "                    'A.5_DikeIncrease 0' : 0, 'A.5_DikeIncrease 1' : 0, 'A.5_DikeIncrease 2' : 0,\n",
    "                    'EWS_DaysToThreat':  0   })"
   ]
  },
  {
   "cell_type": "code",
   "execution_count": 13,
   "metadata": {},
   "outputs": [
    {
     "output_type": "stream",
     "name": "stderr",
     "text": "[MainProcess/INFO] pool started\n[MainProcess/INFO] performing 500 scenarios * 1 policies * 1 model(s) = 500 experiments\n[MainProcess/INFO] 50 cases completed\n[MainProcess/INFO] 100 cases completed\n[MainProcess/INFO] 150 cases completed\n[MainProcess/INFO] 200 cases completed\n[MainProcess/INFO] 250 cases completed\n[MainProcess/INFO] 300 cases completed\n[MainProcess/INFO] 350 cases completed\n[MainProcess/INFO] 400 cases completed\n[MainProcess/INFO] 450 cases completed\n[MainProcess/INFO] 500 cases completed\n[MainProcess/INFO] experiments finished\n[MainProcess/INFO] terminating pool\n"
    }
   ],
   "source": [
    "ema_logging.log_to_stderr(ema_logging.INFO)\n",
    " \n",
    "with MultiprocessingEvaluator(dike_model) as evaluator:\n",
    "    experiments, outcomes = evaluator.perform_experiments(scenarios=500, policies=policy_noaction)"
   ]
  },
  {
   "cell_type": "code",
   "execution_count": 14,
   "metadata": {},
   "outputs": [
    {
     "output_type": "stream",
     "name": "stderr",
     "text": "[MainProcess/INFO] results saved successfully to /Users/ricoherzog/OneDrive/Uni/2019-2020 WiSe Den Haag/Q4/EPA1361 Model Based Decision Making/05_Project/model-based-decision-making/results/500Scenarios_NoAction_PF1.tar.gz\n"
    }
   ],
   "source": [
    "#Save the results\n",
    "save_results([experiments, outcomes], \"../results/500Scenarios_NoAction_PF1.tar.gz\")"
   ]
  },
  {
   "cell_type": "code",
   "execution_count": 8,
   "metadata": {},
   "outputs": [],
   "source": [
    "outcomes_df = pd.DataFrame(data=outcomes)"
   ]
  },
  {
   "cell_type": "code",
   "execution_count": 10,
   "metadata": {},
   "outputs": [
    {
     "output_type": "execute_result",
     "data": {
      "text/plain": "       A1_2 Aggr Expected Annual Damage  A3 Expected Annual Damage  \\\ncount                      5.000000e+02               5.000000e+02   \nmean                       1.262982e+09               4.150070e+08   \nstd                        1.212723e+09               6.826047e+08   \nmin                        3.127719e+06               0.000000e+00   \n25%                        1.344571e+08               0.000000e+00   \n50%                        7.401059e+08               2.833091e+07   \n75%                        2.581268e+09               4.621545e+08   \nmax                        4.318320e+09               2.549115e+09   \n\n       A1_2 Aggr Expected Number of Deaths  A3 Aggr Expected Number of Deaths  \\\ncount                           500.000000                         500.000000   \nmean                              0.900786                           0.730383   \nstd                               0.809395                           1.177619   \nmin                               0.002948                           0.000000   \n25%                               0.120216                           0.000000   \n50%                               0.581870                           0.047218   \n75%                               1.884540                           0.896566   \nmax                               2.655447                           3.527823   \n\n       A1_5 Dike Investment Costs  Room for River Investment Costs  \\\ncount                       500.0                            500.0   \nmean                          0.0                              0.0   \nstd                           0.0                              0.0   \nmin                           0.0                              0.0   \n25%                           0.0                              0.0   \n50%                           0.0                              0.0   \n75%                           0.0                              0.0   \nmax                           0.0                              0.0   \n\n       Evacuation Costs  \ncount             500.0  \nmean                0.0  \nstd                 0.0  \nmin                 0.0  \n25%                 0.0  \n50%                 0.0  \n75%                 0.0  \nmax                 0.0  ",
      "text/html": "<div>\n<style scoped>\n    .dataframe tbody tr th:only-of-type {\n        vertical-align: middle;\n    }\n\n    .dataframe tbody tr th {\n        vertical-align: top;\n    }\n\n    .dataframe thead th {\n        text-align: right;\n    }\n</style>\n<table border=\"1\" class=\"dataframe\">\n  <thead>\n    <tr style=\"text-align: right;\">\n      <th></th>\n      <th>A1_2 Aggr Expected Annual Damage</th>\n      <th>A3 Expected Annual Damage</th>\n      <th>A1_2 Aggr Expected Number of Deaths</th>\n      <th>A3 Aggr Expected Number of Deaths</th>\n      <th>A1_5 Dike Investment Costs</th>\n      <th>Room for River Investment Costs</th>\n      <th>Evacuation Costs</th>\n    </tr>\n  </thead>\n  <tbody>\n    <tr>\n      <th>count</th>\n      <td>5.000000e+02</td>\n      <td>5.000000e+02</td>\n      <td>500.000000</td>\n      <td>500.000000</td>\n      <td>500.0</td>\n      <td>500.0</td>\n      <td>500.0</td>\n    </tr>\n    <tr>\n      <th>mean</th>\n      <td>1.262982e+09</td>\n      <td>4.150070e+08</td>\n      <td>0.900786</td>\n      <td>0.730383</td>\n      <td>0.0</td>\n      <td>0.0</td>\n      <td>0.0</td>\n    </tr>\n    <tr>\n      <th>std</th>\n      <td>1.212723e+09</td>\n      <td>6.826047e+08</td>\n      <td>0.809395</td>\n      <td>1.177619</td>\n      <td>0.0</td>\n      <td>0.0</td>\n      <td>0.0</td>\n    </tr>\n    <tr>\n      <th>min</th>\n      <td>3.127719e+06</td>\n      <td>0.000000e+00</td>\n      <td>0.002948</td>\n      <td>0.000000</td>\n      <td>0.0</td>\n      <td>0.0</td>\n      <td>0.0</td>\n    </tr>\n    <tr>\n      <th>25%</th>\n      <td>1.344571e+08</td>\n      <td>0.000000e+00</td>\n      <td>0.120216</td>\n      <td>0.000000</td>\n      <td>0.0</td>\n      <td>0.0</td>\n      <td>0.0</td>\n    </tr>\n    <tr>\n      <th>50%</th>\n      <td>7.401059e+08</td>\n      <td>2.833091e+07</td>\n      <td>0.581870</td>\n      <td>0.047218</td>\n      <td>0.0</td>\n      <td>0.0</td>\n      <td>0.0</td>\n    </tr>\n    <tr>\n      <th>75%</th>\n      <td>2.581268e+09</td>\n      <td>4.621545e+08</td>\n      <td>1.884540</td>\n      <td>0.896566</td>\n      <td>0.0</td>\n      <td>0.0</td>\n      <td>0.0</td>\n    </tr>\n    <tr>\n      <th>max</th>\n      <td>4.318320e+09</td>\n      <td>2.549115e+09</td>\n      <td>2.655447</td>\n      <td>3.527823</td>\n      <td>0.0</td>\n      <td>0.0</td>\n      <td>0.0</td>\n    </tr>\n  </tbody>\n</table>\n</div>"
     },
     "metadata": {},
     "execution_count": 10
    }
   ],
   "source": [
    "outcomes_df.describe()"
   ]
  },
  {
   "cell_type": "code",
   "execution_count": null,
   "metadata": {},
   "outputs": [],
   "source": []
  }
 ],
 "metadata": {
  "language_info": {
   "codemirror_mode": {
    "name": "ipython",
    "version": 3
   },
   "file_extension": ".py",
   "mimetype": "text/x-python",
   "name": "python",
   "nbconvert_exporter": "python",
   "pygments_lexer": "ipython3",
   "version": "3.7.7-final"
  },
  "orig_nbformat": 2,
  "kernelspec": {
   "name": "python3",
   "display_name": "Python 3"
  }
 },
 "nbformat": 4,
 "nbformat_minor": 2
}