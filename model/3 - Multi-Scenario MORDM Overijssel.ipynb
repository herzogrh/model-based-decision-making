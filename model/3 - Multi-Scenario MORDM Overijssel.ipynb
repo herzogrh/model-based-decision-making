{
 "cells": [
  {
   "cell_type": "markdown",
   "metadata": {},
   "source": [
    "# Multi-Scenario MORDM Overijssel\n",
    "This Jupyter Notebook uses the model developed by [Ciullo et al. (2019)](https://scholar.google.com/citations?hl=en&user=fDZCVVYAAAAJ&view_op=list_works&sortby=pubdate#d=gs_md_cita-d&u=%2Fcitations%3Fview_op%3Dview_citation%26hl%3Den%26user%3DfDZCVVYAAAAJ%26sortby%3Dpubdate%26citation_for_view%3DfDZCVVYAAAAJ%3AqjMakFHDy7sC%26tzom%3D-120) and the [ema_workbench by Jan Kwakkel](https://github.com/quaquel/EMAworkbench) to evaluate what possible strategies the Overijjsel is likely to use to increase its resilience to flood risk. It is specifically aimed towards finding optimal strategies for the Overijjsel province, namely minimizing casualties and damages across the model runtime in dike rings 4-5 and minimizing dike investment costs for all dike rings. By performing this analysis, Gelderland gains strategic information on which strategies the downstream province is likely to follow, if they choose to only take into account their own objectives. "
   ]
  },
  {
   "cell_type": "markdown",
   "metadata": {},
   "source": [
    "## Imports"
   ]
  },
  {
   "cell_type": "code",
   "execution_count": 1,
   "metadata": {},
   "outputs": [
    {
     "output_type": "execute_result",
     "data": {
      "text/plain": "<Logger EMA (DEBUG)>"
     },
     "metadata": {},
     "execution_count": 1
    }
   ],
   "source": [
    "# Standard Imports\n",
    "import pandas as pd\n",
    "import numpy as np\n",
    "import seaborn as sns\n",
    "import matplotlib.pyplot as plt\n",
    "import copy\n",
    "import networkx as nx\n",
    "import scipy as sp\n",
    "import plotly.express as px\n",
    "\n",
    "\n",
    "# Workbench Imports\n",
    "from ema_workbench import (Model, MultiprocessingEvaluator, ScalarOutcome, RealParameter, IntegerParameter, CategoricalParameter, optimize, Scenario, Constant, ema_logging,perform_experiments, SequentialEvaluator, Policy)\n",
    "from ema_workbench.em_framework.optimization import EpsilonProgress, HyperVolume\n",
    "from ema_workbench.util import ema_logging, save_results, load_results\n",
    "from ema_workbench.em_framework.samplers import sample_levers, sample_uncertainties\n",
    "from ema_workbench.em_framework.evaluators import LHS, SOBOL, MORRIS, SequentialEvaluator, BaseEvaluator\n",
    "from ema_workbench.analysis import parcoords, prim\n",
    "\n",
    "\n",
    "ema_logging.log_to_stderr(ema_logging.INFO)\n"
   ]
  },
  {
   "cell_type": "markdown",
   "metadata": {},
   "source": [
    "## General Model Setup\n",
    "Here, we specify the numbers for the experiment and optimization runs to perform."
   ]
  },
  {
   "cell_type": "code",
   "execution_count": 2,
   "metadata": {},
   "outputs": [],
   "source": [
    "# Number of nfes for the Model\n",
    "n_nfe = 20000\n",
    "\n",
    "#Number of scenarios for the deep uncertainty evaluation of promising scenarios\n",
    "n_scenarios = 1000\n",
    "\n",
    "#Path to the reference scenarios to use for MORDM\n",
    "path_noaction = \"../results/10000Scenarios_NoAction_PF1.tar.gz\"\n",
    "\n",
    "#Specify province\n",
    "province = \"Overijssel\""
   ]
  },
  {
   "cell_type": "markdown",
   "metadata": {},
   "source": [
    "## Model Specification"
   ]
  },
  {
   "cell_type": "code",
   "execution_count": 3,
   "metadata": {},
   "outputs": [],
   "source": [
    "# Model Imports\n",
    "from dike_model_function import DikeNetwork\n",
    "from problem_formulation import get_model_for_problem_formulation\n",
    "\n",
    "dike_model, planning_steps = get_model_for_problem_formulation(7)\n",
    "uncertainties = copy.deepcopy(dike_model.uncertainties)\n",
    "levers = copy.deepcopy(dike_model.levers)"
   ]
  },
  {
   "cell_type": "markdown",
   "metadata": {},
   "source": [
    "## Specify reference scenario\n",
    "Firstly, we load the results from the open exploration with no action taken to select a reference scenario that shows the most expected number of deaths. This, so-to-say worst-case scenario is then used to find the optimal policies using the MORDM approach.  "
   ]
  },
  {
   "cell_type": "code",
   "execution_count": 11,
   "metadata": {
    "tags": []
   },
   "outputs": [
    {
     "output_type": "stream",
     "name": "stderr",
     "text": "[MainProcess/INFO] results loaded succesfully from /Users/ricoherzog/OneDrive/Uni/2019-2020 WiSe Den Haag/Q4/EPA1361 Model Based Decision Making/05_Project/model-based-decision-making/results/10000Scenarios_NoAction_PF1.tar.gz\n"
    }
   ],
   "source": [
    "experiments, outcomes = load_results(path_noaction)"
   ]
  },
  {
   "cell_type": "code",
   "execution_count": 19,
   "metadata": {},
   "outputs": [],
   "source": [
    "outcomes_df = pd.DataFrame(outcomes)\n",
    "\n",
    "#Get index of worst scenario\n",
    "index_wc = outcomes_df.sort_values(\"Expected Number of Deaths\").tail(5).index\n",
    "experiment_wc = experiments.iloc[index_wc]\n",
    "reference_scenarios = [Scenario(f\"{index}\", **row) for index, row in experiment_wc.iloc[0:,0:19].iterrows()]"
   ]
  },
  {
   "cell_type": "markdown",
   "metadata": {},
   "source": [
    "## Run Optimization on Worst Case Reference Scenario"
   ]
  },
  {
   "cell_type": "code",
   "execution_count": 6,
   "metadata": {},
   "outputs": [
    {
     "output_type": "stream",
     "name": "stderr",
     "text": "[MainProcess/INFO] pool started\n[MainProcess/INFO] generation 0: 0/10000 nfe\n[MainProcess/INFO] generation 5: 498/10000 nfe\n[MainProcess/INFO] generation 10: 995/10000 nfe\n[MainProcess/INFO] generation 15: 1493/10000 nfe\n[MainProcess/INFO] generation 20: 1993/10000 nfe\n[MainProcess/INFO] generation 25: 2493/10000 nfe\n[MainProcess/INFO] generation 30: 2988/10000 nfe\n[MainProcess/INFO] generation 35: 3474/10000 nfe\n[MainProcess/INFO] generation 40: 3911/10000 nfe\n[MainProcess/INFO] generation 45: 4248/10000 nfe\n[MainProcess/INFO] generation 50: 4576/10000 nfe\n[MainProcess/INFO] generation 55: 4898/10000 nfe\n[MainProcess/INFO] generation 60: 5201/10000 nfe\n[MainProcess/INFO] generation 65: 5519/10000 nfe\n[MainProcess/INFO] generation 70: 5838/10000 nfe\n[MainProcess/INFO] generation 75: 6156/10000 nfe\n[MainProcess/INFO] generation 80: 6476/10000 nfe\n[MainProcess/INFO] generation 85: 6780/10000 nfe\n[MainProcess/INFO] generation 90: 7085/10000 nfe\n[MainProcess/INFO] generation 95: 7397/10000 nfe\n[MainProcess/INFO] generation 100: 7708/10000 nfe\n[MainProcess/INFO] generation 105: 8023/10000 nfe\n[MainProcess/INFO] generation 110: 8341/10000 nfe\n[MainProcess/INFO] generation 115: 8674/10000 nfe\n[MainProcess/INFO] generation 120: 8997/10000 nfe\n[MainProcess/INFO] generation 125: 9326/10000 nfe\n[MainProcess/INFO] generation 130: 9642/10000 nfe\n[MainProcess/INFO] generation 135: 9960/10000 nfe\n[MainProcess/INFO] optimization completed, found 1 solutions\n[MainProcess/INFO] terminating pool\n"
    }
   ],
   "source": [
    "ema_logging.log_to_stderr(ema_logging.INFO)\n",
    "\n",
    "convergence_metrics = [EpsilonProgress()]\n",
    "\n",
    "with MultiprocessingEvaluator(dike_model) as evaluator:\n",
    "    results_epsilon_0_1 = evaluator.optimize(nfe=n_nfe, epsilons=[0.01,]*len(dike_model.outcomes), \n",
    "    reference = reference_scenarios[0], convergence= convergence_metrics, searchover=\"levers\")"
   ]
  },
  {
   "cell_type": "code",
   "execution_count": 7,
   "metadata": {},
   "outputs": [],
   "source": [
    "results, convergence = results_epsilon_0_1"
   ]
  },
  {
   "cell_type": "code",
   "execution_count": 8,
   "metadata": {},
   "outputs": [
    {
     "output_type": "stream",
     "name": "stderr",
     "text": "[MainProcess/INFO] results saved successfully to /Users/ricoherzog/OneDrive/Uni/2019-2020 WiSe Den Haag/Q4/EPA1361 Model Based Decision Making/05_Project/model-based-decision-making/results/10000nfe_BaseCaseMORDM_Overijjsel.tar.gz\n"
    }
   ],
   "source": [
    "# Save Results\n",
    "save_results(results_epsilon_0_1, \"../results/\"+str(n_nfe)+\"nfe_BaseCaseMORDM_Overijjsel.tar.gz\")"
   ]
  },
  {
   "cell_type": "code",
   "execution_count": 25,
   "metadata": {
    "tags": []
   },
   "outputs": [
    {
     "output_type": "stream",
     "name": "stderr",
     "text": "[MainProcess/INFO] results loaded succesfully from /Users/ricoherzog/OneDrive/Uni/2019-2020 WiSe Den Haag/Q4/EPA1361 Model Based Decision Making/05_Project/model-based-decision-making/results/20000nfe_BaseCaseMORDM_Overijjsel.tar.gz\n"
    }
   ],
   "source": [
    "# Load Results\n",
    "results_epsilon_0_1 = load_results(\"../results/\"+str(n_nfe)+\"nfe_BaseCaseMORDM_Overijjsel.tar.gz\")"
   ]
  },
  {
   "cell_type": "code",
   "execution_count": null,
   "metadata": {},
   "outputs": [],
   "source": []
  },
  {
   "cell_type": "markdown",
   "metadata": {},
   "source": [
    "### Check for Convergence\n",
    "The optimization algorithm is now checked for convergence based on the Epsilon progress "
   ]
  },
  {
   "cell_type": "code",
   "execution_count": 26,
   "metadata": {},
   "outputs": [
    {
     "output_type": "display_data",
     "data": {
      "text/plain": "<Figure size 432x288 with 1 Axes>",
      "image/svg+xml": "<?xml version=\"1.0\" encoding=\"utf-8\" standalone=\"no\"?>\n<!DOCTYPE svg PUBLIC \"-//W3C//DTD SVG 1.1//EN\"\n  \"http://www.w3.org/Graphics/SVG/1.1/DTD/svg11.dtd\">\n<!-- Created with matplotlib (https://matplotlib.org/) -->\n<svg height=\"262.19625pt\" version=\"1.1\" viewBox=\"0 0 389.958361 262.19625\" width=\"389.958361pt\" xmlns=\"http://www.w3.org/2000/svg\" xmlns:xlink=\"http://www.w3.org/1999/xlink\">\n <defs>\n  <style type=\"text/css\">\n*{stroke-linecap:butt;stroke-linejoin:round;}\n  </style>\n </defs>\n <g id=\"figure_1\">\n  <g id=\"patch_1\">\n   <path d=\"M 0 262.19625 \nL 389.958361 262.19625 \nL 389.958361 0 \nL 0 0 \nz\n\" style=\"fill:none;\"/>\n  </g>\n  <g id=\"axes_1\">\n   <g id=\"patch_2\">\n    <path d=\"M 46.965625 224.64 \nL 381.765625 224.64 \nL 381.765625 7.2 \nL 46.965625 7.2 \nz\n\" style=\"fill:#ffffff;\"/>\n   </g>\n   <g id=\"matplotlib.axis_1\">\n    <g id=\"xtick_1\">\n     <g id=\"line2d_1\">\n      <defs>\n       <path d=\"M 0 0 \nL 0 3.5 \n\" id=\"m807056888e\" style=\"stroke:#000000;stroke-width:0.8;\"/>\n      </defs>\n      <g>\n       <use style=\"stroke:#000000;stroke-width:0.8;\" x=\"62.183807\" xlink:href=\"#m807056888e\" y=\"224.64\"/>\n      </g>\n     </g>\n     <g id=\"text_1\">\n      <!-- 0 -->\n      <defs>\n       <path d=\"M 31.78125 66.40625 \nQ 24.171875 66.40625 20.328125 58.90625 \nQ 16.5 51.421875 16.5 36.375 \nQ 16.5 21.390625 20.328125 13.890625 \nQ 24.171875 6.390625 31.78125 6.390625 \nQ 39.453125 6.390625 43.28125 13.890625 \nQ 47.125 21.390625 47.125 36.375 \nQ 47.125 51.421875 43.28125 58.90625 \nQ 39.453125 66.40625 31.78125 66.40625 \nz\nM 31.78125 74.21875 \nQ 44.046875 74.21875 50.515625 64.515625 \nQ 56.984375 54.828125 56.984375 36.375 \nQ 56.984375 17.96875 50.515625 8.265625 \nQ 44.046875 -1.421875 31.78125 -1.421875 \nQ 19.53125 -1.421875 13.0625 8.265625 \nQ 6.59375 17.96875 6.59375 36.375 \nQ 6.59375 54.828125 13.0625 64.515625 \nQ 19.53125 74.21875 31.78125 74.21875 \nz\n\" id=\"DejaVuSans-48\"/>\n      </defs>\n      <g transform=\"translate(59.002557 239.238437)scale(0.1 -0.1)\">\n       <use xlink:href=\"#DejaVuSans-48\"/>\n      </g>\n     </g>\n    </g>\n    <g id=\"xtick_2\">\n     <g id=\"line2d_2\">\n      <g>\n       <use style=\"stroke:#000000;stroke-width:0.8;\" x=\"100.267345\" xlink:href=\"#m807056888e\" y=\"224.64\"/>\n      </g>\n     </g>\n     <g id=\"text_2\">\n      <!-- 2500 -->\n      <defs>\n       <path d=\"M 19.1875 8.296875 \nL 53.609375 8.296875 \nL 53.609375 0 \nL 7.328125 0 \nL 7.328125 8.296875 \nQ 12.9375 14.109375 22.625 23.890625 \nQ 32.328125 33.6875 34.8125 36.53125 \nQ 39.546875 41.84375 41.421875 45.53125 \nQ 43.3125 49.21875 43.3125 52.78125 \nQ 43.3125 58.59375 39.234375 62.25 \nQ 35.15625 65.921875 28.609375 65.921875 \nQ 23.96875 65.921875 18.8125 64.3125 \nQ 13.671875 62.703125 7.8125 59.421875 \nL 7.8125 69.390625 \nQ 13.765625 71.78125 18.9375 73 \nQ 24.125 74.21875 28.421875 74.21875 \nQ 39.75 74.21875 46.484375 68.546875 \nQ 53.21875 62.890625 53.21875 53.421875 \nQ 53.21875 48.921875 51.53125 44.890625 \nQ 49.859375 40.875 45.40625 35.40625 \nQ 44.1875 33.984375 37.640625 27.21875 \nQ 31.109375 20.453125 19.1875 8.296875 \nz\n\" id=\"DejaVuSans-50\"/>\n       <path d=\"M 10.796875 72.90625 \nL 49.515625 72.90625 \nL 49.515625 64.59375 \nL 19.828125 64.59375 \nL 19.828125 46.734375 \nQ 21.96875 47.46875 24.109375 47.828125 \nQ 26.265625 48.1875 28.421875 48.1875 \nQ 40.625 48.1875 47.75 41.5 \nQ 54.890625 34.8125 54.890625 23.390625 \nQ 54.890625 11.625 47.5625 5.09375 \nQ 40.234375 -1.421875 26.90625 -1.421875 \nQ 22.3125 -1.421875 17.546875 -0.640625 \nQ 12.796875 0.140625 7.71875 1.703125 \nL 7.71875 11.625 \nQ 12.109375 9.234375 16.796875 8.0625 \nQ 21.484375 6.890625 26.703125 6.890625 \nQ 35.15625 6.890625 40.078125 11.328125 \nQ 45.015625 15.765625 45.015625 23.390625 \nQ 45.015625 31 40.078125 35.4375 \nQ 35.15625 39.890625 26.703125 39.890625 \nQ 22.75 39.890625 18.8125 39.015625 \nQ 14.890625 38.140625 10.796875 36.28125 \nz\n\" id=\"DejaVuSans-53\"/>\n      </defs>\n      <g transform=\"translate(87.542345 239.238437)scale(0.1 -0.1)\">\n       <use xlink:href=\"#DejaVuSans-50\"/>\n       <use x=\"63.623047\" xlink:href=\"#DejaVuSans-53\"/>\n       <use x=\"127.246094\" xlink:href=\"#DejaVuSans-48\"/>\n       <use x=\"190.869141\" xlink:href=\"#DejaVuSans-48\"/>\n      </g>\n     </g>\n    </g>\n    <g id=\"xtick_3\">\n     <g id=\"line2d_3\">\n      <g>\n       <use style=\"stroke:#000000;stroke-width:0.8;\" x=\"138.350883\" xlink:href=\"#m807056888e\" y=\"224.64\"/>\n      </g>\n     </g>\n     <g id=\"text_3\">\n      <!-- 5000 -->\n      <g transform=\"translate(125.625883 239.238437)scale(0.1 -0.1)\">\n       <use xlink:href=\"#DejaVuSans-53\"/>\n       <use x=\"63.623047\" xlink:href=\"#DejaVuSans-48\"/>\n       <use x=\"127.246094\" xlink:href=\"#DejaVuSans-48\"/>\n       <use x=\"190.869141\" xlink:href=\"#DejaVuSans-48\"/>\n      </g>\n     </g>\n    </g>\n    <g id=\"xtick_4\">\n     <g id=\"line2d_4\">\n      <g>\n       <use style=\"stroke:#000000;stroke-width:0.8;\" x=\"176.434421\" xlink:href=\"#m807056888e\" y=\"224.64\"/>\n      </g>\n     </g>\n     <g id=\"text_4\">\n      <!-- 7500 -->\n      <defs>\n       <path d=\"M 8.203125 72.90625 \nL 55.078125 72.90625 \nL 55.078125 68.703125 \nL 28.609375 0 \nL 18.3125 0 \nL 43.21875 64.59375 \nL 8.203125 64.59375 \nz\n\" id=\"DejaVuSans-55\"/>\n      </defs>\n      <g transform=\"translate(163.709421 239.238437)scale(0.1 -0.1)\">\n       <use xlink:href=\"#DejaVuSans-55\"/>\n       <use x=\"63.623047\" xlink:href=\"#DejaVuSans-53\"/>\n       <use x=\"127.246094\" xlink:href=\"#DejaVuSans-48\"/>\n       <use x=\"190.869141\" xlink:href=\"#DejaVuSans-48\"/>\n      </g>\n     </g>\n    </g>\n    <g id=\"xtick_5\">\n     <g id=\"line2d_5\">\n      <g>\n       <use style=\"stroke:#000000;stroke-width:0.8;\" x=\"214.517959\" xlink:href=\"#m807056888e\" y=\"224.64\"/>\n      </g>\n     </g>\n     <g id=\"text_5\">\n      <!-- 10000 -->\n      <defs>\n       <path d=\"M 12.40625 8.296875 \nL 28.515625 8.296875 \nL 28.515625 63.921875 \nL 10.984375 60.40625 \nL 10.984375 69.390625 \nL 28.421875 72.90625 \nL 38.28125 72.90625 \nL 38.28125 8.296875 \nL 54.390625 8.296875 \nL 54.390625 0 \nL 12.40625 0 \nz\n\" id=\"DejaVuSans-49\"/>\n      </defs>\n      <g transform=\"translate(198.611709 239.238437)scale(0.1 -0.1)\">\n       <use xlink:href=\"#DejaVuSans-49\"/>\n       <use x=\"63.623047\" xlink:href=\"#DejaVuSans-48\"/>\n       <use x=\"127.246094\" xlink:href=\"#DejaVuSans-48\"/>\n       <use x=\"190.869141\" xlink:href=\"#DejaVuSans-48\"/>\n       <use x=\"254.492188\" xlink:href=\"#DejaVuSans-48\"/>\n      </g>\n     </g>\n    </g>\n    <g id=\"xtick_6\">\n     <g id=\"line2d_6\">\n      <g>\n       <use style=\"stroke:#000000;stroke-width:0.8;\" x=\"252.601497\" xlink:href=\"#m807056888e\" y=\"224.64\"/>\n      </g>\n     </g>\n     <g id=\"text_6\">\n      <!-- 12500 -->\n      <g transform=\"translate(236.695247 239.238437)scale(0.1 -0.1)\">\n       <use xlink:href=\"#DejaVuSans-49\"/>\n       <use x=\"63.623047\" xlink:href=\"#DejaVuSans-50\"/>\n       <use x=\"127.246094\" xlink:href=\"#DejaVuSans-53\"/>\n       <use x=\"190.869141\" xlink:href=\"#DejaVuSans-48\"/>\n       <use x=\"254.492188\" xlink:href=\"#DejaVuSans-48\"/>\n      </g>\n     </g>\n    </g>\n    <g id=\"xtick_7\">\n     <g id=\"line2d_7\">\n      <g>\n       <use style=\"stroke:#000000;stroke-width:0.8;\" x=\"290.685035\" xlink:href=\"#m807056888e\" y=\"224.64\"/>\n      </g>\n     </g>\n     <g id=\"text_7\">\n      <!-- 15000 -->\n      <g transform=\"translate(274.778785 239.238437)scale(0.1 -0.1)\">\n       <use xlink:href=\"#DejaVuSans-49\"/>\n       <use x=\"63.623047\" xlink:href=\"#DejaVuSans-53\"/>\n       <use x=\"127.246094\" xlink:href=\"#DejaVuSans-48\"/>\n       <use x=\"190.869141\" xlink:href=\"#DejaVuSans-48\"/>\n       <use x=\"254.492188\" xlink:href=\"#DejaVuSans-48\"/>\n      </g>\n     </g>\n    </g>\n    <g id=\"xtick_8\">\n     <g id=\"line2d_8\">\n      <g>\n       <use style=\"stroke:#000000;stroke-width:0.8;\" x=\"328.768573\" xlink:href=\"#m807056888e\" y=\"224.64\"/>\n      </g>\n     </g>\n     <g id=\"text_8\">\n      <!-- 17500 -->\n      <g transform=\"translate(312.862323 239.238437)scale(0.1 -0.1)\">\n       <use xlink:href=\"#DejaVuSans-49\"/>\n       <use x=\"63.623047\" xlink:href=\"#DejaVuSans-55\"/>\n       <use x=\"127.246094\" xlink:href=\"#DejaVuSans-53\"/>\n       <use x=\"190.869141\" xlink:href=\"#DejaVuSans-48\"/>\n       <use x=\"254.492188\" xlink:href=\"#DejaVuSans-48\"/>\n      </g>\n     </g>\n    </g>\n    <g id=\"xtick_9\">\n     <g id=\"line2d_9\">\n      <g>\n       <use style=\"stroke:#000000;stroke-width:0.8;\" x=\"366.852111\" xlink:href=\"#m807056888e\" y=\"224.64\"/>\n      </g>\n     </g>\n     <g id=\"text_9\">\n      <!-- 20000 -->\n      <g transform=\"translate(350.945861 239.238437)scale(0.1 -0.1)\">\n       <use xlink:href=\"#DejaVuSans-50\"/>\n       <use x=\"63.623047\" xlink:href=\"#DejaVuSans-48\"/>\n       <use x=\"127.246094\" xlink:href=\"#DejaVuSans-48\"/>\n       <use x=\"190.869141\" xlink:href=\"#DejaVuSans-48\"/>\n       <use x=\"254.492188\" xlink:href=\"#DejaVuSans-48\"/>\n      </g>\n     </g>\n    </g>\n    <g id=\"text_10\">\n     <!-- nfe -->\n     <defs>\n      <path d=\"M 54.890625 33.015625 \nL 54.890625 0 \nL 45.90625 0 \nL 45.90625 32.71875 \nQ 45.90625 40.484375 42.875 44.328125 \nQ 39.84375 48.1875 33.796875 48.1875 \nQ 26.515625 48.1875 22.3125 43.546875 \nQ 18.109375 38.921875 18.109375 30.90625 \nL 18.109375 0 \nL 9.078125 0 \nL 9.078125 54.6875 \nL 18.109375 54.6875 \nL 18.109375 46.1875 \nQ 21.34375 51.125 25.703125 53.5625 \nQ 30.078125 56 35.796875 56 \nQ 45.21875 56 50.046875 50.171875 \nQ 54.890625 44.34375 54.890625 33.015625 \nz\n\" id=\"DejaVuSans-110\"/>\n      <path d=\"M 37.109375 75.984375 \nL 37.109375 68.5 \nL 28.515625 68.5 \nQ 23.6875 68.5 21.796875 66.546875 \nQ 19.921875 64.59375 19.921875 59.515625 \nL 19.921875 54.6875 \nL 34.71875 54.6875 \nL 34.71875 47.703125 \nL 19.921875 47.703125 \nL 19.921875 0 \nL 10.890625 0 \nL 10.890625 47.703125 \nL 2.296875 47.703125 \nL 2.296875 54.6875 \nL 10.890625 54.6875 \nL 10.890625 58.5 \nQ 10.890625 67.625 15.140625 71.796875 \nQ 19.390625 75.984375 28.609375 75.984375 \nz\n\" id=\"DejaVuSans-102\"/>\n      <path d=\"M 56.203125 29.59375 \nL 56.203125 25.203125 \nL 14.890625 25.203125 \nQ 15.484375 15.921875 20.484375 11.0625 \nQ 25.484375 6.203125 34.421875 6.203125 \nQ 39.59375 6.203125 44.453125 7.46875 \nQ 49.3125 8.734375 54.109375 11.28125 \nL 54.109375 2.78125 \nQ 49.265625 0.734375 44.1875 -0.34375 \nQ 39.109375 -1.421875 33.890625 -1.421875 \nQ 20.796875 -1.421875 13.15625 6.1875 \nQ 5.515625 13.8125 5.515625 26.8125 \nQ 5.515625 40.234375 12.765625 48.109375 \nQ 20.015625 56 32.328125 56 \nQ 43.359375 56 49.78125 48.890625 \nQ 56.203125 41.796875 56.203125 29.59375 \nz\nM 47.21875 32.234375 \nQ 47.125 39.59375 43.09375 43.984375 \nQ 39.0625 48.390625 32.421875 48.390625 \nQ 24.90625 48.390625 20.390625 44.140625 \nQ 15.875 39.890625 15.1875 32.171875 \nz\n\" id=\"DejaVuSans-101\"/>\n     </defs>\n     <g transform=\"translate(206.360156 252.916562)scale(0.1 -0.1)\">\n      <use xlink:href=\"#DejaVuSans-110\"/>\n      <use x=\"63.378906\" xlink:href=\"#DejaVuSans-102\"/>\n      <use x=\"98.583984\" xlink:href=\"#DejaVuSans-101\"/>\n     </g>\n    </g>\n   </g>\n   <g id=\"matplotlib.axis_2\">\n    <g id=\"ytick_1\">\n     <g id=\"line2d_10\">\n      <defs>\n       <path d=\"M 0 0 \nL -3.5 0 \n\" id=\"maeb543b3ee\" style=\"stroke:#000000;stroke-width:0.8;\"/>\n      </defs>\n      <g>\n       <use style=\"stroke:#000000;stroke-width:0.8;\" x=\"46.965625\" xlink:href=\"#maeb543b3ee\" y=\"214.756364\"/>\n      </g>\n     </g>\n     <g id=\"text_11\">\n      <!-- 0 -->\n      <g transform=\"translate(33.603125 218.555582)scale(0.1 -0.1)\">\n       <use xlink:href=\"#DejaVuSans-48\"/>\n      </g>\n     </g>\n    </g>\n    <g id=\"ytick_2\">\n     <g id=\"line2d_11\">\n      <g>\n       <use style=\"stroke:#000000;stroke-width:0.8;\" x=\"46.965625\" xlink:href=\"#maeb543b3ee\" y=\"183.966219\"/>\n      </g>\n     </g>\n     <g id=\"text_12\">\n      <!-- 50 -->\n      <g transform=\"translate(27.240625 187.765438)scale(0.1 -0.1)\">\n       <use xlink:href=\"#DejaVuSans-53\"/>\n       <use x=\"63.623047\" xlink:href=\"#DejaVuSans-48\"/>\n      </g>\n     </g>\n    </g>\n    <g id=\"ytick_3\">\n     <g id=\"line2d_12\">\n      <g>\n       <use style=\"stroke:#000000;stroke-width:0.8;\" x=\"46.965625\" xlink:href=\"#maeb543b3ee\" y=\"153.176075\"/>\n      </g>\n     </g>\n     <g id=\"text_13\">\n      <!-- 100 -->\n      <g transform=\"translate(20.878125 156.975294)scale(0.1 -0.1)\">\n       <use xlink:href=\"#DejaVuSans-49\"/>\n       <use x=\"63.623047\" xlink:href=\"#DejaVuSans-48\"/>\n       <use x=\"127.246094\" xlink:href=\"#DejaVuSans-48\"/>\n      </g>\n     </g>\n    </g>\n    <g id=\"ytick_4\">\n     <g id=\"line2d_13\">\n      <g>\n       <use style=\"stroke:#000000;stroke-width:0.8;\" x=\"46.965625\" xlink:href=\"#maeb543b3ee\" y=\"122.38593\"/>\n      </g>\n     </g>\n     <g id=\"text_14\">\n      <!-- 150 -->\n      <g transform=\"translate(20.878125 126.185149)scale(0.1 -0.1)\">\n       <use xlink:href=\"#DejaVuSans-49\"/>\n       <use x=\"63.623047\" xlink:href=\"#DejaVuSans-53\"/>\n       <use x=\"127.246094\" xlink:href=\"#DejaVuSans-48\"/>\n      </g>\n     </g>\n    </g>\n    <g id=\"ytick_5\">\n     <g id=\"line2d_14\">\n      <g>\n       <use style=\"stroke:#000000;stroke-width:0.8;\" x=\"46.965625\" xlink:href=\"#maeb543b3ee\" y=\"91.595786\"/>\n      </g>\n     </g>\n     <g id=\"text_15\">\n      <!-- 200 -->\n      <g transform=\"translate(20.878125 95.395005)scale(0.1 -0.1)\">\n       <use xlink:href=\"#DejaVuSans-50\"/>\n       <use x=\"63.623047\" xlink:href=\"#DejaVuSans-48\"/>\n       <use x=\"127.246094\" xlink:href=\"#DejaVuSans-48\"/>\n      </g>\n     </g>\n    </g>\n    <g id=\"ytick_6\">\n     <g id=\"line2d_15\">\n      <g>\n       <use style=\"stroke:#000000;stroke-width:0.8;\" x=\"46.965625\" xlink:href=\"#maeb543b3ee\" y=\"60.805641\"/>\n      </g>\n     </g>\n     <g id=\"text_16\">\n      <!-- 250 -->\n      <g transform=\"translate(20.878125 64.60486)scale(0.1 -0.1)\">\n       <use xlink:href=\"#DejaVuSans-50\"/>\n       <use x=\"63.623047\" xlink:href=\"#DejaVuSans-53\"/>\n       <use x=\"127.246094\" xlink:href=\"#DejaVuSans-48\"/>\n      </g>\n     </g>\n    </g>\n    <g id=\"ytick_7\">\n     <g id=\"line2d_16\">\n      <g>\n       <use style=\"stroke:#000000;stroke-width:0.8;\" x=\"46.965625\" xlink:href=\"#maeb543b3ee\" y=\"30.015497\"/>\n      </g>\n     </g>\n     <g id=\"text_17\">\n      <!-- 300 -->\n      <defs>\n       <path d=\"M 40.578125 39.3125 \nQ 47.65625 37.796875 51.625 33 \nQ 55.609375 28.21875 55.609375 21.1875 \nQ 55.609375 10.40625 48.1875 4.484375 \nQ 40.765625 -1.421875 27.09375 -1.421875 \nQ 22.515625 -1.421875 17.65625 -0.515625 \nQ 12.796875 0.390625 7.625 2.203125 \nL 7.625 11.71875 \nQ 11.71875 9.328125 16.59375 8.109375 \nQ 21.484375 6.890625 26.8125 6.890625 \nQ 36.078125 6.890625 40.9375 10.546875 \nQ 45.796875 14.203125 45.796875 21.1875 \nQ 45.796875 27.640625 41.28125 31.265625 \nQ 36.765625 34.90625 28.71875 34.90625 \nL 20.21875 34.90625 \nL 20.21875 43.015625 \nL 29.109375 43.015625 \nQ 36.375 43.015625 40.234375 45.921875 \nQ 44.09375 48.828125 44.09375 54.296875 \nQ 44.09375 59.90625 40.109375 62.90625 \nQ 36.140625 65.921875 28.71875 65.921875 \nQ 24.65625 65.921875 20.015625 65.03125 \nQ 15.375 64.15625 9.8125 62.3125 \nL 9.8125 71.09375 \nQ 15.4375 72.65625 20.34375 73.4375 \nQ 25.25 74.21875 29.59375 74.21875 \nQ 40.828125 74.21875 47.359375 69.109375 \nQ 53.90625 64.015625 53.90625 55.328125 \nQ 53.90625 49.265625 50.4375 45.09375 \nQ 46.96875 40.921875 40.578125 39.3125 \nz\n\" id=\"DejaVuSans-51\"/>\n      </defs>\n      <g transform=\"translate(20.878125 33.814716)scale(0.1 -0.1)\">\n       <use xlink:href=\"#DejaVuSans-51\"/>\n       <use x=\"63.623047\" xlink:href=\"#DejaVuSans-48\"/>\n       <use x=\"127.246094\" xlink:href=\"#DejaVuSans-48\"/>\n      </g>\n     </g>\n    </g>\n    <g id=\"text_18\">\n     <!-- $\\epsilon$ progress -->\n     <defs>\n      <path d=\"M 19.734375 29.5 \nQ 14.453125 30.671875 12.15625 33.84375 \nQ 10.453125 36.078125 10.453125 39.109375 \nQ 10.453125 47.40625 18.359375 52.25 \nQ 24.609375 56.0625 34.1875 56.0625 \nQ 37.890625 56.0625 41.9375 55.46875 \nQ 46 54.890625 50.53125 53.71875 \nL 48.96875 45.5625 \nQ 44.484375 46.96875 40.71875 47.609375 \nQ 36.859375 48.25 33.40625 48.25 \nQ 27.59375 48.25 23.78125 46 \nQ 19.1875 43.3125 19.1875 39.40625 \nQ 19.1875 36.8125 21.578125 35.015625 \nQ 24.421875 32.859375 30.078125 32.859375 \nL 37.640625 32.859375 \nL 36.234375 25.4375 \nL 29 25.4375 \nQ 22.265625 25.4375 18.3125 22.953125 \nQ 12.9375 19.578125 12.9375 14.3125 \nQ 12.9375 10.984375 15.828125 8.796875 \nQ 19.4375 6.0625 26.8125 6.0625 \nQ 31.34375 6.0625 35.6875 6.9375 \nQ 40.046875 7.859375 43.84375 9.671875 \nL 42.1875 1.3125 \nQ 37.546875 -0.046875 33.296875 -0.734375 \nQ 29.046875 -1.421875 25.140625 -1.421875 \nQ 13.53125 -1.421875 8.0625 3.03125 \nQ 3.90625 6.453125 3.90625 12.203125 \nQ 3.90625 19.96875 9.375 24.75 \nQ 13.421875 28.328125 19.734375 29.5 \nz\n\" id=\"DejaVuSans-Oblique-949\"/>\n      <path id=\"DejaVuSans-32\"/>\n      <path d=\"M 18.109375 8.203125 \nL 18.109375 -20.796875 \nL 9.078125 -20.796875 \nL 9.078125 54.6875 \nL 18.109375 54.6875 \nL 18.109375 46.390625 \nQ 20.953125 51.265625 25.265625 53.625 \nQ 29.59375 56 35.59375 56 \nQ 45.5625 56 51.78125 48.09375 \nQ 58.015625 40.1875 58.015625 27.296875 \nQ 58.015625 14.40625 51.78125 6.484375 \nQ 45.5625 -1.421875 35.59375 -1.421875 \nQ 29.59375 -1.421875 25.265625 0.953125 \nQ 20.953125 3.328125 18.109375 8.203125 \nz\nM 48.6875 27.296875 \nQ 48.6875 37.203125 44.609375 42.84375 \nQ 40.53125 48.484375 33.40625 48.484375 \nQ 26.265625 48.484375 22.1875 42.84375 \nQ 18.109375 37.203125 18.109375 27.296875 \nQ 18.109375 17.390625 22.1875 11.75 \nQ 26.265625 6.109375 33.40625 6.109375 \nQ 40.53125 6.109375 44.609375 11.75 \nQ 48.6875 17.390625 48.6875 27.296875 \nz\n\" id=\"DejaVuSans-112\"/>\n      <path d=\"M 41.109375 46.296875 \nQ 39.59375 47.171875 37.8125 47.578125 \nQ 36.03125 48 33.890625 48 \nQ 26.265625 48 22.1875 43.046875 \nQ 18.109375 38.09375 18.109375 28.8125 \nL 18.109375 0 \nL 9.078125 0 \nL 9.078125 54.6875 \nL 18.109375 54.6875 \nL 18.109375 46.1875 \nQ 20.953125 51.171875 25.484375 53.578125 \nQ 30.03125 56 36.53125 56 \nQ 37.453125 56 38.578125 55.875 \nQ 39.703125 55.765625 41.0625 55.515625 \nz\n\" id=\"DejaVuSans-114\"/>\n      <path d=\"M 30.609375 48.390625 \nQ 23.390625 48.390625 19.1875 42.75 \nQ 14.984375 37.109375 14.984375 27.296875 \nQ 14.984375 17.484375 19.15625 11.84375 \nQ 23.34375 6.203125 30.609375 6.203125 \nQ 37.796875 6.203125 41.984375 11.859375 \nQ 46.1875 17.53125 46.1875 27.296875 \nQ 46.1875 37.015625 41.984375 42.703125 \nQ 37.796875 48.390625 30.609375 48.390625 \nz\nM 30.609375 56 \nQ 42.328125 56 49.015625 48.375 \nQ 55.71875 40.765625 55.71875 27.296875 \nQ 55.71875 13.875 49.015625 6.21875 \nQ 42.328125 -1.421875 30.609375 -1.421875 \nQ 18.84375 -1.421875 12.171875 6.21875 \nQ 5.515625 13.875 5.515625 27.296875 \nQ 5.515625 40.765625 12.171875 48.375 \nQ 18.84375 56 30.609375 56 \nz\n\" id=\"DejaVuSans-111\"/>\n      <path d=\"M 45.40625 27.984375 \nQ 45.40625 37.75 41.375 43.109375 \nQ 37.359375 48.484375 30.078125 48.484375 \nQ 22.859375 48.484375 18.828125 43.109375 \nQ 14.796875 37.75 14.796875 27.984375 \nQ 14.796875 18.265625 18.828125 12.890625 \nQ 22.859375 7.515625 30.078125 7.515625 \nQ 37.359375 7.515625 41.375 12.890625 \nQ 45.40625 18.265625 45.40625 27.984375 \nz\nM 54.390625 6.78125 \nQ 54.390625 -7.171875 48.1875 -13.984375 \nQ 42 -20.796875 29.203125 -20.796875 \nQ 24.46875 -20.796875 20.265625 -20.09375 \nQ 16.0625 -19.390625 12.109375 -17.921875 \nL 12.109375 -9.1875 \nQ 16.0625 -11.328125 19.921875 -12.34375 \nQ 23.78125 -13.375 27.78125 -13.375 \nQ 36.625 -13.375 41.015625 -8.765625 \nQ 45.40625 -4.15625 45.40625 5.171875 \nL 45.40625 9.625 \nQ 42.625 4.78125 38.28125 2.390625 \nQ 33.9375 0 27.875 0 \nQ 17.828125 0 11.671875 7.65625 \nQ 5.515625 15.328125 5.515625 27.984375 \nQ 5.515625 40.671875 11.671875 48.328125 \nQ 17.828125 56 27.875 56 \nQ 33.9375 56 38.28125 53.609375 \nQ 42.625 51.21875 45.40625 46.390625 \nL 45.40625 54.6875 \nL 54.390625 54.6875 \nz\n\" id=\"DejaVuSans-103\"/>\n      <path d=\"M 44.28125 53.078125 \nL 44.28125 44.578125 \nQ 40.484375 46.53125 36.375 47.5 \nQ 32.28125 48.484375 27.875 48.484375 \nQ 21.1875 48.484375 17.84375 46.4375 \nQ 14.5 44.390625 14.5 40.28125 \nQ 14.5 37.15625 16.890625 35.375 \nQ 19.28125 33.59375 26.515625 31.984375 \nL 29.59375 31.296875 \nQ 39.15625 29.25 43.1875 25.515625 \nQ 47.21875 21.78125 47.21875 15.09375 \nQ 47.21875 7.46875 41.1875 3.015625 \nQ 35.15625 -1.421875 24.609375 -1.421875 \nQ 20.21875 -1.421875 15.453125 -0.5625 \nQ 10.6875 0.296875 5.421875 2 \nL 5.421875 11.28125 \nQ 10.40625 8.6875 15.234375 7.390625 \nQ 20.0625 6.109375 24.8125 6.109375 \nQ 31.15625 6.109375 34.5625 8.28125 \nQ 37.984375 10.453125 37.984375 14.40625 \nQ 37.984375 18.0625 35.515625 20.015625 \nQ 33.0625 21.96875 24.703125 23.78125 \nL 21.578125 24.515625 \nQ 13.234375 26.265625 9.515625 29.90625 \nQ 5.8125 33.546875 5.8125 39.890625 \nQ 5.8125 47.609375 11.28125 51.796875 \nQ 16.75 56 26.8125 56 \nQ 31.78125 56 36.171875 55.265625 \nQ 40.578125 54.546875 44.28125 53.078125 \nz\n\" id=\"DejaVuSans-115\"/>\n     </defs>\n     <g transform=\"translate(14.778125 142.02)rotate(-90)scale(0.1 -0.1)\">\n      <use transform=\"translate(0 0.9375)\" xlink:href=\"#DejaVuSans-Oblique-949\"/>\n      <use transform=\"translate(54.052734 0.9375)\" xlink:href=\"#DejaVuSans-32\"/>\n      <use transform=\"translate(85.839844 0.9375)\" xlink:href=\"#DejaVuSans-112\"/>\n      <use transform=\"translate(149.316406 0.9375)\" xlink:href=\"#DejaVuSans-114\"/>\n      <use transform=\"translate(190.429688 0.9375)\" xlink:href=\"#DejaVuSans-111\"/>\n      <use transform=\"translate(251.611328 0.9375)\" xlink:href=\"#DejaVuSans-103\"/>\n      <use transform=\"translate(315.087891 0.9375)\" xlink:href=\"#DejaVuSans-114\"/>\n      <use transform=\"translate(356.201172 0.9375)\" xlink:href=\"#DejaVuSans-101\"/>\n      <use transform=\"translate(417.724609 0.9375)\" xlink:href=\"#DejaVuSans-115\"/>\n      <use transform=\"translate(469.824219 0.9375)\" xlink:href=\"#DejaVuSans-115\"/>\n     </g>\n    </g>\n   </g>\n   <g id=\"line2d_17\">\n    <path clip-path=\"url(#pdb1d889a8d)\" d=\"M 62.183807 214.756364 \nL 63.707148 196.282277 \nL 80.402971 103.296041 \nL 97.098795 36.789329 \nL 113.764151 17.083636 \nL 129.226067 17.083636 \nL 145.084053 17.083636 \nL 160.881104 17.083636 \nL 176.87619 17.083636 \nL 192.414274 17.083636 \nL 207.815256 17.083636 \nL 224.069311 17.083636 \nL 240.003463 17.083636 \nL 256.211817 17.083636 \nL 271.963168 17.083636 \nL 287.790686 17.083636 \nL 303.740072 17.083636 \nL 319.598057 17.083636 \nL 335.059974 17.083636 \nL 351.268328 17.083636 \nL 366.547443 17.083636 \n\" style=\"fill:none;stroke:#1f77b4;stroke-linecap:square;stroke-width:1.5;\"/>\n   </g>\n   <g id=\"patch_3\">\n    <path d=\"M 46.965625 224.64 \nL 46.965625 7.2 \n\" style=\"fill:none;stroke:#000000;stroke-linecap:square;stroke-linejoin:miter;stroke-width:0.8;\"/>\n   </g>\n   <g id=\"patch_4\">\n    <path d=\"M 381.765625 224.64 \nL 381.765625 7.2 \n\" style=\"fill:none;stroke:#000000;stroke-linecap:square;stroke-linejoin:miter;stroke-width:0.8;\"/>\n   </g>\n   <g id=\"patch_5\">\n    <path d=\"M 46.965625 224.64 \nL 381.765625 224.64 \n\" style=\"fill:none;stroke:#000000;stroke-linecap:square;stroke-linejoin:miter;stroke-width:0.8;\"/>\n   </g>\n   <g id=\"patch_6\">\n    <path d=\"M 46.965625 7.2 \nL 381.765625 7.2 \n\" style=\"fill:none;stroke:#000000;stroke-linecap:square;stroke-linejoin:miter;stroke-width:0.8;\"/>\n   </g>\n  </g>\n </g>\n <defs>\n  <clipPath id=\"pdb1d889a8d\">\n   <rect height=\"217.44\" width=\"334.8\" x=\"46.965625\" y=\"7.2\"/>\n  </clipPath>\n </defs>\n</svg>\n",
      "image/png": "[encoded data removed]"
     },
     "metadata": {
      "needs_background": "light"
     }
    }
   ],
   "source": [
    "results, convergence = results_epsilon_0_1\n",
    "convergence = pd.DataFrame(convergence)\n",
    "plt.plot(convergence.nfe, convergence.epsilon_progress)\n",
    "plt.ylabel('$\\epsilon$ progress')\n",
    "plt.xlabel('nfe')\n",
    "plt.show()"
   ]
  },
  {
   "cell_type": "markdown",
   "metadata": {},
   "source": [
    "## Resulting optimal policies\n",
    "The algorithm found a singleolutions., which is the most optimal for the reference, worst-case case scenario. The algorithm converges after around 3800 nfes, and there is a single policy pareto dominant to all other possible solutions: The do-nothing alternatives. This implicates that for the selected worst case scenario, it is optimal for the Overijssel province to not take any action. This is an important insight, as it shows that when thinking about the worst-case scenario in terms of deaths, it is Gelderland that has to take action. However, it shows another important aspect to consider when confronted with deep uncertainty: The necessaty to assess this specific policy resulting from MORDM under deep uncertainty for the Overijssel province and then run multiple optimizations based on differently selected reference case scenarios"
   ]
  },
  {
   "cell_type": "code",
   "execution_count": 27,
   "metadata": {},
   "outputs": [
    {
     "output_type": "execute_result",
     "data": {
      "text/plain": "   0_RfR 0  0_RfR 1  0_RfR 2  1_RfR 0  1_RfR 1  1_RfR 2  2_RfR 0  2_RfR 1  \\\n0        0        0        0        0        0        0        0        0   \n\n   2_RfR 2  3_RfR 0  ...  A.5_DikeIncrease 0  A.5_DikeIncrease 1  \\\n0        0        0  ...                   0                   0   \n\n   A.5_DikeIncrease 2  A4 Expected Annual Damage  A5 Expected Annual Damage  \\\n0                   0                        0.0                        0.0   \n\n   A4 Expected Number of Deaths  A5 Expected Number of Deaths  \\\n0                           0.0                           0.0   \n\n   A1_5 Dike Investment Costs  Room for River Investment Costs  \\\n0                         0.0                              0.0   \n\n   Evacuation Costs  \n0               0.0  \n\n[1 rows x 38 columns]",
      "text/html": "<div>\n<style scoped>\n    .dataframe tbody tr th:only-of-type {\n        vertical-align: middle;\n    }\n\n    .dataframe tbody tr th {\n        vertical-align: top;\n    }\n\n    .dataframe thead th {\n        text-align: right;\n    }\n</style>\n<table border=\"1\" class=\"dataframe\">\n  <thead>\n    <tr style=\"text-align: right;\">\n      <th></th>\n      <th>0_RfR 0</th>\n      <th>0_RfR 1</th>\n      <th>0_RfR 2</th>\n      <th>1_RfR 0</th>\n      <th>1_RfR 1</th>\n      <th>1_RfR 2</th>\n      <th>2_RfR 0</th>\n      <th>2_RfR 1</th>\n      <th>2_RfR 2</th>\n      <th>3_RfR 0</th>\n      <th>...</th>\n      <th>A.5_DikeIncrease 0</th>\n      <th>A.5_DikeIncrease 1</th>\n      <th>A.5_DikeIncrease 2</th>\n      <th>A4 Expected Annual Damage</th>\n      <th>A5 Expected Annual Damage</th>\n      <th>A4 Expected Number of Deaths</th>\n      <th>A5 Expected Number of Deaths</th>\n      <th>A1_5 Dike Investment Costs</th>\n      <th>Room for River Investment Costs</th>\n      <th>Evacuation Costs</th>\n    </tr>\n  </thead>\n  <tbody>\n    <tr>\n      <th>0</th>\n      <td>0</td>\n      <td>0</td>\n      <td>0</td>\n      <td>0</td>\n      <td>0</td>\n      <td>0</td>\n      <td>0</td>\n      <td>0</td>\n      <td>0</td>\n      <td>0</td>\n      <td>...</td>\n      <td>0</td>\n      <td>0</td>\n      <td>0</td>\n      <td>0.0</td>\n      <td>0.0</td>\n      <td>0.0</td>\n      <td>0.0</td>\n      <td>0.0</td>\n      <td>0.0</td>\n      <td>0.0</td>\n    </tr>\n  </tbody>\n</table>\n<p>1 rows × 38 columns</p>\n</div>"
     },
     "metadata": {},
     "execution_count": 27
    }
   ],
   "source": [
    "results"
   ]
  },
  {
   "cell_type": "markdown",
   "metadata": {},
   "source": [
    "## Re-Evaluate under deep uncertainty\n",
    "We now re-evaluate the single-outcome under deep uncertainty for the Overijssel province."
   ]
  },
  {
   "cell_type": "code",
   "execution_count": 30,
   "metadata": {},
   "outputs": [],
   "source": [
    "policies = results.iloc[:,0:31]\n",
    "policies_to_evaluate = []\n",
    "\n",
    "for i, policy in policies.iterrows():\n",
    "    policies_to_evaluate.append(Policy(str(i), **policy.to_dict()))"
   ]
  },
  {
   "cell_type": "code",
   "execution_count": 31,
   "metadata": {
    "tags": []
   },
   "outputs": [
    {
     "output_type": "stream",
     "name": "stderr",
     "text": "[MainProcess/INFO] pool started\n[MainProcess/INFO] performing 1000 scenarios * 1 policies * 1 model(s) = 1000 experiments\n[MainProcess/INFO] 100 cases completed\n[MainProcess/INFO] 200 cases completed\n[MainProcess/INFO] 300 cases completed\n[MainProcess/INFO] 400 cases completed\n[MainProcess/INFO] 500 cases completed\n[MainProcess/INFO] 600 cases completed\n[MainProcess/INFO] 700 cases completed\n[MainProcess/INFO] 800 cases completed\n[MainProcess/INFO] 900 cases completed\n[MainProcess/INFO] 1000 cases completed\n[MainProcess/INFO] experiments finished\n[MainProcess/INFO] terminating pool\n"
    }
   ],
   "source": [
    "ema_logging.log_to_stderr(ema_logging.INFO)\n",
    "\n",
    "with MultiprocessingEvaluator(dike_model) as evaluator:\n",
    "    results = evaluator.perform_experiments(n_scenarios, policies_to_evaluate)"
   ]
  },
  {
   "cell_type": "code",
   "execution_count": 32,
   "metadata": {
    "tags": []
   },
   "outputs": [
    {
     "output_type": "stream",
     "name": "stderr",
     "text": "[MainProcess/INFO] results saved successfully to /Users/ricoherzog/OneDrive/Uni/2019-2020 WiSe Den Haag/Q4/EPA1361 Model Based Decision Making/05_Project/model-based-decision-making/results/DeepUncertainty1policy_1000scenarios_Overijjsel.tar.gz\n"
    }
   ],
   "source": [
    "#Save results\n",
    "save_results(results, \"../results/DeepUncertainty1policy_1000scenarios_Overijjsel.tar.gz\")"
   ]
  },
  {
   "cell_type": "markdown",
   "metadata": {},
   "source": [
    "### Signal-to-noise Ratio\n",
    "To assess the robustness of the do-nothing policy for Overijssel, we calculate the signal-to-noise ratio."
   ]
  },
  {
   "cell_type": "code",
   "execution_count": 7,
   "metadata": {},
   "outputs": [],
   "source": [
    "def s_to_n(data, direction):\n",
    "    mean = np.mean(data)\n",
    "    std = np.std(data)\n",
    "    \n",
    "    if direction==ScalarOutcome.MAXIMIZE:\n",
    "        return mean/std\n",
    "    else:\n",
    "        return mean*std"
   ]
  },
  {
   "cell_type": "code",
   "execution_count": 8,
   "metadata": {},
   "outputs": [
    {
     "output_type": "execute_result",
     "data": {
      "text/plain": "   A1_5 Dike Investment Costs  A4 Expected Annual Damage  \\\n0                         0.0               5.840764e+14   \n\n   A4 Expected Number of Deaths  A5 Expected Annual Damage  \\\n0                      0.000118               1.046700e+16   \n\n   A5 Expected Number of Deaths  Evacuation Costs  \\\n0                      0.008415               0.0   \n\n   Room for River Investment Costs  \n0                              0.0  ",
      "text/html": "<div>\n<style scoped>\n    .dataframe tbody tr th:only-of-type {\n        vertical-align: middle;\n    }\n\n    .dataframe tbody tr th {\n        vertical-align: top;\n    }\n\n    .dataframe thead th {\n        text-align: right;\n    }\n</style>\n<table border=\"1\" class=\"dataframe\">\n  <thead>\n    <tr style=\"text-align: right;\">\n      <th></th>\n      <th>A1_5 Dike Investment Costs</th>\n      <th>A4 Expected Annual Damage</th>\n      <th>A4 Expected Number of Deaths</th>\n      <th>A5 Expected Annual Damage</th>\n      <th>A5 Expected Number of Deaths</th>\n      <th>Evacuation Costs</th>\n      <th>Room for River Investment Costs</th>\n    </tr>\n  </thead>\n  <tbody>\n    <tr>\n      <th>0</th>\n      <td>0.0</td>\n      <td>5.840764e+14</td>\n      <td>0.000118</td>\n      <td>1.046700e+16</td>\n      <td>0.008415</td>\n      <td>0.0</td>\n      <td>0.0</td>\n    </tr>\n  </tbody>\n</table>\n</div>"
     },
     "metadata": {},
     "execution_count": 8
    }
   ],
   "source": [
    "experiments, outcomes = results\n",
    "\n",
    "overall_scores = {}\n",
    "for policy in np.unique(experiments['policy']):\n",
    "    scores = {}\n",
    "    \n",
    "    logical = experiments['policy']==policy\n",
    "    \n",
    "    for outcome in dike_model.outcomes:\n",
    "        value  = outcomes[outcome.name][logical]\n",
    "        sn_ratio = s_to_n(value, outcome.kind)\n",
    "        scores[outcome.name] = sn_ratio\n",
    "    overall_scores[policy] = scores\n",
    "scores = pd.DataFrame.from_dict(overall_scores).T\n",
    "scores"
   ]
  },
  {
   "cell_type": "markdown",
   "metadata": {},
   "source": [
    "### Maximum Regret\n",
    "As the maximum regret measure compares different policies against each other, it is not feasible to calculate when only one single optimal policy is assessed"
   ]
  },
  {
   "cell_type": "markdown",
   "metadata": {},
   "source": [
    "# !\n",
    "# Start running from here\n",
    "## (After running the first three cells)"
   ]
  },
  {
   "cell_type": "code",
   "execution_count": 9,
   "metadata": {
    "tags": []
   },
   "outputs": [
    {
     "output_type": "stream",
     "name": "stderr",
     "text": "[MainProcess/INFO] results loaded succesfully from /Users/ignasicortes/Documents/EPA/Year_1/Q4/1.Model_Based_Decision_Making/model-based-decision-making/results/DeepUncertainty8policies_1000scenarios_Overijjsel.tar.gz\n"
    }
   ],
   "source": [
    "#Load results\n",
    "results = load_results(\"../results/DeepUncertainty8policies_1000scenarios_Overijjsel.tar.gz\")"
   ]
  },
  {
   "cell_type": "markdown",
   "metadata": {},
   "source": [
    "## Scenario Discovery\n",
    "We perform Scenario Discovery using the PRIM-algorithm to discover such scenarios in which the robust policies fail. We focus on such scenarios where death and damages occur."
   ]
  },
  {
   "cell_type": "code",
   "execution_count": null,
   "metadata": {},
   "outputs": [],
   "source": []
  },
  {
   "cell_type": "code",
   "execution_count": 10,
   "metadata": {
    "tags": []
   },
   "outputs": [
    {
     "output_type": "stream",
     "name": "stderr",
     "text": "[MainProcess/INFO] 1000 points remaining, containing 519 cases of interest\n[MainProcess/INFO] mean: 1.0, mass: 0.141, coverage: 0.27167630057803466, density: 1.0 restricted_dimensions: 6\n"
    }
   ],
   "source": [
    "x = experiments.iloc[:,0:19]\n",
    "\n",
    "outcomes[\"selection\"] = outcomes[\"A4 Expected Annual Damage\"] + outcomes[\"A5 Expected Annual Damage\"] + outcomes[\"A4 Expected Number of Deaths\"] + outcomes[\"A5 Expected Number of Deaths\"]\n",
    "\n",
    "y =  outcomes[\"selection\"] > 0 \n",
    "prim_alg = prim.Prim(x,y, threshold=0.5)\n",
    "box = prim_alg.find_box()"
   ]
  },
  {
   "cell_type": "code",
   "execution_count": 11,
   "metadata": {},
   "outputs": [
    {
     "output_type": "execute_result",
     "data": {
      "text/html": "\n<div id=\"altair-viz-f941a17476fd42698042eb42e6763ece\"></div>\n<script type=\"text/javascript\">\n  (function(spec, embedOpt){\n    let outputDiv = document.currentScript.previousElementSibling;\n    if (outputDiv.id !== \"altair-viz-f941a17476fd42698042eb42e6763ece\") {\n      outputDiv = document.getElementById(\"altair-viz-f941a17476fd42698042eb42e6763ece\");\n    }\n    const paths = {\n      \"vega\": \"https://cdn.jsdelivr.net/npm//vega@5?noext\",\n      \"vega-lib\": \"https://cdn.jsdelivr.net/npm//vega-lib?noext\",\n      \"vega-lite\": \"https://cdn.jsdelivr.net/npm//vega-lite@4.8.1?noext\",\n      \"vega-embed\": \"https://cdn.jsdelivr.net/npm//vega-embed@6?noext\",\n    };\n\n    function loadScript(lib) {\n      return new Promise(function(resolve, reject) {\n        var s = document.createElement('script');\n        s.src = paths[lib];\n        s.async = true;\n        s.onload = () => resolve(paths[lib]);\n        s.onerror = () => reject(`Error loading script: ${paths[lib]}`);\n        document.getElementsByTagName(\"head\")[0].appendChild(s);\n      });\n    }\n\n    function showError(err) {\n      outputDiv.innerHTML = `<div class=\"error\" style=\"color:red;\">${err}</div>`;\n      throw err;\n    }\n\n    function displayChart(vegaEmbed) {\n      vegaEmbed(outputDiv, spec, embedOpt)\n        .catch(err => showError(`Javascript Error: ${err.message}<br>This usually means there's a typo in your chart specification. See the javascript console for the full traceback.`));\n    }\n\n    if(typeof define === \"function\" && define.amd) {\n      requirejs.config({paths});\n      require([\"vega-embed\"], displayChart, err => showError(`Error loading script: ${err.message}`));\n    } else if (typeof vegaEmbed === \"function\") {\n      displayChart(vegaEmbed);\n    } else {\n      loadScript(\"vega\")\n        .then(() => loadScript(\"vega-lite\"))\n        .then(() => loadScript(\"vega-embed\"))\n        .catch(showError)\n        .then(() => displayChart(vegaEmbed));\n    }\n  })({\"config\": {\"view\": {\"continuousWidth\": 400, \"continuousHeight\": 300}}, \"vconcat\": [{\"data\": {\"name\": \"data-a29a61df7943f91c21510c0852429616\"}, \"mark\": {\"type\": \"circle\", \"size\": 75}, \"encoding\": {\"color\": {\"type\": \"ordinal\", \"field\": \"res_dim\", \"scale\": {\"range\": [\"#eff9b6\", \"#d0edb3\", \"#97d6b9\", \"#5dc0c0\", \"#31a5c2\", \"#1f80b8\", \"#2354a3\", \"#21318d\"]}}, \"opacity\": {\"condition\": {\"value\": 1, \"selection\": \"selector001\"}, \"value\": 0.4}, \"tooltip\": [{\"type\": \"ordinal\", \"field\": \"id\"}, {\"type\": \"quantitative\", \"field\": \"coverage\", \"format\": \".2\"}, {\"type\": \"quantitative\", \"field\": \"density\", \"format\": \".2\"}, {\"type\": \"ordinal\", \"field\": \"res_dim\"}], \"x\": {\"type\": \"quantitative\", \"field\": \"coverage\"}, \"y\": {\"type\": \"quantitative\", \"field\": \"density\"}}, \"height\": 400, \"selection\": {\"selector001\": {\"type\": \"single\", \"fields\": [\"id\"]}}, \"width\": 400}, {\"layer\": [{\"data\": {\"name\": \"data-bdb37449191c9474f8514e5978745d7f\"}, \"mark\": \"rule\", \"encoding\": {\"x\": {\"type\": \"quantitative\", \"axis\": {\"grid\": false, \"labels\": false, \"title\": \"box limits\"}, \"field\": \"x_lower\", \"scale\": {\"domain\": [0, 1], \"padding\": 0.1}}, \"x2\": {\"field\": \"x_upper\"}, \"y\": {\"type\": \"nominal\", \"field\": \"name\", \"scale\": {\"padding\": 1.0}}}, \"transform\": [{\"calculate\": \"(datum.x1-datum.minimum)/(datum.maximum-datum.minimum)\", \"as\": \"x_lower\"}, {\"calculate\": \"(datum.x2-datum.minimum)/(datum.maximum-datum.minimum)\", \"as\": \"x_upper\"}, {\"filter\": {\"selection\": \"selector001\"}}], \"width\": 400}, {\"data\": {\"name\": \"data-bdb37449191c9474f8514e5978745d7f\"}, \"mark\": {\"type\": \"text\", \"align\": \"left\", \"baseline\": \"top\", \"dy\": 5}, \"encoding\": {\"text\": {\"type\": \"ordinal\", \"field\": \"text\"}, \"x\": {\"type\": \"quantitative\", \"axis\": {\"grid\": false, \"labels\": false, \"title\": \"box limits\"}, \"field\": \"x_lower\", \"scale\": {\"domain\": [0, 1], \"padding\": 0.1}}, \"x2\": {\"field\": \"x_upper\"}, \"y\": {\"type\": \"nominal\", \"field\": \"name\", \"scale\": {\"padding\": 1.0}}}, \"transform\": [{\"calculate\": \"(datum.x1-datum.minimum)/(datum.maximum-datum.minimum)\", \"as\": \"x_lower\"}, {\"calculate\": \"(datum.x2-datum.minimum)/(datum.maximum-datum.minimum)\", \"as\": \"x_upper\"}, {\"filter\": {\"selection\": \"selector001\"}}, {\"calculate\": \"datum.qp_lower>0?format(datum.x1, \\\".2\\\")+\\\" (\\\"+format(datum.qp_lower, \\\".1~g\\\")+\\\")\\\" :format(datum.x1, \\\".2\\\")\", \"as\": \"text\"}], \"width\": 400}, {\"data\": {\"name\": \"data-bdb37449191c9474f8514e5978745d7f\"}, \"mark\": {\"type\": \"text\", \"align\": \"right\", \"baseline\": \"top\", \"dy\": 5}, \"encoding\": {\"text\": {\"type\": \"ordinal\", \"field\": \"text\"}, \"x\": {\"type\": \"quantitative\", \"field\": \"x_upper\"}, \"x2\": {\"field\": \"x_upper\"}, \"y\": {\"type\": \"nominal\", \"field\": \"name\", \"scale\": {\"padding\": 1.0}}}, \"transform\": [{\"calculate\": \"(datum.x1-datum.minimum)/(datum.maximum-datum.minimum)\", \"as\": \"x_lower\"}, {\"calculate\": \"(datum.x2-datum.minimum)/(datum.maximum-datum.minimum)\", \"as\": \"x_upper\"}, {\"filter\": {\"selection\": \"selector001\"}}, {\"calculate\": \"datum.qp_upper>0?format(datum.x2, \\\".2\\\")+\\\" (\\\"+format(datum.qp_upper, \\\".1\\\")+\\\")\\\" :format(datum.x2, \\\".2\\\")\", \"as\": \"text\"}], \"width\": 400}, {\"data\": {\"name\": \"data-bb8d07f6df3d47a6a475317795287b23\"}, \"mark\": {\"type\": \"rect\", \"opacity\": 0.05}, \"encoding\": {\"x\": {\"type\": \"quantitative\", \"field\": \"start\"}, \"x2\": {\"field\": \"end\"}}}, {\"data\": {\"name\": \"data-d751713988987e9331980363e24189ce\"}, \"mark\": \"point\", \"encoding\": {\"x\": {\"type\": \"quantitative\", \"field\": \"x\"}, \"y\": {\"type\": \"nominal\", \"field\": \"name\"}}, \"transform\": [{\"filter\": {\"selection\": \"selector001\"}}], \"width\": 400}, {\"data\": {\"name\": \"data-d751713988987e9331980363e24189ce\"}, \"mark\": {\"type\": \"text\", \"align\": \"center\", \"baseline\": \"top\", \"dy\": 5}, \"encoding\": {\"text\": {\"type\": \"nominal\", \"field\": \"item\"}, \"x\": {\"type\": \"quantitative\", \"field\": \"x\"}, \"y\": {\"type\": \"nominal\", \"field\": \"name\"}}, \"transform\": [{\"filter\": {\"selection\": \"selector001\"}}], \"width\": 400}]}], \"$schema\": \"https://vega.github.io/schema/vega-lite/v4.8.1.json\", \"datasets\": {\"data-a29a61df7943f91c21510c0852429616\": [{\"coverage\": 1.0, \"density\": 0.519, \"id\": 0, \"mass\": 1.0, \"mean\": 0.519, \"res_dim\": 0}, {\"coverage\": 0.9942196531791907, \"density\": 0.5431578947368421, \"id\": 1, \"mass\": 0.95, \"mean\": 0.5431578947368421, \"res_dim\": 1}, {\"coverage\": 0.9865125240847784, \"density\": 0.5676274944567627, \"id\": 2, \"mass\": 0.902, \"mean\": 0.5676274944567627, \"res_dim\": 1}, {\"coverage\": 0.9653179190751445, \"density\": 0.5852803738317757, \"id\": 3, \"mass\": 0.856, \"mean\": 0.5852803738317757, \"res_dim\": 1}, {\"coverage\": 0.9402697495183044, \"density\": 0.6002460024600246, \"id\": 4, \"mass\": 0.813, \"mean\": 0.6002460024600246, \"res_dim\": 2}, {\"coverage\": 0.9190751445086706, \"density\": 0.6178756476683938, \"id\": 5, \"mass\": 0.772, \"mean\": 0.6178756476683938, \"res_dim\": 2}, {\"coverage\": 0.8978805394990366, \"density\": 0.635743519781719, \"id\": 6, \"mass\": 0.733, \"mean\": 0.635743519781719, \"res_dim\": 2}, {\"coverage\": 0.8728323699421965, \"density\": 0.6508620689655172, \"id\": 7, \"mass\": 0.696, \"mean\": 0.6508620689655172, \"res_dim\": 3}, {\"coverage\": 0.8458574181117534, \"density\": 0.6641452344931922, \"id\": 8, \"mass\": 0.661, \"mean\": 0.6641452344931922, \"res_dim\": 3}, {\"coverage\": 0.8246628131021194, \"density\": 0.682615629984051, \"id\": 9, \"mass\": 0.627, \"mean\": 0.682615629984051, \"res_dim\": 3}, {\"coverage\": 0.7996146435452793, \"density\": 0.6974789915966386, \"id\": 10, \"mass\": 0.595, \"mean\": 0.6974789915966386, \"res_dim\": 3}, {\"coverage\": 0.7745664739884393, \"density\": 0.7115044247787611, \"id\": 11, \"mass\": 0.565, \"mean\": 0.7115044247787611, \"res_dim\": 4}, {\"coverage\": 0.7495183044315993, \"density\": 0.7257462686567164, \"id\": 12, \"mass\": 0.536, \"mean\": 0.7257462686567164, \"res_dim\": 4}, {\"coverage\": 0.7263969171483622, \"density\": 0.7406679764243614, \"id\": 13, \"mass\": 0.509, \"mean\": 0.7406679764243614, \"res_dim\": 4}, {\"coverage\": 0.7032755298651252, \"density\": 0.7556935817805382, \"id\": 14, \"mass\": 0.483, \"mean\": 0.7556935817805382, \"res_dim\": 4}, {\"coverage\": 0.6801541425818882, \"density\": 0.7707423580786026, \"id\": 15, \"mass\": 0.458, \"mean\": 0.7707423580786026, \"res_dim\": 4}, {\"coverage\": 0.6628131021194605, \"density\": 0.7908045977011494, \"id\": 16, \"mass\": 0.435, \"mean\": 0.7908045977011494, \"res_dim\": 4}, {\"coverage\": 0.6454720616570327, \"density\": 0.8111380145278451, \"id\": 17, \"mass\": 0.413, \"mean\": 0.8111380145278451, \"res_dim\": 4}, {\"coverage\": 0.6204238921001927, \"density\": 0.8214285714285714, \"id\": 18, \"mass\": 0.392, \"mean\": 0.8214285714285714, \"res_dim\": 4}, {\"coverage\": 0.5973025048169557, \"density\": 0.8333333333333334, \"id\": 19, \"mass\": 0.372, \"mean\": 0.8333333333333334, \"res_dim\": 4}, {\"coverage\": 0.5741811175337187, \"density\": 0.8441926345609065, \"id\": 20, \"mass\": 0.353, \"mean\": 0.8441926345609065, \"res_dim\": 4}, {\"coverage\": 0.5510597302504817, \"density\": 0.8537313432835821, \"id\": 21, \"mass\": 0.335, \"mean\": 0.8537313432835821, \"res_dim\": 4}, {\"coverage\": 0.5298651252408478, \"density\": 0.8647798742138365, \"id\": 22, \"mass\": 0.318, \"mean\": 0.8647798742138365, \"res_dim\": 4}, {\"coverage\": 0.5086705202312138, \"density\": 0.8741721854304636, \"id\": 23, \"mass\": 0.302, \"mean\": 0.8741721854304636, \"res_dim\": 4}, {\"coverage\": 0.49903660886319845, \"density\": 0.9055944055944056, \"id\": 24, \"mass\": 0.286, \"mean\": 0.9055944055944056, \"res_dim\": 4}, {\"coverage\": 0.47784200385356457, \"density\": 0.915129151291513, \"id\": 25, \"mass\": 0.271, \"mean\": 0.915129151291513, \"res_dim\": 4}, {\"coverage\": 0.45857418111753373, \"density\": 0.9260700389105059, \"id\": 26, \"mass\": 0.257, \"mean\": 0.9260700389105059, \"res_dim\": 5}, {\"coverage\": 0.4393063583815029, \"density\": 0.9344262295081968, \"id\": 27, \"mass\": 0.244, \"mean\": 0.9344262295081968, \"res_dim\": 5}, {\"coverage\": 0.42196531791907516, \"density\": 0.948051948051948, \"id\": 28, \"mass\": 0.231, \"mean\": 0.948051948051948, \"res_dim\": 5}, {\"coverage\": 0.4026974951830443, \"density\": 0.954337899543379, \"id\": 29, \"mass\": 0.219, \"mean\": 0.954337899543379, \"res_dim\": 5}, {\"coverage\": 0.3853564547206166, \"density\": 0.9615384615384616, \"id\": 30, \"mass\": 0.208, \"mean\": 0.9615384615384616, \"res_dim\": 5}, {\"coverage\": 0.36416184971098264, \"density\": 0.9692307692307692, \"id\": 31, \"mass\": 0.195, \"mean\": 0.9692307692307692, \"res_dim\": 6}, {\"coverage\": 0.3468208092485549, \"density\": 0.972972972972973, \"id\": 32, \"mass\": 0.185, \"mean\": 0.972972972972973, \"res_dim\": 6}, {\"coverage\": 0.32947976878612717, \"density\": 0.9771428571428571, \"id\": 33, \"mass\": 0.175, \"mean\": 0.9771428571428571, \"res_dim\": 6}, {\"coverage\": 0.3140655105973025, \"density\": 0.9819277108433735, \"id\": 34, \"mass\": 0.166, \"mean\": 0.9819277108433735, \"res_dim\": 6}, {\"coverage\": 0.29865125240847784, \"density\": 0.9872611464968153, \"id\": 35, \"mass\": 0.157, \"mean\": 0.9872611464968153, \"res_dim\": 6}, {\"coverage\": 0.28516377649325625, \"density\": 0.9932885906040269, \"id\": 36, \"mass\": 0.149, \"mean\": 0.9932885906040269, \"res_dim\": 6}, {\"coverage\": 0.27167630057803466, \"density\": 1.0, \"id\": 37, \"mass\": 0.141, \"mean\": 1.0, \"res_dim\": 6}], \"data-bdb37449191c9474f8514e5978745d7f\": [{\"x1\": 0.049767844851454274, \"x2\": 0.9991454926718848, \"name\": \"A.3_pfail\", \"id\": 1, \"minimum\": 0.0008390457410036459, \"maximum\": 0.9991454926718848, \"qp_lower\": 0.07236385224038575, \"qp_upper\": -1.0}, {\"x1\": 0.09804296538503879, \"x2\": 0.9991454926718848, \"name\": \"A.3_pfail\", \"id\": 2, \"minimum\": 0.0008390457410036459, \"maximum\": 0.9991454926718848, \"qp_lower\": 0.001897136947801736, \"qp_upper\": -1.0}, {\"x1\": 0.14399838165910434, \"x2\": 0.9991454926718848, \"name\": \"A.3_pfail\", \"id\": 3, \"minimum\": 0.0008390457410036459, \"maximum\": 0.9991454926718848, \"qp_lower\": 5.710000934300228e-05, \"qp_upper\": -1.0}, {\"x1\": 0.053368738497541805, \"x2\": 0.999656732701972, \"name\": \"A.2_pfail\", \"id\": 4, \"minimum\": 0.0003508463103261125, \"maximum\": 0.999656732701972, \"qp_lower\": 0.20330335758676651, \"qp_upper\": -1.0}, {\"x1\": 0.14399838165910434, \"x2\": 0.9991454926718848, \"name\": \"A.3_pfail\", \"id\": 4, \"minimum\": 0.0008390457410036459, \"maximum\": 0.9991454926718848, \"qp_lower\": 8.881295512838592e-05, \"qp_upper\": -1.0}, {\"x1\": 0.09498434947817494, \"x2\": 0.999656732701972, \"name\": \"A.2_pfail\", \"id\": 5, \"minimum\": 0.0003508463103261125, \"maximum\": 0.999656732701972, \"qp_lower\": 0.03538965993294612, \"qp_upper\": -1.0}, {\"x1\": 0.14399838165910434, \"x2\": 0.9991454926718848, \"name\": \"A.3_pfail\", \"id\": 5, \"minimum\": 0.0008390457410036459, \"maximum\": 0.9991454926718848, \"qp_lower\": 3.9929812215436316e-05, \"qp_upper\": -1.0}, {\"x1\": 0.13525174617227606, \"x2\": 0.999656732701972, \"name\": \"A.2_pfail\", \"id\": 6, \"minimum\": 0.0003508463103261125, \"maximum\": 0.999656732701972, \"qp_lower\": 0.0029637031617942666, \"qp_upper\": -1.0}, {\"x1\": 0.14399838165910434, \"x2\": 0.9991454926718848, \"name\": \"A.3_pfail\", \"id\": 6, \"minimum\": 0.0008390457410036459, \"maximum\": 0.9991454926718848, \"qp_lower\": 1.658326512053562e-05, \"qp_upper\": -1.0}, {\"x1\": 0.13525174617227606, \"x2\": 0.999656732701972, \"name\": \"A.2_pfail\", \"id\": 7, \"minimum\": 0.0003508463103261125, \"maximum\": 0.999656732701972, \"qp_lower\": 0.0020994642392059394, \"qp_upper\": -1.0}, {\"x1\": 0.14399838165910434, \"x2\": 0.9991454926718848, \"name\": \"A.3_pfail\", \"id\": 7, \"minimum\": 0.0008390457410036459, \"maximum\": 0.9991454926718848, \"qp_lower\": 2.2552794756753596e-05, \"qp_upper\": -1.0}, {\"x1\": 0.0009038766408242328, \"x2\": 0.9523771212528203, \"name\": \"A.4_pfail\", \"id\": 7, \"minimum\": 0.0009038766408242328, \"maximum\": 0.9990959650306036, \"qp_lower\": -1.0, \"qp_upper\": 0.21532511210748342}, {\"x1\": 0.13525174617227606, \"x2\": 0.999656732701972, \"name\": \"A.2_pfail\", \"id\": 8, \"minimum\": 0.0003508463103261125, \"maximum\": 0.999656732701972, \"qp_lower\": 0.0013038115307768623, \"qp_upper\": -1.0}, {\"x1\": 0.14399838165910434, \"x2\": 0.9991454926718848, \"name\": \"A.3_pfail\", \"id\": 8, \"minimum\": 0.0008390457410036459, \"maximum\": 0.9991454926718848, \"qp_lower\": 2.5623081646264746e-05, \"qp_upper\": -1.0}, {\"x1\": 0.0009038766408242328, \"x2\": 0.9062970652951312, \"name\": \"A.4_pfail\", \"id\": 8, \"minimum\": 0.0009038766408242328, \"maximum\": 0.9990959650306036, \"qp_lower\": -1.0, \"qp_upper\": 0.06921975335313718}, {\"x1\": 0.13525174617227606, \"x2\": 0.999656732701972, \"name\": \"A.2_pfail\", \"id\": 9, \"minimum\": 0.0003508463103261125, \"maximum\": 0.999656732701972, \"qp_lower\": 0.0014940307048939244, \"qp_upper\": -1.0}, {\"x1\": 0.14399838165910434, \"x2\": 0.9991454926718848, \"name\": \"A.3_pfail\", \"id\": 9, \"minimum\": 0.0008390457410036459, \"maximum\": 0.9991454926718848, \"qp_lower\": 2.178446124199293e-05, \"qp_upper\": -1.0}, {\"x1\": 0.0009038766408242328, \"x2\": 0.8572389742023873, \"name\": \"A.4_pfail\", \"id\": 9, \"minimum\": 0.0009038766408242328, \"maximum\": 0.9990959650306036, \"qp_lower\": -1.0, \"qp_upper\": 0.007816618898397795}, {\"x1\": 0.17726032424631294, \"x2\": 0.999656732701972, \"name\": \"A.2_pfail\", \"id\": 10, \"minimum\": 0.0003508463103261125, \"maximum\": 0.999656732701972, \"qp_lower\": 0.00012604708568716085, \"qp_upper\": -1.0}, {\"x1\": 0.14399838165910434, \"x2\": 0.9991454926718848, \"name\": \"A.3_pfail\", \"id\": 10, \"minimum\": 0.0008390457410036459, \"maximum\": 0.9991454926718848, \"qp_lower\": 2.568493893570401e-05, \"qp_upper\": -1.0}, {\"x1\": 0.0009038766408242328, \"x2\": 0.8572389742023873, \"name\": \"A.4_pfail\", \"id\": 10, \"minimum\": 0.0009038766408242328, \"maximum\": 0.9990959650306036, \"qp_lower\": -1.0, \"qp_upper\": 0.006500513235518476}, {\"x1\": 30.09120801505102, \"x2\": 333.84917462194784, \"name\": \"A.1_Bmax\", \"id\": 11, \"minimum\": 30.09120801505102, \"maximum\": 349.72615162439337, \"qp_lower\": -1.0, \"qp_upper\": 0.24930579062307182}, {\"x1\": 0.17726032424631294, \"x2\": 0.999656732701972, \"name\": \"A.2_pfail\", \"id\": 11, \"minimum\": 0.0003508463103261125, \"maximum\": 0.999656732701972, \"qp_lower\": 0.00011197965447424489, \"qp_upper\": -1.0}, {\"x1\": 0.14399838165910434, \"x2\": 0.9991454926718848, \"name\": \"A.3_pfail\", \"id\": 11, \"minimum\": 0.0008390457410036459, \"maximum\": 0.9991454926718848, \"qp_lower\": 1.2004505389304932e-05, \"qp_upper\": -1.0}, {\"x1\": 0.0009038766408242328, \"x2\": 0.8572389742023873, \"name\": \"A.4_pfail\", \"id\": 11, \"minimum\": 0.0009038766408242328, \"maximum\": 0.9990959650306036, \"qp_lower\": -1.0, \"qp_upper\": 0.007376887015227319}, {\"x1\": 30.09120801505102, \"x2\": 333.84917462194784, \"name\": \"A.1_Bmax\", \"id\": 12, \"minimum\": 30.09120801505102, \"maximum\": 349.72615162439337, \"qp_lower\": -1.0, \"qp_upper\": 0.22172327820385868}, {\"x1\": 0.17726032424631294, \"x2\": 0.999656732701972, \"name\": \"A.2_pfail\", \"id\": 12, \"minimum\": 0.0003508463103261125, \"maximum\": 0.999656732701972, \"qp_lower\": 7.645083106829685e-05, \"qp_upper\": -1.0}, {\"x1\": 0.19105197635042037, \"x2\": 0.9991454926718848, \"name\": \"A.3_pfail\", \"id\": 12, \"minimum\": 0.0008390457410036459, \"maximum\": 0.9991454926718848, \"qp_lower\": 7.036601720798576e-07, \"qp_upper\": -1.0}, {\"x1\": 0.0009038766408242328, \"x2\": 0.8572389742023873, \"name\": \"A.4_pfail\", \"id\": 12, \"minimum\": 0.0009038766408242328, \"maximum\": 0.9990959650306036, \"qp_lower\": -1.0, \"qp_upper\": 0.016125240747180143}, {\"x1\": 30.09120801505102, \"x2\": 333.84917462194784, \"name\": \"A.1_Bmax\", \"id\": 13, \"minimum\": 30.09120801505102, \"maximum\": 349.72615162439337, \"qp_lower\": -1.0, \"qp_upper\": 0.19422180588915455}, {\"x1\": 0.17726032424631294, \"x2\": 0.999656732701972, \"name\": \"A.2_pfail\", \"id\": 13, \"minimum\": 0.0003508463103261125, \"maximum\": 0.999656732701972, \"qp_lower\": 0.0001027578460191681, \"qp_upper\": -1.0}, {\"x1\": 0.19105197635042037, \"x2\": 0.9991454926718848, \"name\": \"A.3_pfail\", \"id\": 13, \"minimum\": 0.0008390457410036459, \"maximum\": 0.9991454926718848, \"qp_lower\": 1.1759499371697727e-06, \"qp_upper\": -1.0}, {\"x1\": 0.0009038766408242328, \"x2\": 0.8095230110564373, \"name\": \"A.4_pfail\", \"id\": 13, \"minimum\": 0.0009038766408242328, \"maximum\": 0.9990959650306036, \"qp_lower\": -1.0, \"qp_upper\": 0.002323475227062594}, {\"x1\": 30.09120801505102, \"x2\": 333.84917462194784, \"name\": \"A.1_Bmax\", \"id\": 14, \"minimum\": 30.09120801505102, \"maximum\": 349.72615162439337, \"qp_lower\": -1.0, \"qp_upper\": 0.1929619085168624}, {\"x1\": 0.17726032424631294, \"x2\": 0.999656732701972, \"name\": \"A.2_pfail\", \"id\": 14, \"minimum\": 0.0003508463103261125, \"maximum\": 0.999656732701972, \"qp_lower\": 0.00016358989527824895, \"qp_upper\": -1.0}, {\"x1\": 0.19105197635042037, \"x2\": 0.9991454926718848, \"name\": \"A.3_pfail\", \"id\": 14, \"minimum\": 0.0008390457410036459, \"maximum\": 0.9991454926718848, \"qp_lower\": 1.7723767409337821e-06, \"qp_upper\": -1.0}, {\"x1\": 0.0009038766408242328, \"x2\": 0.7647695534072154, \"name\": \"A.4_pfail\", \"id\": 14, \"minimum\": 0.0009038766408242328, \"maximum\": 0.9990959650306036, \"qp_lower\": -1.0, \"qp_upper\": 0.00023679957893029687}, {\"x1\": 30.09120801505102, \"x2\": 333.84917462194784, \"name\": \"A.1_Bmax\", \"id\": 15, \"minimum\": 30.09120801505102, \"maximum\": 349.72615162439337, \"qp_lower\": -1.0, \"qp_upper\": 0.16582851132261084}, {\"x1\": 0.17726032424631294, \"x2\": 0.999656732701972, \"name\": \"A.2_pfail\", \"id\": 15, \"minimum\": 0.0003508463103261125, \"maximum\": 0.999656732701972, \"qp_lower\": 0.00022801387865459938, \"qp_upper\": -1.0}, {\"x1\": 0.19105197635042037, \"x2\": 0.9991454926718848, \"name\": \"A.3_pfail\", \"id\": 15, \"minimum\": 0.0008390457410036459, \"maximum\": 0.9991454926718848, \"qp_lower\": 1.056139635607765e-06, \"qp_upper\": -1.0}, {\"x1\": 0.0009038766408242328, \"x2\": 0.7279468400291256, \"name\": \"A.4_pfail\", \"id\": 15, \"minimum\": 0.0009038766408242328, \"maximum\": 0.9990959650306036, \"qp_lower\": -1.0, \"qp_upper\": 1.7961831528961633e-05}, {\"x1\": 30.09120801505102, \"x2\": 333.84917462194784, \"name\": \"A.1_Bmax\", \"id\": 16, \"minimum\": 30.09120801505102, \"maximum\": 349.72615162439337, \"qp_lower\": -1.0, \"qp_upper\": 0.15985513313222824}, {\"x1\": 0.17726032424631294, \"x2\": 0.999656732701972, \"name\": \"A.2_pfail\", \"id\": 16, \"minimum\": 0.0003508463103261125, \"maximum\": 0.999656732701972, \"qp_lower\": 0.00013710975634934658, \"qp_upper\": -1.0}, {\"x1\": 0.19105197635042037, \"x2\": 0.9991454926718848, \"name\": \"A.3_pfail\", \"id\": 16, \"minimum\": 0.0008390457410036459, \"maximum\": 0.9991454926718848, \"qp_lower\": 1.0171283674414332e-06, \"qp_upper\": -1.0}, {\"x1\": 0.0009038766408242328, \"x2\": 0.6941097172332439, \"name\": \"A.4_pfail\", \"id\": 16, \"minimum\": 0.0009038766408242328, \"maximum\": 0.9990959650306036, \"qp_lower\": -1.0, \"qp_upper\": 3.0146995039931536e-07}, {\"x1\": 30.09120801505102, \"x2\": 333.84917462194784, \"name\": \"A.1_Bmax\", \"id\": 17, \"minimum\": 30.09120801505102, \"maximum\": 349.72615162439337, \"qp_lower\": -1.0, \"qp_upper\": 0.14822985850514236}, {\"x1\": 0.17726032424631294, \"x2\": 0.999656732701972, \"name\": \"A.2_pfail\", \"id\": 17, \"minimum\": 0.0003508463103261125, \"maximum\": 0.999656732701972, \"qp_lower\": 4.705781716242567e-05, \"qp_upper\": -1.0}, {\"x1\": 0.19105197635042037, \"x2\": 0.9991454926718848, \"name\": \"A.3_pfail\", \"id\": 17, \"minimum\": 0.0008390457410036459, \"maximum\": 0.9991454926718848, \"qp_lower\": 4.989930418277363e-07, \"qp_upper\": -1.0}, {\"x1\": 0.0009038766408242328, \"x2\": 0.6617538088249828, \"name\": \"A.4_pfail\", \"id\": 17, \"minimum\": 0.0009038766408242328, \"maximum\": 0.9990959650306036, \"qp_lower\": -1.0, \"qp_upper\": 2.714413313129453e-09}, {\"x1\": 30.09120801505102, \"x2\": 333.84917462194784, \"name\": \"A.1_Bmax\", \"id\": 18, \"minimum\": 30.09120801505102, \"maximum\": 349.72615162439337, \"qp_lower\": -1.0, \"qp_upper\": 0.1770866632041664}, {\"x1\": 0.17726032424631294, \"x2\": 0.999656732701972, \"name\": \"A.2_pfail\", \"id\": 18, \"minimum\": 0.0003508463103261125, \"maximum\": 0.999656732701972, \"qp_lower\": 7.080519680084988e-05, \"qp_upper\": -1.0}, {\"x1\": 0.22978250395846994, \"x2\": 0.9991454926718848, \"name\": \"A.3_pfail\", \"id\": 18, \"minimum\": 0.0008390457410036459, \"maximum\": 0.9991454926718848, \"qp_lower\": 7.359981545434231e-08, \"qp_upper\": -1.0}, {\"x1\": 0.0009038766408242328, \"x2\": 0.6617538088249828, \"name\": \"A.4_pfail\", \"id\": 18, \"minimum\": 0.0009038766408242328, \"maximum\": 0.9990959650306036, \"qp_lower\": -1.0, \"qp_upper\": 1.0207846232354123e-08}, {\"x1\": 30.09120801505102, \"x2\": 333.84917462194784, \"name\": \"A.1_Bmax\", \"id\": 19, \"minimum\": 30.09120801505102, \"maximum\": 349.72615162439337, \"qp_lower\": -1.0, \"qp_upper\": 0.184075843076774}, {\"x1\": 0.17726032424631294, \"x2\": 0.999656732701972, \"name\": \"A.2_pfail\", \"id\": 19, \"minimum\": 0.0003508463103261125, \"maximum\": 0.999656732701972, \"qp_lower\": 4.07351036368449e-05, \"qp_upper\": -1.0}, {\"x1\": 0.26959809655307954, \"x2\": 0.9991454926718848, \"name\": \"A.3_pfail\", \"id\": 19, \"minimum\": 0.0008390457410036459, \"maximum\": 0.9991454926718848, \"qp_lower\": 6.710095436990632e-09, \"qp_upper\": -1.0}, {\"x1\": 0.0009038766408242328, \"x2\": 0.6617538088249828, \"name\": \"A.4_pfail\", \"id\": 19, \"minimum\": 0.0009038766408242328, \"maximum\": 0.9990959650306036, \"qp_lower\": -1.0, \"qp_upper\": 1.1802165477325252e-08}, {\"x1\": 30.09120801505102, \"x2\": 333.84917462194784, \"name\": \"A.1_Bmax\", \"id\": 20, \"minimum\": 30.09120801505102, \"maximum\": 349.72615162439337, \"qp_lower\": -1.0, \"qp_upper\": 0.15469118997067752}, {\"x1\": 0.17726032424631294, \"x2\": 0.999656732701972, \"name\": \"A.2_pfail\", \"id\": 20, \"minimum\": 0.0003508463103261125, \"maximum\": 0.999656732701972, \"qp_lower\": 6.187989468168519e-05, \"qp_upper\": -1.0}, {\"x1\": 0.3068127708411469, \"x2\": 0.9991454926718848, \"name\": \"A.3_pfail\", \"id\": 20, \"minimum\": 0.0008390457410036459, \"maximum\": 0.9991454926718848, \"qp_lower\": 7.754802471282856e-10, \"qp_upper\": -1.0}, {\"x1\": 0.0009038766408242328, \"x2\": 0.6617538088249828, \"name\": \"A.4_pfail\", \"id\": 20, \"minimum\": 0.0009038766408242328, \"maximum\": 0.9990959650306036, \"qp_lower\": -1.0, \"qp_upper\": 1.4076672557837758e-08}, {\"x1\": 30.09120801505102, \"x2\": 333.84917462194784, \"name\": \"A.1_Bmax\", \"id\": 21, \"minimum\": 30.09120801505102, \"maximum\": 349.72615162439337, \"qp_lower\": -1.0, \"qp_upper\": 0.16546490386425305}, {\"x1\": 0.17726032424631294, \"x2\": 0.999656732701972, \"name\": \"A.2_pfail\", \"id\": 21, \"minimum\": 0.0003508463103261125, \"maximum\": 0.999656732701972, \"qp_lower\": 3.854694012783379e-05, \"qp_upper\": -1.0}, {\"x1\": 0.3068127708411469, \"x2\": 0.9991454926718848, \"name\": \"A.3_pfail\", \"id\": 21, \"minimum\": 0.0008390457410036459, \"maximum\": 0.9991454926718848, \"qp_lower\": 6.411168894986103e-09, \"qp_upper\": -1.0}, {\"x1\": 0.0009038766408242328, \"x2\": 0.6262603954825698, \"name\": \"A.4_pfail\", \"id\": 21, \"minimum\": 0.0009038766408242328, \"maximum\": 0.9990959650306036, \"qp_lower\": -1.0, \"qp_upper\": 2.4559694939299477e-09}, {\"x1\": 30.09120801505102, \"x2\": 333.84917462194784, \"name\": \"A.1_Bmax\", \"id\": 22, \"minimum\": 30.09120801505102, \"maximum\": 349.72615162439337, \"qp_lower\": -1.0, \"qp_upper\": 0.14714289731069538}, {\"x1\": 0.17726032424631294, \"x2\": 0.999656732701972, \"name\": \"A.2_pfail\", \"id\": 22, \"minimum\": 0.0003508463103261125, \"maximum\": 0.999656732701972, \"qp_lower\": 0.00010883165904384898, \"qp_upper\": -1.0}, {\"x1\": 0.3068127708411469, \"x2\": 0.9991454926718848, \"name\": \"A.3_pfail\", \"id\": 22, \"minimum\": 0.0008390457410036459, \"maximum\": 0.9991454926718848, \"qp_lower\": 1.782719664580848e-08, \"qp_upper\": -1.0}, {\"x1\": 0.0009038766408242328, \"x2\": 0.5886431031299382, \"name\": \"A.4_pfail\", \"id\": 22, \"minimum\": 0.0009038766408242328, \"maximum\": 0.9990959650306036, \"qp_lower\": -1.0, \"qp_upper\": 2.7135284658345035e-10}, {\"x1\": 30.09120801505102, \"x2\": 333.84917462194784, \"name\": \"A.1_Bmax\", \"id\": 23, \"minimum\": 30.09120801505102, \"maximum\": 349.72615162439337, \"qp_lower\": -1.0, \"qp_upper\": 0.19346586248087244}, {\"x1\": 0.17726032424631294, \"x2\": 0.999656732701972, \"name\": \"A.2_pfail\", \"id\": 23, \"minimum\": 0.0003508463103261125, \"maximum\": 0.999656732701972, \"qp_lower\": 0.0006956016910357791, \"qp_upper\": -1.0}, {\"x1\": 0.3068127708411469, \"x2\": 0.9991454926718848, \"name\": \"A.3_pfail\", \"id\": 23, \"minimum\": 0.0008390457410036459, \"maximum\": 0.9991454926718848, \"qp_lower\": 2.2790345614102295e-07, \"qp_upper\": -1.0}, {\"x1\": 0.0009038766408242328, \"x2\": 0.5472003257913891, \"name\": \"A.4_pfail\", \"id\": 23, \"minimum\": 0.0009038766408242328, \"maximum\": 0.9990959650306036, \"qp_lower\": -1.0, \"qp_upper\": 4.7598708410564873e-11}, {\"x1\": 30.09120801505102, \"x2\": 333.84917462194784, \"name\": \"A.1_Bmax\", \"id\": 24, \"minimum\": 30.09120801505102, \"maximum\": 349.72615162439337, \"qp_lower\": -1.0, \"qp_upper\": 0.14323963834464654}, {\"x1\": 0.17726032424631294, \"x2\": 0.999656732701972, \"name\": \"A.2_pfail\", \"id\": 24, \"minimum\": 0.0003508463103261125, \"maximum\": 0.999656732701972, \"qp_lower\": 0.00038141844113227075, \"qp_upper\": -1.0}, {\"x1\": 0.3068127708411469, \"x2\": 0.9991454926718848, \"name\": \"A.3_pfail\", \"id\": 24, \"minimum\": 0.0008390457410036459, \"maximum\": 0.9991454926718848, \"qp_lower\": 1.084552728796017e-07, \"qp_upper\": -1.0}, {\"x1\": 0.0009038766408242328, \"x2\": 0.5167389376439075, \"name\": \"A.4_pfail\", \"id\": 24, \"minimum\": 0.0009038766408242328, \"maximum\": 0.9990959650306036, \"qp_lower\": -1.0, \"qp_upper\": 4.3299647572115745e-15}, {\"x1\": 30.09120801505102, \"x2\": 333.84917462194784, \"name\": \"A.1_Bmax\", \"id\": 25, \"minimum\": 30.09120801505102, \"maximum\": 349.72615162439337, \"qp_lower\": -1.0, \"qp_upper\": 0.12346036139254885}, {\"x1\": 0.17726032424631294, \"x2\": 0.999656732701972, \"name\": \"A.2_pfail\", \"id\": 25, \"minimum\": 0.0003508463103261125, \"maximum\": 0.999656732701972, \"qp_lower\": 0.0005546710106602587, \"qp_upper\": -1.0}, {\"x1\": 0.3068127708411469, \"x2\": 0.9991454926718848, \"name\": \"A.3_pfail\", \"id\": 25, \"minimum\": 0.0008390457410036459, \"maximum\": 0.9991454926718848, \"qp_lower\": 2.2416764169947363e-07, \"qp_upper\": -1.0}, {\"x1\": 0.0009038766408242328, \"x2\": 0.4868911849888292, \"name\": \"A.4_pfail\", \"id\": 25, \"minimum\": 0.0009038766408242328, \"maximum\": 0.9990959650306036, \"qp_lower\": -1.0, \"qp_upper\": 6.254332809377879e-16}, {\"x1\": 30.09120801505102, \"x2\": 333.84917462194784, \"name\": \"A.1_Bmax\", \"id\": 26, \"minimum\": 30.09120801505102, \"maximum\": 349.72615162439337, \"qp_lower\": -1.0, \"qp_upper\": 0.1357409193574331}, {\"x1\": 0.061762028261787894, \"x2\": 0.999348330163821, \"name\": \"A.1_pfail\", \"id\": 26, \"minimum\": 0.0007573747696382608, \"maximum\": 0.999348330163821, \"qp_lower\": 0.31056000722578453, \"qp_upper\": -1.0}, {\"x1\": 0.17726032424631294, \"x2\": 0.999656732701972, \"name\": \"A.2_pfail\", \"id\": 26, \"minimum\": 0.0003508463103261125, \"maximum\": 0.999656732701972, \"qp_lower\": 0.00041846576687293535, \"qp_upper\": -1.0}, {\"x1\": 0.3068127708411469, \"x2\": 0.9991454926718848, \"name\": \"A.3_pfail\", \"id\": 26, \"minimum\": 0.0008390457410036459, \"maximum\": 0.9991454926718848, \"qp_lower\": 7.785160785922361e-07, \"qp_upper\": -1.0}, {\"x1\": 0.0009038766408242328, \"x2\": 0.4868911849888292, \"name\": \"A.4_pfail\", \"id\": 26, \"minimum\": 0.0009038766408242328, \"maximum\": 0.9990959650306036, \"qp_lower\": -1.0, \"qp_upper\": 1.0269514884420537e-15}, {\"x1\": 30.09120801505102, \"x2\": 333.84917462194784, \"name\": \"A.1_Bmax\", \"id\": 27, \"minimum\": 30.09120801505102, \"maximum\": 349.72615162439337, \"qp_lower\": -1.0, \"qp_upper\": 0.11601070041167393}, {\"x1\": 0.10695626445324072, \"x2\": 0.999348330163821, \"name\": \"A.1_pfail\", \"id\": 27, \"minimum\": 0.0007573747696382608, \"maximum\": 0.999348330163821, \"qp_lower\": 0.16704818232185611, \"qp_upper\": -1.0}, {\"x1\": 0.17726032424631294, \"x2\": 0.999656732701972, \"name\": \"A.2_pfail\", \"id\": 27, \"minimum\": 0.0003508463103261125, \"maximum\": 0.999656732701972, \"qp_lower\": 0.0006863317283179602, \"qp_upper\": -1.0}, {\"x1\": 0.3068127708411469, \"x2\": 0.9991454926718848, \"name\": \"A.3_pfail\", \"id\": 27, \"minimum\": 0.0008390457410036459, \"maximum\": 0.9991454926718848, \"qp_lower\": 3.758562396930243e-07, \"qp_upper\": -1.0}, {\"x1\": 0.0009038766408242328, \"x2\": 0.4868911849888292, \"name\": \"A.4_pfail\", \"id\": 27, \"minimum\": 0.0009038766408242328, \"maximum\": 0.9990959650306036, \"qp_lower\": -1.0, \"qp_upper\": 5.097804080539572e-15}, {\"x1\": 30.09120801505102, \"x2\": 333.84917462194784, \"name\": \"A.1_Bmax\", \"id\": 28, \"minimum\": 30.09120801505102, \"maximum\": 349.72615162439337, \"qp_lower\": -1.0, \"qp_upper\": 0.08604543438367798}, {\"x1\": 0.16454822586979023, \"x2\": 0.999348330163821, \"name\": \"A.1_pfail\", \"id\": 28, \"minimum\": 0.0007573747696382608, \"maximum\": 0.999348330163821, \"qp_lower\": 0.0399277518857481, \"qp_upper\": -1.0}, {\"x1\": 0.17726032424631294, \"x2\": 0.999656732701972, \"name\": \"A.2_pfail\", \"id\": 28, \"minimum\": 0.0003508463103261125, \"maximum\": 0.999656732701972, \"qp_lower\": 0.00017650880839603734, \"qp_upper\": -1.0}, {\"x1\": 0.3068127708411469, \"x2\": 0.9991454926718848, \"name\": \"A.3_pfail\", \"id\": 28, \"minimum\": 0.0008390457410036459, \"maximum\": 0.9991454926718848, \"qp_lower\": 1.052793149146774e-06, \"qp_upper\": -1.0}, {\"x1\": 0.0009038766408242328, \"x2\": 0.4868911849888292, \"name\": \"A.4_pfail\", \"id\": 28, \"minimum\": 0.0009038766408242328, \"maximum\": 0.9990959650306036, \"qp_lower\": -1.0, \"qp_upper\": 3.610943433330365e-14}, {\"x1\": 30.09120801505102, \"x2\": 333.84917462194784, \"name\": \"A.1_Bmax\", \"id\": 29, \"minimum\": 30.09120801505102, \"maximum\": 349.72615162439337, \"qp_lower\": -1.0, \"qp_upper\": 0.07055973234721173}, {\"x1\": 0.19566727956343488, \"x2\": 0.999348330163821, \"name\": \"A.1_pfail\", \"id\": 29, \"minimum\": 0.0007573747696382608, \"maximum\": 0.999348330163821, \"qp_lower\": 0.01856634719895303, \"qp_upper\": -1.0}, {\"x1\": 0.17726032424631294, \"x2\": 0.999656732701972, \"name\": \"A.2_pfail\", \"id\": 29, \"minimum\": 0.0003508463103261125, \"maximum\": 0.999656732701972, \"qp_lower\": 0.00013445003496757857, \"qp_upper\": -1.0}, {\"x1\": 0.3068127708411469, \"x2\": 0.9991454926718848, \"name\": \"A.3_pfail\", \"id\": 29, \"minimum\": 0.0008390457410036459, \"maximum\": 0.9991454926718848, \"qp_lower\": 9.149846844974297e-07, \"qp_upper\": -1.0}, {\"x1\": 0.0009038766408242328, \"x2\": 0.4868911849888292, \"name\": \"A.4_pfail\", \"id\": 29, \"minimum\": 0.0009038766408242328, \"maximum\": 0.9990959650306036, \"qp_lower\": -1.0, \"qp_upper\": 1.0807920624017578e-13}, {\"x1\": 30.09120801505102, \"x2\": 333.84917462194784, \"name\": \"A.1_Bmax\", \"id\": 30, \"minimum\": 30.09120801505102, \"maximum\": 349.72615162439337, \"qp_lower\": -1.0, \"qp_upper\": 0.08487419439758269}, {\"x1\": 0.24291920177390103, \"x2\": 0.999348330163821, \"name\": \"A.1_pfail\", \"id\": 30, \"minimum\": 0.0007573747696382608, \"maximum\": 0.999348330163821, \"qp_lower\": 0.006695735996330563, \"qp_upper\": -1.0}, {\"x1\": 0.17726032424631294, \"x2\": 0.999656732701972, \"name\": \"A.2_pfail\", \"id\": 30, \"minimum\": 0.0003508463103261125, \"maximum\": 0.999656732701972, \"qp_lower\": 0.00047257060974635986, \"qp_upper\": -1.0}, {\"x1\": 0.3068127708411469, \"x2\": 0.9991454926718848, \"name\": \"A.3_pfail\", \"id\": 30, \"minimum\": 0.0008390457410036459, \"maximum\": 0.9991454926718848, \"qp_lower\": 3.9058470397772315e-06, \"qp_upper\": -1.0}, {\"x1\": 0.0009038766408242328, \"x2\": 0.4868911849888292, \"name\": \"A.4_pfail\", \"id\": 30, \"minimum\": 0.0009038766408242328, \"maximum\": 0.9990959650306036, \"qp_lower\": -1.0, \"qp_upper\": 9.270451561029213e-14}, {\"x1\": 7.5, \"x2\": 132.0, \"name\": \"A.0_ID flood wave shape\", \"id\": 31, \"minimum\": 0.0, \"maximum\": 132.0, \"qp_lower\": 0.37412205523948605, \"qp_upper\": -1.0}, {\"x1\": 30.09120801505102, \"x2\": 333.84917462194784, \"name\": \"A.1_Bmax\", \"id\": 31, \"minimum\": 30.09120801505102, \"maximum\": 349.72615162439337, \"qp_lower\": -1.0, \"qp_upper\": 0.06333736962779656}, {\"x1\": 0.24291920177390103, \"x2\": 0.999348330163821, \"name\": \"A.1_pfail\", \"id\": 31, \"minimum\": 0.0007573747696382608, \"maximum\": 0.999348330163821, \"qp_lower\": 0.005143860304453381, \"qp_upper\": -1.0}, {\"x1\": 0.17726032424631294, \"x2\": 0.999656732701972, \"name\": \"A.2_pfail\", \"id\": 31, \"minimum\": 0.0003508463103261125, \"maximum\": 0.999656732701972, \"qp_lower\": 0.0003405123022528956, \"qp_upper\": -1.0}, {\"x1\": 0.3068127708411469, \"x2\": 0.9991454926718848, \"name\": \"A.3_pfail\", \"id\": 31, \"minimum\": 0.0008390457410036459, \"maximum\": 0.9991454926718848, \"qp_lower\": 1.797066431548924e-06, \"qp_upper\": -1.0}, {\"x1\": 0.0009038766408242328, \"x2\": 0.4868911849888292, \"name\": \"A.4_pfail\", \"id\": 31, \"minimum\": 0.0009038766408242328, \"maximum\": 0.9990959650306036, \"qp_lower\": -1.0, \"qp_upper\": 2.6691159023294197e-13}, {\"x1\": 7.5, \"x2\": 132.0, \"name\": \"A.0_ID flood wave shape\", \"id\": 32, \"minimum\": 0.0, \"maximum\": 132.0, \"qp_lower\": 0.35919430813563424, \"qp_upper\": -1.0}, {\"x1\": 30.09120801505102, \"x2\": 321.9590839478768, \"name\": \"A.1_Bmax\", \"id\": 32, \"minimum\": 30.09120801505102, \"maximum\": 349.72615162439337, \"qp_lower\": -1.0, \"qp_upper\": 0.041179684220892014}, {\"x1\": 0.24291920177390103, \"x2\": 0.999348330163821, \"name\": \"A.1_pfail\", \"id\": 32, \"minimum\": 0.0007573747696382608, \"maximum\": 0.999348330163821, \"qp_lower\": 0.0035123435082874566, \"qp_upper\": -1.0}, {\"x1\": 0.17726032424631294, \"x2\": 0.999656732701972, \"name\": \"A.2_pfail\", \"id\": 32, \"minimum\": 0.0003508463103261125, \"maximum\": 0.999656732701972, \"qp_lower\": 0.0006429836015585075, \"qp_upper\": -1.0}, {\"x1\": 0.3068127708411469, \"x2\": 0.9991454926718848, \"name\": \"A.3_pfail\", \"id\": 32, \"minimum\": 0.0008390457410036459, \"maximum\": 0.9991454926718848, \"qp_lower\": 8.862463124629134e-06, \"qp_upper\": -1.0}, {\"x1\": 0.0009038766408242328, \"x2\": 0.4868911849888292, \"name\": \"A.4_pfail\", \"id\": 32, \"minimum\": 0.0009038766408242328, \"maximum\": 0.9990959650306036, \"qp_lower\": -1.0, \"qp_upper\": 1.4774586065038132e-13}, {\"x1\": 7.5, \"x2\": 132.0, \"name\": \"A.0_ID flood wave shape\", \"id\": 33, \"minimum\": 0.0, \"maximum\": 132.0, \"qp_lower\": 0.492039731888683, \"qp_upper\": -1.0}, {\"x1\": 30.09120801505102, \"x2\": 311.91416329522644, \"name\": \"A.1_Bmax\", \"id\": 33, \"minimum\": 30.09120801505102, \"maximum\": 349.72615162439337, \"qp_lower\": -1.0, \"qp_upper\": 0.02439031689268562}, {\"x1\": 0.24291920177390103, \"x2\": 0.999348330163821, \"name\": \"A.1_pfail\", \"id\": 33, \"minimum\": 0.0007573747696382608, \"maximum\": 0.999348330163821, \"qp_lower\": 0.0037691441306100734, \"qp_upper\": -1.0}, {\"x1\": 0.17726032424631294, \"x2\": 0.999656732701972, \"name\": \"A.2_pfail\", \"id\": 33, \"minimum\": 0.0003508463103261125, \"maximum\": 0.999656732701972, \"qp_lower\": 0.0003757249272418407, \"qp_upper\": -1.0}, {\"x1\": 0.3068127708411469, \"x2\": 0.9991454926718848, \"name\": \"A.3_pfail\", \"id\": 33, \"minimum\": 0.0008390457410036459, \"maximum\": 0.9991454926718848, \"qp_lower\": 1.348169226483423e-05, \"qp_upper\": -1.0}, {\"x1\": 0.0009038766408242328, \"x2\": 0.4868911849888292, \"name\": \"A.4_pfail\", \"id\": 33, \"minimum\": 0.0009038766408242328, \"maximum\": 0.9990959650306036, \"qp_lower\": -1.0, \"qp_upper\": 1.1607347294937124e-13}, {\"x1\": 7.5, \"x2\": 132.0, \"name\": \"A.0_ID flood wave shape\", \"id\": 34, \"minimum\": 0.0, \"maximum\": 132.0, \"qp_lower\": 0.4817000819215266, \"qp_upper\": -1.0}, {\"x1\": 30.09120801505102, \"x2\": 294.2022146535316, \"name\": \"A.1_Bmax\", \"id\": 34, \"minimum\": 30.09120801505102, \"maximum\": 349.72615162439337, \"qp_lower\": -1.0, \"qp_upper\": 0.012184008199148662}, {\"x1\": 0.24291920177390103, \"x2\": 0.999348330163821, \"name\": \"A.1_pfail\", \"id\": 34, \"minimum\": 0.0007573747696382608, \"maximum\": 0.999348330163821, \"qp_lower\": 0.01921372281813686, \"qp_upper\": -1.0}, {\"x1\": 0.17726032424631294, \"x2\": 0.999656732701972, \"name\": \"A.2_pfail\", \"id\": 34, \"minimum\": 0.0003508463103261125, \"maximum\": 0.999656732701972, \"qp_lower\": 0.00015864811957179225, \"qp_upper\": -1.0}, {\"x1\": 0.3068127708411469, \"x2\": 0.9991454926718848, \"name\": \"A.3_pfail\", \"id\": 34, \"minimum\": 0.0008390457410036459, \"maximum\": 0.9991454926718848, \"qp_lower\": 5.919768685456344e-06, \"qp_upper\": -1.0}, {\"x1\": 0.0009038766408242328, \"x2\": 0.4868911849888292, \"name\": \"A.4_pfail\", \"id\": 34, \"minimum\": 0.0009038766408242328, \"maximum\": 0.9990959650306036, \"qp_lower\": -1.0, \"qp_upper\": 2.339548757937053e-12}, {\"x1\": 7.5, \"x2\": 132.0, \"name\": \"A.0_ID flood wave shape\", \"id\": 35, \"minimum\": 0.0, \"maximum\": 132.0, \"qp_lower\": 0.7061780781900839, \"qp_upper\": -1.0}, {\"x1\": 30.09120801505102, \"x2\": 278.7169872329108, \"name\": \"A.1_Bmax\", \"id\": 35, \"minimum\": 30.09120801505102, \"maximum\": 349.72615162439337, \"qp_lower\": -1.0, \"qp_upper\": 0.005016815142046593}, {\"x1\": 0.24291920177390103, \"x2\": 0.999348330163821, \"name\": \"A.1_pfail\", \"id\": 35, \"minimum\": 0.0007573747696382608, \"maximum\": 0.999348330163821, \"qp_lower\": 0.03444162178543186, \"qp_upper\": -1.0}, {\"x1\": 0.17726032424631294, \"x2\": 0.999656732701972, \"name\": \"A.2_pfail\", \"id\": 35, \"minimum\": 0.0003508463103261125, \"maximum\": 0.999656732701972, \"qp_lower\": 0.00011191353532551648, \"qp_upper\": -1.0}, {\"x1\": 0.3068127708411469, \"x2\": 0.9991454926718848, \"name\": \"A.3_pfail\", \"id\": 35, \"minimum\": 0.0008390457410036459, \"maximum\": 0.9991454926718848, \"qp_lower\": 1.819605510794746e-06, \"qp_upper\": -1.0}, {\"x1\": 0.0009038766408242328, \"x2\": 0.4868911849888292, \"name\": \"A.4_pfail\", \"id\": 35, \"minimum\": 0.0009038766408242328, \"maximum\": 0.9990959650306036, \"qp_lower\": -1.0, \"qp_upper\": 2.9614164738943266e-12}, {\"x1\": 7.5, \"x2\": 132.0, \"name\": \"A.0_ID flood wave shape\", \"id\": 36, \"minimum\": 0.0, \"maximum\": 132.0, \"qp_lower\": 0.7567702081920422, \"qp_upper\": -1.0}, {\"x1\": 30.09120801505102, \"x2\": 266.68656402905185, \"name\": \"A.1_Bmax\", \"id\": 36, \"minimum\": 30.09120801505102, \"maximum\": 349.72615162439337, \"qp_lower\": -1.0, \"qp_upper\": 0.0014454508176599907}, {\"x1\": 0.24291920177390103, \"x2\": 0.999348330163821, \"name\": \"A.1_pfail\", \"id\": 36, \"minimum\": 0.0007573747696382608, \"maximum\": 0.999348330163821, \"qp_lower\": 0.03315042333648474, \"qp_upper\": -1.0}, {\"x1\": 0.17726032424631294, \"x2\": 0.999656732701972, \"name\": \"A.2_pfail\", \"id\": 36, \"minimum\": 0.0003508463103261125, \"maximum\": 0.999656732701972, \"qp_lower\": 3.175544061187163e-05, \"qp_upper\": -1.0}, {\"x1\": 0.3068127708411469, \"x2\": 0.9991454926718848, \"name\": \"A.3_pfail\", \"id\": 36, \"minimum\": 0.0008390457410036459, \"maximum\": 0.9991454926718848, \"qp_lower\": 7.847775560804041e-07, \"qp_upper\": -1.0}, {\"x1\": 0.0009038766408242328, \"x2\": 0.4868911849888292, \"name\": \"A.4_pfail\", \"id\": 36, \"minimum\": 0.0009038766408242328, \"maximum\": 0.9990959650306036, \"qp_lower\": -1.0, \"qp_upper\": 1.1133736572318533e-12}, {\"x1\": 7.5, \"x2\": 132.0, \"name\": \"A.0_ID flood wave shape\", \"id\": 37, \"minimum\": 0.0, \"maximum\": 132.0, \"qp_lower\": 1.0, \"qp_upper\": -1.0}, {\"x1\": 30.09120801505102, \"x2\": 252.49754512078428, \"name\": \"A.1_Bmax\", \"id\": 37, \"minimum\": 30.09120801505102, \"maximum\": 349.72615162439337, \"qp_lower\": -1.0, \"qp_upper\": 0.00022970784711932177}, {\"x1\": 0.24291920177390103, \"x2\": 0.999348330163821, \"name\": \"A.1_pfail\", \"id\": 37, \"minimum\": 0.0007573747696382608, \"maximum\": 0.999348330163821, \"qp_lower\": 0.02469881835018583, \"qp_upper\": -1.0}, {\"x1\": 0.17726032424631294, \"x2\": 0.999656732701972, \"name\": \"A.2_pfail\", \"id\": 37, \"minimum\": 0.0003508463103261125, \"maximum\": 0.999656732701972, \"qp_lower\": 5.066920514244415e-06, \"qp_upper\": -1.0}, {\"x1\": 0.3068127708411469, \"x2\": 0.9991454926718848, \"name\": \"A.3_pfail\", \"id\": 37, \"minimum\": 0.0008390457410036459, \"maximum\": 0.9991454926718848, \"qp_lower\": 4.506749692270275e-07, \"qp_upper\": -1.0}, {\"x1\": 0.0009038766408242328, \"x2\": 0.4868911849888292, \"name\": \"A.4_pfail\", \"id\": 37, \"minimum\": 0.0009038766408242328, \"maximum\": 0.9990959650306036, \"qp_lower\": -1.0, \"qp_upper\": 1.6086462915334511e-12}], \"data-bb8d07f6df3d47a6a475317795287b23\": [{\"start\": 0, \"end\": 1}], \"data-d751713988987e9331980363e24189ce\": []}}, {\"mode\": \"vega-lite\"});\n</script>",
      "text/plain": "alt.VConcatChart(...)"
     },
     "metadata": {},
     "execution_count": 11
    }
   ],
   "source": [
    "box.inspect_tradeoff()\n"
   ]
  },
  {
   "cell_type": "markdown",
   "metadata": {},
   "source": [
    "We select box 17, as it shows a good mixture between coverage and density"
   ]
  },
  {
   "cell_type": "code",
   "execution_count": 14,
   "metadata": {
    "tags": []
   },
   "outputs": [
    {
     "output_type": "stream",
     "name": "stdout",
     "text": "coverage    0.645472\ndensity     0.811138\nid                17\nmass           0.413\nmean        0.811138\nres_dim            4\nName: 17, dtype: object\n\n              box 17                                           \n                 min         max                      qp values\nA.4_pfail   0.000904    0.661754  [-1.0, 2.714413313129453e-09]\nA.1_Bmax   30.091208  333.849175    [-1.0, 0.14822985850514236]\nA.3_pfail   0.191052    0.999145  [4.989930418277363e-07, -1.0]\nA.2_pfail   0.177260    0.999657  [4.705781716242567e-05, -1.0]\n\n"
    }
   ],
   "source": [
    "box.inspect(n_box)\n"
   ]
  },
  {
   "cell_type": "code",
   "execution_count": 15,
   "metadata": {
    "tags": []
   },
   "outputs": [
    {
     "output_type": "stream",
     "name": "stderr",
     "text": "[MainProcess/INFO] results saved successfully to /Users/ignasicortes/Documents/EPA/Year_1/Q4/1.Model_Based_Decision_Making/model-based-decision-making/results/mordm_17_Overijjsel.tar.gz\n"
    }
   ],
   "source": [
    "box.select(n_box)\n",
    "scens_in_box = experiments.iloc[box.yi]\n",
    "outcomes_in_box = {k:v[box.yi] for k,v in outcomes.items()}\n",
    "#Save results\n",
    "save_results((scens_in_box, outcomes_in_box), '../results/mordm_'+str(n_box)+'_Overijjsel.tar.gz')"
   ]
  },
  {
   "cell_type": "markdown",
   "metadata": {},
   "source": [
    "# Multi-Scenario MORDM\n",
    "Based on the results of scenario discovery, we now continue to select three of such scenarios based on the worst outcomes in terms of casualties, damages and total costs. We will take each of these scenarios as a reference scenario to run an optimization algorithm for the levers to choose. "
   ]
  },
  {
   "cell_type": "code",
   "execution_count": 13,
   "metadata": {},
   "outputs": [],
   "source": [
    "n_box = 17"
   ]
  },
  {
   "cell_type": "code",
   "execution_count": 16,
   "metadata": {},
   "outputs": [],
   "source": [
    "#Load results\n",
    "# mordm_results = load_results('../results/mordm_29_Gelderland.tar.gz')\n",
    "results_df = pd.concat([pd.DataFrame(scens_in_box).reset_index(drop=True), pd.DataFrame(outcomes_in_box)], axis = 1)"
   ]
  },
  {
   "cell_type": "code",
   "execution_count": 17,
   "metadata": {},
   "outputs": [],
   "source": [
    "#Sum up Deaths and Damages\n",
    "results_df[\"Deaths Aggregated\"] = results_df[\"A4 Expected Number of Deaths\"] + results_df[\"A5 Expected Number of Deaths\"]\n",
    "results_df[\"Damages Aggregated\"] = results_df[\"A4 Expected Annual Damage\"] + results_df[\"A5 Expected Annual Damage\"]"
   ]
  },
  {
   "cell_type": "code",
   "execution_count": 18,
   "metadata": {},
   "outputs": [],
   "source": [
    "#Get the three reference scenarios\n",
    "scenario_indices = [results_df.sort_values([\"Evacuation Costs\"]).tail(1).index[0], \n",
    "                    results_df.sort_values([\"Deaths Aggregated\"]).tail(1).index[0], \n",
    "                    results_df.sort_values([\"Damages Aggregated\"]).tail(1).index[0]]\n",
    "selected = results_df.iloc[scenario_indices, 0:19]"
   ]
  },
  {
   "cell_type": "code",
   "execution_count": 19,
   "metadata": {},
   "outputs": [],
   "source": [
    "#Create the three reference case scenario instances\n",
    "scenarios_mordm = [Scenario(f\"{index}\", **row) for index, row in selected.iterrows()]"
   ]
  },
  {
   "cell_type": "code",
   "execution_count": 20,
   "metadata": {},
   "outputs": [
    {
     "output_type": "stream",
     "name": "stderr",
     "text": "[MainProcess/INFO] pool started\n[MainProcess/INFO] generation 0: 0/20000 nfe\n[MainProcess/INFO] generation 5: 500/20000 nfe\n[MainProcess/INFO] generation 10: 998/20000 nfe\n[MainProcess/INFO] generation 15: 1497/20000 nfe\n[MainProcess/INFO] generation 20: 1997/20000 nfe\n[MainProcess/INFO] generation 25: 2494/20000 nfe\n[MainProcess/INFO] generation 30: 2991/20000 nfe\n[MainProcess/INFO] generation 35: 3486/20000 nfe\n[MainProcess/INFO] generation 40: 3978/20000 nfe\n[MainProcess/INFO] generation 45: 4472/20000 nfe\n[MainProcess/INFO] generation 50: 4954/20000 nfe\n[MainProcess/INFO] generation 55: 5443/20000 nfe\n[MainProcess/INFO] generation 60: 5933/20000 nfe\n[MainProcess/INFO] generation 65: 6429/20000 nfe\n[MainProcess/INFO] generation 70: 6922/20000 nfe\n[MainProcess/INFO] generation 75: 7413/20000 nfe\n[MainProcess/INFO] generation 80: 7905/20000 nfe\n[MainProcess/INFO] generation 85: 8397/20000 nfe\n[MainProcess/INFO] generation 90: 8895/20000 nfe\n[MainProcess/INFO] generation 95: 9393/20000 nfe\n[MainProcess/INFO] generation 100: 9889/20000 nfe\n[MainProcess/INFO] generation 105: 10900/20000 nfe\n[MainProcess/INFO] generation 110: 11949/20000 nfe\n[MainProcess/INFO] generation 115: 12983/20000 nfe\n[MainProcess/INFO] generation 120: 14029/20000 nfe\n[MainProcess/INFO] generation 125: 15088/20000 nfe\n[MainProcess/INFO] generation 130: 16135/20000 nfe\n[MainProcess/INFO] generation 135: 17188/20000 nfe\n[MainProcess/INFO] generation 140: 18243/20000 nfe\n[MainProcess/INFO] generation 145: 19294/20000 nfe\n[MainProcess/INFO] optimization completed, found 38 solutions\n[MainProcess/INFO] terminating pool\n[MainProcess/INFO] results saved successfully to /Users/ignasicortes/Documents/EPA/Year_1/Q4/1.Model_Based_Decision_Making/model-based-decision-making/results/ms_mordm_20000nfe_Overijssel_reference0.tar.gz\n[MainProcess/INFO] pool started\n[MainProcess/INFO] generation 0: 0/20000 nfe\n[MainProcess/INFO] generation 5: 499/20000 nfe\n[MainProcess/INFO] generation 10: 997/20000 nfe\n[MainProcess/INFO] generation 15: 1496/20000 nfe\n[MainProcess/INFO] generation 20: 1990/20000 nfe\n[MainProcess/INFO] generation 25: 2486/20000 nfe\n[MainProcess/INFO] generation 30: 2986/20000 nfe\n[MainProcess/INFO] generation 35: 3482/20000 nfe\n[MainProcess/INFO] generation 40: 3980/20000 nfe\n[MainProcess/INFO] generation 45: 4475/20000 nfe\n[MainProcess/INFO] generation 50: 4970/20000 nfe\n[MainProcess/INFO] generation 55: 5467/20000 nfe\n[MainProcess/INFO] generation 60: 5964/20000 nfe\n[MainProcess/INFO] generation 65: 6461/20000 nfe\n[MainProcess/INFO] generation 70: 6952/20000 nfe\n[MainProcess/INFO] generation 75: 7443/20000 nfe\n[MainProcess/INFO] generation 80: 7940/20000 nfe\n[MainProcess/INFO] generation 85: 8439/20000 nfe\n[MainProcess/INFO] generation 90: 8931/20000 nfe\n[MainProcess/INFO] generation 95: 9426/20000 nfe\n[MainProcess/INFO] generation 100: 9919/20000 nfe\n[MainProcess/INFO] generation 105: 18348/20000 nfe\n[MainProcess/INFO] optimization completed, found 532 solutions\n[MainProcess/INFO] terminating pool\n[MainProcess/INFO] results saved successfully to /Users/ignasicortes/Documents/EPA/Year_1/Q4/1.Model_Based_Decision_Making/model-based-decision-making/results/ms_mordm_20000nfe_Overijssel_reference1.tar.gz\n[MainProcess/INFO] pool started\n[MainProcess/INFO] generation 0: 0/20000 nfe\n[MainProcess/INFO] generation 5: 500/20000 nfe\n[MainProcess/INFO] generation 10: 999/20000 nfe\n[MainProcess/INFO] generation 15: 1498/20000 nfe\n[MainProcess/INFO] generation 20: 1996/20000 nfe\n[MainProcess/INFO] generation 25: 2494/20000 nfe\n[MainProcess/INFO] generation 30: 2992/20000 nfe\n[MainProcess/INFO] generation 35: 3490/20000 nfe\n[MainProcess/INFO] generation 40: 3987/20000 nfe\n[MainProcess/INFO] generation 45: 4482/20000 nfe\n[MainProcess/INFO] generation 50: 4977/20000 nfe\n[MainProcess/INFO] generation 55: 5473/20000 nfe\n[MainProcess/INFO] generation 60: 5961/20000 nfe\n[MainProcess/INFO] generation 65: 6455/20000 nfe\n[MainProcess/INFO] generation 70: 6950/20000 nfe\n[MainProcess/INFO] generation 75: 7442/20000 nfe\n[MainProcess/INFO] generation 80: 7937/20000 nfe\n[MainProcess/INFO] generation 85: 8426/20000 nfe\n[MainProcess/INFO] generation 90: 8922/20000 nfe\n[MainProcess/INFO] generation 95: 9415/20000 nfe\n[MainProcess/INFO] generation 100: 9905/20000 nfe\n[MainProcess/INFO] generation 105: 12284/20000 nfe\n[MainProcess/INFO] generation 110: 14738/20000 nfe\n[MainProcess/INFO] generation 115: 17178/20000 nfe\n[MainProcess/INFO] generation 120: 19588/20000 nfe\n[MainProcess/INFO] optimization completed, found 101 solutions\n[MainProcess/INFO] terminating pool\n[MainProcess/INFO] results saved successfully to /Users/ignasicortes/Documents/EPA/Year_1/Q4/1.Model_Based_Decision_Making/model-based-decision-making/results/ms_mordm_20000nfe_Overijssel_reference2.tar.gz\n"
    }
   ],
   "source": [
    "def optimize(scenario, nfe, model, converge_metrics, epsilons):\n",
    "\n",
    "    with MultiprocessingEvaluator(model) as evaluator:\n",
    "        results, convergence = evaluator.optimize(nfe=nfe, searchover='levers',\n",
    "                                     convergence=convergence_metrics,\n",
    "                                     epsilons=epsilons,\n",
    "                                     reference=scenario)\n",
    "    return results, convergence\n",
    "\n",
    "\n",
    "results = []\n",
    "i = 0\n",
    "\n",
    "for scenario in scenarios_mordm:\n",
    "    convergence_metrics = [EpsilonProgress()]\n",
    "    epsilons = [0.1,]*len(dike_model.outcomes)\n",
    "    \n",
    "    results.append(optimize(scenario, n_nfe, dike_model, convergence_metrics, epsilons))\n",
    "\n",
    "    #Save results in between\n",
    "    save_results(results[i], \"../results/ms_mordm_\"+str(n_nfe)+\"nfe_\"+province+\"_reference\"+str(i)+\".tar.gz\")\n",
    "    i = i+1\n"
   ]
  },
  {
   "cell_type": "code",
   "execution_count": 22,
   "metadata": {},
   "outputs": [
    {
     "output_type": "stream",
     "name": "stderr",
     "text": "[MainProcess/INFO] results loaded succesfully from /Users/ignasicortes/Documents/EPA/Year_1/Q4/1.Model_Based_Decision_Making/model-based-decision-making/results/ms_mordm_20000nfe_Overijssel_reference0.tar.gz\n[MainProcess/INFO] results loaded succesfully from /Users/ignasicortes/Documents/EPA/Year_1/Q4/1.Model_Based_Decision_Making/model-based-decision-making/results/ms_mordm_20000nfe_Overijssel_reference1.tar.gz\n[MainProcess/INFO] results loaded succesfully from /Users/ignasicortes/Documents/EPA/Year_1/Q4/1.Model_Based_Decision_Making/model-based-decision-making/results/ms_mordm_20000nfe_Overijssel_reference2.tar.gz\n"
    }
   ],
   "source": [
    "#Load results\n",
    "results = []\n",
    "results.append(load_results(\"../results/ms_mordm_20000nfe_\"+province+\"_reference0.tar.gz\"))\n",
    "results.append(load_results(\"../results/ms_mordm_20000nfe_\"+province+\"_reference1.tar.gz\"))\n",
    "results.append(load_results(\"../results/ms_mordm_20000nfe_\"+province+\"_reference2.tar.gz\"))"
   ]
  },
  {
   "cell_type": "code",
   "execution_count": null,
   "metadata": {},
   "outputs": [],
   "source": []
  }
 ],
 "metadata": {
  "kernelspec": {
   "display_name": "Python 3",
   "language": "python",
   "name": "python3"
  },
  "language_info": {
   "codemirror_mode": {
    "name": "ipython",
    "version": 3
   },
   "file_extension": ".py",
   "mimetype": "text/x-python",
   "name": "python",
   "nbconvert_exporter": "python",
   "pygments_lexer": "ipython3",
   "version": "3.7.4-final"
  }
 },
 "nbformat": 4,
 "nbformat_minor": 4
}