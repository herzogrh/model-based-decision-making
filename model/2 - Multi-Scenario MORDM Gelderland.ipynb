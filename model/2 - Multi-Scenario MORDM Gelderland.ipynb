{
 "cells": [
  {
   "cell_type": "markdown",
   "metadata": {},
   "source": [
    "# Multi-Scenario MORDM Gelderland\n",
    "This Jupyter Notebook uses the model developed by [Ciullo et al. (2019)](https://scholar.google.com/citations?hl=en&user=fDZCVVYAAAAJ&view_op=list_works&sortby=pubdate#d=gs_md_cita-d&u=%2Fcitations%3Fview_op%3Dview_citation%26hl%3Den%26user%3DfDZCVVYAAAAJ%26sortby%3Dpubdate%26citation_for_view%3DfDZCVVYAAAAJ%3AqjMakFHDy7sC%26tzom%3D-120) and the [ema_workbench by Jan Kwakkel](https://github.com/quaquel/EMAworkbench) to evaluate possible strategies for the Gelderland province to increase its resilience to flood risk. It is specifically aimed towards finding optimal strategies for the Gelderland province, namely minimizing casualties and damages across the model runtime in dike rings 1-3 and minimizing dike investment costs for all dike rings. "
   ]
  },
  {
   "cell_type": "markdown",
   "metadata": {},
   "source": [
    "## Imports"
   ]
  },
  {
   "cell_type": "code",
   "execution_count": 41,
   "metadata": {},
   "outputs": [
    {
     "output_type": "execute_result",
     "data": {
      "text/plain": "<Logger EMA (DEBUG)>"
     },
     "metadata": {},
     "execution_count": 41
    }
   ],
   "source": [
    "# Standard Imports\n",
    "import pandas as pd\n",
    "import numpy as np\n",
    "import seaborn as sns\n",
    "import matplotlib.pyplot as plt\n",
    "import copy\n",
    "import networkx as nx\n",
    "import scipy as sp\n",
    "import plotly.express as px\n",
    "\n",
    "\n",
    "# Workbench Imports\n",
    "from ema_workbench import (Model, MultiprocessingEvaluator, ScalarOutcome, RealParameter, IntegerParameter, CategoricalParameter, optimize, Scenario, Constant, ema_logging,perform_experiments, SequentialEvaluator, Policy)\n",
    "from ema_workbench.em_framework.optimization import EpsilonProgress, HyperVolume\n",
    "from ema_workbench.util import ema_logging, save_results, load_results\n",
    "from ema_workbench.em_framework.samplers import sample_levers, sample_uncertainties\n",
    "from ema_workbench.em_framework.evaluators import LHS, SOBOL, MORRIS, SequentialEvaluator, BaseEvaluator\n",
    "from ema_workbench.analysis import parcoords, prim\n",
    "\n",
    "\n",
    "ema_logging.log_to_stderr(ema_logging.INFO)\n"
   ]
  },
  {
   "cell_type": "markdown",
   "metadata": {},
   "source": [
    "## General Model Setup\n",
    "Here, we specify the numbers for the experiment and optimization runs to perform."
   ]
  },
  {
   "cell_type": "code",
   "execution_count": 62,
   "metadata": {},
   "outputs": [],
   "source": [
    "# Number of nfes for the Model\n",
    "n_nfe = 20000\n",
    "\n",
    "#Number of scenarios for the deep uncertainty evaluation of promising scenarios\n",
    "n_scenarios = 1000\n",
    "\n",
    "#Path to the reference scenarios to use for MORDM\n",
    "path_noaction = \"../results/500Scenarios_NoAction_PF1.tar.gz\""
   ]
  },
  {
   "cell_type": "markdown",
   "metadata": {},
   "source": [
    "## Model Specification"
   ]
  },
  {
   "cell_type": "code",
   "execution_count": 2,
   "metadata": {},
   "outputs": [],
   "source": [
    "# Model Imports\n",
    "from dike_model_function import DikeNetwork\n",
    "from problem_formulation import get_model_for_problem_formulation\n",
    "\n",
    "dike_model, planning_steps = get_model_for_problem_formulation(6)\n",
    "uncertainties = copy.deepcopy(dike_model.uncertainties)\n",
    "levers = copy.deepcopy(dike_model.levers)"
   ]
  },
  {
   "cell_type": "markdown",
   "metadata": {},
   "source": [
    "## Specify reference scenario\n",
    "Firstly, we load the results from the open exploration with no action taken to select a reference scenario that shows the most expected number of deaths. This, so-to-say worst-case scenario is then used to find the optimal policies using the MORDM approach.  "
   ]
  },
  {
   "cell_type": "code",
   "execution_count": 4,
   "metadata": {},
   "outputs": [
    {
     "output_type": "stream",
     "name": "stderr",
     "text": "[MainProcess/INFO] results loaded succesfully from /Users/ricoherzog/OneDrive/Uni/2019-2020 WiSe Den Haag/Q4/EPA1361 Model Based Decision Making/05_Project/model-based-decision-making/results/500Scenarios_NoAction_PF1.tar.gz\n"
    }
   ],
   "source": [
    "experiments, outcomes = load_results(path_noaction)"
   ]
  },
  {
   "cell_type": "code",
   "execution_count": 5,
   "metadata": {},
   "outputs": [],
   "source": [
    "outcomes_df = pd.DataFrame(outcomes)\n",
    "\n",
    "#Get index of worst scenario\n",
    "index_wc = outcomes_df.sort_values(\"Expected Number of Deaths\").tail(1).index\n",
    "experiment_wc = experiments.iloc[index_wc]\n",
    "reference_scenarios = [Scenario(f\"{index}\", **row) for index, row in experiment_wc.iloc[0:,0:19].iterrows()]"
   ]
  },
  {
   "cell_type": "markdown",
   "metadata": {},
   "source": [
    "## Run Optimization on Worst Case Reference Scenario"
   ]
  },
  {
   "cell_type": "code",
   "execution_count": 14,
   "metadata": {},
   "outputs": [
    {
     "output_type": "stream",
     "name": "stderr",
     "text": "[MainProcess/INFO] pool started\n[MainProcess/INFO] generation 0: 0/5000 nfe\n[MainProcess/INFO] generation 5: 499/5000 nfe\n[MainProcess/INFO] generation 10: 997/5000 nfe\n[MainProcess/INFO] generation 15: 1495/5000 nfe\n[MainProcess/INFO] generation 20: 1994/5000 nfe\n[MainProcess/INFO] generation 25: 2491/5000 nfe\n[MainProcess/INFO] generation 30: 2991/5000 nfe\n[MainProcess/INFO] generation 35: 3485/5000 nfe\n[MainProcess/INFO] generation 40: 3983/5000 nfe\n[MainProcess/INFO] generation 45: 4480/5000 nfe\n[MainProcess/INFO] generation 50: 4980/5000 nfe\n[MainProcess/INFO] optimization completed, found 440 solutions\n[MainProcess/INFO] terminating pool\n"
    }
   ],
   "source": [
    "ema_logging.log_to_stderr(ema_logging.INFO)\n",
    "\n",
    "convergence_metrics = [EpsilonProgress()]\n",
    "\n",
    "with MultiprocessingEvaluator(dike_model) as evaluator:\n",
    "    results_epsilon_0_1 = evaluator.optimize(nfe=n_nfe, epsilons=[0.1,]*len(dike_model.outcomes), \n",
    "    reference = reference_scenarios[0], convergence= convergence_metrics, searchover=\"levers\")"
   ]
  },
  {
   "cell_type": "code",
   "execution_count": 64,
   "metadata": {},
   "outputs": [
    {
     "output_type": "execute_result",
     "data": {
      "text/plain": "{'epsilon_progress': array([   0,   40,  353,  609,  832, 1021]),\n 'nfe': array([   0,  100, 1196, 2292, 3385, 4480])}"
     },
     "metadata": {},
     "execution_count": 64
    }
   ],
   "source": [
    "results, convergence = results_epsilon_0_1"
   ]
  },
  {
   "cell_type": "code",
   "execution_count": 15,
   "metadata": {},
   "outputs": [
    {
     "output_type": "stream",
     "name": "stderr",
     "text": "[MainProcess/INFO] results saved successfully to /Users/ricoherzog/OneDrive/Uni/2019-2020 WiSe Den Haag/Q4/EPA1361 Model Based Decision Making/05_Project/model-based-decision-making/results/5000nfe_BaseCaseMORDM.tar.gz\n"
    }
   ],
   "source": [
    "# Save Results\n",
    "save_results(results_epsilon_0_1, \"../results/\"+str(n_nfe)+\"nfe_BaseCaseMORDM_Gelderland.tar.gz\")"
   ]
  },
  {
   "cell_type": "code",
   "execution_count": 6,
   "metadata": {},
   "outputs": [
    {
     "output_type": "stream",
     "name": "stderr",
     "text": "[MainProcess/INFO] results loaded succesfully from /Users/ricoherzog/OneDrive/Uni/2019-2020 WiSe Den Haag/Q4/EPA1361 Model Based Decision Making/05_Project/model-based-decision-making/results/5000nfe_BaseCaseMORDM.tar.gz\n"
    }
   ],
   "source": [
    "# Load Results\n",
    "results_epsilon_0_1 = load_results(\"../results/\"+str(n_nfe)+\"nfe_BaseCaseMORDM_Gelderland.tar.gz\")"
   ]
  },
  {
   "cell_type": "code",
   "execution_count": null,
   "metadata": {},
   "outputs": [],
   "source": []
  },
  {
   "cell_type": "markdown",
   "metadata": {},
   "source": [
    "### Check for Convergence\n",
    "The optimization algorithm is now checked for convergence based on the Epsilon progress "
   ]
  },
  {
   "cell_type": "code",
   "execution_count": 65,
   "metadata": {},
   "outputs": [
    {
     "output_type": "display_data",
     "data": {
      "text/plain": "<Figure size 432x288 with 1 Axes>",
      "image/svg+xml": "<?xml version=\"1.0\" encoding=\"utf-8\" standalone=\"no\"?>\n<!DOCTYPE svg PUBLIC \"-//W3C//DTD SVG 1.1//EN\"\n  \"http://www.w3.org/Graphics/SVG/1.1/DTD/svg11.dtd\">\n<!-- Created with matplotlib (https://matplotlib.org/) -->\n<svg height=\"262.19625pt\" version=\"1.1\" viewBox=\"0 0 395.328125 262.19625\" width=\"395.328125pt\" xmlns=\"http://www.w3.org/2000/svg\" xmlns:xlink=\"http://www.w3.org/1999/xlink\">\n <defs>\n  <style type=\"text/css\">\n*{stroke-linecap:butt;stroke-linejoin:round;}\n  </style>\n </defs>\n <g id=\"figure_1\">\n  <g id=\"patch_1\">\n   <path d=\"M 0 262.19625 \nL 395.328125 262.19625 \nL 395.328125 0 \nL 0 0 \nz\n\" style=\"fill:none;\"/>\n  </g>\n  <g id=\"axes_1\">\n   <g id=\"patch_2\">\n    <path d=\"M 53.328125 224.64 \nL 388.128125 224.64 \nL 388.128125 7.2 \nL 53.328125 7.2 \nz\n\" style=\"fill:#ffffff;\"/>\n   </g>\n   <g id=\"matplotlib.axis_1\">\n    <g id=\"xtick_1\">\n     <g id=\"line2d_1\">\n      <defs>\n       <path d=\"M 0 0 \nL 0 3.5 \n\" id=\"m4ff6af31d2\" style=\"stroke:#000000;stroke-width:0.8;\"/>\n      </defs>\n      <g>\n       <use style=\"stroke:#000000;stroke-width:0.8;\" x=\"68.546307\" xlink:href=\"#m4ff6af31d2\" y=\"224.64\"/>\n      </g>\n     </g>\n     <g id=\"text_1\">\n      <!-- 0 -->\n      <defs>\n       <path d=\"M 31.78125 66.40625 \nQ 24.171875 66.40625 20.328125 58.90625 \nQ 16.5 51.421875 16.5 36.375 \nQ 16.5 21.390625 20.328125 13.890625 \nQ 24.171875 6.390625 31.78125 6.390625 \nQ 39.453125 6.390625 43.28125 13.890625 \nQ 47.125 21.390625 47.125 36.375 \nQ 47.125 51.421875 43.28125 58.90625 \nQ 39.453125 66.40625 31.78125 66.40625 \nz\nM 31.78125 74.21875 \nQ 44.046875 74.21875 50.515625 64.515625 \nQ 56.984375 54.828125 56.984375 36.375 \nQ 56.984375 17.96875 50.515625 8.265625 \nQ 44.046875 -1.421875 31.78125 -1.421875 \nQ 19.53125 -1.421875 13.0625 8.265625 \nQ 6.59375 17.96875 6.59375 36.375 \nQ 6.59375 54.828125 13.0625 64.515625 \nQ 19.53125 74.21875 31.78125 74.21875 \nz\n\" id=\"DejaVuSans-48\"/>\n      </defs>\n      <g transform=\"translate(65.365057 239.238437)scale(0.1 -0.1)\">\n       <use xlink:href=\"#DejaVuSans-48\"/>\n      </g>\n     </g>\n    </g>\n    <g id=\"xtick_2\">\n     <g id=\"line2d_2\">\n      <g>\n       <use style=\"stroke:#000000;stroke-width:0.8;\" x=\"136.484619\" xlink:href=\"#m4ff6af31d2\" y=\"224.64\"/>\n      </g>\n     </g>\n     <g id=\"text_2\">\n      <!-- 1000 -->\n      <defs>\n       <path d=\"M 12.40625 8.296875 \nL 28.515625 8.296875 \nL 28.515625 63.921875 \nL 10.984375 60.40625 \nL 10.984375 69.390625 \nL 28.421875 72.90625 \nL 38.28125 72.90625 \nL 38.28125 8.296875 \nL 54.390625 8.296875 \nL 54.390625 0 \nL 12.40625 0 \nz\n\" id=\"DejaVuSans-49\"/>\n      </defs>\n      <g transform=\"translate(123.759619 239.238437)scale(0.1 -0.1)\">\n       <use xlink:href=\"#DejaVuSans-49\"/>\n       <use x=\"63.623047\" xlink:href=\"#DejaVuSans-48\"/>\n       <use x=\"127.246094\" xlink:href=\"#DejaVuSans-48\"/>\n       <use x=\"190.869141\" xlink:href=\"#DejaVuSans-48\"/>\n      </g>\n     </g>\n    </g>\n    <g id=\"xtick_3\">\n     <g id=\"line2d_3\">\n      <g>\n       <use style=\"stroke:#000000;stroke-width:0.8;\" x=\"204.42293\" xlink:href=\"#m4ff6af31d2\" y=\"224.64\"/>\n      </g>\n     </g>\n     <g id=\"text_3\">\n      <!-- 2000 -->\n      <defs>\n       <path d=\"M 19.1875 8.296875 \nL 53.609375 8.296875 \nL 53.609375 0 \nL 7.328125 0 \nL 7.328125 8.296875 \nQ 12.9375 14.109375 22.625 23.890625 \nQ 32.328125 33.6875 34.8125 36.53125 \nQ 39.546875 41.84375 41.421875 45.53125 \nQ 43.3125 49.21875 43.3125 52.78125 \nQ 43.3125 58.59375 39.234375 62.25 \nQ 35.15625 65.921875 28.609375 65.921875 \nQ 23.96875 65.921875 18.8125 64.3125 \nQ 13.671875 62.703125 7.8125 59.421875 \nL 7.8125 69.390625 \nQ 13.765625 71.78125 18.9375 73 \nQ 24.125 74.21875 28.421875 74.21875 \nQ 39.75 74.21875 46.484375 68.546875 \nQ 53.21875 62.890625 53.21875 53.421875 \nQ 53.21875 48.921875 51.53125 44.890625 \nQ 49.859375 40.875 45.40625 35.40625 \nQ 44.1875 33.984375 37.640625 27.21875 \nQ 31.109375 20.453125 19.1875 8.296875 \nz\n\" id=\"DejaVuSans-50\"/>\n      </defs>\n      <g transform=\"translate(191.69793 239.238437)scale(0.1 -0.1)\">\n       <use xlink:href=\"#DejaVuSans-50\"/>\n       <use x=\"63.623047\" xlink:href=\"#DejaVuSans-48\"/>\n       <use x=\"127.246094\" xlink:href=\"#DejaVuSans-48\"/>\n       <use x=\"190.869141\" xlink:href=\"#DejaVuSans-48\"/>\n      </g>\n     </g>\n    </g>\n    <g id=\"xtick_4\">\n     <g id=\"line2d_4\">\n      <g>\n       <use style=\"stroke:#000000;stroke-width:0.8;\" x=\"272.361242\" xlink:href=\"#m4ff6af31d2\" y=\"224.64\"/>\n      </g>\n     </g>\n     <g id=\"text_4\">\n      <!-- 3000 -->\n      <defs>\n       <path d=\"M 40.578125 39.3125 \nQ 47.65625 37.796875 51.625 33 \nQ 55.609375 28.21875 55.609375 21.1875 \nQ 55.609375 10.40625 48.1875 4.484375 \nQ 40.765625 -1.421875 27.09375 -1.421875 \nQ 22.515625 -1.421875 17.65625 -0.515625 \nQ 12.796875 0.390625 7.625 2.203125 \nL 7.625 11.71875 \nQ 11.71875 9.328125 16.59375 8.109375 \nQ 21.484375 6.890625 26.8125 6.890625 \nQ 36.078125 6.890625 40.9375 10.546875 \nQ 45.796875 14.203125 45.796875 21.1875 \nQ 45.796875 27.640625 41.28125 31.265625 \nQ 36.765625 34.90625 28.71875 34.90625 \nL 20.21875 34.90625 \nL 20.21875 43.015625 \nL 29.109375 43.015625 \nQ 36.375 43.015625 40.234375 45.921875 \nQ 44.09375 48.828125 44.09375 54.296875 \nQ 44.09375 59.90625 40.109375 62.90625 \nQ 36.140625 65.921875 28.71875 65.921875 \nQ 24.65625 65.921875 20.015625 65.03125 \nQ 15.375 64.15625 9.8125 62.3125 \nL 9.8125 71.09375 \nQ 15.4375 72.65625 20.34375 73.4375 \nQ 25.25 74.21875 29.59375 74.21875 \nQ 40.828125 74.21875 47.359375 69.109375 \nQ 53.90625 64.015625 53.90625 55.328125 \nQ 53.90625 49.265625 50.4375 45.09375 \nQ 46.96875 40.921875 40.578125 39.3125 \nz\n\" id=\"DejaVuSans-51\"/>\n      </defs>\n      <g transform=\"translate(259.636242 239.238437)scale(0.1 -0.1)\">\n       <use xlink:href=\"#DejaVuSans-51\"/>\n       <use x=\"63.623047\" xlink:href=\"#DejaVuSans-48\"/>\n       <use x=\"127.246094\" xlink:href=\"#DejaVuSans-48\"/>\n       <use x=\"190.869141\" xlink:href=\"#DejaVuSans-48\"/>\n      </g>\n     </g>\n    </g>\n    <g id=\"xtick_5\">\n     <g id=\"line2d_5\">\n      <g>\n       <use style=\"stroke:#000000;stroke-width:0.8;\" x=\"340.299554\" xlink:href=\"#m4ff6af31d2\" y=\"224.64\"/>\n      </g>\n     </g>\n     <g id=\"text_5\">\n      <!-- 4000 -->\n      <defs>\n       <path d=\"M 37.796875 64.3125 \nL 12.890625 25.390625 \nL 37.796875 25.390625 \nz\nM 35.203125 72.90625 \nL 47.609375 72.90625 \nL 47.609375 25.390625 \nL 58.015625 25.390625 \nL 58.015625 17.1875 \nL 47.609375 17.1875 \nL 47.609375 0 \nL 37.796875 0 \nL 37.796875 17.1875 \nL 4.890625 17.1875 \nL 4.890625 26.703125 \nz\n\" id=\"DejaVuSans-52\"/>\n      </defs>\n      <g transform=\"translate(327.574554 239.238437)scale(0.1 -0.1)\">\n       <use xlink:href=\"#DejaVuSans-52\"/>\n       <use x=\"63.623047\" xlink:href=\"#DejaVuSans-48\"/>\n       <use x=\"127.246094\" xlink:href=\"#DejaVuSans-48\"/>\n       <use x=\"190.869141\" xlink:href=\"#DejaVuSans-48\"/>\n      </g>\n     </g>\n    </g>\n    <g id=\"text_6\">\n     <!-- nfe -->\n     <defs>\n      <path d=\"M 54.890625 33.015625 \nL 54.890625 0 \nL 45.90625 0 \nL 45.90625 32.71875 \nQ 45.90625 40.484375 42.875 44.328125 \nQ 39.84375 48.1875 33.796875 48.1875 \nQ 26.515625 48.1875 22.3125 43.546875 \nQ 18.109375 38.921875 18.109375 30.90625 \nL 18.109375 0 \nL 9.078125 0 \nL 9.078125 54.6875 \nL 18.109375 54.6875 \nL 18.109375 46.1875 \nQ 21.34375 51.125 25.703125 53.5625 \nQ 30.078125 56 35.796875 56 \nQ 45.21875 56 50.046875 50.171875 \nQ 54.890625 44.34375 54.890625 33.015625 \nz\n\" id=\"DejaVuSans-110\"/>\n      <path d=\"M 37.109375 75.984375 \nL 37.109375 68.5 \nL 28.515625 68.5 \nQ 23.6875 68.5 21.796875 66.546875 \nQ 19.921875 64.59375 19.921875 59.515625 \nL 19.921875 54.6875 \nL 34.71875 54.6875 \nL 34.71875 47.703125 \nL 19.921875 47.703125 \nL 19.921875 0 \nL 10.890625 0 \nL 10.890625 47.703125 \nL 2.296875 47.703125 \nL 2.296875 54.6875 \nL 10.890625 54.6875 \nL 10.890625 58.5 \nQ 10.890625 67.625 15.140625 71.796875 \nQ 19.390625 75.984375 28.609375 75.984375 \nz\n\" id=\"DejaVuSans-102\"/>\n      <path d=\"M 56.203125 29.59375 \nL 56.203125 25.203125 \nL 14.890625 25.203125 \nQ 15.484375 15.921875 20.484375 11.0625 \nQ 25.484375 6.203125 34.421875 6.203125 \nQ 39.59375 6.203125 44.453125 7.46875 \nQ 49.3125 8.734375 54.109375 11.28125 \nL 54.109375 2.78125 \nQ 49.265625 0.734375 44.1875 -0.34375 \nQ 39.109375 -1.421875 33.890625 -1.421875 \nQ 20.796875 -1.421875 13.15625 6.1875 \nQ 5.515625 13.8125 5.515625 26.8125 \nQ 5.515625 40.234375 12.765625 48.109375 \nQ 20.015625 56 32.328125 56 \nQ 43.359375 56 49.78125 48.890625 \nQ 56.203125 41.796875 56.203125 29.59375 \nz\nM 47.21875 32.234375 \nQ 47.125 39.59375 43.09375 43.984375 \nQ 39.0625 48.390625 32.421875 48.390625 \nQ 24.90625 48.390625 20.390625 44.140625 \nQ 15.875 39.890625 15.1875 32.171875 \nz\n\" id=\"DejaVuSans-101\"/>\n     </defs>\n     <g transform=\"translate(212.722656 252.916562)scale(0.1 -0.1)\">\n      <use xlink:href=\"#DejaVuSans-110\"/>\n      <use x=\"63.378906\" xlink:href=\"#DejaVuSans-102\"/>\n      <use x=\"98.583984\" xlink:href=\"#DejaVuSans-101\"/>\n     </g>\n    </g>\n   </g>\n   <g id=\"matplotlib.axis_2\">\n    <g id=\"ytick_1\">\n     <g id=\"line2d_6\">\n      <defs>\n       <path d=\"M 0 0 \nL -3.5 0 \n\" id=\"mebc3487aeb\" style=\"stroke:#000000;stroke-width:0.8;\"/>\n      </defs>\n      <g>\n       <use style=\"stroke:#000000;stroke-width:0.8;\" x=\"53.328125\" xlink:href=\"#mebc3487aeb\" y=\"214.756364\"/>\n      </g>\n     </g>\n     <g id=\"text_7\">\n      <!-- 0 -->\n      <g transform=\"translate(39.965625 218.555582)scale(0.1 -0.1)\">\n       <use xlink:href=\"#DejaVuSans-48\"/>\n      </g>\n     </g>\n    </g>\n    <g id=\"ytick_2\">\n     <g id=\"line2d_7\">\n      <g>\n       <use style=\"stroke:#000000;stroke-width:0.8;\" x=\"53.328125\" xlink:href=\"#mebc3487aeb\" y=\"176.034968\"/>\n      </g>\n     </g>\n     <g id=\"text_8\">\n      <!-- 200 -->\n      <g transform=\"translate(27.240625 179.834186)scale(0.1 -0.1)\">\n       <use xlink:href=\"#DejaVuSans-50\"/>\n       <use x=\"63.623047\" xlink:href=\"#DejaVuSans-48\"/>\n       <use x=\"127.246094\" xlink:href=\"#DejaVuSans-48\"/>\n      </g>\n     </g>\n    </g>\n    <g id=\"ytick_3\">\n     <g id=\"line2d_8\">\n      <g>\n       <use style=\"stroke:#000000;stroke-width:0.8;\" x=\"53.328125\" xlink:href=\"#mebc3487aeb\" y=\"137.313571\"/>\n      </g>\n     </g>\n     <g id=\"text_9\">\n      <!-- 400 -->\n      <g transform=\"translate(27.240625 141.11279)scale(0.1 -0.1)\">\n       <use xlink:href=\"#DejaVuSans-52\"/>\n       <use x=\"63.623047\" xlink:href=\"#DejaVuSans-48\"/>\n       <use x=\"127.246094\" xlink:href=\"#DejaVuSans-48\"/>\n      </g>\n     </g>\n    </g>\n    <g id=\"ytick_4\">\n     <g id=\"line2d_9\">\n      <g>\n       <use style=\"stroke:#000000;stroke-width:0.8;\" x=\"53.328125\" xlink:href=\"#mebc3487aeb\" y=\"98.592175\"/>\n      </g>\n     </g>\n     <g id=\"text_10\">\n      <!-- 600 -->\n      <defs>\n       <path d=\"M 33.015625 40.375 \nQ 26.375 40.375 22.484375 35.828125 \nQ 18.609375 31.296875 18.609375 23.390625 \nQ 18.609375 15.53125 22.484375 10.953125 \nQ 26.375 6.390625 33.015625 6.390625 \nQ 39.65625 6.390625 43.53125 10.953125 \nQ 47.40625 15.53125 47.40625 23.390625 \nQ 47.40625 31.296875 43.53125 35.828125 \nQ 39.65625 40.375 33.015625 40.375 \nz\nM 52.59375 71.296875 \nL 52.59375 62.3125 \nQ 48.875 64.0625 45.09375 64.984375 \nQ 41.3125 65.921875 37.59375 65.921875 \nQ 27.828125 65.921875 22.671875 59.328125 \nQ 17.53125 52.734375 16.796875 39.40625 \nQ 19.671875 43.65625 24.015625 45.921875 \nQ 28.375 48.1875 33.59375 48.1875 \nQ 44.578125 48.1875 50.953125 41.515625 \nQ 57.328125 34.859375 57.328125 23.390625 \nQ 57.328125 12.15625 50.6875 5.359375 \nQ 44.046875 -1.421875 33.015625 -1.421875 \nQ 20.359375 -1.421875 13.671875 8.265625 \nQ 6.984375 17.96875 6.984375 36.375 \nQ 6.984375 53.65625 15.1875 63.9375 \nQ 23.390625 74.21875 37.203125 74.21875 \nQ 40.921875 74.21875 44.703125 73.484375 \nQ 48.484375 72.75 52.59375 71.296875 \nz\n\" id=\"DejaVuSans-54\"/>\n      </defs>\n      <g transform=\"translate(27.240625 102.391394)scale(0.1 -0.1)\">\n       <use xlink:href=\"#DejaVuSans-54\"/>\n       <use x=\"63.623047\" xlink:href=\"#DejaVuSans-48\"/>\n       <use x=\"127.246094\" xlink:href=\"#DejaVuSans-48\"/>\n      </g>\n     </g>\n    </g>\n    <g id=\"ytick_5\">\n     <g id=\"line2d_10\">\n      <g>\n       <use style=\"stroke:#000000;stroke-width:0.8;\" x=\"53.328125\" xlink:href=\"#mebc3487aeb\" y=\"59.870779\"/>\n      </g>\n     </g>\n     <g id=\"text_11\">\n      <!-- 800 -->\n      <defs>\n       <path d=\"M 31.78125 34.625 \nQ 24.75 34.625 20.71875 30.859375 \nQ 16.703125 27.09375 16.703125 20.515625 \nQ 16.703125 13.921875 20.71875 10.15625 \nQ 24.75 6.390625 31.78125 6.390625 \nQ 38.8125 6.390625 42.859375 10.171875 \nQ 46.921875 13.96875 46.921875 20.515625 \nQ 46.921875 27.09375 42.890625 30.859375 \nQ 38.875 34.625 31.78125 34.625 \nz\nM 21.921875 38.8125 \nQ 15.578125 40.375 12.03125 44.71875 \nQ 8.5 49.078125 8.5 55.328125 \nQ 8.5 64.0625 14.71875 69.140625 \nQ 20.953125 74.21875 31.78125 74.21875 \nQ 42.671875 74.21875 48.875 69.140625 \nQ 55.078125 64.0625 55.078125 55.328125 \nQ 55.078125 49.078125 51.53125 44.71875 \nQ 48 40.375 41.703125 38.8125 \nQ 48.828125 37.15625 52.796875 32.3125 \nQ 56.78125 27.484375 56.78125 20.515625 \nQ 56.78125 9.90625 50.3125 4.234375 \nQ 43.84375 -1.421875 31.78125 -1.421875 \nQ 19.734375 -1.421875 13.25 4.234375 \nQ 6.78125 9.90625 6.78125 20.515625 \nQ 6.78125 27.484375 10.78125 32.3125 \nQ 14.796875 37.15625 21.921875 38.8125 \nz\nM 18.3125 54.390625 \nQ 18.3125 48.734375 21.84375 45.5625 \nQ 25.390625 42.390625 31.78125 42.390625 \nQ 38.140625 42.390625 41.71875 45.5625 \nQ 45.3125 48.734375 45.3125 54.390625 \nQ 45.3125 60.0625 41.71875 63.234375 \nQ 38.140625 66.40625 31.78125 66.40625 \nQ 25.390625 66.40625 21.84375 63.234375 \nQ 18.3125 60.0625 18.3125 54.390625 \nz\n\" id=\"DejaVuSans-56\"/>\n      </defs>\n      <g transform=\"translate(27.240625 63.669998)scale(0.1 -0.1)\">\n       <use xlink:href=\"#DejaVuSans-56\"/>\n       <use x=\"63.623047\" xlink:href=\"#DejaVuSans-48\"/>\n       <use x=\"127.246094\" xlink:href=\"#DejaVuSans-48\"/>\n      </g>\n     </g>\n    </g>\n    <g id=\"ytick_6\">\n     <g id=\"line2d_11\">\n      <g>\n       <use style=\"stroke:#000000;stroke-width:0.8;\" x=\"53.328125\" xlink:href=\"#mebc3487aeb\" y=\"21.149383\"/>\n      </g>\n     </g>\n     <g id=\"text_12\">\n      <!-- 1000 -->\n      <g transform=\"translate(20.878125 24.948602)scale(0.1 -0.1)\">\n       <use xlink:href=\"#DejaVuSans-49\"/>\n       <use x=\"63.623047\" xlink:href=\"#DejaVuSans-48\"/>\n       <use x=\"127.246094\" xlink:href=\"#DejaVuSans-48\"/>\n       <use x=\"190.869141\" xlink:href=\"#DejaVuSans-48\"/>\n      </g>\n     </g>\n    </g>\n    <g id=\"text_13\">\n     <!-- $\\epsilon$ progress -->\n     <defs>\n      <path d=\"M 19.734375 29.5 \nQ 14.453125 30.671875 12.15625 33.84375 \nQ 10.453125 36.078125 10.453125 39.109375 \nQ 10.453125 47.40625 18.359375 52.25 \nQ 24.609375 56.0625 34.1875 56.0625 \nQ 37.890625 56.0625 41.9375 55.46875 \nQ 46 54.890625 50.53125 53.71875 \nL 48.96875 45.5625 \nQ 44.484375 46.96875 40.71875 47.609375 \nQ 36.859375 48.25 33.40625 48.25 \nQ 27.59375 48.25 23.78125 46 \nQ 19.1875 43.3125 19.1875 39.40625 \nQ 19.1875 36.8125 21.578125 35.015625 \nQ 24.421875 32.859375 30.078125 32.859375 \nL 37.640625 32.859375 \nL 36.234375 25.4375 \nL 29 25.4375 \nQ 22.265625 25.4375 18.3125 22.953125 \nQ 12.9375 19.578125 12.9375 14.3125 \nQ 12.9375 10.984375 15.828125 8.796875 \nQ 19.4375 6.0625 26.8125 6.0625 \nQ 31.34375 6.0625 35.6875 6.9375 \nQ 40.046875 7.859375 43.84375 9.671875 \nL 42.1875 1.3125 \nQ 37.546875 -0.046875 33.296875 -0.734375 \nQ 29.046875 -1.421875 25.140625 -1.421875 \nQ 13.53125 -1.421875 8.0625 3.03125 \nQ 3.90625 6.453125 3.90625 12.203125 \nQ 3.90625 19.96875 9.375 24.75 \nQ 13.421875 28.328125 19.734375 29.5 \nz\n\" id=\"DejaVuSans-Oblique-949\"/>\n      <path id=\"DejaVuSans-32\"/>\n      <path d=\"M 18.109375 8.203125 \nL 18.109375 -20.796875 \nL 9.078125 -20.796875 \nL 9.078125 54.6875 \nL 18.109375 54.6875 \nL 18.109375 46.390625 \nQ 20.953125 51.265625 25.265625 53.625 \nQ 29.59375 56 35.59375 56 \nQ 45.5625 56 51.78125 48.09375 \nQ 58.015625 40.1875 58.015625 27.296875 \nQ 58.015625 14.40625 51.78125 6.484375 \nQ 45.5625 -1.421875 35.59375 -1.421875 \nQ 29.59375 -1.421875 25.265625 0.953125 \nQ 20.953125 3.328125 18.109375 8.203125 \nz\nM 48.6875 27.296875 \nQ 48.6875 37.203125 44.609375 42.84375 \nQ 40.53125 48.484375 33.40625 48.484375 \nQ 26.265625 48.484375 22.1875 42.84375 \nQ 18.109375 37.203125 18.109375 27.296875 \nQ 18.109375 17.390625 22.1875 11.75 \nQ 26.265625 6.109375 33.40625 6.109375 \nQ 40.53125 6.109375 44.609375 11.75 \nQ 48.6875 17.390625 48.6875 27.296875 \nz\n\" id=\"DejaVuSans-112\"/>\n      <path d=\"M 41.109375 46.296875 \nQ 39.59375 47.171875 37.8125 47.578125 \nQ 36.03125 48 33.890625 48 \nQ 26.265625 48 22.1875 43.046875 \nQ 18.109375 38.09375 18.109375 28.8125 \nL 18.109375 0 \nL 9.078125 0 \nL 9.078125 54.6875 \nL 18.109375 54.6875 \nL 18.109375 46.1875 \nQ 20.953125 51.171875 25.484375 53.578125 \nQ 30.03125 56 36.53125 56 \nQ 37.453125 56 38.578125 55.875 \nQ 39.703125 55.765625 41.0625 55.515625 \nz\n\" id=\"DejaVuSans-114\"/>\n      <path d=\"M 30.609375 48.390625 \nQ 23.390625 48.390625 19.1875 42.75 \nQ 14.984375 37.109375 14.984375 27.296875 \nQ 14.984375 17.484375 19.15625 11.84375 \nQ 23.34375 6.203125 30.609375 6.203125 \nQ 37.796875 6.203125 41.984375 11.859375 \nQ 46.1875 17.53125 46.1875 27.296875 \nQ 46.1875 37.015625 41.984375 42.703125 \nQ 37.796875 48.390625 30.609375 48.390625 \nz\nM 30.609375 56 \nQ 42.328125 56 49.015625 48.375 \nQ 55.71875 40.765625 55.71875 27.296875 \nQ 55.71875 13.875 49.015625 6.21875 \nQ 42.328125 -1.421875 30.609375 -1.421875 \nQ 18.84375 -1.421875 12.171875 6.21875 \nQ 5.515625 13.875 5.515625 27.296875 \nQ 5.515625 40.765625 12.171875 48.375 \nQ 18.84375 56 30.609375 56 \nz\n\" id=\"DejaVuSans-111\"/>\n      <path d=\"M 45.40625 27.984375 \nQ 45.40625 37.75 41.375 43.109375 \nQ 37.359375 48.484375 30.078125 48.484375 \nQ 22.859375 48.484375 18.828125 43.109375 \nQ 14.796875 37.75 14.796875 27.984375 \nQ 14.796875 18.265625 18.828125 12.890625 \nQ 22.859375 7.515625 30.078125 7.515625 \nQ 37.359375 7.515625 41.375 12.890625 \nQ 45.40625 18.265625 45.40625 27.984375 \nz\nM 54.390625 6.78125 \nQ 54.390625 -7.171875 48.1875 -13.984375 \nQ 42 -20.796875 29.203125 -20.796875 \nQ 24.46875 -20.796875 20.265625 -20.09375 \nQ 16.0625 -19.390625 12.109375 -17.921875 \nL 12.109375 -9.1875 \nQ 16.0625 -11.328125 19.921875 -12.34375 \nQ 23.78125 -13.375 27.78125 -13.375 \nQ 36.625 -13.375 41.015625 -8.765625 \nQ 45.40625 -4.15625 45.40625 5.171875 \nL 45.40625 9.625 \nQ 42.625 4.78125 38.28125 2.390625 \nQ 33.9375 0 27.875 0 \nQ 17.828125 0 11.671875 7.65625 \nQ 5.515625 15.328125 5.515625 27.984375 \nQ 5.515625 40.671875 11.671875 48.328125 \nQ 17.828125 56 27.875 56 \nQ 33.9375 56 38.28125 53.609375 \nQ 42.625 51.21875 45.40625 46.390625 \nL 45.40625 54.6875 \nL 54.390625 54.6875 \nz\n\" id=\"DejaVuSans-103\"/>\n      <path d=\"M 44.28125 53.078125 \nL 44.28125 44.578125 \nQ 40.484375 46.53125 36.375 47.5 \nQ 32.28125 48.484375 27.875 48.484375 \nQ 21.1875 48.484375 17.84375 46.4375 \nQ 14.5 44.390625 14.5 40.28125 \nQ 14.5 37.15625 16.890625 35.375 \nQ 19.28125 33.59375 26.515625 31.984375 \nL 29.59375 31.296875 \nQ 39.15625 29.25 43.1875 25.515625 \nQ 47.21875 21.78125 47.21875 15.09375 \nQ 47.21875 7.46875 41.1875 3.015625 \nQ 35.15625 -1.421875 24.609375 -1.421875 \nQ 20.21875 -1.421875 15.453125 -0.5625 \nQ 10.6875 0.296875 5.421875 2 \nL 5.421875 11.28125 \nQ 10.40625 8.6875 15.234375 7.390625 \nQ 20.0625 6.109375 24.8125 6.109375 \nQ 31.15625 6.109375 34.5625 8.28125 \nQ 37.984375 10.453125 37.984375 14.40625 \nQ 37.984375 18.0625 35.515625 20.015625 \nQ 33.0625 21.96875 24.703125 23.78125 \nL 21.578125 24.515625 \nQ 13.234375 26.265625 9.515625 29.90625 \nQ 5.8125 33.546875 5.8125 39.890625 \nQ 5.8125 47.609375 11.28125 51.796875 \nQ 16.75 56 26.8125 56 \nQ 31.78125 56 36.171875 55.265625 \nQ 40.578125 54.546875 44.28125 53.078125 \nz\n\" id=\"DejaVuSans-115\"/>\n     </defs>\n     <g transform=\"translate(14.778125 142.02)rotate(-90)scale(0.1 -0.1)\">\n      <use transform=\"translate(0 0.9375)\" xlink:href=\"#DejaVuSans-Oblique-949\"/>\n      <use transform=\"translate(54.052734 0.9375)\" xlink:href=\"#DejaVuSans-32\"/>\n      <use transform=\"translate(85.839844 0.9375)\" xlink:href=\"#DejaVuSans-112\"/>\n      <use transform=\"translate(149.316406 0.9375)\" xlink:href=\"#DejaVuSans-114\"/>\n      <use transform=\"translate(190.429688 0.9375)\" xlink:href=\"#DejaVuSans-111\"/>\n      <use transform=\"translate(251.611328 0.9375)\" xlink:href=\"#DejaVuSans-103\"/>\n      <use transform=\"translate(315.087891 0.9375)\" xlink:href=\"#DejaVuSans-114\"/>\n      <use transform=\"translate(356.201172 0.9375)\" xlink:href=\"#DejaVuSans-101\"/>\n      <use transform=\"translate(417.724609 0.9375)\" xlink:href=\"#DejaVuSans-115\"/>\n      <use transform=\"translate(469.824219 0.9375)\" xlink:href=\"#DejaVuSans-115\"/>\n     </g>\n    </g>\n   </g>\n   <g id=\"line2d_12\">\n    <path clip-path=\"url(#pb0a6dd93e6)\" d=\"M 68.546307 214.756364 \nL 75.340138 207.012084 \nL 149.800528 146.413099 \nL 224.260917 96.849712 \nL 298.517492 53.675356 \nL 372.909943 17.083636 \n\" style=\"fill:none;stroke:#1f77b4;stroke-linecap:square;stroke-width:1.5;\"/>\n   </g>\n   <g id=\"patch_3\">\n    <path d=\"M 53.328125 224.64 \nL 53.328125 7.2 \n\" style=\"fill:none;stroke:#000000;stroke-linecap:square;stroke-linejoin:miter;stroke-width:0.8;\"/>\n   </g>\n   <g id=\"patch_4\">\n    <path d=\"M 388.128125 224.64 \nL 388.128125 7.2 \n\" style=\"fill:none;stroke:#000000;stroke-linecap:square;stroke-linejoin:miter;stroke-width:0.8;\"/>\n   </g>\n   <g id=\"patch_5\">\n    <path d=\"M 53.328125 224.64 \nL 388.128125 224.64 \n\" style=\"fill:none;stroke:#000000;stroke-linecap:square;stroke-linejoin:miter;stroke-width:0.8;\"/>\n   </g>\n   <g id=\"patch_6\">\n    <path d=\"M 53.328125 7.2 \nL 388.128125 7.2 \n\" style=\"fill:none;stroke:#000000;stroke-linecap:square;stroke-linejoin:miter;stroke-width:0.8;\"/>\n   </g>\n  </g>\n </g>\n <defs>\n  <clipPath id=\"pb0a6dd93e6\">\n   <rect height=\"217.44\" width=\"334.8\" x=\"53.328125\" y=\"7.2\"/>\n  </clipPath>\n </defs>\n</svg>\n",
      "image/png": "[encoded data removed]"
     },
     "metadata": {
      "needs_background": "light"
     }
    }
   ],
   "source": [
    "results, convergence = results_epsilon_0_1\n",
    "convergence = pd.DataFrame(convergence)\n",
    "plt.plot(convergence.nfe, convergence.epsilon_progress)\n",
    "plt.ylabel('$\\epsilon$ progress')\n",
    "plt.xlabel('nfe')\n",
    "plt.show()"
   ]
  },
  {
   "cell_type": "markdown",
   "metadata": {},
   "source": [
    "## Show tradeoffs in the resulting optimal policies\n",
    "The algorithm found 440 solutions. "
   ]
  },
  {
   "cell_type": "code",
   "execution_count": 9,
   "metadata": {},
   "outputs": [
    {
     "output_type": "display_data",
     "data": {
      "application/vnd.plotly.v1+json": {
       "config": {
        "plotlyServerURL": "https://plot.ly"
       },
       "data": [
        {
         "dimensions": [
          {
           "label": "A1 & 2 Damage",
           "values": [
            107642219.09700088,
            0,
            0,
            0,
            51314688.25762066,
            9345424.326721126,
            38572377.47120699,
            28639423.28490081,
            792737789.910447,
            5419852.0366025185,
            2359539.711262356,
            98455679.22044984,
            8211224.453995756,
            0,
            641129.852059045,
            23788468.253609724,
            641129.852059045,
            1973433.5009202186,
            16352228.169386504,
            38572377.47120699,
            0,
            109522181.23640504,
            295860524.35272413,
            234074154.9408724,
            120452696.55085479,
            641129.852059045,
            0,
            99226799.07668568,
            67255823.54642412,
            35610085.48273582,
            163201178.22520193,
            53904180.48461584,
            35610085.48273582,
            15941793.19261147,
            29485093.02169936,
            2377790.0117323683,
            302701612.5510105,
            0,
            20621893.28089634,
            18427641.672599334,
            35610085.48273582,
            1983436.3950672585,
            0,
            18996404.932196088,
            657296.6272089903,
            75394858.69216713,
            55424780.47225079,
            84789298.74800558,
            15941793.19261147,
            637896.4970290562,
            3132853979.2074656,
            0,
            430936982.942027,
            32195604.686045002,
            3074629297.837338,
            0,
            7450169.026933266,
            18861145.403727844,
            0,
            15570372.952905394,
            111829669.02076247,
            248786534.46888223,
            5419852.0366025185,
            57317740.40311241,
            0,
            15570372.952905394,
            1193355009.208402,
            7487809.15038811,
            28704351.072661825,
            155473700.4603143,
            89529807.86028427,
            5559588.228508751,
            11988918.080669034,
            136486571.8389449,
            7299608.533113881,
            198222182.13466144,
            249235785.92796168,
            641129.852059045,
            143551585.10893574,
            318657124.41213435,
            1983436.3950672585,
            7487809.15038811,
            45257330.87493419,
            5153056.350359195,
            51546023.89688037,
            318657124.41213435,
            707391939.6905774,
            641129.852059045,
            667674325.7509012,
            0,
            1158305682.9797795,
            757716786.0009878,
            0,
            601957608.3699418,
            2408207.179182386,
            425879726.40796614,
            1211368130.415491,
            964283151.2771474,
            3074629297.837338,
            659608783.901977,
            132133520.69982624,
            545275091.8533506,
            107446266.86375593,
            17347039.896462146,
            1983436.3950672585,
            660474135.2906233,
            19280152.42291683,
            592427973.8365607,
            1454749427.4207134,
            133960057.51649234,
            165658006.92257416,
            80493123.36003593,
            67653671.98429482,
            781414990.0842552,
            813060728.1479436,
            5086721.448823138,
            781414990.0842552,
            603109828.5846728,
            392287232.4492333,
            0,
            20181817.132245168,
            757716786.0009878,
            2420374.046162394,
            5285726.153431308,
            641129.852059045,
            954079411.114304,
            402147716.8341045,
            39601604.86643408,
            641129.852059045,
            407788204.4819522,
            1577707015.4263575,
            49892635.13677718,
            929262147.3676883,
            120452696.55085479,
            639266127.597658,
            417546746.70623696,
            368861630.279388,
            117924095.44125758,
            516881748.82298696,
            625453131.381164,
            0,
            1279682146.0098019,
            165658006.92257416,
            1283482817.2024655,
            3089658807.329367,
            572629485.3590468,
            615734622.0502424,
            161598058.51644886,
            5285726.153431308,
            8211224.453995756,
            13917139.002548393,
            10286826.356120968,
            224479873.37681893,
            205366689.20807555,
            113491344.78732738,
            7487809.15038811,
            60086756.40239666,
            94961040.0755278,
            625801482.118992,
            1530683863.8694518,
            2420374.046162394,
            582050784.8836161,
            232080235.88960427,
            484561634.80443674,
            86904571.06311542,
            35610085.48273582,
            592427973.8365607,
            33279451.075622197,
            107189678.13364938,
            637896.4970290562,
            51276537.38251283,
            560488462.1624278,
            943979081.4636068,
            23357085.013428394,
            1195023701.694797,
            307336866.7465641,
            6661880.392024776,
            107189678.13364938,
            389555778.2037766,
            13917139.002548393,
            33348867.029583506,
            636978612.2794013,
            34671404.54502726,
            621012738.7093294,
            35089678.368133925,
            67282519.56511544,
            920634841.3616649,
            56660724.42310597,
            3533243888.5422,
            757716786.0009878,
            56660724.42310597,
            3074629297.837338,
            45916513.68129049,
            1258691803.9170876,
            3713327.0156235313,
            246354746.5899005,
            0,
            28704351.072661825,
            1454749427.4207134,
            3074629297.837338,
            56660724.42310597,
            757716786.0009878,
            955655845.2711244,
            2433396303.514989,
            0,
            683309530.1458662,
            72168674.22418988,
            3089658807.329367,
            1634679057.5994525,
            169896233.33583903,
            531660706.94691306,
            2297454853.798922,
            70195256.74109595,
            7356068.718296153,
            2308699646.9258213,
            1386468613.0825956,
            1081190755.799438,
            498836437.4441767,
            41628256.29531892,
            124811602.45289756,
            816435993.9937147,
            2234898553.843152,
            87493073.68112645,
            568556050.4883738,
            743868118.5034143,
            3125082660.961925,
            1834600813.3104784,
            250142744.86538643,
            148512348.6967869,
            636978612.2794013,
            1229391477.414801,
            6661880.392024776,
            94771854.00167498,
            0,
            601957608.3699418,
            3666894349.413842,
            2234898553.843152,
            1758970491.813991,
            6661880.392024776,
            56660724.42310597,
            6661880.392024776,
            125678693.14193152,
            674291106.8544637,
            657296.6272089903,
            121314347.35172065,
            3126437161.3369045,
            5419852.0366025185,
            0,
            2347372.8442823486,
            1956177288.7256196,
            54385598.80852523,
            568556050.4883738,
            0,
            488656740.99797374,
            2420374.046162394,
            648288526.2364067,
            26053570.39415513,
            7450169.026933266,
            601957608.3699418,
            6661880.392024776,
            17220019.34575315,
            16352228.169386504,
            0,
            5285726.153431308,
            3125082660.961925,
            67259695.1254773,
            636773389.0467343,
            636773389.0467343,
            648288526.2364067,
            1195023701.694797,
            757716786.0009878,
            3761762478.2712045,
            110268395.24872205,
            6661880.392024776,
            0,
            4075374003.8145537,
            1997463983.2392387,
            3650988821.7576203,
            955655845.2711244,
            658362496.9184532,
            521136118.92840207,
            867834417.044421,
            25402718.93098741,
            769037043.6665579,
            268123497.84454304,
            3032572367.7217627,
            0,
            7261968.409659038,
            781414990.0842552,
            2234898553.843152,
            1777273186.8328938,
            757716786.0009878,
            1366962120.499701,
            299233704.4315399,
            592427973.8365607,
            389555778.2037766,
            36860839.17466231,
            0,
            613154525.9459481,
            543376505.6757215,
            19280152.42291683,
            1419600464.4377306,
            3798932110.2648406,
            2034787590.8829594,
            4075374003.8145537,
            1130120844.4593098,
            3798932110.2648406,
            2420374.046162394,
            792737789.910447,
            462654160.37991697,
            641129.852059045,
            3309881589.9802623,
            3433173358.6478558,
            1195023701.694797,
            2476622061.05995,
            781414990.0842552,
            954079411.114304,
            0,
            1577707015.4263575,
            1095157259.1112473,
            2034787590.8829594,
            7261968.409659038,
            113491344.78732738,
            5285726.153431308,
            497675164.28937644,
            3074629297.837338,
            189458869.46735945,
            3747652833.1702275,
            1330042600.1703355,
            1034631623.8114372,
            2377790.0117323683,
            1060136255.2017877,
            896843161.6392242,
            3309881589.9802623,
            1060136255.2017877,
            964283151.2771474,
            683309530.1458662,
            40541406.658779375,
            2034787590.8829594,
            837819878.632767,
            550673210.5540855,
            15941793.19261147,
            955655845.2711244,
            176150349.69674343,
            3011195981.0497303,
            3633867494.942976,
            601957608.3699418,
            1069652627.7208962,
            641129.852059045,
            7544269.335570381,
            1956177288.7256196,
            7487809.15038811,
            49408455.67171797,
            27037387.67382388,
            231519265.60039023,
            3620592414.1046743,
            0,
            641129.852059045,
            36860839.17466231,
            244621528.5981489,
            1060136255.2017877,
            3666894349.413842,
            7487809.15038811,
            3747652833.1702275,
            49408455.67171797,
            1521577781.5556722,
            184308294.30267933,
            1046169751.8899783,
            83405130.48456661,
            1034631623.8114372,
            1060136255.2017877,
            3398111970.076136,
            0,
            1069652627.7208962,
            770794449.3999704,
            636978612.2794013,
            2420374.046162394,
            3433173358.6478558,
            2323251938.106116,
            16352228.169386504,
            792737789.910447,
            34731141.038843624,
            342357870.6560236,
            1069652627.7208962,
            1071456512.867358,
            57008818.18450332,
            613154525.9459481,
            1355826810.4289873,
            1069652627.7208962,
            2111515651.1209273,
            1973433.5009202186,
            4075374003.8145537,
            1465245.3663154843,
            65431043.13346726,
            7450169.026933266,
            5559588.228508751,
            87493073.68112645,
            381242740.0562,
            3541301324.1012225,
            2111515651.1209273,
            946637421.9797217,
            16352228.169386504,
            1060136255.2017877,
            782114707.0655407,
            59495659.36292486,
            1077252990.2336817,
            2420374.046162394,
            648832862.3850722,
            0,
            56980818.51800436,
            4075374003.8145537,
            6661880.392024776,
            16352228.169386504,
            2878680558.973834,
            757716786.0009878,
            2234898553.843152,
            2033450.8658024585,
            1777273186.8328938,
            4075374003.8145537,
            18181052.042400453,
            2234898553.843152,
            6661880.392024776,
            7356068.718296153,
            279443755.51011324,
            550673210.5540855,
            657296.6272089903,
            0,
            1911593895.4099016,
            2682899093.9721513,
            1777273186.8328938,
            3578290638.530342,
            683309530.1458662,
            535776143.16293615,
            160607548.05879003,
            627960188.9879985,
            6495362.893367408,
            49408455.67171797,
            35089678.368133925,
            195920258.9088315,
            7487809.15038811
           ]
          },
          {
           "label": "A3 Damage",
           "values": [
            7042846.903009896,
            24247844.17430437,
            708850314.5781535,
            0,
            0,
            390960902.1408757,
            20969617.012244146,
            20969617.012244146,
            26136397.41356513,
            51302122.31711314,
            60816736.51216593,
            0,
            24113853.640215874,
            10058941.046274532,
            0,
            0,
            23233610.580750216,
            14929174.357130645,
            24247844.17430437,
            0,
            1218692.017301855,
            9743084.0476895,
            18873177.55091005,
            0,
            12509322.828838995,
            64817617.60494045,
            24247844.17430437,
            7042846.903009896,
            0,
            107798765.34266314,
            5860342.790553442,
            9276186.856717998,
            7024041.52594725,
            64817617.60494045,
            0,
            0,
            19184068.103485785,
            0,
            935507.7278104764,
            649408273.8606211,
            146946457.71300244,
            1194469.3626520277,
            1196487.9172061798,
            84098703.57060978,
            128419749.39687918,
            68865634.78896421,
            0,
            0,
            23143422.01403674,
            4445828.411915157,
            0,
            24247844.17430437,
            0,
            421653449.51261383,
            0,
            0,
            0,
            96836414.7236106,
            21927171.89375574,
            73603687.59915155,
            0,
            0,
            0,
            9743084.0476895,
            0,
            201089693.71587777,
            9266054.074002104,
            420790138.43042386,
            0,
            5860342.790553442,
            1128292.4637902782,
            23803497.104792755,
            23767309.19994735,
            15655205.044558773,
            0,
            47913718.23854833,
            239599031.36351228,
            0,
            620467103.0699189,
            704899363.1393428,
            93399665.95122412,
            84134891.47545516,
            39816702.47185885,
            2748327.330066784,
            96695762.06846854,
            704899363.1393428,
            92337881.38332024,
            65770814.50373831,
            1053111.573173264,
            674872409.4626273,
            0,
            0,
            0,
            0,
            0,
            0,
            0,
            0,
            50604653.66684086,
            697769358.7084845,
            240986979.6384481,
            14745311.654033978,
            0,
            96938131.79074007,
            391165772.23032624,
            0,
            555911124.4459159,
            0,
            49077304.59437087,
            707587096.1481503,
            0,
            3421927.2574443817,
            987481373.1425744,
            313237138.2607221,
            219970649.54623485,
            199259525.98479488,
            150619909.4752638,
            362328001.0459592,
            0,
            23143422.01403674,
            0,
            26136397.41356513,
            439753488.8283221,
            423772992.49846387,
            76792714.49931456,
            37714368.24982264,
            1128292.4637902782,
            23201337.113791157,
            6679900.924855253,
            0,
            0,
            909375634.8796812,
            0,
            386180209.3087464,
            0,
            10957700.273580603,
            144913736.56539497,
            0,
            146597375.35109818,
            0,
            23803497.104792755,
            37714368.24982264,
            1160907172.482833,
            0,
            425549019.86399466,
            0,
            0,
            445429504.72585166,
            567251077.5325795,
            147603103.8498172,
            8658034.978256648,
            389880922.5242725,
            0,
            0,
            2189032369.4535213,
            1197068755.2761285,
            206974905.2010683,
            1159445742.1940253,
            12269552.64486178,
            132203986.50760046,
            402727180.63656384,
            150766914.07998732,
            47913718.23854833,
            9134540.554621115,
            374306879.1463223,
            241267290.2684119,
            335599835.28879106,
            28105422.797356386,
            1202457460.5046742,
            0,
            2158375596.2871275,
            141675120.88512984,
            87051607.75163224,
            1041676400.0206453,
            0,
            784121755.0108043,
            637018922.1657393,
            1202457460.5046742,
            101582636.709003,
            2094525746.052669,
            2093089180.7391992,
            0,
            91767314.14880957,
            42028793.147189066,
            201732561.01219705,
            1046545928.8428774,
            0,
            1493045542.706067,
            3713431.650383475,
            321299054.79435027,
            90994423.53882574,
            45836882.33547595,
            43538516.46713882,
            5077071.240312339,
            132951507.51466894,
            0,
            23450212.68929639,
            1166796491.6021204,
            79222391.87146159,
            14816403.32086123,
            377107661.82385784,
            179302471.33339,
            0,
            0,
            0,
            1781391010.1161766,
            0,
            2109283845.4431329,
            3713431.650383475,
            834524369.4011106,
            914874313.3585123,
            0,
            1164885820.1203988,
            91812834.41120926,
            76572968.24470659,
            0,
            664506234.1071675,
            0,
            0,
            1588808388.6211886,
            1554721929.8915787,
            87682031.15699206,
            1488717078.9219608,
            29649151.25478034,
            758076588.7262193,
            0,
            3713431.650383475,
            2146365517.633311,
            1865387394.1680984,
            0,
            814012849.6940818,
            1536785384.923704,
            0,
            0,
            443324246.78381836,
            1105810137.9630094,
            2066186382.0432575,
            190977329.58141056,
            472930244.97717,
            1493045542.706067,
            1592716354.2243214,
            12746116.695641425,
            87051607.75163224,
            96970405.25769912,
            0,
            1219108286.8871322,
            61490812.56808433,
            22703581.45461013,
            0,
            24478425.85640689,
            1491093968.5898259,
            0,
            96970405.25769912,
            2065728924.056643,
            1865848585.2680476,
            791775821.2714881,
            148411045.05920187,
            1308021020.8340664,
            826466447.2630764,
            1636239543.8672163,
            20096228.42915528,
            1636239543.8672163,
            43910336.43818462,
            547933732.545553,
            2028574443.4849524,
            1196686089.8594,
            2066074935.013896,
            1433427370.453943,
            861126561.3424591,
            215695322.57101148,
            1514998622.977116,
            3257966.8776771,
            707587096.1481503,
            989025121.9051312,
            104315098.02231228,
            2079347789.1638527,
            1827631908.336812,
            0,
            2041311698.810243,
            343072660.52122,
            1123922501.662363,
            199957148.97707343,
            222432806.30197904,
            1453051753.0755,
            1126743193.6549995,
            20032208.435885694,
            169848519.0961854,
            28286474.053759776,
            2095552335.5482504,
            1518028270.3821516,
            0,
            2042621485.0391066,
            673890722.7570443,
            644986685.2697753,
            625007139.8183694,
            0,
            84102618.00849614,
            525453203.1876516,
            0,
            1637436466.277302,
            834584303.3678975,
            12660387.252461825,
            26979939.424208146,
            1518028270.3821516,
            26979939.424208146,
            0,
            8721048.284998322,
            1493418475.9948962,
            1118341501.2729473,
            1836968639.8183906,
            508876957.17333084,
            50077826.39732181,
            93763234.32868144,
            2010058263.2771304,
            76323083.80214566,
            495493419.55713433,
            1178238659.0852985,
            15299610.516042568,
            316277216.4680926,
            2085837699.1941066,
            672132438.3082713,
            0,
            1588808388.6211886,
            838432335.0042429,
            2065728924.056643,
            204878900.63346276,
            60183270.88341011,
            1271395181.0801964,
            1506850407.9074168,
            80857070.84067056,
            654038025.4224668,
            116675351.12181638,
            0,
            8721048.284998322,
            723145614.4054747,
            0,
            1781391010.1161766,
            700584570.47213,
            2083739888.0074606,
            1518807840.947091,
            1635295250.530825,
            532179812.6247707,
            659837578.2149693,
            714340347.1951388,
            680553768.6018606,
            1380259539.1670554,
            343072660.52122,
            80857070.84067056,
            377638835.92309153,
            1249628439.6626153,
            24478425.85640689,
            697743946.6434903,
            1647443465.9848626,
            740267385.2503744,
            7465409.5847441675,
            316277216.4680926,
            1484217104.555185,
            377638835.92309153,
            389884836.96215886,
            1906082790.569033,
            969048529.4324019,
            0,
            962664939.7159176,
            11488086.948861875,
            2192840491.9924808,
            200878919.25015023,
            696419970.0549536,
            1918905054.936398,
            66137960.94980665,
            1506850407.9074168,
            0,
            147374493.14895678,
            215894910.4933016,
            2029468336.2946925,
            2066391272.4776032,
            1123384707.3626344,
            723842995.1394442,
            145999275.84949994,
            0,
            842634071.0779513,
            656009306.5969027,
            967489240.1566737,
            2026957475.4094453,
            710729980.0240082,
            116675351.12181638,
            1305917642.501492,
            0,
            0,
            2029468336.2946925,
            0,
            1163636984.973507,
            0,
            0,
            2185257823.4334555,
            769009066.2346967,
            1206270126.7158394,
            1192088638.729101,
            1642499202.8612196,
            0,
            3713431.650383475,
            928951163.3712355,
            299993254.74370325,
            1578749449.2307286,
            84137489.48479351,
            1965366604.965849,
            993989340.7445539,
            962664939.7159176,
            0,
            96944961.68290116,
            0,
            2079347789.1638527,
            2192940335.056653,
            2192940335.056653,
            3647843.843112757,
            1092434741.2372732,
            2037608632.342763,
            24247844.17430437,
            316277216.4680926,
            26979939.424208146,
            386910567.6966792,
            2037608632.342763,
            2134432790.1843965,
            99295898.99342597,
            401235581.67721945,
            1921655777.0914621,
            0,
            0,
            655620149.1867095,
            104374737.4904713,
            0,
            92759384.61834876,
            566617062.5578848,
            2152189545.2535577,
            696419970.0549536,
            1061349426.867234,
            71597829.02265136,
            1705378793.7892506,
            169755758.6661379,
            851377864.627095,
            54676525.10609874
           ]
          },
          {
           "label": "A1 & 2 Casualties",
           "values": [
            0.07557728484303533,
            0,
            0,
            0,
            0.04361449901367885,
            0.00863283075083205,
            0.034707286718563775,
            0.023138191145709183,
            0.07626240255505037,
            0.0044055171316125935,
            0.0022027585658062968,
            0.06733546052715339,
            0.007788450237697895,
            0,
            0.0006109238271541907,
            0.01864718172616211,
            0.00007331085925850289,
            0.0018151773513285536,
            0.015173124402743102,
            0.004164874406227653,
            0,
            0.0774508767956488,
            0.23869964251046516,
            0.14211594057919966,
            0.012615601624894952,
            0.0006109238271541907,
            0,
            0.02427490306908163,
            0.0062308366145023344,
            0.0326775771353085,
            0.13355935037157024,
            0.039433275180913815,
            0.0326775771353085,
            0.014451208696470218,
            0.027216092928408108,
            0.00033537918703798467,
            0.07192371834760547,
            0,
            0.002682267503594679,
            0.014080755342096829,
            0.0326775771353085,
            0.0018327714814625727,
            0,
            0.014560419509307697,
            0.0006402473773775565,
            0.006985913227030204,
            0.048640870934054885,
            0.06734268933110253,
            0.014451208696470218,
            0.00021782128215942645,
            0.2335475937138707,
            0,
            0.3480145111700271,
            0.02672370731935152,
            0.6835468636966977,
            0,
            0.0008247716575593228,
            0.01557690047539579,
            0,
            0.011350809819145772,
            0.0829381374584668,
            0.07475819995721228,
            0.0005286620557935114,
            0.048031959770549006,
            0,
            0.011350809819145772,
            0.11449965711148605,
            0.006939302508554888,
            0.00930519459923944,
            0.01516371264008566,
            0.07234151720695613,
            0.000555144200684391,
            0.009874777699737772,
            0.09482334616191296,
            0.002378979251070801,
            0.1547936088314928,
            0.023572578137449292,
            0.0006109238271541907,
            0.1218454683219551,
            0.2690780184480246,
            0.0002199325777755087,
            0.006939302508554888,
            0.03724431685486,
            0.0048170695654900725,
            0.04619737934880808,
            0.03228936221376295,
            0.5600192210420034,
            0.0006109238271541907,
            0.06263404484956606,
            0,
            0.08810834031498747,
            0.07371429153985967,
            0,
            0.07254921492914235,
            0.0022910323821092307,
            0.3426400375313273,
            0.0934027510829804,
            0.738228747909391,
            0.2848111932069575,
            0.5460474013263737,
            0.01373130644525745,
            0.4044069065650199,
            0.011012975348010035,
            0.0019224458386080973,
            0.0002199325777755087,
            0.06393735536097384,
            0.014721002719474385,
            0.056686920304438636,
            0.1470881151556206,
            0.012604485248827228,
            0.015975663072497502,
            0.0074812865358821045,
            0.058551152111697084,
            0.07712631816104171,
            0.07943584551930702,
            0.004696750281111257,
            0.07712631816104171,
            0.4755152795252663,
            0.3066686950400023,
            0,
            0.01690684058349754,
            0.614285762832164,
            0.0023131008361849626,
            0.005057708134247701,
            0.0006109238271541907,
            0.08957631850131548,
            0.03402936133354946,
            0.025561195975622057,
            0.00007331085925850289,
            0.33159093950482704,
            0.13133553637129827,
            0.041785372871871285,
            0.08603933873393621,
            0.10513001354079128,
            0.07921515031470858,
            0.04251876719050001,
            0.0454996028627835,
            0.0110896585956125,
            0.057656020793204275,
            0.06138924434578314,
            0,
            0.9786108846304196,
            0.13313052560414587,
            0.871441934739172,
            0.6881873106608176,
            0.4094620654485338,
            0.17758240686733956,
            0.13778520840168088,
            0.005057708134247701,
            0.007788450237697895,
            0.001828181780388411,
            0.009563590522238813,
            0.18322294566227176,
            0.17085461675129646,
            0.012006439551670495,
            0.006939302508554888,
            0.004554824033723432,
            0.07843272420824329,
            0.4708838388476098,
            0.37161716958577307,
            0.0023131008361849626,
            0.052673546612461306,
            0.1908577791806656,
            0.12769817971566005,
            0.06716577493474905,
            0.003921309256237021,
            0.056686920304438636,
            0.01078086061146899,
            0.010212631827253205,
            0.0006050591171095179,
            0.0372950427350042,
            0.44664618754694985,
            0.7315566565988301,
            0.005819214186022647,
            0.7631481336157666,
            0.03143999187536604,
            0.0007605843466803376,
            0.08510526522711005,
            0.038419022079602766,
            0.012187878535922736,
            0.0036231712690848843,
            0.5048956913208714,
            0.031035589837732292,
            0.05650215958264281,
            0.02135505023728617,
            0.04623019506270163,
            0.7297725611435445,
            0.004169670870904001,
            0.26773156507971896,
            0.07371429153985967,
            0.03474725725753334,
            0.6835468636966977,
            0.040743689412759306,
            0.8101222235147936,
            0.003445979481138933,
            0.19727670227328614,
            0,
            0.0258477627756651,
            0.3530114763734893,
            0.6835468636966977,
            0.004169670870904001,
            0.614285762832164,
            0.11265102294052008,
            0.1683873177083231,
            0,
            0.5602035736329888,
            0.0076645208120625,
            1.9116314185022716,
            0.13777005807418508,
            0.04836633460379977,
            0.42828085025713003,
            0.4606909076476143,
            0.006290920391193295,
            0.006707583740759693,
            0.4649477840381137,
            0.3313184898143623,
            0.10257589730558253,
            0.3648819503300669,
            0.03287629544739633,
            0.10713174908389496,
            0.07967442917623242,
            1.5877353189006271,
            0.07670067671001234,
            0.0533012404042099,
            0.6031650956483208,
            0.23417054707564056,
            0.15315931423213902,
            0.02535159834493638,
            0.018193188208576502,
            0.18176244887551368,
            0.28526577635208883,
            0.0007605843466803376,
            0.08288999639705462,
            0,
            0.4836614328609489,
            0.2844341162782522,
            1.5877353189006271,
            0.14678717464275925,
            0.0007605843466803376,
            0.03474725725753334,
            0.006338202889002814,
            0.10320721674155428,
            0.5531254874796813,
            0.00007682968528530678,
            0.1021998471559111,
            1.942374109787571,
            0.0044055171316125935,
            0,
            0.00026168281340766783,
            0.16562823758752773,
            0.005844610005885596,
            0.4441770033684159,
            0,
            0.04744596429565266,
            0.0023131008361849626,
            0.5389693151730662,
            0.001708404018982894,
            0.0008247716575593228,
            0.058039371943313864,
            0.0007605843466803376,
            0.01563004332296239,
            0.015173124402743102,
            0,
            0.005057708134247701,
            0.23417054707564056,
            0.044376086328019114,
            0.06223861468418004,
            0.518655122368167,
            0.5389693151730662,
            0.27473332810167606,
            0.07371429153985967,
            0.8775428728289484,
            0.08878683275661045,
            0.006338202889002814,
            0,
            2.6775926264905334,
            0.16702357155481942,
            0.281926957001096,
            0.09012081835241606,
            0.5179586993853609,
            0.048229197011458315,
            0.6673608761235754,
            0.00841152625671373,
            0.6213638489854716,
            0.08043824814619488,
            0.22462861343842735,
            0,
            0.0065420703351916935,
            0.07712631816104171,
            0.19052823826807527,
            1.2224289141686522,
            0.07371429153985967,
            0.3266399811393565,
            0.23988112235008566,
            0.056686920304438636,
            0.038419022079602766,
            0.023042565471205263,
            0,
            0.4767196155109696,
            0.4329600649467215,
            0.014721002719474385,
            0.3392825384296016,
            2.472720410376023,
            0.17512125095401415,
            0.321311115178864,
            0.8838251167249143,
            0.2967264492451228,
            0.0023131008361849626,
            0.6355200212920866,
            0.3812268634904904,
            0.0006109238271541907,
            2.078091222879765,
            0.26249363384262697,
            0.27473332810167606,
            0.17357341973182494,
            0.642719318008681,
            0.7464693208442956,
            0,
            1.0944628030941523,
            0.10457442985677996,
            1.4593437579501183,
            0.0007850484402230032,
            0.036019318655011484,
            0.005057708134247701,
            0.14488600390214867,
            0.2278489545655659,
            0.1619886872023492,
            2.4210973794249084,
            0.12144827016494365,
            0.8197032160667729,
            0.0022358612469198977,
            0.10202631884158923,
            0.6756105994726987,
            2.078091222879765,
            0.3060789565247677,
            0.08858744974912691,
            0.06722442883595865,
            0.003164278164834032,
            1.4593437579501183,
            0.08124199014397115,
            0.4580730627564482,
            0.014451208696470218,
            0.7510068196034669,
            0.15403575271863065,
            1.8617322860410968,
            0.279792177095044,
            0.4836614328609489,
            0.8409374745266955,
            0.00007331085925850289,
            0.0070386105518956904,
            0.4968847127625832,
            0.0008327163010265865,
            0.034607432507896614,
            0.021651227104460942,
            0.1865451797921628,
            2.3160655435605593,
            0,
            0.00007331085925850289,
            0.023042565471205263,
            0.024116546964302446,
            0.8502193236799103,
            0.8533023488347566,
            0.006939302508554888,
            0.290531685530989,
            0.034607432507896614,
            0.36899406773669424,
            0.14912385309876766,
            0.10002778629039184,
            0.00854440305531604,
            0.8197032160667729,
            0.10202631884158923,
            0.25900300810333193,
            0,
            0.8409374745266955,
            0.07559067559797518,
            0.5048956913208714,
            0.0023131008361849626,
            2.1874469486885584,
            0.1569326599974052,
            0.015173124402743102,
            0.07626240255505037,
            0.030591598188916762,
            0.03398810289055675,
            0.10091249694320344,
            0.857297409833218,
            0.005069071923154857,
            0.05720635386131635,
            1.0428066651056742,
            0.10091249694320344,
            1.4817450718357674,
            0.0018151773513285536,
            0.321311115178864,
            0.00014521418810628427,
            0.04281556574615356,
            0.006873097146327692,
            0.000693930250855489,
            0.07670067671001234,
            0.3176077945464622,
            0.27027653611131697,
            0.1778094086202921,
            0.08927144801401915,
            0.0022759686604114657,
            0.10202631884158923,
            0.0955500574204651,
            0.00449240321044881,
            0.10182867696541073,
            0.0023131008361849626,
            0.06080259228736805,
            0,
            0.006156243597568572,
            0.321311115178864,
            0.006338202889002814,
            0.0018207749283291727,
            0.6243705726038821,
            0.614285762832164,
            0.19052823826807527,
            0.00023048905585592032,
            0.18336433712529787,
            2.6775926264905334,
            0.013432066985384405,
            0.5715847148042258,
            0.006338202889002814,
            0.0008049100488911631,
            0.2305176643371821,
            0.4580730627564482,
            0.00009603710660663349,
            0,
            1.3535012705194849,
            0.190867418837495,
            0.18336433712529787,
            2.2824920342008483,
            0.06722442883595865,
            0.4253252314283276,
            0.13496768079215266,
            0.05973811262010766,
            0.006038917219798454,
            0.034607432507896614,
            0.02135505023728617,
            0.16244232527462468,
            0.0008327163010265865
           ]
          },
          {
           "label": "A3 Casualties",
           "values": [
            0.012142510342529571,
            0.005160454364398892,
            1.1530944537141021,
            0,
            0,
            0.6131494032166918,
            0.03631853025609294,
            0.03631853025609294,
            0.004951202755453314,
            0.07519244394904362,
            0.09735949169453373,
            0,
            0.04258054325683735,
            0.002699962916778055,
            0,
            0,
            0.0047898505070501475,
            0.02562940463568384,
            0.043003786369990776,
            0,
            0.0021710907155173408,
            0.017002038273523166,
            0.03204534682514816,
            0,
            0.002512233600924797,
            0.105617662807236,
            0.005160454364398892,
            0.004371303723310645,
            0,
            0.18500778882265206,
            0.010085728310155095,
            0.015754825446230275,
            0.00964856775655694,
            0.105617662807236,
            0,
            0,
            0.011828851952811541,
            0,
            0.000304622421441165,
            1.05844389623904,
            0.2508717398232129,
            0.0020945773122939366,
            0.0002521144115075065,
            0.14121831434684867,
            0.21032574003108795,
            0.014102750663893032,
            0,
            0,
            0.03967628880603848,
            0.0027818536350515113,
            0,
            0.043003786369990776,
            0,
            0.7038527395954063,
            0,
            0,
            0,
            0.16689871054794375,
            0.03658081390305126,
            0.1246863013996674,
            0,
            0,
            0,
            0.017002038273523166,
            0,
            0.2999751208242136,
            0.0022992062040081114,
            0.6669904553443428,
            0,
            0.0012102873972186115,
            0.0019075313185816648,
            0.0049920244033124115,
            0.041485894677793886,
            0.02291711341188309,
            0,
            0.07926504266005499,
            0.05564424015022567,
            0,
            1.0275742903179321,
            1.1425953402275864,
            0.01721185563241096,
            0.14133262302999153,
            0.07142507178454513,
            0.004201906858458441,
            0.1658158200111565,
            0.13711144082731036,
            0.15835789330178052,
            0.1077186162364652,
            0.0002066171315864492,
            1.0993207632903683,
            0,
            0,
            0,
            0,
            0,
            0,
            0,
            0,
            0.012162491858126056,
            1.1249038123279058,
            0.056160294033041784,
            0.024285020685059142,
            0,
            0.025083001458544845,
            0.07364776937982677,
            0,
            0.8906714377034399,
            0,
            0.009702171962282872,
            0.13792165104748266,
            0,
            0.0006948649435394836,
            1.4493380183858684,
            0.06031337395592255,
            0.04180405952918947,
            0.3063255934233563,
            0.024599913768279528,
            0.6006034444996899,
            0,
            0.004761154656724618,
            0,
            0.04126002296211096,
            0.7085906587052795,
            0.7077052679487709,
            0.1224662769234624,
            0.007395768007369589,
            0.00022890375822979975,
            0.03981347695461967,
            0.0013945927871611885,
            0,
            0,
            1.280318017201945,
            0,
            0.6157839075093952,
            0,
            0.0021777831275311592,
            0.03148537453769018,
            0,
            0.03053218211149638,
            0,
            0.04160020336093676,
            0.06163140006141324,
            1.7660864289022211,
            0,
            0.2473032532172235,
            0,
            0,
            0.7440198659893965,
            0.9157897799780532,
            0.2529062832879253,
            0.0022879639097784076,
            0.6252759433002633,
            0,
            0,
            0.413764953142448,
            1.8540450164517333,
            0.04056018075107816,
            1.763828495668833,
            0.020171456620310196,
            0.0652293241725084,
            0.6428144354307794,
            0.025514637252962685,
            0.07926504266005499,
            0.004371303723310645,
            0.5864251396487674,
            0.04502278885371831,
            0.055549265672674944,
            0.01822576515328349,
            0.2239602952931906,
            0,
            3.375597284305045,
            0.24009437458128344,
            0.14336788134091613,
            0.5868865500671512,
            0,
            0.15263491596696294,
            0.12486701425723955,
            1.8663357941099217,
            0.01874341230726831,
            3.2222542279915283,
            0.3862042902192345,
            0,
            0.14281707642180635,
            0.008553596138156422,
            0.3141325184148198,
            1.5769803042155677,
            0,
            0.2788558933248318,
            0.0007035681527705808,
            0.060303818470019074,
            0.1431546579589063,
            0.027308261087944177,
            0.06923578637538988,
            0.00863307760271263,
            0.21115235021099246,
            0,
            0.005791744506898855,
            1.7805419042775,
            0.046570425418957784,
            0.009102753695981392,
            0.07120601096348175,
            0.2743709748885898,
            0,
            0,
            0,
            2.7516033453212483,
            0,
            3.2564345855456427,
            0.0007035681527705808,
            0.4902188567431728,
            1.3799977981072158,
            0,
            0.2130941927616047,
            0.14526462878291913,
            0.048069726689246084,
            0,
            0.1251279353054728,
            0,
            0,
            2.5527804486527943,
            0.25739653660921746,
            0.1375873696112886,
            2.3126001718268387,
            0.005560472261143732,
            1.2039368777889148,
            0,
            0.0007035681527705808,
            0.4014417627281419,
            0.432845044927153,
            0,
            0.4541720932985938,
            0.2692747682333774,
            0,
            0,
            0.6858418190298969,
            0.20580290925211756,
            3.160645171711877,
            0.03612723986043533,
            0.09497659352243364,
            2.323799111040265,
            2.564022533608033,
            0.020602872544629152,
            0.14336788134091613,
            0.02007863443933166,
            0,
            1.9057171378223337,
            0.09663658228526488,
            0.038542612784799216,
            0,
            0.0038454416190177782,
            0.278223019783612,
            0,
            0.02007863443933166,
            0.3785692791889763,
            2.7737121488886154,
            1.2215846624968179,
            0.02802732086179398,
            0.23416989399652735,
            0.1342361467059465,
            0.2789026392248069,
            0.0317531266838442,
            2.3241886602067243,
            0.06793831017201478,
            0.8727859936080625,
            0.3689977990214888,
            1.8528728643457293,
            0.3783504542033077,
            2.1929166636189903,
            1.364952543837734,
            0.1273199344840615,
            0.2475476282080837,
            0.0018595541842780425,
            1.1493470920623556,
            1.4539318662639216,
            0.019758753935577262,
            3.1847161906665797,
            0.3311608803990346,
            0,
            0.3712318762195859,
            0.5361721813417999,
            0.20433174624510148,
            0.28673576268183226,
            0.12016707159451948,
            2.230040360142038,
            0.6152480858301606,
            0.003437896677230905,
            0.0321155200440145,
            0.046111741189362204,
            0.3867825503479257,
            0.25126689773491595,
            0,
            0.3720190821820536,
            0.38236610220544665,
            0.9902952981056404,
            0.09645500336911944,
            0,
            0.14123067909252662,
            0.8028880011003625,
            0,
            2.5649994227781407,
            1.3203020986920562,
            0.00713035116812038,
            0.04297370846538631,
            0.25126689773491595,
            0.005156845015846357,
            0,
            0.0017189483386154526,
            2.3249414524194165,
            1.7069373954412488,
            2.7059732967722705,
            0.7988510627288545,
            0.09028053903833744,
            0.01480851964885041,
            1.136164402655357,
            0.01521443218632605,
            0.7893472123145202,
            1.9224240143724585,
            0.026721775754351997,
            0.4942948377313818,
            0.38403156861152776,
            1.0615720635555264,
            0,
            0.919000961515006,
            1.372961131464052,
            1.1357078375669287,
            0.039855833784242886,
            0.0994364992803652,
            1.9440596932197725,
            0.2461523484682276,
            0.12378006888633285,
            1.0122189419316072,
            0.022187304022108768,
            0,
            0.014324569488462103,
            0.4062188726336365,
            0,
            0.3301924014385498,
            0.1316963810891148,
            3.1950807780640136,
            0.2804416415816224,
            2.558247670943372,
            0.8192903873348827,
            1.0311996561655166,
            1.1584512240452065,
            1.0571772409362414,
            0.2510188887579319,
            0.5361721813417999,
            0.12378006888633285,
            0.07137382127437211,
            1.8449673718423216,
            0.01153632485705334,
            0.13308111784168214,
            2.3488868619858,
            1.1959962961466275,
            0.009251074509242528,
            0.4942948377313818,
            0.8290136566515354,
            0.07137382127437211,
            0.6252883080459413,
            0.3592358010619041,
            1.5078343488980637,
            0,
            1.3921131269968037,
            0.0021107044583117424,
            3.4589775293299105,
            0.11821718078808012,
            1.0956820278887838,
            0.3504956470331367,
            0.012151431091989287,
            2.0512695705685635,
            0,
            0.028289504194777375,
            0.1228097069277805,
            3.0769043558528453,
            0.3783957975999753,
            1.701096930423975,
            1.1497309117642458,
            0.2324840913257113,
            0,
            1.3384161601537194,
            0.1230761742341138,
            1.3869984703905398,
            0.3837877873845925,
            0.13297857974502045,
            0.1848942001842397,
            0.2539259032549761,
            0,
            0,
            0.3692285227023414,
            0,
            1.7730197879396736,
            0,
            0,
            3.4404435342544915,
            1.2166074545000758,
            0.2814256133925328,
            1.8410983245434251,
            2.5760232972132844,
            0,
            0.0007035681527705808,
            0.17194932575906732,
            0.07529487914749372,
            0.2634168137483881,
            0.01981551596095673,
            0.3736571197255704,
            0.1809114554100572,
            1.3921131269968037,
            0,
            0.01905081677728379,
            0,
            0.3821659428799895,
            3.459283361142305,
            0.4151140033370767,
            0.00205237590057578,
            1.6581863677527338,
            0.3751451478431688,
            0.005160454364398892,
            0.07414422565970727,
            0.04297370846538631,
            0.6179130615464461,
            1.1254354435295064,
            3.344506131570061,
            0.019209962879661587,
            0.6047514128814316,
            2.90431462394228,
            0,
            0,
            1.0246734366140626,
            0.024456063035289268,
            0,
            0.14496929459544267,
            0.09203310915612496,
            3.3586967895441857,
            1.0956820278887838,
            0.193021985283048,
            0.11902886641811546,
            2.4732050292769063,
            0.2673919032623453,
            1.1708694461869855,
            0.009984048806624823
           ]
          },
          {
           "label": "Investment Costs",
           "values": [
            2406342225.894489,
            2588652482.5835056,
            2769169946.236273,
            2209216652.196032,
            2902976718.142399,
            1850141390.598008,
            1913518092.9589128,
            2482245307.6181164,
            801741997.5420809,
            1900364265.3413773,
            2326896897.982476,
            2712512382.209834,
            3146161387.802762,
            2784274072.420461,
            1910118059.757784,
            2049490392.5062602,
            2260290735.7906218,
            1637978830.9433026,
            2463784505.550621,
            2147388871.4210298,
            2032921312.6637974,
            2216374429.0131397,
            1493930619.8876061,
            2552200454.6852345,
            1384050103.3315687,
            2193540090.7924232,
            2398816602.3233685,
            2165982580.762109,
            2114500479.2749891,
            2499919543.875112,
            1127011929.8399885,
            1294074312.1704865,
            1569174782.7250636,
            1595466015.2763932,
            1949202598.0833585,
            1420363540.1467266,
            1751502316.0266714,
            1774220272.7985344,
            2140524431.2736442,
            2175024720.4232874,
            1189930931.9470382,
            1495245937.8882213,
            1986429591.8759527,
            2105910600.9834974,
            2596492865.4185963,
            1533372839.9590967,
            1343076911.996136,
            1726972914.096094,
            1314276902.9364247,
            1855796254.801929,
            704202299.9137014,
            3362893998.12154,
            1244672546.8054025,
            2480490428.4371552,
            1443582737.925052,
            1886657122.532595,
            1294664389.2887356,
            1591116979.0647125,
            1843063454.0170739,
            2542993410.560561,
            1250564843.0557265,
            1697385516.2195618,
            1766068694.6199708,
            2716254681.901226,
            2036005277.0813632,
            2299308414.296286,
            1168823695.6276364,
            1493076534.1398828,
            1438942062.870662,
            1034750401.963099,
            1174240460.2521205,
            1720007788.659364,
            1617131989.4151561,
            1806605713.0134692,
            1306446792.1478405,
            1150653437.4203045,
            1464192912.1022508,
            1554297886.0476127,
            1603365082.6238868,
            1026636069.3870263,
            1669113787.1817017,
            2478970205.6402025,
            1219940614.4870205,
            1825502095.9270976,
            2730656266.8104105,
            1026636069.3870263,
            1556576858.5839188,
            1429578167.4596891,
            1277141362.8313859,
            2940932003.62025,
            1398645110.2542481,
            1196133726.4531202,
            1181441105.0137868,
            958723468.9313248,
            1630410690.0564885,
            1944803006.4136992,
            1431654420.9326332,
            755223200.8427675,
            761010942.3479626,
            1053386348.4971582,
            1463174235.9024618,
            1242396843.1906257,
            1129943465.092674,
            1590449941.3636825,
            1165916424.952242,
            791626714.8503387,
            2239070298.5332623,
            953102172.0430887,
            1171601683.980242,
            1034647131.4880557,
            898034097.5756515,
            1007989138.7601193,
            1299738091.2401936,
            883914165.540006,
            1119503467.3044264,
            1391224904.4336267,
            1218306522.6433663,
            1386848794.8083014,
            1541911676.3238235,
            1463040942.4765673,
            1479151383.4109142,
            748085779.8929447,
            1379441276.5295994,
            2544378200.2363873,
            2071873188.1056578,
            1469040524.3356898,
            957608257.8598646,
            1262006200.0062413,
            1426369407.3492098,
            777654838.0594945,
            1066634787.4945426,
            1133821397.34534,
            1284370924.859113,
            857138975.7200371,
            1325383086.409211,
            1364711045.453623,
            1285830812.6329954,
            995105690.1144401,
            1452873233.719991,
            1678200673.666373,
            2593518328.1701393,
            1215522475.3118944,
            734744236.0736145,
            1338290690.8976939,
            698354492.8278041,
            1571861398.8095722,
            1244450700.0097551,
            1515848612.8104944,
            2304584261.702762,
            1923164431.735444,
            1778922402.5694344,
            1208619640.0370867,
            1078678962.650693,
            1228313508.5713875,
            838476525.4547992,
            918477562.0086113,
            913950497.4327699,
            1055352972.5263081,
            1214925882.4860528,
            997778710.4966842,
            2509682325.22714,
            1303243583.8807113,
            1194378531.1550653,
            1507912286.3388028,
            1078858773.270783,
            1768029220.6562824,
            504553060.26416194,
            1999817670.8954968,
            930854541.5082617,
            1905610190.173872,
            718675174.2156565,
            1870419194.89954,
            1383618231.6627095,
            883058464.4721742,
            1510331797.0806727,
            1079918474.0389745,
            1719499238.9410331,
            955693292.8003836,
            550341943.023304,
            1368838121.7906942,
            906351892.2947227,
            807468285.0205172,
            2035653995.683827,
            1561293516.5163481,
            762134321.9319191,
            967547506.467202,
            422050463.8176305,
            777457722.2705207,
            794683313.035342,
            778182341.9697871,
            646302740.3908203,
            1256336665.0746036,
            1132703389.9727473,
            1521349243.4764605,
            1442072851.780543,
            899872967.8680047,
            1836539898.9066255,
            939151612.1183963,
            1179934424.2423005,
            1371964134.5880687,
            931090019.2360672,
            740848429.8313208,
            522782833.88769853,
            799807360.501446,
            1782554618.8713882,
            523937512.9224783,
            1051978887.3137923,
            470338851.8846488,
            1195104879.8465538,
            862053197.2609586,
            537461328.6637318,
            1206593674.6281812,
            1068562148.8394443,
            638455005.6287332,
            1232790963.6166773,
            1709058691.6058905,
            486415180.0139501,
            1677989296.5594535,
            1489943010.535141,
            1019491878.5382242,
            426621357.32168657,
            541043153.1036516,
            1125872892.5414274,
            611975447.2185295,
            1202260231.9947276,
            728560016.0738312,
            939968389.82384,
            620389171.085696,
            834968447.9426794,
            877148487.9646537,
            789687234.7958254,
            1621791682.5795689,
            973206000.7941962,
            2618766591.061315,
            322566663.38731235,
            447382243.14382905,
            501938078.16204697,
            1147795105.6226993,
            1791923543.0200636,
            916409419.7520994,
            1498450326.733992,
            886856113.4071779,
            1088451249.1385634,
            1986523312.503907,
            1540936151.146162,
            519547740.19612664,
            994902782.3110343,
            1618747887.6904335,
            1245423945.7832072,
            834204912.4409057,
            1072930068.8043332,
            316077223.1902959,
            2103913167.2951696,
            616564643.0261854,
            1133032923.8973954,
            1144486415.9195194,
            862763659.9892112,
            975454844.8269783,
            765439934.7106466,
            1362007082.165549,
            1291253473.2415,
            927472905.1318859,
            1569828955.087233,
            2451087266.2271523,
            432921732.743902,
            667845994.6587057,
            594000723.3237295,
            820065375.4464648,
            1139463066.0499349,
            992292620.0858928,
            845128366.7906574,
            366637326.2899848,
            1098525206.7550087,
            1629945133.7537632,
            829116297.9588871,
            157181128.53904316,
            383720028.5537002,
            675333831.5129247,
            291454638.7464024,
            677997360.3122671,
            1015086773.5743141,
            1348907825.8711116,
            973346891.9464233,
            773256705.4744716,
            692810378.6660223,
            1175174698.6286438,
            1152567290.848975,
            887852909.5459994,
            724138204.5338503,
            501387876.86104035,
            701125884.1014987,
            793601374.8360858,
            855145062.4794799,
            671533318.4340322,
            803743421.2277515,
            1016619262.4786928,
            1279146283.6197715,
            1463057596.7293706,
            509364703.70863044,
            906623511.3316901,
            1980496637.854802,
            966450422.0511248,
            606891584.8454418,
            577153111.1975018,
            423567118.4041574,
            1047611750.9608078,
            661384499.4481919,
            1459807614.233484,
            627799192.8293291,
            712545453.000537,
            1876021441.8261878,
            610194175.7314923,
            795950973.0429707,
            917004704.9209187,
            1133260653.2967794,
            758744535.9418435,
            644840531.2674026,
            1903546042.0399227,
            692807854.8172258,
            277812195.9247172,
            579592805.2416937,
            1018825677.1630367,
            1019733997.1403576,
            1892825087.5014966,
            474725545.24810284,
            1045942182.1508498,
            1046182955.865518,
            305042422.0201978,
            544674986.6489604,
            843877331.9494206,
            1260379717.8133035,
            666206623.0346389,
            836052515.7174809,
            682341503.2762437,
            714306694.9125628,
            622822233.2065058,
            438735617.2124558,
            883504058.9992756,
            524873355.34754753,
            372525877.2774165,
            805444205.5956659,
            909945044.7940176,
            385435658.6064186,
            1330253081.5449884,
            353987668.6083968,
            321595124.57150245,
            592816432.5474548,
            359159397.68128115,
            1817046810.7668948,
            1301771259.279693,
            795175360.9160337,
            608197462.408152,
            860545231.8800437,
            1165901351.654859,
            775585042.0372838,
            251720656.12484,
            1068754197.5508447,
            1870644188.4000735,
            1260797977.7723074,
            817839126.9045749,
            672156260.6752089,
            419929249.20912313,
            942669081.8722943,
            206690266.62809303,
            805047681.4230895,
            1059497177.6251963,
            573410150.8123384,
            365941934.4862152,
            858376803.3992766,
            462489638.41973066,
            670662480.7232782,
            721673314.0113118,
            1001588965.6830428,
            157181128.53904316,
            331832530.2538274,
            295150845.6486859,
            1500625169.4755886,
            487372598.07856435,
            1195260334.7240796,
            1271079844.5087795,
            586747992.3934457,
            809332040.5454288,
            753613578.2267662,
            426104263.5539524,
            514999662.83546317,
            1037712251.8772918,
            611370262.5778892,
            764683572.0909196,
            147809413.48251575,
            360333710.8912584,
            766382455.8637124,
            647733543.5770513,
            1733922503.9602046,
            562224498.3101891,
            1292550111.2142026,
            1442967851.314792,
            632870001.6384528,
            715231288.7394375,
            497933728.1679371,
            669329712.080428,
            520005431.15731364,
            1102974730.1440058,
            471528142.1999512,
            764509213.9951906,
            789808850.8916646,
            545596736.5654477,
            1310838052.0393493,
            417564696.69260526,
            1951771599.9550629,
            1756180254.345575,
            103496580.93728644,
            1291748420.021193,
            1086356862.6443846,
            638450019.197943,
            1130464927.0405602,
            447813017.9535472,
            2077018408.7522163,
            446311139.2560941,
            202855556.57476696,
            873085326.7446157,
            486843755.77705234,
            885217784.212947,
            1033138418.8145963,
            703292221.6393666,
            739657055.4680477,
            2218362439.9056478,
            1454767552.7205415,
            700855925.0606327,
            1076664456.6681693,
            626673413.8786916,
            251720656.12484,
            824464130.0893134,
            663508489.5092068,
            736884656.2831483,
            391101178.8463514,
            1160219029.5737355,
            851550432.5572169,
            976110721.4030461,
            787530853.8502855,
            1601589533.8640506
           ]
          },
          {
           "label": "RfR Investment Costs",
           "values": [
            30700000,
            0,
            0,
            146000000,
            0,
            146000000,
            30700000,
            30700000,
            115300000,
            176700000,
            92100000,
            0,
            0,
            0,
            146000000,
            115300000,
            61400000,
            267200000,
            84600000,
            30700000,
            115300000,
            0,
            84600000,
            0,
            115300000,
            61400000,
            84600000,
            30700000,
            0,
            0,
            199900000,
            146000000,
            302400000,
            230600000,
            84600000,
            267200000,
            0,
            286800000,
            92100000,
            0,
            302400000,
            837700000,
            363800000,
            30700000,
            0,
            0,
            146000000,
            84600000,
            486700000,
            267200000,
            317500000,
            0,
            84600000,
            0,
            0,
            837700000,
            408000000,
            169200000,
            394500000,
            30700000,
            279200000,
            30700000,
            261300000,
            0,
            317500000,
            30700000,
            30700000,
            333100000,
            61400000,
            115300000,
            351800000,
            199900000,
            115300000,
            30700000,
            176700000,
            115300000,
            0,
            619900000,
            0,
            84600000,
            146000000,
            30700000,
            279200000,
            230600000,
            0,
            84600000,
            0,
            448400000,
            121200000,
            0,
            61400000,
            115300000,
            176700000,
            146000000,
            492600000,
            30700000,
            0,
            115300000,
            286800000,
            84600000,
            0,
            30700000,
            182600000,
            84600000,
            146000000,
            371400000,
            0,
            351800000,
            0,
            84600000,
            402100000,
            182600000,
            0,
            169200000,
            0,
            394500000,
            0,
            0,
            61400000,
            486700000,
            1043500000,
            333100000,
            417700000,
            0,
            61400000,
            0,
            182600000,
            146000000,
            922300000,
            535300000,
            61400000,
            115300000,
            30700000,
            199900000,
            121200000,
            84600000,
            84600000,
            176700000,
            0,
            30700000,
            30700000,
            0,
            146000000,
            0,
            0,
            0,
            61400000,
            0,
            0,
            84600000,
            30700000,
            417700000,
            115300000,
            363800000,
            84600000,
            540600000,
            504600000,
            146000000,
            30700000,
            0,
            30700000,
            0,
            30700000,
            30700000,
            146000000,
            0,
            351800000,
            0,
            115300000,
            741100000,
            205800000,
            0,
            0,
            369700000,
            30700000,
            0,
            0,
            115300000,
            363800000,
            115300000,
            199900000,
            146000000,
            61400000,
            0,
            267200000,
            217800000,
            538900000,
            248500000,
            30700000,
            333100000,
            656500000,
            0,
            753100000,
            0,
            436400000,
            146000000,
            176700000,
            146000000,
            0,
            0,
            535300000,
            333100000,
            236500000,
            30700000,
            230600000,
            84600000,
            417700000,
            0,
            30700000,
            217800000,
            236500000,
            61400000,
            146000000,
            874300000,
            0,
            0,
            205800000,
            30700000,
            248500000,
            84600000,
            84600000,
            0,
            115300000,
            382500000,
            0,
            30700000,
            30700000,
            205800000,
            84600000,
            146000000,
            151900000,
            0,
            577200000,
            30700000,
            363800000,
            0,
            0,
            0,
            0,
            248500000,
            0,
            656500000,
            84600000,
            0,
            84600000,
            0,
            783800000,
            692500000,
            856400000,
            0,
            115300000,
            771800000,
            0,
            115300000,
            199900000,
            0,
            554000000,
            405700000,
            61400000,
            84600000,
            654200000,
            0,
            650600000,
            0,
            30700000,
            504600000,
            115300000,
            115300000,
            0,
            0,
            30700000,
            121200000,
            84600000,
            0,
            771800000,
            0,
            151900000,
            30700000,
            236500000,
            279200000,
            146000000,
            0,
            217800000,
            115300000,
            230600000,
            0,
            432800000,
            771800000,
            0,
            0,
            61400000,
            30700000,
            121200000,
            267200000,
            182600000,
            146000000,
            115300000,
            650600000,
            432800000,
            0,
            0,
            30700000,
            0,
            0,
            0,
            30700000,
            0,
            30700000,
            115300000,
            115300000,
            317500000,
            0,
            0,
            0,
            0,
            0,
            0,
            151900000,
            61400000,
            84600000,
            0,
            638600000,
            84600000,
            0,
            115300000,
            0,
            248500000,
            30700000,
            30700000,
            30700000,
            607900000,
            0,
            61400000,
            0,
            169200000,
            371400000,
            84600000,
            236500000,
            0,
            217800000,
            84600000,
            486700000,
            236500000,
            0,
            151900000,
            151900000,
            363800000,
            115300000,
            146000000,
            121200000,
            0,
            333100000,
            84600000,
            84600000,
            602000000,
            61400000,
            371400000,
            146000000,
            115300000,
            84600000,
            0,
            0,
            248500000,
            30700000,
            84600000,
            0,
            236500000,
            290400000,
            261300000,
            30700000,
            169200000,
            0,
            394500000,
            115300000,
            641400000,
            146000000,
            286800000,
            0,
            0,
            217800000,
            115300000,
            569600000,
            84600000,
            115300000,
            84600000,
            0,
            432800000,
            0,
            115300000,
            30700000,
            825700000,
            0,
            267200000,
            473900000,
            151900000,
            115300000,
            589200000,
            84600000,
            213300000,
            30700000,
            236500000,
            0,
            0,
            205800000,
            217800000,
            30700000,
            199900000,
            400400000,
            30700000,
            0,
            0,
            0,
            169200000,
            92100000,
            30700000,
            0,
            84600000,
            61400000,
            0,
            371400000,
            0,
            169200000,
            523300000,
            402100000,
            0,
            0,
            515700000,
            30700000,
            0,
            61400000,
            182600000,
            84600000,
            84600000,
            236500000,
            146000000,
            704500000,
            84600000,
            432800000,
            146000000,
            30700000
           ]
          },
          {
           "label": "Evacuation Costs",
           "values": [
            0,
            1030.416909520005,
            0,
            0,
            0,
            0,
            0,
            0,
            42632.4244171608,
            0,
            0,
            0,
            0,
            340.77248035187444,
            0,
            0,
            1894.2047754751682,
            0,
            0,
            1973.4959456756592,
            0,
            0,
            0,
            0,
            7258.950556343512,
            0,
            1030.416909520005,
            792.9286500946812,
            2290.533157310509,
            0,
            0,
            0,
            0,
            0,
            0,
            444.91232730210334,
            2258.843061189456,
            437.1433227319082,
            1773.3889015355523,
            0,
            0,
            0,
            59.94690148068527,
            0,
            0,
            5180.060603014036,
            0,
            0,
            0,
            313.9265046836303,
            35185.22834727885,
            0,
            0,
            0,
            15496.841478241024,
            0,
            378.2204720685736,
            0,
            0,
            0,
            0,
            6442.457019641634,
            778.4119477611539,
            0,
            0,
            0,
            13058.351798507496,
            0,
            724.927199687917,
            6923.8062024773535,
            0,
            1280.3382971761282,
            0,
            0,
            180.738647793819,
            0,
            10554.88922567829,
            0,
            0,
            0,
            5424.286420251339,
            0,
            0,
            0,
            0,
            49981.05976749191,
            0,
            0,
            34384.64869576926,
            0,
            16420.624585972313,
            40967.281946652765,
            2082.7015211835087,
            26100.936120553506,
            0,
            0,
            16636.492008751786,
            0,
            27712.94230162992,
            0,
            9566.649980867238,
            0,
            5606.480678890483,
            4002.4554233512067,
            19720.04353420715,
            33740.655696140544,
            0,
            32041.088597245966,
            22774.13751713811,
            39068.62785050927,
            7363.666862349583,
            3000.1155111994044,
            0,
            57164.29193718954,
            52326.06247885582,
            0,
            47789.613358405164,
            0,
            0,
            1021.5360161926857,
            0,
            0,
            0,
            0,
            0,
            51338.85179818774,
            9169.694045290922,
            0,
            1506.6514577336013,
            0,
            42325.91846227362,
            0,
            48558.51456116968,
            0,
            27313.825128721204,
            22589.725608813915,
            20488.313064349757,
            4793.909795420816,
            18668.477802113703,
            33376.04933213584,
            0,
            0,
            0,
            0,
            25749.981526324733,
            0,
            15833.098549113389,
            0,
            0,
            0,
            840.7657842605088,
            0,
            0,
            0,
            107354.63210704461,
            0,
            9950.964661049482,
            0,
            0,
            17707.452104593776,
            0,
            24373.01995983278,
            0,
            8111.7202166169045,
            0,
            11351.170118268692,
            46979.167241391886,
            1401.6086797525022,
            61152.75794463293,
            0,
            0,
            0,
            0,
            24710.083741946168,
            0,
            53208.828066485316,
            31363.061398855036,
            0,
            25947.582430373677,
            0,
            102176.46622524246,
            0,
            0,
            32938.53307734856,
            0,
            0,
            0,
            72046.68141760232,
            55387.45801018707,
            57154.81907889582,
            0,
            16452.026425867254,
            0,
            0,
            0,
            0,
            852.5138515876366,
            0,
            14530.021141335632,
            15815.236460783102,
            19427.071073790063,
            0,
            40497.55812075095,
            26992.11821678362,
            838.1755115144798,
            0,
            3980.819227646484,
            0,
            45388.01607687517,
            21827.0290735549,
            0,
            10631.509966244636,
            58775.6399942161,
            0,
            13431.49362111681,
            11507.902676908932,
            90313.1374234232,
            0,
            0,
            0,
            109238.47537207358,
            0,
            0,
            32570.599002060128,
            0,
            65799.3347567422,
            47743.21843215956,
            113607.87112966644,
            72072.12127592058,
            15898.754482828377,
            26374.244011448758,
            64879.62617085235,
            0,
            0,
            0,
            116413.63329950528,
            0,
            54175.62655334727,
            21776.85205687258,
            0,
            0,
            0,
            0,
            4281.194533298329,
            0,
            0,
            0,
            0,
            223.57883024630596,
            54986.62396341066,
            74269.22532252522,
            0,
            4247.044469259509,
            125488.25584294964,
            0,
            0,
            7481.615158287035,
            61250.679398134,
            68526.09957509962,
            68561.7129105572,
            0,
            0,
            0,
            0,
            164994.26959887808,
            0,
            133615.84469647726,
            0,
            0,
            10758.884889988709,
            107342.99568133395,
            33735.42882010129,
            0,
            0,
            5291.398697704423,
            0,
            145595.15708615532,
            63557.90968261488,
            150149.04682592256,
            0,
            81616.22152629925,
            0,
            4743.286164896626,
            0,
            33703.52730041277,
            62731.38892476157,
            9717.950615855068,
            0,
            142375.88858234527,
            135157.59307990444,
            0,
            140650.6901436884,
            26918.123424552847,
            0,
            57979.36894175159,
            20996.392679407203,
            0,
            0,
            0,
            0,
            0,
            12704.946977661899,
            0,
            132794.31225472724,
            87977.52323261193,
            0,
            71993.56986341218,
            0,
            0,
            0,
            0,
            0,
            55470.405563429726,
            51813.161386631575,
            33131.17725307061,
            0,
            0,
            0,
            0,
            157886.33033236268,
            0,
            371.4117083262964,
            38013.032278750514,
            0,
            60901.716992784444,
            41060.292826417884,
            0,
            0,
            125818.58925326668,
            0,
            0,
            62540.81438514928,
            0,
            0,
            44806.68560750084,
            48923.120925174364,
            119571.53619607985,
            35065.831076166476,
            0,
            114340.1212500482,
            0,
            0,
            0,
            0,
            0,
            130166.76809771627,
            0,
            0,
            21313.24340393579,
            0,
            26660.18131559305,
            34898.007382683216,
            0,
            0,
            0,
            0,
            34602.086193193165,
            20524.32774129109,
            0,
            100389.52493586643,
            0,
            31031.075480636257,
            0,
            69411.94956635378,
            0,
            19354.987428112887,
            0,
            149923.01474942244,
            7576.155125191181,
            0,
            57178.82884290418,
            56699.36962848256,
            5086.450695212926,
            0,
            141613.95309759627,
            0,
            0,
            0,
            23775.99958796816,
            0,
            74399.90758298419,
            0,
            110429.60787980989,
            92183.44502502473,
            0,
            59529.99609386452,
            31827.465721876364,
            0,
            155718.4113566715,
            0,
            0,
            86746.95803841382,
            77.9946770993665,
            0,
            0,
            46075.54824081005,
            0,
            0,
            57858.26144793954,
            62925.6836611934,
            96437.27259606273,
            10922.625387878945,
            125861.42077395508,
            36541.58368357952,
            91156.51276625037,
            105399.9315745684,
            0,
            32610.23946639433,
            4259.855699463374,
            2914.7964381138954,
            187016.085024616,
            0,
            102372.28387744736,
            25027.616476572017,
            0,
            167493.99109782354,
            3374.420701994176,
            48791.919994356795,
            0,
            0,
            81209.20780500537,
            0,
            4828.351254379215,
            0,
            0,
            27.488214425185976,
            199.54985494174764,
            0,
            46076.32520423004,
            35952.69682602794,
            0,
            56290.0207435971,
            0,
            0,
            84576.31916204371,
            0,
            0,
            0,
            0,
            2434.1491860799138
           ]
          },
          {
           "label": "index",
           "values": [
            0,
            1,
            2,
            3,
            4,
            5,
            6,
            7,
            8,
            9,
            10,
            11,
            12,
            13,
            14,
            15,
            16,
            17,
            18,
            19,
            20,
            21,
            22,
            23,
            24,
            25,
            26,
            27,
            28,
            29,
            30,
            31,
            32,
            33,
            34,
            35,
            36,
            37,
            38,
            39,
            40,
            41,
            42,
            43,
            44,
            45,
            46,
            47,
            48,
            49,
            50,
            51,
            52,
            53,
            54,
            55,
            56,
            57,
            58,
            59,
            60,
            61,
            62,
            63,
            64,
            65,
            66,
            67,
            68,
            69,
            70,
            71,
            72,
            73,
            74,
            75,
            76,
            77,
            78,
            79,
            80,
            81,
            82,
            83,
            84,
            85,
            86,
            87,
            88,
            89,
            90,
            91,
            92,
            93,
            94,
            95,
            96,
            97,
            98,
            99,
            100,
            101,
            102,
            103,
            104,
            105,
            106,
            107,
            108,
            109,
            110,
            111,
            112,
            113,
            114,
            115,
            116,
            117,
            118,
            119,
            120,
            121,
            122,
            123,
            124,
            125,
            126,
            127,
            128,
            129,
            130,
            131,
            132,
            133,
            134,
            135,
            136,
            137,
            138,
            139,
            140,
            141,
            142,
            143,
            144,
            145,
            146,
            147,
            148,
            149,
            150,
            151,
            152,
            153,
            154,
            155,
            156,
            157,
            158,
            159,
            160,
            161,
            162,
            163,
            164,
            165,
            166,
            167,
            168,
            169,
            170,
            171,
            172,
            173,
            174,
            175,
            176,
            177,
            178,
            179,
            180,
            181,
            182,
            183,
            184,
            185,
            186,
            187,
            188,
            189,
            190,
            191,
            192,
            193,
            194,
            195,
            196,
            197,
            198,
            199,
            200,
            201,
            202,
            203,
            204,
            205,
            206,
            207,
            208,
            209,
            210,
            211,
            212,
            213,
            214,
            215,
            216,
            217,
            218,
            219,
            220,
            221,
            222,
            223,
            224,
            225,
            226,
            227,
            228,
            229,
            230,
            231,
            232,
            233,
            234,
            235,
            236,
            237,
            238,
            239,
            240,
            241,
            242,
            243,
            244,
            245,
            246,
            247,
            248,
            249,
            250,
            251,
            252,
            253,
            254,
            255,
            256,
            257,
            258,
            259,
            260,
            261,
            262,
            263,
            264,
            265,
            266,
            267,
            268,
            269,
            270,
            271,
            272,
            273,
            274,
            275,
            276,
            277,
            278,
            279,
            280,
            281,
            282,
            283,
            284,
            285,
            286,
            287,
            288,
            289,
            290,
            291,
            292,
            293,
            294,
            295,
            296,
            297,
            298,
            299,
            300,
            301,
            302,
            303,
            304,
            305,
            306,
            307,
            308,
            309,
            310,
            311,
            312,
            313,
            314,
            315,
            316,
            317,
            318,
            319,
            320,
            321,
            322,
            323,
            324,
            325,
            326,
            327,
            328,
            329,
            330,
            331,
            332,
            333,
            334,
            335,
            336,
            337,
            338,
            339,
            340,
            341,
            342,
            343,
            344,
            345,
            346,
            347,
            348,
            349,
            350,
            351,
            352,
            353,
            354,
            355,
            356,
            357,
            358,
            359,
            360,
            361,
            362,
            363,
            364,
            365,
            366,
            367,
            368,
            369,
            370,
            371,
            372,
            373,
            374,
            375,
            376,
            377,
            378,
            379,
            380,
            381,
            382,
            383,
            384,
            385,
            386,
            387,
            388,
            389,
            390,
            391,
            392,
            393,
            394,
            395,
            396,
            397,
            398,
            399,
            400,
            401,
            402,
            403,
            404,
            405,
            406,
            407,
            408,
            409,
            410,
            411,
            412,
            413,
            414,
            415,
            416,
            417,
            418,
            419,
            420,
            421,
            422,
            423,
            424,
            425,
            426,
            427,
            428,
            429,
            430,
            431,
            432,
            433,
            434,
            435,
            436,
            437,
            438,
            439
           ]
          }
         ],
         "domain": {
          "x": [
           0,
           1
          ],
          "y": [
           0,
           1
          ]
         },
         "line": {
          "color": [
           0,
           1,
           2,
           3,
           4,
           5,
           6,
           7,
           8,
           9,
           10,
           11,
           12,
           13,
           14,
           15,
           16,
           17,
           18,
           19,
           20,
           21,
           22,
           23,
           24,
           25,
           26,
           27,
           28,
           29,
           30,
           31,
           32,
           33,
           34,
           35,
           36,
           37,
           38,
           39,
           40,
           41,
           42,
           43,
           44,
           45,
           46,
           47,
           48,
           49,
           50,
           51,
           52,
           53,
           54,
           55,
           56,
           57,
           58,
           59,
           60,
           61,
           62,
           63,
           64,
           65,
           66,
           67,
           68,
           69,
           70,
           71,
           72,
           73,
           74,
           75,
           76,
           77,
           78,
           79,
           80,
           81,
           82,
           83,
           84,
           85,
           86,
           87,
           88,
           89,
           90,
           91,
           92,
           93,
           94,
           95,
           96,
           97,
           98,
           99,
           100,
           101,
           102,
           103,
           104,
           105,
           106,
           107,
           108,
           109,
           110,
           111,
           112,
           113,
           114,
           115,
           116,
           117,
           118,
           119,
           120,
           121,
           122,
           123,
           124,
           125,
           126,
           127,
           128,
           129,
           130,
           131,
           132,
           133,
           134,
           135,
           136,
           137,
           138,
           139,
           140,
           141,
           142,
           143,
           144,
           145,
           146,
           147,
           148,
           149,
           150,
           151,
           152,
           153,
           154,
           155,
           156,
           157,
           158,
           159,
           160,
           161,
           162,
           163,
           164,
           165,
           166,
           167,
           168,
           169,
           170,
           171,
           172,
           173,
           174,
           175,
           176,
           177,
           178,
           179,
           180,
           181,
           182,
           183,
           184,
           185,
           186,
           187,
           188,
           189,
           190,
           191,
           192,
           193,
           194,
           195,
           196,
           197,
           198,
           199,
           200,
           201,
           202,
           203,
           204,
           205,
           206,
           207,
           208,
           209,
           210,
           211,
           212,
           213,
           214,
           215,
           216,
           217,
           218,
           219,
           220,
           221,
           222,
           223,
           224,
           225,
           226,
           227,
           228,
           229,
           230,
           231,
           232,
           233,
           234,
           235,
           236,
           237,
           238,
           239,
           240,
           241,
           242,
           243,
           244,
           245,
           246,
           247,
           248,
           249,
           250,
           251,
           252,
           253,
           254,
           255,
           256,
           257,
           258,
           259,
           260,
           261,
           262,
           263,
           264,
           265,
           266,
           267,
           268,
           269,
           270,
           271,
           272,
           273,
           274,
           275,
           276,
           277,
           278,
           279,
           280,
           281,
           282,
           283,
           284,
           285,
           286,
           287,
           288,
           289,
           290,
           291,
           292,
           293,
           294,
           295,
           296,
           297,
           298,
           299,
           300,
           301,
           302,
           303,
           304,
           305,
           306,
           307,
           308,
           309,
           310,
           311,
           312,
           313,
           314,
           315,
           316,
           317,
           318,
           319,
           320,
           321,
           322,
           323,
           324,
           325,
           326,
           327,
           328,
           329,
           330,
           331,
           332,
           333,
           334,
           335,
           336,
           337,
           338,
           339,
           340,
           341,
           342,
           343,
           344,
           345,
           346,
           347,
           348,
           349,
           350,
           351,
           352,
           353,
           354,
           355,
           356,
           357,
           358,
           359,
           360,
           361,
           362,
           363,
           364,
           365,
           366,
           367,
           368,
           369,
           370,
           371,
           372,
           373,
           374,
           375,
           376,
           377,
           378,
           379,
           380,
           381,
           382,
           383,
           384,
           385,
           386,
           387,
           388,
           389,
           390,
           391,
           392,
           393,
           394,
           395,
           396,
           397,
           398,
           399,
           400,
           401,
           402,
           403,
           404,
           405,
           406,
           407,
           408,
           409,
           410,
           411,
           412,
           413,
           414,
           415,
           416,
           417,
           418,
           419,
           420,
           421,
           422,
           423,
           424,
           425,
           426,
           427,
           428,
           429,
           430,
           431,
           432,
           433,
           434,
           435,
           436,
           437,
           438,
           439
          ],
          "coloraxis": "coloraxis"
         },
         "name": "",
         "type": "parcoords"
        }
       ],
       "layout": {
        "coloraxis": {
         "colorbar": {
          "title": {
           "text": "index"
          }
         },
         "colorscale": [
          [
           0,
           "#0d0887"
          ],
          [
           0.1111111111111111,
           "#46039f"
          ],
          [
           0.2222222222222222,
           "#7201a8"
          ],
          [
           0.3333333333333333,
           "#9c179e"
          ],
          [
           0.4444444444444444,
           "#bd3786"
          ],
          [
           0.5555555555555556,
           "#d8576b"
          ],
          [
           0.6666666666666666,
           "#ed7953"
          ],
          [
           0.7777777777777778,
           "#fb9f3a"
          ],
          [
           0.8888888888888888,
           "#fdca26"
          ],
          [
           1,
           "#f0f921"
          ]
         ]
        },
        "legend": {
         "tracegroupgap": 0
        },
        "margin": {
         "t": 60
        },
        "showlegend": false,
        "template": {
         "data": {
          "bar": [
           {
            "error_x": {
             "color": "#2a3f5f"
            },
            "error_y": {
             "color": "#2a3f5f"
            },
            "marker": {
             "line": {
              "color": "#E5ECF6",
              "width": 0.5
             }
            },
            "type": "bar"
           }
          ],
          "barpolar": [
           {
            "marker": {
             "line": {
              "color": "#E5ECF6",
              "width": 0.5
             }
            },
            "type": "barpolar"
           }
          ],
          "carpet": [
           {
            "aaxis": {
             "endlinecolor": "#2a3f5f",
             "gridcolor": "white",
             "linecolor": "white",
             "minorgridcolor": "white",
             "startlinecolor": "#2a3f5f"
            },
            "baxis": {
             "endlinecolor": "#2a3f5f",
             "gridcolor": "white",
             "linecolor": "white",
             "minorgridcolor": "white",
             "startlinecolor": "#2a3f5f"
            },
            "type": "carpet"
           }
          ],
          "choropleth": [
           {
            "colorbar": {
             "outlinewidth": 0,
             "ticks": ""
            },
            "type": "choropleth"
           }
          ],
          "contour": [
           {
            "colorbar": {
             "outlinewidth": 0,
             "ticks": ""
            },
            "colorscale": [
             [
              0,
              "#0d0887"
             ],
             [
              0.1111111111111111,
              "#46039f"
             ],
             [
              0.2222222222222222,
              "#7201a8"
             ],
             [
              0.3333333333333333,
              "#9c179e"
             ],
             [
              0.4444444444444444,
              "#bd3786"
             ],
             [
              0.5555555555555556,
              "#d8576b"
             ],
             [
              0.6666666666666666,
              "#ed7953"
             ],
             [
              0.7777777777777778,
              "#fb9f3a"
             ],
             [
              0.8888888888888888,
              "#fdca26"
             ],
             [
              1,
              "#f0f921"
             ]
            ],
            "type": "contour"
           }
          ],
          "contourcarpet": [
           {
            "colorbar": {
             "outlinewidth": 0,
             "ticks": ""
            },
            "type": "contourcarpet"
           }
          ],
          "heatmap": [
           {
            "colorbar": {
             "outlinewidth": 0,
             "ticks": ""
            },
            "colorscale": [
             [
              0,
              "#0d0887"
             ],
             [
              0.1111111111111111,
              "#46039f"
             ],
             [
              0.2222222222222222,
              "#7201a8"
             ],
             [
              0.3333333333333333,
              "#9c179e"
             ],
             [
              0.4444444444444444,
              "#bd3786"
             ],
             [
              0.5555555555555556,
              "#d8576b"
             ],
             [
              0.6666666666666666,
              "#ed7953"
             ],
             [
              0.7777777777777778,
              "#fb9f3a"
             ],
             [
              0.8888888888888888,
              "#fdca26"
             ],
             [
              1,
              "#f0f921"
             ]
            ],
            "type": "heatmap"
           }
          ],
          "heatmapgl": [
           {
            "colorbar": {
             "outlinewidth": 0,
             "ticks": ""
            },
            "colorscale": [
             [
              0,
              "#0d0887"
             ],
             [
              0.1111111111111111,
              "#46039f"
             ],
             [
              0.2222222222222222,
              "#7201a8"
             ],
             [
              0.3333333333333333,
              "#9c179e"
             ],
             [
              0.4444444444444444,
              "#bd3786"
             ],
             [
              0.5555555555555556,
              "#d8576b"
             ],
             [
              0.6666666666666666,
              "#ed7953"
             ],
             [
              0.7777777777777778,
              "#fb9f3a"
             ],
             [
              0.8888888888888888,
              "#fdca26"
             ],
             [
              1,
              "#f0f921"
             ]
            ],
            "type": "heatmapgl"
           }
          ],
          "histogram": [
           {
            "marker": {
             "colorbar": {
              "outlinewidth": 0,
              "ticks": ""
             }
            },
            "type": "histogram"
           }
          ],
          "histogram2d": [
           {
            "colorbar": {
             "outlinewidth": 0,
             "ticks": ""
            },
            "colorscale": [
             [
              0,
              "#0d0887"
             ],
             [
              0.1111111111111111,
              "#46039f"
             ],
             [
              0.2222222222222222,
              "#7201a8"
             ],
             [
              0.3333333333333333,
              "#9c179e"
             ],
             [
              0.4444444444444444,
              "#bd3786"
             ],
             [
              0.5555555555555556,
              "#d8576b"
             ],
             [
              0.6666666666666666,
              "#ed7953"
             ],
             [
              0.7777777777777778,
              "#fb9f3a"
             ],
             [
              0.8888888888888888,
              "#fdca26"
             ],
             [
              1,
              "#f0f921"
             ]
            ],
            "type": "histogram2d"
           }
          ],
          "histogram2dcontour": [
           {
            "colorbar": {
             "outlinewidth": 0,
             "ticks": ""
            },
            "colorscale": [
             [
              0,
              "#0d0887"
             ],
             [
              0.1111111111111111,
              "#46039f"
             ],
             [
              0.2222222222222222,
              "#7201a8"
             ],
             [
              0.3333333333333333,
              "#9c179e"
             ],
             [
              0.4444444444444444,
              "#bd3786"
             ],
             [
              0.5555555555555556,
              "#d8576b"
             ],
             [
              0.6666666666666666,
              "#ed7953"
             ],
             [
              0.7777777777777778,
              "#fb9f3a"
             ],
             [
              0.8888888888888888,
              "#fdca26"
             ],
             [
              1,
              "#f0f921"
             ]
            ],
            "type": "histogram2dcontour"
           }
          ],
          "mesh3d": [
           {
            "colorbar": {
             "outlinewidth": 0,
             "ticks": ""
            },
            "type": "mesh3d"
           }
          ],
          "parcoords": [
           {
            "line": {
             "colorbar": {
              "outlinewidth": 0,
              "ticks": ""
             }
            },
            "type": "parcoords"
           }
          ],
          "pie": [
           {
            "automargin": true,
            "type": "pie"
           }
          ],
          "scatter": [
           {
            "marker": {
             "colorbar": {
              "outlinewidth": 0,
              "ticks": ""
             }
            },
            "type": "scatter"
           }
          ],
          "scatter3d": [
           {
            "line": {
             "colorbar": {
              "outlinewidth": 0,
              "ticks": ""
             }
            },
            "marker": {
             "colorbar": {
              "outlinewidth": 0,
              "ticks": ""
             }
            },
            "type": "scatter3d"
           }
          ],
          "scattercarpet": [
           {
            "marker": {
             "colorbar": {
              "outlinewidth": 0,
              "ticks": ""
             }
            },
            "type": "scattercarpet"
           }
          ],
          "scattergeo": [
           {
            "marker": {
             "colorbar": {
              "outlinewidth": 0,
              "ticks": ""
             }
            },
            "type": "scattergeo"
           }
          ],
          "scattergl": [
           {
            "marker": {
             "colorbar": {
              "outlinewidth": 0,
              "ticks": ""
             }
            },
            "type": "scattergl"
           }
          ],
          "scattermapbox": [
           {
            "marker": {
             "colorbar": {
              "outlinewidth": 0,
              "ticks": ""
             }
            },
            "type": "scattermapbox"
           }
          ],
          "scatterpolar": [
           {
            "marker": {
             "colorbar": {
              "outlinewidth": 0,
              "ticks": ""
             }
            },
            "type": "scatterpolar"
           }
          ],
          "scatterpolargl": [
           {
            "marker": {
             "colorbar": {
              "outlinewidth": 0,
              "ticks": ""
             }
            },
            "type": "scatterpolargl"
           }
          ],
          "scatterternary": [
           {
            "marker": {
             "colorbar": {
              "outlinewidth": 0,
              "ticks": ""
             }
            },
            "type": "scatterternary"
           }
          ],
          "surface": [
           {
            "colorbar": {
             "outlinewidth": 0,
             "ticks": ""
            },
            "colorscale": [
             [
              0,
              "#0d0887"
             ],
             [
              0.1111111111111111,
              "#46039f"
             ],
             [
              0.2222222222222222,
              "#7201a8"
             ],
             [
              0.3333333333333333,
              "#9c179e"
             ],
             [
              0.4444444444444444,
              "#bd3786"
             ],
             [
              0.5555555555555556,
              "#d8576b"
             ],
             [
              0.6666666666666666,
              "#ed7953"
             ],
             [
              0.7777777777777778,
              "#fb9f3a"
             ],
             [
              0.8888888888888888,
              "#fdca26"
             ],
             [
              1,
              "#f0f921"
             ]
            ],
            "type": "surface"
           }
          ],
          "table": [
           {
            "cells": {
             "fill": {
              "color": "#EBF0F8"
             },
             "line": {
              "color": "white"
             }
            },
            "header": {
             "fill": {
              "color": "#C8D4E3"
             },
             "line": {
              "color": "white"
             }
            },
            "type": "table"
           }
          ]
         },
         "layout": {
          "annotationdefaults": {
           "arrowcolor": "#2a3f5f",
           "arrowhead": 0,
           "arrowwidth": 1
          },
          "coloraxis": {
           "colorbar": {
            "outlinewidth": 0,
            "ticks": ""
           }
          },
          "colorscale": {
           "diverging": [
            [
             0,
             "#8e0152"
            ],
            [
             0.1,
             "#c51b7d"
            ],
            [
             0.2,
             "#de77ae"
            ],
            [
             0.3,
             "#f1b6da"
            ],
            [
             0.4,
             "#fde0ef"
            ],
            [
             0.5,
             "#f7f7f7"
            ],
            [
             0.6,
             "#e6f5d0"
            ],
            [
             0.7,
             "#b8e186"
            ],
            [
             0.8,
             "#7fbc41"
            ],
            [
             0.9,
             "#4d9221"
            ],
            [
             1,
             "#276419"
            ]
           ],
           "sequential": [
            [
             0,
             "#0d0887"
            ],
            [
             0.1111111111111111,
             "#46039f"
            ],
            [
             0.2222222222222222,
             "#7201a8"
            ],
            [
             0.3333333333333333,
             "#9c179e"
            ],
            [
             0.4444444444444444,
             "#bd3786"
            ],
            [
             0.5555555555555556,
             "#d8576b"
            ],
            [
             0.6666666666666666,
             "#ed7953"
            ],
            [
             0.7777777777777778,
             "#fb9f3a"
            ],
            [
             0.8888888888888888,
             "#fdca26"
            ],
            [
             1,
             "#f0f921"
            ]
           ],
           "sequentialminus": [
            [
             0,
             "#0d0887"
            ],
            [
             0.1111111111111111,
             "#46039f"
            ],
            [
             0.2222222222222222,
             "#7201a8"
            ],
            [
             0.3333333333333333,
             "#9c179e"
            ],
            [
             0.4444444444444444,
             "#bd3786"
            ],
            [
             0.5555555555555556,
             "#d8576b"
            ],
            [
             0.6666666666666666,
             "#ed7953"
            ],
            [
             0.7777777777777778,
             "#fb9f3a"
            ],
            [
             0.8888888888888888,
             "#fdca26"
            ],
            [
             1,
             "#f0f921"
            ]
           ]
          },
          "colorway": [
           "#636efa",
           "#EF553B",
           "#00cc96",
           "#ab63fa",
           "#FFA15A",
           "#19d3f3",
           "#FF6692",
           "#B6E880",
           "#FF97FF",
           "#FECB52"
          ],
          "font": {
           "color": "#2a3f5f"
          },
          "geo": {
           "bgcolor": "white",
           "lakecolor": "white",
           "landcolor": "#E5ECF6",
           "showlakes": true,
           "showland": true,
           "subunitcolor": "white"
          },
          "hoverlabel": {
           "align": "left"
          },
          "hovermode": "closest",
          "mapbox": {
           "style": "light"
          },
          "paper_bgcolor": "white",
          "plot_bgcolor": "#E5ECF6",
          "polar": {
           "angularaxis": {
            "gridcolor": "white",
            "linecolor": "white",
            "ticks": ""
           },
           "bgcolor": "#E5ECF6",
           "radialaxis": {
            "gridcolor": "white",
            "linecolor": "white",
            "ticks": ""
           }
          },
          "scene": {
           "xaxis": {
            "backgroundcolor": "#E5ECF6",
            "gridcolor": "white",
            "gridwidth": 2,
            "linecolor": "white",
            "showbackground": true,
            "ticks": "",
            "zerolinecolor": "white"
           },
           "yaxis": {
            "backgroundcolor": "#E5ECF6",
            "gridcolor": "white",
            "gridwidth": 2,
            "linecolor": "white",
            "showbackground": true,
            "ticks": "",
            "zerolinecolor": "white"
           },
           "zaxis": {
            "backgroundcolor": "#E5ECF6",
            "gridcolor": "white",
            "gridwidth": 2,
            "linecolor": "white",
            "showbackground": true,
            "ticks": "",
            "zerolinecolor": "white"
           }
          },
          "shapedefaults": {
           "line": {
            "color": "#2a3f5f"
           }
          },
          "ternary": {
           "aaxis": {
            "gridcolor": "white",
            "linecolor": "white",
            "ticks": ""
           },
           "baxis": {
            "gridcolor": "white",
            "linecolor": "white",
            "ticks": ""
           },
           "bgcolor": "#E5ECF6",
           "caxis": {
            "gridcolor": "white",
            "linecolor": "white",
            "ticks": ""
           }
          },
          "title": {
           "x": 0.05
          },
          "xaxis": {
           "automargin": true,
           "gridcolor": "white",
           "linecolor": "white",
           "ticks": "",
           "title": {
            "standoff": 15
           },
           "zerolinecolor": "white",
           "zerolinewidth": 2
          },
          "yaxis": {
           "automargin": true,
           "gridcolor": "white",
           "linecolor": "white",
           "ticks": "",
           "title": {
            "standoff": 15
           },
           "zerolinecolor": "white",
           "zerolinewidth": 2
          }
         }
        }
       }
      }
     },
     "metadata": {}
    }
   ],
   "source": [
    "fig = px.parallel_coordinates(results.iloc[:, 31::], labels= {\"A1_2 Aggr Expected Annual Damage\" : \"A1 & 2 Damage\", \"A3 Expected Annual Damage\" : \"A3 Damage\", \"A1_2 Aggr Expected Number of Deaths\" : \"A1 & 2 Casualties\", \"A3 Aggr Expected Number of Deaths\" : \"A3 Casualties\", \"A1_5 Dike Investment Costs\" : \"Investment Costs\", \"Room for River Investment Costs\" : \"RfR Investment Costs\"}, color=results.index)\n",
    "fig.update_layout(showlegend=False)\n",
    "fig.show()"
   ]
  },
  {
   "cell_type": "markdown",
   "metadata": {},
   "source": [
    "To show the tradeoffs more clearly, we aggregate the costs and the expected number of casualties, as well as the investment costs with the evacuation costs"
   ]
  },
  {
   "cell_type": "code",
   "execution_count": 10,
   "metadata": {},
   "outputs": [],
   "source": [
    "results_agg = results.iloc[:, 31::]\n",
    "results_agg[\"Expected Casualties\"] = results_agg[\"A1_2 Aggr Expected Number of Deaths\"] + results_agg[\"A3 Aggr Expected Number of Deaths\"]\n",
    "results_agg[\"Expected Damage\"] = results_agg[\"A1_2 Aggr Expected Annual Damage\"] + results_agg[\"A3 Expected Annual Damage\"]\n",
    "results_agg[\"Traditional Costs\"] = results_agg[\"A1_5 Dike Investment Costs\"] + results_agg[\"Evacuation Costs\"]\n"
   ]
  },
  {
   "cell_type": "code",
   "execution_count": 11,
   "metadata": {},
   "outputs": [
    {
     "output_type": "display_data",
     "data": {
      "application/vnd.plotly.v1+json": {
       "config": {
        "plotlyServerURL": "https://plot.ly"
       },
       "data": [
        {
         "dimensions": [
          {
           "label": "Expected Casualties",
           "values": [
            0.0877197951855649,
            0.005160454364398892,
            1.1530944537141021,
            0,
            0.04361449901367885,
            0.6217822339675239,
            0.07102581697465671,
            0.05945672140180212,
            0.08121360531050369,
            0.07959796108065621,
            0.09956225026034002,
            0.06733546052715339,
            0.05036899349453525,
            0.002699962916778055,
            0.0006109238271541907,
            0.01864718172616211,
            0.0048631613663086505,
            0.027444581987012395,
            0.058176910772733875,
            0.004164874406227653,
            0.0021710907155173408,
            0.09445291506917197,
            0.2707449893356133,
            0.14211594057919966,
            0.01512783522581975,
            0.10622858663439019,
            0.005160454364398892,
            0.028646206792392274,
            0.0062308366145023344,
            0.21768536595796056,
            0.14364507868172532,
            0.05518810062714409,
            0.04232614489186544,
            0.12006887150370622,
            0.027216092928408108,
            0.00033537918703798467,
            0.08375257030041701,
            0,
            0.002986889925035844,
            1.0725246515811366,
            0.2835493169585214,
            0.003927348793756509,
            0.0002521144115075065,
            0.15577873385615637,
            0.2109659874084655,
            0.021088663890923235,
            0.048640870934054885,
            0.06734268933110253,
            0.0541274975025087,
            0.0029996749172109378,
            0.2335475937138707,
            0.043003786369990776,
            0.3480145111700271,
            0.7305764469147578,
            0.6835468636966977,
            0,
            0.0008247716575593228,
            0.18247561102333953,
            0.03658081390305126,
            0.13603711121881318,
            0.0829381374584668,
            0.07475819995721228,
            0.0005286620557935114,
            0.06503399804407217,
            0,
            0.3113259306433594,
            0.11679886331549416,
            0.6739297578528977,
            0.00930519459923944,
            0.01637400003730427,
            0.07424904852553779,
            0.005547168603996802,
            0.051360672377531655,
            0.11774045957379604,
            0.002378979251070801,
            0.23405865149154778,
            0.07921681828767496,
            0.0006109238271541907,
            1.1494197586398873,
            1.411673358675611,
            0.017431788210186466,
            0.14827192553854643,
            0.10866938863940513,
            0.009018976423948513,
            0.21201319935996457,
            0.1694008030410733,
            0.7183771143437839,
            0.10832954006361939,
            0.0628406619811525,
            1.0993207632903683,
            0.08810834031498747,
            0.07371429153985967,
            0,
            0.07254921492914235,
            0.0022910323821092307,
            0.3426400375313273,
            0.0934027510829804,
            0.738228747909391,
            0.2969736850650836,
            1.6709512136542797,
            0.06989160047829923,
            0.42869192725007904,
            0.011012975348010035,
            0.027005447297152943,
            0.07386770195760228,
            0.06393735536097384,
            0.9053924404229143,
            0.056686920304438636,
            0.15679028711790347,
            0.1505261362963099,
            0.015975663072497502,
            0.008176151479421589,
            1.5078891704975654,
            0.13743969211696427,
            0.1212399050484965,
            0.3110223437044676,
            0.10172623192932123,
            1.0761187240249561,
            0.3066686950400023,
            0.004761154656724618,
            0.01690684058349754,
            0.6555457857942749,
            0.7109037595414645,
            0.7127629760830185,
            0.1230772007506166,
            0.09697208650868507,
            0.03425826509177926,
            0.06537467293024173,
            0.0014679036464196914,
            0.33159093950482704,
            0.13133553637129827,
            1.3221033900738164,
            0.08603933873393621,
            0.7209139210501865,
            0.07921515031470858,
            0.04469655031803117,
            0.07698497740047368,
            0.0110896585956125,
            0.08818820290470065,
            0.06138924434578314,
            0.04160020336093676,
            1.0402422846918329,
            1.899216954506367,
            0.871441934739172,
            0.9354905638780411,
            0.4094620654485338,
            0.17758240686733956,
            0.8818050743910774,
            0.9208474881123009,
            0.2606947335256232,
            0.0041161456901668185,
            0.634839533822502,
            0.18322294566227176,
            0.17085461675129646,
            0.42577139269411846,
            1.8609843189602882,
            0.04511500478480159,
            1.8422612198770763,
            0.49105529546792004,
            0.43684649375828144,
            0.6451275362669644,
            0.07818818386542399,
            0.27012282184072056,
            0.1320694834389707,
            0.6535909145835165,
            0.048944098109955335,
            0.11223618597711357,
            0.02900662576475248,
            0.2341729271204438,
            0.0006050591171095179,
            3.412892327040049,
            0.6867405621282333,
            0.8749245379397462,
            0.5927057642531738,
            0.7631481336157666,
            0.18407490784232897,
            0.1256275986039199,
            1.9514410593370317,
            0.057162434386871075,
            3.234442106527451,
            0.3898274614883194,
            0.5048956913208714,
            0.17385266625953866,
            0.06505575572079923,
            0.335487568652106,
            1.6232104992782692,
            0.7297725611435445,
            0.28302556419573577,
            0.2684351332324895,
            0.13401811000987873,
            0.17790191521643964,
            0.7108551247846419,
            0.10997947578814918,
            0.8187553011175062,
            0.21459832969213138,
            0.19727670227328614,
            0.005791744506898855,
            1.806389667053165,
            0.39958190179244707,
            0.692649617392679,
            0.07537568183438575,
            0.8886567377207537,
            0.11265102294052008,
            0.1683873177083231,
            0,
            3.311806918954237,
            0.0076645208120625,
            5.1680660040479145,
            0.13847362622695567,
            0.5385851913469726,
            1.8082786483643458,
            0.4606909076476143,
            0.21938511315279802,
            0.15197221252367882,
            0.5130175107273598,
            0.3313184898143623,
            0.22770383261105534,
            0.3648819503300669,
            0.03287629544739633,
            2.659912197736689,
            0.33707096578544987,
            1.7253226885119157,
            2.389300848536851,
            0.05886171266535363,
            1.8071019734372356,
            0.23417054707564056,
            0.1538628823849096,
            0.4267933610730783,
            0.4510382331357295,
            0.18176244887551368,
            0.7394378696506827,
            0.2700353525800578,
            0.08288999639705462,
            0,
            1.169503251890846,
            0.49023702553036974,
            4.7483804906125044,
            0.1829144145031946,
            0.09573717786911397,
            2.3585463682977985,
            2.570360736497036,
            0.12381008928618344,
            0.6964933688205974,
            0.020155464124616967,
            0.1021998471559111,
            3.8480912476099047,
            0.10104209941687747,
            0.038542612784799216,
            0.00026168281340766783,
            0.16947367920654552,
            0.2840676297894976,
            0.4441770033684159,
            0.02007863443933166,
            0.426015243484629,
            2.7760252497248,
            1.760553977669884,
            0.029735724880776877,
            0.23499466565408667,
            0.19227551864926035,
            0.27966322357148726,
            0.04738317000680659,
            2.3393617846094674,
            0.06793831017201478,
            0.8778437017423102,
            0.6031683460971293,
            1.8972489506737484,
            0.4405890688874877,
            2.7115717859871573,
            1.9039218590108002,
            0.4020532625857376,
            0.3212619197479434,
            0.8794024270132265,
            1.238133924818966,
            1.4602700691529245,
            0.019758753935577262,
            5.862308817157113,
            0.49818445195385397,
            0.281926957001096,
            0.461352694572002,
            1.0541308807271608,
            0.2525609432565598,
            0.9540966388054077,
            0.1285785978512332,
            2.8514042091275096,
            0.6956863339763555,
            0.22806651011565826,
            0.0321155200440145,
            0.052653811524553895,
            0.4639088685089674,
            0.44179513600299125,
            1.2224289141686522,
            0.44573337372191324,
            0.7090060833448031,
            1.2301764204557262,
            0.15314192367355808,
            0.038419022079602766,
            0.16427324456373188,
            0.8028880011003625,
            0.4767196155109696,
            2.997959487724862,
            1.3350231014115306,
            0.346412889597722,
            2.5156941188414095,
            0.4263881486889301,
            0.32646796019471036,
            0.8838251167249143,
            0.2984453975837383,
            2.3272545532556013,
            2.3424574167333354,
            3.087200160262761,
            0.7994619865560088,
            2.1683717619181024,
            0.27730215349147735,
            1.410897730757033,
            0.18878785191815098,
            1.4320665303232012,
            2.668893335216754,
            0.026721775754351997,
            1.5887576408255342,
            0.4886059984683077,
            2.5209158215056444,
            0.0007850484402230032,
            0.9550202801700175,
            1.3780188395982997,
            1.2805938414690774,
            0.26770478834980876,
            0.2614251864827144,
            4.365157072644681,
            0.36760061863317123,
            0.9434832849531057,
            1.0144548031785272,
            0.124213622863698,
            0.6756105994726987,
            2.092415792368227,
            0.7122978291584041,
            0.08858744974912691,
            0.3974168302745084,
            0.13486065925394883,
            4.654424536014131,
            0.36168363172559354,
            3.0163207336998203,
            0.8337415960313529,
            1.7822064757689835,
            1.3124869767638372,
            2.9189095269773384,
            0.5308110658529759,
            1.0198336142027489,
            0.9647175434130284,
            0.07144713213363062,
            1.8520059823942172,
            0.5084210376196365,
            0.13391383414270872,
            2.3834942944936963,
            1.2176475232510884,
            0.19579625430140535,
            2.810360381291941,
            0.8290136566515354,
            0.07144713213363062,
            0.6483308735171466,
            0.38335234802620655,
            2.3580536725779737,
            0.8533023488347566,
            1.3990524295053586,
            0.29264238998930076,
            3.493584961837807,
            0.4872112485247744,
            1.2448058809875515,
            0.4505234333235285,
            0.020695834147305327,
            2.8709727866353365,
            0.10202631884158923,
            0.2872925122981093,
            0.1228097069277805,
            3.917841830379541,
            0.4539864731979505,
            2.2059926217448464,
            1.1520440126004308,
            2.4199310400142697,
            0.1569326599974052,
            1.3535892845564625,
            0.19933857678916417,
            1.4175900685794565,
            0.4177758902751493,
            0.2338910766882239,
            1.0421916100174577,
            0.25899497517813097,
            0.05720635386131635,
            1.0428066651056742,
            0.47014101964554483,
            1.4817450718357674,
            1.7748349652910023,
            0.321311115178864,
            0.00014521418810628427,
            3.483259100000645,
            1.2234805516464036,
            0.2821195436433883,
            1.9177990012534374,
            2.8936310917597465,
            0.27027653611131697,
            0.1785129767730627,
            0.2612207737730865,
            0.07757084780790519,
            0.36544313258997735,
            0.11536557338142184,
            0.3781495229360192,
            0.2827401323754679,
            1.3944262278329886,
            0.06080259228736805,
            0.01905081677728379,
            0.006156243597568572,
            0.7034770580588535,
            3.465621564031308,
            0.41693477826540587,
            0.6264229485044579,
            2.2724721305848976,
            0.5656733861112441,
            0.005390943420254812,
            0.2575085627850051,
            2.7205663349559197,
            0.6313451285318306,
            1.697020158333732,
            3.350844334459064,
            0.02001487292855275,
            0.8352690772186138,
            3.362387686698728,
            0.00009603710660663349,
            0,
            2.3781747071335477,
            0.21532348187278427,
            0.18336433712529787,
            2.427461328796291,
            0.15925753799208361,
            3.7840220209725133,
            1.2306497086809365,
            0.2527600979031557,
            0.1250677836379139,
            2.5078124617848028,
            0.2887469534996315,
            1.3333117714616103,
            0.01081676510765141
           ]
          },
          {
           "label": "Expected Damage",
           "values": [
            114685066.00001077,
            24247844.17430437,
            708850314.5781535,
            0,
            51314688.25762066,
            400306326.4675968,
            59541994.48345114,
            49609040.29714496,
            818874187.3240122,
            56721974.35371566,
            63176276.22342828,
            98455679.22044984,
            32325078.09421163,
            10058941.046274532,
            641129.852059045,
            23788468.253609724,
            23874740.43280926,
            16902607.858050864,
            40600072.34369087,
            38572377.47120699,
            1218692.017301855,
            119265265.28409454,
            314733701.9036342,
            234074154.9408724,
            132962019.37969378,
            65458747.456999496,
            24247844.17430437,
            106269645.97969557,
            67255823.54642412,
            143408850.82539895,
            169061521.0157554,
            63180367.34133384,
            42634127.00868307,
            80759410.79755193,
            29485093.02169936,
            2377790.0117323683,
            321885680.65449625,
            0,
            21557401.008706816,
            667835915.5332204,
            182556543.19573826,
            3177905.7577192863,
            1196487.9172061798,
            103095108.50280586,
            129077046.02408817,
            144260493.48113135,
            55424780.47225079,
            84789298.74800558,
            39085215.206648216,
            5083724.908944213,
            3132853979.2074656,
            24247844.17430437,
            430936982.942027,
            453849054.1986588,
            3074629297.837338,
            0,
            7450169.026933266,
            115697560.12733844,
            21927171.89375574,
            89174060.55205694,
            111829669.02076247,
            248786534.46888223,
            5419852.0366025185,
            67060824.45080191,
            0,
            216660066.66878316,
            1202621063.282404,
            428277947.580812,
            28704351.072661825,
            161334043.25086775,
            90658100.32407455,
            29363085.333301507,
            35756227.28061639,
            152141776.88350368,
            7299608.533113881,
            246135900.37320977,
            488834817.291474,
            641129.852059045,
            764018688.1788546,
            1023556487.5514772,
            95383102.34629138,
            91622700.62584327,
            85074033.34679304,
            7901383.680425979,
            148241785.9653489,
            1023556487.5514772,
            799729821.0738976,
            66411944.35579735,
            668727437.3240745,
            674872409.4626273,
            1158305682.9797795,
            757716786.0009878,
            0,
            601957608.3699418,
            2408207.179182386,
            425879726.40796614,
            1211368130.415491,
            964283151.2771474,
            3125233951.504179,
            1357378142.6104615,
            373120500.33827436,
            560020403.5073847,
            107446266.86375593,
            114285171.68720222,
            393149208.6253935,
            660474135.2906233,
            575191276.8688328,
            592427973.8365607,
            1503826732.0150843,
            841547153.6646427,
            165658006.92257416,
            83915050.61748031,
            1055135045.1268692,
            1094652128.3449774,
            1033031377.6941785,
            204346247.433618,
            932034899.559519,
            965437829.6306319,
            392287232.4492333,
            23143422.01403674,
            20181817.132245168,
            783853183.4145529,
            442173862.8744845,
            429058718.65189517,
            77433844.35137361,
            991793779.3641266,
            403276009.2978948,
            62802941.980225235,
            7321030.776914298,
            407788204.4819522,
            1577707015.4263575,
            959268270.0164584,
            929262147.3676883,
            506632905.8596012,
            639266127.597658,
            428504446.97981757,
            513775366.84478295,
            117924095.44125758,
            663479124.1740851,
            625453131.381164,
            23803497.104792755,
            1317396514.2596245,
            1326565179.405407,
            1283482817.2024655,
            3515207827.1933618,
            572629485.3590468,
            615734622.0502424,
            607027563.2423005,
            572536803.6860108,
            155814328.30381295,
            22575173.98080504,
            400167748.88039345,
            224479873.37681893,
            205366689.20807555,
            2302523714.2408485,
            1204556564.4265165,
            267061661.60346496,
            1254406782.2695532,
            638071034.7638538,
            1662887850.3770523,
            405147554.6827262,
            732817698.9636034,
            279993954.1281526,
            493696175.35905784,
            461211450.2094377,
            276877375.75114775,
            928027809.1253518,
            61384873.87297858,
            1309647138.6383235,
            637896.4970290562,
            2209652133.6696405,
            702163583.0475576,
            1031030689.215239,
            1065033485.0340737,
            1195023701.694797,
            1091458621.7573683,
            643680802.557764,
            1309647138.6383235,
            491138414.91277957,
            2108442885.0552175,
            2126438047.7687826,
            636978612.2794013,
            126438718.69383684,
            663041531.8565184,
            236822239.38033098,
            1113828448.4079928,
            920634841.3616649,
            1549706267.129173,
            3536957320.1925836,
            1079015840.7953382,
            147655147.9619317,
            3120466180.172814,
            89455030.1484293,
            1263768875.1574,
            136664834.53029248,
            246354746.5899005,
            23450212.68929639,
            1195500842.6747823,
            1533971819.292175,
            3089445701.1581993,
            433768386.2469638,
            937019257.3343778,
            955655845.2711244,
            2433396303.514989,
            0,
            2464700540.262043,
            72168674.22418988,
            5198942652.7725,
            1638392489.249836,
            1004420602.7369497,
            1446535020.3054254,
            2297454853.798922,
            1235081076.8614948,
            99168903.12950541,
            2385272615.170528,
            1386468613.0825956,
            1745696989.9066055,
            498836437.4441767,
            41628256.29531892,
            1713619991.0740862,
            2371157923.8852935,
            2322580585.000144,
            1576210152.6030872,
            598205201.743154,
            1501944707.2296336,
            3125082660.961925,
            1838314244.960862,
            2396508262.4986973,
            2013899742.8648853,
            636978612.2794013,
            2043404327.1088827,
            1543447265.3157287,
            94771854.00167498,
            0,
            1045281855.1537602,
            4772704487.376852,
            4301084935.88641,
            1949947821.3954017,
            479592125.36919475,
            1549706267.129173,
            1599378234.6163461,
            138424809.83757293,
            761342714.6060959,
            97627701.88490811,
            121314347.35172065,
            4345545448.224037,
            66910664.60468685,
            22703581.45461013,
            2347372.8442823486,
            1980655714.5820265,
            1545479567.3983512,
            568556050.4883738,
            96970405.25769912,
            2554385665.054617,
            1868268959.31421,
            1440064347.5078948,
            174464615.45335698,
            1315471189.8609996,
            1428424055.6330183,
            1642901424.259241,
            37316247.77490842,
            1652591772.0366027,
            43910336.43818462,
            553219458.6989843,
            5153657104.4468775,
            1263945784.9848773,
            2702848324.0606303,
            2070200759.5006773,
            1509415087.5788658,
            1410719024.2658086,
            2272715408.9781036,
            3765020445.1488814,
            817855491.3968724,
            995687002.297156,
            104315098.02231228,
            6154721792.978407,
            3825095891.5760508,
            3650988821.7576203,
            2996967544.0813675,
            1001435157.4396732,
            1645058620.590765,
            1067791566.0214944,
            247835525.23296645,
            2222088796.742058,
            1394866691.4995425,
            3052604576.1576486,
            169848519.0961854,
            35548442.46341881,
            2876967325.6325054,
            3752926824.2253036,
            1777273186.8328938,
            2800338271.0400944,
            2040852843.2567453,
            944220389.7013152,
            1217435113.65493,
            389555778.2037766,
            120963457.18315844,
            525453203.1876516,
            613154525.9459481,
            2180812971.9530234,
            853864455.7908144,
            1432260851.6901925,
            3825912049.689049,
            3552815861.265111,
            4102353943.238762,
            1130120844.4593098,
            3807653158.549839,
            1495838850.0410585,
            1911079291.1833944,
            2299622800.1983075,
            509518087.0253899,
            3359959416.377584,
            3526936592.976537,
            3205081964.9719276,
            2552945144.8620954,
            1276908409.6413896,
            2132318070.1996026,
            15299610.516042568,
            1893984231.8944502,
            3180994958.305354,
            2706920029.191231,
            7261968.409659038,
            1702299733.408516,
            843718061.1576742,
            2563404088.3460193,
            3279508198.470801,
            249642140.35076958,
            5019048014.250423,
            2836893008.077752,
            1115488694.6521077,
            656415815.4341991,
            1176811606.323604,
            896843161.6392242,
            3318602638.2652607,
            1783281869.6072624,
            964283151.2771474,
            2464700540.262043,
            741125977.1309093,
            4118527478.89042,
            2356627719.579858,
            2185968461.0849104,
            548121605.8173822,
            1615493423.4860935,
            890490696.8918822,
            3691749749.651591,
            5014127034.110031,
            945030268.8911619,
            1150509698.5615668,
            378279965.7751506,
            1257172708.9981856,
            1980655714.5820265,
            705231755.7938784,
            1696851921.6565804,
            767304772.9241983,
            238984675.18513438,
            3936869630.572767,
            1484217104.555185,
            378279965.7751506,
            426745676.13682115,
            2150704319.167182,
            2029184784.6341896,
            3666894349.413842,
            970152748.8663057,
            3759140920.1190896,
            2242248947.664199,
            1722456700.8058224,
            880728264.3576329,
            2965074806.8263764,
            149543091.43437326,
            2541482031.718854,
            1060136255.2017877,
            3545486463.225093,
            215894910.4933016,
            3099120964.0155888,
            2837185721.8775735,
            1760363319.6420357,
            726263369.1856066,
            3579172634.4973555,
            2323251938.106116,
            858986299.2473378,
            1448747096.5073497,
            1002220381.1955173,
            2369315346.065469,
            1780382607.7449045,
            1188131863.9891744,
            1362926460.6859953,
            613154525.9459481,
            1355826810.4289873,
            3099120964.0155888,
            2111515651.1209273,
            1165610418.4744272,
            4075374003.8145537,
            1465245.3663154843,
            2250688866.5669227,
            776459235.26163,
            1211829714.944348,
            1279581712.4102273,
            2023741942.9174197,
            3541301324.1012225,
            2115229082.7713108,
            1875588585.3509572,
            316345482.91308975,
            2638885704.432516,
            866252196.5503342,
            2024862264.3287737,
            2071242330.9782357,
            965085313.76208,
            648832862.3850722,
            96944961.68290116,
            56980818.51800436,
            6154721792.978407,
            2199602215.448678,
            2209292563.2260394,
            2882328402.816947,
            1850151527.238261,
            4272507186.185915,
            26281295.04010683,
            2093550403.3009865,
            4102353943.238762,
            405091619.73907965,
            4272507186.185915,
            2141094670.5764213,
            106651967.71172212,
            680679337.1873326,
            2472328987.645548,
            657296.6272089903,
            0,
            2567214044.596611,
            2787273831.4626226,
            1777273186.8328938,
            3671050023.1486907,
            1249926592.703751,
            2687965688.416494,
            857027518.1137435,
            1689309615.8552325,
            78093191.91601877,
            1754787249.4609685,
            204845437.03427184,
            1047298123.5359265,
            62164334.25648685
           ]
          },
          {
           "label": "Traditional Costs",
           "values": [
            2406342225.894489,
            2588653513.0004153,
            2769169946.236273,
            2209216652.196032,
            2902976718.142399,
            1850141390.598008,
            1913518092.9589128,
            2482245307.6181164,
            801784629.966498,
            1900364265.3413773,
            2326896897.982476,
            2712512382.209834,
            3146161387.802762,
            2784274413.1929417,
            1910118059.757784,
            2049490392.5062602,
            2260292629.995397,
            1637978830.9433026,
            2463784505.550621,
            2147390844.9169755,
            2032921312.6637974,
            2216374429.0131397,
            1493930619.8876061,
            2552200454.6852345,
            1384057362.282125,
            2193540090.7924232,
            2398817632.7402782,
            2165983373.6907587,
            2114502769.8081465,
            2499919543.875112,
            1127011929.8399885,
            1294074312.1704865,
            1569174782.7250636,
            1595466015.2763932,
            1949202598.0833585,
            1420363985.059054,
            1751504574.8697326,
            1774220709.941857,
            2140526204.6625457,
            2175024720.4232874,
            1189930931.9470382,
            1495245937.8882213,
            1986429651.8228543,
            2105910600.9834974,
            2596492865.4185963,
            1533378020.0196996,
            1343076911.996136,
            1726972914.096094,
            1314276902.9364247,
            1855796568.7284336,
            704237485.1420487,
            3362893998.12154,
            1244672546.8054025,
            2480490428.4371552,
            1443598234.7665303,
            1886657122.532595,
            1294664767.5092077,
            1591116979.0647125,
            1843063454.0170739,
            2542993410.560561,
            1250564843.0557265,
            1697391958.6765814,
            1766069473.0319185,
            2716254681.901226,
            2036005277.0813632,
            2299308414.296286,
            1168836753.979435,
            1493076534.1398828,
            1438942787.7978616,
            1034757325.7693015,
            1174240460.2521205,
            1720009068.997661,
            1617131989.4151561,
            1806605713.0134692,
            1306446972.8864882,
            1150653437.4203045,
            1464203466.9914765,
            1554297886.0476127,
            1603365082.6238868,
            1026636069.3870263,
            1669119211.468122,
            2478970205.6402025,
            1219940614.4870205,
            1825502095.9270976,
            2730656266.8104105,
            1026686050.4467938,
            1556576858.5839188,
            1429578167.4596891,
            1277175747.4800816,
            2940932003.62025,
            1398661530.878834,
            1196174693.735067,
            1181443187.715308,
            958749569.8674453,
            1630410690.0564885,
            1944803006.4136992,
            1431671057.4246418,
            755223200.8427675,
            761038655.2902642,
            1053386348.4971582,
            1463183802.5524426,
            1242396843.1906257,
            1129949071.5733528,
            1590453943.8191059,
            1165936144.9957762,
            791660455.5060349,
            2239070298.5332623,
            953134213.131686,
            1171624458.1177592,
            1034686200.1159062,
            898041461.2425139,
            1007992138.8756305,
            1299738091.2401936,
            883971329.8319433,
            1119555793.3669052,
            1391224904.4336267,
            1218354312.2567248,
            1386848794.8083014,
            1541911676.3238235,
            1463041964.0125835,
            1479151383.4109142,
            748085779.8929447,
            1379441276.5295994,
            2544378200.2363873,
            2071873188.1056578,
            1469091863.187488,
            957617427.5539099,
            1262006200.0062413,
            1426370914.0006676,
            777654838.0594945,
            1066677113.4130049,
            1133821397.34534,
            1284419483.3736742,
            857138975.7200371,
            1325410400.2343397,
            1364733635.179232,
            1285851300.9460597,
            995110484.0242355,
            1452891902.197793,
            1678234049.7157052,
            2593518328.1701393,
            1215522475.3118944,
            734744236.0736145,
            1338290690.8976939,
            698380242.8093305,
            1571861398.8095722,
            1244466533.1083043,
            1515848612.8104944,
            2304584261.702762,
            1923164431.735444,
            1778923243.3352187,
            1208619640.0370867,
            1078678962.650693,
            1228313508.5713875,
            838583880.0869062,
            918477562.0086113,
            913960448.3974309,
            1055352972.5263081,
            1214925882.4860528,
            997796417.9487888,
            2509682325.22714,
            1303267956.9006712,
            1194378531.1550653,
            1507920398.0590193,
            1078858773.270783,
            1768040571.8264008,
            504600039.43140334,
            1999819072.5041766,
            930915694.2662063,
            1905610190.173872,
            718675174.2156565,
            1870419194.89954,
            1383618231.6627095,
            883083174.5559161,
            1510331797.0806727,
            1079971682.867041,
            1719530602.0024319,
            955693292.8003836,
            550367890.6057343,
            1368838121.7906942,
            906454068.760948,
            807468285.0205172,
            2035653995.683827,
            1561326455.0494254,
            762134321.9319191,
            967547506.467202,
            422050463.8176305,
            777529768.9519383,
            794738700.4933522,
            778239496.788866,
            646302740.3908203,
            1256353117.1010294,
            1132703389.9727473,
            1521349243.4764605,
            1442072851.780543,
            899872967.8680047,
            1836540751.4204772,
            939151612.1183963,
            1179948954.2634418,
            1371979949.8245294,
            931109446.307141,
            740848429.8313208,
            522823331.44581926,
            799834352.6196628,
            1782555457.0468998,
            523937512.9224783,
            1051982868.13302,
            470338851.8846488,
            1195150267.8626306,
            862075024.2900321,
            537461328.6637318,
            1206604306.1381474,
            1068620924.4794385,
            638455005.6287332,
            1232804395.1102984,
            1709070199.5085673,
            486505493.1513735,
            1677989296.5594535,
            1489943010.535141,
            1019491878.5382242,
            426730595.79705864,
            541043153.1036516,
            1125872892.5414274,
            612008017.8175315,
            1202260231.9947276,
            728625815.4085879,
            940016133.0422722,
            620502778.9568256,
            835040520.0639553,
            877164386.7191366,
            789713609.0398368,
            1621856562.2057397,
            973206000.7941962,
            2618766591.061315,
            322566663.38731235,
            447498656.7771286,
            501938078.16204697,
            1147849281.2492526,
            1791945319.8721206,
            916409419.7520994,
            1498450326.733992,
            886856113.4071779,
            1088451249.1385634,
            1986527593.6984403,
            1540936151.146162,
            519547740.19612664,
            994902782.3110343,
            1618747887.6904335,
            1245424169.3620374,
            834259899.064869,
            1073004338.0296557,
            316077223.1902959,
            2103917414.339639,
            616690131.2820283,
            1133032923.8973954,
            1144486415.9195194,
            862771141.6043695,
            975516095.5063765,
            765508460.8102217,
            1362075643.8784597,
            1291253473.2415,
            927472905.1318859,
            1569828955.087233,
            2451087266.2271523,
            433086727.0135009,
            667845994.6587057,
            594134339.168426,
            820065375.4464648,
            1139463066.0499349,
            992303378.9707828,
            845235709.7863387,
            366671061.7188049,
            1098525206.7550087,
            1629945133.7537632,
            829121589.3575848,
            157181128.53904316,
            383865623.71078634,
            675397389.4226073,
            291604787.7932283,
            677997360.3122671,
            1015168389.7958404,
            1348907825.8711116,
            973351635.2325882,
            773256705.4744716,
            692844082.1933227,
            1175237430.0175686,
            1152577008.7995908,
            887852909.5459994,
            724280580.4224327,
            501523034.4541203,
            701125884.1014987,
            793742025.5262295,
            855171980.6029044,
            671533318.4340322,
            803801400.5966933,
            1016640258.8713722,
            1279146283.6197715,
            1463057596.7293706,
            509364703.70863044,
            906623511.3316901,
            1980496637.854802,
            966463126.9981024,
            606891584.8454418,
            577285905.5097566,
            423655095.92739004,
            1047611750.9608078,
            661456493.0180553,
            1459807614.233484,
            627799192.8293291,
            712545453.000537,
            1876021441.8261878,
            610194175.7314923,
            796006443.4485341,
            917056518.0823053,
            1133293784.4740324,
            758744535.9418435,
            644840531.2674026,
            1903546042.0399227,
            692807854.8172258,
            277970082.2550495,
            579592805.2416937,
            1018826048.574745,
            1019772010.1726364,
            1892825087.5014966,
            474786446.96509564,
            1045983242.4436762,
            1046182955.865518,
            305042422.0201978,
            544800805.2382137,
            843877331.9494206,
            1260379717.8133035,
            666269163.849024,
            836052515.7174809,
            682341503.2762437,
            714351501.5981704,
            622871156.327431,
            438855188.74865186,
            883539124.8303517,
            524873355.34754753,
            372640217.39866656,
            805444205.5956659,
            909945044.7940176,
            385435658.6064186,
            1330253081.5449884,
            353987668.6083968,
            321725291.33960015,
            592816432.5474548,
            359159397.68128115,
            1817068124.0102987,
            1301771259.279693,
            795202021.0973493,
            608232360.4155346,
            860545231.8800437,
            1165901351.654859,
            775585042.0372838,
            251720656.12484,
            1068788799.6370379,
            1870664712.727815,
            1260797977.7723074,
            817939516.4295107,
            672156260.6752089,
            419960280.2846038,
            942669081.8722943,
            206759678.5776594,
            805047681.4230895,
            1059516532.6126244,
            573410150.8123384,
            366091857.5009646,
            858384379.5544018,
            462489638.41973066,
            670719659.552121,
            721730013.3809402,
            1001594052.1337379,
            157181128.53904316,
            331974144.206925,
            295150845.6486859,
            1500625169.4755886,
            487372598.07856435,
            1195284110.7236676,
            1271079844.5087795,
            586822392.3010287,
            809332040.5454288,
            753724007.834646,
            426196446.9989774,
            514999662.83546317,
            1037771781.8733857,
            611402090.043611,
            764683572.0909196,
            147965131.8938724,
            360333710.8912584,
            766382455.8637124,
            647820290.5350897,
            1733922581.9548817,
            562224498.3101891,
            1292550111.2142026,
            1443013926.8630328,
            632870001.6384528,
            715231288.7394375,
            497991586.42938507,
            669392637.7640892,
            520101868.4299097,
            1102985652.7693937,
            471654003.62072515,
            764545755.5788742,
            789900007.4044309,
            545702136.4970223,
            1310838052.0393493,
            417597306.9320716,
            1951775859.8107624,
            1756183169.1420133,
            103683597.02231105,
            1291748420.021193,
            1086459234.928262,
            638475046.8144195,
            1130464927.0405602,
            447980511.944645,
            2077021783.1729183,
            446359931.17608845,
            202855556.57476696,
            873085326.7446157,
            486924964.9848573,
            885217784.212947,
            1033143247.1658506,
            703292221.6393666,
            739657055.4680477,
            2218362467.3938622,
            1454767752.2703965,
            700855925.0606327,
            1076710532.9933734,
            626709366.5755175,
            251720656.12484,
            824520420.110057,
            663508489.5092068,
            736884656.2831483,
            391185755.16551346,
            1160219029.5737355,
            851550432.5572169,
            976110721.4030461,
            787530853.8502855,
            1601591968.0132368
           ]
          },
          {
           "label": "Room for River Investment Costs",
           "values": [
            30700000,
            0,
            0,
            146000000,
            0,
            146000000,
            30700000,
            30700000,
            115300000,
            176700000,
            92100000,
            0,
            0,
            0,
            146000000,
            115300000,
            61400000,
            267200000,
            84600000,
            30700000,
            115300000,
            0,
            84600000,
            0,
            115300000,
            61400000,
            84600000,
            30700000,
            0,
            0,
            199900000,
            146000000,
            302400000,
            230600000,
            84600000,
            267200000,
            0,
            286800000,
            92100000,
            0,
            302400000,
            837700000,
            363800000,
            30700000,
            0,
            0,
            146000000,
            84600000,
            486700000,
            267200000,
            317500000,
            0,
            84600000,
            0,
            0,
            837700000,
            408000000,
            169200000,
            394500000,
            30700000,
            279200000,
            30700000,
            261300000,
            0,
            317500000,
            30700000,
            30700000,
            333100000,
            61400000,
            115300000,
            351800000,
            199900000,
            115300000,
            30700000,
            176700000,
            115300000,
            0,
            619900000,
            0,
            84600000,
            146000000,
            30700000,
            279200000,
            230600000,
            0,
            84600000,
            0,
            448400000,
            121200000,
            0,
            61400000,
            115300000,
            176700000,
            146000000,
            492600000,
            30700000,
            0,
            115300000,
            286800000,
            84600000,
            0,
            30700000,
            182600000,
            84600000,
            146000000,
            371400000,
            0,
            351800000,
            0,
            84600000,
            402100000,
            182600000,
            0,
            169200000,
            0,
            394500000,
            0,
            0,
            61400000,
            486700000,
            1043500000,
            333100000,
            417700000,
            0,
            61400000,
            0,
            182600000,
            146000000,
            922300000,
            535300000,
            61400000,
            115300000,
            30700000,
            199900000,
            121200000,
            84600000,
            84600000,
            176700000,
            0,
            30700000,
            30700000,
            0,
            146000000,
            0,
            0,
            0,
            61400000,
            0,
            0,
            84600000,
            30700000,
            417700000,
            115300000,
            363800000,
            84600000,
            540600000,
            504600000,
            146000000,
            30700000,
            0,
            30700000,
            0,
            30700000,
            30700000,
            146000000,
            0,
            351800000,
            0,
            115300000,
            741100000,
            205800000,
            0,
            0,
            369700000,
            30700000,
            0,
            0,
            115300000,
            363800000,
            115300000,
            199900000,
            146000000,
            61400000,
            0,
            267200000,
            217800000,
            538900000,
            248500000,
            30700000,
            333100000,
            656500000,
            0,
            753100000,
            0,
            436400000,
            146000000,
            176700000,
            146000000,
            0,
            0,
            535300000,
            333100000,
            236500000,
            30700000,
            230600000,
            84600000,
            417700000,
            0,
            30700000,
            217800000,
            236500000,
            61400000,
            146000000,
            874300000,
            0,
            0,
            205800000,
            30700000,
            248500000,
            84600000,
            84600000,
            0,
            115300000,
            382500000,
            0,
            30700000,
            30700000,
            205800000,
            84600000,
            146000000,
            151900000,
            0,
            577200000,
            30700000,
            363800000,
            0,
            0,
            0,
            0,
            248500000,
            0,
            656500000,
            84600000,
            0,
            84600000,
            0,
            783800000,
            692500000,
            856400000,
            0,
            115300000,
            771800000,
            0,
            115300000,
            199900000,
            0,
            554000000,
            405700000,
            61400000,
            84600000,
            654200000,
            0,
            650600000,
            0,
            30700000,
            504600000,
            115300000,
            115300000,
            0,
            0,
            30700000,
            121200000,
            84600000,
            0,
            771800000,
            0,
            151900000,
            30700000,
            236500000,
            279200000,
            146000000,
            0,
            217800000,
            115300000,
            230600000,
            0,
            432800000,
            771800000,
            0,
            0,
            61400000,
            30700000,
            121200000,
            267200000,
            182600000,
            146000000,
            115300000,
            650600000,
            432800000,
            0,
            0,
            30700000,
            0,
            0,
            0,
            30700000,
            0,
            30700000,
            115300000,
            115300000,
            317500000,
            0,
            0,
            0,
            0,
            0,
            0,
            151900000,
            61400000,
            84600000,
            0,
            638600000,
            84600000,
            0,
            115300000,
            0,
            248500000,
            30700000,
            30700000,
            30700000,
            607900000,
            0,
            61400000,
            0,
            169200000,
            371400000,
            84600000,
            236500000,
            0,
            217800000,
            84600000,
            486700000,
            236500000,
            0,
            151900000,
            151900000,
            363800000,
            115300000,
            146000000,
            121200000,
            0,
            333100000,
            84600000,
            84600000,
            602000000,
            61400000,
            371400000,
            146000000,
            115300000,
            84600000,
            0,
            0,
            248500000,
            30700000,
            84600000,
            0,
            236500000,
            290400000,
            261300000,
            30700000,
            169200000,
            0,
            394500000,
            115300000,
            641400000,
            146000000,
            286800000,
            0,
            0,
            217800000,
            115300000,
            569600000,
            84600000,
            115300000,
            84600000,
            0,
            432800000,
            0,
            115300000,
            30700000,
            825700000,
            0,
            267200000,
            473900000,
            151900000,
            115300000,
            589200000,
            84600000,
            213300000,
            30700000,
            236500000,
            0,
            0,
            205800000,
            217800000,
            30700000,
            199900000,
            400400000,
            30700000,
            0,
            0,
            0,
            169200000,
            92100000,
            30700000,
            0,
            84600000,
            61400000,
            0,
            371400000,
            0,
            169200000,
            523300000,
            402100000,
            0,
            0,
            515700000,
            30700000,
            0,
            61400000,
            182600000,
            84600000,
            84600000,
            236500000,
            146000000,
            704500000,
            84600000,
            432800000,
            146000000,
            30700000
           ]
          }
         ],
         "domain": {
          "x": [
           0,
           1
          ],
          "y": [
           0,
           1
          ]
         },
         "line": {
          "color": [
           0,
           1,
           2,
           3,
           4,
           5,
           6,
           7,
           8,
           9,
           10,
           11,
           12,
           13,
           14,
           15,
           16,
           17,
           18,
           19,
           20,
           21,
           22,
           23,
           24,
           25,
           26,
           27,
           28,
           29,
           30,
           31,
           32,
           33,
           34,
           35,
           36,
           37,
           38,
           39,
           40,
           41,
           42,
           43,
           44,
           45,
           46,
           47,
           48,
           49,
           50,
           51,
           52,
           53,
           54,
           55,
           56,
           57,
           58,
           59,
           60,
           61,
           62,
           63,
           64,
           65,
           66,
           67,
           68,
           69,
           70,
           71,
           72,
           73,
           74,
           75,
           76,
           77,
           78,
           79,
           80,
           81,
           82,
           83,
           84,
           85,
           86,
           87,
           88,
           89,
           90,
           91,
           92,
           93,
           94,
           95,
           96,
           97,
           98,
           99,
           100,
           101,
           102,
           103,
           104,
           105,
           106,
           107,
           108,
           109,
           110,
           111,
           112,
           113,
           114,
           115,
           116,
           117,
           118,
           119,
           120,
           121,
           122,
           123,
           124,
           125,
           126,
           127,
           128,
           129,
           130,
           131,
           132,
           133,
           134,
           135,
           136,
           137,
           138,
           139,
           140,
           141,
           142,
           143,
           144,
           145,
           146,
           147,
           148,
           149,
           150,
           151,
           152,
           153,
           154,
           155,
           156,
           157,
           158,
           159,
           160,
           161,
           162,
           163,
           164,
           165,
           166,
           167,
           168,
           169,
           170,
           171,
           172,
           173,
           174,
           175,
           176,
           177,
           178,
           179,
           180,
           181,
           182,
           183,
           184,
           185,
           186,
           187,
           188,
           189,
           190,
           191,
           192,
           193,
           194,
           195,
           196,
           197,
           198,
           199,
           200,
           201,
           202,
           203,
           204,
           205,
           206,
           207,
           208,
           209,
           210,
           211,
           212,
           213,
           214,
           215,
           216,
           217,
           218,
           219,
           220,
           221,
           222,
           223,
           224,
           225,
           226,
           227,
           228,
           229,
           230,
           231,
           232,
           233,
           234,
           235,
           236,
           237,
           238,
           239,
           240,
           241,
           242,
           243,
           244,
           245,
           246,
           247,
           248,
           249,
           250,
           251,
           252,
           253,
           254,
           255,
           256,
           257,
           258,
           259,
           260,
           261,
           262,
           263,
           264,
           265,
           266,
           267,
           268,
           269,
           270,
           271,
           272,
           273,
           274,
           275,
           276,
           277,
           278,
           279,
           280,
           281,
           282,
           283,
           284,
           285,
           286,
           287,
           288,
           289,
           290,
           291,
           292,
           293,
           294,
           295,
           296,
           297,
           298,
           299,
           300,
           301,
           302,
           303,
           304,
           305,
           306,
           307,
           308,
           309,
           310,
           311,
           312,
           313,
           314,
           315,
           316,
           317,
           318,
           319,
           320,
           321,
           322,
           323,
           324,
           325,
           326,
           327,
           328,
           329,
           330,
           331,
           332,
           333,
           334,
           335,
           336,
           337,
           338,
           339,
           340,
           341,
           342,
           343,
           344,
           345,
           346,
           347,
           348,
           349,
           350,
           351,
           352,
           353,
           354,
           355,
           356,
           357,
           358,
           359,
           360,
           361,
           362,
           363,
           364,
           365,
           366,
           367,
           368,
           369,
           370,
           371,
           372,
           373,
           374,
           375,
           376,
           377,
           378,
           379,
           380,
           381,
           382,
           383,
           384,
           385,
           386,
           387,
           388,
           389,
           390,
           391,
           392,
           393,
           394,
           395,
           396,
           397,
           398,
           399,
           400,
           401,
           402,
           403,
           404,
           405,
           406,
           407,
           408,
           409,
           410,
           411,
           412,
           413,
           414,
           415,
           416,
           417,
           418,
           419,
           420,
           421,
           422,
           423,
           424,
           425,
           426,
           427,
           428,
           429,
           430,
           431,
           432,
           433,
           434,
           435,
           436,
           437,
           438,
           439
          ],
          "coloraxis": "coloraxis"
         },
         "name": "",
         "type": "parcoords"
        }
       ],
       "layout": {
        "coloraxis": {
         "colorbar": {
          "title": {
           "text": "index"
          }
         },
         "colorscale": [
          [
           0,
           "#0d0887"
          ],
          [
           0.1111111111111111,
           "#46039f"
          ],
          [
           0.2222222222222222,
           "#7201a8"
          ],
          [
           0.3333333333333333,
           "#9c179e"
          ],
          [
           0.4444444444444444,
           "#bd3786"
          ],
          [
           0.5555555555555556,
           "#d8576b"
          ],
          [
           0.6666666666666666,
           "#ed7953"
          ],
          [
           0.7777777777777778,
           "#fb9f3a"
          ],
          [
           0.8888888888888888,
           "#fdca26"
          ],
          [
           1,
           "#f0f921"
          ]
         ]
        },
        "legend": {
         "tracegroupgap": 0
        },
        "margin": {
         "t": 60
        },
        "showlegend": false,
        "template": {
         "data": {
          "bar": [
           {
            "error_x": {
             "color": "#2a3f5f"
            },
            "error_y": {
             "color": "#2a3f5f"
            },
            "marker": {
             "line": {
              "color": "#E5ECF6",
              "width": 0.5
             }
            },
            "type": "bar"
           }
          ],
          "barpolar": [
           {
            "marker": {
             "line": {
              "color": "#E5ECF6",
              "width": 0.5
             }
            },
            "type": "barpolar"
           }
          ],
          "carpet": [
           {
            "aaxis": {
             "endlinecolor": "#2a3f5f",
             "gridcolor": "white",
             "linecolor": "white",
             "minorgridcolor": "white",
             "startlinecolor": "#2a3f5f"
            },
            "baxis": {
             "endlinecolor": "#2a3f5f",
             "gridcolor": "white",
             "linecolor": "white",
             "minorgridcolor": "white",
             "startlinecolor": "#2a3f5f"
            },
            "type": "carpet"
           }
          ],
          "choropleth": [
           {
            "colorbar": {
             "outlinewidth": 0,
             "ticks": ""
            },
            "type": "choropleth"
           }
          ],
          "contour": [
           {
            "colorbar": {
             "outlinewidth": 0,
             "ticks": ""
            },
            "colorscale": [
             [
              0,
              "#0d0887"
             ],
             [
              0.1111111111111111,
              "#46039f"
             ],
             [
              0.2222222222222222,
              "#7201a8"
             ],
             [
              0.3333333333333333,
              "#9c179e"
             ],
             [
              0.4444444444444444,
              "#bd3786"
             ],
             [
              0.5555555555555556,
              "#d8576b"
             ],
             [
              0.6666666666666666,
              "#ed7953"
             ],
             [
              0.7777777777777778,
              "#fb9f3a"
             ],
             [
              0.8888888888888888,
              "#fdca26"
             ],
             [
              1,
              "#f0f921"
             ]
            ],
            "type": "contour"
           }
          ],
          "contourcarpet": [
           {
            "colorbar": {
             "outlinewidth": 0,
             "ticks": ""
            },
            "type": "contourcarpet"
           }
          ],
          "heatmap": [
           {
            "colorbar": {
             "outlinewidth": 0,
             "ticks": ""
            },
            "colorscale": [
             [
              0,
              "#0d0887"
             ],
             [
              0.1111111111111111,
              "#46039f"
             ],
             [
              0.2222222222222222,
              "#7201a8"
             ],
             [
              0.3333333333333333,
              "#9c179e"
             ],
             [
              0.4444444444444444,
              "#bd3786"
             ],
             [
              0.5555555555555556,
              "#d8576b"
             ],
             [
              0.6666666666666666,
              "#ed7953"
             ],
             [
              0.7777777777777778,
              "#fb9f3a"
             ],
             [
              0.8888888888888888,
              "#fdca26"
             ],
             [
              1,
              "#f0f921"
             ]
            ],
            "type": "heatmap"
           }
          ],
          "heatmapgl": [
           {
            "colorbar": {
             "outlinewidth": 0,
             "ticks": ""
            },
            "colorscale": [
             [
              0,
              "#0d0887"
             ],
             [
              0.1111111111111111,
              "#46039f"
             ],
             [
              0.2222222222222222,
              "#7201a8"
             ],
             [
              0.3333333333333333,
              "#9c179e"
             ],
             [
              0.4444444444444444,
              "#bd3786"
             ],
             [
              0.5555555555555556,
              "#d8576b"
             ],
             [
              0.6666666666666666,
              "#ed7953"
             ],
             [
              0.7777777777777778,
              "#fb9f3a"
             ],
             [
              0.8888888888888888,
              "#fdca26"
             ],
             [
              1,
              "#f0f921"
             ]
            ],
            "type": "heatmapgl"
           }
          ],
          "histogram": [
           {
            "marker": {
             "colorbar": {
              "outlinewidth": 0,
              "ticks": ""
             }
            },
            "type": "histogram"
           }
          ],
          "histogram2d": [
           {
            "colorbar": {
             "outlinewidth": 0,
             "ticks": ""
            },
            "colorscale": [
             [
              0,
              "#0d0887"
             ],
             [
              0.1111111111111111,
              "#46039f"
             ],
             [
              0.2222222222222222,
              "#7201a8"
             ],
             [
              0.3333333333333333,
              "#9c179e"
             ],
             [
              0.4444444444444444,
              "#bd3786"
             ],
             [
              0.5555555555555556,
              "#d8576b"
             ],
             [
              0.6666666666666666,
              "#ed7953"
             ],
             [
              0.7777777777777778,
              "#fb9f3a"
             ],
             [
              0.8888888888888888,
              "#fdca26"
             ],
             [
              1,
              "#f0f921"
             ]
            ],
            "type": "histogram2d"
           }
          ],
          "histogram2dcontour": [
           {
            "colorbar": {
             "outlinewidth": 0,
             "ticks": ""
            },
            "colorscale": [
             [
              0,
              "#0d0887"
             ],
             [
              0.1111111111111111,
              "#46039f"
             ],
             [
              0.2222222222222222,
              "#7201a8"
             ],
             [
              0.3333333333333333,
              "#9c179e"
             ],
             [
              0.4444444444444444,
              "#bd3786"
             ],
             [
              0.5555555555555556,
              "#d8576b"
             ],
             [
              0.6666666666666666,
              "#ed7953"
             ],
             [
              0.7777777777777778,
              "#fb9f3a"
             ],
             [
              0.8888888888888888,
              "#fdca26"
             ],
             [
              1,
              "#f0f921"
             ]
            ],
            "type": "histogram2dcontour"
           }
          ],
          "mesh3d": [
           {
            "colorbar": {
             "outlinewidth": 0,
             "ticks": ""
            },
            "type": "mesh3d"
           }
          ],
          "parcoords": [
           {
            "line": {
             "colorbar": {
              "outlinewidth": 0,
              "ticks": ""
             }
            },
            "type": "parcoords"
           }
          ],
          "pie": [
           {
            "automargin": true,
            "type": "pie"
           }
          ],
          "scatter": [
           {
            "marker": {
             "colorbar": {
              "outlinewidth": 0,
              "ticks": ""
             }
            },
            "type": "scatter"
           }
          ],
          "scatter3d": [
           {
            "line": {
             "colorbar": {
              "outlinewidth": 0,
              "ticks": ""
             }
            },
            "marker": {
             "colorbar": {
              "outlinewidth": 0,
              "ticks": ""
             }
            },
            "type": "scatter3d"
           }
          ],
          "scattercarpet": [
           {
            "marker": {
             "colorbar": {
              "outlinewidth": 0,
              "ticks": ""
             }
            },
            "type": "scattercarpet"
           }
          ],
          "scattergeo": [
           {
            "marker": {
             "colorbar": {
              "outlinewidth": 0,
              "ticks": ""
             }
            },
            "type": "scattergeo"
           }
          ],
          "scattergl": [
           {
            "marker": {
             "colorbar": {
              "outlinewidth": 0,
              "ticks": ""
             }
            },
            "type": "scattergl"
           }
          ],
          "scattermapbox": [
           {
            "marker": {
             "colorbar": {
              "outlinewidth": 0,
              "ticks": ""
             }
            },
            "type": "scattermapbox"
           }
          ],
          "scatterpolar": [
           {
            "marker": {
             "colorbar": {
              "outlinewidth": 0,
              "ticks": ""
             }
            },
            "type": "scatterpolar"
           }
          ],
          "scatterpolargl": [
           {
            "marker": {
             "colorbar": {
              "outlinewidth": 0,
              "ticks": ""
             }
            },
            "type": "scatterpolargl"
           }
          ],
          "scatterternary": [
           {
            "marker": {
             "colorbar": {
              "outlinewidth": 0,
              "ticks": ""
             }
            },
            "type": "scatterternary"
           }
          ],
          "surface": [
           {
            "colorbar": {
             "outlinewidth": 0,
             "ticks": ""
            },
            "colorscale": [
             [
              0,
              "#0d0887"
             ],
             [
              0.1111111111111111,
              "#46039f"
             ],
             [
              0.2222222222222222,
              "#7201a8"
             ],
             [
              0.3333333333333333,
              "#9c179e"
             ],
             [
              0.4444444444444444,
              "#bd3786"
             ],
             [
              0.5555555555555556,
              "#d8576b"
             ],
             [
              0.6666666666666666,
              "#ed7953"
             ],
             [
              0.7777777777777778,
              "#fb9f3a"
             ],
             [
              0.8888888888888888,
              "#fdca26"
             ],
             [
              1,
              "#f0f921"
             ]
            ],
            "type": "surface"
           }
          ],
          "table": [
           {
            "cells": {
             "fill": {
              "color": "#EBF0F8"
             },
             "line": {
              "color": "white"
             }
            },
            "header": {
             "fill": {
              "color": "#C8D4E3"
             },
             "line": {
              "color": "white"
             }
            },
            "type": "table"
           }
          ]
         },
         "layout": {
          "annotationdefaults": {
           "arrowcolor": "#2a3f5f",
           "arrowhead": 0,
           "arrowwidth": 1
          },
          "coloraxis": {
           "colorbar": {
            "outlinewidth": 0,
            "ticks": ""
           }
          },
          "colorscale": {
           "diverging": [
            [
             0,
             "#8e0152"
            ],
            [
             0.1,
             "#c51b7d"
            ],
            [
             0.2,
             "#de77ae"
            ],
            [
             0.3,
             "#f1b6da"
            ],
            [
             0.4,
             "#fde0ef"
            ],
            [
             0.5,
             "#f7f7f7"
            ],
            [
             0.6,
             "#e6f5d0"
            ],
            [
             0.7,
             "#b8e186"
            ],
            [
             0.8,
             "#7fbc41"
            ],
            [
             0.9,
             "#4d9221"
            ],
            [
             1,
             "#276419"
            ]
           ],
           "sequential": [
            [
             0,
             "#0d0887"
            ],
            [
             0.1111111111111111,
             "#46039f"
            ],
            [
             0.2222222222222222,
             "#7201a8"
            ],
            [
             0.3333333333333333,
             "#9c179e"
            ],
            [
             0.4444444444444444,
             "#bd3786"
            ],
            [
             0.5555555555555556,
             "#d8576b"
            ],
            [
             0.6666666666666666,
             "#ed7953"
            ],
            [
             0.7777777777777778,
             "#fb9f3a"
            ],
            [
             0.8888888888888888,
             "#fdca26"
            ],
            [
             1,
             "#f0f921"
            ]
           ],
           "sequentialminus": [
            [
             0,
             "#0d0887"
            ],
            [
             0.1111111111111111,
             "#46039f"
            ],
            [
             0.2222222222222222,
             "#7201a8"
            ],
            [
             0.3333333333333333,
             "#9c179e"
            ],
            [
             0.4444444444444444,
             "#bd3786"
            ],
            [
             0.5555555555555556,
             "#d8576b"
            ],
            [
             0.6666666666666666,
             "#ed7953"
            ],
            [
             0.7777777777777778,
             "#fb9f3a"
            ],
            [
             0.8888888888888888,
             "#fdca26"
            ],
            [
             1,
             "#f0f921"
            ]
           ]
          },
          "colorway": [
           "#636efa",
           "#EF553B",
           "#00cc96",
           "#ab63fa",
           "#FFA15A",
           "#19d3f3",
           "#FF6692",
           "#B6E880",
           "#FF97FF",
           "#FECB52"
          ],
          "font": {
           "color": "#2a3f5f"
          },
          "geo": {
           "bgcolor": "white",
           "lakecolor": "white",
           "landcolor": "#E5ECF6",
           "showlakes": true,
           "showland": true,
           "subunitcolor": "white"
          },
          "hoverlabel": {
           "align": "left"
          },
          "hovermode": "closest",
          "mapbox": {
           "style": "light"
          },
          "paper_bgcolor": "white",
          "plot_bgcolor": "#E5ECF6",
          "polar": {
           "angularaxis": {
            "gridcolor": "white",
            "linecolor": "white",
            "ticks": ""
           },
           "bgcolor": "#E5ECF6",
           "radialaxis": {
            "gridcolor": "white",
            "linecolor": "white",
            "ticks": ""
           }
          },
          "scene": {
           "xaxis": {
            "backgroundcolor": "#E5ECF6",
            "gridcolor": "white",
            "gridwidth": 2,
            "linecolor": "white",
            "showbackground": true,
            "ticks": "",
            "zerolinecolor": "white"
           },
           "yaxis": {
            "backgroundcolor": "#E5ECF6",
            "gridcolor": "white",
            "gridwidth": 2,
            "linecolor": "white",
            "showbackground": true,
            "ticks": "",
            "zerolinecolor": "white"
           },
           "zaxis": {
            "backgroundcolor": "#E5ECF6",
            "gridcolor": "white",
            "gridwidth": 2,
            "linecolor": "white",
            "showbackground": true,
            "ticks": "",
            "zerolinecolor": "white"
           }
          },
          "shapedefaults": {
           "line": {
            "color": "#2a3f5f"
           }
          },
          "ternary": {
           "aaxis": {
            "gridcolor": "white",
            "linecolor": "white",
            "ticks": ""
           },
           "baxis": {
            "gridcolor": "white",
            "linecolor": "white",
            "ticks": ""
           },
           "bgcolor": "#E5ECF6",
           "caxis": {
            "gridcolor": "white",
            "linecolor": "white",
            "ticks": ""
           }
          },
          "title": {
           "x": 0.05
          },
          "xaxis": {
           "automargin": true,
           "gridcolor": "white",
           "linecolor": "white",
           "ticks": "",
           "title": {
            "standoff": 15
           },
           "zerolinecolor": "white",
           "zerolinewidth": 2
          },
          "yaxis": {
           "automargin": true,
           "gridcolor": "white",
           "linecolor": "white",
           "ticks": "",
           "title": {
            "standoff": 15
           },
           "zerolinecolor": "white",
           "zerolinewidth": 2
          }
         }
        }
       }
      }
     },
     "metadata": {}
    }
   ],
   "source": [
    "fig = px.parallel_coordinates(results_agg, dimensions=[\"Expected Casualties\",\"Expected Damage\", \"Traditional Costs\", \"Room for River Investment Costs\"], color = results_agg.index)\n",
    "fig.update_layout(showlegend=False)\n",
    "fig.show()"
   ]
  },
  {
   "cell_type": "markdown",
   "metadata": {},
   "source": [
    "## Re-Evaluate under deep uncertainty\n",
    "For evaluating the promising policies under deep uncertainty, we set a hard limit on one expected casualties below 0.001 and expected damages below €100.000. "
   ]
  },
  {
   "cell_type": "code",
   "execution_count": 12,
   "metadata": {},
   "outputs": [],
   "source": [
    "results_subset = results[\n",
    "    ((results[\"A1_2 Aggr Expected Number of Deaths\"] + results[\"A3 Aggr Expected Number of Deaths\"]) < 0.001) &\n",
    "    ((results[\"A1_2 Aggr Expected Annual Damage\"] + results[\"A3 Expected Annual Damage\"]) < 100000) ]"
   ]
  },
  {
   "cell_type": "markdown",
   "metadata": {},
   "source": [
    "We further use the remaining policies to test them under deep uncertainty by running the policies for 1000 scenarios each. "
   ]
  },
  {
   "cell_type": "code",
   "execution_count": 13,
   "metadata": {},
   "outputs": [],
   "source": [
    "policies = results_subset.iloc[:,0:31]\n",
    "policies_to_evaluate = []\n",
    "\n",
    "for i, policy in policies.iterrows():\n",
    "    policies_to_evaluate.append(Policy(str(i), **policy.to_dict()))"
   ]
  },
  {
   "cell_type": "code",
   "execution_count": 14,
   "metadata": {},
   "outputs": [
    {
     "output_type": "stream",
     "name": "stderr",
     "text": "[MainProcess/INFO] pool started\n[MainProcess/INFO] performing 100 scenarios * 8 policies * 1 model(s) = 800 experiments\n[MainProcess/INFO] 80 cases completed\n[MainProcess/INFO] 160 cases completed\n[MainProcess/INFO] 240 cases completed\n[MainProcess/INFO] 320 cases completed\n[MainProcess/INFO] 400 cases completed\n[MainProcess/INFO] 480 cases completed\n[MainProcess/INFO] 560 cases completed\n[MainProcess/INFO] 640 cases completed\n[MainProcess/INFO] 720 cases completed\n[MainProcess/INFO] 800 cases completed\n[MainProcess/INFO] experiments finished\n[MainProcess/INFO] terminating pool\n"
    }
   ],
   "source": [
    "ema_logging.log_to_stderr(ema_logging.INFO)\n",
    "\n",
    "with MultiprocessingEvaluator(dike_model) as evaluator:\n",
    "    results = evaluator.perform_experiments(n_scenarios, policies_to_evaluate)"
   ]
  },
  {
   "cell_type": "code",
   "execution_count": 15,
   "metadata": {},
   "outputs": [
    {
     "output_type": "stream",
     "name": "stderr",
     "text": "[MainProcess/INFO] results saved successfully to /Users/ricoherzog/OneDrive/Uni/2019-2020 WiSe Den Haag/Q4/EPA1361 Model Based Decision Making/05_Project/model-based-decision-making/results/DeepUncertainty8policies_100scenarios.tar.gz\n"
    }
   ],
   "source": [
    "#Save results\n",
    "save_results(results, \"../results/DeepUncertainty8policies_\"+str(n_scenarios)+\"scenarios_Gelderland.tar.gz\")"
   ]
  },
  {
   "cell_type": "markdown",
   "metadata": {},
   "source": [
    "### Signal-to-noise Ratio\n",
    "To find the most robust policy, we rate the different policies by calculating the signal-to-noise ratio. "
   ]
  },
  {
   "cell_type": "code",
   "execution_count": 16,
   "metadata": {},
   "outputs": [],
   "source": [
    "def s_to_n(data, direction):\n",
    "    mean = np.mean(data)\n",
    "    std = np.std(data)\n",
    "    \n",
    "    if direction==ScalarOutcome.MAXIMIZE:\n",
    "        return mean/std\n",
    "    else:\n",
    "        return mean*std"
   ]
  },
  {
   "cell_type": "code",
   "execution_count": 18,
   "metadata": {},
   "outputs": [
    {
     "output_type": "execute_result",
     "data": {
      "text/plain": "     A1_2 Aggr Expected Annual Damage  A3 Expected Annual Damage  \\\n204                      4.472636e+16               0.000000e+00   \n233                      1.365190e+14               4.036240e+10   \n3                        1.161959e+16               8.859493e+11   \n37                       9.774457e+16               6.466628e+09   \n426                      2.670241e+16               1.397414e+12   \n55                       3.899681e+11               3.348941e+12   \n64                       1.323409e+16               3.932125e+11   \n92                       9.621311e+16               8.357226e+07   \n\n     A1_2 Aggr Expected Number of Deaths  A3 Aggr Expected Number of Deaths  \\\n204                         2.573116e-04                       0.000000e+00   \n233                         8.806247e-07                       2.888055e-09   \n3                           3.926526e-03                       4.259212e-06   \n37                          5.754004e-04                       6.898292e-10   \n426                         1.310495e-04                       6.288404e-08   \n55                          9.875552e-09                       2.919997e-07   \n64                          5.831596e-03                       9.392162e-07   \n92                          5.483846e-04                       8.323510e-12   \n\n     A1_5 Dike Investment Costs  Room for River Investment Costs  \\\n204                    0.000000                              0.0   \n233                 1248.725219                              0.0   \n3                      0.000000                              0.0   \n37                   846.014153                              0.0   \n426                    0.000000                              0.0   \n55                     0.000000                              0.0   \n64                     0.000000                              0.0   \n92                     0.000000                              0.0   \n\n     Evacuation Costs  \n204      4.525318e+07  \n233      6.458915e+06  \n3        0.000000e+00  \n37       1.642842e+07  \n426      6.481137e+07  \n55       1.465498e+06  \n64       0.000000e+00  \n92       2.310815e+08  ",
      "text/html": "<div>\n<style scoped>\n    .dataframe tbody tr th:only-of-type {\n        vertical-align: middle;\n    }\n\n    .dataframe tbody tr th {\n        vertical-align: top;\n    }\n\n    .dataframe thead th {\n        text-align: right;\n    }\n</style>\n<table border=\"1\" class=\"dataframe\">\n  <thead>\n    <tr style=\"text-align: right;\">\n      <th></th>\n      <th>A1_2 Aggr Expected Annual Damage</th>\n      <th>A3 Expected Annual Damage</th>\n      <th>A1_2 Aggr Expected Number of Deaths</th>\n      <th>A3 Aggr Expected Number of Deaths</th>\n      <th>A1_5 Dike Investment Costs</th>\n      <th>Room for River Investment Costs</th>\n      <th>Evacuation Costs</th>\n    </tr>\n  </thead>\n  <tbody>\n    <tr>\n      <th>204</th>\n      <td>4.472636e+16</td>\n      <td>0.000000e+00</td>\n      <td>2.573116e-04</td>\n      <td>0.000000e+00</td>\n      <td>0.000000</td>\n      <td>0.0</td>\n      <td>4.525318e+07</td>\n    </tr>\n    <tr>\n      <th>233</th>\n      <td>1.365190e+14</td>\n      <td>4.036240e+10</td>\n      <td>8.806247e-07</td>\n      <td>2.888055e-09</td>\n      <td>1248.725219</td>\n      <td>0.0</td>\n      <td>6.458915e+06</td>\n    </tr>\n    <tr>\n      <th>3</th>\n      <td>1.161959e+16</td>\n      <td>8.859493e+11</td>\n      <td>3.926526e-03</td>\n      <td>4.259212e-06</td>\n      <td>0.000000</td>\n      <td>0.0</td>\n      <td>0.000000e+00</td>\n    </tr>\n    <tr>\n      <th>37</th>\n      <td>9.774457e+16</td>\n      <td>6.466628e+09</td>\n      <td>5.754004e-04</td>\n      <td>6.898292e-10</td>\n      <td>846.014153</td>\n      <td>0.0</td>\n      <td>1.642842e+07</td>\n    </tr>\n    <tr>\n      <th>426</th>\n      <td>2.670241e+16</td>\n      <td>1.397414e+12</td>\n      <td>1.310495e-04</td>\n      <td>6.288404e-08</td>\n      <td>0.000000</td>\n      <td>0.0</td>\n      <td>6.481137e+07</td>\n    </tr>\n    <tr>\n      <th>55</th>\n      <td>3.899681e+11</td>\n      <td>3.348941e+12</td>\n      <td>9.875552e-09</td>\n      <td>2.919997e-07</td>\n      <td>0.000000</td>\n      <td>0.0</td>\n      <td>1.465498e+06</td>\n    </tr>\n    <tr>\n      <th>64</th>\n      <td>1.323409e+16</td>\n      <td>3.932125e+11</td>\n      <td>5.831596e-03</td>\n      <td>9.392162e-07</td>\n      <td>0.000000</td>\n      <td>0.0</td>\n      <td>0.000000e+00</td>\n    </tr>\n    <tr>\n      <th>92</th>\n      <td>9.621311e+16</td>\n      <td>8.357226e+07</td>\n      <td>5.483846e-04</td>\n      <td>8.323510e-12</td>\n      <td>0.000000</td>\n      <td>0.0</td>\n      <td>2.310815e+08</td>\n    </tr>\n  </tbody>\n</table>\n</div>"
     },
     "metadata": {},
     "execution_count": 18
    }
   ],
   "source": [
    "experiments, outcomes = results\n",
    "\n",
    "overall_scores = {}\n",
    "for policy in np.unique(experiments['policy']):\n",
    "    scores = {}\n",
    "    \n",
    "    logical = experiments['policy']==policy\n",
    "    \n",
    "    for outcome in dike_model.outcomes:\n",
    "        value  = outcomes[outcome.name][logical]\n",
    "        sn_ratio = s_to_n(value, outcome.kind)\n",
    "        scores[outcome.name] = sn_ratio\n",
    "    overall_scores[policy] = scores\n",
    "scores = pd.DataFrame.from_dict(overall_scores).T\n",
    "scores"
   ]
  },
  {
   "cell_type": "code",
   "execution_count": 36,
   "metadata": {},
   "outputs": [
    {
     "output_type": "display_data",
     "data": {
      "application/vnd.plotly.v1+json": {
       "config": {
        "plotlyServerURL": "https://plot.ly"
       },
       "data": [
        {
         "dimensions": [
          {
           "label": "A1 & 2 Damage",
           "values": [
            44726364205634360,
            136519005168150.44,
            11619593213238994,
            97744566316025620,
            26702408759259700,
            389968104528.6562,
            13234091995588456,
            96213109490827470
           ]
          },
          {
           "label": "A3 Damage",
           "values": [
            0,
            40362395452.238144,
            885949258721.4727,
            6466627564.4773445,
            1397413640045.4675,
            3348941256143.788,
            393212549316.85736,
            83572261.43519604
           ]
          },
          {
           "label": "A1 & 2 Casualties",
           "values": [
            0.0002573115725999108,
            8.806246519610143e-7,
            0.00392652590064225,
            0.0005754004416653052,
            0.0001310494690698126,
            9.875551802942064e-9,
            0.005831596210992731,
            0.000548384602051178
           ]
          },
          {
           "label": "A3 Casualties",
           "values": [
            0,
            2.8880548484963466e-9,
            0.00000425921249636174,
            6.898292117441139e-10,
            6.288404236538119e-8,
            2.9199971385195107e-7,
            9.392162384185625e-7,
            8.323509906374403e-12
           ]
          },
          {
           "label": "Investment Costs",
           "values": [
            0,
            1248.7252192789624,
            0,
            846.0141529076261,
            0,
            0,
            0,
            0
           ]
          },
          {
           "label": "RfR Investment Costs",
           "values": [
            0,
            0,
            0,
            0,
            0,
            0,
            0,
            0
           ]
          },
          {
           "label": "Evacuation Costs",
           "values": [
            45253176.45687479,
            6458914.9963914445,
            0,
            16428420.850017978,
            64811369.64774003,
            1465498.0940736327,
            0,
            231081526.80373815
           ]
          }
         ],
         "domain": {
          "x": [
           0,
           1
          ],
          "y": [
           0,
           1
          ]
         },
         "name": "",
         "type": "parcoords"
        }
       ],
       "layout": {
        "legend": {
         "tracegroupgap": 0
        },
        "margin": {
         "t": 60
        },
        "template": {
         "data": {
          "bar": [
           {
            "error_x": {
             "color": "#2a3f5f"
            },
            "error_y": {
             "color": "#2a3f5f"
            },
            "marker": {
             "line": {
              "color": "#E5ECF6",
              "width": 0.5
             }
            },
            "type": "bar"
           }
          ],
          "barpolar": [
           {
            "marker": {
             "line": {
              "color": "#E5ECF6",
              "width": 0.5
             }
            },
            "type": "barpolar"
           }
          ],
          "carpet": [
           {
            "aaxis": {
             "endlinecolor": "#2a3f5f",
             "gridcolor": "white",
             "linecolor": "white",
             "minorgridcolor": "white",
             "startlinecolor": "#2a3f5f"
            },
            "baxis": {
             "endlinecolor": "#2a3f5f",
             "gridcolor": "white",
             "linecolor": "white",
             "minorgridcolor": "white",
             "startlinecolor": "#2a3f5f"
            },
            "type": "carpet"
           }
          ],
          "choropleth": [
           {
            "colorbar": {
             "outlinewidth": 0,
             "ticks": ""
            },
            "type": "choropleth"
           }
          ],
          "contour": [
           {
            "colorbar": {
             "outlinewidth": 0,
             "ticks": ""
            },
            "colorscale": [
             [
              0,
              "#0d0887"
             ],
             [
              0.1111111111111111,
              "#46039f"
             ],
             [
              0.2222222222222222,
              "#7201a8"
             ],
             [
              0.3333333333333333,
              "#9c179e"
             ],
             [
              0.4444444444444444,
              "#bd3786"
             ],
             [
              0.5555555555555556,
              "#d8576b"
             ],
             [
              0.6666666666666666,
              "#ed7953"
             ],
             [
              0.7777777777777778,
              "#fb9f3a"
             ],
             [
              0.8888888888888888,
              "#fdca26"
             ],
             [
              1,
              "#f0f921"
             ]
            ],
            "type": "contour"
           }
          ],
          "contourcarpet": [
           {
            "colorbar": {
             "outlinewidth": 0,
             "ticks": ""
            },
            "type": "contourcarpet"
           }
          ],
          "heatmap": [
           {
            "colorbar": {
             "outlinewidth": 0,
             "ticks": ""
            },
            "colorscale": [
             [
              0,
              "#0d0887"
             ],
             [
              0.1111111111111111,
              "#46039f"
             ],
             [
              0.2222222222222222,
              "#7201a8"
             ],
             [
              0.3333333333333333,
              "#9c179e"
             ],
             [
              0.4444444444444444,
              "#bd3786"
             ],
             [
              0.5555555555555556,
              "#d8576b"
             ],
             [
              0.6666666666666666,
              "#ed7953"
             ],
             [
              0.7777777777777778,
              "#fb9f3a"
             ],
             [
              0.8888888888888888,
              "#fdca26"
             ],
             [
              1,
              "#f0f921"
             ]
            ],
            "type": "heatmap"
           }
          ],
          "heatmapgl": [
           {
            "colorbar": {
             "outlinewidth": 0,
             "ticks": ""
            },
            "colorscale": [
             [
              0,
              "#0d0887"
             ],
             [
              0.1111111111111111,
              "#46039f"
             ],
             [
              0.2222222222222222,
              "#7201a8"
             ],
             [
              0.3333333333333333,
              "#9c179e"
             ],
             [
              0.4444444444444444,
              "#bd3786"
             ],
             [
              0.5555555555555556,
              "#d8576b"
             ],
             [
              0.6666666666666666,
              "#ed7953"
             ],
             [
              0.7777777777777778,
              "#fb9f3a"
             ],
             [
              0.8888888888888888,
              "#fdca26"
             ],
             [
              1,
              "#f0f921"
             ]
            ],
            "type": "heatmapgl"
           }
          ],
          "histogram": [
           {
            "marker": {
             "colorbar": {
              "outlinewidth": 0,
              "ticks": ""
             }
            },
            "type": "histogram"
           }
          ],
          "histogram2d": [
           {
            "colorbar": {
             "outlinewidth": 0,
             "ticks": ""
            },
            "colorscale": [
             [
              0,
              "#0d0887"
             ],
             [
              0.1111111111111111,
              "#46039f"
             ],
             [
              0.2222222222222222,
              "#7201a8"
             ],
             [
              0.3333333333333333,
              "#9c179e"
             ],
             [
              0.4444444444444444,
              "#bd3786"
             ],
             [
              0.5555555555555556,
              "#d8576b"
             ],
             [
              0.6666666666666666,
              "#ed7953"
             ],
             [
              0.7777777777777778,
              "#fb9f3a"
             ],
             [
              0.8888888888888888,
              "#fdca26"
             ],
             [
              1,
              "#f0f921"
             ]
            ],
            "type": "histogram2d"
           }
          ],
          "histogram2dcontour": [
           {
            "colorbar": {
             "outlinewidth": 0,
             "ticks": ""
            },
            "colorscale": [
             [
              0,
              "#0d0887"
             ],
             [
              0.1111111111111111,
              "#46039f"
             ],
             [
              0.2222222222222222,
              "#7201a8"
             ],
             [
              0.3333333333333333,
              "#9c179e"
             ],
             [
              0.4444444444444444,
              "#bd3786"
             ],
             [
              0.5555555555555556,
              "#d8576b"
             ],
             [
              0.6666666666666666,
              "#ed7953"
             ],
             [
              0.7777777777777778,
              "#fb9f3a"
             ],
             [
              0.8888888888888888,
              "#fdca26"
             ],
             [
              1,
              "#f0f921"
             ]
            ],
            "type": "histogram2dcontour"
           }
          ],
          "mesh3d": [
           {
            "colorbar": {
             "outlinewidth": 0,
             "ticks": ""
            },
            "type": "mesh3d"
           }
          ],
          "parcoords": [
           {
            "line": {
             "colorbar": {
              "outlinewidth": 0,
              "ticks": ""
             }
            },
            "type": "parcoords"
           }
          ],
          "pie": [
           {
            "automargin": true,
            "type": "pie"
           }
          ],
          "scatter": [
           {
            "marker": {
             "colorbar": {
              "outlinewidth": 0,
              "ticks": ""
             }
            },
            "type": "scatter"
           }
          ],
          "scatter3d": [
           {
            "line": {
             "colorbar": {
              "outlinewidth": 0,
              "ticks": ""
             }
            },
            "marker": {
             "colorbar": {
              "outlinewidth": 0,
              "ticks": ""
             }
            },
            "type": "scatter3d"
           }
          ],
          "scattercarpet": [
           {
            "marker": {
             "colorbar": {
              "outlinewidth": 0,
              "ticks": ""
             }
            },
            "type": "scattercarpet"
           }
          ],
          "scattergeo": [
           {
            "marker": {
             "colorbar": {
              "outlinewidth": 0,
              "ticks": ""
             }
            },
            "type": "scattergeo"
           }
          ],
          "scattergl": [
           {
            "marker": {
             "colorbar": {
              "outlinewidth": 0,
              "ticks": ""
             }
            },
            "type": "scattergl"
           }
          ],
          "scattermapbox": [
           {
            "marker": {
             "colorbar": {
              "outlinewidth": 0,
              "ticks": ""
             }
            },
            "type": "scattermapbox"
           }
          ],
          "scatterpolar": [
           {
            "marker": {
             "colorbar": {
              "outlinewidth": 0,
              "ticks": ""
             }
            },
            "type": "scatterpolar"
           }
          ],
          "scatterpolargl": [
           {
            "marker": {
             "colorbar": {
              "outlinewidth": 0,
              "ticks": ""
             }
            },
            "type": "scatterpolargl"
           }
          ],
          "scatterternary": [
           {
            "marker": {
             "colorbar": {
              "outlinewidth": 0,
              "ticks": ""
             }
            },
            "type": "scatterternary"
           }
          ],
          "surface": [
           {
            "colorbar": {
             "outlinewidth": 0,
             "ticks": ""
            },
            "colorscale": [
             [
              0,
              "#0d0887"
             ],
             [
              0.1111111111111111,
              "#46039f"
             ],
             [
              0.2222222222222222,
              "#7201a8"
             ],
             [
              0.3333333333333333,
              "#9c179e"
             ],
             [
              0.4444444444444444,
              "#bd3786"
             ],
             [
              0.5555555555555556,
              "#d8576b"
             ],
             [
              0.6666666666666666,
              "#ed7953"
             ],
             [
              0.7777777777777778,
              "#fb9f3a"
             ],
             [
              0.8888888888888888,
              "#fdca26"
             ],
             [
              1,
              "#f0f921"
             ]
            ],
            "type": "surface"
           }
          ],
          "table": [
           {
            "cells": {
             "fill": {
              "color": "#EBF0F8"
             },
             "line": {
              "color": "white"
             }
            },
            "header": {
             "fill": {
              "color": "#C8D4E3"
             },
             "line": {
              "color": "white"
             }
            },
            "type": "table"
           }
          ]
         },
         "layout": {
          "annotationdefaults": {
           "arrowcolor": "#2a3f5f",
           "arrowhead": 0,
           "arrowwidth": 1
          },
          "coloraxis": {
           "colorbar": {
            "outlinewidth": 0,
            "ticks": ""
           }
          },
          "colorscale": {
           "diverging": [
            [
             0,
             "#8e0152"
            ],
            [
             0.1,
             "#c51b7d"
            ],
            [
             0.2,
             "#de77ae"
            ],
            [
             0.3,
             "#f1b6da"
            ],
            [
             0.4,
             "#fde0ef"
            ],
            [
             0.5,
             "#f7f7f7"
            ],
            [
             0.6,
             "#e6f5d0"
            ],
            [
             0.7,
             "#b8e186"
            ],
            [
             0.8,
             "#7fbc41"
            ],
            [
             0.9,
             "#4d9221"
            ],
            [
             1,
             "#276419"
            ]
           ],
           "sequential": [
            [
             0,
             "#0d0887"
            ],
            [
             0.1111111111111111,
             "#46039f"
            ],
            [
             0.2222222222222222,
             "#7201a8"
            ],
            [
             0.3333333333333333,
             "#9c179e"
            ],
            [
             0.4444444444444444,
             "#bd3786"
            ],
            [
             0.5555555555555556,
             "#d8576b"
            ],
            [
             0.6666666666666666,
             "#ed7953"
            ],
            [
             0.7777777777777778,
             "#fb9f3a"
            ],
            [
             0.8888888888888888,
             "#fdca26"
            ],
            [
             1,
             "#f0f921"
            ]
           ],
           "sequentialminus": [
            [
             0,
             "#0d0887"
            ],
            [
             0.1111111111111111,
             "#46039f"
            ],
            [
             0.2222222222222222,
             "#7201a8"
            ],
            [
             0.3333333333333333,
             "#9c179e"
            ],
            [
             0.4444444444444444,
             "#bd3786"
            ],
            [
             0.5555555555555556,
             "#d8576b"
            ],
            [
             0.6666666666666666,
             "#ed7953"
            ],
            [
             0.7777777777777778,
             "#fb9f3a"
            ],
            [
             0.8888888888888888,
             "#fdca26"
            ],
            [
             1,
             "#f0f921"
            ]
           ]
          },
          "colorway": [
           "#636efa",
           "#EF553B",
           "#00cc96",
           "#ab63fa",
           "#FFA15A",
           "#19d3f3",
           "#FF6692",
           "#B6E880",
           "#FF97FF",
           "#FECB52"
          ],
          "font": {
           "color": "#2a3f5f"
          },
          "geo": {
           "bgcolor": "white",
           "lakecolor": "white",
           "landcolor": "#E5ECF6",
           "showlakes": true,
           "showland": true,
           "subunitcolor": "white"
          },
          "hoverlabel": {
           "align": "left"
          },
          "hovermode": "closest",
          "mapbox": {
           "style": "light"
          },
          "paper_bgcolor": "white",
          "plot_bgcolor": "#E5ECF6",
          "polar": {
           "angularaxis": {
            "gridcolor": "white",
            "linecolor": "white",
            "ticks": ""
           },
           "bgcolor": "#E5ECF6",
           "radialaxis": {
            "gridcolor": "white",
            "linecolor": "white",
            "ticks": ""
           }
          },
          "scene": {
           "xaxis": {
            "backgroundcolor": "#E5ECF6",
            "gridcolor": "white",
            "gridwidth": 2,
            "linecolor": "white",
            "showbackground": true,
            "ticks": "",
            "zerolinecolor": "white"
           },
           "yaxis": {
            "backgroundcolor": "#E5ECF6",
            "gridcolor": "white",
            "gridwidth": 2,
            "linecolor": "white",
            "showbackground": true,
            "ticks": "",
            "zerolinecolor": "white"
           },
           "zaxis": {
            "backgroundcolor": "#E5ECF6",
            "gridcolor": "white",
            "gridwidth": 2,
            "linecolor": "white",
            "showbackground": true,
            "ticks": "",
            "zerolinecolor": "white"
           }
          },
          "shapedefaults": {
           "line": {
            "color": "#2a3f5f"
           }
          },
          "ternary": {
           "aaxis": {
            "gridcolor": "white",
            "linecolor": "white",
            "ticks": ""
           },
           "baxis": {
            "gridcolor": "white",
            "linecolor": "white",
            "ticks": ""
           },
           "bgcolor": "#E5ECF6",
           "caxis": {
            "gridcolor": "white",
            "linecolor": "white",
            "ticks": ""
           }
          },
          "title": {
           "x": 0.05
          },
          "xaxis": {
           "automargin": true,
           "gridcolor": "white",
           "linecolor": "white",
           "ticks": "",
           "title": {
            "standoff": 15
           },
           "zerolinecolor": "white",
           "zerolinewidth": 2
          },
          "yaxis": {
           "automargin": true,
           "gridcolor": "white",
           "linecolor": "white",
           "ticks": "",
           "title": {
            "standoff": 15
           },
           "zerolinecolor": "white",
           "zerolinewidth": 2
          }
         }
        }
       }
      }
     },
     "metadata": {}
    }
   ],
   "source": [
    "fig = px.parallel_coordinates(scores, labels= {\"A1_2 Aggr Expected Annual Damage\" : \"A1 & 2 Damage\", \"A3 Expected Annual Damage\" : \"A3 Damage\", \"A1_2 Aggr Expected Number of Deaths\" : \"A1 & 2 Casualties\", \"A3 Aggr Expected Number of Deaths\" : \"A3 Casualties\", \"A1_5 Dike Investment Costs\" : \"Investment Costs\", \"Room for River Investment Costs\" : \"RfR Investment Costs\"})\n",
    "fig.show()"
   ]
  },
  {
   "cell_type": "markdown",
   "metadata": {},
   "source": [
    "### Maximum Regret\n",
    "Another robustness criterion is the maximum regret measure. We again calculate this measure for every policy selected"
   ]
  },
  {
   "cell_type": "code",
   "execution_count": 31,
   "metadata": {},
   "outputs": [],
   "source": [
    "def calculate_regret(data, best):\n",
    "    return np.abs(best-data)\n",
    "\n",
    "\n",
    "overall_regret = {}\n",
    "max_regret = {}\n",
    "for outcome in dike_model.outcomes:\n",
    "    policy_column = experiments['policy']\n",
    "    \n",
    "    # create a DataFrame with all the relevent information\n",
    "    # i.e., policy, scenario_id, and scores\n",
    "    data = pd.DataFrame({outcome.name: outcomes[outcome.name], \n",
    "                         \"policy\":experiments['policy'],\n",
    "                         \"scenario\":experiments['scenario']})\n",
    "    \n",
    "    data = data.pivot(index='scenario', columns='policy')\n",
    "    \n",
    "    data.columns = data.columns.get_level_values(1)\n",
    "    \n",
    "    outcome_regret = (data.max(axis=1)[:, np.newaxis] - data).abs()\n",
    "    \n",
    "    overall_regret[outcome.name] = outcome_regret\n",
    "    max_regret[outcome.name] = outcome_regret.max()"
   ]
  },
  {
   "cell_type": "code",
   "execution_count": 32,
   "metadata": {},
   "outputs": [
    {
     "output_type": "display_data",
     "data": {
      "text/plain": "<Figure size 432x288 with 2 Axes>",
      "image/svg+xml": "<?xml version=\"1.0\" encoding=\"utf-8\" standalone=\"no\"?>\n<!DOCTYPE svg PUBLIC \"-//W3C//DTD SVG 1.1//EN\"\n  \"http://www.w3.org/Graphics/SVG/1.1/DTD/svg11.dtd\">\n<!-- Created with matplotlib (https://matplotlib.org/) -->\n<svg height=\"438.662656pt\" version=\"1.1\" viewBox=\"0 0 363.111375 438.662656\" width=\"363.111375pt\" xmlns=\"http://www.w3.org/2000/svg\" xmlns:xlink=\"http://www.w3.org/1999/xlink\">\n <defs>\n  <style type=\"text/css\">\n*{stroke-linecap:butt;stroke-linejoin:round;}\n  </style>\n </defs>\n <g id=\"figure_1\">\n  <g id=\"patch_1\">\n   <path d=\"M 0 438.662656 \nL 363.111375 438.662656 \nL 363.111375 0 \nL 0 0 \nz\n\" style=\"fill:none;\"/>\n  </g>\n  <g id=\"axes_1\">\n   <g id=\"patch_2\">\n    <path d=\"M 37.55625 228.439219 \nL 305.39625 228.439219 \nL 305.39625 10.999219 \nL 37.55625 10.999219 \nz\n\" style=\"fill:#ffffff;\"/>\n   </g>\n   <g id=\"QuadMesh_1\">\n    <path clip-path=\"url(#p174a2d9976)\" d=\"M 37.55625 10.999219 \nL 75.819107 10.999219 \nL 75.819107 38.179219 \nL 37.55625 38.179219 \nL 37.55625 10.999219 \n\" style=\"fill:#2eb37c;\"/>\n    <path clip-path=\"url(#p174a2d9976)\" d=\"M 75.819107 10.999219 \nL 114.081964 10.999219 \nL 114.081964 38.179219 \nL 75.819107 38.179219 \nL 75.819107 10.999219 \n\" style=\"fill:#fde725;\"/>\n    <path clip-path=\"url(#p174a2d9976)\" d=\"M 114.081964 10.999219 \nL 152.344821 10.999219 \nL 152.344821 38.179219 \nL 114.081964 38.179219 \nL 114.081964 10.999219 \n\" style=\"fill:#b0dd2f;\"/>\n    <path clip-path=\"url(#p174a2d9976)\" d=\"M 152.344821 10.999219 \nL 190.607679 10.999219 \nL 190.607679 38.179219 \nL 152.344821 38.179219 \nL 152.344821 10.999219 \n\" style=\"fill:#fde725;\"/>\n    <path clip-path=\"url(#p174a2d9976)\" d=\"M 190.607679 10.999219 \nL 228.870536 10.999219 \nL 228.870536 38.179219 \nL 190.607679 38.179219 \nL 190.607679 10.999219 \n\" style=\"fill:#20a386;\"/>\n    <path clip-path=\"url(#p174a2d9976)\" d=\"M 228.870536 10.999219 \nL 267.133393 10.999219 \nL 267.133393 38.179219 \nL 228.870536 38.179219 \nL 228.870536 10.999219 \n\" style=\"fill:#5ec962;\"/>\n    <path clip-path=\"url(#p174a2d9976)\" d=\"M 267.133393 10.999219 \nL 305.39625 10.999219 \nL 305.39625 38.179219 \nL 267.133393 38.179219 \nL 267.133393 10.999219 \n\" style=\"fill:#29af7f;\"/>\n    <path clip-path=\"url(#p174a2d9976)\" d=\"M 37.55625 38.179219 \nL 75.819107 38.179219 \nL 75.819107 65.359219 \nL 37.55625 65.359219 \nL 37.55625 38.179219 \n\" style=\"fill:#f8e621;\"/>\n    <path clip-path=\"url(#p174a2d9976)\" d=\"M 75.819107 38.179219 \nL 114.081964 38.179219 \nL 114.081964 65.359219 \nL 75.819107 65.359219 \nL 75.819107 38.179219 \n\" style=\"fill:#a5db36;\"/>\n    <path clip-path=\"url(#p174a2d9976)\" d=\"M 114.081964 38.179219 \nL 152.344821 38.179219 \nL 152.344821 65.359219 \nL 114.081964 65.359219 \nL 114.081964 38.179219 \n\" style=\"fill:#f1e51d;\"/>\n    <path clip-path=\"url(#p174a2d9976)\" d=\"M 152.344821 38.179219 \nL 190.607679 38.179219 \nL 190.607679 65.359219 \nL 152.344821 65.359219 \nL 152.344821 38.179219 \n\" style=\"fill:#e7e419;\"/>\n    <path clip-path=\"url(#p174a2d9976)\" d=\"M 190.607679 38.179219 \nL 228.870536 38.179219 \nL 228.870536 65.359219 \nL 190.607679 65.359219 \nL 190.607679 38.179219 \n\" style=\"fill:#440154;\"/>\n    <path clip-path=\"url(#p174a2d9976)\" d=\"M 228.870536 38.179219 \nL 267.133393 38.179219 \nL 267.133393 65.359219 \nL 228.870536 65.359219 \nL 228.870536 38.179219 \n\" style=\"fill:#fde725;\"/>\n    <path clip-path=\"url(#p174a2d9976)\" d=\"M 267.133393 38.179219 \nL 305.39625 38.179219 \nL 305.39625 65.359219 \nL 267.133393 65.359219 \nL 267.133393 38.179219 \n\" style=\"fill:#77d153;\"/>\n    <path clip-path=\"url(#p174a2d9976)\" d=\"M 37.55625 65.359219 \nL 75.819107 65.359219 \nL 75.819107 92.539219 \nL 37.55625 92.539219 \nL 37.55625 65.359219 \n\" style=\"fill:#5ec962;\"/>\n    <path clip-path=\"url(#p174a2d9976)\" d=\"M 75.819107 65.359219 \nL 114.081964 65.359219 \nL 114.081964 92.539219 \nL 75.819107 92.539219 \nL 75.819107 65.359219 \n\" style=\"fill:#1f978b;\"/>\n    <path clip-path=\"url(#p174a2d9976)\" d=\"M 114.081964 65.359219 \nL 152.344821 65.359219 \nL 152.344821 92.539219 \nL 114.081964 92.539219 \nL 114.081964 65.359219 \n\" style=\"fill:#2a778e;\"/>\n    <path clip-path=\"url(#p174a2d9976)\" d=\"M 152.344821 65.359219 \nL 190.607679 65.359219 \nL 190.607679 92.539219 \nL 152.344821 92.539219 \nL 152.344821 65.359219 \n\" style=\"fill:#440154;\"/>\n    <path clip-path=\"url(#p174a2d9976)\" d=\"M 190.607679 65.359219 \nL 228.870536 65.359219 \nL 228.870536 92.539219 \nL 190.607679 92.539219 \nL 190.607679 65.359219 \n\" style=\"fill:#375b8d;\"/>\n    <path clip-path=\"url(#p174a2d9976)\" d=\"M 228.870536 65.359219 \nL 267.133393 65.359219 \nL 267.133393 92.539219 \nL 228.870536 92.539219 \nL 228.870536 65.359219 \n\" style=\"fill:#a0da39;\"/>\n    <path clip-path=\"url(#p174a2d9976)\" d=\"M 267.133393 65.359219 \nL 305.39625 65.359219 \nL 305.39625 92.539219 \nL 267.133393 92.539219 \nL 267.133393 65.359219 \n\" style=\"fill:#fde725;\"/>\n    <path clip-path=\"url(#p174a2d9976)\" d=\"M 37.55625 92.539219 \nL 75.819107 92.539219 \nL 75.819107 119.719219 \nL 37.55625 119.719219 \nL 37.55625 92.539219 \n\" style=\"fill:#453781;\"/>\n    <path clip-path=\"url(#p174a2d9976)\" d=\"M 75.819107 92.539219 \nL 114.081964 92.539219 \nL 114.081964 119.719219 \nL 75.819107 119.719219 \nL 75.819107 92.539219 \n\" style=\"fill:#fde725;\"/>\n    <path clip-path=\"url(#p174a2d9976)\" d=\"M 114.081964 92.539219 \nL 152.344821 92.539219 \nL 152.344821 119.719219 \nL 114.081964 119.719219 \nL 114.081964 92.539219 \n\" style=\"fill:#9dd93b;\"/>\n    <path clip-path=\"url(#p174a2d9976)\" d=\"M 152.344821 92.539219 \nL 190.607679 92.539219 \nL 190.607679 119.719219 \nL 152.344821 119.719219 \nL 152.344821 92.539219 \n\" style=\"fill:#fde725;\"/>\n    <path clip-path=\"url(#p174a2d9976)\" d=\"M 190.607679 92.539219 \nL 228.870536 92.539219 \nL 228.870536 119.719219 \nL 190.607679 119.719219 \nL 190.607679 92.539219 \n\" style=\"fill:#21a585;\"/>\n    <path clip-path=\"url(#p174a2d9976)\" d=\"M 228.870536 92.539219 \nL 267.133393 92.539219 \nL 267.133393 119.719219 \nL 228.870536 119.719219 \nL 228.870536 92.539219 \n\" style=\"fill:#3bbb75;\"/>\n    <path clip-path=\"url(#p174a2d9976)\" d=\"M 267.133393 92.539219 \nL 305.39625 92.539219 \nL 305.39625 119.719219 \nL 267.133393 119.719219 \nL 267.133393 92.539219 \n\" style=\"fill:#c5e021;\"/>\n    <path clip-path=\"url(#p174a2d9976)\" d=\"M 37.55625 119.719219 \nL 75.819107 119.719219 \nL 75.819107 146.899219 \nL 37.55625 146.899219 \nL 37.55625 119.719219 \n\" style=\"fill:#5ac864;\"/>\n    <path clip-path=\"url(#p174a2d9976)\" d=\"M 75.819107 119.719219 \nL 114.081964 119.719219 \nL 114.081964 146.899219 \nL 75.819107 146.899219 \nL 75.819107 119.719219 \n\" style=\"fill:#355f8d;\"/>\n    <path clip-path=\"url(#p174a2d9976)\" d=\"M 114.081964 119.719219 \nL 152.344821 119.719219 \nL 152.344821 146.899219 \nL 114.081964 146.899219 \nL 114.081964 119.719219 \n\" style=\"fill:#b0dd2f;\"/>\n    <path clip-path=\"url(#p174a2d9976)\" d=\"M 152.344821 119.719219 \nL 190.607679 119.719219 \nL 190.607679 146.899219 \nL 152.344821 146.899219 \nL 152.344821 119.719219 \n\" style=\"fill:#95d840;\"/>\n    <path clip-path=\"url(#p174a2d9976)\" d=\"M 190.607679 119.719219 \nL 228.870536 119.719219 \nL 228.870536 146.899219 \nL 190.607679 146.899219 \nL 190.607679 119.719219 \n\" style=\"fill:#81d34d;\"/>\n    <path clip-path=\"url(#p174a2d9976)\" d=\"M 228.870536 119.719219 \nL 267.133393 119.719219 \nL 267.133393 146.899219 \nL 228.870536 146.899219 \nL 228.870536 119.719219 \n\" style=\"fill:#2a788e;\"/>\n    <path clip-path=\"url(#p174a2d9976)\" d=\"M 267.133393 119.719219 \nL 305.39625 119.719219 \nL 305.39625 146.899219 \nL 267.133393 146.899219 \nL 267.133393 119.719219 \n\" style=\"fill:#23898e;\"/>\n    <path clip-path=\"url(#p174a2d9976)\" d=\"M 37.55625 146.899219 \nL 75.819107 146.899219 \nL 75.819107 174.079219 \nL 37.55625 174.079219 \nL 37.55625 146.899219 \n\" style=\"fill:#fde725;\"/>\n    <path clip-path=\"url(#p174a2d9976)\" d=\"M 75.819107 146.899219 \nL 114.081964 146.899219 \nL 114.081964 174.079219 \nL 75.819107 174.079219 \nL 75.819107 146.899219 \n\" style=\"fill:#440256;\"/>\n    <path clip-path=\"url(#p174a2d9976)\" d=\"M 114.081964 146.899219 \nL 152.344821 146.899219 \nL 152.344821 174.079219 \nL 114.081964 174.079219 \nL 114.081964 146.899219 \n\" style=\"fill:#fde725;\"/>\n    <path clip-path=\"url(#p174a2d9976)\" d=\"M 152.344821 146.899219 \nL 190.607679 146.899219 \nL 190.607679 174.079219 \nL 152.344821 174.079219 \nL 152.344821 146.899219 \n\" style=\"fill:#50c46a;\"/>\n    <path clip-path=\"url(#p174a2d9976)\" d=\"M 190.607679 146.899219 \nL 228.870536 146.899219 \nL 228.870536 174.079219 \nL 190.607679 174.079219 \nL 190.607679 146.899219 \n\" style=\"fill:#20928c;\"/>\n    <path clip-path=\"url(#p174a2d9976)\" d=\"M 228.870536 146.899219 \nL 267.133393 146.899219 \nL 267.133393 174.079219 \nL 228.870536 174.079219 \nL 228.870536 146.899219 \n\" style=\"fill:#440154;\"/>\n    <path clip-path=\"url(#p174a2d9976)\" d=\"M 267.133393 146.899219 \nL 305.39625 146.899219 \nL 305.39625 174.079219 \nL 267.133393 174.079219 \nL 267.133393 146.899219 \n\" style=\"fill:#b0dd2f;\"/>\n    <path clip-path=\"url(#p174a2d9976)\" d=\"M 37.55625 174.079219 \nL 75.819107 174.079219 \nL 75.819107 201.259219 \nL 37.55625 201.259219 \nL 37.55625 174.079219 \n\" style=\"fill:#35b779;\"/>\n    <path clip-path=\"url(#p174a2d9976)\" d=\"M 75.819107 174.079219 \nL 114.081964 174.079219 \nL 114.081964 201.259219 \nL 75.819107 201.259219 \nL 75.819107 174.079219 \n\" style=\"fill:#2ab07f;\"/>\n    <path clip-path=\"url(#p174a2d9976)\" d=\"M 114.081964 174.079219 \nL 152.344821 174.079219 \nL 152.344821 201.259219 \nL 114.081964 201.259219 \nL 114.081964 174.079219 \n\" style=\"fill:#22a785;\"/>\n    <path clip-path=\"url(#p174a2d9976)\" d=\"M 152.344821 174.079219 \nL 190.607679 174.079219 \nL 190.607679 201.259219 \nL 152.344821 201.259219 \nL 152.344821 174.079219 \n\" style=\"fill:#1f948c;\"/>\n    <path clip-path=\"url(#p174a2d9976)\" d=\"M 190.607679 174.079219 \nL 228.870536 174.079219 \nL 228.870536 201.259219 \nL 190.607679 201.259219 \nL 190.607679 174.079219 \n\" style=\"fill:#29798e;\"/>\n    <path clip-path=\"url(#p174a2d9976)\" d=\"M 228.870536 174.079219 \nL 267.133393 174.079219 \nL 267.133393 201.259219 \nL 228.870536 201.259219 \nL 228.870536 174.079219 \n\" style=\"fill:#2eb37c;\"/>\n    <path clip-path=\"url(#p174a2d9976)\" d=\"M 267.133393 174.079219 \nL 305.39625 174.079219 \nL 305.39625 201.259219 \nL 267.133393 201.259219 \nL 267.133393 174.079219 \n\" style=\"fill:#fde725;\"/>\n    <path clip-path=\"url(#p174a2d9976)\" d=\"M 37.55625 201.259219 \nL 75.819107 201.259219 \nL 75.819107 228.439219 \nL 37.55625 228.439219 \nL 37.55625 201.259219 \n\" style=\"fill:#472d7b;\"/>\n    <path clip-path=\"url(#p174a2d9976)\" d=\"M 75.819107 201.259219 \nL 114.081964 201.259219 \nL 114.081964 228.439219 \nL 75.819107 228.439219 \nL 75.819107 201.259219 \n\" style=\"fill:#fde725;\"/>\n    <path clip-path=\"url(#p174a2d9976)\" d=\"M 114.081964 201.259219 \nL 152.344821 201.259219 \nL 152.344821 228.439219 \nL 114.081964 228.439219 \nL 114.081964 201.259219 \n\" style=\"fill:#b0dd2f;\"/>\n    <path clip-path=\"url(#p174a2d9976)\" d=\"M 152.344821 201.259219 \nL 190.607679 201.259219 \nL 190.607679 228.439219 \nL 152.344821 228.439219 \nL 152.344821 201.259219 \n\" style=\"fill:#fde725;\"/>\n    <path clip-path=\"url(#p174a2d9976)\" d=\"M 190.607679 201.259219 \nL 228.870536 201.259219 \nL 228.870536 228.439219 \nL 190.607679 228.439219 \nL 190.607679 201.259219 \n\" style=\"fill:#fde725;\"/>\n    <path clip-path=\"url(#p174a2d9976)\" d=\"M 228.870536 201.259219 \nL 267.133393 201.259219 \nL 267.133393 228.439219 \nL 228.870536 228.439219 \nL 228.870536 201.259219 \n\" style=\"fill:#86d549;\"/>\n    <path clip-path=\"url(#p174a2d9976)\" d=\"M 267.133393 201.259219 \nL 305.39625 201.259219 \nL 305.39625 228.439219 \nL 267.133393 228.439219 \nL 267.133393 201.259219 \n\" style=\"fill:#470e61;\"/>\n   </g>\n   <g id=\"matplotlib.axis_1\">\n    <g id=\"xtick_1\">\n     <g id=\"line2d_1\">\n      <defs>\n       <path d=\"M 0 0 \nL 0 3.5 \n\" id=\"m1ba45f3c1e\" style=\"stroke:#000000;stroke-width:0.8;\"/>\n      </defs>\n      <g>\n       <use style=\"stroke:#000000;stroke-width:0.8;\" x=\"56.687679\" xlink:href=\"#m1ba45f3c1e\" y=\"228.439219\"/>\n      </g>\n     </g>\n     <g id=\"text_1\">\n      <!-- A1_2 Aggr Expected Annual Damage -->\n      <defs>\n       <path d=\"M 34.1875 63.1875 \nL 20.796875 26.90625 \nL 47.609375 26.90625 \nz\nM 28.609375 72.90625 \nL 39.796875 72.90625 \nL 67.578125 0 \nL 57.328125 0 \nL 50.6875 18.703125 \nL 17.828125 18.703125 \nL 11.1875 0 \nL 0.78125 0 \nz\n\" id=\"DejaVuSans-65\"/>\n       <path d=\"M 12.40625 8.296875 \nL 28.515625 8.296875 \nL 28.515625 63.921875 \nL 10.984375 60.40625 \nL 10.984375 69.390625 \nL 28.421875 72.90625 \nL 38.28125 72.90625 \nL 38.28125 8.296875 \nL 54.390625 8.296875 \nL 54.390625 0 \nL 12.40625 0 \nz\n\" id=\"DejaVuSans-49\"/>\n       <path d=\"M 50.984375 -16.609375 \nL 50.984375 -23.578125 \nL -0.984375 -23.578125 \nL -0.984375 -16.609375 \nz\n\" id=\"DejaVuSans-95\"/>\n       <path d=\"M 19.1875 8.296875 \nL 53.609375 8.296875 \nL 53.609375 0 \nL 7.328125 0 \nL 7.328125 8.296875 \nQ 12.9375 14.109375 22.625 23.890625 \nQ 32.328125 33.6875 34.8125 36.53125 \nQ 39.546875 41.84375 41.421875 45.53125 \nQ 43.3125 49.21875 43.3125 52.78125 \nQ 43.3125 58.59375 39.234375 62.25 \nQ 35.15625 65.921875 28.609375 65.921875 \nQ 23.96875 65.921875 18.8125 64.3125 \nQ 13.671875 62.703125 7.8125 59.421875 \nL 7.8125 69.390625 \nQ 13.765625 71.78125 18.9375 73 \nQ 24.125 74.21875 28.421875 74.21875 \nQ 39.75 74.21875 46.484375 68.546875 \nQ 53.21875 62.890625 53.21875 53.421875 \nQ 53.21875 48.921875 51.53125 44.890625 \nQ 49.859375 40.875 45.40625 35.40625 \nQ 44.1875 33.984375 37.640625 27.21875 \nQ 31.109375 20.453125 19.1875 8.296875 \nz\n\" id=\"DejaVuSans-50\"/>\n       <path id=\"DejaVuSans-32\"/>\n       <path d=\"M 45.40625 27.984375 \nQ 45.40625 37.75 41.375 43.109375 \nQ 37.359375 48.484375 30.078125 48.484375 \nQ 22.859375 48.484375 18.828125 43.109375 \nQ 14.796875 37.75 14.796875 27.984375 \nQ 14.796875 18.265625 18.828125 12.890625 \nQ 22.859375 7.515625 30.078125 7.515625 \nQ 37.359375 7.515625 41.375 12.890625 \nQ 45.40625 18.265625 45.40625 27.984375 \nz\nM 54.390625 6.78125 \nQ 54.390625 -7.171875 48.1875 -13.984375 \nQ 42 -20.796875 29.203125 -20.796875 \nQ 24.46875 -20.796875 20.265625 -20.09375 \nQ 16.0625 -19.390625 12.109375 -17.921875 \nL 12.109375 -9.1875 \nQ 16.0625 -11.328125 19.921875 -12.34375 \nQ 23.78125 -13.375 27.78125 -13.375 \nQ 36.625 -13.375 41.015625 -8.765625 \nQ 45.40625 -4.15625 45.40625 5.171875 \nL 45.40625 9.625 \nQ 42.625 4.78125 38.28125 2.390625 \nQ 33.9375 0 27.875 0 \nQ 17.828125 0 11.671875 7.65625 \nQ 5.515625 15.328125 5.515625 27.984375 \nQ 5.515625 40.671875 11.671875 48.328125 \nQ 17.828125 56 27.875 56 \nQ 33.9375 56 38.28125 53.609375 \nQ 42.625 51.21875 45.40625 46.390625 \nL 45.40625 54.6875 \nL 54.390625 54.6875 \nz\n\" id=\"DejaVuSans-103\"/>\n       <path d=\"M 41.109375 46.296875 \nQ 39.59375 47.171875 37.8125 47.578125 \nQ 36.03125 48 33.890625 48 \nQ 26.265625 48 22.1875 43.046875 \nQ 18.109375 38.09375 18.109375 28.8125 \nL 18.109375 0 \nL 9.078125 0 \nL 9.078125 54.6875 \nL 18.109375 54.6875 \nL 18.109375 46.1875 \nQ 20.953125 51.171875 25.484375 53.578125 \nQ 30.03125 56 36.53125 56 \nQ 37.453125 56 38.578125 55.875 \nQ 39.703125 55.765625 41.0625 55.515625 \nz\n\" id=\"DejaVuSans-114\"/>\n       <path d=\"M 9.8125 72.90625 \nL 55.90625 72.90625 \nL 55.90625 64.59375 \nL 19.671875 64.59375 \nL 19.671875 43.015625 \nL 54.390625 43.015625 \nL 54.390625 34.71875 \nL 19.671875 34.71875 \nL 19.671875 8.296875 \nL 56.78125 8.296875 \nL 56.78125 0 \nL 9.8125 0 \nz\n\" id=\"DejaVuSans-69\"/>\n       <path d=\"M 54.890625 54.6875 \nL 35.109375 28.078125 \nL 55.90625 0 \nL 45.3125 0 \nL 29.390625 21.484375 \nL 13.484375 0 \nL 2.875 0 \nL 24.125 28.609375 \nL 4.6875 54.6875 \nL 15.28125 54.6875 \nL 29.78125 35.203125 \nL 44.28125 54.6875 \nz\n\" id=\"DejaVuSans-120\"/>\n       <path d=\"M 18.109375 8.203125 \nL 18.109375 -20.796875 \nL 9.078125 -20.796875 \nL 9.078125 54.6875 \nL 18.109375 54.6875 \nL 18.109375 46.390625 \nQ 20.953125 51.265625 25.265625 53.625 \nQ 29.59375 56 35.59375 56 \nQ 45.5625 56 51.78125 48.09375 \nQ 58.015625 40.1875 58.015625 27.296875 \nQ 58.015625 14.40625 51.78125 6.484375 \nQ 45.5625 -1.421875 35.59375 -1.421875 \nQ 29.59375 -1.421875 25.265625 0.953125 \nQ 20.953125 3.328125 18.109375 8.203125 \nz\nM 48.6875 27.296875 \nQ 48.6875 37.203125 44.609375 42.84375 \nQ 40.53125 48.484375 33.40625 48.484375 \nQ 26.265625 48.484375 22.1875 42.84375 \nQ 18.109375 37.203125 18.109375 27.296875 \nQ 18.109375 17.390625 22.1875 11.75 \nQ 26.265625 6.109375 33.40625 6.109375 \nQ 40.53125 6.109375 44.609375 11.75 \nQ 48.6875 17.390625 48.6875 27.296875 \nz\n\" id=\"DejaVuSans-112\"/>\n       <path d=\"M 56.203125 29.59375 \nL 56.203125 25.203125 \nL 14.890625 25.203125 \nQ 15.484375 15.921875 20.484375 11.0625 \nQ 25.484375 6.203125 34.421875 6.203125 \nQ 39.59375 6.203125 44.453125 7.46875 \nQ 49.3125 8.734375 54.109375 11.28125 \nL 54.109375 2.78125 \nQ 49.265625 0.734375 44.1875 -0.34375 \nQ 39.109375 -1.421875 33.890625 -1.421875 \nQ 20.796875 -1.421875 13.15625 6.1875 \nQ 5.515625 13.8125 5.515625 26.8125 \nQ 5.515625 40.234375 12.765625 48.109375 \nQ 20.015625 56 32.328125 56 \nQ 43.359375 56 49.78125 48.890625 \nQ 56.203125 41.796875 56.203125 29.59375 \nz\nM 47.21875 32.234375 \nQ 47.125 39.59375 43.09375 43.984375 \nQ 39.0625 48.390625 32.421875 48.390625 \nQ 24.90625 48.390625 20.390625 44.140625 \nQ 15.875 39.890625 15.1875 32.171875 \nz\n\" id=\"DejaVuSans-101\"/>\n       <path d=\"M 48.78125 52.59375 \nL 48.78125 44.1875 \nQ 44.96875 46.296875 41.140625 47.34375 \nQ 37.3125 48.390625 33.40625 48.390625 \nQ 24.65625 48.390625 19.8125 42.84375 \nQ 14.984375 37.3125 14.984375 27.296875 \nQ 14.984375 17.28125 19.8125 11.734375 \nQ 24.65625 6.203125 33.40625 6.203125 \nQ 37.3125 6.203125 41.140625 7.25 \nQ 44.96875 8.296875 48.78125 10.40625 \nL 48.78125 2.09375 \nQ 45.015625 0.34375 40.984375 -0.53125 \nQ 36.96875 -1.421875 32.421875 -1.421875 \nQ 20.0625 -1.421875 12.78125 6.34375 \nQ 5.515625 14.109375 5.515625 27.296875 \nQ 5.515625 40.671875 12.859375 48.328125 \nQ 20.21875 56 33.015625 56 \nQ 37.15625 56 41.109375 55.140625 \nQ 45.0625 54.296875 48.78125 52.59375 \nz\n\" id=\"DejaVuSans-99\"/>\n       <path d=\"M 18.3125 70.21875 \nL 18.3125 54.6875 \nL 36.8125 54.6875 \nL 36.8125 47.703125 \nL 18.3125 47.703125 \nL 18.3125 18.015625 \nQ 18.3125 11.328125 20.140625 9.421875 \nQ 21.96875 7.515625 27.59375 7.515625 \nL 36.8125 7.515625 \nL 36.8125 0 \nL 27.59375 0 \nQ 17.1875 0 13.234375 3.875 \nQ 9.28125 7.765625 9.28125 18.015625 \nL 9.28125 47.703125 \nL 2.6875 47.703125 \nL 2.6875 54.6875 \nL 9.28125 54.6875 \nL 9.28125 70.21875 \nz\n\" id=\"DejaVuSans-116\"/>\n       <path d=\"M 45.40625 46.390625 \nL 45.40625 75.984375 \nL 54.390625 75.984375 \nL 54.390625 0 \nL 45.40625 0 \nL 45.40625 8.203125 \nQ 42.578125 3.328125 38.25 0.953125 \nQ 33.9375 -1.421875 27.875 -1.421875 \nQ 17.96875 -1.421875 11.734375 6.484375 \nQ 5.515625 14.40625 5.515625 27.296875 \nQ 5.515625 40.1875 11.734375 48.09375 \nQ 17.96875 56 27.875 56 \nQ 33.9375 56 38.25 53.625 \nQ 42.578125 51.265625 45.40625 46.390625 \nz\nM 14.796875 27.296875 \nQ 14.796875 17.390625 18.875 11.75 \nQ 22.953125 6.109375 30.078125 6.109375 \nQ 37.203125 6.109375 41.296875 11.75 \nQ 45.40625 17.390625 45.40625 27.296875 \nQ 45.40625 37.203125 41.296875 42.84375 \nQ 37.203125 48.484375 30.078125 48.484375 \nQ 22.953125 48.484375 18.875 42.84375 \nQ 14.796875 37.203125 14.796875 27.296875 \nz\n\" id=\"DejaVuSans-100\"/>\n       <path d=\"M 54.890625 33.015625 \nL 54.890625 0 \nL 45.90625 0 \nL 45.90625 32.71875 \nQ 45.90625 40.484375 42.875 44.328125 \nQ 39.84375 48.1875 33.796875 48.1875 \nQ 26.515625 48.1875 22.3125 43.546875 \nQ 18.109375 38.921875 18.109375 30.90625 \nL 18.109375 0 \nL 9.078125 0 \nL 9.078125 54.6875 \nL 18.109375 54.6875 \nL 18.109375 46.1875 \nQ 21.34375 51.125 25.703125 53.5625 \nQ 30.078125 56 35.796875 56 \nQ 45.21875 56 50.046875 50.171875 \nQ 54.890625 44.34375 54.890625 33.015625 \nz\n\" id=\"DejaVuSans-110\"/>\n       <path d=\"M 8.5 21.578125 \nL 8.5 54.6875 \nL 17.484375 54.6875 \nL 17.484375 21.921875 \nQ 17.484375 14.15625 20.5 10.265625 \nQ 23.53125 6.390625 29.59375 6.390625 \nQ 36.859375 6.390625 41.078125 11.03125 \nQ 45.3125 15.671875 45.3125 23.6875 \nL 45.3125 54.6875 \nL 54.296875 54.6875 \nL 54.296875 0 \nL 45.3125 0 \nL 45.3125 8.40625 \nQ 42.046875 3.421875 37.71875 1 \nQ 33.40625 -1.421875 27.6875 -1.421875 \nQ 18.265625 -1.421875 13.375 4.4375 \nQ 8.5 10.296875 8.5 21.578125 \nz\nM 31.109375 56 \nz\n\" id=\"DejaVuSans-117\"/>\n       <path d=\"M 34.28125 27.484375 \nQ 23.390625 27.484375 19.1875 25 \nQ 14.984375 22.515625 14.984375 16.5 \nQ 14.984375 11.71875 18.140625 8.90625 \nQ 21.296875 6.109375 26.703125 6.109375 \nQ 34.1875 6.109375 38.703125 11.40625 \nQ 43.21875 16.703125 43.21875 25.484375 \nL 43.21875 27.484375 \nz\nM 52.203125 31.203125 \nL 52.203125 0 \nL 43.21875 0 \nL 43.21875 8.296875 \nQ 40.140625 3.328125 35.546875 0.953125 \nQ 30.953125 -1.421875 24.3125 -1.421875 \nQ 15.921875 -1.421875 10.953125 3.296875 \nQ 6 8.015625 6 15.921875 \nQ 6 25.140625 12.171875 29.828125 \nQ 18.359375 34.515625 30.609375 34.515625 \nL 43.21875 34.515625 \nL 43.21875 35.40625 \nQ 43.21875 41.609375 39.140625 45 \nQ 35.0625 48.390625 27.6875 48.390625 \nQ 23 48.390625 18.546875 47.265625 \nQ 14.109375 46.140625 10.015625 43.890625 \nL 10.015625 52.203125 \nQ 14.9375 54.109375 19.578125 55.046875 \nQ 24.21875 56 28.609375 56 \nQ 40.484375 56 46.34375 49.84375 \nQ 52.203125 43.703125 52.203125 31.203125 \nz\n\" id=\"DejaVuSans-97\"/>\n       <path d=\"M 9.421875 75.984375 \nL 18.40625 75.984375 \nL 18.40625 0 \nL 9.421875 0 \nz\n\" id=\"DejaVuSans-108\"/>\n       <path d=\"M 19.671875 64.796875 \nL 19.671875 8.109375 \nL 31.59375 8.109375 \nQ 46.6875 8.109375 53.6875 14.9375 \nQ 60.6875 21.78125 60.6875 36.53125 \nQ 60.6875 51.171875 53.6875 57.984375 \nQ 46.6875 64.796875 31.59375 64.796875 \nz\nM 9.8125 72.90625 \nL 30.078125 72.90625 \nQ 51.265625 72.90625 61.171875 64.09375 \nQ 71.09375 55.28125 71.09375 36.53125 \nQ 71.09375 17.671875 61.125 8.828125 \nQ 51.171875 0 30.078125 0 \nL 9.8125 0 \nz\n\" id=\"DejaVuSans-68\"/>\n       <path d=\"M 52 44.1875 \nQ 55.375 50.25 60.0625 53.125 \nQ 64.75 56 71.09375 56 \nQ 79.640625 56 84.28125 50.015625 \nQ 88.921875 44.046875 88.921875 33.015625 \nL 88.921875 0 \nL 79.890625 0 \nL 79.890625 32.71875 \nQ 79.890625 40.578125 77.09375 44.375 \nQ 74.3125 48.1875 68.609375 48.1875 \nQ 61.625 48.1875 57.5625 43.546875 \nQ 53.515625 38.921875 53.515625 30.90625 \nL 53.515625 0 \nL 44.484375 0 \nL 44.484375 32.71875 \nQ 44.484375 40.625 41.703125 44.40625 \nQ 38.921875 48.1875 33.109375 48.1875 \nQ 26.21875 48.1875 22.15625 43.53125 \nQ 18.109375 38.875 18.109375 30.90625 \nL 18.109375 0 \nL 9.078125 0 \nL 9.078125 54.6875 \nL 18.109375 54.6875 \nL 18.109375 46.1875 \nQ 21.1875 51.21875 25.484375 53.609375 \nQ 29.78125 56 35.6875 56 \nQ 41.65625 56 45.828125 52.96875 \nQ 50 49.953125 52 44.1875 \nz\n\" id=\"DejaVuSans-109\"/>\n      </defs>\n      <g transform=\"translate(59.307991 419.982969)rotate(-90)scale(0.1 -0.1)\">\n       <use xlink:href=\"#DejaVuSans-65\"/>\n       <use x=\"68.408203\" xlink:href=\"#DejaVuSans-49\"/>\n       <use x=\"132.03125\" xlink:href=\"#DejaVuSans-95\"/>\n       <use x=\"182.03125\" xlink:href=\"#DejaVuSans-50\"/>\n       <use x=\"245.654297\" xlink:href=\"#DejaVuSans-32\"/>\n       <use x=\"277.441406\" xlink:href=\"#DejaVuSans-65\"/>\n       <use x=\"345.849609\" xlink:href=\"#DejaVuSans-103\"/>\n       <use x=\"409.326172\" xlink:href=\"#DejaVuSans-103\"/>\n       <use x=\"472.802734\" xlink:href=\"#DejaVuSans-114\"/>\n       <use x=\"513.916016\" xlink:href=\"#DejaVuSans-32\"/>\n       <use x=\"545.703125\" xlink:href=\"#DejaVuSans-69\"/>\n       <use x=\"608.886719\" xlink:href=\"#DejaVuSans-120\"/>\n       <use x=\"668.066406\" xlink:href=\"#DejaVuSans-112\"/>\n       <use x=\"731.542969\" xlink:href=\"#DejaVuSans-101\"/>\n       <use x=\"793.066406\" xlink:href=\"#DejaVuSans-99\"/>\n       <use x=\"848.046875\" xlink:href=\"#DejaVuSans-116\"/>\n       <use x=\"887.255859\" xlink:href=\"#DejaVuSans-101\"/>\n       <use x=\"948.779297\" xlink:href=\"#DejaVuSans-100\"/>\n       <use x=\"1012.255859\" xlink:href=\"#DejaVuSans-32\"/>\n       <use x=\"1044.042969\" xlink:href=\"#DejaVuSans-65\"/>\n       <use x=\"1112.451172\" xlink:href=\"#DejaVuSans-110\"/>\n       <use x=\"1175.830078\" xlink:href=\"#DejaVuSans-110\"/>\n       <use x=\"1239.208984\" xlink:href=\"#DejaVuSans-117\"/>\n       <use x=\"1302.587891\" xlink:href=\"#DejaVuSans-97\"/>\n       <use x=\"1363.867188\" xlink:href=\"#DejaVuSans-108\"/>\n       <use x=\"1391.650391\" xlink:href=\"#DejaVuSans-32\"/>\n       <use x=\"1423.4375\" xlink:href=\"#DejaVuSans-68\"/>\n       <use x=\"1500.439453\" xlink:href=\"#DejaVuSans-97\"/>\n       <use x=\"1561.71875\" xlink:href=\"#DejaVuSans-109\"/>\n       <use x=\"1659.130859\" xlink:href=\"#DejaVuSans-97\"/>\n       <use x=\"1720.410156\" xlink:href=\"#DejaVuSans-103\"/>\n       <use x=\"1783.886719\" xlink:href=\"#DejaVuSans-101\"/>\n      </g>\n     </g>\n    </g>\n    <g id=\"xtick_2\">\n     <g id=\"line2d_2\">\n      <g>\n       <use style=\"stroke:#000000;stroke-width:0.8;\" x=\"94.950536\" xlink:href=\"#m1ba45f3c1e\" y=\"228.439219\"/>\n      </g>\n     </g>\n     <g id=\"text_2\">\n      <!-- A3 Expected Annual Damage -->\n      <defs>\n       <path d=\"M 40.578125 39.3125 \nQ 47.65625 37.796875 51.625 33 \nQ 55.609375 28.21875 55.609375 21.1875 \nQ 55.609375 10.40625 48.1875 4.484375 \nQ 40.765625 -1.421875 27.09375 -1.421875 \nQ 22.515625 -1.421875 17.65625 -0.515625 \nQ 12.796875 0.390625 7.625 2.203125 \nL 7.625 11.71875 \nQ 11.71875 9.328125 16.59375 8.109375 \nQ 21.484375 6.890625 26.8125 6.890625 \nQ 36.078125 6.890625 40.9375 10.546875 \nQ 45.796875 14.203125 45.796875 21.1875 \nQ 45.796875 27.640625 41.28125 31.265625 \nQ 36.765625 34.90625 28.71875 34.90625 \nL 20.21875 34.90625 \nL 20.21875 43.015625 \nL 29.109375 43.015625 \nQ 36.375 43.015625 40.234375 45.921875 \nQ 44.09375 48.828125 44.09375 54.296875 \nQ 44.09375 59.90625 40.109375 62.90625 \nQ 36.140625 65.921875 28.71875 65.921875 \nQ 24.65625 65.921875 20.015625 65.03125 \nQ 15.375 64.15625 9.8125 62.3125 \nL 9.8125 71.09375 \nQ 15.4375 72.65625 20.34375 73.4375 \nQ 25.25 74.21875 29.59375 74.21875 \nQ 40.828125 74.21875 47.359375 69.109375 \nQ 53.90625 64.015625 53.90625 55.328125 \nQ 53.90625 49.265625 50.4375 45.09375 \nQ 46.96875 40.921875 40.578125 39.3125 \nz\n\" id=\"DejaVuSans-51\"/>\n      </defs>\n      <g transform=\"translate(97.709911 381.793906)rotate(-90)scale(0.1 -0.1)\">\n       <use xlink:href=\"#DejaVuSans-65\"/>\n       <use x=\"68.408203\" xlink:href=\"#DejaVuSans-51\"/>\n       <use x=\"132.03125\" xlink:href=\"#DejaVuSans-32\"/>\n       <use x=\"163.818359\" xlink:href=\"#DejaVuSans-69\"/>\n       <use x=\"227.001953\" xlink:href=\"#DejaVuSans-120\"/>\n       <use x=\"286.181641\" xlink:href=\"#DejaVuSans-112\"/>\n       <use x=\"349.658203\" xlink:href=\"#DejaVuSans-101\"/>\n       <use x=\"411.181641\" xlink:href=\"#DejaVuSans-99\"/>\n       <use x=\"466.162109\" xlink:href=\"#DejaVuSans-116\"/>\n       <use x=\"505.371094\" xlink:href=\"#DejaVuSans-101\"/>\n       <use x=\"566.894531\" xlink:href=\"#DejaVuSans-100\"/>\n       <use x=\"630.371094\" xlink:href=\"#DejaVuSans-32\"/>\n       <use x=\"662.158203\" xlink:href=\"#DejaVuSans-65\"/>\n       <use x=\"730.566406\" xlink:href=\"#DejaVuSans-110\"/>\n       <use x=\"793.945312\" xlink:href=\"#DejaVuSans-110\"/>\n       <use x=\"857.324219\" xlink:href=\"#DejaVuSans-117\"/>\n       <use x=\"920.703125\" xlink:href=\"#DejaVuSans-97\"/>\n       <use x=\"981.982422\" xlink:href=\"#DejaVuSans-108\"/>\n       <use x=\"1009.765625\" xlink:href=\"#DejaVuSans-32\"/>\n       <use x=\"1041.552734\" xlink:href=\"#DejaVuSans-68\"/>\n       <use x=\"1118.554688\" xlink:href=\"#DejaVuSans-97\"/>\n       <use x=\"1179.833984\" xlink:href=\"#DejaVuSans-109\"/>\n       <use x=\"1277.246094\" xlink:href=\"#DejaVuSans-97\"/>\n       <use x=\"1338.525391\" xlink:href=\"#DejaVuSans-103\"/>\n       <use x=\"1402.001953\" xlink:href=\"#DejaVuSans-101\"/>\n      </g>\n     </g>\n    </g>\n    <g id=\"xtick_3\">\n     <g id=\"line2d_3\">\n      <g>\n       <use style=\"stroke:#000000;stroke-width:0.8;\" x=\"133.213393\" xlink:href=\"#m1ba45f3c1e\" y=\"228.439219\"/>\n      </g>\n     </g>\n     <g id=\"text_3\">\n      <!-- A1_2 Aggr Expected Number of Deaths -->\n      <defs>\n       <path d=\"M 9.8125 72.90625 \nL 23.09375 72.90625 \nL 55.421875 11.921875 \nL 55.421875 72.90625 \nL 64.984375 72.90625 \nL 64.984375 0 \nL 51.703125 0 \nL 19.390625 60.984375 \nL 19.390625 0 \nL 9.8125 0 \nz\n\" id=\"DejaVuSans-78\"/>\n       <path d=\"M 48.6875 27.296875 \nQ 48.6875 37.203125 44.609375 42.84375 \nQ 40.53125 48.484375 33.40625 48.484375 \nQ 26.265625 48.484375 22.1875 42.84375 \nQ 18.109375 37.203125 18.109375 27.296875 \nQ 18.109375 17.390625 22.1875 11.75 \nQ 26.265625 6.109375 33.40625 6.109375 \nQ 40.53125 6.109375 44.609375 11.75 \nQ 48.6875 17.390625 48.6875 27.296875 \nz\nM 18.109375 46.390625 \nQ 20.953125 51.265625 25.265625 53.625 \nQ 29.59375 56 35.59375 56 \nQ 45.5625 56 51.78125 48.09375 \nQ 58.015625 40.1875 58.015625 27.296875 \nQ 58.015625 14.40625 51.78125 6.484375 \nQ 45.5625 -1.421875 35.59375 -1.421875 \nQ 29.59375 -1.421875 25.265625 0.953125 \nQ 20.953125 3.328125 18.109375 8.203125 \nL 18.109375 0 \nL 9.078125 0 \nL 9.078125 75.984375 \nL 18.109375 75.984375 \nz\n\" id=\"DejaVuSans-98\"/>\n       <path d=\"M 30.609375 48.390625 \nQ 23.390625 48.390625 19.1875 42.75 \nQ 14.984375 37.109375 14.984375 27.296875 \nQ 14.984375 17.484375 19.15625 11.84375 \nQ 23.34375 6.203125 30.609375 6.203125 \nQ 37.796875 6.203125 41.984375 11.859375 \nQ 46.1875 17.53125 46.1875 27.296875 \nQ 46.1875 37.015625 41.984375 42.703125 \nQ 37.796875 48.390625 30.609375 48.390625 \nz\nM 30.609375 56 \nQ 42.328125 56 49.015625 48.375 \nQ 55.71875 40.765625 55.71875 27.296875 \nQ 55.71875 13.875 49.015625 6.21875 \nQ 42.328125 -1.421875 30.609375 -1.421875 \nQ 18.84375 -1.421875 12.171875 6.21875 \nQ 5.515625 13.875 5.515625 27.296875 \nQ 5.515625 40.765625 12.171875 48.375 \nQ 18.84375 56 30.609375 56 \nz\n\" id=\"DejaVuSans-111\"/>\n       <path d=\"M 37.109375 75.984375 \nL 37.109375 68.5 \nL 28.515625 68.5 \nQ 23.6875 68.5 21.796875 66.546875 \nQ 19.921875 64.59375 19.921875 59.515625 \nL 19.921875 54.6875 \nL 34.71875 54.6875 \nL 34.71875 47.703125 \nL 19.921875 47.703125 \nL 19.921875 0 \nL 10.890625 0 \nL 10.890625 47.703125 \nL 2.296875 47.703125 \nL 2.296875 54.6875 \nL 10.890625 54.6875 \nL 10.890625 58.5 \nQ 10.890625 67.625 15.140625 71.796875 \nQ 19.390625 75.984375 28.609375 75.984375 \nz\n\" id=\"DejaVuSans-102\"/>\n       <path d=\"M 54.890625 33.015625 \nL 54.890625 0 \nL 45.90625 0 \nL 45.90625 32.71875 \nQ 45.90625 40.484375 42.875 44.328125 \nQ 39.84375 48.1875 33.796875 48.1875 \nQ 26.515625 48.1875 22.3125 43.546875 \nQ 18.109375 38.921875 18.109375 30.90625 \nL 18.109375 0 \nL 9.078125 0 \nL 9.078125 75.984375 \nL 18.109375 75.984375 \nL 18.109375 46.1875 \nQ 21.34375 51.125 25.703125 53.5625 \nQ 30.078125 56 35.796875 56 \nQ 45.21875 56 50.046875 50.171875 \nQ 54.890625 44.34375 54.890625 33.015625 \nz\n\" id=\"DejaVuSans-104\"/>\n       <path d=\"M 44.28125 53.078125 \nL 44.28125 44.578125 \nQ 40.484375 46.53125 36.375 47.5 \nQ 32.28125 48.484375 27.875 48.484375 \nQ 21.1875 48.484375 17.84375 46.4375 \nQ 14.5 44.390625 14.5 40.28125 \nQ 14.5 37.15625 16.890625 35.375 \nQ 19.28125 33.59375 26.515625 31.984375 \nL 29.59375 31.296875 \nQ 39.15625 29.25 43.1875 25.515625 \nQ 47.21875 21.78125 47.21875 15.09375 \nQ 47.21875 7.46875 41.1875 3.015625 \nQ 35.15625 -1.421875 24.609375 -1.421875 \nQ 20.21875 -1.421875 15.453125 -0.5625 \nQ 10.6875 0.296875 5.421875 2 \nL 5.421875 11.28125 \nQ 10.40625 8.6875 15.234375 7.390625 \nQ 20.0625 6.109375 24.8125 6.109375 \nQ 31.15625 6.109375 34.5625 8.28125 \nQ 37.984375 10.453125 37.984375 14.40625 \nQ 37.984375 18.0625 35.515625 20.015625 \nQ 33.0625 21.96875 24.703125 23.78125 \nL 21.578125 24.515625 \nQ 13.234375 26.265625 9.515625 29.90625 \nQ 5.8125 33.546875 5.8125 39.890625 \nQ 5.8125 47.609375 11.28125 51.796875 \nQ 16.75 56 26.8125 56 \nQ 31.78125 56 36.171875 55.265625 \nQ 40.578125 54.546875 44.28125 53.078125 \nz\n\" id=\"DejaVuSans-115\"/>\n      </defs>\n      <g transform=\"translate(135.833705 431.462656)rotate(-90)scale(0.1 -0.1)\">\n       <use xlink:href=\"#DejaVuSans-65\"/>\n       <use x=\"68.408203\" xlink:href=\"#DejaVuSans-49\"/>\n       <use x=\"132.03125\" xlink:href=\"#DejaVuSans-95\"/>\n       <use x=\"182.03125\" xlink:href=\"#DejaVuSans-50\"/>\n       <use x=\"245.654297\" xlink:href=\"#DejaVuSans-32\"/>\n       <use x=\"277.441406\" xlink:href=\"#DejaVuSans-65\"/>\n       <use x=\"345.849609\" xlink:href=\"#DejaVuSans-103\"/>\n       <use x=\"409.326172\" xlink:href=\"#DejaVuSans-103\"/>\n       <use x=\"472.802734\" xlink:href=\"#DejaVuSans-114\"/>\n       <use x=\"513.916016\" xlink:href=\"#DejaVuSans-32\"/>\n       <use x=\"545.703125\" xlink:href=\"#DejaVuSans-69\"/>\n       <use x=\"608.886719\" xlink:href=\"#DejaVuSans-120\"/>\n       <use x=\"668.066406\" xlink:href=\"#DejaVuSans-112\"/>\n       <use x=\"731.542969\" xlink:href=\"#DejaVuSans-101\"/>\n       <use x=\"793.066406\" xlink:href=\"#DejaVuSans-99\"/>\n       <use x=\"848.046875\" xlink:href=\"#DejaVuSans-116\"/>\n       <use x=\"887.255859\" xlink:href=\"#DejaVuSans-101\"/>\n       <use x=\"948.779297\" xlink:href=\"#DejaVuSans-100\"/>\n       <use x=\"1012.255859\" xlink:href=\"#DejaVuSans-32\"/>\n       <use x=\"1044.042969\" xlink:href=\"#DejaVuSans-78\"/>\n       <use x=\"1118.847656\" xlink:href=\"#DejaVuSans-117\"/>\n       <use x=\"1182.226562\" xlink:href=\"#DejaVuSans-109\"/>\n       <use x=\"1279.638672\" xlink:href=\"#DejaVuSans-98\"/>\n       <use x=\"1343.115234\" xlink:href=\"#DejaVuSans-101\"/>\n       <use x=\"1404.638672\" xlink:href=\"#DejaVuSans-114\"/>\n       <use x=\"1445.751953\" xlink:href=\"#DejaVuSans-32\"/>\n       <use x=\"1477.539062\" xlink:href=\"#DejaVuSans-111\"/>\n       <use x=\"1538.720703\" xlink:href=\"#DejaVuSans-102\"/>\n       <use x=\"1573.925781\" xlink:href=\"#DejaVuSans-32\"/>\n       <use x=\"1605.712891\" xlink:href=\"#DejaVuSans-68\"/>\n       <use x=\"1682.714844\" xlink:href=\"#DejaVuSans-101\"/>\n       <use x=\"1744.238281\" xlink:href=\"#DejaVuSans-97\"/>\n       <use x=\"1805.517578\" xlink:href=\"#DejaVuSans-116\"/>\n       <use x=\"1844.726562\" xlink:href=\"#DejaVuSans-104\"/>\n       <use x=\"1908.105469\" xlink:href=\"#DejaVuSans-115\"/>\n      </g>\n     </g>\n    </g>\n    <g id=\"xtick_4\">\n     <g id=\"line2d_4\">\n      <g>\n       <use style=\"stroke:#000000;stroke-width:0.8;\" x=\"171.47625\" xlink:href=\"#m1ba45f3c1e\" y=\"228.439219\"/>\n      </g>\n     </g>\n     <g id=\"text_4\">\n      <!-- A3 Aggr Expected Number of Deaths -->\n      <g transform=\"translate(174.235625 420.100156)rotate(-90)scale(0.1 -0.1)\">\n       <use xlink:href=\"#DejaVuSans-65\"/>\n       <use x=\"68.408203\" xlink:href=\"#DejaVuSans-51\"/>\n       <use x=\"132.03125\" xlink:href=\"#DejaVuSans-32\"/>\n       <use x=\"163.818359\" xlink:href=\"#DejaVuSans-65\"/>\n       <use x=\"232.226562\" xlink:href=\"#DejaVuSans-103\"/>\n       <use x=\"295.703125\" xlink:href=\"#DejaVuSans-103\"/>\n       <use x=\"359.179688\" xlink:href=\"#DejaVuSans-114\"/>\n       <use x=\"400.292969\" xlink:href=\"#DejaVuSans-32\"/>\n       <use x=\"432.080078\" xlink:href=\"#DejaVuSans-69\"/>\n       <use x=\"495.263672\" xlink:href=\"#DejaVuSans-120\"/>\n       <use x=\"554.443359\" xlink:href=\"#DejaVuSans-112\"/>\n       <use x=\"617.919922\" xlink:href=\"#DejaVuSans-101\"/>\n       <use x=\"679.443359\" xlink:href=\"#DejaVuSans-99\"/>\n       <use x=\"734.423828\" xlink:href=\"#DejaVuSans-116\"/>\n       <use x=\"773.632812\" xlink:href=\"#DejaVuSans-101\"/>\n       <use x=\"835.15625\" xlink:href=\"#DejaVuSans-100\"/>\n       <use x=\"898.632812\" xlink:href=\"#DejaVuSans-32\"/>\n       <use x=\"930.419922\" xlink:href=\"#DejaVuSans-78\"/>\n       <use x=\"1005.224609\" xlink:href=\"#DejaVuSans-117\"/>\n       <use x=\"1068.603516\" xlink:href=\"#DejaVuSans-109\"/>\n       <use x=\"1166.015625\" xlink:href=\"#DejaVuSans-98\"/>\n       <use x=\"1229.492188\" xlink:href=\"#DejaVuSans-101\"/>\n       <use x=\"1291.015625\" xlink:href=\"#DejaVuSans-114\"/>\n       <use x=\"1332.128906\" xlink:href=\"#DejaVuSans-32\"/>\n       <use x=\"1363.916016\" xlink:href=\"#DejaVuSans-111\"/>\n       <use x=\"1425.097656\" xlink:href=\"#DejaVuSans-102\"/>\n       <use x=\"1460.302734\" xlink:href=\"#DejaVuSans-32\"/>\n       <use x=\"1492.089844\" xlink:href=\"#DejaVuSans-68\"/>\n       <use x=\"1569.091797\" xlink:href=\"#DejaVuSans-101\"/>\n       <use x=\"1630.615234\" xlink:href=\"#DejaVuSans-97\"/>\n       <use x=\"1691.894531\" xlink:href=\"#DejaVuSans-116\"/>\n       <use x=\"1731.103516\" xlink:href=\"#DejaVuSans-104\"/>\n       <use x=\"1794.482422\" xlink:href=\"#DejaVuSans-115\"/>\n      </g>\n     </g>\n    </g>\n    <g id=\"xtick_5\">\n     <g id=\"line2d_5\">\n      <g>\n       <use style=\"stroke:#000000;stroke-width:0.8;\" x=\"209.739107\" xlink:href=\"#m1ba45f3c1e\" y=\"228.439219\"/>\n      </g>\n     </g>\n     <g id=\"text_5\">\n      <!-- A1_5 Dike Investment Costs -->\n      <defs>\n       <path d=\"M 10.796875 72.90625 \nL 49.515625 72.90625 \nL 49.515625 64.59375 \nL 19.828125 64.59375 \nL 19.828125 46.734375 \nQ 21.96875 47.46875 24.109375 47.828125 \nQ 26.265625 48.1875 28.421875 48.1875 \nQ 40.625 48.1875 47.75 41.5 \nQ 54.890625 34.8125 54.890625 23.390625 \nQ 54.890625 11.625 47.5625 5.09375 \nQ 40.234375 -1.421875 26.90625 -1.421875 \nQ 22.3125 -1.421875 17.546875 -0.640625 \nQ 12.796875 0.140625 7.71875 1.703125 \nL 7.71875 11.625 \nQ 12.109375 9.234375 16.796875 8.0625 \nQ 21.484375 6.890625 26.703125 6.890625 \nQ 35.15625 6.890625 40.078125 11.328125 \nQ 45.015625 15.765625 45.015625 23.390625 \nQ 45.015625 31 40.078125 35.4375 \nQ 35.15625 39.890625 26.703125 39.890625 \nQ 22.75 39.890625 18.8125 39.015625 \nQ 14.890625 38.140625 10.796875 36.28125 \nz\n\" id=\"DejaVuSans-53\"/>\n       <path d=\"M 9.421875 54.6875 \nL 18.40625 54.6875 \nL 18.40625 0 \nL 9.421875 0 \nz\nM 9.421875 75.984375 \nL 18.40625 75.984375 \nL 18.40625 64.59375 \nL 9.421875 64.59375 \nz\n\" id=\"DejaVuSans-105\"/>\n       <path d=\"M 9.078125 75.984375 \nL 18.109375 75.984375 \nL 18.109375 31.109375 \nL 44.921875 54.6875 \nL 56.390625 54.6875 \nL 27.390625 29.109375 \nL 57.625 0 \nL 45.90625 0 \nL 18.109375 26.703125 \nL 18.109375 0 \nL 9.078125 0 \nz\n\" id=\"DejaVuSans-107\"/>\n       <path d=\"M 9.8125 72.90625 \nL 19.671875 72.90625 \nL 19.671875 0 \nL 9.8125 0 \nz\n\" id=\"DejaVuSans-73\"/>\n       <path d=\"M 2.984375 54.6875 \nL 12.5 54.6875 \nL 29.59375 8.796875 \nL 46.6875 54.6875 \nL 56.203125 54.6875 \nL 35.6875 0 \nL 23.484375 0 \nz\n\" id=\"DejaVuSans-118\"/>\n       <path d=\"M 64.40625 67.28125 \nL 64.40625 56.890625 \nQ 59.421875 61.53125 53.78125 63.8125 \nQ 48.140625 66.109375 41.796875 66.109375 \nQ 29.296875 66.109375 22.65625 58.46875 \nQ 16.015625 50.828125 16.015625 36.375 \nQ 16.015625 21.96875 22.65625 14.328125 \nQ 29.296875 6.6875 41.796875 6.6875 \nQ 48.140625 6.6875 53.78125 8.984375 \nQ 59.421875 11.28125 64.40625 15.921875 \nL 64.40625 5.609375 \nQ 59.234375 2.09375 53.4375 0.328125 \nQ 47.65625 -1.421875 41.21875 -1.421875 \nQ 24.65625 -1.421875 15.125 8.703125 \nQ 5.609375 18.84375 5.609375 36.375 \nQ 5.609375 53.953125 15.125 64.078125 \nQ 24.65625 74.21875 41.21875 74.21875 \nQ 47.75 74.21875 53.53125 72.484375 \nQ 59.328125 70.75 64.40625 67.28125 \nz\n\" id=\"DejaVuSans-67\"/>\n      </defs>\n      <g transform=\"translate(212.35942 376.037656)rotate(-90)scale(0.1 -0.1)\">\n       <use xlink:href=\"#DejaVuSans-65\"/>\n       <use x=\"68.408203\" xlink:href=\"#DejaVuSans-49\"/>\n       <use x=\"132.03125\" xlink:href=\"#DejaVuSans-95\"/>\n       <use x=\"182.03125\" xlink:href=\"#DejaVuSans-53\"/>\n       <use x=\"245.654297\" xlink:href=\"#DejaVuSans-32\"/>\n       <use x=\"277.441406\" xlink:href=\"#DejaVuSans-68\"/>\n       <use x=\"354.443359\" xlink:href=\"#DejaVuSans-105\"/>\n       <use x=\"382.226562\" xlink:href=\"#DejaVuSans-107\"/>\n       <use x=\"440.089844\" xlink:href=\"#DejaVuSans-101\"/>\n       <use x=\"501.613281\" xlink:href=\"#DejaVuSans-32\"/>\n       <use x=\"533.400391\" xlink:href=\"#DejaVuSans-73\"/>\n       <use x=\"562.892578\" xlink:href=\"#DejaVuSans-110\"/>\n       <use x=\"626.271484\" xlink:href=\"#DejaVuSans-118\"/>\n       <use x=\"685.451172\" xlink:href=\"#DejaVuSans-101\"/>\n       <use x=\"746.974609\" xlink:href=\"#DejaVuSans-115\"/>\n       <use x=\"799.074219\" xlink:href=\"#DejaVuSans-116\"/>\n       <use x=\"838.283203\" xlink:href=\"#DejaVuSans-109\"/>\n       <use x=\"935.695312\" xlink:href=\"#DejaVuSans-101\"/>\n       <use x=\"997.21875\" xlink:href=\"#DejaVuSans-110\"/>\n       <use x=\"1060.597656\" xlink:href=\"#DejaVuSans-116\"/>\n       <use x=\"1099.806641\" xlink:href=\"#DejaVuSans-32\"/>\n       <use x=\"1131.59375\" xlink:href=\"#DejaVuSans-67\"/>\n       <use x=\"1201.417969\" xlink:href=\"#DejaVuSans-111\"/>\n       <use x=\"1262.599609\" xlink:href=\"#DejaVuSans-115\"/>\n       <use x=\"1314.699219\" xlink:href=\"#DejaVuSans-116\"/>\n       <use x=\"1353.908203\" xlink:href=\"#DejaVuSans-115\"/>\n      </g>\n     </g>\n    </g>\n    <g id=\"xtick_6\">\n     <g id=\"line2d_6\">\n      <g>\n       <use style=\"stroke:#000000;stroke-width:0.8;\" x=\"248.001964\" xlink:href=\"#m1ba45f3c1e\" y=\"228.439219\"/>\n      </g>\n     </g>\n     <g id=\"text_6\">\n      <!-- Room for River Investment Costs -->\n      <defs>\n       <path d=\"M 44.390625 34.1875 \nQ 47.5625 33.109375 50.5625 29.59375 \nQ 53.5625 26.078125 56.59375 19.921875 \nL 66.609375 0 \nL 56 0 \nL 46.6875 18.703125 \nQ 43.0625 26.03125 39.671875 28.421875 \nQ 36.28125 30.8125 30.421875 30.8125 \nL 19.671875 30.8125 \nL 19.671875 0 \nL 9.8125 0 \nL 9.8125 72.90625 \nL 32.078125 72.90625 \nQ 44.578125 72.90625 50.734375 67.671875 \nQ 56.890625 62.453125 56.890625 51.90625 \nQ 56.890625 45.015625 53.6875 40.46875 \nQ 50.484375 35.9375 44.390625 34.1875 \nz\nM 19.671875 64.796875 \nL 19.671875 38.921875 \nL 32.078125 38.921875 \nQ 39.203125 38.921875 42.84375 42.21875 \nQ 46.484375 45.515625 46.484375 51.90625 \nQ 46.484375 58.296875 42.84375 61.546875 \nQ 39.203125 64.796875 32.078125 64.796875 \nz\n\" id=\"DejaVuSans-82\"/>\n      </defs>\n      <g transform=\"translate(250.761339 400.812656)rotate(-90)scale(0.1 -0.1)\">\n       <use xlink:href=\"#DejaVuSans-82\"/>\n       <use x=\"69.419922\" xlink:href=\"#DejaVuSans-111\"/>\n       <use x=\"130.601562\" xlink:href=\"#DejaVuSans-111\"/>\n       <use x=\"191.783203\" xlink:href=\"#DejaVuSans-109\"/>\n       <use x=\"289.195312\" xlink:href=\"#DejaVuSans-32\"/>\n       <use x=\"320.982422\" xlink:href=\"#DejaVuSans-102\"/>\n       <use x=\"356.1875\" xlink:href=\"#DejaVuSans-111\"/>\n       <use x=\"417.369141\" xlink:href=\"#DejaVuSans-114\"/>\n       <use x=\"458.482422\" xlink:href=\"#DejaVuSans-32\"/>\n       <use x=\"490.269531\" xlink:href=\"#DejaVuSans-82\"/>\n       <use x=\"559.751953\" xlink:href=\"#DejaVuSans-105\"/>\n       <use x=\"587.535156\" xlink:href=\"#DejaVuSans-118\"/>\n       <use x=\"646.714844\" xlink:href=\"#DejaVuSans-101\"/>\n       <use x=\"708.238281\" xlink:href=\"#DejaVuSans-114\"/>\n       <use x=\"749.351562\" xlink:href=\"#DejaVuSans-32\"/>\n       <use x=\"781.138672\" xlink:href=\"#DejaVuSans-73\"/>\n       <use x=\"810.630859\" xlink:href=\"#DejaVuSans-110\"/>\n       <use x=\"874.009766\" xlink:href=\"#DejaVuSans-118\"/>\n       <use x=\"933.189453\" xlink:href=\"#DejaVuSans-101\"/>\n       <use x=\"994.712891\" xlink:href=\"#DejaVuSans-115\"/>\n       <use x=\"1046.8125\" xlink:href=\"#DejaVuSans-116\"/>\n       <use x=\"1086.021484\" xlink:href=\"#DejaVuSans-109\"/>\n       <use x=\"1183.433594\" xlink:href=\"#DejaVuSans-101\"/>\n       <use x=\"1244.957031\" xlink:href=\"#DejaVuSans-110\"/>\n       <use x=\"1308.335938\" xlink:href=\"#DejaVuSans-116\"/>\n       <use x=\"1347.544922\" xlink:href=\"#DejaVuSans-32\"/>\n       <use x=\"1379.332031\" xlink:href=\"#DejaVuSans-67\"/>\n       <use x=\"1449.15625\" xlink:href=\"#DejaVuSans-111\"/>\n       <use x=\"1510.337891\" xlink:href=\"#DejaVuSans-115\"/>\n       <use x=\"1562.4375\" xlink:href=\"#DejaVuSans-116\"/>\n       <use x=\"1601.646484\" xlink:href=\"#DejaVuSans-115\"/>\n      </g>\n     </g>\n    </g>\n    <g id=\"xtick_7\">\n     <g id=\"line2d_7\">\n      <g>\n       <use style=\"stroke:#000000;stroke-width:0.8;\" x=\"286.264821\" xlink:href=\"#m1ba45f3c1e\" y=\"228.439219\"/>\n      </g>\n     </g>\n     <g id=\"text_7\">\n      <!-- Evacuation Costs -->\n      <g transform=\"translate(289.024196 321.542344)rotate(-90)scale(0.1 -0.1)\">\n       <use xlink:href=\"#DejaVuSans-69\"/>\n       <use x=\"63.183594\" xlink:href=\"#DejaVuSans-118\"/>\n       <use x=\"122.363281\" xlink:href=\"#DejaVuSans-97\"/>\n       <use x=\"183.642578\" xlink:href=\"#DejaVuSans-99\"/>\n       <use x=\"238.623047\" xlink:href=\"#DejaVuSans-117\"/>\n       <use x=\"302.001953\" xlink:href=\"#DejaVuSans-97\"/>\n       <use x=\"363.28125\" xlink:href=\"#DejaVuSans-116\"/>\n       <use x=\"402.490234\" xlink:href=\"#DejaVuSans-105\"/>\n       <use x=\"430.273438\" xlink:href=\"#DejaVuSans-111\"/>\n       <use x=\"491.455078\" xlink:href=\"#DejaVuSans-110\"/>\n       <use x=\"554.833984\" xlink:href=\"#DejaVuSans-32\"/>\n       <use x=\"586.621094\" xlink:href=\"#DejaVuSans-67\"/>\n       <use x=\"656.445312\" xlink:href=\"#DejaVuSans-111\"/>\n       <use x=\"717.626953\" xlink:href=\"#DejaVuSans-115\"/>\n       <use x=\"769.726562\" xlink:href=\"#DejaVuSans-116\"/>\n       <use x=\"808.935547\" xlink:href=\"#DejaVuSans-115\"/>\n      </g>\n     </g>\n    </g>\n   </g>\n   <g id=\"matplotlib.axis_2\">\n    <g id=\"ytick_1\">\n     <g id=\"line2d_8\">\n      <defs>\n       <path d=\"M 0 0 \nL -3.5 0 \n\" id=\"m5032dbd342\" style=\"stroke:#000000;stroke-width:0.8;\"/>\n      </defs>\n      <g>\n       <use style=\"stroke:#000000;stroke-width:0.8;\" x=\"37.55625\" xlink:href=\"#m5032dbd342\" y=\"24.589219\"/>\n      </g>\n     </g>\n     <g id=\"text_8\">\n      <!-- 204 -->\n      <defs>\n       <path d=\"M 31.78125 66.40625 \nQ 24.171875 66.40625 20.328125 58.90625 \nQ 16.5 51.421875 16.5 36.375 \nQ 16.5 21.390625 20.328125 13.890625 \nQ 24.171875 6.390625 31.78125 6.390625 \nQ 39.453125 6.390625 43.28125 13.890625 \nQ 47.125 21.390625 47.125 36.375 \nQ 47.125 51.421875 43.28125 58.90625 \nQ 39.453125 66.40625 31.78125 66.40625 \nz\nM 31.78125 74.21875 \nQ 44.046875 74.21875 50.515625 64.515625 \nQ 56.984375 54.828125 56.984375 36.375 \nQ 56.984375 17.96875 50.515625 8.265625 \nQ 44.046875 -1.421875 31.78125 -1.421875 \nQ 19.53125 -1.421875 13.0625 8.265625 \nQ 6.59375 17.96875 6.59375 36.375 \nQ 6.59375 54.828125 13.0625 64.515625 \nQ 19.53125 74.21875 31.78125 74.21875 \nz\n\" id=\"DejaVuSans-48\"/>\n       <path d=\"M 37.796875 64.3125 \nL 12.890625 25.390625 \nL 37.796875 25.390625 \nz\nM 35.203125 72.90625 \nL 47.609375 72.90625 \nL 47.609375 25.390625 \nL 58.015625 25.390625 \nL 58.015625 17.1875 \nL 47.609375 17.1875 \nL 47.609375 0 \nL 37.796875 0 \nL 37.796875 17.1875 \nL 4.890625 17.1875 \nL 4.890625 26.703125 \nz\n\" id=\"DejaVuSans-52\"/>\n      </defs>\n      <g transform=\"translate(28.476563 39.8775)rotate(-90)scale(0.1 -0.1)\">\n       <use xlink:href=\"#DejaVuSans-50\"/>\n       <use x=\"63.623047\" xlink:href=\"#DejaVuSans-48\"/>\n       <use x=\"127.246094\" xlink:href=\"#DejaVuSans-52\"/>\n      </g>\n     </g>\n    </g>\n    <g id=\"ytick_2\">\n     <g id=\"line2d_9\">\n      <g>\n       <use style=\"stroke:#000000;stroke-width:0.8;\" x=\"37.55625\" xlink:href=\"#m5032dbd342\" y=\"51.769219\"/>\n      </g>\n     </g>\n     <g id=\"text_9\">\n      <!-- 233 -->\n      <g transform=\"translate(28.476563 67.0575)rotate(-90)scale(0.1 -0.1)\">\n       <use xlink:href=\"#DejaVuSans-50\"/>\n       <use x=\"63.623047\" xlink:href=\"#DejaVuSans-51\"/>\n       <use x=\"127.246094\" xlink:href=\"#DejaVuSans-51\"/>\n      </g>\n     </g>\n    </g>\n    <g id=\"ytick_3\">\n     <g id=\"line2d_10\">\n      <g>\n       <use style=\"stroke:#000000;stroke-width:0.8;\" x=\"37.55625\" xlink:href=\"#m5032dbd342\" y=\"78.949219\"/>\n      </g>\n     </g>\n     <g id=\"text_10\">\n      <!-- 3 -->\n      <g transform=\"translate(28.476563 81.5125)rotate(-90)scale(0.1 -0.1)\">\n       <use xlink:href=\"#DejaVuSans-51\"/>\n      </g>\n     </g>\n    </g>\n    <g id=\"ytick_4\">\n     <g id=\"line2d_11\">\n      <g>\n       <use style=\"stroke:#000000;stroke-width:0.8;\" x=\"37.55625\" xlink:href=\"#m5032dbd342\" y=\"106.129219\"/>\n      </g>\n     </g>\n     <g id=\"text_11\">\n      <!-- 37 -->\n      <defs>\n       <path d=\"M 8.203125 72.90625 \nL 55.078125 72.90625 \nL 55.078125 68.703125 \nL 28.609375 0 \nL 18.3125 0 \nL 43.21875 64.59375 \nL 8.203125 64.59375 \nz\n\" id=\"DejaVuSans-55\"/>\n      </defs>\n      <g transform=\"translate(28.476563 115.055)rotate(-90)scale(0.1 -0.1)\">\n       <use xlink:href=\"#DejaVuSans-51\"/>\n       <use x=\"63.623047\" xlink:href=\"#DejaVuSans-55\"/>\n      </g>\n     </g>\n    </g>\n    <g id=\"ytick_5\">\n     <g id=\"line2d_12\">\n      <g>\n       <use style=\"stroke:#000000;stroke-width:0.8;\" x=\"37.55625\" xlink:href=\"#m5032dbd342\" y=\"133.309219\"/>\n      </g>\n     </g>\n     <g id=\"text_12\">\n      <!-- 426 -->\n      <defs>\n       <path d=\"M 33.015625 40.375 \nQ 26.375 40.375 22.484375 35.828125 \nQ 18.609375 31.296875 18.609375 23.390625 \nQ 18.609375 15.53125 22.484375 10.953125 \nQ 26.375 6.390625 33.015625 6.390625 \nQ 39.65625 6.390625 43.53125 10.953125 \nQ 47.40625 15.53125 47.40625 23.390625 \nQ 47.40625 31.296875 43.53125 35.828125 \nQ 39.65625 40.375 33.015625 40.375 \nz\nM 52.59375 71.296875 \nL 52.59375 62.3125 \nQ 48.875 64.0625 45.09375 64.984375 \nQ 41.3125 65.921875 37.59375 65.921875 \nQ 27.828125 65.921875 22.671875 59.328125 \nQ 17.53125 52.734375 16.796875 39.40625 \nQ 19.671875 43.65625 24.015625 45.921875 \nQ 28.375 48.1875 33.59375 48.1875 \nQ 44.578125 48.1875 50.953125 41.515625 \nQ 57.328125 34.859375 57.328125 23.390625 \nQ 57.328125 12.15625 50.6875 5.359375 \nQ 44.046875 -1.421875 33.015625 -1.421875 \nQ 20.359375 -1.421875 13.671875 8.265625 \nQ 6.984375 17.96875 6.984375 36.375 \nQ 6.984375 53.65625 15.1875 63.9375 \nQ 23.390625 74.21875 37.203125 74.21875 \nQ 40.921875 74.21875 44.703125 73.484375 \nQ 48.484375 72.75 52.59375 71.296875 \nz\n\" id=\"DejaVuSans-54\"/>\n      </defs>\n      <g transform=\"translate(28.476563 148.5975)rotate(-90)scale(0.1 -0.1)\">\n       <use xlink:href=\"#DejaVuSans-52\"/>\n       <use x=\"63.623047\" xlink:href=\"#DejaVuSans-50\"/>\n       <use x=\"127.246094\" xlink:href=\"#DejaVuSans-54\"/>\n      </g>\n     </g>\n    </g>\n    <g id=\"ytick_6\">\n     <g id=\"line2d_13\">\n      <g>\n       <use style=\"stroke:#000000;stroke-width:0.8;\" x=\"37.55625\" xlink:href=\"#m5032dbd342\" y=\"160.489219\"/>\n      </g>\n     </g>\n     <g id=\"text_13\">\n      <!-- 55 -->\n      <g transform=\"translate(28.476563 169.415)rotate(-90)scale(0.1 -0.1)\">\n       <use xlink:href=\"#DejaVuSans-53\"/>\n       <use x=\"63.623047\" xlink:href=\"#DejaVuSans-53\"/>\n      </g>\n     </g>\n    </g>\n    <g id=\"ytick_7\">\n     <g id=\"line2d_14\">\n      <g>\n       <use style=\"stroke:#000000;stroke-width:0.8;\" x=\"37.55625\" xlink:href=\"#m5032dbd342\" y=\"187.669219\"/>\n      </g>\n     </g>\n     <g id=\"text_14\">\n      <!-- 64 -->\n      <g transform=\"translate(28.476563 196.595)rotate(-90)scale(0.1 -0.1)\">\n       <use xlink:href=\"#DejaVuSans-54\"/>\n       <use x=\"63.623047\" xlink:href=\"#DejaVuSans-52\"/>\n      </g>\n     </g>\n    </g>\n    <g id=\"ytick_8\">\n     <g id=\"line2d_15\">\n      <g>\n       <use style=\"stroke:#000000;stroke-width:0.8;\" x=\"37.55625\" xlink:href=\"#m5032dbd342\" y=\"214.849219\"/>\n      </g>\n     </g>\n     <g id=\"text_15\">\n      <!-- 92 -->\n      <defs>\n       <path d=\"M 10.984375 1.515625 \nL 10.984375 10.5 \nQ 14.703125 8.734375 18.5 7.8125 \nQ 22.3125 6.890625 25.984375 6.890625 \nQ 35.75 6.890625 40.890625 13.453125 \nQ 46.046875 20.015625 46.78125 33.40625 \nQ 43.953125 29.203125 39.59375 26.953125 \nQ 35.25 24.703125 29.984375 24.703125 \nQ 19.046875 24.703125 12.671875 31.3125 \nQ 6.296875 37.9375 6.296875 49.421875 \nQ 6.296875 60.640625 12.9375 67.421875 \nQ 19.578125 74.21875 30.609375 74.21875 \nQ 43.265625 74.21875 49.921875 64.515625 \nQ 56.59375 54.828125 56.59375 36.375 \nQ 56.59375 19.140625 48.40625 8.859375 \nQ 40.234375 -1.421875 26.421875 -1.421875 \nQ 22.703125 -1.421875 18.890625 -0.6875 \nQ 15.09375 0.046875 10.984375 1.515625 \nz\nM 30.609375 32.421875 \nQ 37.25 32.421875 41.125 36.953125 \nQ 45.015625 41.5 45.015625 49.421875 \nQ 45.015625 57.28125 41.125 61.84375 \nQ 37.25 66.40625 30.609375 66.40625 \nQ 23.96875 66.40625 20.09375 61.84375 \nQ 16.21875 57.28125 16.21875 49.421875 \nQ 16.21875 41.5 20.09375 36.953125 \nQ 23.96875 32.421875 30.609375 32.421875 \nz\n\" id=\"DejaVuSans-57\"/>\n      </defs>\n      <g transform=\"translate(28.476563 223.775)rotate(-90)scale(0.1 -0.1)\">\n       <use xlink:href=\"#DejaVuSans-57\"/>\n       <use x=\"63.623047\" xlink:href=\"#DejaVuSans-50\"/>\n      </g>\n     </g>\n    </g>\n    <g id=\"text_16\">\n     <!-- policy -->\n     <defs>\n      <path d=\"M 32.171875 -5.078125 \nQ 28.375 -14.84375 24.75 -17.8125 \nQ 21.140625 -20.796875 15.09375 -20.796875 \nL 7.90625 -20.796875 \nL 7.90625 -13.28125 \nL 13.1875 -13.28125 \nQ 16.890625 -13.28125 18.9375 -11.515625 \nQ 21 -9.765625 23.484375 -3.21875 \nL 25.09375 0.875 \nL 2.984375 54.6875 \nL 12.5 54.6875 \nL 29.59375 11.921875 \nL 46.6875 54.6875 \nL 56.203125 54.6875 \nz\n\" id=\"DejaVuSans-121\"/>\n     </defs>\n     <g transform=\"translate(14.798438 134.439531)rotate(-90)scale(0.1 -0.1)\">\n      <use xlink:href=\"#DejaVuSans-112\"/>\n      <use x=\"63.476562\" xlink:href=\"#DejaVuSans-111\"/>\n      <use x=\"124.658203\" xlink:href=\"#DejaVuSans-108\"/>\n      <use x=\"152.441406\" xlink:href=\"#DejaVuSans-105\"/>\n      <use x=\"180.224609\" xlink:href=\"#DejaVuSans-99\"/>\n      <use x=\"235.205078\" xlink:href=\"#DejaVuSans-121\"/>\n     </g>\n    </g>\n   </g>\n   <g id=\"text_17\">\n    <!-- 0.65 -->\n    <defs>\n     <path d=\"M 10.6875 12.40625 \nL 21 12.40625 \nL 21 0 \nL 10.6875 0 \nz\n\" id=\"DejaVuSans-46\"/>\n    </defs>\n    <g style=\"fill:#ffffff;\" transform=\"translate(45.554866 27.348594)scale(0.1 -0.1)\">\n     <use xlink:href=\"#DejaVuSans-48\"/>\n     <use x=\"63.623047\" xlink:href=\"#DejaVuSans-46\"/>\n     <use x=\"95.410156\" xlink:href=\"#DejaVuSans-54\"/>\n     <use x=\"159.033203\" xlink:href=\"#DejaVuSans-53\"/>\n    </g>\n   </g>\n   <g id=\"text_18\">\n    <!-- 1 -->\n    <g style=\"fill:#262626;\" transform=\"translate(91.769286 27.348594)scale(0.1 -0.1)\">\n     <use xlink:href=\"#DejaVuSans-49\"/>\n    </g>\n   </g>\n   <g id=\"text_19\">\n    <!-- 0.88 -->\n    <defs>\n     <path d=\"M 31.78125 34.625 \nQ 24.75 34.625 20.71875 30.859375 \nQ 16.703125 27.09375 16.703125 20.515625 \nQ 16.703125 13.921875 20.71875 10.15625 \nQ 24.75 6.390625 31.78125 6.390625 \nQ 38.8125 6.390625 42.859375 10.171875 \nQ 46.921875 13.96875 46.921875 20.515625 \nQ 46.921875 27.09375 42.890625 30.859375 \nQ 38.875 34.625 31.78125 34.625 \nz\nM 21.921875 38.8125 \nQ 15.578125 40.375 12.03125 44.71875 \nQ 8.5 49.078125 8.5 55.328125 \nQ 8.5 64.0625 14.71875 69.140625 \nQ 20.953125 74.21875 31.78125 74.21875 \nQ 42.671875 74.21875 48.875 69.140625 \nQ 55.078125 64.0625 55.078125 55.328125 \nQ 55.078125 49.078125 51.53125 44.71875 \nQ 48 40.375 41.703125 38.8125 \nQ 48.828125 37.15625 52.796875 32.3125 \nQ 56.78125 27.484375 56.78125 20.515625 \nQ 56.78125 9.90625 50.3125 4.234375 \nQ 43.84375 -1.421875 31.78125 -1.421875 \nQ 19.734375 -1.421875 13.25 4.234375 \nQ 6.78125 9.90625 6.78125 20.515625 \nQ 6.78125 27.484375 10.78125 32.3125 \nQ 14.796875 37.15625 21.921875 38.8125 \nz\nM 18.3125 54.390625 \nQ 18.3125 48.734375 21.84375 45.5625 \nQ 25.390625 42.390625 31.78125 42.390625 \nQ 38.140625 42.390625 41.71875 45.5625 \nQ 45.3125 48.734375 45.3125 54.390625 \nQ 45.3125 60.0625 41.71875 63.234375 \nQ 38.140625 66.40625 31.78125 66.40625 \nQ 25.390625 66.40625 21.84375 63.234375 \nQ 18.3125 60.0625 18.3125 54.390625 \nz\n\" id=\"DejaVuSans-56\"/>\n    </defs>\n    <g style=\"fill:#262626;\" transform=\"translate(122.08058 27.348594)scale(0.1 -0.1)\">\n     <use xlink:href=\"#DejaVuSans-48\"/>\n     <use x=\"63.623047\" xlink:href=\"#DejaVuSans-46\"/>\n     <use x=\"95.410156\" xlink:href=\"#DejaVuSans-56\"/>\n     <use x=\"159.033203\" xlink:href=\"#DejaVuSans-56\"/>\n    </g>\n   </g>\n   <g id=\"text_20\">\n    <!-- 1 -->\n    <g style=\"fill:#262626;\" transform=\"translate(168.295 27.348594)scale(0.1 -0.1)\">\n     <use xlink:href=\"#DejaVuSans-49\"/>\n    </g>\n   </g>\n   <g id=\"text_21\">\n    <!-- 0.58 -->\n    <g style=\"fill:#ffffff;\" transform=\"translate(198.606295 27.348594)scale(0.1 -0.1)\">\n     <use xlink:href=\"#DejaVuSans-48\"/>\n     <use x=\"63.623047\" xlink:href=\"#DejaVuSans-46\"/>\n     <use x=\"95.410156\" xlink:href=\"#DejaVuSans-53\"/>\n     <use x=\"159.033203\" xlink:href=\"#DejaVuSans-56\"/>\n    </g>\n   </g>\n   <g id=\"text_22\">\n    <!-- 0.75 -->\n    <g style=\"fill:#262626;\" transform=\"translate(236.869152 27.348594)scale(0.1 -0.1)\">\n     <use xlink:href=\"#DejaVuSans-48\"/>\n     <use x=\"63.623047\" xlink:href=\"#DejaVuSans-46\"/>\n     <use x=\"95.410156\" xlink:href=\"#DejaVuSans-55\"/>\n     <use x=\"159.033203\" xlink:href=\"#DejaVuSans-53\"/>\n    </g>\n   </g>\n   <g id=\"text_23\">\n    <!-- 0.63 -->\n    <g style=\"fill:#ffffff;\" transform=\"translate(275.132009 27.348594)scale(0.1 -0.1)\">\n     <use xlink:href=\"#DejaVuSans-48\"/>\n     <use x=\"63.623047\" xlink:href=\"#DejaVuSans-46\"/>\n     <use x=\"95.410156\" xlink:href=\"#DejaVuSans-54\"/>\n     <use x=\"159.033203\" xlink:href=\"#DejaVuSans-51\"/>\n    </g>\n   </g>\n   <g id=\"text_24\">\n    <!-- 0.99 -->\n    <g style=\"fill:#262626;\" transform=\"translate(45.554866 54.528594)scale(0.1 -0.1)\">\n     <use xlink:href=\"#DejaVuSans-48\"/>\n     <use x=\"63.623047\" xlink:href=\"#DejaVuSans-46\"/>\n     <use x=\"95.410156\" xlink:href=\"#DejaVuSans-57\"/>\n     <use x=\"159.033203\" xlink:href=\"#DejaVuSans-57\"/>\n    </g>\n   </g>\n   <g id=\"text_25\">\n    <!-- 0.86 -->\n    <g style=\"fill:#262626;\" transform=\"translate(83.817723 54.528594)scale(0.1 -0.1)\">\n     <use xlink:href=\"#DejaVuSans-48\"/>\n     <use x=\"63.623047\" xlink:href=\"#DejaVuSans-46\"/>\n     <use x=\"95.410156\" xlink:href=\"#DejaVuSans-56\"/>\n     <use x=\"159.033203\" xlink:href=\"#DejaVuSans-54\"/>\n    </g>\n   </g>\n   <g id=\"text_26\">\n    <!-- 0.98 -->\n    <g style=\"fill:#262626;\" transform=\"translate(122.08058 54.528594)scale(0.1 -0.1)\">\n     <use xlink:href=\"#DejaVuSans-48\"/>\n     <use x=\"63.623047\" xlink:href=\"#DejaVuSans-46\"/>\n     <use x=\"95.410156\" xlink:href=\"#DejaVuSans-57\"/>\n     <use x=\"159.033203\" xlink:href=\"#DejaVuSans-56\"/>\n    </g>\n   </g>\n   <g id=\"text_27\">\n    <!-- 0.96 -->\n    <g style=\"fill:#262626;\" transform=\"translate(160.343438 54.528594)scale(0.1 -0.1)\">\n     <use xlink:href=\"#DejaVuSans-48\"/>\n     <use x=\"63.623047\" xlink:href=\"#DejaVuSans-46\"/>\n     <use x=\"95.410156\" xlink:href=\"#DejaVuSans-57\"/>\n     <use x=\"159.033203\" xlink:href=\"#DejaVuSans-54\"/>\n    </g>\n   </g>\n   <g id=\"text_28\">\n    <!-- 0 -->\n    <g style=\"fill:#ffffff;\" transform=\"translate(206.557857 54.528594)scale(0.1 -0.1)\">\n     <use xlink:href=\"#DejaVuSans-48\"/>\n    </g>\n   </g>\n   <g id=\"text_29\">\n    <!-- 1 -->\n    <g style=\"fill:#262626;\" transform=\"translate(244.820714 54.528594)scale(0.1 -0.1)\">\n     <use xlink:href=\"#DejaVuSans-49\"/>\n    </g>\n   </g>\n   <g id=\"text_30\">\n    <!-- 0.79 -->\n    <g style=\"fill:#262626;\" transform=\"translate(275.132009 54.528594)scale(0.1 -0.1)\">\n     <use xlink:href=\"#DejaVuSans-48\"/>\n     <use x=\"63.623047\" xlink:href=\"#DejaVuSans-46\"/>\n     <use x=\"95.410156\" xlink:href=\"#DejaVuSans-55\"/>\n     <use x=\"159.033203\" xlink:href=\"#DejaVuSans-57\"/>\n    </g>\n   </g>\n   <g id=\"text_31\">\n    <!-- 0.75 -->\n    <g style=\"fill:#262626;\" transform=\"translate(45.554866 81.708594)scale(0.1 -0.1)\">\n     <use xlink:href=\"#DejaVuSans-48\"/>\n     <use x=\"63.623047\" xlink:href=\"#DejaVuSans-46\"/>\n     <use x=\"95.410156\" xlink:href=\"#DejaVuSans-55\"/>\n     <use x=\"159.033203\" xlink:href=\"#DejaVuSans-53\"/>\n    </g>\n   </g>\n   <g id=\"text_32\">\n    <!-- 0.53 -->\n    <g style=\"fill:#ffffff;\" transform=\"translate(83.817723 81.708594)scale(0.1 -0.1)\">\n     <use xlink:href=\"#DejaVuSans-48\"/>\n     <use x=\"63.623047\" xlink:href=\"#DejaVuSans-46\"/>\n     <use x=\"95.410156\" xlink:href=\"#DejaVuSans-53\"/>\n     <use x=\"159.033203\" xlink:href=\"#DejaVuSans-51\"/>\n    </g>\n   </g>\n   <g id=\"text_33\">\n    <!-- 0.4 -->\n    <g style=\"fill:#ffffff;\" transform=\"translate(125.26183 81.708594)scale(0.1 -0.1)\">\n     <use xlink:href=\"#DejaVuSans-48\"/>\n     <use x=\"63.623047\" xlink:href=\"#DejaVuSans-46\"/>\n     <use x=\"95.410156\" xlink:href=\"#DejaVuSans-52\"/>\n    </g>\n   </g>\n   <g id=\"text_34\">\n    <!-- 0 -->\n    <g style=\"fill:#ffffff;\" transform=\"translate(168.295 81.708594)scale(0.1 -0.1)\">\n     <use xlink:href=\"#DejaVuSans-48\"/>\n    </g>\n   </g>\n   <g id=\"text_35\">\n    <!-- 0.28 -->\n    <g style=\"fill:#ffffff;\" transform=\"translate(198.606295 81.708594)scale(0.1 -0.1)\">\n     <use xlink:href=\"#DejaVuSans-48\"/>\n     <use x=\"63.623047\" xlink:href=\"#DejaVuSans-46\"/>\n     <use x=\"95.410156\" xlink:href=\"#DejaVuSans-50\"/>\n     <use x=\"159.033203\" xlink:href=\"#DejaVuSans-56\"/>\n    </g>\n   </g>\n   <g id=\"text_36\">\n    <!-- 0.86 -->\n    <g style=\"fill:#262626;\" transform=\"translate(236.869152 81.708594)scale(0.1 -0.1)\">\n     <use xlink:href=\"#DejaVuSans-48\"/>\n     <use x=\"63.623047\" xlink:href=\"#DejaVuSans-46\"/>\n     <use x=\"95.410156\" xlink:href=\"#DejaVuSans-56\"/>\n     <use x=\"159.033203\" xlink:href=\"#DejaVuSans-54\"/>\n    </g>\n   </g>\n   <g id=\"text_37\">\n    <!-- 1 -->\n    <g style=\"fill:#262626;\" transform=\"translate(283.083571 81.708594)scale(0.1 -0.1)\">\n     <use xlink:href=\"#DejaVuSans-49\"/>\n    </g>\n   </g>\n   <g id=\"text_38\">\n    <!-- 0.16 -->\n    <g style=\"fill:#ffffff;\" transform=\"translate(45.554866 108.888594)scale(0.1 -0.1)\">\n     <use xlink:href=\"#DejaVuSans-48\"/>\n     <use x=\"63.623047\" xlink:href=\"#DejaVuSans-46\"/>\n     <use x=\"95.410156\" xlink:href=\"#DejaVuSans-49\"/>\n     <use x=\"159.033203\" xlink:href=\"#DejaVuSans-54\"/>\n    </g>\n   </g>\n   <g id=\"text_39\">\n    <!-- 1 -->\n    <g style=\"fill:#262626;\" transform=\"translate(91.769286 108.888594)scale(0.1 -0.1)\">\n     <use xlink:href=\"#DejaVuSans-49\"/>\n    </g>\n   </g>\n   <g id=\"text_40\">\n    <!-- 0.86 -->\n    <g style=\"fill:#262626;\" transform=\"translate(122.08058 108.888594)scale(0.1 -0.1)\">\n     <use xlink:href=\"#DejaVuSans-48\"/>\n     <use x=\"63.623047\" xlink:href=\"#DejaVuSans-46\"/>\n     <use x=\"95.410156\" xlink:href=\"#DejaVuSans-56\"/>\n     <use x=\"159.033203\" xlink:href=\"#DejaVuSans-54\"/>\n    </g>\n   </g>\n   <g id=\"text_41\">\n    <!-- 1 -->\n    <g style=\"fill:#262626;\" transform=\"translate(168.295 108.888594)scale(0.1 -0.1)\">\n     <use xlink:href=\"#DejaVuSans-49\"/>\n    </g>\n   </g>\n   <g id=\"text_42\">\n    <!-- 0.59 -->\n    <g style=\"fill:#ffffff;\" transform=\"translate(198.606295 108.888594)scale(0.1 -0.1)\">\n     <use xlink:href=\"#DejaVuSans-48\"/>\n     <use x=\"63.623047\" xlink:href=\"#DejaVuSans-46\"/>\n     <use x=\"95.410156\" xlink:href=\"#DejaVuSans-53\"/>\n     <use x=\"159.033203\" xlink:href=\"#DejaVuSans-57\"/>\n    </g>\n   </g>\n   <g id=\"text_43\">\n    <!-- 0.68 -->\n    <g style=\"fill:#ffffff;\" transform=\"translate(236.869152 108.888594)scale(0.1 -0.1)\">\n     <use xlink:href=\"#DejaVuSans-48\"/>\n     <use x=\"63.623047\" xlink:href=\"#DejaVuSans-46\"/>\n     <use x=\"95.410156\" xlink:href=\"#DejaVuSans-54\"/>\n     <use x=\"159.033203\" xlink:href=\"#DejaVuSans-56\"/>\n    </g>\n   </g>\n   <g id=\"text_44\">\n    <!-- 0.91 -->\n    <g style=\"fill:#262626;\" transform=\"translate(275.132009 108.888594)scale(0.1 -0.1)\">\n     <use xlink:href=\"#DejaVuSans-48\"/>\n     <use x=\"63.623047\" xlink:href=\"#DejaVuSans-46\"/>\n     <use x=\"95.410156\" xlink:href=\"#DejaVuSans-57\"/>\n     <use x=\"159.033203\" xlink:href=\"#DejaVuSans-49\"/>\n    </g>\n   </g>\n   <g id=\"text_45\">\n    <!-- 0.74 -->\n    <g style=\"fill:#262626;\" transform=\"translate(45.554866 136.068594)scale(0.1 -0.1)\">\n     <use xlink:href=\"#DejaVuSans-48\"/>\n     <use x=\"63.623047\" xlink:href=\"#DejaVuSans-46\"/>\n     <use x=\"95.410156\" xlink:href=\"#DejaVuSans-55\"/>\n     <use x=\"159.033203\" xlink:href=\"#DejaVuSans-52\"/>\n    </g>\n   </g>\n   <g id=\"text_46\">\n    <!-- 0.3 -->\n    <g style=\"fill:#ffffff;\" transform=\"translate(86.998973 136.068594)scale(0.1 -0.1)\">\n     <use xlink:href=\"#DejaVuSans-48\"/>\n     <use x=\"63.623047\" xlink:href=\"#DejaVuSans-46\"/>\n     <use x=\"95.410156\" xlink:href=\"#DejaVuSans-51\"/>\n    </g>\n   </g>\n   <g id=\"text_47\">\n    <!-- 0.88 -->\n    <g style=\"fill:#262626;\" transform=\"translate(122.08058 136.068594)scale(0.1 -0.1)\">\n     <use xlink:href=\"#DejaVuSans-48\"/>\n     <use x=\"63.623047\" xlink:href=\"#DejaVuSans-46\"/>\n     <use x=\"95.410156\" xlink:href=\"#DejaVuSans-56\"/>\n     <use x=\"159.033203\" xlink:href=\"#DejaVuSans-56\"/>\n    </g>\n   </g>\n   <g id=\"text_48\">\n    <!-- 0.84 -->\n    <g style=\"fill:#262626;\" transform=\"translate(160.343438 136.068594)scale(0.1 -0.1)\">\n     <use xlink:href=\"#DejaVuSans-48\"/>\n     <use x=\"63.623047\" xlink:href=\"#DejaVuSans-46\"/>\n     <use x=\"95.410156\" xlink:href=\"#DejaVuSans-56\"/>\n     <use x=\"159.033203\" xlink:href=\"#DejaVuSans-52\"/>\n    </g>\n   </g>\n   <g id=\"text_49\">\n    <!-- 0.81 -->\n    <g style=\"fill:#262626;\" transform=\"translate(198.606295 136.068594)scale(0.1 -0.1)\">\n     <use xlink:href=\"#DejaVuSans-48\"/>\n     <use x=\"63.623047\" xlink:href=\"#DejaVuSans-46\"/>\n     <use x=\"95.410156\" xlink:href=\"#DejaVuSans-56\"/>\n     <use x=\"159.033203\" xlink:href=\"#DejaVuSans-49\"/>\n    </g>\n   </g>\n   <g id=\"text_50\">\n    <!-- 0.4 -->\n    <g style=\"fill:#ffffff;\" transform=\"translate(240.050402 136.068594)scale(0.1 -0.1)\">\n     <use xlink:href=\"#DejaVuSans-48\"/>\n     <use x=\"63.623047\" xlink:href=\"#DejaVuSans-46\"/>\n     <use x=\"95.410156\" xlink:href=\"#DejaVuSans-52\"/>\n    </g>\n   </g>\n   <g id=\"text_51\">\n    <!-- 0.47 -->\n    <g style=\"fill:#ffffff;\" transform=\"translate(275.132009 136.068594)scale(0.1 -0.1)\">\n     <use xlink:href=\"#DejaVuSans-48\"/>\n     <use x=\"63.623047\" xlink:href=\"#DejaVuSans-46\"/>\n     <use x=\"95.410156\" xlink:href=\"#DejaVuSans-52\"/>\n     <use x=\"159.033203\" xlink:href=\"#DejaVuSans-55\"/>\n    </g>\n   </g>\n   <g id=\"text_52\">\n    <!-- 1 -->\n    <g style=\"fill:#262626;\" transform=\"translate(53.506429 163.248594)scale(0.1 -0.1)\">\n     <use xlink:href=\"#DejaVuSans-49\"/>\n    </g>\n   </g>\n   <g id=\"text_53\">\n    <!-- 0.0065 -->\n    <g style=\"fill:#ffffff;\" transform=\"translate(77.455223 163.248594)scale(0.1 -0.1)\">\n     <use xlink:href=\"#DejaVuSans-48\"/>\n     <use x=\"63.623047\" xlink:href=\"#DejaVuSans-46\"/>\n     <use x=\"95.410156\" xlink:href=\"#DejaVuSans-48\"/>\n     <use x=\"159.033203\" xlink:href=\"#DejaVuSans-48\"/>\n     <use x=\"222.65625\" xlink:href=\"#DejaVuSans-54\"/>\n     <use x=\"286.279297\" xlink:href=\"#DejaVuSans-53\"/>\n    </g>\n   </g>\n   <g id=\"text_54\">\n    <!-- 1 -->\n    <g style=\"fill:#262626;\" transform=\"translate(130.032143 163.248594)scale(0.1 -0.1)\">\n     <use xlink:href=\"#DejaVuSans-49\"/>\n    </g>\n   </g>\n   <g id=\"text_55\">\n    <!-- 0.72 -->\n    <g style=\"fill:#262626;\" transform=\"translate(160.343438 163.248594)scale(0.1 -0.1)\">\n     <use xlink:href=\"#DejaVuSans-48\"/>\n     <use x=\"63.623047\" xlink:href=\"#DejaVuSans-46\"/>\n     <use x=\"95.410156\" xlink:href=\"#DejaVuSans-55\"/>\n     <use x=\"159.033203\" xlink:href=\"#DejaVuSans-50\"/>\n    </g>\n   </g>\n   <g id=\"text_56\">\n    <!-- 0.51 -->\n    <g style=\"fill:#ffffff;\" transform=\"translate(198.606295 163.248594)scale(0.1 -0.1)\">\n     <use xlink:href=\"#DejaVuSans-48\"/>\n     <use x=\"63.623047\" xlink:href=\"#DejaVuSans-46\"/>\n     <use x=\"95.410156\" xlink:href=\"#DejaVuSans-53\"/>\n     <use x=\"159.033203\" xlink:href=\"#DejaVuSans-49\"/>\n    </g>\n   </g>\n   <g id=\"text_57\">\n    <!-- 0 -->\n    <g style=\"fill:#ffffff;\" transform=\"translate(244.820714 163.248594)scale(0.1 -0.1)\">\n     <use xlink:href=\"#DejaVuSans-48\"/>\n    </g>\n   </g>\n   <g id=\"text_58\">\n    <!-- 0.88 -->\n    <g style=\"fill:#262626;\" transform=\"translate(275.132009 163.248594)scale(0.1 -0.1)\">\n     <use xlink:href=\"#DejaVuSans-48\"/>\n     <use x=\"63.623047\" xlink:href=\"#DejaVuSans-46\"/>\n     <use x=\"95.410156\" xlink:href=\"#DejaVuSans-56\"/>\n     <use x=\"159.033203\" xlink:href=\"#DejaVuSans-56\"/>\n    </g>\n   </g>\n   <g id=\"text_59\">\n    <!-- 0.67 -->\n    <g style=\"fill:#ffffff;\" transform=\"translate(45.554866 190.428594)scale(0.1 -0.1)\">\n     <use xlink:href=\"#DejaVuSans-48\"/>\n     <use x=\"63.623047\" xlink:href=\"#DejaVuSans-46\"/>\n     <use x=\"95.410156\" xlink:href=\"#DejaVuSans-54\"/>\n     <use x=\"159.033203\" xlink:href=\"#DejaVuSans-55\"/>\n    </g>\n   </g>\n   <g id=\"text_60\">\n    <!-- 0.63 -->\n    <g style=\"fill:#ffffff;\" transform=\"translate(83.817723 190.428594)scale(0.1 -0.1)\">\n     <use xlink:href=\"#DejaVuSans-48\"/>\n     <use x=\"63.623047\" xlink:href=\"#DejaVuSans-46\"/>\n     <use x=\"95.410156\" xlink:href=\"#DejaVuSans-54\"/>\n     <use x=\"159.033203\" xlink:href=\"#DejaVuSans-51\"/>\n    </g>\n   </g>\n   <g id=\"text_61\">\n    <!-- 0.6 -->\n    <g style=\"fill:#ffffff;\" transform=\"translate(125.26183 190.428594)scale(0.1 -0.1)\">\n     <use xlink:href=\"#DejaVuSans-48\"/>\n     <use x=\"63.623047\" xlink:href=\"#DejaVuSans-46\"/>\n     <use x=\"95.410156\" xlink:href=\"#DejaVuSans-54\"/>\n    </g>\n   </g>\n   <g id=\"text_62\">\n    <!-- 0.52 -->\n    <g style=\"fill:#ffffff;\" transform=\"translate(160.343438 190.428594)scale(0.1 -0.1)\">\n     <use xlink:href=\"#DejaVuSans-48\"/>\n     <use x=\"63.623047\" xlink:href=\"#DejaVuSans-46\"/>\n     <use x=\"95.410156\" xlink:href=\"#DejaVuSans-53\"/>\n     <use x=\"159.033203\" xlink:href=\"#DejaVuSans-50\"/>\n    </g>\n   </g>\n   <g id=\"text_63\">\n    <!-- 0.41 -->\n    <g style=\"fill:#ffffff;\" transform=\"translate(198.606295 190.428594)scale(0.1 -0.1)\">\n     <use xlink:href=\"#DejaVuSans-48\"/>\n     <use x=\"63.623047\" xlink:href=\"#DejaVuSans-46\"/>\n     <use x=\"95.410156\" xlink:href=\"#DejaVuSans-52\"/>\n     <use x=\"159.033203\" xlink:href=\"#DejaVuSans-49\"/>\n    </g>\n   </g>\n   <g id=\"text_64\">\n    <!-- 0.64 -->\n    <g style=\"fill:#ffffff;\" transform=\"translate(236.869152 190.428594)scale(0.1 -0.1)\">\n     <use xlink:href=\"#DejaVuSans-48\"/>\n     <use x=\"63.623047\" xlink:href=\"#DejaVuSans-46\"/>\n     <use x=\"95.410156\" xlink:href=\"#DejaVuSans-54\"/>\n     <use x=\"159.033203\" xlink:href=\"#DejaVuSans-52\"/>\n    </g>\n   </g>\n   <g id=\"text_65\">\n    <!-- 1 -->\n    <g style=\"fill:#262626;\" transform=\"translate(283.083571 190.428594)scale(0.1 -0.1)\">\n     <use xlink:href=\"#DejaVuSans-49\"/>\n    </g>\n   </g>\n   <g id=\"text_66\">\n    <!-- 0.13 -->\n    <g style=\"fill:#ffffff;\" transform=\"translate(45.554866 217.608594)scale(0.1 -0.1)\">\n     <use xlink:href=\"#DejaVuSans-48\"/>\n     <use x=\"63.623047\" xlink:href=\"#DejaVuSans-46\"/>\n     <use x=\"95.410156\" xlink:href=\"#DejaVuSans-49\"/>\n     <use x=\"159.033203\" xlink:href=\"#DejaVuSans-51\"/>\n    </g>\n   </g>\n   <g id=\"text_67\">\n    <!-- 1 -->\n    <g style=\"fill:#262626;\" transform=\"translate(91.769286 217.608594)scale(0.1 -0.1)\">\n     <use xlink:href=\"#DejaVuSans-49\"/>\n    </g>\n   </g>\n   <g id=\"text_68\">\n    <!-- 0.88 -->\n    <g style=\"fill:#262626;\" transform=\"translate(122.08058 217.608594)scale(0.1 -0.1)\">\n     <use xlink:href=\"#DejaVuSans-48\"/>\n     <use x=\"63.623047\" xlink:href=\"#DejaVuSans-46\"/>\n     <use x=\"95.410156\" xlink:href=\"#DejaVuSans-56\"/>\n     <use x=\"159.033203\" xlink:href=\"#DejaVuSans-56\"/>\n    </g>\n   </g>\n   <g id=\"text_69\">\n    <!-- 1 -->\n    <g style=\"fill:#262626;\" transform=\"translate(168.295 217.608594)scale(0.1 -0.1)\">\n     <use xlink:href=\"#DejaVuSans-49\"/>\n    </g>\n   </g>\n   <g id=\"text_70\">\n    <!-- 1 -->\n    <g style=\"fill:#262626;\" transform=\"translate(206.557857 217.608594)scale(0.1 -0.1)\">\n     <use xlink:href=\"#DejaVuSans-49\"/>\n    </g>\n   </g>\n   <g id=\"text_71\">\n    <!-- 0.82 -->\n    <g style=\"fill:#262626;\" transform=\"translate(236.869152 217.608594)scale(0.1 -0.1)\">\n     <use xlink:href=\"#DejaVuSans-48\"/>\n     <use x=\"63.623047\" xlink:href=\"#DejaVuSans-46\"/>\n     <use x=\"95.410156\" xlink:href=\"#DejaVuSans-56\"/>\n     <use x=\"159.033203\" xlink:href=\"#DejaVuSans-50\"/>\n    </g>\n   </g>\n   <g id=\"text_72\">\n    <!-- 0.037 -->\n    <g style=\"fill:#ffffff;\" transform=\"translate(271.950759 217.608594)scale(0.1 -0.1)\">\n     <use xlink:href=\"#DejaVuSans-48\"/>\n     <use x=\"63.623047\" xlink:href=\"#DejaVuSans-46\"/>\n     <use x=\"95.410156\" xlink:href=\"#DejaVuSans-48\"/>\n     <use x=\"159.033203\" xlink:href=\"#DejaVuSans-51\"/>\n     <use x=\"222.65625\" xlink:href=\"#DejaVuSans-55\"/>\n    </g>\n   </g>\n  </g>\n  <g id=\"axes_2\">\n   <g id=\"patch_3\">\n    <path clip-path=\"url(#pf30f10c23a)\" d=\"M 322.13625 228.439219 \nL 322.13625 227.589844 \nL 322.13625 11.848594 \nL 322.13625 10.999219 \nL 333.00825 10.999219 \nL 333.00825 11.848594 \nL 333.00825 227.589844 \nL 333.00825 228.439219 \nz\n\" style=\"fill:#ffffff;stroke:#ffffff;stroke-linejoin:miter;stroke-width:0.01;\"/>\n   </g>\n   <image height=\"218\" id=\"image0ac060adf0\" transform=\"scale(1 -1)translate(0 -218)\" width=\"11\" x=\"322\" xlink:href=\"data:image/png;base64,\niVBORw0KGgoAAAANSUhEUgAAAAsAAADaCAYAAABwzrisAAAABHNCSVQICAgIfAhkiAAAAWlJREFUaIHV2suNwzAQA1CNJG9lKSH9V5LE24LegcA4Z4LgkNTHjutV73sc/natdYode9Q8B9esEPMwZgCbG1M0iwwasMi6ldMcY86BzY0WFW3ixm3dOMYmB7ypok00x3w2N85VcCg5ZgoFZARDsSIJs7hxW9wC7iGjiRvInFpWuAaFOTegxU0yhLlLN4S5R/lzbjwx7qAbD9QcZLbjWJh7DJgrf4+4YbyHbgXY5+OXPc/sM14vQ25Y65JuwID4DBuT0aP8cLtMDmjgIQOKGySjYm7kQpnWjRbWAfHYc/5EhjCT5iD4GDv2EjcmLase1hFz0o2UZgLv2IA5zUE3StwwsGgO+gyarx5uLHNDBrTy5waMMVvcX5EBzLkEifmqj8hIJUih0FaQixsrSgmSdbSLAvMfdSMWiq0UG5BWd6z8saMNt4LYAXQMHWMvupnD85LJuOSTDJQB4CX/W014KbOvgu+RhJleZ/0DhRGAaPmRcfkAAAAASUVORK5CYII=\" y=\"-10\"/>\n   <g id=\"matplotlib.axis_3\"/>\n   <g id=\"matplotlib.axis_4\">\n    <g id=\"ytick_9\">\n     <g id=\"line2d_16\">\n      <defs>\n       <path d=\"M 0 0 \nL 3.5 0 \n\" id=\"m8ec4636e0f\" style=\"stroke:#000000;stroke-width:0.8;\"/>\n      </defs>\n      <g>\n       <use style=\"stroke:#000000;stroke-width:0.8;\" x=\"333.00825\" xlink:href=\"#m8ec4636e0f\" y=\"228.439219\"/>\n      </g>\n     </g>\n     <g id=\"text_73\">\n      <!-- 0.0 -->\n      <g transform=\"translate(340.00825 232.238437)scale(0.1 -0.1)\">\n       <use xlink:href=\"#DejaVuSans-48\"/>\n       <use x=\"63.623047\" xlink:href=\"#DejaVuSans-46\"/>\n       <use x=\"95.410156\" xlink:href=\"#DejaVuSans-48\"/>\n      </g>\n     </g>\n    </g>\n    <g id=\"ytick_10\">\n     <g id=\"line2d_17\">\n      <g>\n       <use style=\"stroke:#000000;stroke-width:0.8;\" x=\"333.00825\" xlink:href=\"#m8ec4636e0f\" y=\"184.951219\"/>\n      </g>\n     </g>\n     <g id=\"text_74\">\n      <!-- 0.2 -->\n      <g transform=\"translate(340.00825 188.750437)scale(0.1 -0.1)\">\n       <use xlink:href=\"#DejaVuSans-48\"/>\n       <use x=\"63.623047\" xlink:href=\"#DejaVuSans-46\"/>\n       <use x=\"95.410156\" xlink:href=\"#DejaVuSans-50\"/>\n      </g>\n     </g>\n    </g>\n    <g id=\"ytick_11\">\n     <g id=\"line2d_18\">\n      <g>\n       <use style=\"stroke:#000000;stroke-width:0.8;\" x=\"333.00825\" xlink:href=\"#m8ec4636e0f\" y=\"141.463219\"/>\n      </g>\n     </g>\n     <g id=\"text_75\">\n      <!-- 0.4 -->\n      <g transform=\"translate(340.00825 145.262437)scale(0.1 -0.1)\">\n       <use xlink:href=\"#DejaVuSans-48\"/>\n       <use x=\"63.623047\" xlink:href=\"#DejaVuSans-46\"/>\n       <use x=\"95.410156\" xlink:href=\"#DejaVuSans-52\"/>\n      </g>\n     </g>\n    </g>\n    <g id=\"ytick_12\">\n     <g id=\"line2d_19\">\n      <g>\n       <use style=\"stroke:#000000;stroke-width:0.8;\" x=\"333.00825\" xlink:href=\"#m8ec4636e0f\" y=\"97.975219\"/>\n      </g>\n     </g>\n     <g id=\"text_76\">\n      <!-- 0.6 -->\n      <g transform=\"translate(340.00825 101.774438)scale(0.1 -0.1)\">\n       <use xlink:href=\"#DejaVuSans-48\"/>\n       <use x=\"63.623047\" xlink:href=\"#DejaVuSans-46\"/>\n       <use x=\"95.410156\" xlink:href=\"#DejaVuSans-54\"/>\n      </g>\n     </g>\n    </g>\n    <g id=\"ytick_13\">\n     <g id=\"line2d_20\">\n      <g>\n       <use style=\"stroke:#000000;stroke-width:0.8;\" x=\"333.00825\" xlink:href=\"#m8ec4636e0f\" y=\"54.487219\"/>\n      </g>\n     </g>\n     <g id=\"text_77\">\n      <!-- 0.8 -->\n      <g transform=\"translate(340.00825 58.286437)scale(0.1 -0.1)\">\n       <use xlink:href=\"#DejaVuSans-48\"/>\n       <use x=\"63.623047\" xlink:href=\"#DejaVuSans-46\"/>\n       <use x=\"95.410156\" xlink:href=\"#DejaVuSans-56\"/>\n      </g>\n     </g>\n    </g>\n    <g id=\"ytick_14\">\n     <g id=\"line2d_21\">\n      <g>\n       <use style=\"stroke:#000000;stroke-width:0.8;\" x=\"333.00825\" xlink:href=\"#m8ec4636e0f\" y=\"10.999219\"/>\n      </g>\n     </g>\n     <g id=\"text_78\">\n      <!-- 1.0 -->\n      <g transform=\"translate(340.00825 14.798438)scale(0.1 -0.1)\">\n       <use xlink:href=\"#DejaVuSans-49\"/>\n       <use x=\"63.623047\" xlink:href=\"#DejaVuSans-46\"/>\n       <use x=\"95.410156\" xlink:href=\"#DejaVuSans-48\"/>\n      </g>\n     </g>\n    </g>\n   </g>\n   <g id=\"patch_4\">\n    <path d=\"M 322.13625 228.439219 \nL 322.13625 227.589844 \nL 322.13625 11.848594 \nL 322.13625 10.999219 \nL 333.00825 10.999219 \nL 333.00825 11.848594 \nL 333.00825 227.589844 \nL 333.00825 228.439219 \nz\n\" style=\"fill:none;\"/>\n   </g>\n  </g>\n </g>\n <defs>\n  <clipPath id=\"p174a2d9976\">\n   <rect height=\"217.44\" width=\"267.84\" x=\"37.55625\" y=\"10.999219\"/>\n  </clipPath>\n  <clipPath id=\"pf30f10c23a\">\n   <rect height=\"217.44\" width=\"10.872\" x=\"322.13625\" y=\"10.999219\"/>\n  </clipPath>\n </defs>\n</svg>\n",
      "image/png": "[encoded data removed]"
     },
     "metadata": {
      "needs_background": "light"
     }
    }
   ],
   "source": [
    "max_regret = pd.DataFrame(max_regret)\n",
    "sns.heatmap(max_regret/max_regret.max(), cmap='viridis', annot=True)\n",
    "plt.show()"
   ]
  },
  {
   "cell_type": "code",
   "execution_count": 37,
   "metadata": {},
   "outputs": [
    {
     "output_type": "display_data",
     "data": {
      "application/vnd.plotly.v1+json": {
       "config": {
        "plotlyServerURL": "https://plot.ly"
       },
       "data": [
        {
         "dimensions": [
          {
           "label": "A1 & 2 Damage",
           "values": [
            1713846429.0855591,
            2627035260.807619,
            1997892739.942501,
            420970043.229902,
            1968890718.2589102,
            2650976127.957303,
            1767317418.6382022,
            336799686.8461809
           ]
          },
          {
           "label": "A3 Damage",
           "values": [
            46946838.56546466,
            40577715.09798927,
            24771006.85884262,
            46946838.56546466,
            14098309.109470546,
            304730.3150935909,
            29797787.10497171,
            46946838.56546466
           ]
          },
          {
           "label": "A1 & 2 Casualties",
           "values": [
            0.9745167666059877,
            1.0837892276917576,
            0.43893650828828806,
            0.9465706848177496,
            0.9745167666059877,
            1.1070500967980565,
            0.6612739524083151,
            0.9742040851822897
           ]
          },
          {
           "label": "A3 Casualties",
           "values": [
            0.04772192912863592,
            0.04601822600447328,
            0,
            0.04772192912863592,
            0.04024485263344709,
            0.03457853167495911,
            0.024705691466792953,
            0.04772192912863592
           ]
          },
          {
           "label": "Investment Costs",
           "values": [
            836211972.1899269,
            0,
            409549938.8652835,
            844546318.2627807,
            1163999038.3407733,
            732109468.5287204,
            582761313.9799519,
            1437325486.0475283
           ]
          },
          {
           "label": "RfR Investment Costs",
           "values": [
            607100000,
            807000000,
            691700000,
            550900000,
            322000000,
            0,
            520200000,
            661000000
           ]
          },
          {
           "label": "Evacuation Costs",
           "values": [
            43648.525633774036,
            54760.541119689035,
            69051.23534062954,
            63033.348760949426,
            32452.41175386678,
            60861.38066390889,
            69051.23534062954,
            2544.214970776974
           ]
          }
         ],
         "domain": {
          "x": [
           0,
           1
          ],
          "y": [
           0,
           1
          ]
         },
         "name": "",
         "type": "parcoords"
        }
       ],
       "layout": {
        "legend": {
         "tracegroupgap": 0
        },
        "margin": {
         "t": 60
        },
        "template": {
         "data": {
          "bar": [
           {
            "error_x": {
             "color": "#2a3f5f"
            },
            "error_y": {
             "color": "#2a3f5f"
            },
            "marker": {
             "line": {
              "color": "#E5ECF6",
              "width": 0.5
             }
            },
            "type": "bar"
           }
          ],
          "barpolar": [
           {
            "marker": {
             "line": {
              "color": "#E5ECF6",
              "width": 0.5
             }
            },
            "type": "barpolar"
           }
          ],
          "carpet": [
           {
            "aaxis": {
             "endlinecolor": "#2a3f5f",
             "gridcolor": "white",
             "linecolor": "white",
             "minorgridcolor": "white",
             "startlinecolor": "#2a3f5f"
            },
            "baxis": {
             "endlinecolor": "#2a3f5f",
             "gridcolor": "white",
             "linecolor": "white",
             "minorgridcolor": "white",
             "startlinecolor": "#2a3f5f"
            },
            "type": "carpet"
           }
          ],
          "choropleth": [
           {
            "colorbar": {
             "outlinewidth": 0,
             "ticks": ""
            },
            "type": "choropleth"
           }
          ],
          "contour": [
           {
            "colorbar": {
             "outlinewidth": 0,
             "ticks": ""
            },
            "colorscale": [
             [
              0,
              "#0d0887"
             ],
             [
              0.1111111111111111,
              "#46039f"
             ],
             [
              0.2222222222222222,
              "#7201a8"
             ],
             [
              0.3333333333333333,
              "#9c179e"
             ],
             [
              0.4444444444444444,
              "#bd3786"
             ],
             [
              0.5555555555555556,
              "#d8576b"
             ],
             [
              0.6666666666666666,
              "#ed7953"
             ],
             [
              0.7777777777777778,
              "#fb9f3a"
             ],
             [
              0.8888888888888888,
              "#fdca26"
             ],
             [
              1,
              "#f0f921"
             ]
            ],
            "type": "contour"
           }
          ],
          "contourcarpet": [
           {
            "colorbar": {
             "outlinewidth": 0,
             "ticks": ""
            },
            "type": "contourcarpet"
           }
          ],
          "heatmap": [
           {
            "colorbar": {
             "outlinewidth": 0,
             "ticks": ""
            },
            "colorscale": [
             [
              0,
              "#0d0887"
             ],
             [
              0.1111111111111111,
              "#46039f"
             ],
             [
              0.2222222222222222,
              "#7201a8"
             ],
             [
              0.3333333333333333,
              "#9c179e"
             ],
             [
              0.4444444444444444,
              "#bd3786"
             ],
             [
              0.5555555555555556,
              "#d8576b"
             ],
             [
              0.6666666666666666,
              "#ed7953"
             ],
             [
              0.7777777777777778,
              "#fb9f3a"
             ],
             [
              0.8888888888888888,
              "#fdca26"
             ],
             [
              1,
              "#f0f921"
             ]
            ],
            "type": "heatmap"
           }
          ],
          "heatmapgl": [
           {
            "colorbar": {
             "outlinewidth": 0,
             "ticks": ""
            },
            "colorscale": [
             [
              0,
              "#0d0887"
             ],
             [
              0.1111111111111111,
              "#46039f"
             ],
             [
              0.2222222222222222,
              "#7201a8"
             ],
             [
              0.3333333333333333,
              "#9c179e"
             ],
             [
              0.4444444444444444,
              "#bd3786"
             ],
             [
              0.5555555555555556,
              "#d8576b"
             ],
             [
              0.6666666666666666,
              "#ed7953"
             ],
             [
              0.7777777777777778,
              "#fb9f3a"
             ],
             [
              0.8888888888888888,
              "#fdca26"
             ],
             [
              1,
              "#f0f921"
             ]
            ],
            "type": "heatmapgl"
           }
          ],
          "histogram": [
           {
            "marker": {
             "colorbar": {
              "outlinewidth": 0,
              "ticks": ""
             }
            },
            "type": "histogram"
           }
          ],
          "histogram2d": [
           {
            "colorbar": {
             "outlinewidth": 0,
             "ticks": ""
            },
            "colorscale": [
             [
              0,
              "#0d0887"
             ],
             [
              0.1111111111111111,
              "#46039f"
             ],
             [
              0.2222222222222222,
              "#7201a8"
             ],
             [
              0.3333333333333333,
              "#9c179e"
             ],
             [
              0.4444444444444444,
              "#bd3786"
             ],
             [
              0.5555555555555556,
              "#d8576b"
             ],
             [
              0.6666666666666666,
              "#ed7953"
             ],
             [
              0.7777777777777778,
              "#fb9f3a"
             ],
             [
              0.8888888888888888,
              "#fdca26"
             ],
             [
              1,
              "#f0f921"
             ]
            ],
            "type": "histogram2d"
           }
          ],
          "histogram2dcontour": [
           {
            "colorbar": {
             "outlinewidth": 0,
             "ticks": ""
            },
            "colorscale": [
             [
              0,
              "#0d0887"
             ],
             [
              0.1111111111111111,
              "#46039f"
             ],
             [
              0.2222222222222222,
              "#7201a8"
             ],
             [
              0.3333333333333333,
              "#9c179e"
             ],
             [
              0.4444444444444444,
              "#bd3786"
             ],
             [
              0.5555555555555556,
              "#d8576b"
             ],
             [
              0.6666666666666666,
              "#ed7953"
             ],
             [
              0.7777777777777778,
              "#fb9f3a"
             ],
             [
              0.8888888888888888,
              "#fdca26"
             ],
             [
              1,
              "#f0f921"
             ]
            ],
            "type": "histogram2dcontour"
           }
          ],
          "mesh3d": [
           {
            "colorbar": {
             "outlinewidth": 0,
             "ticks": ""
            },
            "type": "mesh3d"
           }
          ],
          "parcoords": [
           {
            "line": {
             "colorbar": {
              "outlinewidth": 0,
              "ticks": ""
             }
            },
            "type": "parcoords"
           }
          ],
          "pie": [
           {
            "automargin": true,
            "type": "pie"
           }
          ],
          "scatter": [
           {
            "marker": {
             "colorbar": {
              "outlinewidth": 0,
              "ticks": ""
             }
            },
            "type": "scatter"
           }
          ],
          "scatter3d": [
           {
            "line": {
             "colorbar": {
              "outlinewidth": 0,
              "ticks": ""
             }
            },
            "marker": {
             "colorbar": {
              "outlinewidth": 0,
              "ticks": ""
             }
            },
            "type": "scatter3d"
           }
          ],
          "scattercarpet": [
           {
            "marker": {
             "colorbar": {
              "outlinewidth": 0,
              "ticks": ""
             }
            },
            "type": "scattercarpet"
           }
          ],
          "scattergeo": [
           {
            "marker": {
             "colorbar": {
              "outlinewidth": 0,
              "ticks": ""
             }
            },
            "type": "scattergeo"
           }
          ],
          "scattergl": [
           {
            "marker": {
             "colorbar": {
              "outlinewidth": 0,
              "ticks": ""
             }
            },
            "type": "scattergl"
           }
          ],
          "scattermapbox": [
           {
            "marker": {
             "colorbar": {
              "outlinewidth": 0,
              "ticks": ""
             }
            },
            "type": "scattermapbox"
           }
          ],
          "scatterpolar": [
           {
            "marker": {
             "colorbar": {
              "outlinewidth": 0,
              "ticks": ""
             }
            },
            "type": "scatterpolar"
           }
          ],
          "scatterpolargl": [
           {
            "marker": {
             "colorbar": {
              "outlinewidth": 0,
              "ticks": ""
             }
            },
            "type": "scatterpolargl"
           }
          ],
          "scatterternary": [
           {
            "marker": {
             "colorbar": {
              "outlinewidth": 0,
              "ticks": ""
             }
            },
            "type": "scatterternary"
           }
          ],
          "surface": [
           {
            "colorbar": {
             "outlinewidth": 0,
             "ticks": ""
            },
            "colorscale": [
             [
              0,
              "#0d0887"
             ],
             [
              0.1111111111111111,
              "#46039f"
             ],
             [
              0.2222222222222222,
              "#7201a8"
             ],
             [
              0.3333333333333333,
              "#9c179e"
             ],
             [
              0.4444444444444444,
              "#bd3786"
             ],
             [
              0.5555555555555556,
              "#d8576b"
             ],
             [
              0.6666666666666666,
              "#ed7953"
             ],
             [
              0.7777777777777778,
              "#fb9f3a"
             ],
             [
              0.8888888888888888,
              "#fdca26"
             ],
             [
              1,
              "#f0f921"
             ]
            ],
            "type": "surface"
           }
          ],
          "table": [
           {
            "cells": {
             "fill": {
              "color": "#EBF0F8"
             },
             "line": {
              "color": "white"
             }
            },
            "header": {
             "fill": {
              "color": "#C8D4E3"
             },
             "line": {
              "color": "white"
             }
            },
            "type": "table"
           }
          ]
         },
         "layout": {
          "annotationdefaults": {
           "arrowcolor": "#2a3f5f",
           "arrowhead": 0,
           "arrowwidth": 1
          },
          "coloraxis": {
           "colorbar": {
            "outlinewidth": 0,
            "ticks": ""
           }
          },
          "colorscale": {
           "diverging": [
            [
             0,
             "#8e0152"
            ],
            [
             0.1,
             "#c51b7d"
            ],
            [
             0.2,
             "#de77ae"
            ],
            [
             0.3,
             "#f1b6da"
            ],
            [
             0.4,
             "#fde0ef"
            ],
            [
             0.5,
             "#f7f7f7"
            ],
            [
             0.6,
             "#e6f5d0"
            ],
            [
             0.7,
             "#b8e186"
            ],
            [
             0.8,
             "#7fbc41"
            ],
            [
             0.9,
             "#4d9221"
            ],
            [
             1,
             "#276419"
            ]
           ],
           "sequential": [
            [
             0,
             "#0d0887"
            ],
            [
             0.1111111111111111,
             "#46039f"
            ],
            [
             0.2222222222222222,
             "#7201a8"
            ],
            [
             0.3333333333333333,
             "#9c179e"
            ],
            [
             0.4444444444444444,
             "#bd3786"
            ],
            [
             0.5555555555555556,
             "#d8576b"
            ],
            [
             0.6666666666666666,
             "#ed7953"
            ],
            [
             0.7777777777777778,
             "#fb9f3a"
            ],
            [
             0.8888888888888888,
             "#fdca26"
            ],
            [
             1,
             "#f0f921"
            ]
           ],
           "sequentialminus": [
            [
             0,
             "#0d0887"
            ],
            [
             0.1111111111111111,
             "#46039f"
            ],
            [
             0.2222222222222222,
             "#7201a8"
            ],
            [
             0.3333333333333333,
             "#9c179e"
            ],
            [
             0.4444444444444444,
             "#bd3786"
            ],
            [
             0.5555555555555556,
             "#d8576b"
            ],
            [
             0.6666666666666666,
             "#ed7953"
            ],
            [
             0.7777777777777778,
             "#fb9f3a"
            ],
            [
             0.8888888888888888,
             "#fdca26"
            ],
            [
             1,
             "#f0f921"
            ]
           ]
          },
          "colorway": [
           "#636efa",
           "#EF553B",
           "#00cc96",
           "#ab63fa",
           "#FFA15A",
           "#19d3f3",
           "#FF6692",
           "#B6E880",
           "#FF97FF",
           "#FECB52"
          ],
          "font": {
           "color": "#2a3f5f"
          },
          "geo": {
           "bgcolor": "white",
           "lakecolor": "white",
           "landcolor": "#E5ECF6",
           "showlakes": true,
           "showland": true,
           "subunitcolor": "white"
          },
          "hoverlabel": {
           "align": "left"
          },
          "hovermode": "closest",
          "mapbox": {
           "style": "light"
          },
          "paper_bgcolor": "white",
          "plot_bgcolor": "#E5ECF6",
          "polar": {
           "angularaxis": {
            "gridcolor": "white",
            "linecolor": "white",
            "ticks": ""
           },
           "bgcolor": "#E5ECF6",
           "radialaxis": {
            "gridcolor": "white",
            "linecolor": "white",
            "ticks": ""
           }
          },
          "scene": {
           "xaxis": {
            "backgroundcolor": "#E5ECF6",
            "gridcolor": "white",
            "gridwidth": 2,
            "linecolor": "white",
            "showbackground": true,
            "ticks": "",
            "zerolinecolor": "white"
           },
           "yaxis": {
            "backgroundcolor": "#E5ECF6",
            "gridcolor": "white",
            "gridwidth": 2,
            "linecolor": "white",
            "showbackground": true,
            "ticks": "",
            "zerolinecolor": "white"
           },
           "zaxis": {
            "backgroundcolor": "#E5ECF6",
            "gridcolor": "white",
            "gridwidth": 2,
            "linecolor": "white",
            "showbackground": true,
            "ticks": "",
            "zerolinecolor": "white"
           }
          },
          "shapedefaults": {
           "line": {
            "color": "#2a3f5f"
           }
          },
          "ternary": {
           "aaxis": {
            "gridcolor": "white",
            "linecolor": "white",
            "ticks": ""
           },
           "baxis": {
            "gridcolor": "white",
            "linecolor": "white",
            "ticks": ""
           },
           "bgcolor": "#E5ECF6",
           "caxis": {
            "gridcolor": "white",
            "linecolor": "white",
            "ticks": ""
           }
          },
          "title": {
           "x": 0.05
          },
          "xaxis": {
           "automargin": true,
           "gridcolor": "white",
           "linecolor": "white",
           "ticks": "",
           "title": {
            "standoff": 15
           },
           "zerolinecolor": "white",
           "zerolinewidth": 2
          },
          "yaxis": {
           "automargin": true,
           "gridcolor": "white",
           "linecolor": "white",
           "ticks": "",
           "title": {
            "standoff": 15
           },
           "zerolinecolor": "white",
           "zerolinewidth": 2
          }
         }
        }
       }
      }
     },
     "metadata": {}
    }
   ],
   "source": [
    "fig = px.parallel_coordinates(max_regret, labels= {\"A1_2 Aggr Expected Annual Damage\" : \"A1 & 2 Damage\", \"A3 Expected Annual Damage\" : \"A3 Damage\", \"A1_2 Aggr Expected Number of Deaths\" : \"A1 & 2 Casualties\", \"A3 Aggr Expected Number of Deaths\" : \"A3 Casualties\", \"A1_5 Dike Investment Costs\" : \"Investment Costs\", \"Room for River Investment Costs\" : \"RfR Investment Costs\"})\n",
    "fig.show()"
   ]
  },
  {
   "cell_type": "markdown",
   "metadata": {},
   "source": [
    "## Scenario Discovery\n",
    "We perform Scenario Discovery using the PRIM-algorithm to discover such scenarios in which the robust policies fail. We focus on such scenarios where death and damages occur."
   ]
  },
  {
   "cell_type": "code",
   "execution_count": 54,
   "metadata": {},
   "outputs": [
    {
     "output_type": "stream",
     "name": "stderr",
     "text": "[MainProcess/INFO] 800 points remaining, containing 171 cases of interest\n[MainProcess/INFO] mean: 0.9285714285714286, mass: 0.07, coverage: 0.30409356725146197, density: 0.9285714285714286 restricted_dimensions: 11\n"
    }
   ],
   "source": [
    "x = experiments.iloc[:,0:19]\n",
    "\n",
    "outcomes[\"selection\"] = outcomes[\"A1_2 Aggr Expected Annual Damage\"] + outcomes[\"A3 Expected Annual Damage\"] + outcomes[\"A1_2 Aggr Expected Number of Deaths\"] + outcomes[\"A3 Aggr Expected Number of Deaths\"]\n",
    "\n",
    "y =  outcomes[\"selection\"] > 0 \n",
    "prim_alg = prim.Prim(x,y, threshold=0.5)\n",
    "box = prim_alg.find_box()"
   ]
  },
  {
   "cell_type": "code",
   "execution_count": 55,
   "metadata": {},
   "outputs": [
    {
     "output_type": "execute_result",
     "data": {
      "text/html": "\n<div id=\"altair-viz-da74b3eff0d04a91bf01b2131e3d198b\"></div>\n<script type=\"text/javascript\">\n  (function(spec, embedOpt){\n    let outputDiv = document.currentScript.previousElementSibling;\n    if (outputDiv.id !== \"altair-viz-da74b3eff0d04a91bf01b2131e3d198b\") {\n      outputDiv = document.getElementById(\"altair-viz-da74b3eff0d04a91bf01b2131e3d198b\");\n    }\n    const paths = {\n      \"vega\": \"https://cdn.jsdelivr.net/npm//vega@5?noext\",\n      \"vega-lib\": \"https://cdn.jsdelivr.net/npm//vega-lib?noext\",\n      \"vega-lite\": \"https://cdn.jsdelivr.net/npm//vega-lite@4.8.1?noext\",\n      \"vega-embed\": \"https://cdn.jsdelivr.net/npm//vega-embed@6?noext\",\n    };\n\n    function loadScript(lib) {\n      return new Promise(function(resolve, reject) {\n        var s = document.createElement('script');\n        s.src = paths[lib];\n        s.async = true;\n        s.onload = () => resolve(paths[lib]);\n        s.onerror = () => reject(`Error loading script: ${paths[lib]}`);\n        document.getElementsByTagName(\"head\")[0].appendChild(s);\n      });\n    }\n\n    function showError(err) {\n      outputDiv.innerHTML = `<div class=\"error\" style=\"color:red;\">${err}</div>`;\n      throw err;\n    }\n\n    function displayChart(vegaEmbed) {\n      vegaEmbed(outputDiv, spec, embedOpt)\n        .catch(err => showError(`Javascript Error: ${err.message}<br>This usually means there's a typo in your chart specification. See the javascript console for the full traceback.`));\n    }\n\n    if(typeof define === \"function\" && define.amd) {\n      requirejs.config({paths});\n      require([\"vega-embed\"], displayChart, err => showError(`Error loading script: ${err.message}`));\n    } else if (typeof vegaEmbed === \"function\") {\n      displayChart(vegaEmbed);\n    } else {\n      loadScript(\"vega\")\n        .then(() => loadScript(\"vega-lite\"))\n        .then(() => loadScript(\"vega-embed\"))\n        .catch(showError)\n        .then(() => displayChart(vegaEmbed));\n    }\n  })({\"config\": {\"view\": {\"continuousWidth\": 400, \"continuousHeight\": 300}}, \"vconcat\": [{\"data\": {\"name\": \"data-8abbd0fc425780c53f2889481396e8f1\"}, \"mark\": {\"type\": \"circle\", \"size\": 75}, \"encoding\": {\"color\": {\"type\": \"ordinal\", \"field\": \"res_dim\", \"scale\": {\"range\": [\"#eff9b6\", \"#d0edb3\", \"#97d6b9\", \"#5dc0c0\", \"#31a5c2\", \"#1f80b8\", \"#2354a3\", \"#21318d\"]}}, \"opacity\": {\"condition\": {\"value\": 1, \"selection\": \"selector001\"}, \"value\": 0.4}, \"tooltip\": [{\"type\": \"ordinal\", \"field\": \"id\"}, {\"type\": \"quantitative\", \"field\": \"coverage\", \"format\": \".2\"}, {\"type\": \"quantitative\", \"field\": \"density\", \"format\": \".2\"}, {\"type\": \"ordinal\", \"field\": \"res_dim\"}], \"x\": {\"type\": \"quantitative\", \"field\": \"coverage\"}, \"y\": {\"type\": \"quantitative\", \"field\": \"density\"}}, \"height\": 400, \"selection\": {\"selector001\": {\"type\": \"single\", \"fields\": [\"id\"]}}, \"width\": 400}, {\"layer\": [{\"data\": {\"name\": \"data-bfe865c05312132dcfa9b978527d7265\"}, \"mark\": \"rule\", \"encoding\": {\"x\": {\"type\": \"quantitative\", \"axis\": {\"grid\": false, \"labels\": false, \"title\": \"box limits\"}, \"field\": \"x_lower\", \"scale\": {\"domain\": [0, 1], \"padding\": 0.1}}, \"x2\": {\"field\": \"x_upper\"}, \"y\": {\"type\": \"nominal\", \"field\": \"name\", \"scale\": {\"padding\": 1.0}}}, \"transform\": [{\"calculate\": \"(datum.x1-datum.minimum)/(datum.maximum-datum.minimum)\", \"as\": \"x_lower\"}, {\"calculate\": \"(datum.x2-datum.minimum)/(datum.maximum-datum.minimum)\", \"as\": \"x_upper\"}, {\"filter\": {\"selection\": \"selector001\"}}], \"width\": 400}, {\"data\": {\"name\": \"data-bfe865c05312132dcfa9b978527d7265\"}, \"mark\": {\"type\": \"text\", \"align\": \"left\", \"baseline\": \"top\", \"dy\": 5}, \"encoding\": {\"text\": {\"type\": \"ordinal\", \"field\": \"text\"}, \"x\": {\"type\": \"quantitative\", \"axis\": {\"grid\": false, \"labels\": false, \"title\": \"box limits\"}, \"field\": \"x_lower\", \"scale\": {\"domain\": [0, 1], \"padding\": 0.1}}, \"x2\": {\"field\": \"x_upper\"}, \"y\": {\"type\": \"nominal\", \"field\": \"name\", \"scale\": {\"padding\": 1.0}}}, \"transform\": [{\"calculate\": \"(datum.x1-datum.minimum)/(datum.maximum-datum.minimum)\", \"as\": \"x_lower\"}, {\"calculate\": \"(datum.x2-datum.minimum)/(datum.maximum-datum.minimum)\", \"as\": \"x_upper\"}, {\"filter\": {\"selection\": \"selector001\"}}, {\"calculate\": \"datum.qp_lower>0?format(datum.x1, \\\".2\\\")+\\\" (\\\"+format(datum.qp_lower, \\\".1~g\\\")+\\\")\\\" :format(datum.x1, \\\".2\\\")\", \"as\": \"text\"}], \"width\": 400}, {\"data\": {\"name\": \"data-bfe865c05312132dcfa9b978527d7265\"}, \"mark\": {\"type\": \"text\", \"align\": \"right\", \"baseline\": \"top\", \"dy\": 5}, \"encoding\": {\"text\": {\"type\": \"ordinal\", \"field\": \"text\"}, \"x\": {\"type\": \"quantitative\", \"field\": \"x_upper\"}, \"x2\": {\"field\": \"x_upper\"}, \"y\": {\"type\": \"nominal\", \"field\": \"name\", \"scale\": {\"padding\": 1.0}}}, \"transform\": [{\"calculate\": \"(datum.x1-datum.minimum)/(datum.maximum-datum.minimum)\", \"as\": \"x_lower\"}, {\"calculate\": \"(datum.x2-datum.minimum)/(datum.maximum-datum.minimum)\", \"as\": \"x_upper\"}, {\"filter\": {\"selection\": \"selector001\"}}, {\"calculate\": \"datum.qp_upper>0?format(datum.x2, \\\".2\\\")+\\\" (\\\"+format(datum.qp_upper, \\\".1\\\")+\\\")\\\" :format(datum.x2, \\\".2\\\")\", \"as\": \"text\"}], \"width\": 400}, {\"data\": {\"name\": \"data-bb8d07f6df3d47a6a475317795287b23\"}, \"mark\": {\"type\": \"rect\", \"opacity\": 0.05}, \"encoding\": {\"x\": {\"type\": \"quantitative\", \"field\": \"start\"}, \"x2\": {\"field\": \"end\"}}}, {\"data\": {\"name\": \"data-bcaf610a8c6863191ea3cbe2b8f6f8d4\"}, \"mark\": \"point\", \"encoding\": {\"x\": {\"type\": \"quantitative\", \"field\": \"x\"}, \"y\": {\"type\": \"nominal\", \"field\": \"name\"}}, \"transform\": [{\"filter\": {\"selection\": \"selector001\"}}], \"width\": 400}, {\"data\": {\"name\": \"data-bcaf610a8c6863191ea3cbe2b8f6f8d4\"}, \"mark\": {\"type\": \"text\", \"align\": \"center\", \"baseline\": \"top\", \"dy\": 5}, \"encoding\": {\"text\": {\"type\": \"nominal\", \"field\": \"item\"}, \"x\": {\"type\": \"quantitative\", \"field\": \"x\"}, \"y\": {\"type\": \"nominal\", \"field\": \"name\"}}, \"transform\": [{\"filter\": {\"selection\": \"selector001\"}}], \"width\": 400}]}], \"$schema\": \"https://vega.github.io/schema/vega-lite/v4.8.1.json\", \"datasets\": {\"data-8abbd0fc425780c53f2889481396e8f1\": [{\"coverage\": 1.0, \"density\": 0.21375, \"id\": 0, \"mass\": 1.0, \"mean\": 0.21375, \"res_dim\": 0}, {\"coverage\": 1.0, \"density\": 0.225, \"id\": 1, \"mass\": 0.95, \"mean\": 0.225, \"res_dim\": 1}, {\"coverage\": 1.0, \"density\": 0.2375, \"id\": 2, \"mass\": 0.9, \"mean\": 0.2375, \"res_dim\": 2}, {\"coverage\": 1.0, \"density\": 0.2514705882352941, \"id\": 3, \"mass\": 0.85, \"mean\": 0.2514705882352941, \"res_dim\": 3}, {\"coverage\": 1.0, \"density\": 0.2671875, \"id\": 4, \"mass\": 0.8, \"mean\": 0.2671875, \"res_dim\": 4}, {\"coverage\": 1.0, \"density\": 0.28125, \"id\": 5, \"mass\": 0.76, \"mean\": 0.28125, \"res_dim\": 4}, {\"coverage\": 0.9824561403508771, \"density\": 0.2916666666666667, \"id\": 6, \"mass\": 0.72, \"mean\": 0.2916666666666667, \"res_dim\": 4}, {\"coverage\": 0.9649122807017544, \"density\": 0.30330882352941174, \"id\": 7, \"mass\": 0.68, \"mean\": 0.30330882352941174, \"res_dim\": 4}, {\"coverage\": 0.9649122807017544, \"density\": 0.322265625, \"id\": 8, \"mass\": 0.64, \"mean\": 0.322265625, \"res_dim\": 4}, {\"coverage\": 0.9532163742690059, \"density\": 0.33958333333333335, \"id\": 9, \"mass\": 0.6, \"mean\": 0.33958333333333335, \"res_dim\": 4}, {\"coverage\": 0.9532163742690059, \"density\": 0.3574561403508772, \"id\": 10, \"mass\": 0.57, \"mean\": 0.3574561403508772, \"res_dim\": 4}, {\"coverage\": 0.935672514619883, \"density\": 0.37037037037037035, \"id\": 11, \"mass\": 0.54, \"mean\": 0.37037037037037035, \"res_dim\": 4}, {\"coverage\": 0.935672514619883, \"density\": 0.39215686274509803, \"id\": 12, \"mass\": 0.51, \"mean\": 0.39215686274509803, \"res_dim\": 4}, {\"coverage\": 0.935672514619883, \"density\": 0.4166666666666667, \"id\": 13, \"mass\": 0.48, \"mean\": 0.4166666666666667, \"res_dim\": 4}, {\"coverage\": 0.935672514619883, \"density\": 0.4444444444444444, \"id\": 14, \"mass\": 0.45, \"mean\": 0.4444444444444444, \"res_dim\": 4}, {\"coverage\": 0.935672514619883, \"density\": 0.47619047619047616, \"id\": 15, \"mass\": 0.42, \"mean\": 0.47619047619047616, \"res_dim\": 4}, {\"coverage\": 0.935672514619883, \"density\": 0.5128205128205128, \"id\": 16, \"mass\": 0.39, \"mean\": 0.5128205128205128, \"res_dim\": 4}, {\"coverage\": 0.935672514619883, \"density\": 0.5405405405405406, \"id\": 17, \"mass\": 0.37, \"mean\": 0.5405405405405406, \"res_dim\": 5}, {\"coverage\": 0.9122807017543859, \"density\": 0.5571428571428572, \"id\": 18, \"mass\": 0.35, \"mean\": 0.5571428571428572, \"res_dim\": 5}, {\"coverage\": 0.8947368421052632, \"density\": 0.5795454545454546, \"id\": 19, \"mass\": 0.33, \"mean\": 0.5795454545454546, \"res_dim\": 5}, {\"coverage\": 0.8713450292397661, \"density\": 0.6008064516129032, \"id\": 20, \"mass\": 0.31, \"mean\": 0.6008064516129032, \"res_dim\": 5}, {\"coverage\": 0.847953216374269, \"density\": 0.625, \"id\": 21, \"mass\": 0.29, \"mean\": 0.625, \"res_dim\": 6}, {\"coverage\": 0.8304093567251462, \"density\": 0.6574074074074074, \"id\": 22, \"mass\": 0.27, \"mean\": 0.6574074074074074, \"res_dim\": 7}, {\"coverage\": 0.7953216374269005, \"density\": 0.68, \"id\": 23, \"mass\": 0.25, \"mean\": 0.68, \"res_dim\": 8}, {\"coverage\": 0.7602339181286549, \"density\": 0.7065217391304348, \"id\": 24, \"mass\": 0.23, \"mean\": 0.7065217391304348, \"res_dim\": 9}, {\"coverage\": 0.7192982456140351, \"density\": 0.7321428571428571, \"id\": 25, \"mass\": 0.21, \"mean\": 0.7321428571428571, \"res_dim\": 9}, {\"coverage\": 0.672514619883041, \"density\": 0.756578947368421, \"id\": 26, \"mass\": 0.19, \"mean\": 0.756578947368421, \"res_dim\": 9}, {\"coverage\": 0.6491228070175439, \"density\": 0.7708333333333334, \"id\": 27, \"mass\": 0.18, \"mean\": 0.7708333333333334, \"res_dim\": 9}, {\"coverage\": 0.5614035087719298, \"density\": 0.8, \"id\": 28, \"mass\": 0.15, \"mean\": 0.8, \"res_dim\": 10}, {\"coverage\": 0.5321637426900585, \"density\": 0.8125, \"id\": 29, \"mass\": 0.14, \"mean\": 0.8125, \"res_dim\": 10}, {\"coverage\": 0.40350877192982454, \"density\": 0.8625, \"id\": 30, \"mass\": 0.1, \"mean\": 0.8625, \"res_dim\": 11}, {\"coverage\": 0.3742690058479532, \"density\": 0.8888888888888888, \"id\": 31, \"mass\": 0.09, \"mean\": 0.8888888888888888, \"res_dim\": 11}, {\"coverage\": 0.3391812865497076, \"density\": 0.90625, \"id\": 32, \"mass\": 0.08, \"mean\": 0.90625, \"res_dim\": 11}, {\"coverage\": 0.30409356725146197, \"density\": 0.9285714285714286, \"id\": 33, \"mass\": 0.07, \"mean\": 0.9285714285714286, \"res_dim\": 11}], \"data-bfe865c05312132dcfa9b978527d7265\": [{\"x1\": 6.0, \"x2\": 132.0, \"name\": \"A.0_ID flood wave shape\", \"id\": 1, \"minimum\": 0.0, \"maximum\": 132.0, \"qp_lower\": 0.23686321036253727, \"qp_upper\": -1.0}, {\"x1\": 6.0, \"x2\": 132.0, \"name\": \"A.0_ID flood wave shape\", \"id\": 2, \"minimum\": 0.0, \"maximum\": 132.0, \"qp_lower\": 0.2230120616164157, \"qp_upper\": -1.0}, {\"x1\": 0.0074894957672339505, \"x2\": 0.9465720003960174, \"name\": \"A.1_pfail\", \"id\": 2, \"minimum\": 0.0074894957672339505, \"maximum\": 0.9934547568163274, \"qp_lower\": -1.0, \"qp_upper\": 0.2230120616164157}, {\"x1\": 6.0, \"x2\": 132.0, \"name\": \"A.0_ID flood wave shape\", \"id\": 3, \"minimum\": 0.0, \"maximum\": 132.0, \"qp_lower\": 0.2078994964529133, \"qp_upper\": -1.0}, {\"x1\": 0.0074894957672339505, \"x2\": 0.9465720003960174, \"name\": \"A.1_pfail\", \"id\": 3, \"minimum\": 0.0074894957672339505, \"maximum\": 0.9934547568163274, \"qp_lower\": -1.0, \"qp_upper\": 0.2579974547806145}, {\"x1\": 49.67487443052266, \"x2\": 347.3021878845161, \"name\": \"A.2_Bmax\", \"id\": 3, \"minimum\": 32.00136794728495, \"maximum\": 347.3021878845161, \"qp_lower\": 0.2078994964529133, \"qp_upper\": -1.0}, {\"x1\": 6.0, \"x2\": 132.0, \"name\": \"A.0_ID flood wave shape\", \"id\": 4, \"minimum\": 0.0, \"maximum\": 132.0, \"qp_lower\": 0.24276504281378736, \"qp_upper\": -1.0}, {\"x1\": 0.0074894957672339505, \"x2\": 0.9465720003960174, \"name\": \"A.1_pfail\", \"id\": 4, \"minimum\": 0.0074894957672339505, \"maximum\": 0.9934547568163274, \"qp_lower\": -1.0, \"qp_upper\": 0.24276504281378736}, {\"x1\": 49.67487443052266, \"x2\": 347.3021878845161, \"name\": \"A.2_Bmax\", \"id\": 4, \"minimum\": 32.00136794728495, \"maximum\": 347.3021878845161, \"qp_lower\": 0.3019322794466165, \"qp_upper\": -1.0}, {\"x1\": 31.697678043210516, \"x2\": 323.8382800733558, \"name\": \"A.4_Bmax\", \"id\": 4, \"minimum\": 31.697678043210516, \"maximum\": 349.418868323669, \"qp_lower\": -1.0, \"qp_upper\": 0.19140222513880273}, {\"x1\": 6.0, \"x2\": 132.0, \"name\": \"A.0_ID flood wave shape\", \"id\": 5, \"minimum\": 0.0, \"maximum\": 132.0, \"qp_lower\": 0.22934198310103152, \"qp_upper\": -1.0}, {\"x1\": 0.0074894957672339505, \"x2\": 0.9126954746178583, \"name\": \"A.1_pfail\", \"id\": 5, \"minimum\": 0.0074894957672339505, \"maximum\": 0.9934547568163274, \"qp_lower\": -1.0, \"qp_upper\": 0.07193092901221601}, {\"x1\": 49.67487443052266, \"x2\": 347.3021878845161, \"name\": \"A.2_Bmax\", \"id\": 5, \"minimum\": 32.00136794728495, \"maximum\": 347.3021878845161, \"qp_lower\": 0.29047663637429344, \"qp_upper\": -1.0}, {\"x1\": 31.697678043210516, \"x2\": 323.8382800733558, \"name\": \"A.4_Bmax\", \"id\": 5, \"minimum\": 31.697678043210516, \"maximum\": 349.418868323669, \"qp_lower\": -1.0, \"qp_upper\": 0.17712954422392477}, {\"x1\": 14.5, \"x2\": 132.0, \"name\": \"A.0_ID flood wave shape\", \"id\": 6, \"minimum\": 0.0, \"maximum\": 132.0, \"qp_lower\": 0.10092995848093711, \"qp_upper\": -1.0}, {\"x1\": 0.0074894957672339505, \"x2\": 0.9126954746178583, \"name\": \"A.1_pfail\", \"id\": 6, \"minimum\": 0.0074894957672339505, \"maximum\": 0.9934547568163274, \"qp_lower\": -1.0, \"qp_upper\": 0.06252454488166381}, {\"x1\": 49.67487443052266, \"x2\": 347.3021878845161, \"name\": \"A.2_Bmax\", \"id\": 6, \"minimum\": 32.00136794728495, \"maximum\": 347.3021878845161, \"qp_lower\": 0.35230157215855884, \"qp_upper\": -1.0}, {\"x1\": 31.697678043210516, \"x2\": 323.8382800733558, \"name\": \"A.4_Bmax\", \"id\": 6, \"minimum\": 31.697678043210516, \"maximum\": 349.418868323669, \"qp_lower\": -1.0, \"qp_upper\": 0.2176874851445861}, {\"x1\": 14.5, \"x2\": 132.0, \"name\": \"A.0_ID flood wave shape\", \"id\": 7, \"minimum\": 0.0, \"maximum\": 132.0, \"qp_lower\": 0.08781952439255483, \"qp_upper\": -1.0}, {\"x1\": 0.0074894957672339505, \"x2\": 0.848629837777555, \"name\": \"A.1_pfail\", \"id\": 7, \"minimum\": 0.0074894957672339505, \"maximum\": 0.9934547568163274, \"qp_lower\": -1.0, \"qp_upper\": 0.018309574910461285}, {\"x1\": 49.67487443052266, \"x2\": 347.3021878845161, \"name\": \"A.2_Bmax\", \"id\": 7, \"minimum\": 32.00136794728495, \"maximum\": 347.3021878845161, \"qp_lower\": 0.34394665808683283, \"qp_upper\": -1.0}, {\"x1\": 31.697678043210516, \"x2\": 323.8382800733558, \"name\": \"A.4_Bmax\", \"id\": 7, \"minimum\": 31.697678043210516, \"maximum\": 349.418868323669, \"qp_lower\": -1.0, \"qp_upper\": 0.20495056799986988}, {\"x1\": 14.5, \"x2\": 132.0, \"name\": \"A.0_ID flood wave shape\", \"id\": 8, \"minimum\": 0.0, \"maximum\": 132.0, \"qp_lower\": 0.07114916817271873, \"qp_upper\": -1.0}, {\"x1\": 0.0074894957672339505, \"x2\": 0.809477515522291, \"name\": \"A.1_pfail\", \"id\": 8, \"minimum\": 0.0074894957672339505, \"maximum\": 0.9934547568163274, \"qp_lower\": -1.0, \"qp_upper\": 0.0015087708920286755}, {\"x1\": 49.67487443052266, \"x2\": 347.3021878845161, \"name\": \"A.2_Bmax\", \"id\": 8, \"minimum\": 32.00136794728495, \"maximum\": 347.3021878845161, \"qp_lower\": 0.33219459166546267, \"qp_upper\": -1.0}, {\"x1\": 31.697678043210516, \"x2\": 323.8382800733558, \"name\": \"A.4_Bmax\", \"id\": 8, \"minimum\": 31.697678043210516, \"maximum\": 349.418868323669, \"qp_lower\": -1.0, \"qp_upper\": 0.18769505869148834}, {\"x1\": 14.5, \"x2\": 132.0, \"name\": \"A.0_ID flood wave shape\", \"id\": 9, \"minimum\": 0.0, \"maximum\": 132.0, \"qp_lower\": 0.05707473582869524, \"qp_upper\": -1.0}, {\"x1\": 0.0074894957672339505, \"x2\": 0.7687640354237315, \"name\": \"A.1_pfail\", \"id\": 9, \"minimum\": 0.0074894957672339505, \"maximum\": 0.9934547568163274, \"qp_lower\": -1.0, \"qp_upper\": 0.00011111976064381472}, {\"x1\": 49.67487443052266, \"x2\": 347.3021878845161, \"name\": \"A.2_Bmax\", \"id\": 9, \"minimum\": 32.00136794728495, \"maximum\": 347.3021878845161, \"qp_lower\": 0.32037323606930135, \"qp_upper\": -1.0}, {\"x1\": 31.697678043210516, \"x2\": 323.8382800733558, \"name\": \"A.4_Bmax\", \"id\": 9, \"minimum\": 31.697678043210516, \"maximum\": 349.418868323669, \"qp_lower\": -1.0, \"qp_upper\": 0.17110473149666544}, {\"x1\": 14.5, \"x2\": 132.0, \"name\": \"A.0_ID flood wave shape\", \"id\": 10, \"minimum\": 0.0, \"maximum\": 132.0, \"qp_lower\": 0.04239463853887174, \"qp_upper\": -1.0}, {\"x1\": 0.0074894957672339505, \"x2\": 0.7408787118591542, \"name\": \"A.1_pfail\", \"id\": 10, \"minimum\": 0.0074894957672339505, \"maximum\": 0.9934547568163274, \"qp_lower\": -1.0, \"qp_upper\": 4.339315318898546e-06}, {\"x1\": 49.67487443052266, \"x2\": 347.3021878845161, \"name\": \"A.2_Bmax\", \"id\": 10, \"minimum\": 32.00136794728495, \"maximum\": 347.3021878845161, \"qp_lower\": 0.2969718406041268, \"qp_upper\": -1.0}, {\"x1\": 31.697678043210516, \"x2\": 323.8382800733558, \"name\": \"A.4_Bmax\", \"id\": 10, \"minimum\": 31.697678043210516, \"maximum\": 349.418868323669, \"qp_lower\": -1.0, \"qp_upper\": 0.1479009436205576}, {\"x1\": 14.5, \"x2\": 132.0, \"name\": \"A.0_ID flood wave shape\", \"id\": 11, \"minimum\": 0.0, \"maximum\": 132.0, \"qp_lower\": 0.037216966967464384, \"qp_upper\": -1.0}, {\"x1\": 0.0074894957672339505, \"x2\": 0.7086906402645357, \"name\": \"A.1_pfail\", \"id\": 11, \"minimum\": 0.0074894957672339505, \"maximum\": 0.9934547568163274, \"qp_lower\": -1.0, \"qp_upper\": 5.604786784825988e-07}, {\"x1\": 49.67487443052266, \"x2\": 347.3021878845161, \"name\": \"A.2_Bmax\", \"id\": 11, \"minimum\": 32.00136794728495, \"maximum\": 347.3021878845161, \"qp_lower\": 0.2991075608775891, \"qp_upper\": -1.0}, {\"x1\": 31.697678043210516, \"x2\": 323.8382800733558, \"name\": \"A.4_Bmax\", \"id\": 11, \"minimum\": 31.697678043210516, \"maximum\": 349.418868323669, \"qp_lower\": -1.0, \"qp_upper\": 0.14328042962772367}, {\"x1\": 14.5, \"x2\": 132.0, \"name\": \"A.0_ID flood wave shape\", \"id\": 12, \"minimum\": 0.0, \"maximum\": 132.0, \"qp_lower\": 0.027206668939012683, \"qp_upper\": -1.0}, {\"x1\": 0.0074894957672339505, \"x2\": 0.6638151983259696, \"name\": \"A.1_pfail\", \"id\": 12, \"minimum\": 0.0074894957672339505, \"maximum\": 0.9934547568163274, \"qp_lower\": -1.0, \"qp_upper\": 7.54262832509257e-09}, {\"x1\": 49.67487443052266, \"x2\": 347.3021878845161, \"name\": \"A.2_Bmax\", \"id\": 12, \"minimum\": 32.00136794728495, \"maximum\": 347.3021878845161, \"qp_lower\": 0.2848954542494356, \"qp_upper\": -1.0}, {\"x1\": 31.697678043210516, \"x2\": 323.8382800733558, \"name\": \"A.4_Bmax\", \"id\": 12, \"minimum\": 31.697678043210516, \"maximum\": 349.418868323669, \"qp_lower\": -1.0, \"qp_upper\": 0.19457623350135708}, {\"x1\": 14.5, \"x2\": 132.0, \"name\": \"A.0_ID flood wave shape\", \"id\": 13, \"minimum\": 0.0, \"maximum\": 132.0, \"qp_lower\": 0.10676159168890037, \"qp_upper\": -1.0}, {\"x1\": 0.0074894957672339505, \"x2\": 0.6125669635906905, \"name\": \"A.1_pfail\", \"id\": 13, \"minimum\": 0.0074894957672339505, \"maximum\": 0.9934547568163274, \"qp_lower\": -1.0, \"qp_upper\": 4.131490254216473e-11}, {\"x1\": 49.67487443052266, \"x2\": 347.3021878845161, \"name\": \"A.2_Bmax\", \"id\": 13, \"minimum\": 32.00136794728495, \"maximum\": 347.3021878845161, \"qp_lower\": 0.2687280094780971, \"qp_upper\": -1.0}, {\"x1\": 31.697678043210516, \"x2\": 323.8382800733558, \"name\": \"A.4_Bmax\", \"id\": 13, \"minimum\": 31.697678043210516, \"maximum\": 349.418868323669, \"qp_lower\": -1.0, \"qp_upper\": 0.17567715255282285}, {\"x1\": 14.5, \"x2\": 132.0, \"name\": \"A.0_ID flood wave shape\", \"id\": 14, \"minimum\": 0.0, \"maximum\": 132.0, \"qp_lower\": 0.14723461204832788, \"qp_upper\": -1.0}, {\"x1\": 0.0074894957672339505, \"x2\": 0.5548310333678612, \"name\": \"A.1_pfail\", \"id\": 14, \"minimum\": 0.0074894957672339505, \"maximum\": 0.9934547568163274, \"qp_lower\": -1.0, \"qp_upper\": 7.826146016418139e-14}, {\"x1\": 49.67487443052266, \"x2\": 347.3021878845161, \"name\": \"A.2_Bmax\", \"id\": 14, \"minimum\": 32.00136794728495, \"maximum\": 347.3021878845161, \"qp_lower\": 0.37499352839149835, \"qp_upper\": -1.0}, {\"x1\": 31.697678043210516, \"x2\": 323.8382800733558, \"name\": \"A.4_Bmax\", \"id\": 14, \"minimum\": 31.697678043210516, \"maximum\": 349.418868323669, \"qp_lower\": -1.0, \"qp_upper\": 0.2502054872139984}, {\"x1\": 14.5, \"x2\": 132.0, \"name\": \"A.0_ID flood wave shape\", \"id\": 15, \"minimum\": 0.0, \"maximum\": 132.0, \"qp_lower\": 0.20957070184069465, \"qp_upper\": -1.0}, {\"x1\": 0.0074894957672339505, \"x2\": 0.4990536224414304, \"name\": \"A.1_pfail\", \"id\": 15, \"minimum\": 0.0074894957672339505, \"maximum\": 0.9934547568163274, \"qp_lower\": -1.0, \"qp_upper\": 4.1526607391237104e-17}, {\"x1\": 49.67487443052266, \"x2\": 347.3021878845161, \"name\": \"A.2_Bmax\", \"id\": 15, \"minimum\": 32.00136794728495, \"maximum\": 347.3021878845161, \"qp_lower\": 0.3619208296028728, \"qp_upper\": -1.0}, {\"x1\": 31.697678043210516, \"x2\": 323.8382800733558, \"name\": \"A.4_Bmax\", \"id\": 15, \"minimum\": 31.697678043210516, \"maximum\": 349.418868323669, \"qp_lower\": -1.0, \"qp_upper\": 0.22883069728804126}, {\"x1\": 14.5, \"x2\": 132.0, \"name\": \"A.0_ID flood wave shape\", \"id\": 16, \"minimum\": 0.0, \"maximum\": 132.0, \"qp_lower\": 0.17814630141433893, \"qp_upper\": -1.0}, {\"x1\": 0.0074894957672339505, \"x2\": 0.43643067057906515, \"name\": \"A.1_pfail\", \"id\": 16, \"minimum\": 0.0074894957672339505, \"maximum\": 0.9934547568163274, \"qp_lower\": -1.0, \"qp_upper\": 4.660823500211121e-21}, {\"x1\": 49.67487443052266, \"x2\": 347.3021878845161, \"name\": \"A.2_Bmax\", \"id\": 16, \"minimum\": 32.00136794728495, \"maximum\": 347.3021878845161, \"qp_lower\": 0.5227674292881839, \"qp_upper\": -1.0}, {\"x1\": 31.697678043210516, \"x2\": 323.8382800733558, \"name\": \"A.4_Bmax\", \"id\": 16, \"minimum\": 31.697678043210516, \"maximum\": 349.418868323669, \"qp_lower\": -1.0, \"qp_upper\": 0.34597607362849686}, {\"x1\": 14.5, \"x2\": 132.0, \"name\": \"A.0_ID flood wave shape\", \"id\": 17, \"minimum\": 0.0, \"maximum\": 132.0, \"qp_lower\": 0.15518246358331692, \"qp_upper\": -1.0}, {\"x1\": 43.73109817093203, \"x2\": 348.1535741801533, \"name\": \"A.1_Bmax\", \"id\": 17, \"minimum\": 32.26192443797079, \"maximum\": 348.1535741801533, \"qp_lower\": 0.18516689532287461, \"qp_upper\": -1.0}, {\"x1\": 0.0074894957672339505, \"x2\": 0.43643067057906515, \"name\": \"A.1_pfail\", \"id\": 17, \"minimum\": 0.0074894957672339505, \"maximum\": 0.9934547568163274, \"qp_lower\": -1.0, \"qp_upper\": 6.368353068355789e-23}, {\"x1\": 49.67487443052266, \"x2\": 347.3021878845161, \"name\": \"A.2_Bmax\", \"id\": 17, \"minimum\": 32.00136794728495, \"maximum\": 347.3021878845161, \"qp_lower\": 0.5238713660918305, \"qp_upper\": -1.0}, {\"x1\": 31.697678043210516, \"x2\": 323.8382800733558, \"name\": \"A.4_Bmax\", \"id\": 17, \"minimum\": 31.697678043210516, \"maximum\": 349.418868323669, \"qp_lower\": -1.0, \"qp_upper\": 0.33323180604364283}, {\"x1\": 14.5, \"x2\": 129.5, \"name\": \"A.0_ID flood wave shape\", \"id\": 18, \"minimum\": 0.0, \"maximum\": 132.0, \"qp_lower\": 0.13932417301607802, \"qp_upper\": 0.30989027291459637}, {\"x1\": 43.73109817093203, \"x2\": 348.1535741801533, \"name\": \"A.1_Bmax\", \"id\": 18, \"minimum\": 32.26192443797079, \"maximum\": 348.1535741801533, \"qp_lower\": 0.17121874034363535, \"qp_upper\": -1.0}, {\"x1\": 0.0074894957672339505, \"x2\": 0.43643067057906515, \"name\": \"A.1_pfail\", \"id\": 18, \"minimum\": 0.0074894957672339505, \"maximum\": 0.9934547568163274, \"qp_lower\": -1.0, \"qp_upper\": 1.7987383632544745e-23}, {\"x1\": 49.67487443052266, \"x2\": 347.3021878845161, \"name\": \"A.2_Bmax\", \"id\": 18, \"minimum\": 32.00136794728495, \"maximum\": 347.3021878845161, \"qp_lower\": 0.5248875710732075, \"qp_upper\": -1.0}, {\"x1\": 31.697678043210516, \"x2\": 323.8382800733558, \"name\": \"A.4_Bmax\", \"id\": 18, \"minimum\": 31.697678043210516, \"maximum\": 349.418868323669, \"qp_lower\": -1.0, \"qp_upper\": 0.323352538697809}, {\"x1\": 14.5, \"x2\": 120.0, \"name\": \"A.0_ID flood wave shape\", \"id\": 19, \"minimum\": 0.0, \"maximum\": 132.0, \"qp_lower\": 0.12014842926120982, \"qp_upper\": 0.11296525352859034}, {\"x1\": 43.73109817093203, \"x2\": 348.1535741801533, \"name\": \"A.1_Bmax\", \"id\": 19, \"minimum\": 32.26192443797079, \"maximum\": 348.1535741801533, \"qp_lower\": 0.15407363774713073, \"qp_upper\": -1.0}, {\"x1\": 0.0074894957672339505, \"x2\": 0.43643067057906515, \"name\": \"A.1_pfail\", \"id\": 19, \"minimum\": 0.0074894957672339505, \"maximum\": 0.9934547568163274, \"qp_lower\": -1.0, \"qp_upper\": 4.897168821742514e-23}, {\"x1\": 49.67487443052266, \"x2\": 347.3021878845161, \"name\": \"A.2_Bmax\", \"id\": 19, \"minimum\": 32.00136794728495, \"maximum\": 347.3021878845161, \"qp_lower\": 0.526159079758853, \"qp_upper\": -1.0}, {\"x1\": 31.697678043210516, \"x2\": 323.8382800733558, \"name\": \"A.4_Bmax\", \"id\": 19, \"minimum\": 31.697678043210516, \"maximum\": 349.418868323669, \"qp_lower\": -1.0, \"qp_upper\": 0.31058776238308056}, {\"x1\": 19.5, \"x2\": 120.0, \"name\": \"A.0_ID flood wave shape\", \"id\": 20, \"minimum\": 0.0, \"maximum\": 132.0, \"qp_lower\": 0.03507862059767643, \"qp_upper\": 0.09299206831159405}, {\"x1\": 43.73109817093203, \"x2\": 348.1535741801533, \"name\": \"A.1_Bmax\", \"id\": 20, \"minimum\": 32.26192443797079, \"maximum\": 348.1535741801533, \"qp_lower\": 0.13718279142546505, \"qp_upper\": -1.0}, {\"x1\": 0.0074894957672339505, \"x2\": 0.43643067057906515, \"name\": \"A.1_pfail\", \"id\": 20, \"minimum\": 0.0074894957672339505, \"maximum\": 0.9934547568163274, \"qp_lower\": -1.0, \"qp_upper\": 8.78635797235515e-24}, {\"x1\": 49.67487443052266, \"x2\": 347.3021878845161, \"name\": \"A.2_Bmax\", \"id\": 20, \"minimum\": 32.00136794728495, \"maximum\": 347.3021878845161, \"qp_lower\": 0.5275669537186396, \"qp_upper\": -1.0}, {\"x1\": 31.697678043210516, \"x2\": 323.8382800733558, \"name\": \"A.4_Bmax\", \"id\": 20, \"minimum\": 31.697678043210516, \"maximum\": 349.418868323669, \"qp_lower\": -1.0, \"qp_upper\": 0.29720926210980847}, {\"x1\": 19.5, \"x2\": 120.0, \"name\": \"A.0_ID flood wave shape\", \"id\": 21, \"minimum\": 0.0, \"maximum\": 132.0, \"qp_lower\": 0.020034970774135564, \"qp_upper\": 0.062228034011395546}, {\"x1\": 43.73109817093203, \"x2\": 348.1535741801533, \"name\": \"A.1_Bmax\", \"id\": 21, \"minimum\": 32.26192443797079, \"maximum\": 348.1535741801533, \"qp_lower\": 0.1033126879681914, \"qp_upper\": -1.0}, {\"x1\": 0.0074894957672339505, \"x2\": 0.43643067057906515, \"name\": \"A.1_pfail\", \"id\": 21, \"minimum\": 0.0074894957672339505, \"maximum\": 0.9934547568163274, \"qp_lower\": -1.0, \"qp_upper\": 5.822280037054622e-25}, {\"x1\": 49.67487443052266, \"x2\": 347.3021878845161, \"name\": \"A.2_Bmax\", \"id\": 21, \"minimum\": 32.00136794728495, \"maximum\": 347.3021878845161, \"qp_lower\": 0.4954886039076515, \"qp_upper\": -1.0}, {\"x1\": 49.937267302896494, \"x2\": 348.0977609004267, \"name\": \"A.3_Bmax\", \"id\": 21, \"minimum\": 32.14839942170975, \"maximum\": 348.0977609004267, \"qp_lower\": 0.22193908119371494, \"qp_upper\": -1.0}, {\"x1\": 31.697678043210516, \"x2\": 323.8382800733558, \"name\": \"A.4_Bmax\", \"id\": 21, \"minimum\": 31.697678043210516, \"maximum\": 349.418868323669, \"qp_lower\": -1.0, \"qp_upper\": 0.2541300185489954}, {\"x1\": 19.5, \"x2\": 120.0, \"name\": \"A.0_ID flood wave shape\", \"id\": 22, \"minimum\": 0.0, \"maximum\": 132.0, \"qp_lower\": 0.050694359628816, \"qp_upper\": 0.050694359628816}, {\"x1\": 43.73109817093203, \"x2\": 348.1535741801533, \"name\": \"A.1_Bmax\", \"id\": 22, \"minimum\": 32.26192443797079, \"maximum\": 348.1535741801533, \"qp_lower\": 0.09651225257321464, \"qp_upper\": -1.0}, {\"x1\": 0.0074894957672339505, \"x2\": 0.43643067057906515, \"name\": \"A.1_pfail\", \"id\": 22, \"minimum\": 0.0074894957672339505, \"maximum\": 0.9934547568163274, \"qp_lower\": -1.0, \"qp_upper\": 2.2724650181554998e-24}, {\"x1\": 49.67487443052266, \"x2\": 347.3021878845161, \"name\": \"A.2_Bmax\", \"id\": 22, \"minimum\": 32.00136794728495, \"maximum\": 347.3021878845161, \"qp_lower\": 0.5315457655517528, \"qp_upper\": -1.0}, {\"x1\": 49.937267302896494, \"x2\": 348.0977609004267, \"name\": \"A.3_Bmax\", \"id\": 22, \"minimum\": 32.14839942170975, \"maximum\": 348.0977609004267, \"qp_lower\": 0.2604856178983688, \"qp_upper\": -1.0}, {\"x1\": 31.697678043210516, \"x2\": 323.8382800733558, \"name\": \"A.4_Bmax\", \"id\": 22, \"minimum\": 31.697678043210516, \"maximum\": 349.418868323669, \"qp_lower\": -1.0, \"qp_upper\": 0.2604856178983688}, {\"x1\": 0.009594100420409632, \"x2\": 0.8777564169004155, \"name\": \"A.5_pfail\", \"id\": 22, \"minimum\": 0.009594100420409632, \"maximum\": 0.9919336064517679, \"qp_lower\": -1.0, \"qp_upper\": 0.1807416571009104}, {\"x1\": 19.5, \"x2\": 120.0, \"name\": \"A.0_ID flood wave shape\", \"id\": 23, \"minimum\": 0.0, \"maximum\": 132.0, \"qp_lower\": 0.03657578759515367, \"qp_upper\": 0.03657578759515367}, {\"x1\": 43.73109817093203, \"x2\": 348.1535741801533, \"name\": \"A.1_Bmax\", \"id\": 23, \"minimum\": 32.26192443797079, \"maximum\": 348.1535741801533, \"qp_lower\": 0.07944088364047164, \"qp_upper\": -1.0}, {\"x1\": 0.0074894957672339505, \"x2\": 0.43643067057906515, \"name\": \"A.1_pfail\", \"id\": 23, \"minimum\": 0.0074894957672339505, \"maximum\": 0.9934547568163274, \"qp_lower\": -1.0, \"qp_upper\": 1.334224127403121e-21}, {\"x1\": 49.67487443052266, \"x2\": 347.3021878845161, \"name\": \"A.2_Bmax\", \"id\": 23, \"minimum\": 32.00136794728495, \"maximum\": 347.3021878845161, \"qp_lower\": 0.5337981216395178, \"qp_upper\": -1.0}, {\"x1\": 49.937267302896494, \"x2\": 348.0977609004267, \"name\": \"A.3_Bmax\", \"id\": 23, \"minimum\": 32.14839942170975, \"maximum\": 348.0977609004267, \"qp_lower\": 0.2422354350342182, \"qp_upper\": -1.0}, {\"x1\": 31.697678043210516, \"x2\": 323.8382800733558, \"name\": \"A.4_Bmax\", \"id\": 23, \"minimum\": 31.697678043210516, \"maximum\": 349.418868323669, \"qp_lower\": -1.0, \"qp_upper\": 0.2422354350342182}, {\"x1\": 0.007924842229545169, \"x2\": 0.9167313337084948, \"name\": \"A.4_pfail\", \"id\": 23, \"minimum\": 0.007924842229545169, \"maximum\": 0.9923496947401804, \"qp_lower\": -1.0, \"qp_upper\": 0.27640777419258367}, {\"x1\": 0.009594100420409632, \"x2\": 0.8777564169004155, \"name\": \"A.5_pfail\", \"id\": 23, \"minimum\": 0.009594100420409632, \"maximum\": 0.9919336064517679, \"qp_lower\": -1.0, \"qp_upper\": 0.15781471737069908}, {\"x1\": 19.5, \"x2\": 120.0, \"name\": \"A.0_ID flood wave shape\", \"id\": 24, \"minimum\": 0.0, \"maximum\": 132.0, \"qp_lower\": 0.023757704421338986, \"qp_upper\": 0.044212176323301086}, {\"x1\": 43.73109817093203, \"x2\": 348.1535741801533, \"name\": \"A.1_Bmax\", \"id\": 24, \"minimum\": 32.26192443797079, \"maximum\": 348.1535741801533, \"qp_lower\": 0.06153800246447401, \"qp_upper\": -1.0}, {\"x1\": 0.0074894957672339505, \"x2\": 0.43643067057906515, \"name\": \"A.1_pfail\", \"id\": 24, \"minimum\": 0.0074894957672339505, \"maximum\": 0.9934547568163274, \"qp_lower\": -1.0, \"qp_upper\": 3.317688860862165e-23}, {\"x1\": 49.67487443052266, \"x2\": 347.3021878845161, \"name\": \"A.2_Bmax\", \"id\": 24, \"minimum\": 32.00136794728495, \"maximum\": 347.3021878845161, \"qp_lower\": 0.5366538208855611, \"qp_upper\": -1.0}, {\"x1\": 0.007768943164306178, \"x2\": 0.9326128733988508, \"name\": \"A.2_pfail\", \"id\": 24, \"minimum\": 0.007768943164306178, \"maximum\": 0.9921532085262069, \"qp_lower\": -1.0, \"qp_upper\": 0.24601436448334682}, {\"x1\": 49.937267302896494, \"x2\": 348.0977609004267, \"name\": \"A.3_Bmax\", \"id\": 24, \"minimum\": 32.14839942170975, \"maximum\": 348.0977609004267, \"qp_lower\": 0.22025913074637027, \"qp_upper\": -1.0}, {\"x1\": 31.697678043210516, \"x2\": 323.8382800733558, \"name\": \"A.4_Bmax\", \"id\": 24, \"minimum\": 31.697678043210516, \"maximum\": 349.418868323669, \"qp_lower\": -1.0, \"qp_upper\": 0.22025913074637027}, {\"x1\": 0.007924842229545169, \"x2\": 0.9167313337084948, \"name\": \"A.4_pfail\", \"id\": 24, \"minimum\": 0.007924842229545169, \"maximum\": 0.9923496947401804, \"qp_lower\": -1.0, \"qp_upper\": 0.3756715641550507}, {\"x1\": 0.009594100420409632, \"x2\": 0.8777564169004155, \"name\": \"A.5_pfail\", \"id\": 24, \"minimum\": 0.009594100420409632, \"maximum\": 0.9919336064517679, \"qp_lower\": -1.0, \"qp_upper\": 0.13186925634291963}, {\"x1\": 19.5, \"x2\": 120.0, \"name\": \"A.0_ID flood wave shape\", \"id\": 25, \"minimum\": 0.0, \"maximum\": 132.0, \"qp_lower\": 0.014383610399409722, \"qp_upper\": 0.030079018932575027}, {\"x1\": 43.73109817093203, \"x2\": 348.1535741801533, \"name\": \"A.1_Bmax\", \"id\": 25, \"minimum\": 32.26192443797079, \"maximum\": 348.1535741801533, \"qp_lower\": 0.04551573743229539, \"qp_upper\": -1.0}, {\"x1\": 0.0074894957672339505, \"x2\": 0.43643067057906515, \"name\": \"A.1_pfail\", \"id\": 25, \"minimum\": 0.0074894957672339505, \"maximum\": 0.9934547568163274, \"qp_lower\": -1.0, \"qp_upper\": 7.982093753618336e-24}, {\"x1\": 49.67487443052266, \"x2\": 333.83923746604125, \"name\": \"A.2_Bmax\", \"id\": 25, \"minimum\": 32.00136794728495, \"maximum\": 347.3021878845161, \"qp_lower\": 0.540016685180165, \"qp_upper\": 0.2618894937705037}, {\"x1\": 0.007768943164306178, \"x2\": 0.9326128733988508, \"name\": \"A.2_pfail\", \"id\": 25, \"minimum\": 0.007768943164306178, \"maximum\": 0.9921532085262069, \"qp_lower\": -1.0, \"qp_upper\": 0.2145422394818854}, {\"x1\": 49.937267302896494, \"x2\": 348.0977609004267, \"name\": \"A.3_Bmax\", \"id\": 25, \"minimum\": 32.14839942170975, \"maximum\": 348.0977609004267, \"qp_lower\": 0.19679053743490815, \"qp_upper\": -1.0}, {\"x1\": 31.697678043210516, \"x2\": 323.8382800733558, \"name\": \"A.4_Bmax\", \"id\": 25, \"minimum\": 31.697678043210516, \"maximum\": 349.418868323669, \"qp_lower\": -1.0, \"qp_upper\": 0.19679053743490815}, {\"x1\": 0.007924842229545169, \"x2\": 0.9167313337084948, \"name\": \"A.4_pfail\", \"id\": 25, \"minimum\": 0.007924842229545169, \"maximum\": 0.9923496947401804, \"qp_lower\": -1.0, \"qp_upper\": 0.3555937190954677}, {\"x1\": 0.009594100420409632, \"x2\": 0.8777564169004155, \"name\": \"A.5_pfail\", \"id\": 25, \"minimum\": 0.009594100420409632, \"maximum\": 0.9919336064517679, \"qp_lower\": -1.0, \"qp_upper\": 0.10667519723447196}, {\"x1\": 19.5, \"x2\": 120.0, \"name\": \"A.0_ID flood wave shape\", \"id\": 26, \"minimum\": 0.0, \"maximum\": 132.0, \"qp_lower\": 0.008063274582919304, \"qp_upper\": 0.11004016021872987}, {\"x1\": 43.73109817093203, \"x2\": 348.1535741801533, \"name\": \"A.1_Bmax\", \"id\": 26, \"minimum\": 32.26192443797079, \"maximum\": 348.1535741801533, \"qp_lower\": 0.0318900677771021, \"qp_upper\": -1.0}, {\"x1\": 0.0074894957672339505, \"x2\": 0.43643067057906515, \"name\": \"A.1_pfail\", \"id\": 26, \"minimum\": 0.0074894957672339505, \"maximum\": 0.9934547568163274, \"qp_lower\": -1.0, \"qp_upper\": 2.6119600023326382e-20}, {\"x1\": 49.67487443052266, \"x2\": 333.83923746604125, \"name\": \"A.2_Bmax\", \"id\": 26, \"minimum\": 32.00136794728495, \"maximum\": 347.3021878845161, \"qp_lower\": 0.5439981924223076, \"qp_upper\": 0.22872508532205038}, {\"x1\": 0.007768943164306178, \"x2\": 0.7936306465727141, \"name\": \"A.2_pfail\", \"id\": 26, \"minimum\": 0.007768943164306178, \"maximum\": 0.9921532085262069, \"qp_lower\": -1.0, \"qp_upper\": 0.0779263716237002}, {\"x1\": 49.937267302896494, \"x2\": 348.0977609004267, \"name\": \"A.3_Bmax\", \"id\": 26, \"minimum\": 32.14839942170975, \"maximum\": 348.0977609004267, \"qp_lower\": 0.17210578120413708, \"qp_upper\": -1.0}, {\"x1\": 31.697678043210516, \"x2\": 323.8382800733558, \"name\": \"A.4_Bmax\", \"id\": 26, \"minimum\": 31.697678043210516, \"maximum\": 349.418868323669, \"qp_lower\": -1.0, \"qp_upper\": 0.17210578120413708}, {\"x1\": 0.007924842229545169, \"x2\": 0.9167313337084948, \"name\": \"A.4_pfail\", \"id\": 26, \"minimum\": 0.007924842229545169, \"maximum\": 0.9923496947401804, \"qp_lower\": -1.0, \"qp_upper\": 0.33345871563976287}, {\"x1\": 0.009594100420409632, \"x2\": 0.8777564169004155, \"name\": \"A.5_pfail\", \"id\": 26, \"minimum\": 0.009594100420409632, \"maximum\": 0.9919336064517679, \"qp_lower\": -1.0, \"qp_upper\": 0.33345871563976287}, {\"x1\": 19.5, \"x2\": 120.0, \"name\": \"A.0_ID flood wave shape\", \"id\": 27, \"minimum\": 0.0, \"maximum\": 132.0, \"qp_lower\": 0.04155932892113878, \"qp_upper\": 0.1578271860540499}, {\"x1\": 43.73109817093203, \"x2\": 316.9811222055006, \"name\": \"A.1_Bmax\", \"id\": 27, \"minimum\": 32.26192443797079, \"maximum\": 348.1535741801533, \"qp_lower\": 0.02538553849583016, \"qp_upper\": 0.3874026804486373}, {\"x1\": 0.0074894957672339505, \"x2\": 0.43643067057906515, \"name\": \"A.1_pfail\", \"id\": 27, \"minimum\": 0.0074894957672339505, \"maximum\": 0.9934547568163274, \"qp_lower\": -1.0, \"qp_upper\": 4.49419476511568e-21}, {\"x1\": 49.67487443052266, \"x2\": 333.83923746604125, \"name\": \"A.2_Bmax\", \"id\": 27, \"minimum\": 32.00136794728495, \"maximum\": 347.3021878845161, \"qp_lower\": 0.5465108191288194, \"qp_upper\": 0.20918330386839867}, {\"x1\": 0.007768943164306178, \"x2\": 0.7936306465727141, \"name\": \"A.2_pfail\", \"id\": 27, \"minimum\": 0.007768943164306178, \"maximum\": 0.9921532085262069, \"qp_lower\": -1.0, \"qp_upper\": 0.07710772026995948}, {\"x1\": 49.937267302896494, \"x2\": 348.0977609004267, \"name\": \"A.3_Bmax\", \"id\": 27, \"minimum\": 32.14839942170975, \"maximum\": 348.0977609004267, \"qp_lower\": 0.1578271860540499, \"qp_upper\": -1.0}, {\"x1\": 31.697678043210516, \"x2\": 323.8382800733558, \"name\": \"A.4_Bmax\", \"id\": 27, \"minimum\": 31.697678043210516, \"maximum\": 349.418868323669, \"qp_lower\": -1.0, \"qp_upper\": 0.1578271860540499}, {\"x1\": 0.007924842229545169, \"x2\": 0.9167313337084948, \"name\": \"A.4_pfail\", \"id\": 27, \"minimum\": 0.007924842229545169, \"maximum\": 0.9923496947401804, \"qp_lower\": -1.0, \"qp_upper\": 0.31973009168828703}, {\"x1\": 0.009594100420409632, \"x2\": 0.8777564169004155, \"name\": \"A.5_pfail\", \"id\": 27, \"minimum\": 0.009594100420409632, \"maximum\": 0.9919336064517679, \"qp_lower\": -1.0, \"qp_upper\": 0.5465108191288194}, {\"x1\": 19.5, \"x2\": 120.0, \"name\": \"A.0_ID flood wave shape\", \"id\": 28, \"minimum\": 0.0, \"maximum\": 132.0, \"qp_lower\": 0.022479197338033843, \"qp_upper\": 0.12166148831762436}, {\"x1\": 43.73109817093203, \"x2\": 316.9811222055006, \"name\": \"A.1_Bmax\", \"id\": 28, \"minimum\": 32.26192443797079, \"maximum\": 348.1535741801533, \"qp_lower\": 0.12166148831762436, \"qp_upper\": 0.35630244913960135}, {\"x1\": 0.0074894957672339505, \"x2\": 0.43643067057906515, \"name\": \"A.1_pfail\", \"id\": 28, \"minimum\": 0.0074894957672339505, \"maximum\": 0.9934547568163274, \"qp_lower\": -1.0, \"qp_upper\": 4.519825321229495e-18}, {\"x1\": 49.67487443052266, \"x2\": 333.83923746604125, \"name\": \"A.2_Bmax\", \"id\": 28, \"minimum\": 32.00136794728495, \"maximum\": 347.3021878845161, \"qp_lower\": 0.55433830712032, \"qp_upper\": 0.1627775783331087}, {\"x1\": 0.007768943164306178, \"x2\": 0.7936306465727141, \"name\": \"A.2_pfail\", \"id\": 28, \"minimum\": 0.007768943164306178, \"maximum\": 0.9921532085262069, \"qp_lower\": -1.0, \"qp_upper\": 0.044160683913926406}, {\"x1\": 49.937267302896494, \"x2\": 348.0977609004267, \"name\": \"A.3_Bmax\", \"id\": 28, \"minimum\": 32.14839942170975, \"maximum\": 348.0977609004267, \"qp_lower\": 0.12166148831762436, \"qp_upper\": -1.0}, {\"x1\": 31.697678043210516, \"x2\": 323.8382800733558, \"name\": \"A.4_Bmax\", \"id\": 28, \"minimum\": 31.697678043210516, \"maximum\": 349.418868323669, \"qp_lower\": -1.0, \"qp_upper\": 0.12166148831762436}, {\"x1\": 0.007924842229545169, \"x2\": 0.9167313337084948, \"name\": \"A.4_pfail\", \"id\": 28, \"minimum\": 0.007924842229545169, \"maximum\": 0.9923496947401804, \"qp_lower\": -1.0, \"qp_upper\": 0.28346025855637313}, {\"x1\": 0.009594100420409632, \"x2\": 0.8777564169004155, \"name\": \"A.5_pfail\", \"id\": 28, \"minimum\": 0.009594100420409632, \"maximum\": 0.9919336064517679, \"qp_lower\": -1.0, \"qp_upper\": 0.55433830712032}, {\"x1\": 19.5, \"x2\": 109.5, \"name\": \"A.0_ID flood wave shape\", \"id\": 29, \"minimum\": 0.0, \"maximum\": 132.0, \"qp_lower\": 0.01681088585072959, \"qp_upper\": 0.07491542498876436}, {\"x1\": 43.73109817093203, \"x2\": 316.9811222055006, \"name\": \"A.1_Bmax\", \"id\": 29, \"minimum\": 32.26192443797079, \"maximum\": 348.1535741801533, \"qp_lower\": 0.10744818748082345, \"qp_upper\": 0.3418159479560568}, {\"x1\": 0.0074894957672339505, \"x2\": 0.43643067057906515, \"name\": \"A.1_pfail\", \"id\": 29, \"minimum\": 0.0074894957672339505, \"maximum\": 0.9934547568163274, \"qp_lower\": -1.0, \"qp_upper\": 4.1827893760689145e-16}, {\"x1\": 49.67487443052266, \"x2\": 333.83923746604125, \"name\": \"A.2_Bmax\", \"id\": 29, \"minimum\": 32.00136794728495, \"maximum\": 347.3021878845161, \"qp_lower\": 0.5579977787267285, \"qp_upper\": 0.14393629556491902}, {\"x1\": 0.007768943164306178, \"x2\": 0.7936306465727141, \"name\": \"A.2_pfail\", \"id\": 29, \"minimum\": 0.007768943164306178, \"maximum\": 0.9921532085262069, \"qp_lower\": -1.0, \"qp_upper\": 0.03533841101152545}, {\"x1\": 49.937267302896494, \"x2\": 348.0977609004267, \"name\": \"A.3_Bmax\", \"id\": 29, \"minimum\": 32.14839942170975, \"maximum\": 348.0977609004267, \"qp_lower\": 0.10744818748082345, \"qp_upper\": -1.0}, {\"x1\": 31.697678043210516, \"x2\": 323.8382800733558, \"name\": \"A.4_Bmax\", \"id\": 29, \"minimum\": 31.697678043210516, \"maximum\": 349.418868323669, \"qp_lower\": -1.0, \"qp_upper\": 0.10744818748082345}, {\"x1\": 0.007924842229545169, \"x2\": 0.9167313337084948, \"name\": \"A.4_pfail\", \"id\": 29, \"minimum\": 0.007924842229545169, \"maximum\": 0.9923496947401804, \"qp_lower\": -1.0, \"qp_upper\": 0.2672364691731117}, {\"x1\": 0.009594100420409632, \"x2\": 0.8777564169004155, \"name\": \"A.5_pfail\", \"id\": 29, \"minimum\": 0.009594100420409632, \"maximum\": 0.9919336064517679, \"qp_lower\": -1.0, \"qp_upper\": 0.5579977787267285}, {\"x1\": 19.5, \"x2\": 109.5, \"name\": \"A.0_ID flood wave shape\", \"id\": 30, \"minimum\": 0.0, \"maximum\": 132.0, \"qp_lower\": 0.010641093892192153, \"qp_upper\": 0.3653394830642753}, {\"x1\": 43.73109817093203, \"x2\": 316.9811222055006, \"name\": \"A.1_Bmax\", \"id\": 30, \"minimum\": 32.26192443797079, \"maximum\": 348.1535741801533, \"qp_lower\": 0.05309689317959905, \"qp_upper\": 0.5794845314415771}, {\"x1\": 0.0074894957672339505, \"x2\": 0.43643067057906515, \"name\": \"A.1_pfail\", \"id\": 30, \"minimum\": 0.0074894957672339505, \"maximum\": 0.9934547568163274, \"qp_lower\": -1.0, \"qp_upper\": 8.396770884428216e-13}, {\"x1\": 49.67487443052266, \"x2\": 333.83923746604125, \"name\": \"A.2_Bmax\", \"id\": 30, \"minimum\": 32.00136794728495, \"maximum\": 347.3021878845161, \"qp_lower\": 0.5794845314415771, \"qp_upper\": 0.19042001233461625}, {\"x1\": 0.007768943164306178, \"x2\": 0.7936306465727141, \"name\": \"A.2_pfail\", \"id\": 30, \"minimum\": 0.007768943164306178, \"maximum\": 0.9921532085262069, \"qp_lower\": -1.0, \"qp_upper\": 0.19042001233461625}, {\"x1\": 49.937267302896494, \"x2\": 348.0977609004267, \"name\": \"A.3_Bmax\", \"id\": 30, \"minimum\": 32.14839942170975, \"maximum\": 348.0977609004267, \"qp_lower\": 0.5794845314415771, \"qp_upper\": -1.0}, {\"x1\": 31.697678043210516, \"x2\": 323.8382800733558, \"name\": \"A.4_Bmax\", \"id\": 30, \"minimum\": 31.697678043210516, \"maximum\": 349.418868323669, \"qp_lower\": -1.0, \"qp_upper\": 0.05309689317959905}, {\"x1\": 0.007924842229545169, \"x2\": 0.9167313337084948, \"name\": \"A.4_pfail\", \"id\": 30, \"minimum\": 0.007924842229545169, \"maximum\": 0.9923496947401804, \"qp_lower\": -1.0, \"qp_upper\": 0.19042001233461625}, {\"x1\": 0.009594100420409632, \"x2\": 0.8777564169004155, \"name\": \"A.5_pfail\", \"id\": 30, \"minimum\": 0.009594100420409632, \"maximum\": 0.9919336064517679, \"qp_lower\": -1.0, \"qp_upper\": 0.5794845314415771}, {\"x1\": 19.5, \"x2\": 109.5, \"name\": \"A.0_ID flood wave shape\", \"id\": 31, \"minimum\": 0.0, \"maximum\": 132.0, \"qp_lower\": 0.005235265668309818, \"qp_upper\": 0.3278850353411681}, {\"x1\": 43.73109817093203, \"x2\": 316.9811222055006, \"name\": \"A.1_Bmax\", \"id\": 31, \"minimum\": 32.26192443797079, \"maximum\": 348.1535741801533, \"qp_lower\": 0.03469844070898954, \"qp_upper\": 0.5927087587468908}, {\"x1\": 0.0074894957672339505, \"x2\": 0.43643067057906515, \"name\": \"A.1_pfail\", \"id\": 31, \"minimum\": 0.0074894957672339505, \"maximum\": 0.9934547568163274, \"qp_lower\": -1.0, \"qp_upper\": 2.8827596522596655e-12}, {\"x1\": 49.67487443052266, \"x2\": 333.83923746604125, \"name\": \"A.2_Bmax\", \"id\": 31, \"minimum\": 32.00136794728495, \"maximum\": 347.3021878845161, \"qp_lower\": 0.5927087587468908, \"qp_upper\": 0.15245446585370384}, {\"x1\": 0.007768943164306178, \"x2\": 0.7936306465727141, \"name\": \"A.2_pfail\", \"id\": 31, \"minimum\": 0.007768943164306178, \"maximum\": 0.9921532085262069, \"qp_lower\": -1.0, \"qp_upper\": 0.15245446585370384}, {\"x1\": 49.937267302896494, \"x2\": 334.65012082607495, \"name\": \"A.3_Bmax\", \"id\": 31, \"minimum\": 32.14839942170975, \"maximum\": 348.0977609004267, \"qp_lower\": 0.5927087587468908, \"qp_upper\": 0.3278850353411681}, {\"x1\": 31.697678043210516, \"x2\": 323.8382800733558, \"name\": \"A.4_Bmax\", \"id\": 31, \"minimum\": 31.697678043210516, \"maximum\": 349.418868323669, \"qp_lower\": -1.0, \"qp_upper\": 0.03469844070898954}, {\"x1\": 0.007924842229545169, \"x2\": 0.9167313337084948, \"name\": \"A.4_pfail\", \"id\": 31, \"minimum\": 0.007924842229545169, \"maximum\": 0.9923496947401804, \"qp_lower\": -1.0, \"qp_upper\": 0.15245446585370384}, {\"x1\": 0.009594100420409632, \"x2\": 0.8777564169004155, \"name\": \"A.5_pfail\", \"id\": 31, \"minimum\": 0.009594100420409632, \"maximum\": 0.9919336064517679, \"qp_lower\": -1.0, \"qp_upper\": 0.5927087587468908}, {\"x1\": 29.5, \"x2\": 109.5, \"name\": \"A.0_ID flood wave shape\", \"id\": 32, \"minimum\": 0.0, \"maximum\": 132.0, \"qp_lower\": 0.0026888916479144063, \"qp_upper\": 0.2969792583265342}, {\"x1\": 43.73109817093203, \"x2\": 316.9811222055006, \"name\": \"A.1_Bmax\", \"id\": 32, \"minimum\": 32.26192443797079, \"maximum\": 348.1535741801533, \"qp_lower\": 0.02341417308676301, \"qp_upper\": 0.6064325160284987}, {\"x1\": 0.0074894957672339505, \"x2\": 0.43643067057906515, \"name\": \"A.1_pfail\", \"id\": 32, \"minimum\": 0.0074894957672339505, \"maximum\": 0.9934547568163274, \"qp_lower\": -1.0, \"qp_upper\": 2.800650261474572e-11}, {\"x1\": 49.67487443052266, \"x2\": 333.83923746604125, \"name\": \"A.2_Bmax\", \"id\": 32, \"minimum\": 32.00136794728495, \"maximum\": 347.3021878845161, \"qp_lower\": 0.6064325160284987, \"qp_upper\": 0.12389925648073732}, {\"x1\": 0.007768943164306178, \"x2\": 0.7936306465727141, \"name\": \"A.2_pfail\", \"id\": 32, \"minimum\": 0.007768943164306178, \"maximum\": 0.9921532085262069, \"qp_lower\": -1.0, \"qp_upper\": 0.12389925648073732}, {\"x1\": 49.937267302896494, \"x2\": 334.65012082607495, \"name\": \"A.3_Bmax\", \"id\": 32, \"minimum\": 32.14839942170975, \"maximum\": 348.0977609004267, \"qp_lower\": 0.6064325160284987, \"qp_upper\": 0.2969792583265342}, {\"x1\": 31.697678043210516, \"x2\": 323.8382800733558, \"name\": \"A.4_Bmax\", \"id\": 32, \"minimum\": 31.697678043210516, \"maximum\": 349.418868323669, \"qp_lower\": -1.0, \"qp_upper\": 0.02341417308676301}, {\"x1\": 0.007924842229545169, \"x2\": 0.9167313337084948, \"name\": \"A.4_pfail\", \"id\": 32, \"minimum\": 0.007924842229545169, \"maximum\": 0.9923496947401804, \"qp_lower\": -1.0, \"qp_upper\": 0.12389925648073732}, {\"x1\": 0.009594100420409632, \"x2\": 0.8777564169004155, \"name\": \"A.5_pfail\", \"id\": 32, \"minimum\": 0.009594100420409632, \"maximum\": 0.9919336064517679, \"qp_lower\": -1.0, \"qp_upper\": 0.6064325160284987}, {\"x1\": 29.5, \"x2\": 109.5, \"name\": \"A.0_ID flood wave shape\", \"id\": 33, \"minimum\": 0.0, \"maximum\": 132.0, \"qp_lower\": 0.38749858317032154, \"qp_upper\": 0.25291949837667715}, {\"x1\": 130.0955560075936, \"x2\": 316.9811222055006, \"name\": \"A.1_Bmax\", \"id\": 33, \"minimum\": 32.26192443797079, \"maximum\": 348.1535741801533, \"qp_lower\": 0.009596836752044454, \"qp_upper\": 0.6289263561011289}, {\"x1\": 0.0074894957672339505, \"x2\": 0.43643067057906515, \"name\": \"A.1_pfail\", \"id\": 33, \"minimum\": 0.0074894957672339505, \"maximum\": 0.9934547568163274, \"qp_lower\": -1.0, \"qp_upper\": 2.5312816962711184e-10}, {\"x1\": 49.67487443052266, \"x2\": 333.83923746604125, \"name\": \"A.2_Bmax\", \"id\": 33, \"minimum\": 32.00136794728495, \"maximum\": 347.3021878845161, \"qp_lower\": 0.6289263561011289, \"qp_upper\": 0.6289263561011289}, {\"x1\": 0.007768943164306178, \"x2\": 0.7936306465727141, \"name\": \"A.2_pfail\", \"id\": 33, \"minimum\": 0.007768943164306178, \"maximum\": 0.9921532085262069, \"qp_lower\": -1.0, \"qp_upper\": 0.08993413043482754}, {\"x1\": 49.937267302896494, \"x2\": 334.65012082607495, \"name\": \"A.3_Bmax\", \"id\": 33, \"minimum\": 32.14839942170975, \"maximum\": 348.0977609004267, \"qp_lower\": 0.6289263561011289, \"qp_upper\": 0.25291949837667715}, {\"x1\": 31.697678043210516, \"x2\": 323.8382800733558, \"name\": \"A.4_Bmax\", \"id\": 33, \"minimum\": 31.697678043210516, \"maximum\": 349.418868323669, \"qp_lower\": -1.0, \"qp_upper\": 0.013178186500654955}, {\"x1\": 0.007924842229545169, \"x2\": 0.9167313337084948, \"name\": \"A.4_pfail\", \"id\": 33, \"minimum\": 0.007924842229545169, \"maximum\": 0.9923496947401804, \"qp_lower\": -1.0, \"qp_upper\": 0.08993413043482754}, {\"x1\": 0.009594100420409632, \"x2\": 0.8777564169004155, \"name\": \"A.5_pfail\", \"id\": 33, \"minimum\": 0.009594100420409632, \"maximum\": 0.9919336064517679, \"qp_lower\": -1.0, \"qp_upper\": 0.6289263561011289}], \"data-bb8d07f6df3d47a6a475317795287b23\": [{\"start\": 0, \"end\": 1}], \"data-bcaf610a8c6863191ea3cbe2b8f6f8d4\": [{\"name\": \"discount rate 1,  0.26\", \"n_items\": 4, \"item\": 1.5, \"id\": 28, \"x\": 0.0}, {\"name\": \"discount rate 1,  0.26\", \"n_items\": 4, \"item\": 2.5, \"id\": 28, \"x\": 0.3333333333333333}, {\"name\": \"discount rate 1,  0.26\", \"n_items\": 4, \"item\": 3.5, \"id\": 28, \"x\": 0.6666666666666666}, {\"name\": \"discount rate 1,  0.24\", \"n_items\": 4, \"item\": 1.5, \"id\": 29, \"x\": 0.0}, {\"name\": \"discount rate 1,  0.24\", \"n_items\": 4, \"item\": 2.5, \"id\": 29, \"x\": 0.3333333333333333}, {\"name\": \"discount rate 1,  0.24\", \"n_items\": 4, \"item\": 3.5, \"id\": 29, \"x\": 0.6666666666666666}, {\"name\": \"A.3_Brate,  0.16\", \"n_items\": 3, \"item\": 1.0, \"id\": 30, \"x\": 0.0}, {\"name\": \"A.3_Brate,  0.16\", \"n_items\": 3, \"item\": 10.0, \"id\": 30, \"x\": 0.5}, {\"name\": \"discount rate 1,  0.11\", \"n_items\": 4, \"item\": 1.5, \"id\": 30, \"x\": 0.0}, {\"name\": \"discount rate 1,  0.11\", \"n_items\": 4, \"item\": 2.5, \"id\": 30, \"x\": 0.3333333333333333}, {\"name\": \"discount rate 1,  0.11\", \"n_items\": 4, \"item\": 3.5, \"id\": 30, \"x\": 0.6666666666666666}, {\"name\": \"A.3_Brate,  0.13\", \"n_items\": 3, \"item\": 1.0, \"id\": 31, \"x\": 0.0}, {\"name\": \"A.3_Brate,  0.13\", \"n_items\": 3, \"item\": 10.0, \"id\": 31, \"x\": 0.5}, {\"name\": \"discount rate 1,  0.075\", \"n_items\": 4, \"item\": 1.5, \"id\": 31, \"x\": 0.0}, {\"name\": \"discount rate 1,  0.075\", \"n_items\": 4, \"item\": 2.5, \"id\": 31, \"x\": 0.3333333333333333}, {\"name\": \"discount rate 1,  0.075\", \"n_items\": 4, \"item\": 3.5, \"id\": 31, \"x\": 0.6666666666666666}, {\"name\": \"A.3_Brate,  0.14\", \"n_items\": 3, \"item\": 1.0, \"id\": 32, \"x\": 0.0}, {\"name\": \"A.3_Brate,  0.14\", \"n_items\": 3, \"item\": 10.0, \"id\": 32, \"x\": 0.5}, {\"name\": \"discount rate 1,  0.054\", \"n_items\": 4, \"item\": 1.5, \"id\": 32, \"x\": 0.0}, {\"name\": \"discount rate 1,  0.054\", \"n_items\": 4, \"item\": 2.5, \"id\": 32, \"x\": 0.3333333333333333}, {\"name\": \"discount rate 1,  0.054\", \"n_items\": 4, \"item\": 3.5, \"id\": 32, \"x\": 0.6666666666666666}, {\"name\": \"A.3_Brate,  0.09\", \"n_items\": 3, \"item\": 1.0, \"id\": 33, \"x\": 0.0}, {\"name\": \"A.3_Brate,  0.09\", \"n_items\": 3, \"item\": 10.0, \"id\": 33, \"x\": 0.5}, {\"name\": \"discount rate 1,  0.09\", \"n_items\": 4, \"item\": 1.5, \"id\": 33, \"x\": 0.0}, {\"name\": \"discount rate 1,  0.09\", \"n_items\": 4, \"item\": 2.5, \"id\": 33, \"x\": 0.3333333333333333}, {\"name\": \"discount rate 1,  0.09\", \"n_items\": 4, \"item\": 3.5, \"id\": 33, \"x\": 0.6666666666666666}]}}, {\"mode\": \"vega-lite\"});\n</script>",
      "text/plain": "alt.VConcatChart(...)"
     },
     "metadata": {},
     "execution_count": 55
    }
   ],
   "source": [
    "box.inspect_tradeoff()\n"
   ]
  },
  {
   "cell_type": "markdown",
   "metadata": {},
   "source": [
    "We select box 29, as it shows a good mixture between coverage and density"
   ]
  },
  {
   "cell_type": "code",
   "execution_count": 56,
   "metadata": {},
   "outputs": [
    {
     "output_type": "stream",
     "name": "stdout",
     "text": "coverage    0.532164\ndensity       0.8125\nid                29\nmass            0.14\nmean          0.8125\nres_dim           10\nName: 29, dtype: object\n\n                                  box 29                   \\\n                                     min              max   \nA.1_pfail                      0.0074895         0.436431   \nA.2_pfail                     0.00776894         0.793631   \nA.4_Bmax                         31.6977          323.838   \nA.4_pfail                     0.00792484         0.916731   \nA.5_pfail                      0.0095941         0.877756   \nA.0_ID flood wave shape             19.5            109.5   \nA.3_Bmax                         49.9373          348.098   \nA.1_Bmax                         43.7311          316.981   \ndiscount rate 1          {1.5, 2.5, 3.5}  {1.5, 2.5, 3.5}   \nA.2_Bmax                         49.6749          333.839   \n\n                                                                     \n                                                          qp values  \nA.1_pfail                            [-1.0, 4.1827893760689145e-16]  \nA.2_pfail                               [-1.0, 0.03533841101152545]  \nA.4_Bmax                                [-1.0, 0.10744818748082345]  \nA.4_pfail                                [-1.0, 0.2672364691731117]  \nA.5_pfail                                [-1.0, 0.5579977787267285]  \nA.0_ID flood wave shape  [0.01681088585072959, 0.07491542498876436]  \nA.3_Bmax                                [0.10744818748082345, -1.0]  \nA.1_Bmax                  [0.10744818748082345, 0.3418159479560568]  \ndiscount rate 1                         [0.23564213166165474, -1.0]  \nA.2_Bmax                  [0.5579977787267285, 0.14393629556491902]  \n\n"
    }
   ],
   "source": [
    "box.inspect(29)\n"
   ]
  },
  {
   "cell_type": "code",
   "execution_count": 58,
   "metadata": {},
   "outputs": [],
   "source": [
    "box.select(29)\n",
    "scens_in_box = experiments.iloc[box.yi]\n",
    "outcomes_in_box = {k:v[box.yi] for k,v in outcomes.items()}\n",
    "#Save results\n",
    "save_results((scens_in_box, outcomes_in_box), '../results/mordm_29_Gelderland.tar.gz')"
   ]
  },
  {
   "cell_type": "markdown",
   "metadata": {},
   "source": [
    "# Multi-Scenario MORDM\n",
    "Based on the results of scenario discovery, we now continue to select three of such scenarios based on the worst outcomes in terms of casualties, damages and total costs. We will take each of these scenarios as a reference scenario to run an optimization algorithm for the levers to choose. "
   ]
  },
  {
   "cell_type": "code",
   "execution_count": null,
   "metadata": {},
   "outputs": [],
   "source": []
  }
 ],
 "metadata": {
  "language_info": {
   "codemirror_mode": {
    "name": "ipython",
    "version": 3
   },
   "file_extension": ".py",
   "mimetype": "text/x-python",
   "name": "python",
   "nbconvert_exporter": "python",
   "pygments_lexer": "ipython3",
   "version": "3.7.7-final"
  },
  "orig_nbformat": 2,
  "kernelspec": {
   "name": "python3",
   "display_name": "Python 3"
  }
 },
 "nbformat": 4,
 "nbformat_minor": 2
}